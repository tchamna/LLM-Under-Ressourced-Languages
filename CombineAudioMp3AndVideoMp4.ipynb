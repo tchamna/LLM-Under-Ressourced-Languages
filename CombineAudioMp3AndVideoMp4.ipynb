{
  "cells": [
    {
      "cell_type": "markdown",
      "metadata": {
        "id": "view-in-github",
        "colab_type": "text"
      },
      "source": [
        "<a href=\"https://colab.research.google.com/github/tchamna/LLM-Under-Ressourced-Languages/blob/main/CombineAudioMp3AndVideoMp4.ipynb\" target=\"_parent\"><img src=\"https://colab.research.google.com/assets/colab-badge.svg\" alt=\"Open In Colab\"/></a>"
      ]
    },
    {
      "cell_type": "code",
      "execution_count": null,
      "metadata": {
        "colab": {
          "base_uri": "https://localhost:8080/"
        },
        "id": "sZKqG3wUSSKB",
        "outputId": "d589a3a0-bda7-413a-d885-4b8e719518f6"
      },
      "outputs": [
        {
          "output_type": "stream",
          "name": "stdout",
          "text": [
            "Looking in indexes: https://pypi.org/simple, https://us-python.pkg.dev/colab-wheels/public/simple/\n",
            "Collecting pydub\n",
            "  Downloading pydub-0.25.1-py2.py3-none-any.whl (32 kB)\n",
            "Installing collected packages: pydub\n",
            "Successfully installed pydub-0.25.1\n"
          ]
        }
      ],
      "source": [
        "pip install pydub"
      ]
    },
    {
      "cell_type": "code",
      "execution_count": null,
      "metadata": {
        "id": "ssh8uIeHq9YU"
      },
      "outputs": [],
      "source": [
        "audio_path = \"/content/drive/MyDrive/Resulam/Mbú'ŋwɑ̀'nì/Livres Nufi/AudioGuideConversationTrinlingueNufi\"\n"
      ]
    },
    {
      "cell_type": "markdown",
      "metadata": {
        "id": "5hF7Gc_y2ZXn"
      },
      "source": [
        "# Copy all audio files to the parent directory"
      ]
    },
    {
      "cell_type": "code",
      "execution_count": null,
      "metadata": {
        "id": "BF5TWlPw2dMb"
      },
      "outputs": [],
      "source": [
        "import shutil\n",
        "import os\n",
        "\n",
        "# Specify the directory path where subdirectories and files are located\n",
        "directory_path = audio_path\n",
        "\n",
        "# Loop through all subdirectories and files in the directory\n",
        "for root, dirs, files in os.walk(directory_path):\n",
        "    for file in files:\n",
        "        # Construct the source and destination file paths\n",
        "        source_path = os.path.join(root, file)\n",
        "        destination_path = os.path.join(root, '..', file)\n",
        "        \n",
        "        # Copy the file to the parent directory\n",
        "        shutil.copy(source_path, destination_path)\n",
        "        \n",
        "        # print(f\"File copied from {source_path} to {destination_path}\")\n",
        "\n"
      ]
    },
    {
      "cell_type": "markdown",
      "metadata": {
        "id": "G8cWyuUZwsF6"
      },
      "source": [
        "# Get Audio file names"
      ]
    },
    {
      "cell_type": "code",
      "execution_count": null,
      "metadata": {
        "id": "I7F_aWf4jn-5"
      },
      "outputs": [],
      "source": [
        "# import glob\n",
        "# glob.glob(\"/content/\" + \"*\" + \"mp3\")\n",
        "\n",
        "def get_audio(audio_path, ext = [\"*.mp3\", \"*.wav\", \"*.ogg\", \"*.flac\"],check_subfolders=False):\n",
        "    \n",
        "  import os \n",
        "  import glob\n",
        "\n",
        "  # List of audio file extensions to search for\n",
        "  # AUDIO_EXTENSIONS = ext\n",
        "\n",
        "  # Directory to search for audio files\n",
        "  directory = audio_path  # Replace with the path to your directory\n",
        "\n",
        "  if check_subfolders == False:\n",
        "    # Search for audio files using glob\n",
        "    audio_files = []\n",
        "    for extension in ext:\n",
        "        audio_files.extend(glob.glob(directory + \"*\" + extension, recursive=check_subfolders))\n",
        "  else:\n",
        "      \n",
        "    # Search for audio files using glob\n",
        "    audio_files = []\n",
        "    for extension in ext:\n",
        "        audio_files.extend(glob.glob(directory + \"/**/\" + extension, recursive=check_subfolders))\n",
        "\n",
        "  audio_base_names = [os.path.basename(i) for i in audio_files]\n",
        "\n",
        "  return audio_files, audio_base_names\n",
        "\n",
        "# get_audio(audio_path, ext = [\"*.mp3\", \"*.wav\", \"*.ogg\", \"*.flac\"])\n",
        "\n",
        "audio_path = \"/content/\"\n",
        "get_audio(audio_path, ext = [\"*.mp3\", \"*.wav\", \"*.ogg\", \"*.flac\"])"
      ]
    },
    {
      "cell_type": "code",
      "execution_count": null,
      "metadata": {
        "id": "_P2tWuJHwOln"
      },
      "outputs": [],
      "source": []
    },
    {
      "cell_type": "markdown",
      "metadata": {
        "id": "joqrziADwP3Q"
      },
      "source": [
        "# Reorder Audio Files"
      ]
    },
    {
      "cell_type": "code",
      "execution_count": null,
      "metadata": {
        "id": "hygDSSm_to1E"
      },
      "outputs": [],
      "source": [
        "\n",
        "#  'chap1_s-108.mp3',\n",
        "dict_chap = {1:172,2:65,3:16} # Chapter: Last Audio File Digit Number. Example: chap1_s-172\n",
        "\n",
        "all_audio_files = []\n",
        "for k in dict_chap:\n",
        "    \n",
        "  chap_audio_files = [f\"chap{k}_s-{i}.mp3\" for i in range(2,dict_chap[k]+1)]\n",
        "  # chap_audio_files.insert(0,f\"chap{k}_s.mp3\")\n",
        "  all_audio_files.extend(chap_audio_files)\n",
        "\n",
        "audio_files_reordered = [audio_path + i for i in all_audio_files]\n",
        "audio_files_reordered"
      ]
    },
    {
      "cell_type": "code",
      "execution_count": null,
      "metadata": {
        "id": "L2W1wuFYyncL"
      },
      "outputs": [],
      "source": []
    },
    {
      "cell_type": "markdown",
      "metadata": {
        "id": "Deh1BvL9yn7c"
      },
      "source": [
        "# Combine All Audio Files"
      ]
    },
    {
      "cell_type": "code",
      "execution_count": null,
      "metadata": {
        "colab": {
          "base_uri": "https://localhost:8080/",
          "height": 236
        },
        "id": "KgzcLpa2yrdz",
        "outputId": "1c565052-f200-4466-f3fc-1e76bc0fbe92"
      },
      "outputs": [
        {
          "output_type": "error",
          "ename": "NameError",
          "evalue": "ignored",
          "traceback": [
            "\u001b[0;31m---------------------------------------------------------------------------\u001b[0m",
            "\u001b[0;31mNameError\u001b[0m                                 Traceback (most recent call last)",
            "\u001b[0;32m<ipython-input-50-fab870783cc3>\u001b[0m in \u001b[0;36m<cell line: 7>\u001b[0;34m()\u001b[0m\n\u001b[1;32m      5\u001b[0m \u001b[0mcombined_audio\u001b[0m \u001b[0;34m=\u001b[0m \u001b[0mAudioSegment\u001b[0m\u001b[0;34m.\u001b[0m\u001b[0msilent\u001b[0m\u001b[0;34m(\u001b[0m\u001b[0mduration\u001b[0m\u001b[0;34m=\u001b[0m\u001b[0;36m0\u001b[0m\u001b[0;34m)\u001b[0m\u001b[0;34m\u001b[0m\u001b[0;34m\u001b[0m\u001b[0m\n\u001b[1;32m      6\u001b[0m \u001b[0;34m\u001b[0m\u001b[0m\n\u001b[0;32m----> 7\u001b[0;31m \u001b[0maudio_files_reordered\u001b[0m \u001b[0;34m=\u001b[0m \u001b[0maudio_files_reordered\u001b[0m\u001b[0;34m[\u001b[0m\u001b[0;36m0\u001b[0m\u001b[0;34m:\u001b[0m\u001b[0;36m5\u001b[0m\u001b[0;34m]\u001b[0m\u001b[0;34m\u001b[0m\u001b[0;34m\u001b[0m\u001b[0m\n\u001b[0m\u001b[1;32m      8\u001b[0m \u001b[0;32mfor\u001b[0m \u001b[0mfilename\u001b[0m \u001b[0;32min\u001b[0m \u001b[0maudio_files_reordered\u001b[0m\u001b[0;34m:\u001b[0m\u001b[0;34m\u001b[0m\u001b[0;34m\u001b[0m\u001b[0m\n\u001b[1;32m      9\u001b[0m \u001b[0;34m\u001b[0m\u001b[0m\n",
            "\u001b[0;31mNameError\u001b[0m: name 'audio_files_reordered' is not defined"
          ]
        }
      ],
      "source": [
        "\n",
        "from pydub import AudioSegment\n",
        "import os\n",
        "\n",
        "# create an empty audio segment to hold the combined audio\n",
        "combined_audio = AudioSegment.silent(duration=0)\n",
        "\n",
        "audio_files_reordered = audio_files_reordered[0:5]\n",
        "for filename in audio_files_reordered:\n",
        "        \n",
        "        audio_file = AudioSegment.from_file(filename)\n",
        "        combined_audio += audio_file+audio_file # Double Audio Files\n",
        "\n",
        "# export the combined audio as a single file\n",
        "combined_audio.export(os.path.join(directory, \"1_combined_audio.mp3\"), format=\"mp3\")"
      ]
    },
    {
      "cell_type": "code",
      "execution_count": null,
      "metadata": {
        "id": "dvFBC9oa2SEb"
      },
      "outputs": [],
      "source": [
        "# filename\n",
        "# filename.replace(\"_s-\",\"_fr-\")"
      ]
    },
    {
      "cell_type": "markdown",
      "metadata": {
        "id": "howRulWDxh-w"
      },
      "source": [
        "# Add Foreign Language to the audio"
      ]
    },
    {
      "cell_type": "code",
      "execution_count": null,
      "metadata": {
        "id": "O2DeZKLkxuc-",
        "colab": {
          "base_uri": "https://localhost:8080/",
          "height": 184
        },
        "outputId": "1372bdc4-2e25-491c-f638-1164c024dc96"
      },
      "outputs": [
        {
          "output_type": "error",
          "ename": "NameError",
          "evalue": "ignored",
          "traceback": [
            "\u001b[0;31m---------------------------------------------------------------------------\u001b[0m",
            "\u001b[0;31mNameError\u001b[0m                                 Traceback (most recent call last)",
            "\u001b[0;32m<ipython-input-52-3e25fbbe38c1>\u001b[0m in \u001b[0;36m<cell line: 1>\u001b[0;34m()\u001b[0m\n\u001b[0;32m----> 1\u001b[0;31m \u001b[0maudio_files_french\u001b[0m \u001b[0;34m=\u001b[0m \u001b[0;34m[\u001b[0m\u001b[0mi\u001b[0m\u001b[0;34m.\u001b[0m\u001b[0mreplace\u001b[0m\u001b[0;34m(\u001b[0m\u001b[0;34m\"_s-\"\u001b[0m\u001b[0;34m,\u001b[0m\u001b[0;34m\"_fr-\"\u001b[0m\u001b[0;34m)\u001b[0m \u001b[0;32mfor\u001b[0m \u001b[0mi\u001b[0m \u001b[0;32min\u001b[0m \u001b[0mall_audio_files\u001b[0m\u001b[0;34m]\u001b[0m\u001b[0;34m\u001b[0m\u001b[0;34m\u001b[0m\u001b[0m\n\u001b[0m\u001b[1;32m      2\u001b[0m \u001b[0;31m# audio_files_french\u001b[0m\u001b[0;34m\u001b[0m\u001b[0;34m\u001b[0m\u001b[0m\n",
            "\u001b[0;31mNameError\u001b[0m: name 'all_audio_files' is not defined"
          ]
        }
      ],
      "source": [
        "audio_files_french = [i.replace(\"_s-\",\"_fr-\") for i in all_audio_files]\n",
        "# audio_files_french\n"
      ]
    },
    {
      "cell_type": "code",
      "execution_count": null,
      "metadata": {
        "id": "QFwv5Nj7qSWp"
      },
      "outputs": [],
      "source": [
        "\n",
        "from pydub import AudioSegment\n",
        "import os\n",
        "\n",
        "# specify the directory containing audio files to be combined\n",
        "directory = audio_path\n",
        "\n",
        "# audio_filenames = []\n",
        "\n",
        "audio_filenames = [f\"s-{i}.mp3\" for i in range(2,38)]\n",
        "audio_filenames_fr = [f\"fr-{i}.mp3\" for i in range(2,38)]\n",
        "\n",
        "\n",
        "# create an empty audio segment to hold the combined audio\n",
        "combined_audio = AudioSegment.silent(duration=0)\n",
        "\n",
        "for filename in audio_filenames:\n",
        "        filename_fr = filename.replace(\"_s-\",\"_fr-\")\n",
        "        audio_file = AudioSegment.from_file(os.path.join(directory, filename))\n",
        "        audio_file_fr = AudioSegment.from_file(os.path.join(directory, filename_fr))\n",
        "        combined_audio += audio_file_fr+audio_file+audio_file # Double Audio Files\n",
        "\n",
        "# export the combined audio as a single file\n",
        "combined_audio.export(os.path.join(directory+\"\\Combined\", \"combined_audio.mp3\"), format=\"mp3\")"
      ]
    },
    {
      "cell_type": "code",
      "execution_count": null,
      "metadata": {
        "id": "zI9QVtznGy3R"
      },
      "outputs": [],
      "source": [
        "from pydub import AudioSegment\n",
        "import os\n",
        "\n",
        "# specify the directory containing audio files to be combined\n",
        "directory = \"/content\"\n",
        "\n",
        "# create an empty audio segment to hold the combined audio\n",
        "combined_audio = AudioSegment.silent(duration=0)\n",
        "\n",
        "# loop through all audio files in the directory and concatenate them\n",
        "for filename in os.listdir(directory):\n",
        "    if (filename.endswith(\".mp3\") or filename.endswith(\".wav\")): # you can add more audio file extensions here\n",
        "        audio_file = AudioSegment.from_file(os.path.join(directory, filename))\n",
        "        combined_audio += audio_file+audio_file\n",
        "\n",
        "# export the combined audio as a single file\n",
        "combined_audio.export(os.path.join(directory, \"combined_audio.mp3\"), format=\"mp3\")\n"
      ]
    },
    {
      "cell_type": "code",
      "execution_count": null,
      "metadata": {
        "id": "grnAc8aCJat5"
      },
      "outputs": [],
      "source": []
    },
    {
      "cell_type": "markdown",
      "metadata": {
        "id": "hWiFnERYJbbg"
      },
      "source": [
        "# Detecting silence in audio files"
      ]
    },
    {
      "cell_type": "code",
      "execution_count": null,
      "metadata": {
        "id": "9NfKOreYe1FD"
      },
      "outputs": [],
      "source": [
        "mkdir chunks_folders2"
      ]
    },
    {
      "cell_type": "code",
      "execution_count": null,
      "metadata": {
        "id": "07SrLonofgNo"
      },
      "outputs": [],
      "source": [
        "import os, glob \n",
        "\n",
        "audio_file_path = \"/content/\"\n",
        "\n",
        "save_path = os.getcwd() + \"/chunks_folders2\"\n",
        "\n",
        "audiofiles = glob.glob(audio_file_path+\"*.mp3\")"
      ]
    },
    {
      "cell_type": "code",
      "execution_count": null,
      "metadata": {
        "id": "yOo3QjuGKsek"
      },
      "outputs": [],
      "source": [
        "# audio_file_path = \"/content/chap7_s-18.mp3\"\n",
        "# # audio_file_path = \"/content/chap7_s-13.mp3\"\n",
        "# audio_file_path = \"/content/chap7_s-18.mp3\"\n",
        "# # audio_file_path = \"/content/chap7_s-13.mp3\"\n",
        "\n",
        "\n",
        "def count_number_of_audio_chunks(audio_file_path,min_silence_len = 1,silence_thresh_DB=-40,save_path=os.getcwd()):\n",
        "\n",
        "  \"\"\"  \n",
        "  audio_file_path: Path of the audio file\n",
        "  min_silence_len: Minimum Silence duration in second. By default = 1s\n",
        "  silence_thresh_DB: Silence Decibel threshold. by default = -40\n",
        "  Return the number of audio chunks in the file, and thos chunks\n",
        "  \"\"\"    \n",
        "  # Import the AudioSegment class for processing audio and the \n",
        "  # split_on_silence function for separating out silent chunks.\n",
        "  from pydub import AudioSegment\n",
        "  from pydub.silence import split_on_silence\n",
        "\n",
        "  # Load your audio.\n",
        "  audio = AudioSegment.from_mp3(audio_file_path)\n",
        "\n",
        "  # Split track where the silence is x seconds or more and get chunks using \n",
        "  # the split_on_silence function.\n",
        "  chunks = split_on_silence (\n",
        "      # Use the loaded audio.\n",
        "      audio, \n",
        "      # Specify that a silent chunk must be at least 2 seconds or 2000 ms long.\n",
        "      min_silence_len = int(min_silence_len*1000),  # 0.7s \n",
        "      # Consider a chunk silent if it's quieter than -xx dBFS.\n",
        "      silence_thresh = silence_thresh_DB\n",
        "  )\n",
        "\n",
        "  number_of_audio_files = len(chunks)\n",
        "\n",
        "  for i, chunk in enumerate(chunks):\n",
        "    # Create a silence chunk that's 0.5 seconds (or 500 ms) long for padding.\n",
        "    silence_chunk = AudioSegment.silent(duration=2000)\n",
        "    \n",
        "    # Add the padding chunk to beginning and end of the entire chunk.\n",
        "    audio_chunk = silence_chunk + chunk + silence_chunk\n",
        "\n",
        "\n",
        "    # Export the audio chunk with new bitrate.\n",
        "    audio_file_name = os.path.basename(audio_file_path)\n",
        "\n",
        "    \n",
        "    # Create folder to save the chunks\n",
        "\n",
        "    \n",
        "    if len(chunks) <= 1:\n",
        "\n",
        "      res = chunk + silence_chunk + chunk\n",
        "      \n",
        "      res.export(\n",
        "          f\"{save_path}{audio_file_name}.mp3\",\n",
        "          # bitrate = \"192k\",\n",
        "          format = \"mp3\"\n",
        "      )\n",
        "\n",
        "    # else:\n",
        "\n",
        "    #   audio_chunk.export(\n",
        "    #       f\"{save_path}{audio_file_name}_part{i}.mp3\",\n",
        "    #       # bitrate = \"192k\",\n",
        "    #       format = \"mp3\"\n",
        "    #   )\n",
        "\n",
        "  return number_of_audio_files\n",
        "\n",
        "save_path = os.getcwd() + \"/chunks_folders2/\"\n",
        "\n",
        "count_number_of_audio_chunks(audio_file_path,min_silence_len = 1,silence_thresh_DB=-40,save_path=save_path)\n",
        "\n",
        "for audio_ in audiofiles[0:30]:\n",
        "  file_name = os.path.basename(audio_)\n",
        "  number_audio = count_number_of_audio_chunks(audio_,min_silence_len = 0.7,silence_thresh_DB=-40,save_path=save_path)\n",
        "  print(f\"{file_name}\",number_audio)\n",
        "\n"
      ]
    },
    {
      "cell_type": "code",
      "execution_count": null,
      "metadata": {
        "id": "KLS1N1MAPqQo"
      },
      "outputs": [],
      "source": [
        "audio_file_path = \"/content/chap7_s-18.mp3\"\n",
        "# audio_file_path = \"/content/chap7_s-13.mp3\"\n",
        "\n",
        "\n",
        "# Import the AudioSegment class for processing audio and the \n",
        "# split_on_silence function for separating out silent chunks.\n",
        "from pydub import AudioSegment\n",
        "from pydub.silence import split_on_silence\n",
        "import os \n",
        "\n",
        "audio_file_name = os.path.basename(audio_file_path)\n",
        "\n",
        "# Define a function to normalize a chunk to a target amplitude.\n",
        "def match_target_amplitude(aChunk, target_dBFS):\n",
        "    ''' Normalize given audio chunk '''\n",
        "    change_in_dBFS = target_dBFS - aChunk.dBFS\n",
        "    return aChunk.apply_gain(change_in_dBFS)\n",
        "\n",
        "# Load your audio.\n",
        "song = AudioSegment.from_mp3(audio_file_path)\n",
        "\n",
        "# Split track where the silence is 2 seconds or more and get chunks using \n",
        "# the imported function.\n",
        "chunks = split_on_silence (\n",
        "    # Use the loaded audio.\n",
        "    song, \n",
        "    # Specify that a silent chunk must be at least 2 seconds or 2000 ms long.\n",
        "    # min_silence_len = 2000,\n",
        "    min_silence_len = 700,\n",
        "    # Consider a chunk silent if it's quieter than -16 dBFS.\n",
        "    # (You may want to adjust this parameter.)\n",
        "    silence_thresh = -40\n",
        ")\n",
        "\n",
        "number_of_audio_files = len(chunks)\n",
        "\n",
        "number_of_audio_files = []\n",
        "# Process each chunk with your parameters\n",
        "for i, chunk in enumerate(chunks):\n",
        "    # Create a silence chunk that's 0.5 seconds (or 500 ms) long for padding.\n",
        "    silence_chunk = AudioSegment.silent(duration=500)\n",
        "\n",
        "    # Add the padding chunk to beginning and end of the entire chunk.\n",
        "    audio_chunk = silence_chunk + chunk + silence_chunk\n",
        "\n",
        "    # Normalize the entire chunk.\n",
        "    normalized_chunk = match_target_amplitude(audio_chunk, -20.0)\n",
        "\n",
        "    # Export the audio chunk with new bitrate.\n",
        "    # print(i)\n",
        "    print(f\"Exporting chunk{i}.mp3.\")\n",
        "    normalized_chunk.export(\n",
        "        # \".//chunk{0}.mp3\".format(i),\n",
        "        f\"{audio_file_name}_part{i}.mp3\",\n",
        "        bitrate = \"192k\",\n",
        "        format = \"mp3\"\n",
        "    )\n",
        "    number_of_audio_files.append(i)\n",
        "len(number_of_audio_files)"
      ]
    },
    {
      "cell_type": "code",
      "execution_count": null,
      "metadata": {
        "id": "E3uvNgRSXf6M"
      },
      "outputs": [],
      "source": [
        "# audio_file_path = \"/content/chap7_s-18.mp3\"\n",
        "audio_file_path = \"/content/chap7_s-13.mp3\"\n",
        "\n",
        "class resulam_audio_processing:\n",
        "\n",
        "  # Import the AudioSegment class for processing audio and the \n",
        "  # split_on_silence function for separating out silent chunks.\n",
        "  from pydub import AudioSegment\n",
        "  from pydub.silence import split_on_silence\n",
        "  import os \n",
        "\n",
        "  # Constructor (called when creating a new instance of the class)\n",
        "  def __init__(self, file_name, arg2):\n",
        "      # Instance attributes (unique to each instance of the class)\n",
        "      self.file_name = file_name\n",
        "      self.arg2 = arg2\n",
        "  \n",
        "  \n",
        "\n",
        "  audio_file_name = os.path.basename(audio_file_path)\n",
        "\n",
        "  # Define a function to normalize a chunk to a target amplitude.\n",
        "  def match_target_amplitude(self, aChunk, target_dBFS):\n",
        "      ''' Normalize given audio chunk '''\n",
        "      change_in_dBFS = target_dBFS - aChunk.dBFS\n",
        "      return aChunk.apply_gain(change_in_dBFS)\n",
        "\n",
        "  # Load your audio.\n",
        "  song = AudioSegment.from_mp3(audio_file_path)\n",
        "\n",
        "  # Split track where the silence is 2 seconds or more and get chunks using \n",
        "  # the imported function.\n",
        "  chunks = split_on_silence (\n",
        "      # Use the loaded audio.\n",
        "      song, \n",
        "      # Specify that a silent chunk must be at least 2 seconds or 2000 ms long.\n",
        "      # min_silence_len = 2000,\n",
        "      min_silence_len = 700,\n",
        "      # Consider a chunk silent if it's quieter than -16 dBFS.\n",
        "      # (You may want to adjust this parameter.)\n",
        "      silence_thresh = -40\n",
        "  )\n",
        "\n",
        "  number_of_audio_files = []\n",
        "  # Process each chunk with your parameters\n",
        "  for i, chunk in enumerate(chunks):\n",
        "      # Create a silence chunk that's 0.5 seconds (or 500 ms) long for padding.\n",
        "      silence_chunk = AudioSegment.silent(duration=500)\n",
        "\n",
        "      # Add the padding chunk to beginning and end of the entire chunk.\n",
        "      audio_chunk = silence_chunk + chunk + silence_chunk\n",
        "\n",
        "      # Normalize the entire chunk.\n",
        "      normalized_chunk = match_target_amplitude(audio_chunk, -20.0)\n",
        "\n",
        "      # Export the audio chunk with new bitrate.\n",
        "      # print(i)\n",
        "      print(f\"Exporting chunk{i}.mp3.\")\n",
        "      normalized_chunk.export(\n",
        "          # \".//chunk{0}.mp3\".format(i),\n",
        "          f\"{audio_file_name}_part{i}.mp3\",\n",
        "          bitrate = \"192k\",\n",
        "          format = \"mp3\"\n",
        "      )\n",
        "      number_of_audio_files.append(i)\n",
        "  len(number_of_audio_files)"
      ]
    },
    {
      "cell_type": "code",
      "execution_count": null,
      "metadata": {
        "colab": {
          "base_uri": "https://localhost:8080/",
          "height": 166
        },
        "id": "WdKaDZgqNo1a",
        "outputId": "7f95e2b9-1c6f-4371-f43c-eadd0b3d7384"
      },
      "outputs": [
        {
          "ename": "NameError",
          "evalue": "ignored",
          "output_type": "error",
          "traceback": [
            "\u001b[0;31m---------------------------------------------------------------------------\u001b[0m",
            "\u001b[0;31mNameError\u001b[0m                                 Traceback (most recent call last)",
            "\u001b[0;32m<ipython-input-33-f3e0910c700d>\u001b[0m in \u001b[0;36m<cell line: 1>\u001b[0;34m()\u001b[0m\n\u001b[0;32m----> 1\u001b[0;31m \u001b[0mlibrosa\u001b[0m\u001b[0;34m.\u001b[0m\u001b[0meffects\u001b[0m\u001b[0;34m.\u001b[0m\u001b[0msplit\u001b[0m\u001b[0;34m(\u001b[0m\u001b[0my\u001b[0m\u001b[0;34m=\u001b[0m\u001b[0mbuffer\u001b[0m\u001b[0;34m,\u001b[0m \u001b[0mframe_length\u001b[0m\u001b[0;34m=\u001b[0m\u001b[0;36m8000\u001b[0m\u001b[0;34m,\u001b[0m \u001b[0mtop_db\u001b[0m\u001b[0;34m=\u001b[0m\u001b[0;36m40\u001b[0m\u001b[0;34m)\u001b[0m\u001b[0;34m\u001b[0m\u001b[0;34m\u001b[0m\u001b[0m\n\u001b[0m",
            "\u001b[0;31mNameError\u001b[0m: name 'buffer' is not defined"
          ]
        }
      ],
      "source": [
        "i̧\n",
        "librosa.effects.split(y=buffer, frame_length=8000, top_db=40)\n"
      ]
    },
    {
      "cell_type": "code",
      "source": [],
      "metadata": {
        "id": "Kw8j3DVWciXJ"
      },
      "execution_count": null,
      "outputs": []
    },
    {
      "cell_type": "markdown",
      "source": [
        "# Brouillon\n"
      ],
      "metadata": {
        "id": "8to7OsoJcj1k"
      }
    },
    {
      "cell_type": "code",
      "source": [
        "# from pydub import AudioSegment\n",
        "# import os\n",
        "\n",
        "# # create an empty audio segment to hold the combined audio\n",
        "\n",
        "# filename1 = \"/content/foldedAreas.mp3\"\n",
        "# filename2 = \"/content/quickFixes.mp3\"\n",
        "# filename3 = \"/content/terminalBell.mp3\"\n",
        "# filename4 = \"/content/taskCompleted.mp3\"\n",
        "\n",
        "\n",
        "# # audio_files_reordered = audio_files_reordered[0:5]\n",
        "# # for filename in audio_files_reordered:\n",
        "        \n",
        "# audio_file1 = AudioSegment.from_file(filename1)\n",
        "# audio_file2 = AudioSegment.from_file(filename2)\n",
        "# audio_file3 = AudioSegment.from_file(filename3)\n",
        "# audio_file4 = AudioSegment.from_file(filename4)\n",
        "\n",
        "\n",
        "# def play(opt):\n",
        "  \n",
        "#   combined_audio = AudioSegment.silent(duration=0)\n",
        "\n",
        "#   silence = AudioSegment.silent(duration=2*1000)\n",
        "\n",
        "#   # opt = input(\"enter option: 1,2,3\")\n",
        "#   if opt == \"12\":\n",
        "#     combined_audio += audio_file1+silence+audio_file2 # Double Audio Files\n",
        "#   elif opt == \"21\":\n",
        "#     combined_audio += audio_file2+silence+audio_file1 # Double Audio Files\n",
        "#   elif opt == \"13\":\n",
        "#     combined_audio += audio_file1+silence+audio_file3 # Double Audio Files\n",
        "#   elif opt == \"31\":\n",
        "#     combined_audio += audio_file3+silence+audio_file1 # Double Audio Files\n",
        "#   elif opt == \"31\":\n",
        "#     combined_audio += audio_file3+silence+audio_file1 # Double Audio Files\n",
        "\n",
        "#   if opt == \"14\":\n",
        "#     combined_audio += audio_file1+silence+audio_file4 # Double Audio Files\n",
        "#   elif opt == \"41\":\n",
        "#     combined_audio += audio_file4+silence+audio_file1 # Double Audio Files\n",
        "\n",
        "\n",
        "#   return combined_audio\n",
        "\n",
        "\n"
      ],
      "metadata": {
        "id": "odu8fGYNcotg"
      },
      "execution_count": null,
      "outputs": []
    },
    {
      "cell_type": "code",
      "source": [
        "# def play(opt):\n",
        "#     from pydub import AudioSegment\n",
        "    \n",
        "#     files = {\n",
        "#         \"1 2\": [filename1, filename2],\n",
        "#         \"1 3\": [filename1, filename3],\n",
        "#         \"1 4\": [filename1, filename4],\n",
        "\n",
        "#         \"2 1\": [filename2, filename1],\n",
        "#         \"2 3\": [filename2, filename3],\n",
        "#         \"2 4\": [filename2, filename4],\n",
        "        \n",
        "#         \"3 1\": [filename3, filename1],\n",
        "#         \"3 2\": [filename3, filename2],\n",
        "#         \"3 4\": [filename3, filename4],\n",
        "        \n",
        "#         \"4 1\": [filename4, filename1],\n",
        "#         \"4 2\": [filename4, filename2],\n",
        "#         \"4 3\": [filename4, filename3],\n",
        "\n",
        "#     }\n",
        "    \n",
        "#     silence = AudioSegment.silent(duration=2000)\n",
        "#     audio_files = files.get(opt)\n",
        "\n",
        "#     print(audio_files)\n",
        "    \n",
        "#     if audio_files is None:\n",
        "#         raise ValueError(\"Invalid option value\")\n",
        "\n",
        "#     combined_audio = AudioSegment.empty()\n",
        "\n",
        "#     for filename in audio_files:\n",
        "\n",
        "      \n",
        "\n",
        "#         audio_segment = AudioSegment.from_file(f\"{filename}\")\n",
        "#         combined_audio += audio_segment + silence\n",
        "    \n",
        "#     return combined_audio\n"
      ],
      "metadata": {
        "id": "8_y5GBkr55M3"
      },
      "execution_count": null,
      "outputs": []
    },
    {
      "cell_type": "code",
      "source": [
        "audio_path = \"/content/\"\n",
        "audio_files = get_audio(audio_path, ext = [\"*.mp3\", \"*.wav\", \"*.ogg\", \"*.flac\"])\n",
        "\n",
        "audio_files = [audio for audio in audio_files[1] if len(audio) < 7]\n",
        "\n",
        "def get_audio_files_dictionary(audio_files_including_extension):\n",
        "    \n",
        "  audio_files_no_ext = [i.split(\".\")[0] for i in audio_files_including_extension]\n",
        "\n",
        "  audio_files_dict = dict(zip(audio_files_no_ext, audio_files_including_extension))\n",
        "\n",
        "  new_dict = {}\n",
        "\n",
        "  sorted_list = sorted(list(audio_files_dict))\n",
        "  for i, val in enumerate(sorted_list):\n",
        "    for j in range(i+1,len(sorted_list)):\n",
        "      val_j = sorted_list[j]\n",
        "      new_dict[f\"{val} {val_j}\"] = [audio_files_dict[val], audio_files_dict[val_j]]\n",
        "  return new_dict\n",
        "\n",
        "get_audio_files_dictionary(audio_files)"
      ],
      "metadata": {
        "id": "LL1JBqaFDgDj"
      },
      "execution_count": null,
      "outputs": []
    },
    {
      "cell_type": "code",
      "source": [],
      "metadata": {
        "id": "tLQaWZXZOdCu"
      },
      "execution_count": null,
      "outputs": []
    },
    {
      "cell_type": "code",
      "source": [
        "audio_path = \"/content/\"\n",
        "audio_files = get_audio(audio_path, ext = [\"*.mp3\", \"*.wav\", \"*.ogg\", \"*.flac\"])\n",
        "\n",
        "audio_files = [audio for audio in audio_files[1] if len(audio) < 7]\n",
        "\n",
        "def play(opt,audio_files):\n",
        "    from pydub import AudioSegment\n",
        "    \n",
        "    # files = {\n",
        "    #     \"1 2\": [filename1, filename2],\n",
        "    #     \"1 3\": [filename1, filename3],\n",
        "    #     \"1 4\": [filename1, filename4],\n",
        "    #     \"2 3\": [filename2, filename3],\n",
        "    #     \"2 4\": [filename2, filename4],\n",
        "    #     \"3 4\": [filename3, filename4],\n",
        "    # }\n",
        "\n",
        "    files = get_audio_files_dictionary(audio_files)\n",
        "\n",
        "    if opt not in files:\n",
        "      opt = \" \".join(opt.split()[::-1])\n",
        "\n",
        "      invert_dict = {}\n",
        "      invert_dict[opt] = files[opt][::-1]\n",
        "      files.update(invert_dict)\n",
        "    \n",
        "    silence = AudioSegment.silent(duration=2000)\n",
        "    audio_files = files.get(opt)\n",
        "\n",
        "    if audio_files is None:\n",
        "        raise ValueError(\"Invalid option value\")\n",
        "\n",
        "    combined_audio = AudioSegment.empty()\n",
        "\n",
        "    for filename in audio_files:\n",
        "        audio_segment = AudioSegment.from_file(f\"{filename}\")\n",
        "        combined_audio += audio_segment + silence\n",
        "    \n",
        "    return combined_audio\n"
      ],
      "metadata": {
        "id": "lqU2mU-LB7zj"
      },
      "execution_count": null,
      "outputs": []
    },
    {
      "cell_type": "code",
      "source": [
        "def get_audio_chucks_without_silence(song, silence_duration = .5):\n",
        "\n",
        "    # Import the AudioSegment class for processing audio and the \n",
        "    # split_on_silence function for separating out silent chunks.\n",
        "    from pydub import AudioSegment\n",
        "    from pydub.silence import split_on_silence\n",
        "    import os \n",
        "\n",
        "    \n",
        "  # Load your audio.\n",
        "    # song = AudioSegment.from_mp3(audio_file_path)\n",
        "\n",
        "    # Split track where the silence is 2 seconds or more and get chunks using \n",
        "    # the imported function.\n",
        "    chunks = split_on_silence (\n",
        "        # Use the loaded audio.\n",
        "        song, \n",
        "        # Specify that a silent chunk must be at least 2 seconds or 2000 ms long.\n",
        "        # min_silence_len = 2000,\n",
        "        min_silence_len = 700,\n",
        "        # Consider a chunk silent if it's quieter than -16 dBFS.\n",
        "        # (You may want to adjust this parameter.)\n",
        "        silence_thresh = -40\n",
        "    )\n",
        "    silence_duration = int(silence_duration*1000)\n",
        "    \n",
        "    audio_chunk = AudioSegment.silent(duration=1000)\n",
        "    silence_chunk = AudioSegment.silent(duration=silence_duration)\n",
        "\n",
        "    # Process each chunk with your parameters\n",
        "    for i, chunk in enumerate(chunks):\n",
        "        # Create a silence chunk that's 0.5 seconds (or 500 ms) long for padding.\n",
        "        \n",
        "        # print(i, len(chunks))\n",
        "        # Add the padding chunk to beginning and end of the entire chunk.\n",
        "\n",
        "        if i < len(chunks)-1:\n",
        "          audio_chunk += chunk + silence_chunk\n",
        "        if i == len(chunks)-1:\n",
        "          audio_chunk += chunk\n",
        "\n",
        "        # Normalize the entire chunk.\n",
        "        normalized_chunk = match_target_amplitude(audio_chunk, -20.0)\n",
        "\n",
        "        # Export the audio chunk with new bitrate.\n",
        "        # print(i)\n",
        "        # print(f\"Exporting chunk{i}.mp3.\")\n",
        "        normalized_chunk.export(\n",
        "            # \".//chunk{0}.mp3\".format(i),\n",
        "            f\"{audio_file_name}_part{i}.mp3\",\n",
        "            bitrate = \"192k\",\n",
        "            format = \"mp3\"\n",
        "        )\n",
        "    return audio_chunk"
      ],
      "metadata": {
        "id": "_1a91jPYgnCg"
      },
      "execution_count": null,
      "outputs": []
    },
    {
      "cell_type": "code",
      "source": [
        "# get_audio_chucks_without_silence(play(\"1 4\"), silence_duration = 2)\n",
        "\n"
      ],
      "metadata": {
        "id": "RMk3ofFIegC3"
      },
      "execution_count": null,
      "outputs": []
    },
    {
      "cell_type": "code",
      "source": [
        "get_audio_chucks_without_silence(play(\"a3 a6\",audio_files), silence_duration = .2)\n"
      ],
      "metadata": {
        "colab": {
          "base_uri": "https://localhost:8080/",
          "height": 75
        },
        "id": "lT8r2JlBefRJ",
        "outputId": "700b4a33-4a4c-4bc9-9023-e7fe0eb0bbe5"
      },
      "execution_count": null,
      "outputs": [
        {
          "output_type": "execute_result",
          "data": {
            "text/plain": [
              "<pydub.audio_segment.AudioSegment at 0x7fa8e5e07e80>"
            ],
            "text/html": [
              "\n",
              "                    <audio controls>\n",
              "                        <source src=\"data:audio/mpeg;base64,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\" type=\"audio/mpeg\"/>\n",
              "                        Your browser does not support the audio element.\n",
              "                    </audio>\n",
              "                  "
            ]
          },
          "metadata": {},
          "execution_count": 71
        }
      ]
    },
    {
      "cell_type": "code",
      "source": [
        "\n"
      ],
      "metadata": {
        "id": "JeuirHOSfgtN"
      },
      "execution_count": null,
      "outputs": []
    },
    {
      "cell_type": "code",
      "source": [
        "\n"
      ],
      "metadata": {
        "id": "uyNMykS-fgM_"
      },
      "execution_count": null,
      "outputs": []
    },
    {
      "cell_type": "code",
      "source": [],
      "metadata": {
        "id": "PgyBeIbzcnxA"
      },
      "execution_count": null,
      "outputs": []
    },
    {
      "cell_type": "code",
      "source": [],
      "metadata": {
        "id": "_Sq5tGWHcmjw"
      },
      "execution_count": null,
      "outputs": []
    },
    {
      "cell_type": "code",
      "execution_count": null,
      "metadata": {
        "id": "9rZ70kelJpdv",
        "colab": {
          "base_uri": "https://localhost:8080/",
          "height": 346
        },
        "outputId": "c8413476-7be5-4e90-a0dc-242481e11ab2"
      },
      "outputs": [
        {
          "output_type": "error",
          "ename": "FileNotFoundError",
          "evalue": "ignored",
          "traceback": [
            "\u001b[0;31m---------------------------------------------------------------------------\u001b[0m",
            "\u001b[0;31mFileNotFoundError\u001b[0m                         Traceback (most recent call last)",
            "\u001b[0;32m<ipython-input-19-926e4015bdb6>\u001b[0m in \u001b[0;36m<cell line: 28>\u001b[0;34m()\u001b[0m\n\u001b[1;32m     26\u001b[0m \u001b[0;31m# Example usage\u001b[0m\u001b[0;34m\u001b[0m\u001b[0;34m\u001b[0m\u001b[0m\n\u001b[1;32m     27\u001b[0m \u001b[0maudio_file_path\u001b[0m \u001b[0;34m=\u001b[0m \u001b[0;34m\"path/to/your/audio/file.mp3\"\u001b[0m \u001b[0;31m# Replace with your audio file path\u001b[0m\u001b[0;34m\u001b[0m\u001b[0;34m\u001b[0m\u001b[0m\n\u001b[0;32m---> 28\u001b[0;31m \u001b[0mdetect_silence\u001b[0m\u001b[0;34m(\u001b[0m\u001b[0maudio_file_path\u001b[0m\u001b[0;34m)\u001b[0m\u001b[0;34m\u001b[0m\u001b[0;34m\u001b[0m\u001b[0m\n\u001b[0m",
            "\u001b[0;32m<ipython-input-19-926e4015bdb6>\u001b[0m in \u001b[0;36mdetect_silence\u001b[0;34m(audio_file_path)\u001b[0m\n\u001b[1;32m      3\u001b[0m \u001b[0;32mdef\u001b[0m \u001b[0mdetect_silence\u001b[0m\u001b[0;34m(\u001b[0m\u001b[0maudio_file_path\u001b[0m\u001b[0;34m)\u001b[0m\u001b[0;34m:\u001b[0m\u001b[0;34m\u001b[0m\u001b[0;34m\u001b[0m\u001b[0m\n\u001b[1;32m      4\u001b[0m     \u001b[0;31m# Load the audio file\u001b[0m\u001b[0;34m\u001b[0m\u001b[0;34m\u001b[0m\u001b[0m\n\u001b[0;32m----> 5\u001b[0;31m     \u001b[0maudio\u001b[0m \u001b[0;34m=\u001b[0m \u001b[0mAudioSegment\u001b[0m\u001b[0;34m.\u001b[0m\u001b[0mfrom_file\u001b[0m\u001b[0;34m(\u001b[0m\u001b[0maudio_file_path\u001b[0m\u001b[0;34m)\u001b[0m\u001b[0;34m\u001b[0m\u001b[0;34m\u001b[0m\u001b[0m\n\u001b[0m\u001b[1;32m      6\u001b[0m \u001b[0;34m\u001b[0m\u001b[0m\n\u001b[1;32m      7\u001b[0m     \u001b[0;31m# Set the silence threshold in dBFS\u001b[0m\u001b[0;34m\u001b[0m\u001b[0;34m\u001b[0m\u001b[0m\n",
            "\u001b[0;32m/usr/local/lib/python3.10/dist-packages/pydub/audio_segment.py\u001b[0m in \u001b[0;36mfrom_file\u001b[0;34m(cls, file, format, codec, parameters, start_second, duration, **kwargs)\u001b[0m\n\u001b[1;32m    649\u001b[0m         \u001b[0;32mexcept\u001b[0m \u001b[0mTypeError\u001b[0m\u001b[0;34m:\u001b[0m\u001b[0;34m\u001b[0m\u001b[0;34m\u001b[0m\u001b[0m\n\u001b[1;32m    650\u001b[0m             \u001b[0mfilename\u001b[0m \u001b[0;34m=\u001b[0m \u001b[0;32mNone\u001b[0m\u001b[0;34m\u001b[0m\u001b[0;34m\u001b[0m\u001b[0m\n\u001b[0;32m--> 651\u001b[0;31m         \u001b[0mfile\u001b[0m\u001b[0;34m,\u001b[0m \u001b[0mclose_file\u001b[0m \u001b[0;34m=\u001b[0m \u001b[0m_fd_or_path_or_tempfile\u001b[0m\u001b[0;34m(\u001b[0m\u001b[0mfile\u001b[0m\u001b[0;34m,\u001b[0m \u001b[0;34m'rb'\u001b[0m\u001b[0;34m,\u001b[0m \u001b[0mtempfile\u001b[0m\u001b[0;34m=\u001b[0m\u001b[0;32mFalse\u001b[0m\u001b[0;34m)\u001b[0m\u001b[0;34m\u001b[0m\u001b[0;34m\u001b[0m\u001b[0m\n\u001b[0m\u001b[1;32m    652\u001b[0m \u001b[0;34m\u001b[0m\u001b[0m\n\u001b[1;32m    653\u001b[0m         \u001b[0;32mif\u001b[0m \u001b[0mformat\u001b[0m\u001b[0;34m:\u001b[0m\u001b[0;34m\u001b[0m\u001b[0;34m\u001b[0m\u001b[0m\n",
            "\u001b[0;32m/usr/local/lib/python3.10/dist-packages/pydub/utils.py\u001b[0m in \u001b[0;36m_fd_or_path_or_tempfile\u001b[0;34m(fd, mode, tempfile)\u001b[0m\n\u001b[1;32m     58\u001b[0m \u001b[0;34m\u001b[0m\u001b[0m\n\u001b[1;32m     59\u001b[0m     \u001b[0;32mif\u001b[0m \u001b[0misinstance\u001b[0m\u001b[0;34m(\u001b[0m\u001b[0mfd\u001b[0m\u001b[0;34m,\u001b[0m \u001b[0mbasestring\u001b[0m\u001b[0;34m)\u001b[0m\u001b[0;34m:\u001b[0m\u001b[0;34m\u001b[0m\u001b[0;34m\u001b[0m\u001b[0m\n\u001b[0;32m---> 60\u001b[0;31m         \u001b[0mfd\u001b[0m \u001b[0;34m=\u001b[0m \u001b[0mopen\u001b[0m\u001b[0;34m(\u001b[0m\u001b[0mfd\u001b[0m\u001b[0;34m,\u001b[0m \u001b[0mmode\u001b[0m\u001b[0;34m=\u001b[0m\u001b[0mmode\u001b[0m\u001b[0;34m)\u001b[0m\u001b[0;34m\u001b[0m\u001b[0;34m\u001b[0m\u001b[0m\n\u001b[0m\u001b[1;32m     61\u001b[0m         \u001b[0mclose_fd\u001b[0m \u001b[0;34m=\u001b[0m \u001b[0;32mTrue\u001b[0m\u001b[0;34m\u001b[0m\u001b[0;34m\u001b[0m\u001b[0m\n\u001b[1;32m     62\u001b[0m \u001b[0;34m\u001b[0m\u001b[0m\n",
            "\u001b[0;31mFileNotFoundError\u001b[0m: [Errno 2] No such file or directory: 'path/to/your/audio/file.mp3'"
          ]
        }
      ],
      "source": [
        "from pydub import AudioSegment\n",
        "\n",
        "def detect_silence(audio_file_path):\n",
        "    # Load the audio file\n",
        "    audio = AudioSegment.from_file(audio_file_path)\n",
        "\n",
        "    # Set the silence threshold in dBFS\n",
        "    silence_threshold = -40\n",
        "\n",
        "    # Set the minimum silence duration in milliseconds\n",
        "    min_silence_duration = 1000\n",
        "\n",
        "    # Detect silence\n",
        "    chunks = split_on_silence(\n",
        "        audio,\n",
        "        min_silence_duration=min_silence_duration,\n",
        "        silence_thresh=silence_threshold\n",
        "    )\n",
        "\n",
        "    # Check if silence is detected\n",
        "    if len(chunks) > 0:\n",
        "        print(\"Silence detected in the audio file.\")\n",
        "    else:\n",
        "        print(\"No silence detected in the audio file.\")\n",
        "\n",
        "# Example usage\n",
        "audio_file_path = \"path/to/your/audio/file.mp3\" # Replace with your audio file path\n",
        "detect_silence(audio_file_path)\n"
      ]
    },
    {
      "cell_type": "code",
      "source": [],
      "metadata": {
        "id": "waZjRCHBcoLh"
      },
      "execution_count": null,
      "outputs": []
    },
    {
      "cell_type": "markdown",
      "metadata": {
        "id": "6Gkzl7HkJXeK"
      },
      "source": [
        "# Combining Videos"
      ]
    },
    {
      "cell_type": "code",
      "execution_count": null,
      "metadata": {
        "id": "gb-B-DCaJoo0"
      },
      "outputs": [],
      "source": []
    },
    {
      "cell_type": "code",
      "execution_count": null,
      "metadata": {
        "colab": {
          "base_uri": "https://localhost:8080/"
        },
        "id": "76A6qzcpHN_Y",
        "outputId": "0d525198-df3a-4166-f2d0-bdd6e528a832"
      },
      "outputs": [
        {
          "name": "stdout",
          "output_type": "stream",
          "text": [
            "Moviepy - Building video /content/combined_video.mp4.\n",
            "MoviePy - Writing audio in combined_videoTEMP_MPY_wvf_snd.mp3\n"
          ]
        },
        {
          "name": "stderr",
          "output_type": "stream",
          "text": []
        },
        {
          "name": "stdout",
          "output_type": "stream",
          "text": [
            "MoviePy - Done.\n",
            "Moviepy - Writing video /content/combined_video.mp4\n",
            "\n"
          ]
        },
        {
          "name": "stderr",
          "output_type": "stream",
          "text": [
            "t:   2%|▏         | 123/6353 [00:06<08:38, 12.00it/s, now=None]WARNING:py.warnings:/usr/local/lib/python3.9/dist-packages/moviepy/video/io/ffmpeg_reader.py:123: UserWarning: Warning: in file /content/16-52-12_MbeeYoh_020.mp4, 2764800 bytes wanted but 0 bytes read,at frame 122/123, at time 5.08/5.09 sec. Using the last valid frame instead.\n",
            "  warnings.warn(\"Warning: in file %s, \"%(self.filename)+\n",
            "\n",
            "t:  13%|█▎        | 855/6353 [01:02<07:02, 13.02it/s, now=None]WARNING:py.warnings:/usr/local/lib/python3.9/dist-packages/moviepy/video/io/ffmpeg_reader.py:123: UserWarning: Warning: in file /content/17-10-54_MbeeYoh_029.mp4, 2764800 bytes wanted but 0 bytes read,at frame 122/123, at time 5.08/5.09 sec. Using the last valid frame instead.\n",
            "  warnings.warn(\"Warning: in file %s, \"%(self.filename)+\n",
            "\n",
            "t:  37%|███▋      | 2322/6353 [03:03<05:23, 12.48it/s, now=None]WARNING:py.warnings:/usr/local/lib/python3.9/dist-packages/moviepy/video/io/ffmpeg_reader.py:123: UserWarning: Warning: in file /content/17-26-06_MbeeYoh_036.mp4, 2764800 bytes wanted but 0 bytes read,at frame 122/123, at time 5.08/5.09 sec. Using the last valid frame instead.\n",
            "  warnings.warn(\"Warning: in file %s, \"%(self.filename)+\n",
            "\n",
            "t:  48%|████▊     | 3054/6353 [04:06<04:20, 12.65it/s, now=None]WARNING:py.warnings:/usr/local/lib/python3.9/dist-packages/moviepy/video/io/ffmpeg_reader.py:123: UserWarning: Warning: in file /content/15-52-03_MbeeYoh_009.mp4, 2764800 bytes wanted but 0 bytes read,at frame 122/123, at time 5.08/5.09 sec. Using the last valid frame instead.\n",
            "  warnings.warn(\"Warning: in file %s, \"%(self.filename)+\n",
            "\n",
            "t:  50%|████▉     | 3175/6353 [04:14<03:10, 16.68it/s, now=None]WARNING:py.warnings:/usr/local/lib/python3.9/dist-packages/moviepy/video/io/ffmpeg_reader.py:123: UserWarning: Warning: in file /content/17-43-47_MbeeYoh_002.mp4, 2764800 bytes wanted but 0 bytes read,at frame 122/123, at time 5.08/5.09 sec. Using the last valid frame instead.\n",
            "  warnings.warn(\"Warning: in file %s, \"%(self.filename)+\n",
            "\n",
            "t:  73%|███████▎  | 4642/6353 [06:02<01:25, 19.93it/s, now=None]WARNING:py.warnings:/usr/local/lib/python3.9/dist-packages/moviepy/video/io/ffmpeg_reader.py:123: UserWarning: Warning: in file /content/16-04-26_MbeeYoh_017.mp4, 2764800 bytes wanted but 0 bytes read,at frame 122/123, at time 5.08/5.09 sec. Using the last valid frame instead.\n",
            "  warnings.warn(\"Warning: in file %s, \"%(self.filename)+\n",
            "\n",
            "t:  85%|████████▍ | 5376/6353 [07:01<00:41, 23.30it/s, now=None]WARNING:py.warnings:/usr/local/lib/python3.9/dist-packages/moviepy/video/io/ffmpeg_reader.py:123: UserWarning: Warning: in file /content/16-00-10_MbeeYoh_016.mp4, 2764800 bytes wanted but 0 bytes read,at frame 122/123, at time 5.08/5.09 sec. Using the last valid frame instead.\n",
            "  warnings.warn(\"Warning: in file %s, \"%(self.filename)+\n",
            "\n",
            "t:  96%|█████████▌| 6108/6353 [07:52<00:23, 10.57it/s, now=None]WARNING:py.warnings:/usr/local/lib/python3.9/dist-packages/moviepy/video/io/ffmpeg_reader.py:123: UserWarning: Warning: in file /content/15-56-48_MbeeYoh_013.mp4, 2764800 bytes wanted but 0 bytes read,at frame 122/123, at time 5.09/5.09 sec. Using the last valid frame instead.\n",
            "  warnings.warn(\"Warning: in file %s, \"%(self.filename)+\n",
            "\n",
            "t:  98%|█████████▊| 6229/6353 [07:58<00:05, 23.71it/s, now=None]WARNING:py.warnings:/usr/local/lib/python3.9/dist-packages/moviepy/video/io/ffmpeg_reader.py:123: UserWarning: Warning: in file /content/15-50-09_MbeeYoh_006.mp4, 2764800 bytes wanted but 0 bytes read,at frame 122/123, at time 5.08/5.09 sec. Using the last valid frame instead.\n",
            "  warnings.warn(\"Warning: in file %s, \"%(self.filename)+\n",
            "\n"
          ]
        },
        {
          "name": "stdout",
          "output_type": "stream",
          "text": [
            "Moviepy - Done !\n",
            "Moviepy - video ready /content/combined_video.mp4\n"
          ]
        }
      ],
      "source": [
        "from moviepy.editor import VideoFileClip, concatenate_videoclips\n",
        "import os\n",
        "\n",
        "# specify the directory containing video files to be combined\n",
        "directory = \"/content/\"\n",
        "\n",
        "# create an empty list to hold the video clips\n",
        "video_clips = []\n",
        "\n",
        "# loop through all video files in the directory and append them to the list\n",
        "for filename in os.listdir(directory):\n",
        "    if filename.endswith(\".mp4\"): # you can add more video file extensions here\n",
        "        video_clip = VideoFileClip(os.path.join(directory, filename))\n",
        "        video_clips.append(video_clip)\n",
        "\n",
        "# concatenate the video clips into a single clip\n",
        "final_clip = concatenate_videoclips(video_clips)\n",
        "\n",
        "# export the combined video as a single file\n",
        "final_clip.write_videofile(os.path.join(directory, \"combined_video.mp4\"), fps=24)\n"
      ]
    },
    {
      "cell_type": "code",
      "execution_count": null,
      "metadata": {
        "id": "31bRw0HzHZL0"
      },
      "outputs": [],
      "source": []
    }
  ],
  "metadata": {
    "colab": {
      "provenance": [],
      "mount_file_id": "1J1Z2zcRo_RPR8feEM1Ij0Loj6YcaVJ82",
      "authorship_tag": "ABX9TyNVIw9C1pwNFphH4rG5tUNl",
      "include_colab_link": true
    },
    "kernelspec": {
      "display_name": "Python 3",
      "name": "python3"
    },
    "language_info": {
      "name": "python"
    }
  },
  "nbformat": 4,
  "nbformat_minor": 0
}