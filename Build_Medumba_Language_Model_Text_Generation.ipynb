{
  "nbformat": 4,
  "nbformat_minor": 0,
  "metadata": {
    "colab": {
      "provenance": [],
      "mount_file_id": "1q3rzvMj7xtofPJa0P-phiHLrQr9qhC02",
      "authorship_tag": "ABX9TyNyuLtjgtKV+KAXbUcTlmmZ",
      "include_colab_link": true
    },
    "kernelspec": {
      "name": "python3",
      "display_name": "Python 3"
    },
    "language_info": {
      "name": "python"
    }
  },
  "cells": [
    {
      "cell_type": "markdown",
      "metadata": {
        "id": "view-in-github",
        "colab_type": "text"
      },
      "source": [
        "<a href=\"https://colab.research.google.com/github/tchamna/LLM-Under-Ressourced-Languages/blob/main/Build_Medumba_Language_Model_Text_Generation.ipynb\" target=\"_parent\"><img src=\"https://colab.research.google.com/assets/colab-badge.svg\" alt=\"Open In Colab\"/></a>"
      ]
    },
    {
      "cell_type": "code",
      "source": [
        "# REFERENCE: https://www.analyticsvidhya.com/blog/2019/08/comprehensive-guide-language-model-nlp-python-code/?\n",
        "\n",
        "\n",
        "# code courtesy of https://nlpforhackers.io/language-models/\n",
        "import pandas as pd\n",
        "\n",
        "from nltk.corpus import reuters\n",
        "from nltk import bigrams, trigrams, ngrams\n",
        "\n",
        "from collections import Counter, defaultdict\n",
        "import nltk\n"
      ],
      "metadata": {
        "id": "ZYTugG3--jly"
      },
      "execution_count": null,
      "outputs": []
    },
    {
      "cell_type": "code",
      "source": [
        "def clean_text(x, punct = [\".\",\",\",\";\",\":\",\"!\",\"?\"]):\n",
        "  for i in punct:\n",
        "    x = x.replace(i,\"\")\n",
        "    x = x.strip()\n",
        "    #remove digits\n",
        "    x = \"\".join([i for i in x if not i.isdigit()])\n",
        "    x = \" \".join(x.split())\n",
        "\n",
        "  return x\n",
        "\n"
      ],
      "metadata": {
        "id": "55ojFWeUBuUS"
      },
      "execution_count": null,
      "outputs": []
    },
    {
      "cell_type": "markdown",
      "source": [
        "# Getting Data"
      ],
      "metadata": {
        "id": "u8GmjV2V9V8J"
      }
    },
    {
      "cell_type": "code",
      "source": [
        "!wget https://raw.githubusercontent.com/tchamna/recommender/main/corpus_vocabulaire_nufi_test.txt\n",
        "\n"
      ],
      "metadata": {
        "id": "0wnm2Bi7BhpC",
        "colab": {
          "base_uri": "https://localhost:8080/"
        },
        "outputId": "092a27a4-3760-4528-c5c8-10f576f48fb9"
      },
      "execution_count": null,
      "outputs": [
        {
          "output_type": "stream",
          "name": "stdout",
          "text": [
            "--2023-05-21 01:23:22--  https://raw.githubusercontent.com/tchamna/recommender/main/corpus_vocabulaire_nufi_test.txt\n",
            "Resolving raw.githubusercontent.com (raw.githubusercontent.com)... 185.199.108.133, 185.199.109.133, 185.199.110.133, ...\n",
            "Connecting to raw.githubusercontent.com (raw.githubusercontent.com)|185.199.108.133|:443... connected.\n",
            "HTTP request sent, awaiting response... 200 OK\n",
            "Length: 305585 (298K) [text/plain]\n",
            "Saving to: ‘corpus_vocabulaire_nufi_test.txt’\n",
            "\n",
            "\r          corpus_vo   0%[                    ]       0  --.-KB/s               \rcorpus_vocabulaire_ 100%[===================>] 298.42K  --.-KB/s    in 0.006s  \n",
            "\n",
            "2023-05-21 01:23:23 (46.5 MB/s) - ‘corpus_vocabulaire_nufi_test.txt’ saved [305585/305585]\n",
            "\n"
          ]
        }
      ]
    },
    {
      "cell_type": "code",
      "source": [
        "pip install python-docx\n"
      ],
      "metadata": {
        "id": "PV26lkKTi8m7"
      },
      "execution_count": null,
      "outputs": []
    },
    {
      "cell_type": "code",
      "source": [
        "def from_many_documents_to_text(folder_path,output_file = \"combined_output_test.txt\"):\n",
        "    \n",
        "  import os\n",
        "  from docx import Document\n",
        "\n",
        "\n",
        "\n",
        "  with open(output_file, 'w') as output:\n",
        "      for filename in os.listdir(folder_path):\n",
        "          if filename.endswith('.docx'):\n",
        "              doc = Document(os.path.join(folder_path, filename))\n",
        "              output.write('\\n'.join([paragraph.text for paragraph in doc.paragraphs]) + '\\n')\n",
        "\n",
        "  print(f\"Documents combined and successfully saved here:{output_file}\")\n",
        "\n",
        "# folder_path = \"/content/drive/MyDrive/Data_Science/DataSets/Nufi/Nufi_Documents/Nufi_Only\"\n",
        "folder_path = \"/content/drive/MyDrive/Data_Science/DataSets/Medumba_Dataset\"\n",
        "\n",
        "output_file = \"main_file1.txt\"\n",
        "\n",
        "from_many_documents_to_text(folder_path,output_file)\n",
        "\n"
      ],
      "metadata": {
        "colab": {
          "base_uri": "https://localhost:8080/"
        },
        "id": "JNDES84poNit",
        "outputId": "a213278b-68eb-44fa-c3b7-5960e0f7ea15"
      },
      "execution_count": null,
      "outputs": [
        {
          "output_type": "stream",
          "name": "stdout",
          "text": [
            "Documents combined and successfully saved here:main_file1.txt\n"
          ]
        }
      ]
    },
    {
      "cell_type": "code",
      "source": [
        "import os\n",
        "\n",
        "# def combine_text_files(directory, output_file):\n",
        "#     with open(output_file, 'w') as output:\n",
        "#         for root, dirs, files in os.walk(directory):\n",
        "#             for file_name in files:\n",
        "#                 file_path = os.path.join(root, file_name)\n",
        "#                 if file_path.endswith('.txt'):\n",
        "#                     for line in fileinput.input(file_path):\n",
        "#                         output.write(line)\n",
        "\n",
        "\n",
        "def combine_text_files(directory, output_file, encoding='utf-8'):\n",
        "    with open(output_file, 'w',encoding=encoding) as output:\n",
        "        for root, _, files in os.walk(directory):\n",
        "            for file_name in files:\n",
        "                if file_name.endswith('.txt'):\n",
        "                    file_path = os.path.join(root, file_name)\n",
        "                    with open(file_path, 'r',encoding=encoding) as file:\n",
        "                        output.write(file.read())\n",
        "\n",
        "# Usage example\n",
        "\n",
        "\n",
        "directory = \"/content/drive/MyDrive/Data_Science/DataSets/Nufi/Nufi_Documents/Nufi_Only\"\n",
        "output_file = \"main_file2.txt\"\n",
        "\n",
        "combine_text_files(directory, output_file)\n",
        "\n",
        "directory = \"/content/\"\n",
        "output_file = \"main_file3.txt\"\n",
        "\n",
        "combine_text_files(directory, output_file)"
      ],
      "metadata": {
        "id": "HB51JJCTi99a"
      },
      "execution_count": null,
      "outputs": []
    },
    {
      "cell_type": "code",
      "source": [
        "\n",
        "with open(output_file) as f:\n",
        "  all_medumba = f.readlines()\n",
        "\n",
        "all_medumba = [txt for txt in all_medumba if not txt.startswith(\"\\n\")]\n",
        "all_medumba"
      ],
      "metadata": {
        "id": "hS2FZWgwi9OU"
      },
      "execution_count": null,
      "outputs": []
    },
    {
      "cell_type": "code",
      "source": [
        "def length(text_list):\n",
        "    \n",
        "  l_w = 0\n",
        "  words = []\n",
        "  for i in range(len(text_list)):\n",
        "    tokens = text_list[i].split()\n",
        "    words += tokens \n",
        "    l_w += len(tokens)\n",
        "  s = \"\"\n",
        "  for i in range(len(text_list)):\n",
        "    s += text_list[i]\n",
        "\n",
        "  return l_w, len(s), len(set(s)), len(set(words)), set(words)\n",
        "\n",
        "length(all_medumba)"
      ],
      "metadata": {
        "id": "fnuandtJ9ZqB"
      },
      "execution_count": null,
      "outputs": []
    },
    {
      "cell_type": "code",
      "source": [],
      "metadata": {
        "id": "TwTHuH4SIjKF"
      },
      "execution_count": null,
      "outputs": []
    },
    {
      "cell_type": "code",
      "source": [
        "# with open(r\"corpus_vocabulaire_nufi_test.txt\") as f:\n",
        "#   nufi_ = f.readlines()\n",
        "# nufi_[0:5]\n",
        "# corpus_nufi2 = all_nufi + nufi_\n",
        "all_medumba_set = list(set(all_medumba))\n",
        "\n",
        "medumba_clean = [clean_text(i.lower()) for i in all_medumba_set]\n",
        "\n",
        "medumba_tokens = [i.split() for i in medumba_clean]\n",
        "medumba_tokens[0:3]"
      ],
      "metadata": {
        "id": "9hp8-1UrJUvw"
      },
      "execution_count": null,
      "outputs": []
    },
    {
      "cell_type": "code",
      "source": [],
      "metadata": {
        "id": "vr176VgyBmrY"
      },
      "execution_count": null,
      "outputs": []
    },
    {
      "cell_type": "code",
      "source": [],
      "metadata": {
        "id": "mxWnY9JcCUgh"
      },
      "execution_count": null,
      "outputs": []
    },
    {
      "cell_type": "code",
      "source": [
        "\n",
        "# # df = pd.read_fwf(\"https://raw.githubusercontent.com/tchamna/recommender/main/phrase_book_guide_conversation_vocabulaire_nufi_test.txt\", sep=\" \", header=None)\n",
        "# df_nufi = pd.read_fwf(\"https://raw.githubusercontent.com/tchamna/recommender/main/corpus_vocabulaire_nufi_test.txt\", sep=\" \", header=None)\n",
        "\n",
        "# df_nufi.columns = [\"text\",\"None\"]\n",
        "# df_nufi"
      ],
      "metadata": {
        "id": "DhrYk-ZX_Th6"
      },
      "execution_count": null,
      "outputs": []
    },
    {
      "cell_type": "markdown",
      "source": [
        "# Build the model (Trigram)"
      ],
      "metadata": {
        "id": "p2a3VyeYLbgO"
      }
    },
    {
      "cell_type": "code",
      "source": [],
      "metadata": {
        "id": "GNPR7TuD0mFZ"
      },
      "execution_count": null,
      "outputs": []
    },
    {
      "cell_type": "code",
      "source": [],
      "metadata": {
        "id": "y8nrkfwAKC0b"
      },
      "execution_count": null,
      "outputs": []
    },
    {
      "cell_type": "code",
      "source": [
        "medumba_tokens\n"
      ],
      "metadata": {
        "id": "Cw7jt8uBz5hg"
      },
      "execution_count": null,
      "outputs": []
    },
    {
      "cell_type": "code",
      "source": [
        "# nltk.download('reuters')\n",
        "# nltk.download('punkt')\n",
        "# folder_path\n",
        "\n",
        "path_model_3grams = folder_path + \"Medumba_language_model_3gram.pickle\"\n",
        "path_model_4grams = folder_path + \"Medumba_language_model_4gram.pickle\"\n",
        "\n",
        "def create_defaultdict():\n",
        "      return defaultdict(int)\n",
        "  # Create a placeholder for model\n",
        "model_3g = defaultdict(create_defaultdict)\n",
        "\n",
        "def model_generation_3gram(nufi_clean, nufi_tokens, text = \"mə kɔ̌\"):\n",
        "\n",
        "  starting_seq_tuple = tuple(text.split(\" \"))\n",
        "    \n",
        "  # REFERENCE: https://www.analyticsvidhya.com/blog/2019/08/comprehensive-guide-language-model-nlp-python-code/?\n",
        "\n",
        "  # code courtesy of https://nlpforhackers.io/language-models/\n",
        "  import pandas as pd\n",
        "\n",
        "  from nltk.corpus import reuters\n",
        "  from nltk import bigrams, trigrams, ngrams\n",
        "\n",
        "  from collections import Counter, defaultdict\n",
        "  import nltk\n",
        "\n",
        "  import pickle\n",
        "\n",
        "\n",
        "  # Count frequency of co-occurance  \n",
        "  for sentence in nufi_tokens:\n",
        "      for w1, w2, w3 in trigrams(sentence, pad_right=True, pad_left=True):\n",
        "          model_3g[(w1, w2)][w3] += 1\n",
        "  \n",
        "  # Let's transform the counts to probabilities\n",
        "  for w1_w2 in model_3g:\n",
        "      total_count = float(sum(model_3g[w1_w2].values()))\n",
        "      for w3 in model_3g[w1_w2]:\n",
        "          model_3g[w1_w2][w3] /= total_count\n",
        "\n",
        "\n",
        "  \n",
        "  starting_seq_str = \" \".join(starting_seq_tuple)\n",
        "  next_word = dict(model_3g[starting_seq_tuple])\n",
        "\n",
        "  # print(\"starting_seq_str:\", starting_seq_str)\n",
        "  print()\n",
        "  next_word_list = sorted(next_word, key=next_word.get,reverse=True)\n",
        "  next_word_prob = [{i:round(next_word[i],5)} for i in next_word_list]\n",
        "  # print(\"next_word_list:\\n\", next_word_list)\n",
        "  print()\n",
        "  print(\"next_word_prob:\\n\", next_word_prob)\n",
        "  print()\n",
        "\n",
        "  phrase_list_containing_starting_seq = [i for i in nufi_clean if starting_seq_str in i]\n",
        "  # print(\"Phrases Containing Starting Sequence:\\n\",phrase_list_containing_starting_seq)\n",
        "\n",
        "\n",
        "  with open(path_model_3grams, 'wb') as file:\n",
        "    pickle.dump(model_3g, file)\n",
        "\n",
        "\n",
        "  return next_word_list, next_word_prob, phrase_list_containing_starting_seq\n",
        "  \n",
        "\n",
        "# model_generation_3gram(nufi_clean,nufi_tokens,(\"ǒ\", \"ngén\"))\n",
        "# model_generation_3gram(nufi_clean,nufi_tokens,(\"yáá\", \"mɑ̀\"))\n",
        "# model_3g = model_generation_3gram(nufi_clean,nufi_tokens,(\"ngɑ̌\", \"pén\"));\n",
        "\n",
        "# model_generation_3gram(nufi_clean,nufi_tokens,(\"mɑ́\", \"kɑ́\"))\n",
        "# model_generation_3gram(nufi_clean,nufi_tokens,(\"ncà' sī\"))\n",
        "\n",
        "start_seq = \"mə ju'\"\n",
        "start_seq = \"ncà kə̀\"\n",
        "# start_seq = \"â wə\"\n",
        "# start_seq = \"â kə\"\n",
        "\n",
        "res = model_generation_3gram(medumba_clean,medumba_tokens,start_seq)\n"
      ],
      "metadata": {
        "id": "HA9khOip_c3r",
        "colab": {
          "base_uri": "https://localhost:8080/"
        },
        "outputId": "e34b5b04-6226-468d-f77e-0f5ec1573575"
      },
      "execution_count": null,
      "outputs": [
        {
          "output_type": "stream",
          "name": "stdout",
          "text": [
            "\n",
            "\n",
            "next_word_prob:\n",
            " [{\"ghə̀'tə̀\": 0.16667}, {'njǎm': 0.16667}, {'ywìmtə̌': 0.16667}, {'bɛ̀n': 0.16667}, {'botə': 0.16667}, {'bə': 0.16667}]\n",
            "\n"
          ]
        }
      ]
    },
    {
      "cell_type": "code",
      "source": [
        "keys = [list(i.keys())[0] for i in res[1]] \n",
        "vals = [list(i.values())[0] for i in res[1]] \n",
        "\n",
        "df = pd.DataFrame({ f\"Next_Word\":keys, \"Probability\": vals})\n",
        "df[\"Word\"] = start_seq\n",
        "\n",
        "last = df.pop(\"Word\")\n",
        "df.insert(0,\"Word\",last)\n",
        "df "
      ],
      "metadata": {
        "id": "w9oFszBHClNC",
        "colab": {
          "base_uri": "https://localhost:8080/",
          "height": 237
        },
        "outputId": "6e35a8c2-fd1b-40ba-d77c-78f31daebaab"
      },
      "execution_count": null,
      "outputs": [
        {
          "output_type": "execute_result",
          "data": {
            "text/plain": [
              "      Word Next_Word  Probability\n",
              "0  ncà kə̀  ghə̀'tə̀      0.16667\n",
              "1  ncà kə̀      njǎm      0.16667\n",
              "2  ncà kə̀   ywìmtə̌      0.16667\n",
              "3  ncà kə̀      bɛ̀n      0.16667\n",
              "4  ncà kə̀      botə      0.16667\n",
              "5  ncà kə̀        bə      0.16667"
            ],
            "text/html": [
              "\n",
              "  <div id=\"df-fcedf8ec-af9e-4b8d-95aa-60cf52b37368\">\n",
              "    <div class=\"colab-df-container\">\n",
              "      <div>\n",
              "<style scoped>\n",
              "    .dataframe tbody tr th:only-of-type {\n",
              "        vertical-align: middle;\n",
              "    }\n",
              "\n",
              "    .dataframe tbody tr th {\n",
              "        vertical-align: top;\n",
              "    }\n",
              "\n",
              "    .dataframe thead th {\n",
              "        text-align: right;\n",
              "    }\n",
              "</style>\n",
              "<table border=\"1\" class=\"dataframe\">\n",
              "  <thead>\n",
              "    <tr style=\"text-align: right;\">\n",
              "      <th></th>\n",
              "      <th>Word</th>\n",
              "      <th>Next_Word</th>\n",
              "      <th>Probability</th>\n",
              "    </tr>\n",
              "  </thead>\n",
              "  <tbody>\n",
              "    <tr>\n",
              "      <th>0</th>\n",
              "      <td>ncà kə̀</td>\n",
              "      <td>ghə̀'tə̀</td>\n",
              "      <td>0.16667</td>\n",
              "    </tr>\n",
              "    <tr>\n",
              "      <th>1</th>\n",
              "      <td>ncà kə̀</td>\n",
              "      <td>njǎm</td>\n",
              "      <td>0.16667</td>\n",
              "    </tr>\n",
              "    <tr>\n",
              "      <th>2</th>\n",
              "      <td>ncà kə̀</td>\n",
              "      <td>ywìmtə̌</td>\n",
              "      <td>0.16667</td>\n",
              "    </tr>\n",
              "    <tr>\n",
              "      <th>3</th>\n",
              "      <td>ncà kə̀</td>\n",
              "      <td>bɛ̀n</td>\n",
              "      <td>0.16667</td>\n",
              "    </tr>\n",
              "    <tr>\n",
              "      <th>4</th>\n",
              "      <td>ncà kə̀</td>\n",
              "      <td>botə</td>\n",
              "      <td>0.16667</td>\n",
              "    </tr>\n",
              "    <tr>\n",
              "      <th>5</th>\n",
              "      <td>ncà kə̀</td>\n",
              "      <td>bə</td>\n",
              "      <td>0.16667</td>\n",
              "    </tr>\n",
              "  </tbody>\n",
              "</table>\n",
              "</div>\n",
              "      <button class=\"colab-df-convert\" onclick=\"convertToInteractive('df-fcedf8ec-af9e-4b8d-95aa-60cf52b37368')\"\n",
              "              title=\"Convert this dataframe to an interactive table.\"\n",
              "              style=\"display:none;\">\n",
              "        \n",
              "  <svg xmlns=\"http://www.w3.org/2000/svg\" height=\"24px\"viewBox=\"0 0 24 24\"\n",
              "       width=\"24px\">\n",
              "    <path d=\"M0 0h24v24H0V0z\" fill=\"none\"/>\n",
              "    <path d=\"M18.56 5.44l.94 2.06.94-2.06 2.06-.94-2.06-.94-.94-2.06-.94 2.06-2.06.94zm-11 1L8.5 8.5l.94-2.06 2.06-.94-2.06-.94L8.5 2.5l-.94 2.06-2.06.94zm10 10l.94 2.06.94-2.06 2.06-.94-2.06-.94-.94-2.06-.94 2.06-2.06.94z\"/><path d=\"M17.41 7.96l-1.37-1.37c-.4-.4-.92-.59-1.43-.59-.52 0-1.04.2-1.43.59L10.3 9.45l-7.72 7.72c-.78.78-.78 2.05 0 2.83L4 21.41c.39.39.9.59 1.41.59.51 0 1.02-.2 1.41-.59l7.78-7.78 2.81-2.81c.8-.78.8-2.07 0-2.86zM5.41 20L4 18.59l7.72-7.72 1.47 1.35L5.41 20z\"/>\n",
              "  </svg>\n",
              "      </button>\n",
              "      \n",
              "  <style>\n",
              "    .colab-df-container {\n",
              "      display:flex;\n",
              "      flex-wrap:wrap;\n",
              "      gap: 12px;\n",
              "    }\n",
              "\n",
              "    .colab-df-convert {\n",
              "      background-color: #E8F0FE;\n",
              "      border: none;\n",
              "      border-radius: 50%;\n",
              "      cursor: pointer;\n",
              "      display: none;\n",
              "      fill: #1967D2;\n",
              "      height: 32px;\n",
              "      padding: 0 0 0 0;\n",
              "      width: 32px;\n",
              "    }\n",
              "\n",
              "    .colab-df-convert:hover {\n",
              "      background-color: #E2EBFA;\n",
              "      box-shadow: 0px 1px 2px rgba(60, 64, 67, 0.3), 0px 1px 3px 1px rgba(60, 64, 67, 0.15);\n",
              "      fill: #174EA6;\n",
              "    }\n",
              "\n",
              "    [theme=dark] .colab-df-convert {\n",
              "      background-color: #3B4455;\n",
              "      fill: #D2E3FC;\n",
              "    }\n",
              "\n",
              "    [theme=dark] .colab-df-convert:hover {\n",
              "      background-color: #434B5C;\n",
              "      box-shadow: 0px 1px 3px 1px rgba(0, 0, 0, 0.15);\n",
              "      filter: drop-shadow(0px 1px 2px rgba(0, 0, 0, 0.3));\n",
              "      fill: #FFFFFF;\n",
              "    }\n",
              "  </style>\n",
              "\n",
              "      <script>\n",
              "        const buttonEl =\n",
              "          document.querySelector('#df-fcedf8ec-af9e-4b8d-95aa-60cf52b37368 button.colab-df-convert');\n",
              "        buttonEl.style.display =\n",
              "          google.colab.kernel.accessAllowed ? 'block' : 'none';\n",
              "\n",
              "        async function convertToInteractive(key) {\n",
              "          const element = document.querySelector('#df-fcedf8ec-af9e-4b8d-95aa-60cf52b37368');\n",
              "          const dataTable =\n",
              "            await google.colab.kernel.invokeFunction('convertToInteractive',\n",
              "                                                     [key], {});\n",
              "          if (!dataTable) return;\n",
              "\n",
              "          const docLinkHtml = 'Like what you see? Visit the ' +\n",
              "            '<a target=\"_blank\" href=https://colab.research.google.com/notebooks/data_table.ipynb>data table notebook</a>'\n",
              "            + ' to learn more about interactive tables.';\n",
              "          element.innerHTML = '';\n",
              "          dataTable['output_type'] = 'display_data';\n",
              "          await google.colab.output.renderOutput(dataTable, element);\n",
              "          const docLink = document.createElement('div');\n",
              "          docLink.innerHTML = docLinkHtml;\n",
              "          element.appendChild(docLink);\n",
              "        }\n",
              "      </script>\n",
              "    </div>\n",
              "  </div>\n",
              "  "
            ]
          },
          "metadata": {},
          "execution_count": 49
        }
      ]
    },
    {
      "cell_type": "code",
      "source": [
        "# list(model_3g.keys())\n",
        "# # list(model_3g.values())"
      ],
      "metadata": {
        "id": "1-5G0YmZDDpd"
      },
      "execution_count": null,
      "outputs": []
    },
    {
      "cell_type": "markdown",
      "source": [
        "# Load the Model"
      ],
      "metadata": {
        "id": "5Y9M2RkvUqhm"
      }
    },
    {
      "cell_type": "code",
      "source": [
        "import pickle\n",
        "from collections import defaultdict\n",
        "\n",
        "def create_defaultdict():\n",
        "      return defaultdict(int)\n",
        "  # Create a placeholder for model\n",
        "model_3g = defaultdict(create_defaultdict)\n",
        "\n",
        "# Load the model from the pickle file\n",
        "with open(path_model_3grams, 'rb') as file:\n",
        "    model_3g = pickle.load(file)\n"
      ],
      "metadata": {
        "id": "BUFt0j44_fdY"
      },
      "execution_count": null,
      "outputs": []
    },
    {
      "cell_type": "markdown",
      "source": [
        "# Text Generation (Trigram)"
      ],
      "metadata": {
        "id": "9yzRNQldDah5"
      }
    },
    {
      "cell_type": "code",
      "source": [
        "# list(model_3g.keys())\n",
        "# list(model_3g.values())"
      ],
      "metadata": {
        "id": "uloha_VOTsJP"
      },
      "execution_count": null,
      "outputs": []
    },
    {
      "cell_type": "code",
      "source": [],
      "metadata": {
        "id": "t6DBt_fyfGbw"
      },
      "execution_count": null,
      "outputs": []
    },
    {
      "cell_type": "code",
      "source": [
        "# code courtesy of https://nlpforhackers.io/language-models/\n",
        "\n",
        "import random\n",
        "\n",
        "\n",
        "\n",
        "def text_generation_3gram(text =\"ngɑ̌ yú'\",model = model_3g):\n",
        "\n",
        "  text = \" \".join(text.lower().split())\n",
        "  text = text.split(\" \")\n",
        "  \n",
        "  text_ = text[:]\n",
        "  if len(model[tuple(text_[-2:])].keys()) == 0:\n",
        "    return f\"{' ' .join(text_)} not in corpus\"\n",
        "\n",
        "  sentence_finished = False\n",
        "  \n",
        "  while not sentence_finished:\n",
        "    # select a random probability threshold  \n",
        "    r = random.random()\n",
        "    accumulator = .0\n",
        "\n",
        "    tup = tuple(text_[-2:])\n",
        "    for word in model[tuple(text_[-2:])].keys():\n",
        "        accumulator += model[tuple(text_[-2:])][word]\n",
        "        # select words that are above the probability threshold\n",
        "        if accumulator >= r:\n",
        "            text_.append(word)\n",
        "            break\n",
        "\n",
        "    if text_[-2:] == [None, None]:\n",
        "        sentence_finished = True\n",
        "\n",
        "  text_generated = ' '.join([t for t in text_ if t])\n",
        "\n",
        "  if text_generated in medumba_clean:\n",
        "    # print(\"Original\")\n",
        "    # print(text_generated)\n",
        "    return (\"Original\", text_generated)\n",
        "  else:\n",
        "    # print(\"Text Generated\")\n",
        "    # print(text_generated)\n",
        "    return (\"Text Generated\", text_generated)\n",
        "    # return (text_generated)\n",
        "\n",
        "# TEST\n",
        "text = [\"ngɑ̌\", \"nkwé'\"]\n",
        "text = [ \"nkwé'\", \"làh\"]\n",
        "text = \"mə ju'\"\n",
        "# text = \"ǎ lén\"\n",
        "\n",
        "# text = \"mɑ́ kɑ́\"\n",
        "\n",
        "# tuple_text = tuple(text)\n",
        "text_generation_3gram(text)"
      ],
      "metadata": {
        "colab": {
          "base_uri": "https://localhost:8080/"
        },
        "id": "8las3g8KDDs7",
        "outputId": "c17e6bda-bfdd-4879-b8f6-989752ee8bdc"
      },
      "execution_count": null,
      "outputs": [
        {
          "output_type": "execute_result",
          "data": {
            "text/plain": [
              "('Text Generated', \"mə ju' mbɑ̀ ntsə’tə̀ ghǎco'tə ncà fa mî nùm ncǔ bo\")"
            ]
          },
          "metadata": {},
          "execution_count": 53
        }
      ]
    },
    {
      "cell_type": "code",
      "source": [
        "# If you want to check the probability of Words Prediction, Run the Code Below\n",
        "# tuple_text = tuple(text)\n",
        "next_word_list, next_word_prob, phrase_list_containing_starting_seq = \\\n",
        "model_generation_3gram(medumba_clean,medumba_tokens,text)\n"
      ],
      "metadata": {
        "colab": {
          "base_uri": "https://localhost:8080/"
        },
        "id": "atZilM97BNin",
        "outputId": "7c64b5fe-94fe-4c34-9593-bfb255033f25"
      },
      "execution_count": null,
      "outputs": [
        {
          "output_type": "stream",
          "name": "stdout",
          "text": [
            "\n",
            "\n",
            "next_word_prob:\n",
            " [{\"mǒ'\": 0.46154}, {'mbɑ̀': 0.11538}, {'nzə̀': 0.07692}, {'njǒŋ': 0.07692}, {'mbadtə̀': 0.07692}, {'ndʉ': 0.03846}, {'bə̀nntʉ̀n': 0.03846}, {'bǐn': 0.03846}, {'ɑngɛ̀l': 0.03846}, {'tɔ̌mbwog': 0.03846}]\n",
            "\n"
          ]
        }
      ]
    },
    {
      "cell_type": "code",
      "source": [],
      "metadata": {
        "id": "8QbJE2VhiuaZ"
      },
      "execution_count": null,
      "outputs": []
    },
    {
      "cell_type": "markdown",
      "source": [
        "# Build Interface using Gradio"
      ],
      "metadata": {
        "id": "-naF-Yz5dDhP"
      }
    },
    {
      "cell_type": "code",
      "source": [
        "pip install gradio"
      ],
      "metadata": {
        "id": "SEjDUSArdJjK",
        "colab": {
          "base_uri": "https://localhost:8080/"
        },
        "outputId": "3bebdf4d-2696-451a-dcbf-228584b003bf"
      },
      "execution_count": null,
      "outputs": [
        {
          "output_type": "stream",
          "name": "stdout",
          "text": [
            "Looking in indexes: https://pypi.org/simple, https://us-python.pkg.dev/colab-wheels/public/simple/\n",
            "Collecting gradio\n",
            "  Downloading gradio-3.31.0-py3-none-any.whl (17.4 MB)\n",
            "\u001b[2K     \u001b[90m━━━━━━━━━━━━━━━━━━━━━━━━━━━━━━━━━━━━━━━━\u001b[0m \u001b[32m17.4/17.4 MB\u001b[0m \u001b[31m48.4 MB/s\u001b[0m eta \u001b[36m0:00:00\u001b[0m\n",
            "\u001b[?25hCollecting aiofiles (from gradio)\n",
            "  Downloading aiofiles-23.1.0-py3-none-any.whl (14 kB)\n",
            "Collecting aiohttp (from gradio)\n",
            "  Downloading aiohttp-3.8.4-cp310-cp310-manylinux_2_17_x86_64.manylinux2014_x86_64.whl (1.0 MB)\n",
            "\u001b[2K     \u001b[90m━━━━━━━━━━━━━━━━━━━━━━━━━━━━━━━━━━━━━━━━\u001b[0m \u001b[32m1.0/1.0 MB\u001b[0m \u001b[31m60.6 MB/s\u001b[0m eta \u001b[36m0:00:00\u001b[0m\n",
            "\u001b[?25hRequirement already satisfied: altair>=4.2.0 in /usr/local/lib/python3.10/dist-packages (from gradio) (4.2.2)\n",
            "Collecting fastapi (from gradio)\n",
            "  Downloading fastapi-0.95.2-py3-none-any.whl (56 kB)\n",
            "\u001b[2K     \u001b[90m━━━━━━━━━━━━━━━━━━━━━━━━━━━━━━━━━━━━━━━━\u001b[0m \u001b[32m57.0/57.0 kB\u001b[0m \u001b[31m5.9 MB/s\u001b[0m eta \u001b[36m0:00:00\u001b[0m\n",
            "\u001b[?25hCollecting ffmpy (from gradio)\n",
            "  Downloading ffmpy-0.3.0.tar.gz (4.8 kB)\n",
            "  Preparing metadata (setup.py) ... \u001b[?25l\u001b[?25hdone\n",
            "Collecting gradio-client>=0.2.4 (from gradio)\n",
            "  Downloading gradio_client-0.2.5-py3-none-any.whl (288 kB)\n",
            "\u001b[2K     \u001b[90m━━━━━━━━━━━━━━━━━━━━━━━━━━━━━━━━━━━━━━\u001b[0m \u001b[32m288.1/288.1 kB\u001b[0m \u001b[31m29.5 MB/s\u001b[0m eta \u001b[36m0:00:00\u001b[0m\n",
            "\u001b[?25hCollecting httpx (from gradio)\n",
            "  Downloading httpx-0.24.1-py3-none-any.whl (75 kB)\n",
            "\u001b[2K     \u001b[90m━━━━━━━━━━━━━━━━━━━━━━━━━━━━━━━━━━━━━━━━\u001b[0m \u001b[32m75.4/75.4 kB\u001b[0m \u001b[31m8.3 MB/s\u001b[0m eta \u001b[36m0:00:00\u001b[0m\n",
            "\u001b[?25hCollecting huggingface-hub>=0.13.0 (from gradio)\n",
            "  Downloading huggingface_hub-0.14.1-py3-none-any.whl (224 kB)\n",
            "\u001b[2K     \u001b[90m━━━━━━━━━━━━━━━━━━━━━━━━━━━━━━━━━━━━━━\u001b[0m \u001b[32m224.5/224.5 kB\u001b[0m \u001b[31m22.3 MB/s\u001b[0m eta \u001b[36m0:00:00\u001b[0m\n",
            "\u001b[?25hRequirement already satisfied: jinja2 in /usr/local/lib/python3.10/dist-packages (from gradio) (3.1.2)\n",
            "Requirement already satisfied: markdown-it-py[linkify]>=2.0.0 in /usr/local/lib/python3.10/dist-packages (from gradio) (2.2.0)\n",
            "Requirement already satisfied: markupsafe in /usr/local/lib/python3.10/dist-packages (from gradio) (2.1.2)\n",
            "Requirement already satisfied: matplotlib in /usr/local/lib/python3.10/dist-packages (from gradio) (3.7.1)\n",
            "Collecting mdit-py-plugins<=0.3.3 (from gradio)\n",
            "  Downloading mdit_py_plugins-0.3.3-py3-none-any.whl (50 kB)\n",
            "\u001b[2K     \u001b[90m━━━━━━━━━━━━━━━━━━━━━━━━━━━━━━━━━━━━━━━━\u001b[0m \u001b[32m50.5/50.5 kB\u001b[0m \u001b[31m5.4 MB/s\u001b[0m eta \u001b[36m0:00:00\u001b[0m\n",
            "\u001b[?25hRequirement already satisfied: numpy in /usr/local/lib/python3.10/dist-packages (from gradio) (1.22.4)\n",
            "Collecting orjson (from gradio)\n",
            "  Downloading orjson-3.8.12-cp310-cp310-manylinux_2_17_x86_64.manylinux2014_x86_64.whl (137 kB)\n",
            "\u001b[2K     \u001b[90m━━━━━━━━━━━━━━━━━━━━━━━━━━━━━━━━━━━━━━\u001b[0m \u001b[32m137.2/137.2 kB\u001b[0m \u001b[31m12.4 MB/s\u001b[0m eta \u001b[36m0:00:00\u001b[0m\n",
            "\u001b[?25hRequirement already satisfied: pandas in /usr/local/lib/python3.10/dist-packages (from gradio) (1.5.3)\n",
            "Requirement already satisfied: pillow in /usr/local/lib/python3.10/dist-packages (from gradio) (8.4.0)\n",
            "Requirement already satisfied: pydantic in /usr/local/lib/python3.10/dist-packages (from gradio) (1.10.7)\n",
            "Collecting pydub (from gradio)\n",
            "  Downloading pydub-0.25.1-py2.py3-none-any.whl (32 kB)\n",
            "Requirement already satisfied: pygments>=2.12.0 in /usr/local/lib/python3.10/dist-packages (from gradio) (2.14.0)\n",
            "Collecting python-multipart (from gradio)\n",
            "  Downloading python_multipart-0.0.6-py3-none-any.whl (45 kB)\n",
            "\u001b[2K     \u001b[90m━━━━━━━━━━━━━━━━━━━━━━━━━━━━━━━━━━━━━━━━\u001b[0m \u001b[32m45.7/45.7 kB\u001b[0m \u001b[31m5.2 MB/s\u001b[0m eta \u001b[36m0:00:00\u001b[0m\n",
            "\u001b[?25hRequirement already satisfied: pyyaml in /usr/local/lib/python3.10/dist-packages (from gradio) (6.0)\n",
            "Requirement already satisfied: requests in /usr/local/lib/python3.10/dist-packages (from gradio) (2.27.1)\n",
            "Collecting semantic-version (from gradio)\n",
            "  Downloading semantic_version-2.10.0-py2.py3-none-any.whl (15 kB)\n",
            "Requirement already satisfied: typing-extensions in /usr/local/lib/python3.10/dist-packages (from gradio) (4.5.0)\n",
            "Collecting uvicorn>=0.14.0 (from gradio)\n",
            "  Downloading uvicorn-0.22.0-py3-none-any.whl (58 kB)\n",
            "\u001b[2K     \u001b[90m━━━━━━━━━━━━━━━━━━━━━━━━━━━━━━━━━━━━━━━━\u001b[0m \u001b[32m58.3/58.3 kB\u001b[0m \u001b[31m6.0 MB/s\u001b[0m eta \u001b[36m0:00:00\u001b[0m\n",
            "\u001b[?25hCollecting websockets>=10.0 (from gradio)\n",
            "  Downloading websockets-11.0.3-cp310-cp310-manylinux_2_5_x86_64.manylinux1_x86_64.manylinux_2_17_x86_64.manylinux2014_x86_64.whl (129 kB)\n",
            "\u001b[2K     \u001b[90m━━━━━━━━━━━━━━━━━━━━━━━━━━━━━━━━━━━━━━\u001b[0m \u001b[32m129.9/129.9 kB\u001b[0m \u001b[31m15.1 MB/s\u001b[0m eta \u001b[36m0:00:00\u001b[0m\n",
            "\u001b[?25hRequirement already satisfied: entrypoints in /usr/local/lib/python3.10/dist-packages (from altair>=4.2.0->gradio) (0.4)\n",
            "Requirement already satisfied: jsonschema>=3.0 in /usr/local/lib/python3.10/dist-packages (from altair>=4.2.0->gradio) (4.3.3)\n",
            "Requirement already satisfied: toolz in /usr/local/lib/python3.10/dist-packages (from altair>=4.2.0->gradio) (0.12.0)\n",
            "Requirement already satisfied: fsspec in /usr/local/lib/python3.10/dist-packages (from gradio-client>=0.2.4->gradio) (2023.4.0)\n",
            "Requirement already satisfied: packaging in /usr/local/lib/python3.10/dist-packages (from gradio-client>=0.2.4->gradio) (23.1)\n",
            "Requirement already satisfied: filelock in /usr/local/lib/python3.10/dist-packages (from huggingface-hub>=0.13.0->gradio) (3.12.0)\n",
            "Requirement already satisfied: tqdm>=4.42.1 in /usr/local/lib/python3.10/dist-packages (from huggingface-hub>=0.13.0->gradio) (4.65.0)\n",
            "Requirement already satisfied: mdurl~=0.1 in /usr/local/lib/python3.10/dist-packages (from markdown-it-py[linkify]>=2.0.0->gradio) (0.1.2)\n",
            "Collecting linkify-it-py<3,>=1 (from markdown-it-py[linkify]>=2.0.0->gradio)\n",
            "  Downloading linkify_it_py-2.0.2-py3-none-any.whl (19 kB)\n",
            "Requirement already satisfied: python-dateutil>=2.8.1 in /usr/local/lib/python3.10/dist-packages (from pandas->gradio) (2.8.2)\n",
            "Requirement already satisfied: pytz>=2020.1 in /usr/local/lib/python3.10/dist-packages (from pandas->gradio) (2022.7.1)\n",
            "Requirement already satisfied: click>=7.0 in /usr/local/lib/python3.10/dist-packages (from uvicorn>=0.14.0->gradio) (8.1.3)\n",
            "Collecting h11>=0.8 (from uvicorn>=0.14.0->gradio)\n",
            "  Downloading h11-0.14.0-py3-none-any.whl (58 kB)\n",
            "\u001b[2K     \u001b[90m━━━━━━━━━━━━━━━━━━━━━━━━━━━━━━━━━━━━━━━━\u001b[0m \u001b[32m58.3/58.3 kB\u001b[0m \u001b[31m6.0 MB/s\u001b[0m eta \u001b[36m0:00:00\u001b[0m\n",
            "\u001b[?25hRequirement already satisfied: attrs>=17.3.0 in /usr/local/lib/python3.10/dist-packages (from aiohttp->gradio) (23.1.0)\n",
            "Requirement already satisfied: charset-normalizer<4.0,>=2.0 in /usr/local/lib/python3.10/dist-packages (from aiohttp->gradio) (2.0.12)\n",
            "Collecting multidict<7.0,>=4.5 (from aiohttp->gradio)\n",
            "  Downloading multidict-6.0.4-cp310-cp310-manylinux_2_17_x86_64.manylinux2014_x86_64.whl (114 kB)\n",
            "\u001b[2K     \u001b[90m━━━━━━━━━━━━━━━━━━━━━━━━━━━━━━━━━━━━━━\u001b[0m \u001b[32m114.5/114.5 kB\u001b[0m \u001b[31m11.5 MB/s\u001b[0m eta \u001b[36m0:00:00\u001b[0m\n",
            "\u001b[?25hCollecting async-timeout<5.0,>=4.0.0a3 (from aiohttp->gradio)\n",
            "  Downloading async_timeout-4.0.2-py3-none-any.whl (5.8 kB)\n",
            "Collecting yarl<2.0,>=1.0 (from aiohttp->gradio)\n",
            "  Downloading yarl-1.9.2-cp310-cp310-manylinux_2_17_x86_64.manylinux2014_x86_64.whl (268 kB)\n",
            "\u001b[2K     \u001b[90m━━━━━━━━━━━━━━━━━━━━━━━━━━━━━━━━━━━━━━\u001b[0m \u001b[32m268.8/268.8 kB\u001b[0m \u001b[31m25.8 MB/s\u001b[0m eta \u001b[36m0:00:00\u001b[0m\n",
            "\u001b[?25hCollecting frozenlist>=1.1.1 (from aiohttp->gradio)\n",
            "  Downloading frozenlist-1.3.3-cp310-cp310-manylinux_2_5_x86_64.manylinux1_x86_64.manylinux_2_17_x86_64.manylinux2014_x86_64.whl (149 kB)\n",
            "\u001b[2K     \u001b[90m━━━━━━━━━━━━━━━━━━━━━━━━━━━━━━━━━━━━━━\u001b[0m \u001b[32m149.6/149.6 kB\u001b[0m \u001b[31m14.9 MB/s\u001b[0m eta \u001b[36m0:00:00\u001b[0m\n",
            "\u001b[?25hCollecting aiosignal>=1.1.2 (from aiohttp->gradio)\n",
            "  Downloading aiosignal-1.3.1-py3-none-any.whl (7.6 kB)\n",
            "Collecting starlette<0.28.0,>=0.27.0 (from fastapi->gradio)\n",
            "  Downloading starlette-0.27.0-py3-none-any.whl (66 kB)\n",
            "\u001b[2K     \u001b[90m━━━━━━━━━━━━━━━━━━━━━━━━━━━━━━━━━━━━━━━━\u001b[0m \u001b[32m67.0/67.0 kB\u001b[0m \u001b[31m7.0 MB/s\u001b[0m eta \u001b[36m0:00:00\u001b[0m\n",
            "\u001b[?25hRequirement already satisfied: certifi in /usr/local/lib/python3.10/dist-packages (from httpx->gradio) (2022.12.7)\n",
            "Collecting httpcore<0.18.0,>=0.15.0 (from httpx->gradio)\n",
            "  Downloading httpcore-0.17.1-py3-none-any.whl (70 kB)\n",
            "\u001b[2K     \u001b[90m━━━━━━━━━━━━━━━━━━━━━━━━━━━━━━━━━━━━━━━━\u001b[0m \u001b[32m70.9/70.9 kB\u001b[0m \u001b[31m7.1 MB/s\u001b[0m eta \u001b[36m0:00:00\u001b[0m\n",
            "\u001b[?25hRequirement already satisfied: idna in /usr/local/lib/python3.10/dist-packages (from httpx->gradio) (3.4)\n",
            "Requirement already satisfied: sniffio in /usr/local/lib/python3.10/dist-packages (from httpx->gradio) (1.3.0)\n",
            "Requirement already satisfied: contourpy>=1.0.1 in /usr/local/lib/python3.10/dist-packages (from matplotlib->gradio) (1.0.7)\n",
            "Requirement already satisfied: cycler>=0.10 in /usr/local/lib/python3.10/dist-packages (from matplotlib->gradio) (0.11.0)\n",
            "Requirement already satisfied: fonttools>=4.22.0 in /usr/local/lib/python3.10/dist-packages (from matplotlib->gradio) (4.39.3)\n",
            "Requirement already satisfied: kiwisolver>=1.0.1 in /usr/local/lib/python3.10/dist-packages (from matplotlib->gradio) (1.4.4)\n",
            "Requirement already satisfied: pyparsing>=2.3.1 in /usr/local/lib/python3.10/dist-packages (from matplotlib->gradio) (3.0.9)\n",
            "Requirement already satisfied: urllib3<1.27,>=1.21.1 in /usr/local/lib/python3.10/dist-packages (from requests->gradio) (1.26.15)\n",
            "Requirement already satisfied: anyio<5.0,>=3.0 in /usr/local/lib/python3.10/dist-packages (from httpcore<0.18.0,>=0.15.0->httpx->gradio) (3.6.2)\n",
            "Requirement already satisfied: pyrsistent!=0.17.0,!=0.17.1,!=0.17.2,>=0.14.0 in /usr/local/lib/python3.10/dist-packages (from jsonschema>=3.0->altair>=4.2.0->gradio) (0.19.3)\n",
            "Collecting uc-micro-py (from linkify-it-py<3,>=1->markdown-it-py[linkify]>=2.0.0->gradio)\n",
            "  Downloading uc_micro_py-1.0.2-py3-none-any.whl (6.2 kB)\n",
            "Requirement already satisfied: six>=1.5 in /usr/local/lib/python3.10/dist-packages (from python-dateutil>=2.8.1->pandas->gradio) (1.16.0)\n",
            "Building wheels for collected packages: ffmpy\n",
            "  Building wheel for ffmpy (setup.py) ... \u001b[?25l\u001b[?25hdone\n",
            "  Created wheel for ffmpy: filename=ffmpy-0.3.0-py3-none-any.whl size=4694 sha256=80007ea45cf906de750d3566acb2a7262f50e01b545eca559f504960921cd598\n",
            "  Stored in directory: /root/.cache/pip/wheels/0c/c2/0e/3b9c6845c6a4e35beb90910cc70d9ac9ab5d47402bd62af0df\n",
            "Successfully built ffmpy\n",
            "Installing collected packages: pydub, ffmpy, websockets, uc-micro-py, semantic-version, python-multipart, orjson, multidict, h11, frozenlist, async-timeout, aiofiles, yarl, uvicorn, starlette, mdit-py-plugins, linkify-it-py, huggingface-hub, httpcore, aiosignal, httpx, fastapi, aiohttp, gradio-client, gradio\n",
            "Successfully installed aiofiles-23.1.0 aiohttp-3.8.4 aiosignal-1.3.1 async-timeout-4.0.2 fastapi-0.95.2 ffmpy-0.3.0 frozenlist-1.3.3 gradio-3.31.0 gradio-client-0.2.5 h11-0.14.0 httpcore-0.17.1 httpx-0.24.1 huggingface-hub-0.14.1 linkify-it-py-2.0.2 mdit-py-plugins-0.3.3 multidict-6.0.4 orjson-3.8.12 pydub-0.25.1 python-multipart-0.0.6 semantic-version-2.10.0 starlette-0.27.0 uc-micro-py-1.0.2 uvicorn-0.22.0 websockets-11.0.3 yarl-1.9.2\n"
          ]
        }
      ]
    },
    {
      "cell_type": "code",
      "source": [
        "import gradio as gr"
      ],
      "metadata": {
        "id": "p0BjAv44dr6R"
      },
      "execution_count": null,
      "outputs": []
    },
    {
      "cell_type": "code",
      "source": [
        "\n",
        "\n",
        "iface = gr.Interface(fn=text_generation_3gram,\n",
        "                     inputs=gr.components.Textbox(lines=7, label=\"Example: mə ju' \"),\n",
        "                     outputs=\"text\",\n",
        "                     title=\"Medumba-Resulam 3Grams Text Completion\")\n",
        "\n",
        "iface.launch(share=True)\n",
        "\n",
        "iface.launch(share=True)"
      ],
      "metadata": {
        "colab": {
          "base_uri": "https://localhost:8080/",
          "height": 1000
        },
        "id": "GjfQ8MIPdIK6",
        "outputId": "b499ddfe-1099-4378-8c28-50eae0de8a8e"
      },
      "execution_count": null,
      "outputs": [
        {
          "output_type": "stream",
          "name": "stdout",
          "text": [
            "Colab notebook detected. To show errors in colab notebook, set debug=True in launch()\n",
            "Running on public URL: https://47b6b310b0f600f720.gradio.live\n",
            "\n",
            "This share link expires in 72 hours. For free permanent hosting and GPU upgrades (NEW!), check out Spaces: https://huggingface.co/spaces\n"
          ]
        },
        {
          "output_type": "display_data",
          "data": {
            "text/plain": [
              "<IPython.core.display.HTML object>"
            ],
            "text/html": [
              "<div><iframe src=\"https://47b6b310b0f600f720.gradio.live\" width=\"100%\" height=\"500\" allow=\"autoplay; camera; microphone; clipboard-read; clipboard-write;\" frameborder=\"0\" allowfullscreen></iframe></div>"
            ]
          },
          "metadata": {}
        },
        {
          "output_type": "stream",
          "name": "stdout",
          "text": [
            "Rerunning server... use `close()` to stop if you need to change `launch()` parameters.\n",
            "----\n",
            "Colab notebook detected. To show errors in colab notebook, set debug=True in launch()\n",
            "Running on public URL: https://47b6b310b0f600f720.gradio.live\n",
            "\n",
            "This share link expires in 72 hours. For free permanent hosting and GPU upgrades (NEW!), check out Spaces: https://huggingface.co/spaces\n"
          ]
        },
        {
          "output_type": "display_data",
          "data": {
            "text/plain": [
              "<IPython.core.display.HTML object>"
            ],
            "text/html": [
              "<div><iframe src=\"https://47b6b310b0f600f720.gradio.live\" width=\"100%\" height=\"500\" allow=\"autoplay; camera; microphone; clipboard-read; clipboard-write;\" frameborder=\"0\" allowfullscreen></iframe></div>"
            ]
          },
          "metadata": {}
        },
        {
          "output_type": "execute_result",
          "data": {
            "text/plain": []
          },
          "metadata": {},
          "execution_count": 75
        }
      ]
    },
    {
      "cell_type": "code",
      "source": [
        "# import pickle\n",
        "\n",
        "# new_file = open(\"Nufi_language_model.pkl\",\"wb\")\n",
        "# pickle.dump(model_3g,new_file)\n",
        "# new_file.close()"
      ],
      "metadata": {
        "id": "ZqIP21MIe7IL"
      },
      "execution_count": null,
      "outputs": []
    },
    {
      "cell_type": "code",
      "source": [],
      "metadata": {
        "id": "zI21BBXuHZTx"
      },
      "execution_count": null,
      "outputs": []
    },
    {
      "cell_type": "code",
      "source": [],
      "metadata": {
        "id": "yH3_suUue7Ll"
      },
      "execution_count": null,
      "outputs": []
    },
    {
      "cell_type": "code",
      "source": [],
      "metadata": {
        "id": "R5Tzr2fte7WT"
      },
      "execution_count": null,
      "outputs": []
    },
    {
      "cell_type": "code",
      "source": [],
      "metadata": {
        "id": "fMdbmMpYAR-R"
      },
      "execution_count": null,
      "outputs": []
    },
    {
      "cell_type": "markdown",
      "source": [
        "# Build the model (Four Gram)"
      ],
      "metadata": {
        "id": "-7dBjc1hQIrA"
      }
    },
    {
      "cell_type": "code",
      "source": [],
      "metadata": {
        "id": "uj8t45LQgBI3"
      },
      "execution_count": null,
      "outputs": []
    },
    {
      "cell_type": "code",
      "source": [
        "# nltk.download('reuters')\n",
        "# nltk.download('punkt')\n",
        "\n",
        "path_model_4grams = folder_path + \"Medumba_language_model_4gram.pickle\"\n",
        "\n",
        "def create_defaultdict():\n",
        "      return defaultdict(int)\n",
        "  # Create a placeholder for model\n",
        "model_4g = defaultdict(create_defaultdict)\n",
        "\n",
        "\n",
        "def model_generation_4gram(nufi_clean, nufi_tokens, initial_text = \"ngɑ̌ yú' mɑ́\", N_gram = 4):\n",
        "\n",
        "  starting_seq_tuple = tuple(initial_text.split(\" \"))\n",
        "    \n",
        "  # REFERENCE: https://www.analyticsvidhya.com/blog/2019/08/comprehensive-guide-language-model-nlp-python-code/?\n",
        "\n",
        "  # code courtesy of https://nlpforhackers.io/language-models/\n",
        "  import pandas as pd\n",
        "\n",
        "  from nltk.corpus import reuters\n",
        "  from nltk import bigrams, trigrams, ngrams\n",
        "\n",
        "  from collections import Counter, defaultdict\n",
        "  import nltk\n",
        "\n",
        "  import pickle\n",
        "\n",
        "\n",
        "  # Count frequency of co-occurance  \n",
        "  # Count frequency of co-occurance  \n",
        "  for sentence in nufi_tokens:\n",
        "      # for w1, w2, w3 in sixgrams(sentence, pad_right=True, pad_left=True):\n",
        "      for w1, w2, w3, w4 in ngrams(sentence, N_gram, pad_right=True, pad_left=True):\n",
        "\n",
        "          model_4g[(w1, w2,w3)][w4] += 1\n",
        "  \n",
        "  # Let's transform the counts to probabilities\n",
        "  for w1_w2_w3 in model_4g:\n",
        "      total_count = float(sum(model_4g[w1_w2_w3].values()))\n",
        "      for w4 in model_4g[w1_w2_w3]:\n",
        "          model_4g[w1_w2_w3][w4] /= total_count\n",
        "\n",
        "\n",
        "\n",
        "  \n",
        "  starting_seq_str = \" \".join(starting_seq_tuple)\n",
        "  next_word = dict(model_4g[starting_seq_tuple])\n",
        "\n",
        "  print(\"starting_seq_str:\", starting_seq_str)\n",
        "  print()\n",
        "  next_word_list = sorted(next_word, key=next_word.get,reverse=True)\n",
        "  next_word_prob = [{i:round(next_word[i],5)} for i in next_word_list]\n",
        "  print(\"next_word_list:\\n\", next_word_list)\n",
        "  print()\n",
        "  print(\"next_word_prob:\\n\", next_word_prob)\n",
        "  print()\n",
        "\n",
        "  phrase_list_containing_starting_seq = [i for i in medumba_clean if starting_seq_str in i]\n",
        "  print(\"Phrases Containing Starting Sequence:\\n\",phrase_list_containing_starting_seq)\n",
        "\n",
        "\n",
        "  with open(path_model_4grams, 'wb') as file:\n",
        "    pickle.dump(model_4g, file)\n",
        "\n",
        "\n",
        "  return next_word_list, next_word_prob, phrase_list_containing_starting_seq\n",
        "  \n",
        "\n",
        "text = \"a cob mbɑ̀\"\n",
        "model_generation_4gram(medumba_clean,medumba_tokens,text)\n",
        "\n"
      ],
      "metadata": {
        "id": "OSdk50RSvaLM",
        "colab": {
          "base_uri": "https://localhost:8080/"
        },
        "outputId": "09dad6bd-fadb-44db-e0c3-e48ca2967f56"
      },
      "execution_count": null,
      "outputs": [
        {
          "output_type": "stream",
          "name": "stdout",
          "text": [
            "starting_seq_str: a cob mbɑ̀\n",
            "\n",
            "next_word_list:\n",
            " [\"mô'\", \"mǒ'\", 'bo']\n",
            "\n",
            "next_word_prob:\n",
            " [{\"mô'\": 0.5}, {\"mǒ'\": 0.25}, {'bo': 0.25}]\n",
            "\n",
            "Phrases Containing Starting Sequence:\n",
            " [\"yənnɑ bə cʉɑ̌ a tum njən mǒ' ngàkwefe' lɛ̂n sə levi ndʉ̀ a tswə dʉ̌' nə̀kwe fe' yesu côb yi ndʉ̂ tam njàm ɑm levi faŋ njǒŋ cû tsə fa ndô tʉ ntam njàm i ghʉ̂ mô' mɑ̂ tsiàŋtə̀ ndʉb yesu ntʉ̂m ndɑ i mǒ' bwǒŋ ghǎkwefe’ mbɑ̀ bə̀nntʉ̌n tswə̂ nùm nkǒ’caŋ boɑ̀bo bɑ̌ fɑrisia mbɑ̀ ghǎlɛ̌n ŋwà’nì nsi cobtə ncob ghǎzi’tə nǔ yesu ndʉ̂ nǔmkə bǐn nkə njʉ mbɛ̀n nkə nu bin ɑ ghǎkwefe’ mbɑ̀ bə̀nkə̀bwɔ̀ ɑ̀ yesu bʉ̂ntə̀ ncob bo ndʉ̂ bə̀nntʉ̌n tsə bò tswə̂ mə̀bwɔ lɑ kə̂' bə diɑ̀g ngàghʉ̌ fu lɑ ndǎ' bə̌n tsə bò tswə̂ kə̀bwɔ̀ lɑ mə kə̀ na' nsə̂’ tsiaŋ ɑ̂ bə̀n nətsinə lɑ bə̀nkə̀bwɔ̀ nǔm nə̀kǎŋntʉ lɑ bo côb yi ndʉ à lô bə màdnù ghǎzi’tə nǔ yɔ̀hane nə̀kə ntswə̂ nzìkû'u mbɛ̀n nkə ndə̂’tə nsi mbɑ̀ bɑ̌ fɑrisia nǔmkə cô ghǎzi’tə nǔ nkə njʉ mbɛ̀n nu ɑ lɑ a cob bo ndʉ bə̂ bǐn ghʉ̂ shûn ndûngǒn tswə̂ nzìku' ngə̀laŋ boɑ̀ ndûngǒn bɛ̂n mbə lɑ ɑ̂ ndʉ̂kə tsə̀mô’ le’njʉ nsi bə sə̀’ə bò lô' ndûngòn â cə̂n le’njʉ lɑ tsə bo nsi tswə nzìku' lɑ a cob mbɑ̀ mǒ' tɑ̂nkʉ̀d bo ndʉ̂ sɑ̌mmɛ̀n kə̂' bə kəb kǎm nzwə̂ nswə nkwidtə njwɛ̀n nzwə yi nǔmmbə̂ a kəb nzwə nswə mbɑ̂ kǎm nzwə nswə kə̀ bwɔ̀ bô njwɛ̀n i bə̂ mɛ̀n kə̀ nə mbɛ̀n naŋ ndù' nswə ntʉ̂m ntu' njwɛ̀n à bə zə̀ à ghʉ̂ ndʉ̂lɑlɑ lɑ mbɑ̂ ndù' nswə à' tsid ntu' ndǔ' naŋ nsi bo bɛ̂n mbi ntu' lɑ a bwɔ̌ nə̀naŋ ndù' nswə ntʉ̂m ntu' nswə’ sɑ̌mmɛ̌n kə bwə zə̀ à nu njwɛ̀n ndù' mbɑ̂ à à’ bεdtə mì nswə lɑ nǔmmbə̂ à à' cob ndʉ njwɛ̀n ndǔ' bɛ̂n mbwɔ̂\", \"a cob mbɑ̀ mô' tɑ̂nkʉ̀d mfɑ nǔm bə̌n tsə̀ bo nǔm nkə ndô' wud cob mbɑ̂ bə̀n nətsinə nkə ngwag tsə̀mô’ bə̀nntʉ̀n nɑ bə̀n bɑhɑ lô ko' nɛ̂n ndɑ̂nsi nǔm nə̀lə̀’tə̌ nsi mò' na' mbə ɑ̂ mεn fɑrisia mǒ' bə ngàkwefe' mεn farisia tsîntʉ ndə̂’tə nsi nùm tu wul i ncob ndʉ̂ nsi ɑ̀m mə lɑ̀btə̀ u mbɑ̀ mə̀ kə̂' bə cɑm ɑ mbɑ̂ tsə̀mô’ bə̀nntʉ̌n tsə̀ bò bə ɑ̂ bɑ̀ fìmncù bə̀n nù cob kə̂' tsin nɑ ghǎghʉ̌ mɑndɑ kə̀ bɛ̀n mbə cɑm ɑ mbɑ̂ yə̂n ngàkwefe’ lî lɑ mə nǔm nzî nzìku' yòŋ bɑhɑ ntʉ̂m tà' ngɑ̌bnjʉ mə nǔm nkə ngɑ̂btə cu cɑm fa nzə̀ gham mfɑ bàg i ncʉ̌’ nǔm lɛ̂n su lɑ ngàkwefe' tsin zə̌ tɑ̌ ngʉɑ̂nə̀sɑ̀ kə̀ kù’nǐ nə̀bʉ' miɑ̂g mi ndɔtə mfə kǎmɑnyàm a tʉ' làb bə ntʉ i ncob ndʉ̂ nsi ɑ̀m kondɛ̀n mɑm zə mə̀ bə̂ mɛ̀nkə̀bwɔ̀ lɑ mə cob bin ndʉ̂ yə̂n mɛ̀n ni lô bə bɛ̌nnjǎm ndɑ i ndʉ̀ nù i tsin zə̂ mò' kə̀ tsin nǔmmbə̂ mɛ̌n zə̀ a nǔm ndô' wul i nɛ̂n yi tʉ lɑ bo nsi tεn i fɑ nsi mɛ̌n zə̀ a nǔm ndô' wul i nɛ̂n yi nsi lɑ bo nsi bʉ' i fɑ tʉ bo lo' mbɑ̀ bônfi nsə̂’ yi ndʉ yesu kwag yubə ghǎzi’tə nǔ yesu bə yən ndʉ̂lɑlɑ ncobtə yobə lɑ yesu tsiaŋ yob mbaŋ i ncob ndʉ̂ bin faŋ bôntsǐd bɔnkə’ bò sə̂' ntεl ɑm kɑ̂ bìn cεd yobə nǔmmbə̂ nǔfə̌n nsi bə ɑ̂ zə̂ bə̌n tsə̀ bò bə̂ ndǎŋndǎŋ mbɑ̂ bo lɑ kuà' nənʉnə mə cob bin ndʉ̂ mɛ̌n zə̀ a kə nsi kwe nǔfə̌n nsi ɑ̂ mbɑ̂ mətsǐd mεn nɑ kə nsi co bwə\", \"mbɑ̂ bin nɑ bin kɔ̂ ghǎnkə̀mbɑ̀n tsinə ngʉ̂ nùmə̀bwɔ mbɛ̀n mfô kə̀ nywintə nə̀kwe sɑ̌mju ndʉ̂lɑlɑ ndʉ nco'fà' min sə' mbə mi ndʉb bin bɛ̂n mbə bôn nsi mfə tʉ nǔmmbə̂ a nǔm nkɔ̂ ghǎkə̀lɛ̌n nùmə̀bwɔ mbɑ̀ ghǎcʉɑg bin bə ghǎkôndɛ̀n mbɑ̀ tɑ̂ zin bə̂ ngàkondɛ̀n nɑ kɑ̂ bin co'tə ncà mɛ̀n ndʉ kɑ̂ bò ghʉ̀ nco'tə zinə kɑ̂ bin naŋ ncǎ tû mɛ̀n ndʉ kɑ̂ bò ghʉ̀ naŋ ncǎ tû bin bin lâgtə mfɑ̂ bo bo nsi ghʉ̌ sə̌' làgtə̀ mfɑ bin bin fɑ bo nsi sə̌' fɑ̂ bin bo nsi sǒ ju ntʉ̂m mbɑ̀m min fə̀lə camə a dun mfɛ̂dtə bo nsi lò' ɑ̂ bə̂ zîn mfǐ' fì' zîn yi a cob mbɑ̀ mô' tɑ̂nkʉ̀d bo ndʉ bə̂ mfʉ̌miɑg câgtə̀ mò' ɑ̂ ndʉ̂kə mbɑ̂ ntu cob bɑhɑ fa kə vʉ̌ ntʉ̂m tɑm ke ngàzi’tə kə̂' bə cʉɑ̀ ngàtswìtə̀ mbɑ̀ zîd ngàzi’tə lo nǔm miɑ̂gtə kɑ mbə mbɑ̂ ngàtswìtə̀ lɑ nǔmkə o nkə ndɔtə nyǐ'ngǎ zə̀ à bə̂ lɑ̂g mfεl ù lɑ kə̀ yən kǎm ncwεn zə̀ à bə̂ lɑ̂g ù lɑ ɑ̂ à bə̂ o bɛ̂n ncôb mfεl ù ɑ̂ ndʉ̂kə ndʉ̂ mfεl ɑ̀m bam ndʉ mə̀ sɔ̂ nyǐ'ngǎ ntʉ̂m lɑ̂g su wʉ̌ zə̀ ò kə̂' yən kǎm ncwεn zə̀ à bə̂ lɑ̂g ù lɑ ɑ̂ mɛ̀n mfʉ̀m bwǒgmbwə̀ nsɔ̂ kǎm ncwεn lɑg ù kɑ njən nzə̀ njòg nsɔ̂ nyǐ'ngǎ lɑ̂g mfεl ù nǔmmbə̂ tʉ mə̀bwɔ kə bwə sə̀ à nǔm njam ntɑ̂m kə̀bwɔ̀ lɑ tʉ kə̀bwɔ̌ kə̀ bɛ̀n mbə bwə sə̀ a nǔm njam ntɑ̂m mə̀bwɔ lɑ nǔmmbə̂ bò kə ndɛ̂n mbɑ̀ sîd tʉ lo ɑ̂ tɑm sə bò kə̂' bə kɑb cǒm nùm tʉ njɔ kə̀ bɛ̀n nkɑb mbʉ nùm tʉ nga'lonə mɛ̀nmə̀bwɔ nǔm nsɔ̂ cû mə̀bwɔ tsə̀ à tsə̂’tə ntʉ i lɑ mɛ̀nkə̀bwɔ̌ sɔ̂ jû kə̀bwɔ̌ ntʉ̂m cû tsə tsə̀ kə̀bwɔ̀ nǔmmbə̂ ju zə̀ à dûn ntʉ̂m ntʉ mɛ̀n nɑ ncù i kə ncob ɑ̂ bə̂ yi nǔmkə bǐn nkə ntsiaŋ ɑm ndʉ cʉɑ̀bə̀n cʉɑ̀bə̀n kə̀ ghʉ̌ ju zə mə nǔm ncob ɑ mbɑ̀ wəlo zə̀ a nǔm nsə̂’ mə nju' ncob mɑm nkə nzə̂ lɑ mə̀ à' tswìtə̀ zin mɛ̌n zə̀ à futə i lɑ à futə ɑ̂ mǒ' mɛ̌n zə̀ à bə kud bà’ ntswə' tsə i a nɛ̂n nsi kuà' mə̀bwɔ a tə̂ tǔn bǎ’ nùm gholòŋ nɑ mbǎŋ lo ntsə̌ dun ntsǐdmbǎŋ cʉɑ̂ mvʉ̂ nùm yə̂n bà’ lɑ kə̀ kǔ' nə̀nyì'tə̀ i nǔmmbə̂ bò lô kul i mə̀bwɔ lɑ mɛ̌n zə̀ à ju' ncob kə̀ zə̀ lɑ futə ɑ̂ mǒ' mɛ̌n zə̀ à na' nkud bà’ i nùm ca'a kə̀ tswə tsə i ntsǐdmbǎŋ cʉɑ̂ mvʉ̂ nùm i bə̂ ndʉ̀sə a vʉ̂ zə̀ nə̀vʉ̀ yə̂n bà’ lɑ bɑg nə̀shù\", \"nǔmmbə̂ nǔfə̌n kǎmɑnyàm futə ɑ̂ mǒ' tɑndɑ zə̀ à tûm nkə̂bnjʉ nǔm nə̀lǒ' ghǎfǎ' ntʉ̂m nɑ̀ i lɑ ngə̀laŋ boɑ̀ ghǎfà' tàmtə̀ mbə ncù ncʉ̌’ nǔm tà' denario ntʉ̂m le' fà' lɑ a tûm yub ntʉ̂m nɑ̀ i a bɛ̂n ntum nǔm nyàm bwə̀’ə njən tsə̀mô’ ndʉ̀ bo tswə mfàgtə̀ mɑ̂nzə̀ kə̀ kə mfâ' sɑ̌mju a cob mbɑ̀ bo yub ndʉ mbɑ̀ bǐn zin bin nɛ̂n ntʉ̂m nɑ̀ ɑm mə nsi fɑ ju zə̀ à kû’ni lɑ bin bo nɛ̂n a bɛ̂n ntum nǔm njɑ̌gnyàm mbɑ̀ nyàm tad ngʉ̂ bə̂ ndǎŋndaŋ nǔm nyàm tɑ̂n mfə̌dnjʉ a bɛ̂n ntumə mfôn tsə̀mô’o ndʉ bo tswə bwə a cob bo ndʉ nǔmkə bǐn tswə nsə̌nni fə nkə̂bnjʉ kə̀ kə mfâ' sɑ̌mju ɑ̀ bo côb yi ndʉ nǔmmbə̂ sɑ̌mmɛ̀n kə̂' lò' yɑg fà' a côb bo ndʉ mbɑ̀ bǐn zin bin nɛ̂n ntʉ̂m nɑ̀ ɑm njʉ bə sεnə tɑ yə̂n nɑ̀ lɑ cob ngàcàgtə̌ fà' ndʉ tsiaŋ ghǎfà' mfɑ nkɑ̂bfà' bo nto' nǔm bɑ̌ njàm nɛ̀n nkûm nǔm bɑ̌ mbwə̀ bə̌n tsə̀ bò lò' yub nyàm tɑ̂n nɑ sə̂' nkwe denariɔ ncʉ̌’ncʉ̀’ ngə̀laŋ bɑ̌ mbwə̀ sə̀' lɑ bo kwâtə ndʉ bò à' kwe ncʉɑ̂tə lɑ mbɑ̀ bo yǔb kwe ɑ̂ bə̂ denariɔ ncʉ̌’ncʉ̀’ bo bə kwe nkə nzwətə tǔn ntɔ nǔm tɑndɑ ncob ndʉ cə̂n bə̀n ni tsə̀ bò sə' ɑ̂ njàm nɑ fâ' ɑ ndǎ' nyàm ncʉ̀’ o lô' yɑg bɑgɑ̀bo bə̂ ndǎŋndaŋ bɑ̌g tsə bɑg fεntə ngə’ mbɑ̀ nyǎm fə nkə̂bnjʉ lɑ lɑ a bʉ̂ntə̀ mǒ' tà' ǐ nə̀tɛ̌d bo ndʉ nshun ɑ̀m mə kə̂' ghʉ̌ ju zə̀ à kə̂' kù’nì lɑ wʉ̀ bə lò kə̀ bə ncù ncʉ̀’ ɑ̂ nǔm tà' denariɔ ncʉ̀’ ke lǒ' ju zə̀ à bə̂ yu lɑ nɛ̂nə lɑ mə kɔ̌ nə̀fɑ yə̂n njàm mɛ̀n ni bə̂ ndǎŋndǎŋ mbɑ̂ wʉ̀ lɑ mə̀ kə̂' kù’nǐ nə̀ghʉ̌ ju zə̀ mə̀ kɔ̂ lɑ cu tsə̀ à bə ɑ̂ cɑm nɑ ke ò lɔtə ɑm lɑg kə̀bwɔ̀ ɑ mbɑ̀ mə̀ bə̂ mɛ̀nmə̀bwɔ̀ lɑ̂ ke ndʉ̂lɑlɑ bɑ̌ njǎm nsi tʉ' bɑ̌ mbwə̀ bɑ̌ mbwə̀ bɛ̂n ntʉ' bɑ̌ njàm\"]\n"
          ]
        },
        {
          "output_type": "execute_result",
          "data": {
            "text/plain": [
              "([\"mô'\", \"mǒ'\", 'bo'],\n",
              " [{\"mô'\": 0.5}, {\"mǒ'\": 0.25}, {'bo': 0.25}],\n",
              " [\"yənnɑ bə cʉɑ̌ a tum njən mǒ' ngàkwefe' lɛ̂n sə levi ndʉ̀ a tswə dʉ̌' nə̀kwe fe' yesu côb yi ndʉ̂ tam njàm ɑm levi faŋ njǒŋ cû tsə fa ndô tʉ ntam njàm i ghʉ̂ mô' mɑ̂ tsiàŋtə̀ ndʉb yesu ntʉ̂m ndɑ i mǒ' bwǒŋ ghǎkwefe’ mbɑ̀ bə̀nntʉ̌n tswə̂ nùm nkǒ’caŋ boɑ̀bo bɑ̌ fɑrisia mbɑ̀ ghǎlɛ̌n ŋwà’nì nsi cobtə ncob ghǎzi’tə nǔ yesu ndʉ̂ nǔmkə bǐn nkə njʉ mbɛ̀n nkə nu bin ɑ ghǎkwefe’ mbɑ̀ bə̀nkə̀bwɔ̀ ɑ̀ yesu bʉ̂ntə̀ ncob bo ndʉ̂ bə̀nntʉ̌n tsə bò tswə̂ mə̀bwɔ lɑ kə̂' bə diɑ̀g ngàghʉ̌ fu lɑ ndǎ' bə̌n tsə bò tswə̂ kə̀bwɔ̀ lɑ mə kə̀ na' nsə̂’ tsiaŋ ɑ̂ bə̀n nətsinə lɑ bə̀nkə̀bwɔ̀ nǔm nə̀kǎŋntʉ lɑ bo côb yi ndʉ à lô bə màdnù ghǎzi’tə nǔ yɔ̀hane nə̀kə ntswə̂ nzìkû'u mbɛ̀n nkə ndə̂’tə nsi mbɑ̀ bɑ̌ fɑrisia nǔmkə cô ghǎzi’tə nǔ nkə njʉ mbɛ̀n nu ɑ lɑ a cob bo ndʉ bə̂ bǐn ghʉ̂ shûn ndûngǒn tswə̂ nzìku' ngə̀laŋ boɑ̀ ndûngǒn bɛ̂n mbə lɑ ɑ̂ ndʉ̂kə tsə̀mô’ le’njʉ nsi bə sə̀’ə bò lô' ndûngòn â cə̂n le’njʉ lɑ tsə bo nsi tswə nzìku' lɑ a cob mbɑ̀ mǒ' tɑ̂nkʉ̀d bo ndʉ̂ sɑ̌mmɛ̀n kə̂' bə kəb kǎm nzwə̂ nswə nkwidtə njwɛ̀n nzwə yi nǔmmbə̂ a kəb nzwə nswə mbɑ̂ kǎm nzwə nswə kə̀ bwɔ̀ bô njwɛ̀n i bə̂ mɛ̀n kə̀ nə mbɛ̀n naŋ ndù' nswə ntʉ̂m ntu' njwɛ̀n à bə zə̀ à ghʉ̂ ndʉ̂lɑlɑ lɑ mbɑ̂ ndù' nswə à' tsid ntu' ndǔ' naŋ nsi bo bɛ̂n mbi ntu' lɑ a bwɔ̌ nə̀naŋ ndù' nswə ntʉ̂m ntu' nswə’ sɑ̌mmɛ̌n kə bwə zə̀ à nu njwɛ̀n ndù' mbɑ̂ à à’ bεdtə mì nswə lɑ nǔmmbə̂ à à' cob ndʉ njwɛ̀n ndǔ' bɛ̂n mbwɔ̂\",\n",
              "  \"a cob mbɑ̀ mô' tɑ̂nkʉ̀d mfɑ nǔm bə̌n tsə̀ bo nǔm nkə ndô' wud cob mbɑ̂ bə̀n nətsinə nkə ngwag tsə̀mô’ bə̀nntʉ̀n nɑ bə̀n bɑhɑ lô ko' nɛ̂n ndɑ̂nsi nǔm nə̀lə̀’tə̌ nsi mò' na' mbə ɑ̂ mεn fɑrisia mǒ' bə ngàkwefe' mεn farisia tsîntʉ ndə̂’tə nsi nùm tu wul i ncob ndʉ̂ nsi ɑ̀m mə lɑ̀btə̀ u mbɑ̀ mə̀ kə̂' bə cɑm ɑ mbɑ̂ tsə̀mô’ bə̀nntʉ̌n tsə̀ bò bə ɑ̂ bɑ̀ fìmncù bə̀n nù cob kə̂' tsin nɑ ghǎghʉ̌ mɑndɑ kə̀ bɛ̀n mbə cɑm ɑ mbɑ̂ yə̂n ngàkwefe’ lî lɑ mə nǔm nzî nzìku' yòŋ bɑhɑ ntʉ̂m tà' ngɑ̌bnjʉ mə nǔm nkə ngɑ̂btə cu cɑm fa nzə̀ gham mfɑ bàg i ncʉ̌’ nǔm lɛ̂n su lɑ ngàkwefe' tsin zə̌ tɑ̌ ngʉɑ̂nə̀sɑ̀ kə̀ kù’nǐ nə̀bʉ' miɑ̂g mi ndɔtə mfə kǎmɑnyàm a tʉ' làb bə ntʉ i ncob ndʉ̂ nsi ɑ̀m kondɛ̀n mɑm zə mə̀ bə̂ mɛ̀nkə̀bwɔ̀ lɑ mə cob bin ndʉ̂ yə̂n mɛ̀n ni lô bə bɛ̌nnjǎm ndɑ i ndʉ̀ nù i tsin zə̂ mò' kə̀ tsin nǔmmbə̂ mɛ̌n zə̀ a nǔm ndô' wul i nɛ̂n yi tʉ lɑ bo nsi tεn i fɑ nsi mɛ̌n zə̀ a nǔm ndô' wul i nɛ̂n yi nsi lɑ bo nsi bʉ' i fɑ tʉ bo lo' mbɑ̀ bônfi nsə̂’ yi ndʉ yesu kwag yubə ghǎzi’tə nǔ yesu bə yən ndʉ̂lɑlɑ ncobtə yobə lɑ yesu tsiaŋ yob mbaŋ i ncob ndʉ̂ bin faŋ bôntsǐd bɔnkə’ bò sə̂' ntεl ɑm kɑ̂ bìn cεd yobə nǔmmbə̂ nǔfə̌n nsi bə ɑ̂ zə̂ bə̌n tsə̀ bò bə̂ ndǎŋndǎŋ mbɑ̂ bo lɑ kuà' nənʉnə mə cob bin ndʉ̂ mɛ̌n zə̀ a kə nsi kwe nǔfə̌n nsi ɑ̂ mbɑ̂ mətsǐd mεn nɑ kə nsi co bwə\",\n",
              "  \"mbɑ̂ bin nɑ bin kɔ̂ ghǎnkə̀mbɑ̀n tsinə ngʉ̂ nùmə̀bwɔ mbɛ̀n mfô kə̀ nywintə nə̀kwe sɑ̌mju ndʉ̂lɑlɑ ndʉ nco'fà' min sə' mbə mi ndʉb bin bɛ̂n mbə bôn nsi mfə tʉ nǔmmbə̂ a nǔm nkɔ̂ ghǎkə̀lɛ̌n nùmə̀bwɔ mbɑ̀ ghǎcʉɑg bin bə ghǎkôndɛ̀n mbɑ̀ tɑ̂ zin bə̂ ngàkondɛ̀n nɑ kɑ̂ bin co'tə ncà mɛ̀n ndʉ kɑ̂ bò ghʉ̀ nco'tə zinə kɑ̂ bin naŋ ncǎ tû mɛ̀n ndʉ kɑ̂ bò ghʉ̀ naŋ ncǎ tû bin bin lâgtə mfɑ̂ bo bo nsi ghʉ̌ sə̌' làgtə̀ mfɑ bin bin fɑ bo nsi sə̌' fɑ̂ bin bo nsi sǒ ju ntʉ̂m mbɑ̀m min fə̀lə camə a dun mfɛ̂dtə bo nsi lò' ɑ̂ bə̂ zîn mfǐ' fì' zîn yi a cob mbɑ̀ mô' tɑ̂nkʉ̀d bo ndʉ bə̂ mfʉ̌miɑg câgtə̀ mò' ɑ̂ ndʉ̂kə mbɑ̂ ntu cob bɑhɑ fa kə vʉ̌ ntʉ̂m tɑm ke ngàzi’tə kə̂' bə cʉɑ̀ ngàtswìtə̀ mbɑ̀ zîd ngàzi’tə lo nǔm miɑ̂gtə kɑ mbə mbɑ̂ ngàtswìtə̀ lɑ nǔmkə o nkə ndɔtə nyǐ'ngǎ zə̀ à bə̂ lɑ̂g mfεl ù lɑ kə̀ yən kǎm ncwεn zə̀ à bə̂ lɑ̂g ù lɑ ɑ̂ à bə̂ o bɛ̂n ncôb mfεl ù ɑ̂ ndʉ̂kə ndʉ̂ mfεl ɑ̀m bam ndʉ mə̀ sɔ̂ nyǐ'ngǎ ntʉ̂m lɑ̂g su wʉ̌ zə̀ ò kə̂' yən kǎm ncwεn zə̀ à bə̂ lɑ̂g ù lɑ ɑ̂ mɛ̀n mfʉ̀m bwǒgmbwə̀ nsɔ̂ kǎm ncwεn lɑg ù kɑ njən nzə̀ njòg nsɔ̂ nyǐ'ngǎ lɑ̂g mfεl ù nǔmmbə̂ tʉ mə̀bwɔ kə bwə sə̀ à nǔm njam ntɑ̂m kə̀bwɔ̀ lɑ tʉ kə̀bwɔ̌ kə̀ bɛ̀n mbə bwə sə̀ a nǔm njam ntɑ̂m mə̀bwɔ lɑ nǔmmbə̂ bò kə ndɛ̂n mbɑ̀ sîd tʉ lo ɑ̂ tɑm sə bò kə̂' bə kɑb cǒm nùm tʉ njɔ kə̀ bɛ̀n nkɑb mbʉ nùm tʉ nga'lonə mɛ̀nmə̀bwɔ nǔm nsɔ̂ cû mə̀bwɔ tsə̀ à tsə̂’tə ntʉ i lɑ mɛ̀nkə̀bwɔ̌ sɔ̂ jû kə̀bwɔ̌ ntʉ̂m cû tsə tsə̀ kə̀bwɔ̀ nǔmmbə̂ ju zə̀ à dûn ntʉ̂m ntʉ mɛ̀n nɑ ncù i kə ncob ɑ̂ bə̂ yi nǔmkə bǐn nkə ntsiaŋ ɑm ndʉ cʉɑ̀bə̀n cʉɑ̀bə̀n kə̀ ghʉ̌ ju zə mə nǔm ncob ɑ mbɑ̀ wəlo zə̀ a nǔm nsə̂’ mə nju' ncob mɑm nkə nzə̂ lɑ mə̀ à' tswìtə̀ zin mɛ̌n zə̀ à futə i lɑ à futə ɑ̂ mǒ' mɛ̌n zə̀ à bə kud bà’ ntswə' tsə i a nɛ̂n nsi kuà' mə̀bwɔ a tə̂ tǔn bǎ’ nùm gholòŋ nɑ mbǎŋ lo ntsə̌ dun ntsǐdmbǎŋ cʉɑ̂ mvʉ̂ nùm yə̂n bà’ lɑ kə̀ kǔ' nə̀nyì'tə̀ i nǔmmbə̂ bò lô kul i mə̀bwɔ lɑ mɛ̌n zə̀ à ju' ncob kə̀ zə̀ lɑ futə ɑ̂ mǒ' mɛ̌n zə̀ à na' nkud bà’ i nùm ca'a kə̀ tswə tsə i ntsǐdmbǎŋ cʉɑ̂ mvʉ̂ nùm i bə̂ ndʉ̀sə a vʉ̂ zə̀ nə̀vʉ̀ yə̂n bà’ lɑ bɑg nə̀shù\",\n",
              "  \"nǔmmbə̂ nǔfə̌n kǎmɑnyàm futə ɑ̂ mǒ' tɑndɑ zə̀ à tûm nkə̂bnjʉ nǔm nə̀lǒ' ghǎfǎ' ntʉ̂m nɑ̀ i lɑ ngə̀laŋ boɑ̀ ghǎfà' tàmtə̀ mbə ncù ncʉ̌’ nǔm tà' denario ntʉ̂m le' fà' lɑ a tûm yub ntʉ̂m nɑ̀ i a bɛ̂n ntum nǔm nyàm bwə̀’ə njən tsə̀mô’ ndʉ̀ bo tswə mfàgtə̀ mɑ̂nzə̀ kə̀ kə mfâ' sɑ̌mju a cob mbɑ̀ bo yub ndʉ mbɑ̀ bǐn zin bin nɛ̂n ntʉ̂m nɑ̀ ɑm mə nsi fɑ ju zə̀ à kû’ni lɑ bin bo nɛ̂n a bɛ̂n ntum nǔm njɑ̌gnyàm mbɑ̀ nyàm tad ngʉ̂ bə̂ ndǎŋndaŋ nǔm nyàm tɑ̂n mfə̌dnjʉ a bɛ̂n ntumə mfôn tsə̀mô’o ndʉ bo tswə bwə a cob bo ndʉ nǔmkə bǐn tswə nsə̌nni fə nkə̂bnjʉ kə̀ kə mfâ' sɑ̌mju ɑ̀ bo côb yi ndʉ nǔmmbə̂ sɑ̌mmɛ̀n kə̂' lò' yɑg fà' a côb bo ndʉ mbɑ̀ bǐn zin bin nɛ̂n ntʉ̂m nɑ̀ ɑm njʉ bə sεnə tɑ yə̂n nɑ̀ lɑ cob ngàcàgtə̌ fà' ndʉ tsiaŋ ghǎfà' mfɑ nkɑ̂bfà' bo nto' nǔm bɑ̌ njàm nɛ̀n nkûm nǔm bɑ̌ mbwə̀ bə̌n tsə̀ bò lò' yub nyàm tɑ̂n nɑ sə̂' nkwe denariɔ ncʉ̌’ncʉ̀’ ngə̀laŋ bɑ̌ mbwə̀ sə̀' lɑ bo kwâtə ndʉ bò à' kwe ncʉɑ̂tə lɑ mbɑ̀ bo yǔb kwe ɑ̂ bə̂ denariɔ ncʉ̌’ncʉ̀’ bo bə kwe nkə nzwətə tǔn ntɔ nǔm tɑndɑ ncob ndʉ cə̂n bə̀n ni tsə̀ bò sə' ɑ̂ njàm nɑ fâ' ɑ ndǎ' nyàm ncʉ̀’ o lô' yɑg bɑgɑ̀bo bə̂ ndǎŋndaŋ bɑ̌g tsə bɑg fεntə ngə’ mbɑ̀ nyǎm fə nkə̂bnjʉ lɑ lɑ a bʉ̂ntə̀ mǒ' tà' ǐ nə̀tɛ̌d bo ndʉ nshun ɑ̀m mə kə̂' ghʉ̌ ju zə̀ à kə̂' kù’nì lɑ wʉ̀ bə lò kə̀ bə ncù ncʉ̀’ ɑ̂ nǔm tà' denariɔ ncʉ̀’ ke lǒ' ju zə̀ à bə̂ yu lɑ nɛ̂nə lɑ mə kɔ̌ nə̀fɑ yə̂n njàm mɛ̀n ni bə̂ ndǎŋndǎŋ mbɑ̂ wʉ̀ lɑ mə̀ kə̂' kù’nǐ nə̀ghʉ̌ ju zə̀ mə̀ kɔ̂ lɑ cu tsə̀ à bə ɑ̂ cɑm nɑ ke ò lɔtə ɑm lɑg kə̀bwɔ̀ ɑ mbɑ̀ mə̀ bə̂ mɛ̀nmə̀bwɔ̀ lɑ̂ ke ndʉ̂lɑlɑ bɑ̌ njǎm nsi tʉ' bɑ̌ mbwə̀ bɑ̌ mbwə̀ bɛ̂n ntʉ' bɑ̌ njàm\"])"
            ]
          },
          "metadata": {},
          "execution_count": 57
        }
      ]
    },
    {
      "cell_type": "markdown",
      "source": [
        "# Load 4-gram Model"
      ],
      "metadata": {
        "id": "jxib5vDSwjjW"
      }
    },
    {
      "cell_type": "code",
      "source": [
        "import pickle\n",
        "from collections import defaultdict\n",
        "\n",
        "path_model_4grams = folder_path + \"Medumba_language_model_4gram.pickle\"\n",
        "\n",
        "def create_defaultdict():\n",
        "      return defaultdict(int)\n",
        "  # Create a placeholder for model\n",
        "model_4g = defaultdict(create_defaultdict)\n",
        "\n",
        "# Load the model from the pickle file\n",
        "with open(path_model_4grams, 'rb') as file:\n",
        "    model_4g = pickle.load(file)\n"
      ],
      "metadata": {
        "id": "meCt_eCavEB9"
      },
      "execution_count": null,
      "outputs": []
    },
    {
      "cell_type": "code",
      "source": [
        "# nltk.download('reuters')\n",
        "# nltk.download('punkt')\n",
        "N = 4 # Four Gram\n",
        "# Create a placeholder for model\n",
        "# model_4g = defaultdict(lambda: defaultdict(lambda: 0))\n",
        "\n"
      ],
      "metadata": {
        "id": "vyA9kXip-siG"
      },
      "execution_count": null,
      "outputs": []
    },
    {
      "cell_type": "code",
      "execution_count": null,
      "metadata": {
        "id": "ys12NM7Vb-qQ"
      },
      "outputs": [],
      "source": [
        "# # print(dict(model['ngɑ̌', 'ngén']))\n",
        "# next_word = dict(model_4g[\"ǎ\", \"lén\",\"mɑ́\"])\n",
        "\n",
        "# next_word_list = sorted(next_word, key=next_word.get,reverse=True)\n",
        "# next_word_prob = [{i:next_word[i]} for i in next_word_list]\n",
        "# print(next_word_list)\n",
        "# next_word_prob\n",
        "# #  [{'ǎ': 0.2}, {'kɑ̀': 0.2}, {'pèn': 0.2}, {'kɑ́': 0.2}, {'ó': 0.2}]\n"
      ]
    },
    {
      "cell_type": "markdown",
      "source": [
        "# Text Generation (Four Gram)"
      ],
      "metadata": {
        "id": "KXpfChE4RhBM"
      }
    },
    {
      "cell_type": "code",
      "source": [],
      "metadata": {
        "id": "8BoGpRMLwbX2"
      },
      "execution_count": null,
      "outputs": []
    },
    {
      "cell_type": "code",
      "source": [
        "# initial_text = \"ngɑ̌ yú' mɑ́\"\n",
        "# starting_seq_tuple = tuple(initial_text.split(\" \"))\n",
        "\n"
      ],
      "metadata": {
        "id": "NsQvxN8119FS"
      },
      "execution_count": null,
      "outputs": []
    },
    {
      "cell_type": "code",
      "source": [
        "# code courtesy of https://nlpforhackers.io/language-models/\n",
        "\n",
        "import random\n",
        "\n",
        "\n",
        "def text_generation_4gram(text = \"mə ju' mbɑ̀\",model = model_4g):\n",
        "\n",
        "  text = \" \".join(text.lower().split())\n",
        "  text = text.split(\" \")\n",
        "  text_ = text[:]\n",
        "\n",
        "  if len(model[tuple(text_[-3:])].keys()) == 0:\n",
        "    return f\"{' ' .join(text_)} not in corpus\"\n",
        "\n",
        "  sentence_finished = False\n",
        "  \n",
        "  while not sentence_finished:\n",
        "    # select a random probability threshold  \n",
        "    r = random.random()\n",
        "    accumulator = .0\n",
        "\n",
        "    tup = tuple(text_[-3:])\n",
        "    for word in model[tuple(text_[-3:])].keys():\n",
        "        accumulator += model[tuple(text_[-3:])][word]\n",
        "        # select words that are above the probability threshold\n",
        "        if accumulator >= r:\n",
        "            text_.append(word)\n",
        "            break\n",
        "\n",
        "    if text_[-2:] == [None, None]:\n",
        "        sentence_finished = True\n",
        "\n",
        "  text_generated = ' '.join([t for t in text_ if t])\n",
        "\n",
        "  if text_generated in medumba_clean:\n",
        "    # print(\"Original\")\n",
        "    # print(text_generated)\n",
        "    return (\"Original\", text_generated)\n",
        "  else:\n",
        "    # print(\"Text Generated\")\n",
        "    # print(text_generated)\n",
        "    return (\"Text Generated\", text_generated)\n",
        "\n",
        "# TEST\n",
        "\n",
        "# starting words\n",
        "text = [\"ǎ\", \"nsī\",\"pí\"]\n",
        "# text = [\"ngɑ̌\", \"mɑ̀\"]\n",
        "text = [\"ǹ\", \"kɑ̀'\",\"zhī\"]\n",
        "text = [\"à\", \"nsī\",\"pí\"]\n",
        "text = \"yáá mɑ̀ lāhā\"\n",
        "text = \"kōsī ā lɑ́\"\n",
        "text = \"zī ā lɑ́\"\n",
        "text = \"mə nǔm ncob\"\n",
        "\n",
        "# text = \"ǎ yíí nā\"\n",
        "\n",
        "# tuple_text = tuple(text)\n",
        "res = text_generation_4gram(text)\n",
        "\n",
        "res"
      ],
      "metadata": {
        "colab": {
          "base_uri": "https://localhost:8080/"
        },
        "id": "cx_4xjuwkYmg",
        "outputId": "c54f8649-5552-4444-a74d-6780739401a8"
      },
      "execution_count": null,
      "outputs": [
        {
          "output_type": "execute_result",
          "data": {
            "text/plain": [
              "('Text Generated',\n",
              " \"mə nǔm ncob njǒŋ bə̀nntʉ̀n fa ntʉ̂m njʉ yə̂n mbwə̀ nə̀siaŋ bə̀nntʉ̀n nɑ na' mbə ɑ̂ mô' ngɑ̂mnyu ndʉb ndʉ̀ à bə ɑ̂ tsə ywεd nsi lɑ nǔmmbə̂ à lô là’tə̌ kôndɛ̀n i nùm ɑm nɑ\")"
            ]
          },
          "metadata": {},
          "execution_count": 67
        }
      ]
    },
    {
      "cell_type": "code",
      "source": [
        "\n",
        "text = \"mə ju' mǒ'\"\n",
        "text = \"mə nǔm ncob\"\n",
        "\n",
        "\n",
        "sent_generated = []\n",
        "c = 0\n",
        "while True:\n",
        "\n",
        "  c +=1\n",
        "\n",
        "  if c==75:\n",
        "    break\n",
        "    \n",
        "  # text = [\"ǎ\", \"yá'\"]\n",
        "  # text = [\"ngɑ̌\", \"yú'\"]\n",
        "\n",
        "  aa = text_generation_4gram(text)\n",
        "\n",
        "  if aa[0] == \"Text Generated\":\n",
        "    sent_generated.append(aa[1])\n",
        "\n",
        "list(set(sent_generated))"
      ],
      "metadata": {
        "id": "oJsqPmSdyGsl"
      },
      "execution_count": null,
      "outputs": []
    },
    {
      "cell_type": "code",
      "source": [
        "\n",
        "iface = gr.Interface(fn=text_generation_4gram,\n",
        "                     inputs=gr.components.Textbox(lines=7, label=\"Example: Ngɑ̌ yú' mɑ́\"),\n",
        "                     outputs=\"text\",\n",
        "                     title=\"Nufi-Resulam 4G Text Completion\")\n",
        "\n",
        "iface.launch(share=True)"
      ],
      "metadata": {
        "id": "SMoUx8XCy591",
        "colab": {
          "base_uri": "https://localhost:8080/",
          "height": 611
        },
        "outputId": "bdd13065-e917-4944-f87d-2d1dc644b58a"
      },
      "execution_count": null,
      "outputs": [
        {
          "output_type": "stream",
          "name": "stdout",
          "text": [
            "Colab notebook detected. To show errors in colab notebook, set debug=True in launch()\n",
            "Running on public URL: https://a865df8576a98d105f.gradio.live\n",
            "\n",
            "This share link expires in 72 hours. For free permanent hosting and GPU upgrades (NEW!), check out Spaces: https://huggingface.co/spaces\n"
          ]
        },
        {
          "output_type": "display_data",
          "data": {
            "text/plain": [
              "<IPython.core.display.HTML object>"
            ],
            "text/html": [
              "<div><iframe src=\"https://a865df8576a98d105f.gradio.live\" width=\"100%\" height=\"500\" allow=\"autoplay; camera; microphone; clipboard-read; clipboard-write;\" frameborder=\"0\" allowfullscreen></iframe></div>"
            ]
          },
          "metadata": {}
        },
        {
          "output_type": "execute_result",
          "data": {
            "text/plain": []
          },
          "metadata": {},
          "execution_count": 64
        }
      ]
    },
    {
      "cell_type": "code",
      "source": [],
      "metadata": {
        "id": "YCwwR960skQm"
      },
      "execution_count": null,
      "outputs": []
    },
    {
      "cell_type": "code",
      "source": [],
      "metadata": {
        "id": "vVp7AyKSzURg"
      },
      "execution_count": null,
      "outputs": []
    },
    {
      "cell_type": "code",
      "source": [],
      "metadata": {
        "id": "SAXkAfIplxM8"
      },
      "execution_count": null,
      "outputs": []
    },
    {
      "cell_type": "code",
      "source": [
        "# words_dict = dict.fromkeys(words, \"Nufi\")\n",
        "# words_dict = {words.index(i):i for i in words}\n",
        "forbiden_characters = r\":[]()&*»_.,;/–1234567890«?=!…’+\"\n",
        "\n",
        "ww = ['M.on..','ma.ri,',\"l'a puni\",\"p.\", \"poss.\",\"m'aimes-tu?\", \"n'est\", \"c'est\",\"c'nourriture-là\", 'en,core',\"mēn-wú,\",\"<tag\",\"ex.\",\"br\",\"bras\",\"pl.\",\"hom.\",\" \", \"syn.\",\"1– <tag_def>\",\"<tag_bullet>\"]\n",
        "\n",
        "def clean_word_function(word_list,forbid=forbiden_characters):\n",
        "    \n",
        "  def clean_word_in(w,forbid=forbiden_characters):    \n",
        "    # s = ww[-1]\n",
        "    # my_word = \"\"\n",
        "    my_word = [i for i in w if i not in forbid]\n",
        "    my_word = \"\".join(my_word)\n",
        "    \n",
        "    return my_word\n",
        "\n",
        "  clean_word = list(map(clean_word_in,word_list))\n",
        "    # words = [i for i in words]\n",
        "\n",
        "  forbiden_characters2 = \"<>\"\n",
        "  clean_word = [i for i in clean_word if all(elem not in i for elem in forbiden_characters2)]\n",
        "  clean_word = [i for i in clean_word if i not in [\"ex\",\"br\",\"pl\",\"hom\", \"syn\",\"poss\",\"litt\", \"adj\",\"cf\",\"NB\",\"p\"]]\n",
        "  return clean_word\n",
        "\n",
        "clean_word = clean_word_function(ww)\n",
        "\n",
        "forbiden_fr = [\"est\",\"là\"]\n",
        "forbiden_fr = [\"est\",\"l'\",\"n'\",\"là\",\"présentatif\",\"http\",\"reference\",\"il\"]\n",
        "\n",
        "# clean_word2 = [i for i in clean_word if i.lower() not in forbiden_fr ]\n",
        "\n",
        "clean_word2 = [i for i in clean_word if all(elem not in i for elem in forbiden_fr)]\n",
        "\n",
        "\n",
        "# all(elem not in \"nourriture\" for elem in forbiden_fr)"
      ],
      "metadata": {
        "id": "v0QwaGmUhxvS"
      },
      "execution_count": null,
      "outputs": []
    },
    {
      "cell_type": "code",
      "source": [
        "###################################################################\n",
        "# This Cell can take up to 2 min to run\n",
        "###################################################################\n",
        "# sent_start_with (Nufi_original,\"Gh\")\n",
        "consonant = \"bcdfghjklmnpqrstvwxyzŋńḿǹm̀m̄n̄m̌ňm̂n̂ńḿ\"\n",
        "\n",
        "# path = \"/content/encyclopedie culture bamileke.txt\"\n",
        "\n",
        "path_file = \"/content/Nufi_Emo_affaire_lit.txt\"\n",
        "path_file = \"/content/text_nufi.txt\"\n",
        "path_file = \"/content/text_nufi2.txt\"\n",
        "path_file = \"/content/main_file1.txt\"\n",
        "\n",
        "path = path_file\n",
        "def mostly_used_special_chr(data_path = path):\n",
        "    \n",
        "  import string\n",
        "  import matplotlib.pyplot as plt\n",
        "  from collections import Counter\n",
        "\n",
        "\n",
        "  letters = string.ascii_letters\n",
        "\n",
        "  \n",
        "  with open(path_file) as f:\n",
        "      data = f.readlines()\n",
        "            \n",
        "      data = list(map(lambda x: x.replace(\"\\n\",\"\"), data))\n",
        "      # list_nufi =  list(data[\"Nufi:Francais\"])\n",
        "\n",
        "      # string_nufi = \"\".join(list_nufi)\n",
        "\n",
        "      words = \" \".join(data).split(\" \")\n",
        "\n",
        "  # words_dict = dict.fromkeys(words, \"Nufi\")\n",
        "\n",
        "  # forbiden_characters = r\":<>[]()&*»_.,;/–1234567890«?=!…’+\"\n",
        "  forbiden_characters = r\":[]()&*»_.,;/–1234567890«?=!…’+\"\n",
        "\n",
        "\n",
        "  # map( lambda x: x.strip(i) if i in [\".,;\"])\n",
        "\n",
        "  clean_word = clean_word_function(words)\n",
        "\n",
        "  # clean_word = [i for i in clean_word if i.lower() not in French_Words_dict.keys()]\n",
        "\n",
        "  forbiden_fr = [\"est\",\"l'\",\"d'\",\"m'\",\"n'\",\"là\",\"t\",\" \",\"s'\",\"j'\",\"qu'\",\"qqn\",\"l'on\",\"lorsqu'on\",\"s'il\",\"qqch\",\"d'après\",\n",
        "                 \"présentatif\",\"http\",\"reference\", \"jeun\",\"lorsqu'\",\"dance\",\"france\",\n",
        "                \"il\",\"lui\",\"afrique\",\"vrai\",\"cameroun\",\"prép\",\"poss\",\"adj\",\"pron\",\"bana\",\"bafang\",\"monthe\",\"tchamna\",\"ca᷅mnà'\",\n",
        "                \"fè'éfě'è\",\"nùfī\", \"ncɔ̀\",\"nufi\",\"nkhʉ̌\",\"nkhʉ̀\",\"pʉ́ɑ́\",\"kwɑ̀\",\"tāā\",\"mōō\",\"nshʉ̀'\",\"pōō\",\"kwɑ̌\",\"fè'éfě'è\"]\n",
        "  clean_word = [i for i in clean_word if all(elem not in i for elem in forbiden_fr)]\n",
        "  clean_word = [i.lower() for i in clean_word if i !=\"\"]\n",
        "\n",
        "  clean_word = list(map(lambda x: x.replace(\"yέέ\",\"yáá\"),clean_word))\n",
        "  clean_word = list(map(lambda x: x.replace(\"nàh\",\"làh\"),clean_word))\n",
        "  clean_word = list(map(lambda x: x.replace(\"nɛ̄\",\"nā\"),clean_word))\n",
        "\n",
        "  \n",
        "  \n",
        "  # clean_word = [i for i in clean_word if i.lower() not in forbiden_fr]\n",
        "\n",
        "  \n",
        "\n",
        "  # words = [i for i in words if all(elem not in i for elem in forbiden_characters)]\n",
        "  \n",
        "  text = \"\".join(data)\n",
        "\n",
        "  len_data = len(data)\n",
        "  len_text = len(text)\n",
        "  len_words = len(clean_word)\n",
        "  \n",
        "  set_words = list(set(clean_word))  \n",
        "  dict_count_words = {i:words.count(i) for i in set_words}\n",
        "\n",
        "\n",
        "  sorted_words_dict = sorted(dict_count_words.items(),key=lambda x: x[1],reverse=True )\n",
        "  dict_count_words = dict(sorted_words_dict)\n",
        "  \n",
        "  # print(f\"nombre de phrases:{len_data}\\nnombres de mots: {len_words}\\nnombre de caractères:{len_text}\")\n",
        "\n",
        "  text = text.lower()\n",
        "  \n",
        "  # text = words\n",
        "  set_text = list(set(text))\n",
        "  \n",
        "  \n",
        "  # dict_count = {i:text.count(i) for i in set_text if  i in letters and  i != \" \"}\n",
        "  # dict_count = {i:text.count(i) for i in set_text if  i not in letters+\"':<>[]()&*»-_.,\\n;/–1234567890«?ç=!ï…’+œé\" and  i != \" \"}\n",
        "  dict_count_vowel = {i:text.count(i) for i in set_text if  i not in \":<>[]()&*»-_.,\\n;/–1234567890«?ç=!ï…’+œqxr\" and  i != \" \" and i not in consonant}\n",
        "  dict_count_consonant = {i:text.count(i) for i in set_text if  i not in \":<>[]()&*»-_.,\\n;/–1234567890«?ç=!ï…’+œqxr\" and  i != \" \" and i in consonant}\n",
        "\n",
        "  sorted_items_vowel = sorted(dict_count_vowel.items(),key=lambda x: x[1],reverse=True )\n",
        "  dict_count_vowel = dict(sorted_items_vowel)\n",
        "\n",
        "  sorted_items_cons = sorted(dict_count_consonant.items(),key=lambda x: x[1],reverse=True)\n",
        "  dict_count_consonant_ = dict(sorted_items_cons)\n",
        "\n",
        "  dict_count_ = {k:v for k,v in dict_count_vowel.items() if v>0}\n",
        "  \n",
        "  fig = plt.figure()\n",
        "  ax1 = fig.add_axes((0.1, 0.2, 0.8, 0.7))\n",
        "\n",
        "  ax1.set_title(\"Liste des voyelles et tons les plus fréquents en langue Medumba: \")\n",
        "  ax1.set_xlabel(f\"Auteur Resulam. Nombres de mots: {len_words}; Nombres de caractères: {len_text}\")\n",
        "  ax1.set_ylabel('Frequence')\n",
        "\n",
        "  plt.bar(dict_count_.keys(),dict_count_.values())\n",
        "  # plt.title(\"Liste des caractères et tons les plus fréquent en langue fè’éfě’è: \")\n",
        "  plt.show()\n",
        "  #####################################################################################\n",
        "\n",
        "  fig = plt.figure()\n",
        "  ax1 = fig.add_axes((0.1, 0.2, 0.8, 0.7))\n",
        "\n",
        "  ax1.set_title(\"Liste des consonnes les plus fréquentes en langue Medumba:\")\n",
        "  ax1.set_xlabel(f\"Auteur Resulam. Nombres de mots: {len_words}; Nombres de caractères: {len_text}\")\n",
        "  ax1.set_ylabel('Frequence')\n",
        "\n",
        "  plt.bar(dict_count_consonant_.keys(),dict_count_consonant_.values())\n",
        "  \n",
        "  plt.show()\n",
        "  #####################################################################################\n",
        "  fig = plt.figure()\n",
        "  ax1 = fig.add_axes((0.1, 0.2, 0.8, 0.7))\n",
        "  top = 15\n",
        "  dict_count_words_top = dict(Counter(dict_count_words).most_common(top))\n",
        "\n",
        "  ax1.set_title(f\"Liste des {top} mots les plus fréquents dans un corpus de {len_words} mots en Medumba:\")\n",
        "  ax1.set_xlabel(f\"Auteur Resulam. Nombres de mots: {len_words}; Nombres de caractères: {len_text}\")\n",
        "  ax1.set_ylabel('Frequence')\n",
        "\n",
        "  plt.bar(dict_count_words_top.keys(),dict_count_words_top.values())\n",
        "\n",
        "  #####################################################################################\n",
        "\n",
        "\n",
        "\n",
        "  # print(dict_count)  \n",
        "\n",
        "    \n",
        "  \n",
        "  \n",
        "\n",
        "  return dict_count_,dict_count_words\n",
        "\n",
        "dict_counting = mostly_used_special_chr()\n",
        "dict_counting[-1]\n",
        "# \"de\",\"la\",\"le\",\"les\", \"à\", \"du\", \"qui\", \"et\", \"est\"\n"
      ],
      "metadata": {
        "id": "OUFbg6SZrTTp",
        "colab": {
          "base_uri": "https://localhost:8080/",
          "height": 1000
        },
        "outputId": "a7b9abd0-9d04-44cc-cc02-0fc4ddd8b905"
      },
      "execution_count": null,
      "outputs": [
        {
          "output_type": "display_data",
          "data": {
            "text/plain": [
              "<Figure size 640x480 with 1 Axes>"
            ],
            "image/png": "[encoded data removed]"
          },
          "metadata": {}
        },
        {
          "output_type": "display_data",
          "data": {
            "text/plain": [
              "<Figure size 640x480 with 1 Axes>"
            ],
            "image/png": "[encoded data removed]"
          },
          "metadata": {}
        },
        {
          "output_type": "execute_result",
          "data": {
            "text/plain": [
              "{'bə': 4994,\n",
              " 'zə̀': 4856,\n",
              " 'à': 4575,\n",
              " 'nǔm': 4102,\n",
              " 'ɑ̂': 3878,\n",
              " 'mbɑ̀': 3319,\n",
              " 'ndʉ': 3115,\n",
              " 'i': 2826,\n",
              " 'lɑ': 2812,\n",
              " 'nsi': 2483,\n",
              " 'bə̂': 2404,\n",
              " 'bo': 2345,\n",
              " 'bò': 2299,\n",
              " 'a': 2157,\n",
              " 'ncob': 2060,\n",
              " 'lô': 2007,\n",
              " 'kə': 1869,\n",
              " 'kə̀': 1852,\n",
              " 'bin': 1785,\n",
              " 'tsə̀': 1778,\n",
              " 'nùm': 1761,\n",
              " 'nkə': 1485,\n",
              " 'mbɑ̂': 1468,\n",
              " 'cob': 1461,\n",
              " 'njǒŋ': 1383,\n",
              " 'mə̀': 1344,\n",
              " \"kə̂'\": 1236,\n",
              " 'yi': 1220,\n",
              " 'fa': 1215,\n",
              " 'mə': 1150,\n",
              " \"na'\": 1011,\n",
              " 'ɑm': 1011,\n",
              " 'nǔmmbə̂': 912,\n",
              " 'mɛ̌n': 879,\n",
              " 'mɛ̀n': 857,\n",
              " 'ngə̀laŋ': 810,\n",
              " 'nɛ̂n': 807,\n",
              " 'cwɛ̌d': 789,\n",
              " 'mbə': 789,\n",
              " 'yə̂n': 750,\n",
              " 'bǐn': 719,\n",
              " 'tsə': 717,\n",
              " 'ngʉ̂': 709,\n",
              " 'yub': 704,\n",
              " 'bɛ̂n': 691,\n",
              " 'nɑ': 682,\n",
              " 'o': 678,\n",
              " 'bə̌n': 674,\n",
              " 'nù': 671,\n",
              " 'bwə': 659,\n",
              " 'ghʉ̌': 654,\n",
              " 'ghʉ̂': 630,\n",
              " 'bɑ̀': 612,\n",
              " 'ò': 604,\n",
              " 'ju': 579,\n",
              " 'kɑ̂': 556,\n",
              " 'wul': 552,\n",
              " 'cu': 549,\n",
              " 'bə̀n': 534,\n",
              " 'lɛ̂n': 531,\n",
              " 'zin': 517,\n",
              " 'yən': 499,\n",
              " 'ndʉ̂lɑlɑ': 497,\n",
              " 'tum': 493,\n",
              " 'zə': 484,\n",
              " 'bə̀': 482,\n",
              " 'mi': 479,\n",
              " 'bɑ̌': 474,\n",
              " 'njǎm': 467,\n",
              " 'wud': 467,\n",
              " 'tu': 458,\n",
              " 'nǔ': 451,\n",
              " \"mǒ'\": 446,\n",
              " 'mbwə̌': 435,\n",
              " 'mbɛ̀n': 433,\n",
              " 'mbaŋ': 416,\n",
              " 'bɛ̀n': 411,\n",
              " 'fɑ': 398,\n",
              " 'njʉ': 383,\n",
              " 'bwɔ̀': 368,\n",
              " 'mfɑ': 353,\n",
              " 'u': 352,\n",
              " 'mfə': 350,\n",
              " 'cə̂n': 347,\n",
              " 'mì': 337,\n",
              " 'mbwə̀': 334,\n",
              " 'mbɑ̌': 332,\n",
              " 'ɑ': 329,\n",
              " 'côb': 329,\n",
              " 'bɑ̀g': 325,\n",
              " 'sə': 324,\n",
              " 'tsin': 324,\n",
              " 'bam': 322,\n",
              " 'fə': 304,\n",
              " 'yòg': 304,\n",
              " 'ncʉɑ̂': 299,\n",
              " 'mɑ': 298,\n",
              " \"ju'\": 298,\n",
              " 'lɛ̌n': 293,\n",
              " 'co': 283,\n",
              " 'nkûm': 283,\n",
              " 'boɑ̀': 281,\n",
              " 'yɑm': 279,\n",
              " 'li': 278,\n",
              " 'njòŋ': 274,\n",
              " \"kuà'\": 273,\n",
              " 'tswə': 269,\n",
              " 'lɛ̀n': 267,\n",
              " 'mə̀bwɔ': 257,\n",
              " \"mô'\": 255,\n",
              " 'ghʉ̀': 255,\n",
              " 'mɛ̂n': 251,\n",
              " 'ndʉ̀': 250,\n",
              " 'tɑ̀': 248,\n",
              " 'nùkə̀bwɔ̀': 244,\n",
              " \"tʉ'\": 242,\n",
              " 'ndʉb': 241,\n",
              " 'sə̀': 241,\n",
              " \"dʉ̌'\": 235,\n",
              " 'ngɔ̌': 232,\n",
              " 'ngɔ̀': 230,\n",
              " 'ǐ': 225,\n",
              " 'bə̌': 222,\n",
              " \"ndǎ'\": 222,\n",
              " 'njən': 218,\n",
              " 'njàm': 216,\n",
              " 'mbwog': 215,\n",
              " 'bôn': 215,\n",
              " 'ndǎŋndǎŋ': 214,\n",
              " \"à'\": 211,\n",
              " 'ncôb': 210,\n",
              " 'bɑ̌g': 210,\n",
              " 'nzə̀': 209,\n",
              " 'cɑm': 208,\n",
              " 'kǎmɑnyàm': 205,\n",
              " 'vʉ': 204,\n",
              " 'nkɔ̂': 204,\n",
              " 'cû': 198,\n",
              " 'mɑm': 197,\n",
              " 'tɑ': 191,\n",
              " 'ncù': 189,\n",
              " 'bwǒŋ': 185,\n",
              " 'mbû': 185,\n",
              " \"dʉ̀'\": 184,\n",
              " 'kwe': 181,\n",
              " 'tû': 180,\n",
              " 'fə̂': 179,\n",
              " 'bu': 176,\n",
              " 'kôndɛ̀n': 173,\n",
              " 'mɑ̂nzə̀': 173,\n",
              " 'ni': 171,\n",
              " 'kɔ̂': 171,\n",
              " 'fɑ̂': 170,\n",
              " 'cʉɑ̂': 169,\n",
              " 'mbɑ̀b': 169,\n",
              " 'ncà': 169,\n",
              " 'yɑ̀m': 166,\n",
              " 'tʉ': 166,\n",
              " 'ndɑ': 165,\n",
              " 'nkù': 165,\n",
              " 'yob': 162,\n",
              " 'wʉ̀': 162,\n",
              " 'tsiaŋ': 161,\n",
              " 'yɑg': 160,\n",
              " \"sə̌'\": 160,\n",
              " 'bɛ̌n': 160,\n",
              " 'mɛ̀nnzwi': 158,\n",
              " \"tà'\": 158,\n",
              " 'nzwìd': 157,\n",
              " \"lô'\": 157,\n",
              " \"sə'\": 156,\n",
              " 'lɑ̂': 155,\n",
              " 'bwɔ̌': 155,\n",
              " 'bô': 155,\n",
              " 'njɑb': 154,\n",
              " 'mu': 152,\n",
              " 'kɑ': 151,\n",
              " \"sə̂'\": 150,\n",
              " 'ɑ̀m': 149,\n",
              " 'nənʉn': 149,\n",
              " 'nəlɑn': 148,\n",
              " \"nju'\": 148,\n",
              " 'nɛ̀n': 148,\n",
              " 'bɑgɑ̀bin': 147,\n",
              " 'bǎg': 145,\n",
              " 'bɑhɑ': 144,\n",
              " 'yòŋ': 143,\n",
              " \"sə̀'\": 141,\n",
              " 'bwɔ̂': 140,\n",
              " \"ndô'\": 137,\n",
              " 'lo': 137,\n",
              " 'kɑ̀': 137,\n",
              " 'mə̂n': 135,\n",
              " 'mεn': 134,\n",
              " 'cʉb': 130,\n",
              " 'zə̂': 130,\n",
              " 'ù': 126,\n",
              " 'yɑb': 125,\n",
              " 'yǒg': 123,\n",
              " 'wəlo': 122,\n",
              " 'nkunì': 122,\n",
              " 'cʉɑ̌': 122,\n",
              " 'nǔfə̌n': 122,\n",
              " 'yənnɑ': 121,\n",
              " 'jû': 116,\n",
              " 'yù': 114,\n",
              " 'mə̌': 114,\n",
              " 'nzwə': 114,\n",
              " 'ndiɑ̂g': 113,\n",
              " \"mâ'\": 112,\n",
              " 'bwog': 112,\n",
              " 'nsoŋ': 112,\n",
              " 'tsə̂': 111,\n",
              " 'nkɔ̀nì': 110,\n",
              " 'wʉ̌': 109,\n",
              " 'mfə̀n': 109,\n",
              " 'ndɛ̂n': 108,\n",
              " 'ghǎkə̀lɛ̌n': 108,\n",
              " 'nco': 107,\n",
              " 'ɑngɛ̀l': 107,\n",
              " 'bɑn': 107,\n",
              " 'faŋ': 106,\n",
              " 'â': 105,\n",
              " 'jûjʉ': 105,\n",
              " 'ghǎcob': 105,\n",
              " 'lò': 104,\n",
              " 'tǔn': 104,\n",
              " 'mbadtə̀': 104,\n",
              " 'bû': 103,\n",
              " 'mub': 103,\n",
              " 'ndɔ̌nni': 103,\n",
              " 'dun': 103,\n",
              " 'sɑ̌mmɛ̀n': 103,\n",
              " 'ndʉ̂bndʉb': 101,\n",
              " 'su': 101,\n",
              " \"mfà'\": 101,\n",
              " 'miɑ̂g': 101,\n",
              " 'ncǎ': 99,\n",
              " \"lo'\": 99,\n",
              " 'bon': 99,\n",
              " \"fà'\": 98,\n",
              " 'ncǔ': 98,\n",
              " 'nə̀cob': 98,\n",
              " 'kôndɛ̌n': 96,\n",
              " 'bàg': 96,\n",
              " 'mbɛ̂n': 96,\n",
              " 'ndǎŋndaŋ': 96,\n",
              " 'yoŋ': 95,\n",
              " 'miɑg': 95,\n",
              " 'nɛ̌n': 94,\n",
              " 'mfɑ̂': 93,\n",
              " \"co'\": 93,\n",
              " \"mfâ'\": 91,\n",
              " 'zîd': 91,\n",
              " 'sɑ̀mmbɑhɑ': 90,\n",
              " 'kwʉ': 90,\n",
              " 'jʉ': 90,\n",
              " 'ɑ̌m': 89,\n",
              " 'ngàcob': 88,\n",
              " 'sɑm': 87,\n",
              " 'nə̀ghʉ̌': 87,\n",
              " \"lò'\": 87,\n",
              " 'ncòbbɑhɑ': 87,\n",
              " \"fǎ'\": 87,\n",
              " 'nkwe': 87,\n",
              " 'tad': 86,\n",
              " \"lǒ'\": 85,\n",
              " 'kɔ̌': 85,\n",
              " 'gham': 84,\n",
              " 'soŋ': 84,\n",
              " \"ca'\": 84,\n",
              " 'tə': 84,\n",
              " 'mbad': 83,\n",
              " 'ndɑ̂': 83,\n",
              " 'mbu': 83,\n",
              " 'nkɑb': 83,\n",
              " 'naŋ': 83,\n",
              " 'vʉ̂': 82,\n",
              " 'zwi': 82,\n",
              " 'mbeb': 81,\n",
              " 'mî': 81,\n",
              " 'ǔ': 81,\n",
              " 'sɑ̌m': 80,\n",
              " 'nùkə̀bwɔ̌': 80,\n",
              " \"ma'\": 79,\n",
              " 'sə̂n': 79,\n",
              " 'ko': 79,\n",
              " 'ghǎnkə̀mbɑ̀n': 78,\n",
              " \"kǒ'\": 78,\n",
              " 'fεd': 78,\n",
              " 'zə̂nù': 77,\n",
              " 'lεn': 77,\n",
              " 'zǐn': 77,\n",
              " 'ghɔ': 76,\n",
              " 'bɑg': 75,\n",
              " 'ɑb': 75,\n",
              " 'bǎm': 75,\n",
              " 'nzwi': 74,\n",
              " 'ncò': 73,\n",
              " 'tûswə': 73,\n",
              " 'mfεl': 71,\n",
              " 'lə̂m': 71,\n",
              " 'zîn': 71,\n",
              " 'màd': 71,\n",
              " 'mbam': 70,\n",
              " 'nənʉnə': 69,\n",
              " 'wə': 69,\n",
              " 'njôg': 67,\n",
              " 'nu': 67,\n",
              " 'nswə': 66,\n",
              " 'bə̌nnzwi': 66,\n",
              " \"ngʉ'\": 66,\n",
              " 'nə̀bə': 66,\n",
              " 'ləm': 66,\n",
              " 'ndiɑg': 66,\n",
              " \"ko'\": 65,\n",
              " 'kaŋ': 64,\n",
              " 'bɑgɑ̀bǐn': 64,\n",
              " 'njam': 63,\n",
              " 'mɑ̂': 63,\n",
              " 'nkud': 63,\n",
              " 'yɑ̂m': 62,\n",
              " 'bìn': 62,\n",
              " 'ywεdkə̀bwɔ̀': 61,\n",
              " 'ghǎlɛ̌n': 61,\n",
              " 'mbwɔ̂': 60,\n",
              " 'zi': 60,\n",
              " 'fεdfεd': 59,\n",
              " 'sɑ̌mju': 59,\n",
              " 'mfεd': 59,\n",
              " 'tam': 58,\n",
              " 'yənni': 57,\n",
              " 'bâm': 57,\n",
              " 'cɑg': 57,\n",
              " 'nə̀kɔ̀': 56,\n",
              " 'nzîn': 55,\n",
              " 'gha': 55,\n",
              " 'yûb': 54,\n",
              " 'lî': 54,\n",
              " 'kɑ̀n': 54,\n",
              " 'cô': 54,\n",
              " 'nə̀yən': 53,\n",
              " 'bi': 53,\n",
              " 'bwə̂': 53,\n",
              " 'nkǔ': 52,\n",
              " 'sɔ̂': 52,\n",
              " 'nkʉ': 52,\n",
              " \"lâ'\": 52,\n",
              " 'mvʉ̂': 52,\n",
              " 'kɔ̀': 51,\n",
              " 'kud': 51,\n",
              " 'min': 51,\n",
              " 'sə̂': 50,\n",
              " 'kǎm': 50,\n",
              " 'vʉ̌': 50,\n",
              " 'zwim': 50,\n",
              " 'nzə̀ndɑ': 50,\n",
              " 'kǔm': 50,\n",
              " \"ngǔ'njʉ\": 50,\n",
              " 'nzwə̂': 50,\n",
              " 'nə̀ghʉ̀': 49,\n",
              " 'lǒ': 49,\n",
              " 'kǎmɑnyǎm': 49,\n",
              " 'tǔnndɑ': 48,\n",
              " 'ngʉɑ̂nə̀sɑ̌': 48,\n",
              " 'nə̀shù': 48,\n",
              " 'nyɑ̀m': 48,\n",
              " 'yùb': 48,\n",
              " \"ghua'\": 48,\n",
              " \"nə̀ju'\": 48,\n",
              " 'ncʉb': 48,\n",
              " 'kə̀nu': 48,\n",
              " 'nsɔ̂': 48,\n",
              " \"mfǎ'\": 47,\n",
              " \"la'\": 47,\n",
              " 'cʉɑ̀': 47,\n",
              " 'nùmə̀bwɔ': 47,\n",
              " \"ngàfà'\": 47,\n",
              " 'yab': 47,\n",
              " 'mbwə': 47,\n",
              " 'boɑ̀bo': 46,\n",
              " \"kǔ'\": 46,\n",
              " \"nco'\": 46,\n",
              " 'mbɑ̂n': 45,\n",
              " 'tɑ̂': 45,\n",
              " 'tɔ': 45,\n",
              " 'mfaŋ': 45,\n",
              " 'bwǒgmbwə̀': 45,\n",
              " \"fâ'\": 45,\n",
              " 'màdmàd': 44,\n",
              " 'nkʉ̀n': 44,\n",
              " 'njog': 44,\n",
              " \"mǎ'\": 44,\n",
              " \"ndo'\": 43,\n",
              " 'kûm': 43,\n",
              " 'yôg': 43,\n",
              " \"nyû'\": 43,\n",
              " 'nə̀fɑ': 43,\n",
              " 'kə̀bwɔ̀': 43,\n",
              " 'nsa': 43,\n",
              " 'nzə̌nzə̀': 43,\n",
              " 'nə̀lɛ̌n': 43,\n",
              " 'kǎŋ': 42,\n",
              " \"nca'\": 42,\n",
              " 'nzə̂': 42,\n",
              " 'ngə̀lâŋ': 42,\n",
              " 'shun': 41,\n",
              " 'nkǎm': 41,\n",
              " 'î': 41,\n",
              " 'tûswə̌': 40,\n",
              " 'nkə̀mbɑ̀n': 40,\n",
              " 'nsə̌nni': 40,\n",
              " 'zwiǎŋ': 40,\n",
              " 'nǔfə̀n': 40,\n",
              " 'nyɑ̌m': 40,\n",
              " 'ndɑ̂ca': 40,\n",
              " 'nə̀lǒ': 39,\n",
              " 'ngʉ̂dni': 39,\n",
              " 'tuwul': 39,\n",
              " 'nsî': 39,\n",
              " 'mfɑ̌nnù': 38,\n",
              " 'ndə̂ndə': 38,\n",
              " 'nyàm': 38,\n",
              " 'njʉ̌mbwə': 38,\n",
              " 'nə̀zwi': 37,\n",
              " 'kəb': 37,\n",
              " 'yǔb': 37,\n",
              " 'nzin': 37,\n",
              " 'kə̀bwɔ̌': 37,\n",
              " 'nywi': 37,\n",
              " \"mò'\": 37,\n",
              " 'sub': 36,\n",
              " 'nkʉ̌': 36,\n",
              " 'mbwogcʉ': 36,\n",
              " 'ywεd': 36,\n",
              " 'mfʉ̌miɑg': 36,\n",
              " 'sinɑgɔgə̀': 36,\n",
              " \"nko'\": 35,\n",
              " \"mfì'\": 35,\n",
              " 'ngànkə̀mbɑ̀n': 35,\n",
              " \"nkà'nì\": 35,\n",
              " \"ghǎfà'\": 35,\n",
              " 'kwê': 35,\n",
              " 'kɑ̌n': 35,\n",
              " 'nɑ̀': 35,\n",
              " 'kə̌': 35,\n",
              " 'nsô': 35,\n",
              " 'kɔ̂nkwa': 34,\n",
              " 'nândɑ': 34,\n",
              " 'cɔ̀': 34,\n",
              " 'nzi': 34,\n",
              " 'nə̀co': 34,\n",
              " 'cʉ̌': 34,\n",
              " 'nkə̂d': 34,\n",
              " 'zə̂nǔ': 34,\n",
              " 'mfə̌n': 33,\n",
              " 'sɑ̌mmɛ̌n': 33,\n",
              " 'yɑ̀g': 33,\n",
              " 'cǎm': 33,\n",
              " 'soyeâ': 33,\n",
              " 'nsɑ̌': 32,\n",
              " \"nə̀co'\": 32,\n",
              " 'ndə̂m': 32,\n",
              " 'ncǒ': 32,\n",
              " 'njʉ̀mbwə': 32,\n",
              " 'nə̀kə': 32,\n",
              " \"ndù'\": 32,\n",
              " 'kondɛ̀n': 32,\n",
              " 'ghǎghʉ̌': 32,\n",
              " 'zìn': 31,\n",
              " 'lǒŋ': 31,\n",
              " 'lɑ̂g': 31,\n",
              " 'mɑg': 31,\n",
              " 'nkuni': 30,\n",
              " 'ngòn': 30,\n",
              " 'nǔmkə': 30,\n",
              " \"kǒ'fə̀n\": 30,\n",
              " \"mà'\": 30,\n",
              " 'nkɔ̀nǐ': 30,\n",
              " 'fə̀dmbàŋ': 30,\n",
              " 'kâŋ': 30,\n",
              " \"nzìku'\": 30,\n",
              " 'ndʉ̂kə': 30,\n",
              " 'gɔl': 30,\n",
              " 'nga': 30,\n",
              " 'ngʉ̀dnì': 29,\n",
              " 'kə̌d': 29,\n",
              " 'nkʉɑ': 29,\n",
              " 'nə̀jʉ': 29,\n",
              " 'ngòkεd': 29,\n",
              " 'ɑngɛ̌l': 29,\n",
              " 'mɑndùm': 29,\n",
              " 'ndʉ̀sə': 29,\n",
              " 'bɑm': 29,\n",
              " 'tǔnndɑ̂': 29,\n",
              " \"ghǎfǎ'\": 29,\n",
              " 'kʉ̂': 29,\n",
              " 'dûn': 28,\n",
              " 'lêm': 28,\n",
              " 'nkɔ': 28,\n",
              " 'kwag': 28,\n",
              " \"nkû'ni\": 28,\n",
              " 'cɑ̂m': 28,\n",
              " \"bʉ'\": 28,\n",
              " 'nzə̌': 28,\n",
              " 'nkwʉ': 28,\n",
              " 'ngɔ̌ngɔ̀': 28,\n",
              " 'lɑn': 28,\n",
              " 'nə̀kwe': 28,\n",
              " 'fǒn': 28,\n",
              " 'yɑmə': 28,\n",
              " \"nkà'\": 28,\n",
              " 'ngàghʉ̌': 27,\n",
              " 'ndu': 27,\n",
              " 'ya': 27,\n",
              " 'yɑ̌g': 27,\n",
              " \"nsîca'\": 27,\n",
              " 'nɑ̂': 27,\n",
              " 'yôŋ': 27,\n",
              " 'ndεn': 27,\n",
              " 'mɑŋwʉ': 27,\n",
              " \"kua'\": 27,\n",
              " 'soye': 27,\n",
              " 'sɔ̀': 27,\n",
              " 'njwɛ̀n': 27,\n",
              " 'nsɑ': 27,\n",
              " 'nə̀': 27,\n",
              " 'nzə̌nzə̌': 27,\n",
              " 'yû': 27,\n",
              " 'nkʉ̀': 27,\n",
              " 'bə̀nkə̀bwɔ̀': 27,\n",
              " 'nzwî': 27,\n",
              " \"nkuâ'\": 27,\n",
              " \"kə'\": 27,\n",
              " 'nkaŋ': 26,\n",
              " 'ncâg': 26,\n",
              " 'bɑgɑ̀bo': 26,\n",
              " 'bɑgɑ̀': 26,\n",
              " 'kʉ': 26,\n",
              " 'lòŋ': 25,\n",
              " 'kuɑ̌': 25,\n",
              " 'mvʉ̂nsi': 25,\n",
              " 'ngàbeb': 25,\n",
              " \"mbu'\": 25,\n",
              " 'ɑn': 25,\n",
              " 'nkɑ̀n': 25,\n",
              " 'lɑg': 25,\n",
              " 'ngàyǒg': 25,\n",
              " 'bɑndùm': 25,\n",
              " 'yɑ̌': 25,\n",
              " \"le'\": 25,\n",
              " 'ywεdkə̀bwɔ̌': 25,\n",
              " 'nəkuni': 25,\n",
              " 'yam': 24,\n",
              " 'tɑ̂n': 24,\n",
              " \"nə̀lǒ'\": 24,\n",
              " 'mbwoŋ': 24,\n",
              " 'mɑnjàm': 24,\n",
              " 'fə̀dmbǎŋ': 24,\n",
              " 'jʉɑ': 24,\n",
              " 'càm': 24,\n",
              " 'bàm': 24,\n",
              " 'ngwag': 24,\n",
              " 'nsaŋ': 23,\n",
              " 'mbâm': 23,\n",
              " 'vʉ̂nsi': 23,\n",
              " 'kù': 23,\n",
              " 'nkəb': 23,\n",
              " 'ndòd': 23,\n",
              " 'kwʉ̂': 23,\n",
              " 'ghɔ̂': 23,\n",
              " 'cənnɑ': 23,\n",
              " 'nùnənʉn': 23,\n",
              " \"gha'\": 23,\n",
              " 'mbɛ̌n': 23,\n",
              " 'bɑ̌nbɑn': 23,\n",
              " 'mbi': 22,\n",
              " 'nywin': 22,\n",
              " 'ndɑ̂lə̀m': 22,\n",
              " 'mbodnǐ': 22,\n",
              " 'soyeè': 22,\n",
              " 'nsôg': 22,\n",
              " 'tswənsi': 22,\n",
              " 'no': 22,\n",
              " 'nə̀càŋ': 22,\n",
              " 'sɔ̌': 22,\n",
              " 'nzwìl': 22,\n",
              " 'ywɛ̌n': 22,\n",
              " 'nəlɑnə': 22,\n",
              " 'lǒnsi': 22,\n",
              " \"nkua'\": 22,\n",
              " 'mɑ̂nzə̌': 22,\n",
              " 'ndǒn': 21,\n",
              " 'beb': 21,\n",
              " 'nshun': 21,\n",
              " 'ndô': 21,\n",
              " \"nkǎ'\": 21,\n",
              " 'ndun': 21,\n",
              " 'bwôgmbwə̀': 21,\n",
              " 'lə̀m': 21,\n",
              " 'nyɑ̀mdiaŋ': 21,\n",
              " 'ngà': 21,\n",
              " 'lam': 21,\n",
              " 'yôb': 21,\n",
              " \"ndò'\": 21,\n",
              " 'nkǔb': 21,\n",
              " 'kuɑ̌n': 21,\n",
              " 'kə̀kad': 21,\n",
              " 'diɑ̌g': 21,\n",
              " 'ndòŋ': 20,\n",
              " 'bod': 20,\n",
              " 'kum': 20,\n",
              " 'nsiaŋ': 20,\n",
              " \"ngʉ̂'\": 20,\n",
              " \"mbʉ'\": 20,\n",
              " 'wag': 20,\n",
              " 'mfɑ̌nnǔ': 20,\n",
              " 'cʉɑ̂lo': 20,\n",
              " 'mvɛ̀n': 20,\n",
              " 'nə̀shǔ': 20,\n",
              " 'ngʉɑ̂nə̀sɑ̀': 20,\n",
              " 'kamkam': 20,\n",
              " 'ndâb': 20,\n",
              " \"ta'\": 20,\n",
              " 'nə̀cʉɑ̌': 19,\n",
              " \"ndǔ'\": 19,\n",
              " 'wûd': 19,\n",
              " 'nə̀nɑ̀': 19,\n",
              " 'ndab': 19,\n",
              " 'cʉɑgkɛ̂d': 19,\n",
              " \"nkə̌'\": 19,\n",
              " 'lab': 19,\n",
              " 'ghǎnkɑb': 19,\n",
              " 'ghǎkwe': 19,\n",
              " 'njôb': 19,\n",
              " \"ngua'\": 19,\n",
              " 'bwoŋ': 19,\n",
              " 'nkɑ̂g': 19,\n",
              " 'kuɑ̀n': 18,\n",
              " 'bɑ̂g': 18,\n",
              " 'nkʉ̂nkʉ': 18,\n",
              " \"kû'\": 18,\n",
              " 'diɑg': 18,\n",
              " 'bwôŋ': 18,\n",
              " 'nkʉ̂ndə': 18,\n",
              " 'lônsi': 18,\n",
              " 'lɑ̂gnyàm': 18,\n",
              " 'kə̂d': 18,\n",
              " 'nə̀yǒg': 18,\n",
              " 'ɑ̀': 18,\n",
              " 'nkə̂bnjʉ': 18,\n",
              " 'ghǎngòkεd': 18,\n",
              " 'ngàyòg': 18,\n",
              " 'fɑ̌n': 18,\n",
              " 'ghǎkwembwə̀': 18,\n",
              " \"ywì'\": 18,\n",
              " 'ncɑm': 18,\n",
              " 'ncòbkuɑ̀': 18,\n",
              " 'ì': 18,\n",
              " 'nguɑ̂n': 18,\n",
              " 'nswɛ̂n': 17,\n",
              " 'loŋ': 17,\n",
              " 'nə̀kwʉ': 17,\n",
              " 'nə̀lɛ̀n': 17,\n",
              " 'tɑndɑ': 17,\n",
              " \"ngàfǎ'\": 17,\n",
              " 'yɑ': 17,\n",
              " 'nkɑ̂n': 17,\n",
              " 'nsâŋlaŋ': 17,\n",
              " 'binɑ̀': 17,\n",
              " 'mbɑn': 17,\n",
              " 'swɛ̀n': 17,\n",
              " 'ndɔ̌nnî': 17,\n",
              " 'bɑ̂n': 17,\n",
              " 'zinə': 17,\n",
              " 'ndon': 17,\n",
              " 'sǒ': 17,\n",
              " 'nə̀kǎŋ': 17,\n",
              " 'cwεd': 16,\n",
              " \"nə̀sə̀'\": 16,\n",
              " 'bîn': 16,\n",
              " 'nkunǐ': 16,\n",
              " 'ngànkɑb': 16,\n",
              " 'diǎŋ': 16,\n",
              " \"bu'\": 16,\n",
              " 'lɛ̀d': 16,\n",
              " 'diɑ̂g': 16,\n",
              " 'fʉ̌n': 16,\n",
              " 'lə̌m': 16,\n",
              " 'nûm': 16,\n",
              " 'ghʉ': 16,\n",
              " 'ghəm': 16,\n",
              " 'ndɛ̀n': 16,\n",
              " 'ndǒd': 16,\n",
              " \"ŋu'\": 16,\n",
              " 'njwîd': 16,\n",
              " 'zə̌': 16,\n",
              " 'nə̀kɔ̌': 16,\n",
              " 'kuni': 15,\n",
              " 'vʉ̌nsi': 15,\n",
              " 'mbə̂': 15,\n",
              " 'bobo': 15,\n",
              " \"ngànyǔ'\": 15,\n",
              " 'nsɔ̌': 15,\n",
              " 'ndam': 15,\n",
              " 'yǒbkwǐ': 15,\n",
              " 'ndɛ̌n': 15,\n",
              " 'nə̀vʉ̌': 15,\n",
              " 'sîd': 15,\n",
              " 'coŋ': 15,\n",
              " 'bwôŋbwoŋ': 15,\n",
              " 'ghʉ̀n': 15,\n",
              " 'câg': 15,\n",
              " 'ghuɑ': 15,\n",
              " 'kuɑ̀': 15,\n",
              " 'yôbkwì': 15,\n",
              " 'njo': 15,\n",
              " 'zwiɑ̀g': 15,\n",
              " 'mbwɔ̀': 15,\n",
              " 'nə̀nɛ̌n': 15,\n",
              " 'kùm': 15,\n",
              " 'kə̀d': 15,\n",
              " 'kwì': 15,\n",
              " 'nə̀cʉb': 15,\n",
              " \"kuǎ'\": 15,\n",
              " 'mbodnì': 15,\n",
              " 'nə̀bɛ̀n': 15,\n",
              " 'ngôm': 15,\n",
              " 'njun': 15,\n",
              " 'nyu': 14,\n",
              " 'nəcɑm': 14,\n",
              " 'sɑ̌mnǔ': 14,\n",
              " 'zə̀bə̀': 14,\n",
              " 'mbum': 14,\n",
              " \"leâ'\": 14,\n",
              " 'cʉɑgkεd': 14,\n",
              " 'lɑ̀bindɑ̀': 14,\n",
              " 'kɔ': 14,\n",
              " 'mbûm': 14,\n",
              " 'ghǎdiǎŋ': 14,\n",
              " 'nyɔ': 14,\n",
              " 'mɛ̀nfən': 14,\n",
              " 'ca': 14,\n",
              " 'diɑ̀g': 14,\n",
              " 'ndʉ̀sə̀': 14,\n",
              " 'nə̀bwog': 14,\n",
              " 'mvεd': 14,\n",
              " \"nə̀sə̌'\": 14,\n",
              " 'sɑ̌mnù': 14,\n",
              " 'binɑ̀bo': 14,\n",
              " 'sin': 14,\n",
              " \"mfǐ'\": 14,\n",
              " 'nsɔ': 14,\n",
              " 'fì': 14,\n",
              " 'nsâ': 14,\n",
              " 'njɑm': 14,\n",
              " 'so': 13,\n",
              " 'nkuɑn': 13,\n",
              " \"mba'\": 13,\n",
              " \"kǒ'fə̌n\": 13,\n",
              " \"ncà'\": 13,\n",
              " \"ncû'\": 13,\n",
              " 'mbid': 13,\n",
              " 'sɛ̂nni': 13,\n",
              " 'nkâŋ': 13,\n",
              " 'ndʉ̌': 13,\n",
              " 'nə̀cɑm': 13,\n",
              " 'nja': 13,\n",
              " 'siaŋ': 13,\n",
              " 'ghâ': 13,\n",
              " 'nə': 13,\n",
              " \"ngǔ'\": 13,\n",
              " 'jun': 13,\n",
              " 'zwî': 13,\n",
              " 'koŋ': 13,\n",
              " 'cənni': 13,\n",
              " 'mfog': 13,\n",
              " \"nyù'\": 13,\n",
              " 'nko': 13,\n",
              " 'nə̀fεd': 13,\n",
              " 'ghʉ̀dnì': 13,\n",
              " 'mbunjɑ': 13,\n",
              " 'jum': 13,\n",
              " \"nkà'nǐ\": 13,\n",
              " 'lǎb': 13,\n",
              " 'kem': 13,\n",
              " 'njə̀m': 13,\n",
              " 'mbàŋ': 13,\n",
              " 'sû': 12,\n",
              " 'yɑ̌m': 12,\n",
              " 'nsə̌nnɑ': 12,\n",
              " 'bǐnbin': 12,\n",
              " 'nshûn': 12,\n",
              " 'nsôŋ': 12,\n",
              " 'ngʉɑ': 12,\n",
              " 'njum': 12,\n",
              " 'bî': 12,\n",
              " 'fə̌nfə̀n': 12,\n",
              " 'ndiâg': 12,\n",
              " 'nə̀kud': 12,\n",
              " 'ghôm': 12,\n",
              " 'nkʉ̂': 12,\n",
              " 'ŋwâg': 12,\n",
              " \"ghâ'\": 12,\n",
              " 'kɑ̂g': 12,\n",
              " 'ke': 12,\n",
              " \"nə̀lò'\": 12,\n",
              " 'fôn': 12,\n",
              " 'nə̀beb': 12,\n",
              " 'kab': 12,\n",
              " 'ghǎnkə̀mbɑ̌n': 12,\n",
              " 'nzwǐd': 12,\n",
              " 'sô': 12,\n",
              " 'tɑ̂nkʉ̌d': 12,\n",
              " 'ngàndɑ̂ca': 12,\n",
              " 'kə̀cob': 12,\n",
              " 'fog': 12,\n",
              " 'fòn': 12,\n",
              " 'sɛ̂nnî': 12,\n",
              " 'gholòŋ': 12,\n",
              " 'nyǎm': 12,\n",
              " 'mfǒd': 12,\n",
              " 'cʉ̂b': 11,\n",
              " 'mǎd': 11,\n",
              " 'bɑ': 11,\n",
              " 'njənə': 11,\n",
              " 'miɑglo': 11,\n",
              " 'kunndɑ': 11,\n",
              " 'mə̀ba': 11,\n",
              " 'fə̌nfə̌n': 11,\n",
              " 'nyîd': 11,\n",
              " 'ghǎkwembwə̌': 11,\n",
              " 'ngǎ': 11,\n",
              " 'bǐnbǐn': 11,\n",
              " 'njǒbkwì': 11,\n",
              " 'nzid': 11,\n",
              " 'mvôg': 11,\n",
              " 'mbwə̂': 11,\n",
              " 'njwεd': 11,\n",
              " 'mbɑb': 11,\n",
              " \"nga'\": 11,\n",
              " 'ndiaŋ': 11,\n",
              " 'nô': 11,\n",
              " 'ndiâŋ': 11,\n",
              " 'ngɔ̌ngɔ̌': 11,\n",
              " 'bɑ̌nbɑ̌n': 11,\n",
              " \"kuâ'\": 11,\n",
              " 'mfɑ̂n': 11,\n",
              " 'ghǎbam': 11,\n",
              " 'nî': 11,\n",
              " \"nju'ni\": 11,\n",
              " 'yɑ̂g': 11,\n",
              " 'cεdncò': 11,\n",
              " \"jû'\": 11,\n",
              " 'kʉ̂ndə': 11,\n",
              " 'ghǎbeb': 11,\n",
              " 'kəkwεn': 11,\n",
              " 'ngwʉ̂': 11,\n",
              " 'nə̀yɑb': 11,\n",
              " 'nùèkə̀bwɔ̀': 11,\n",
              " 'ywîd': 11,\n",
              " 'nə̀lɑn': 11,\n",
              " \"mìmô'\": 11,\n",
              " 'feèdwud': 11,\n",
              " 'yubə': 11,\n",
              " 'ŋwag': 11,\n",
              " 'nə̀yòg': 11,\n",
              " 'ndʉkə': 11,\n",
              " 'ngàblòŋ': 11,\n",
              " 'kun': 11,\n",
              " 'nkul': 11,\n",
              " 'nshùm': 11,\n",
              " 'nə̀nɑ̌': 10,\n",
              " 'sikə̀d': 10,\n",
              " 'nəbod': 10,\n",
              " 'nkwag': 10,\n",
              " 'ngʉ̀dnǐ': 10,\n",
              " 'nzìn': 10,\n",
              " 'mbʉ': 10,\n",
              " \"nyu'\": 10,\n",
              " 'ndòn': 10,\n",
              " 'mfôg': 10,\n",
              " 'lâb': 10,\n",
              " 'mɛ̂nfi': 10,\n",
              " 'ndɑ̂ncà': 10,\n",
              " 'lon': 10,\n",
              " 'nkwì': 10,\n",
              " 'sɑ̂m': 10,\n",
              " 'ghǒm': 10,\n",
              " 'mfʉɑg': 10,\n",
              " 'jʉ̂': 10,\n",
              " 'ndɔ̂': 10,\n",
              " 'fôg': 10,\n",
              " 'nə̀soŋ': 10,\n",
              " 'ndoŋ': 10,\n",
              " 'mfə̂': 10,\n",
              " 'mûb': 10,\n",
              " \"cô'\": 10,\n",
              " 'nəyən': 10,\n",
              " 'mɑndɑ': 10,\n",
              " 'sôg': 10,\n",
              " 'wàd': 10,\n",
              " 'cobə': 10,\n",
              " 'bwôg': 10,\n",
              " 'nə̀sikə̀d': 10,\n",
              " 'nə̀bam': 10,\n",
              " 'nsɑ̀': 10,\n",
              " 'fə̀n': 10,\n",
              " 'kɑ̀gnì': 10,\n",
              " 'mfôn': 10,\n",
              " 'nə̀nu': 10,\n",
              " 'ndò': 10,\n",
              " 'nə̀lǎb': 10,\n",
              " 'ngàfɑ': 10,\n",
              " 'nə̀diɑ̌g': 10,\n",
              " 'bə̀nkə̀bwɔ̌': 10,\n",
              " 'kəlo': 10,\n",
              " 'ncùndɑ̂': 10,\n",
              " 'fìmncù': 10,\n",
              " 'mfuni': 10,\n",
              " 'njòg': 10,\n",
              " 'ghòm': 10,\n",
              " 'kǔmmbàŋ': 10,\n",
              " 'mûm': 10,\n",
              " 'nə̀wag': 10,\n",
              " 'mbɑhɑ': 10,\n",
              " 'cʉɑ': 9,\n",
              " 'ŋammbɑhɑ': 9,\n",
              " 'nzə̂mbwog': 9,\n",
              " 'ɑ̂m': 9,\n",
              " 'nkə̀mbɑ̌n': 9,\n",
              " 'nkem': 9,\n",
              " 'nkɔ̂ni': 9,\n",
              " 'yǒb': 9,\n",
              " \"nə̀fǎ'\": 9,\n",
              " 'kɑ̌g': 9,\n",
              " 'lem': 9,\n",
              " 'mɛ̀nkə̀bwɔ̌': 9,\n",
              " 'sǒg': 9,\n",
              " \"ngǔ'ngù'\": 9,\n",
              " 'sɑg': 9,\n",
              " 'mfam': 9,\n",
              " 'ngwa': 9,\n",
              " 'cûnkɑb': 9,\n",
              " 'ncεd': 9,\n",
              " 'yɑgə': 9,\n",
              " \"nə̀fà'\": 9,\n",
              " 'miag': 9,\n",
              " 'diaŋ': 9,\n",
              " 'bwòŋ': 9,\n",
              " 'nə̀zə̌': 9,\n",
              " 'bid': 9,\n",
              " 'tà': 9,\n",
              " \"kù'\": 9,\n",
              " 'bə̂n': 9,\n",
              " 'ncùndɑ': 9,\n",
              " 'fǐ': 9,\n",
              " 'bɑ̀n': 9,\n",
              " 'nkǔbncù': 9,\n",
              " 'sǎ': 9,\n",
              " 'diàŋ': 9,\n",
              " 'sî': 9,\n",
              " 'màdnù': 9,\n",
              " 'kuɑn': 9,\n",
              " 'ngǒnngòn': 9,\n",
              " 'nguân': 9,\n",
              " 'yog': 9,\n",
              " 'kwǐ': 9,\n",
              " 'yɑ̂b': 9,\n",
              " 'nyǐd': 9,\n",
              " 'nkwîm': 9,\n",
              " 'kàŋ': 9,\n",
              " 'ngə': 9,\n",
              " 'ngʉnyɑ̀m': 9,\n",
              " 'kad': 9,\n",
              " \"nshua'\": 9,\n",
              " 'ndû': 9,\n",
              " 'ghǎkə̀bɑ̀n': 9,\n",
              " 'kul': 9,\n",
              " 'nkàm': 9,\n",
              " 'ndɑmbò': 9,\n",
              " 'màdmǎd': 9,\n",
              " 'nə̀bwə': 8,\n",
              " 'mfunî': 8,\n",
              " 'kôg': 8,\n",
              " 'nə̀bod': 8,\n",
              " \"lə'\": 8,\n",
              " 'ghǎndɑ̂ca': 8,\n",
              " 'ncùb': 8,\n",
              " \"tɑ̂fà'\": 8,\n",
              " 'yâ': 8,\n",
              " 'ndɑ̂nsi': 8,\n",
              " \"nkû'\": 8,\n",
              " 'jʉndɑ': 8,\n",
              " \"njo'\": 8,\n",
              " 'nəkwʉ': 8,\n",
              " \"lê'\": 8,\n",
              " \"ncùfǎ'\": 8,\n",
              " 'lôn': 8,\n",
              " 'nə̀lə̌m': 8,\n",
              " ...}"
            ]
          },
          "metadata": {},
          "execution_count": 71
        },
        {
          "output_type": "display_data",
          "data": {
            "text/plain": [
              "<Figure size 640x480 with 1 Axes>"
            ],
            "image/png": "[encoded data removed]"
          },
          "metadata": {}
        }
      ]
    },
    {
      "cell_type": "code",
      "source": [],
      "metadata": {
        "id": "fBKGlQoYdKKS"
      },
      "execution_count": null,
      "outputs": []
    },
    {
      "cell_type": "code",
      "source": [],
      "metadata": {
        "id": "cxGyQGz1kmu_"
      },
      "execution_count": null,
      "outputs": []
    },
    {
      "cell_type": "code",
      "source": [],
      "metadata": {
        "id": "kUW9s-zBUNUE"
      },
      "execution_count": null,
      "outputs": []
    },
    {
      "cell_type": "code",
      "source": [],
      "metadata": {
        "id": "dBQdy8VitYAk"
      },
      "execution_count": null,
      "outputs": []
    },
    {
      "cell_type": "markdown",
      "source": [
        "# NEURAL NETWOK LANGUAGE MODEL "
      ],
      "metadata": {
        "id": "eSSt4Dsmhzlh"
      }
    },
    {
      "cell_type": "code",
      "source": [],
      "metadata": {
        "id": "102sCzLihxyf"
      },
      "execution_count": null,
      "outputs": []
    },
    {
      "cell_type": "code",
      "source": [],
      "metadata": {
        "id": "RIpjyhlRkIDT"
      },
      "execution_count": null,
      "outputs": []
    },
    {
      "cell_type": "markdown",
      "source": [
        "# Creating Sequences\n",
        "The way this problem is modeled is we take in 30 characters as context and ask the model to predict the next character. Now, 30 is a number which I got by trial and error and you can experiment with it too. You essentially need enough characters in the input sequence that your model is able to get the context."
      ],
      "metadata": {
        "id": "UaBjYQ_tkqCk"
      }
    },
    {
      "cell_type": "code",
      "source": [
        "full_text_nufi = \" \"\n",
        "\n",
        "for i in nufi_clean:\n",
        "  full_text_nufi += \" \" + i\n",
        "\n",
        "full_text_nufi.replace(\"\\'\",\"'\")"
      ],
      "metadata": {
        "colab": {
          "base_uri": "https://localhost:8080/",
          "height": 157
        },
        "id": "wnmuk3BkurTI",
        "outputId": "2b3c6daa-35cd-4652-b1fd-f0033fb3272b"
      },
      "execution_count": null,
      "outputs": [
        {
          "output_type": "execute_result",
          "data": {
            "text/plain": [
              "'  yà wūkwà\\'mbíɑ́ ngù\\'fī mɑ́ làh ndə̄ə̄ndʉ̄ɑ̄ mvʉ́ɑ́ nǐ\\' ndhī à làh ntō\\' ngɑ̌ ìnjá\\' pēn ō ngɑ̌ mɑ̀mmwēn fhʉ̄ pɑ́\\' ó lɑ̀shʉ̀ɑ̀ lɑ́ tō ɑ́ nshʉ̀ɑ̀pʉ̀ sīē séh mbɑ̀ɑ̀ mǐ ndáh nkāpsī ō nsèn-wèn ntìè\\' sī mbú á bɑ̄ zhínǔ wèn bɑ́ ndáh ī ngʉ́ nkām ntēh ndòò zén mbɑ̄\\' ó mɑ́ zhìāndə̀ə̀ \"6 mòmòshʉ̄ (litt grande disette)\" mɑ̄vǒ mɑ̀ncēn mbìyā\\' ngɑ̌ hèēhèè mbɑ̀ mʉ̀ ngɑ̌ cɑ̀\\'sì ō lɑ́ ngà\\'njǎm à mɑ̄vǒ zhí làh ndə̄ə̄ wúzɑ̄ ndàhnìnì zʉ̌\\'sīē ŋwɑ̌\\'nǐ pè\\' ndhī lɑ́ və̄h nɑ́ à ǎ púánkhù ǎ mɑ̀ndáh sînǔ fɑ́h ì kə̄b nā ò lā\\' lɑ́ ǒ sì mbát ngé\\' kō\\' ncáb nkhù nkɑ̀\\' kɑ́lɑ̄\\' khʉ̄ nɑ́ nù bǎ nzɑ́ yá\\' mɑ̄ndēē pə̄ə̄ nā ò à kɑ̀\\' láh nkàb nkōō nā ì nú sìā ngòp pěn mɑ̀ncá\\'sí nǔkɑ́ yàā ndɑ̀h béè république bananière shwī tàm ngà\\'mbhǐ à (yì mʉ̀nzhwīē) bɑ́ l\\'on peut prédire l\\'état d\\'âme d\\'un futur adulte par ses agissements innocents d\\'enfance n b mbɑ̀wɑ̄lɑ̄ sɑ́\\' nkó yì wúzɑ̄ ká\\' njò\\' ǒ sì píé\\' wǎ\\' nnū ngùh sōh pó ndáh có\\'nìnì mfōpsī wū ngòò lɑ́ mɑ́ wà\\' ā ngɑ̌ tóm mbhǐndèhsì wěn ndʉ̄ɑ̀ŋwɑ̀\\'nì khʉ̀ njòkvʉ́ʉ́ tāb nə̀ə̀ fíáfíá ndhī nkɑ̄ɑ̀ nsɑ̄\\' pó mɑ̀ndɑ́\\'ncà\\' lɑ̀hsì/lə̀hsì ā lɑ́ tɑ́\\' ò sī mɑ́ yà ntīē mbā\\' bɑ̄ ghàp mbǎk ìndō/mbàk kɑ́lō mɑ̄vʉ̌ kònnē\\' mōō lěn mbɔ̌shʉ̄ɑ̄ ǒ ghʉ̌ nɑ́ mbʉ́ɑ́ yāā nshʉ́ɑ́ncò mbɑ̄\\' á pǎtnjàm ɑ́ túfù ā kō ō lə̄ə̄ ngɑ̌ mɑ̀mbʉ̄ɑ̄ɑ̄ mɑ́ ngɑ̌ ìntōh làksì pě\\'nshù pó fhʉ̄ nzhì nsɑ́\\' nkə̌nkə̀ə̀ pèn pə̄ə̄ lɑ́ póómɑ̄ mfēh ndɑ̀pɑ̀\\' nǎm mɑ̀ntʉ̄ɑ̄ nshú\\' ncwàt nǔkɑ́ ó mɑ̀nŋū\\' fà\\'á ā fóh mɑ̀nkō ō kāhā ǒ nsī mɑ̀ nɑ́ yàā tūsè\\' ncâkngǎ\\' nɑ́ zhínǔ sāhndó\\' sʉ̀ɑ̄ mbǒ\\'nkhǔ mɑ̀ntō\\' ntám mbǔ\\'nkěn nɑ́ yàā ndɑ̀h ghèn nshú\\' nsè\\' mō póónì yǎ\\'nthʉ̄ ǒ lɑ̀ pīā yɑ̄ɑ̄ mɑ̀ mbɑ́ pō pā\\' ngɑ̌ pén ō mēn à lǎb nā ôhó mbɑ̌ mbɑ̄\\' ō pɑ̌nèè sǐ\\' nkə́\\' mbʉ́ɑ́ pēntʉ̀ɑ̀\\' bɑ̄ fí\\'nshì nǔntēē ngòpnā á sìà ghèn njə́b mɑ̄ ē vàm zǎ nàm nshʉ̌\\' mɑ̀ mbōk mbhʉ̄ ncɔ̀ tî (0045 fz) pō lə̄b cʉ̄cō\\'ò mɑ̄vǒ ngɑ̌ lɑ̀ɑ̀sì ō ngɑ̌ wén tòō mbɑ̀ɑ̄nshì pí sōh sə̀ə̀mbʉ́ɑ́ mbēhsī ntòhō pɑ̀h lɑ̌\\'ghěn kò nkwèè līē\\' mbɑ̄\\' ó kūɑ̄ ndǔ\\'nkhʉ́ɑ́ mɑ̀nshīīsī ntám njōk ngɑ̌ mfɑ́\\' ndɑ̌\\' nàm tíí nɑ́ líé\\'nzɑ̄ nkwè\\'nǐngòò lɑ́ mɑ̀ncʉ́cák ā pó ndáh vʉ̀vâk nníɑ́ɑ́ kwàlákwàlà ngà\\'mfɑ̌\\'mōh ghə̀ə̄ ndə̀ə̀ ká\\' ndèn ntìè\\' é mbú à mbǎk ló tɑ̀ nshùndʉ̄ɑ̄ hē\\'sî nkâmsīē ngɑ̌ mɑ̀nzhwíé mfǎ\\' vǎm ò tɑ̀\\' ǒ ghʉ̌ màà sìpè\\' mbɑ̄\\' nzhìāndə̀ ǎ yáksí lʉ̄ʉ̄ mfī\\' màà yōh pí nzhwīē á pə̀bsì mvàm mɑ̄ɑ̄ ǒ sì láh ngén mɑ̀ sáá báá wū lɑ́ mɑ́ yǐ pɑ̀nzhîŋwɑ̀’nì tū ā kɑ̀’ cō’ bɑ̄ à yǎt mbèè kǎmnkwèn mvʉ̄ɑ̄ ǒ nsī nɑ́ yàā lǎkpè\\'è mbɑ̂\\'ndhī ngɑ̌ mɑ̀ ntámndʉ̄ɑ̄ kǒm nsénnsēn mā\\'má\\' wèn nkìnkèn ǒ mɑ̀nkwé\\' làh nnū nshì mbāāsī nděn shʉ́ɑ́ zě\\'è ɑ́ pèn hā mfɑ́\\' njàb nkòò une mère poule n\\'abandonne pas ses poussins ǎ mɑ̀\\' ī ngāā ntāmsī ghə̀ə̀ làh nzə́hsí wěn mɑ́ nàh nzə́h wú mbú ì ncámncām mbɑ̄\\' ō lɑ̀ lǐ\\' kūɑ̄ mɑ̀ ǎ ghʉ̌ ngù\\'nkhʉ̀ ntámndʉ̄ɑ̄ ó ncǎhncàh pǒk pʉ̀ nshú\\' nsè\\' mɑ̄ wɑ̄ ndābɑ̀ lɑ̌\\'zhī nàh ngāpsī wèn ŋwɑ̀\\'nǐmbíághə̀ə̀ tàbsí làt tàbsí tòk mbǎk ló sú\\' è ntûmbhì nsìèsì ndʉ̄\\' lɑ́ kūɑ̄ ǹ sī mɑ̀mbōh mbɑ̀ nèhē bɑ̄ lēh mbōk lɑ́ ncām kwɑ̀ nkùɑ̀ ngɑ̌ mɑ́ ncâkngǎ\\' nɑ́ zhínǔnìɑ̀ɑ̄hù nkɛ̄ɛ̄sī sì tú yɛ̄ɛ̄ ǒ sì cə̄ə̄ sīècɑ̌\\' mbɑ̄ mɑ́ fà\\'á d\\'aucuns nshǔ ngāp ngǎ\\' sī wò bɑ̄ yʉ̄ɑ̄ mēnsǐ mvīāt yī mɑ́ líé\\' wūɑ̄ nɑ̄\\'sī nsɑ́\\' ncábɑ́ ngòfāt lɑ̀ɑ̀sǐ mbóó nɑ́ pɑ̀h ndʉ́\\' càm ī zén mbɑ̄’ é mɑ́ wɑ̄ ngɑ̌ mɑ̀mfɑ́\\' ǎ lǎh sōh ntāh ndʉ̀ mī ntó mbɑ̀ɑ̀ ncɔ̀ nshʉ̀\\' pōōkwɑ̀ mɑ̀ nkhʉ̀ yà wúmòó mɑ́ náhnshì faire l\\'affaire mōō yǎt kònkóóbɑ́ sìŋō\\'sì ncō\\' tú ntēē ǒ kóh nshʉ́ɑ́ ā sī tʉ̀ɑ̀\\' bɑ́ bɑ̄ nzɑ́ lēē mbú ò yò nzɑ́ lēē è mbī\\'tū mɑ́ túnā yɑ̄ɑ̄ ǒ cáhsí pí kɑ́ fà’á ā hom ntīā nkǎmsʉ́’ mɑ́ mʉ̀nzhwīē kè mbâ’ móó yòm mīā flàŋsī pʉ̀ɑ̀ lɑ́ zàt lā tɑ̀\\' ǎ ghʉ́ɑ́\\' mɑ̄ ā wū nǔkə̀ə̄pʉ̌nzhwíé ghɑ̀\\' tɑ̀\\' ntèé mɑ̀ntē\\' khù shʉ̀\\' ngɑ̌ pén ō ǒ mbūāsī pɑ́\\' mēn nzhʉ̀nzhʉ̀ɑ̀ lɑ́ kʉ̂\\'sǐ zhínǔthítēnɑ̄ yέέ mɑ̀nnák nthísàh ǒ kə̌\\' nàh mfák ndāhndáh zū ndù\\' mɑ̀ pó ghòk nā ó mɑ̀njā\\' á ntē\\' pō ngèn nù ngɑ̌ mɑ̀nsóh nā à pó yǒk mēn ǐ ŋwɑ̀\\'nì nshwí\\'nɑ́ mvàk yì pó tēh í mfɑ̀\\' lɑ́ mōō báá nhīē\\' tɑ̀\\' ǎ shwìī kà\\' lì ndǎk-kò pɑ̌h ìnshī mʉ̀ wāhà mbɑ̀ɑ̀ mbǐ mbʉ́ɑ́ ndhī lɑ́ kònsāb ā ǎ mɑ̀nkēē mbèè nǐ nɑ́ cà\\'sǐ zí mēn ì zén mɑ̄vǒ mɑ́ nkwèèmōō kǒmfìènkàk ngɑ̌ ngén cɑ̌\\' sēn à càmɑ̄kò ǒ ghá’ ŋwɑ̀’nì zě’è nǔkɑ́ sáhnù ntìmbhì 28 pí wɑ̄ zʉ̌\\'ŋwɑ̀\\'nǐ njàm ndʉ̄ɑ̀nsɑ̂\\'tūsè\\' nǎ’mbū’ kɑ́ ó sáá ngʉ́ ʉ̄ yáá tāb sīē nzíá ncɔ̀ nshʉ̀\\' mɑ̀ mʉ̄sə̀ə̀mbʉ́ɑ́ mvʉ́ɑ́ mɑ̀nhá\\'sí ā ngɑ̌ yú\\' mɑ́ á yǎt wú tɑ̀ nthʉ̄ ā fhʉ̄sī nsū\\'wèn pó kònká\\' kàfī ngɑ̌ mɑ́ mīā njə̄ə̄ wò yō ǒ mɑ́ yǐ hɑ̄ ǹ kɑ̀\\' zhī nàh nnāh nshì nnâk hè\\' cf ngà\\'kə̀ə̄pʉ̌nzhwīē ǒ ngʉ́ njū\\' mbǔ\\'nkěn ǎ zhínkhù mā ŋ̄h pɑ̌h vɑ́h yǒh mēmmɑ̄ ò nsī sīē fə̌h ǒ nsī pí wɑ̄ fʉ̀ ntìā ǹ kɑ̀\\' zhʉ́ɑ́ bɑ̄ ngà\\'vʉ̌ nɑ́ zhínǔ sāhndó\\' nzhwīē á mɑ̀ zʉ̌ sī njò\\'ndāk bɑ́ bɑ̄ ngòòmbōk bɑ̌ ǎ zhí njɑ̌\\'nkwè\\'nì une maison abandonnée hɑ̄ yà mēnsə̀ə̀ lɑ́ cīcō\\'ò ngǎ\\' nā à zǎ pɑ̌lɑ́\\' mɑ̀mbhʉ́ʉ́ ngà\\'nzhǐ nsɑ̂\\'ngwè\\' nsɑ̂\\'pǎhngwě\\' nsɑ̄\\' pǎhngwè\\' ǎ sɑ̌\\' nɑ́ ndɑ̌h kɑ́ ngɑ̌ díé mbɑ̄ ntèn pó fhʉ̄ njá\\' lā\\' ò pāt nsɑ́\\' mfúá móh nā mbīāh nā ngʉ́ wū mbìè mǎ fʉ́ɑ́ nshì mī tɑ̀\\' nzɑ̂kǒm pɑ̌mfɑ̀\\' kāb zì ncīā ncō\\' ndʉ̄ɑ̄ nsíé zʉ̌\\' mbí wèn pó mbɑ̄ tɑ̀ mméh làh nsén wèn nshwíí ntúmbó wěn síé ngɑ̌ pʉ́ɑ́\\' khù ā déploiement militaire augmentation de l\\'espace occupé par les troupes mɑ̄vǒ yá\\' měh làh nsū\\' nzʉ̄ tɑ̀ ntōm yɑ̀ɑ̀ wúɑ́ tōm nɑ́ ì nshʉ̀ɑ̀ wèn ntìè\\' ē mbàk yōh pí fɑ́h á nìɑ̄ [nìɑ̀ɑ̀sǐ] ncà\\' yōh plur de mēmmɑ̄ wèn pə̄ə̄ pó lēn mɑ̂ wū sī mɑ̀ngʉ́ ā bɑ̄ ǒ ngén mɑ̀ hɑ̄ fà’á ā yāā ntīē mfɑ̀\\' tɑ́ ó mfɑ́\\' ɑ̄ mēn à ngʉ̄ɑ̄\\' pō kà kú\\'sí nàh nzáb yɑ̄ɑ̄ mvī tî ǒ sì yə́ə́ pʉ̀ɑ̀ lɑ́ sīē ǎ fíí pó nkòó nà ngɑ̌ púánkhù zʉ̌\\'zʉ̀\\' sìèsì wɑ̄ bɑ́ pēēsì ngɑ̌ ndɑ́\\' mɑ́ wò ghʉ̀ pí nkhǔndʉ̄ɑ̄ mɑ̄nìnkwèè pə̄ə̄ mā ò yǎt sì shwī ghèn nkō yǒ ŋó\\'sī on dit aussi yáá lēē zǐ mēn à ca᷅mnà’ lǒsīē nzɑ̄ kɑ̀lhū ŋ̄h ngɑ̌ ghʉ̌ ŋwɑ̀\\'nǐkóntá\\' làh mfákndʉ̄\\' ǒ yō mɑ̀ lāhā ǒ mɑ̀ hɑ̄ ndʉ̄ɑ̀kə̀b mbā\\' lɑ́ nshísí nzhwīē ī yə̄ə̄ pó ncēh yāā mɑ́ nshù\\'nsə̀\\' nshù\\'nsè\\' bɑ́ ǒ lèn ā í ǒ lèn lā á à kǎb ō ò tō ī abrège ça mfèn ngʉ̄nə̀ə̀ cwâhnkò\\' ncɑ̄\\' nshwī shʉ́ɑ́ndāk lɑ́ pìè ntùmbú\\' tə̀\\' pěn vɑ́h yēē è tènmvàk ghǎ\\'ŋwɑ̀\\'nì nkhʉ̀ɑ̀ ncà\\' ntʉ̀ɑ̀\\' à bɑ́ wɑ̄ bɑ́ mɑ̀njwáásí ī húndèn sɑ̌\\' séè nkwātnthʉ̄ ngʉ́ wū ǒ sì īmbát ncáh pó ndáh pīē ncwēē wū nnó\\' mbèè ngà\\'mfɑ̌\\'mbō kwêngòò nǎ zǎknjǎm à wèn lɑ̀\\' cō\\' ntè\\' mī ntō mǐ tōm ngwɑ́ ncà\\' mbí\\' nɑ́ ndhī ò ghʉ̀ fǐ\\'ì ǎ nnák kɑ̀cák cák pɑ́\\' ngwɑ̀fʉ̀ɑ̀ lɑ́ fhʉ̄ ā ncēn mʉ̀nzhwīē ngɑ̌ ngén mɑ̀ wú pɑ̀h pó ndáh ndʉ̀ɑ̀ nkwāt nshwī mbə̀\\'mbə̀\\'/mbè\\'mbè\\' cà\\'sǐ pɑ̀mɑ̄ ndə̄ə̄ nǒktū ndhī á hɑ̀ɑ̀ nǔlɑ̄\\' nǔngwè\\' pòm nɑ́ à bàá shck ca᷅mnǎ\\' mɑ́ tɑ̀\\' sʉ̄ʉ̀mfɑ̀\\' yáá mɑ̀ndē\\'sī ī nù ī bɑ́ zɑ̄h zǒ ǒ mɑ́ tɑ̀\\' mbè\\' mōō sɑ̀\\' ncɑ́\\'sí ā mōō lɑ́ nŋū\\'sī yə̄ə̄ kōm nā ò \"12 ncátmɑ̄ŋū (\"\"klǐsìmî\"\")\" ngɑ̌ pén tɑ̀’ mɑ̄vǒ lə́ə́ncɑ̌\\' shʉ̀ɑ̀ sì dì\\'sì ā mbā\\' ngwè\\' pó shòm ā ngɑ̌ mɑ́ ngà\\'mfɑ̌\\' ndʉ̄ɑ̀ntǎ\\'ŋwɑ̀\\'nì ncō\\'sī ghə̀ə̀ pó ywēn nthʉ̄ ī líé\\'è shck ca᷅mnà\\' wěn ngʉ́ɑ́\\'sí yə̄ə̄ nzhʉ́ɑ́ mfāt mbɑ̀ɑ̀ mɑ̄ ŋ̄h pó nsóh mbō tɑ̄ nzɑ̄ wúzɑ̄ ǎ pá\\' ncō ntám lôhnùpʉ́ɑ́ pō lāh ndʉ̂\\'nùpʉ́ɑ́ nŋɑ̄\\' ī ndáh ngén ndʉ̄ɑ̀nùpʉ́ɑ́ à yǎt sì sɑ̀\\' ǎ ywāt ngʉ̄ɑ̄\\' fə̌h nzí mōō ne pas confondre táàfə̀ zʉ̌\\' mɑ̀ nɑ̄\\' ndóm mbɑ̄\\' ē pí mɑ̄ é mɑ̀ lāhā ghèn ntāl ī pǎtzén mbōntěnù pí pèn cə̄ə̄ ngwāh mēn à wɑ̄ bɑ́ nhòò béé kwà\\'sì lè ǎ sěh kwǎngāā nkōō tū nǔkɑ́ á mɑ̀ngé\\' ē ngà\\'mʉ̀nzhwīēnshʉ̀\\' mbɑ̀ shīmɑ̄nkǒ\\' zhí làh nnāhshì ngé\\' wèn fùà zʉ̌\\' kònhwīē nshʉ́ɑ́bō mǎ mɑ̀njā\\' nsìèsǐndʉ̄ɑ̄ ngɑ̌ fěn lʉ̀ɑ̀\\' wǎ\\' ŋwɑ̀\\'nì ǐ ghʉ̌ lèn yā\\'hwīē pō lə̀b ǒ sì tāāsī ā mbɑ̀ ò kɑ̀\\' nā\\' wū zě\\'é mbə̀\\'mbə̀\\' fɑ̌hnzɑ̄ nkà\\'nì mǒhshʉ̄ɑ̄ nzɑ̌ léé mbú ò sēn à yámngwê ǒ njū\\' ghə̀ə̄ fè\\'éfě\\'é ǎ còhsì ā pí mbɑ̀ɑ̀ bì mbàh sə̀ə̀mbʉ́ɑ́ ǹ sī mɑ̄ngēē nō bɑ̄ cāp khǔndʉ̄\\' lɑ́ ngə̌\\'hə̀\\' kɑ́ tɑ́ ó kònzābsī ī ǎ pě\\'ngòò tɑ̀\\' sāà lɑ́ lēn mɑ́ kɑ́ mɑ̄vǒ mɑ́ ngà\\'vʉ̌ nɑ́ zhínǔsāhndó\\' tīālʉ̄ɑ̄\\' pīē m̌ mɑ̄vǒ yáá vèn pō ndhîkwēn lɑ́ ntū\\'/ntúntū\\' yɔ̌nshì fʉ̌\\'sīē nkômbhì kə̀ə̄ mbǒ\\'nkhù tchoudi mɑ́ kūɑ̄ncàk à ghèn ngwáá hə̀\\' zʉ̌\\' kòndóm/mɑ̀ndə́b tɑ̀\\' ngà\\'kǎ\\' shʉ̀ɑ̄\\' mbɑ̄\\' ō ndɑ̀pɑ̀\\' zéngʉ̄ɑ̄ tū á mɑ̀nkóm ā ngɑ̌ ghʉ̌ yá\\'tū yàā ntīē wúzɑ̄ tɑ́ ó nkwé\\' nshʉ́ɑ́ zìmó\\' ō hə̌\\'nzī shìì tēh njō ò pʉ̀ɑ̄ŋwɑ̀\\'nì point à la ligne nzɑ̂kǎm mbə̀\\'mbə̀\\'/mbè\\'mbè\\' cà\\'sǐ nkə̀\\'nì/nkwè\\'nì cà\\'sǐ pʉ̌nzhwīē ǒ nkwé\\' làh nhó nkɑ̄ɑ̄ yə̄ə̄ fǐ\\' ngòfát ntà\\' ndàknkhʉ̄ɑ̄ hêè sì\\' kɑ́ fà\\'á ā nthí ndìè\\' ò sōk ī mbə̄ə̄ lɑ́ ngà’mbhǐ à mòòwɑ̄ píngʉ̀\\' ghɑ̀\\' pīē ghɑ̀\\' ghòò tʉ̄ɑ̄ móó kɑ̀mbʉ̀ɑ́\\' ò nzhwīē á zǎknjǎm à wúzɑ́ hwīē ɑ́ pèn sɑ́\\' nzɑ̄ fām zúndʉ̄ɑ̄ nā á mɑ̀mbūā ŋɑ̀\\' mā nufi ngɑ̌ ghʉ̌ tɑ̀\\' sēn yì mbâ\\' nkúɑ́ nkà\\' pɑ̀nkámngwè\\' sǐ\\' nját ndʉ̄ɑ̄\\' nɑ́ tú ngwè\\' bɑ̄ pó ndʉ̄ɑ̄\\' mɑ̀ nɑ́ tū yɑ̄ɑ̄ ngɑ̌ mɑ́ zɑ̄hnshʉ̀\\' ncát sáhnù ntìmbhì 34 béè lɑ̄ béè ǎ ghʉ̌ mbə̀\\' zīī pó ndáh lìèndàk nkhʉ̄ɑ̄ nshìè ngà\\' ngʉ̀gɑ̌\\' mmɑ́\\' nkɑ́ɑ́ mbí ndōòdīī ɑ́ pō láh njīī nī zhī mbʉ́ɑ́ pīɑ̄sī mfī ndòò nsɑ̂\\' yǒh ghʉ̌ sɑ̌hnthʉ̄ à sǐ\\' nkō cə́ə́ nù bɑ̄ ǎ tóh mɑ̀ ntēē ndə̄ə̄ nù ndhī fɑ̌h sìtèn zʉ̌\\' kònníí ghòō tě\\'ndʉ̄ɑ̄ kó\\'ná ngʉ́ wèn à sāk mbɑ̀ɑ̄ndòm bɑ́ pō í nā\\' ndhí ngòò lɑ́ mɑ̀ nsāb ī wèn mbǎ bíì mbūànzɑ́ è tɑ̀\\' tɑ̀ njēē ngɑ̀ɑ̀pū\\' mbí mēn à pɑ́\\' ó lɑ̀ ghʉ́ ā sə̀ə̄wū pè\\'nì pě\\'zīī tʉ̄ɑ̄ nzhìndʉ̄ɑ̄ lɑ́ ngʉ̀ɑ̄ ngɑ̌ lɑ̀ɑ̀ bō lɑ́ mɑ̄nì ndʉ̀mbʉ́ɑ́ ǎ fá\\' ngʉ́ nə̀ə̀lāknkà\\' provient de nə̀ə̀lāk sì\\' mʉ̀ ngɑ̌ kwè\\' ō ngɑ̌ kə̀\\' ō ngǎ’ sə̀ə̄wū sī mɑ̀ngʉ́ wèn bɑ̄ pó ntèn wǎ’ ngɑ̌ shwītōk pɑ́\\' tēnɑ̄ lɑ́ ǒ ghʉ̌ yàā zhínǔmfɑ̀\\' hɔ̌bɑ̂ cǎmnà\\' ǒ lə́ə́ndʉ̄ɑ̄ ɑ́ lī\\' shʉ̀ɑ̀ nhōksī á ndʉ̄ɑ̄ pō yǎt sì zhìē pè\\'è wɑ̄ bɑ́ ngà\\'tìē tə̄ə̄sícwě\\' « lǒsīē āfrīkà » ngɑ̌ tám ngáá tú ó mɑ́ tîm sɑ̄\\'ndʉ̄ɑ̄\\' póósə̀b píá póóngòó njōkò ntʉ́ɑ́\\'sí ǹ njāt ndʉ̄ɑ̄ ndǒk à mbâ\\'ndʉ̄ɑ̄ ngɑ̌ ngén mɑ̀ pìī nkà\\' njēnpʉ́ɑ́ yàā mʉ̀nzhwīē tɑ́ ó mɑ̀ndēn yì ǎ ghʉ̌ váánshù lì í à sǐ\\' ngēē nā bɑ̄ ndám pə̀pē\\' mɑ̄lāā nzhînù nkə̄\\'nkə́\\' nzhì ǹ kɑ̀\\' yīī ndū ngɑ̌ cǎm ndʉ̄ɑ̄ ncwé\\'nkàp ndhī ì ghèn nnū hù zǒ mʉ̀nzhwīē lɑ́ mɑ́ tɑ̀\\' nsôkcə̀\\' nú sìāngòp pɑ̀nŋwɑ́tlɑ̄\\' bɑ̄ ngòò yɑ̄ɑ̄ ǎ ghòòmɑ̀ ǎ ghěn fàk mmɑ́\\'njòò mbè\\' wúzɑ́ cǎmnǎ\\' mbɑ̄ nkòmnkòm nɑ̂\\' nzhʉ̀\\' pɑ̄nèé zɑ́ ncò ngɑ̌ wú sēn à ghèn tɑ̄ njīī ngɑ̌ vɑ̌h wūɑ̄ ngɑ̌ sɑ̌\\' nɑ́ nǔ nzhwīē à nǔ ndǒm à mbʉ̀ɑ̀\\' pʉ̌ pén yà mbʉ́ɑ́ yīī pɑ̌ngèé nkwé\\' nkhʉ̌nkhʉ̀ tɑ̀\\' ǎ mɑ́ mbhʉ̀mbhʉ̌ wèn ǒ ndáb pɑ́\\' hùɑ̀ lɑ́ kə̀ə̄ncǒ nshì ǒ yá\\' ghěn mbèè ncām sʉ̄\\'ʉ̄ nkwèè zʉ̀\\' mɑ́ mbɑ̀ ghʉ̌ mɑ̀wǎ sáhnù ntìmbhì 49 ǹ kɑ̀’ fhʉ̄mɑ̄nkwá’sí làh nhɑ̄ ō yá’ntʉ̄ ǹ kɑ̀\\' tēn ō còh ngʉ́ fhʉ̄ nsɑ́’ ntāl á mbèè lè ngà\\'mfʉ̀ʉ̀ avoir affaire à quelqu\\'un phǐ nthʉ̄ ndáh nkāk mbèè lò ǒ sì phʉ́ʉ́ bá mbhǐ ngə̀\\' ǒ ngə́ə́ mbú á fà\\'á lɑ́ ɑ́ ndēn mɑ́ kɑ́ kǎ\\'nə̀ə̀ acclamez son excellence m le président ǒ sɑ̌\\' mɑ̀ nɑ́ nù mbā á ngɑ̌ ìnnū nshì ǹ kà ghʉ́ mɑ̀ yà kə̀\\' fìèvre typhoïde nzáb kèēmfɑ̀\\' ŋwɑ̀\\'nǐ kèēmfɑ̀\\' ne pas confondre mbʉ̄ɑ̄\\' mbō sāh ghə̀ə̀ béé nɑ́ ntìē\\'sɑ̀\\' nné\\' nɑ̂\\'sīē pó ndáh kwě\\'ngʉ̀ɑ̀ nzhī ndēn mɑ́ zhìèndàk mvʉ̄ɑ̀kò mōōhwīē mbǎ\\'ntāb nù cʉ̄cō\\'ò lə̀hsì ā lɑ́ ǒ ntén pɑ́\\' fēn lɑ́ khʉ̀khʉ̄ɑ̄ mbɑ̄\\' ō sǐ\\' nkwé\\' ndʉ̄\\' bɑ̄ pó ncóh ncō\\' mfɑ̌\\' nzhwīē à njàmkè\\' wúnzhì yɛ̄ɛ̄ bî ngɑ̌ pén ō mēmmɑ̄ ò ǒ nkíkén tɑ̀\\' hom nzhî\\'sì ǹ sǐ\\' nját ngén kò bɑ̄ nzhwīē mbǐ nshǐ yə́b càk sī\\' mvát nɑ́ nkhù mǒ lɑ́ yáá kòpsì wǎ\\' yāā pə́h ō ò pā\\' ngɑ̌ nìɑ̀ɑ̄ nù mbā tɑ̀ yāā pīh sǔ\\' ngāp mɑ̄ à móó ndʉ̄ɑ̄ ò mɑ̄ndáh kə̀kòp nnē\\' mōō mɑ̀ lāhā kwà\\'sì nàm sʉ̄\\'ʉ̄ bê ǒ sì mā\\' wèn mɑ̀ ǎ shʉ̀ɑ̀ ō mbè’mbè’ fɑ́hnzɑ́ mbú ó lɑ́ ngām à ngɑ̌ mɑ̀nkōsī mɑ̄vǒ làh nzʉ̄\\'nʉ̀ɑ̀ nùntèn nshʉ̄ɑ̀ mbūànzɑ́ è ngɑ̌ nshùnshʉ̀\\' pí wò yōh pɑ́h ó nshùnshʉ̀\\' ngɑ̌ mɑ̀mbʉ̄ɑ̄ɑ̄ pɑ̌\\' ŋwɑ̀\\'nì à sāk-kǎmpō zɑ̄pìì mvàk yì ǎ sɑ̀\\' lɑ́ ɑ́ yēē pɑ́h í fɑ́\\' lī\\' sām ncà\\' lɑ́ mɑ̄mbə̄ə̄ mɑ̄ŋū fámyèh sì tǒhtèn à bɑ̌ sīē mɑ̀ ǹ sǐ\\' nsɑ́\\' bɑ̄ ɑ́ mbɑ̀wɑ̄lɑ̄ sɑ́\\' nkō yì wúzɑ̄ mbókndʉ̄ɑ̄ tʉ̀ɑ́ ngʉ̄ɑ̀ mbɑ̀ mʉ̌ cáhsí ntìé’ è lè lǎh zì bê lè nsôkncwà\\' à lǎh wèn mɑ̀ ǎ làh nɑ́ mɑ̄ ē pí mbɑ̄\\' ē ǒ kə̌\\' wɑ̄ nshʉ́ɑ́ mò\\' ò híé\\'nā yáá ndéndēē mɑ́ pó nzáp mvʉ̄ɑ̄ ǎ lɑ̀ má\\' nkwèn lī ndɑ̌\\'mɑ́ cə̄ə̄ ngwāh mêngòò yʉ̄ɑ̄ bɑ̄ lɑ̀shù\\' ā ngà’wɑ̄ ō ō ō pó ngə́ə́ nù pí kɑ́ ncát mōō yǐlɑ̄\\' fhʉ́ wū ntām fíí tók wèn ǒ nkə́\\' làh njū\\' yɔ̌nshì í abstiens-toi pó ndə̄ə̄ sɑ̀\\' tɑ̄ ndáh nsɔ́ ngà\\'ghòò ngɑ̌ mɑ́ ngà\\'kà\\'/mfɑ̀\\'kà\\' ngɑ̌ mɑ́ ncwènghòò nsēēnthʉ́ wèn de tè\\' pə̄ə̄ mbɑ̀ zàptwǎ\\' sīē lɑ́ ndʉ̄ɑ̀lə̄ə̄ ghèn nsák ndhī ō lɑ́ yáá ŋū\\'sī mvʉ̄ɑ̄ yì ǎ nkáh lɑ́ sǐ\\' nnēē ndə̄b bɑ̄ ngɑ̌ póh nù nèhē ǒ sì yū\\' tùm ndēn mɑ́ ngáá zhìè mbàk kɑ̌ nzhʉ́\\' tɑ̀\\' lɑ́ sǐ\\' ndō bɑ̄ ndʉ̀ndʉ̀ɑ̀ phì ǎ yóm wǎ\\' tɑ̀ mó\\' līē\\' (lɑ́ mbɑ̀) expression similaire ń njwēn kɑ́ mbú ò kɑ́ tɑ́ ó mɑ̀nkə́\\' làh nū ū ǎ zàb yɑ̄ɑ̄ mɑ̀ pó fʉ̀ɑ̀\\' ī wěn njū\\' ntə̄h nzɑ̄ pìì ŋ̄h bɑ̂ yàā ntīē (kɑ́ ntīē) tè\\'sínù báá ā sìnkù\\'nì sìzhīnkù\\'nì càmwɑ̄ pó mɑ̀ncá\\'sí líé\\'nzɑ́ zí táàwɑ̄ njàmnzɑ̄ wāhà báá wū sī mɑ̀nját lā mbɑ̀ nēhē bɑ̄ ghʉ̌ mbɑ̀ mɑ̀ lāhā lɑ̄ tɑ̀ ntōh làksì kwēnsòm nzhwīèngèn ǎ shʉ̀ɑ̀ ndǒk ì yōh bɑ́ yáá mɑ̀nnák zī ndū à sīēbɑ́ncə̄ə̄ à sī tô\\'ndʉ̄ɑ̄ bɑ̄ nī á ghòh wèn yɑ̄ɑ̄ yáá nɑ́ mǒ\\' līē\\' nò\\' shʉ̄ɑ̄ kɑ́lā\\' nò\\' kɑ́lā\\' pɑ̀mɑ́nǐ nsó ndùānì wɑ̄ bɑ́ ìndáhzʉ̀\\' ō ngwààwèn ghá\\'mfɑ̀\\' nkə̌\\'ngāā kwāt mbú\\'mbū\\' cə̄ə̄ ngwāh tènmvàk sēn à ghèn ncák mvī ordre noms des rois pīā nā ō nzɑ̄ à lɑ̌\\' ntám lóhwūɑ̄ tɑ́\\' ǎ mɑ̀ nɑ̄\\' mfhʉ̄sī ntìé\\'è nshwīè pīē ngɑ̌ fhʉ́ cǎh ngèn sáhnù ntìmbhì 21 kɑ́ béè mbù\\'vàm ǎ yěh tū ī ǎ kònjá\\' nzʉ̄ la mère poule n\\'a jamais abandonné ses poussins à lɑ̀ŋwɑ̌\\' ŋwɑ̀\\'nǐcwě\\'vɑ̀h zǐ tɑ̄ nkūɑ̄ mbɑ̂\\'nsɑ̄\\' táànsɑ̄\\' yáá sī yáá yá\\' sī ndú á zǎknjǎb à nthʉ̄ á kònhɑ́\\'sí ngà\\'kǎ\\' ná\\' nzāt mǎ mɑ̀ lāhá mbí pèn ncwāh mbə̄ə̄ lɑ́ mɑ̄vǒ ndāmɑ̀ ndə̀ə̀wɑ̄ hom ngà\\'hòò mbə̄ə̄ lɑ́ ghǎ’ŋwɑ̀’nì fà\\'á á ndéndēē é ɑ́ ghʉ̀ghà\\' pɑ́\\' nkwāh khù ō ngɑ̌ cɑ̀ɑ̀ bī mbī’tū mɑ́ á lōō nā wúzɑ̄ ā pó yòk í zʉ̌\\'ŋwɑ̀\\'nì ngɑ̌ píé hǎ\\'mbǎk mɑ̀mvīāt mɑ́ tálàlàlàlàlàt ǒ ìndī\\' měh béé sìèsì lè mɑ̀ ǒ còh nzhī làh nsōk wèn mvàk yì nzɑ́ mɑ̀nshʉ́ɑ́ lɑ́ mɑ̀ ghə̀ə̄ fè\\'éfě\\'è ndɑ́\\' wěn ntē\\' ɑ̌ mbɑ̄\\' nsí\\'njàm zǐ nzhīnù nshʉ́ɑ́ ī ń dǎh mvàk lāhā pō lɑ̀lǎh mfɑ̀\\' nzī ī ǹ sī ntèn bɑ̄ ngɑ̌ mɑ̀ngóó ngɑ̌ mfɑ́\\' ndǒk à (litt je travaille seul) sîntèn sī mbú á bɑ̄ wèn ndâm yóknā nzhī mɑ́ ó ìndə̄ə̄ mā ǒ ngʉ́ fʉ̀\\' ngɑ́ɑ́sí yāā pê\\' lǎh yì mò\\' pʉ̌ mbīēnàm pɑ̌mbīènàm ncò\\' pè\\'è mɑ̄vǒ mɑ̀nsī\\' nā à cà\\'sì móó shǔ\\' nsə̀\\' mī lèēwūɑ̄ ngɑ̌ sɑ̌\\' yə̀\\'/ywè\\' yēē nhɑ̄ nthʉ̄ nnìɑ̀ ndʉ̄\\' nsɑ̂\\' trump mɑ́ tɑ̀\\' mɑ̄lɑ̄\\' ŋwɑ̀\\'nì sī wū zě\\'è bɑ̄ yā\\' shìsǐ kwéndʉ̄ɑ̄ tɑ̄ ndīē ghèn ndə́bsí wúzɑ̄ il a accepté avec colère ndū ì ngà\\'mfɑ̌\\' ngōmnə̀ə̀ ǎ nsī mɑ̀ nɑ́ yàā lǎkpè\\'è ǒ sì fīī bɑ̄ ngɑ̌ ìnníɑ́ɑ́ yāā pō těh ntōhó nɑ́ ghǎm mɑ̀ yáá mvʉ́\\' kwɑ̀ ntēē nǎ mɑ̀nhɑ̄ pō téhwū nkwāt wèn mɑ́ á ghʉ̌ wū sìkə̀\\' ntʉ̄ɑ̄ ngʉ̄ɑ̄ ôhó mbɑ̌ mbè\\' sēn à sēn ǒ mɑ́ mbâ’ kè mʉ̀nzhwīē mbʉ̄ʉ̄ ndʉ̀ndām fìènkàk pí tītīānì yāā bɑ́nhɑ̄ mbūānì ǎ mɑ̀nsíésí ā mɑ̄nzhì làh ngén kò mvī lɑ́ cāh ngʉ̀ thʉ̄ pí sīē tómfhʉ̀\\'nù lə̌h hɑ̌\\' ngòfāt làh ndōōdīī kɑ̀\\' pé\\' pàh lōm ǎ kònnʉ́ɑ́ɑ́ làk nshǐnkwè\\'nì ngòò lɑ́ sī mɑ̀ntām ā mbɑ̀ nēhē bɑ̄ ǒ sì tōh mɑ̀ kè\\'è\\' ndə̀\\' mbìyā\\' ngə́ə́ nù ndáklōh nǎm lò tɑ̀\\' cēn mbâ\\' ngə́\\'nkòò kə̌bngə̌\\'ngə̀\\' mbàk lɑ̀lǒ líé\\' ntēē nshʉ̄ʉ̄ ntə́ntə̄ mbʉ̀ɑ̀ ntî ò sǐ\\' ngén nkɑ̀ndàk bɑ̄ mɑ̀ ǒ mbīē nshǐnā í mɑ̀mbénɑ́ lǒsīē lɑ́ ǎ mɑ́ ngwēèwèn mɑ̄ŋū njwēnɑ̌hntà\\' ngə̌\\' tə́b ndʉ̄ɑ̄ mbɑ̄\\' zī à à sī ntèn bɑ̄ nzhwīē á lǎh pó zʉ̄ nǔ shʉ̀ɑ̀ ā ngɑ̌ nshʉ̄\\' nā à mɑ̀ hɑ̄ cwàālák sɑ̌\\' mbɑ̀ɑ̀ bà síé yɑ̄ɑ̄ nzhì tɑ̀tōh mbɑ̄\\' shìā zén mēmmɑ̄ ò mbá\\' mɑ́ cīēncə̄ə̄ wúntēē zǐ càb ngɑ̌ pén yēē nù sìtū kō\\'nkwēn/nkō\\' ghɑ̀ɑ̀ sì tǒk pō pó sɑ̀\\' ghʉ̌wū nēhē pɑ̌h mɑ̀mmóm ndʉ̄ɑ̀mòm ngʉ́ nkó\\' mbí wèn nǔkə̀ə̄pʉ̌nzhwíé mɑ́ mbè\\' wū ú yɑ̀\\' ǒ shʉ̀ɑ̀ mbɑ́ɑ́ pɑ̀ɑ̀ yáá shwìāngà\\' m̌ mēn à ngɑ̌ mɑ́ ndàhnìnì nzɑ̂ thʉ̂\\'kòm nzhwīē ā ngwè\\' yáá mɑ̀nnák mbɑ̄’ ò à lɑ̀ghěn sēnɑ̄ ngɑ̌ pén tɑ̌’ mbɑ̄’ ō pōōmbā\\'/pōōmbâ\\' ndə́\\' hə̀\\' ngòp thʉ̄ pīèncò sáhnù ntìmbhì 41 nkǎmsʉ́’ zàb ā shʉ̀ɑ̀ tɑ́ mbàk lō zìmó\\' póónǐ mbátsí nā yɑ̀ɑ̀ kɑ̀cák tèn khʉ̀ɑ́\\' ndʉ̄\\' ò lǐ\\' lǎh nshʉ̄ɑ̄ nā ō mfɑ́\\' ò cōmsī ngòpkwàà mbōh ghòò fī nì bɑ̄ mɑ̀ wò nìnì bɑ̄ mɑ̀ wò ngɑ̌ pén ó tɑ̀’ mɑ̄vǒ pɑ̄tīpēè tɑ́’ ǹ kɑ̀’ ghʉ́ ntìè’ làh nzɑ̄ wúzɑ̄ ngɑ̌ yá’ cōh mfɑ̀’ hɑ̄ nzhì mbǔ\\'nkěn sīē nzhī mɑ́ á lēn fà\\'á á ǎ fíí yāā bɑ̌ cwǎnù ǹ ncō nkə̀ə̀ mɑ̀ tū ā wū lě mɑ́ tómfʉ̀\\' kɑ́ tɑ́ mbɑ̄’ é ngʉ́ ʉ̄ kìkén sʉ̀ɑ̀ ǒ sì mɑ̄mbɑ́\\' ghə̌ mbí mɑ̄ ē nə́hŋwɑ̀\\'nǐnzhǐntē\\' làt lɑ́ kònŋwātlɑ̄ yāā kɑ̀\\' cóh mbhī nombre pair nǎm wáhá pó ndī\\' lèē wūɑ̄ mɑ̄ngé\\' ɑ́ pèn hāt mfɑ́\\' ngɑ̌ mɑ́ ngòò ā flàŋsī kó\\'sīē ŋ̄h ǎ hwíé yī pè\\'è bíí ghāk mbhǐndèhsì zúntə̄\\' tōm ngén nzɑ̄ mbə̄ə̄ lɑ́ mēmmɑ̄ ò à lɑ̌’ mɑ́ tɑ̀’ ngà’kà’ à lɑ̌’ ncwén ghòò tu as abusé ǎ táb pó tók à mɑ́ nzǎàŋ ǎ tʉ́ɑ́ á thʉ̄ ndó\\' nkō\\' ǒ ìndī\\' mèhsǐ béé sìèsì lè mɑ̀ ǒ zhí mó\\' mvǎk nɑ́ sìēmbʉ́ɑ́ pɑ̌mfí\\'kè\\' tɑ̀mmíéwǎ\\' yǐ fè\\'éfě\\'è njâ\\'nù wúzɑ́ mbāh pó lɑ̀ pát nzɑ̄ ǹ sī ìmbát lɑ̄\\'mfʉ́ɑ́\\' bɑ̄ nɑ̄\\' nzhī\\'sī pìē\\' ndù\\' lɑ́ séè fə̌ phʉ́ ā mʉ̀nzhwīē ǹ kɑ́lǎh yà ndhí móó hɑ̄ lǎh yì fɑ̄htām lɑ̄ yì yā\\'hwīē mbōòmbénɑ̀\\' ngɑ̌ kòngə́ə́ mbɑ̀kɑ́lɑ̄ ò mɑ̄nnī\\' ā sì\\' nnī\\' mbə̄ə̄ lɑ́ ngà’mbhǐ à ndə̀ə̀wɑ̄ pɑ́ ń dɑ̀ īmbát mfʉ́ɑ́\\' sə̀ə̄līē\\' ǒ mɑ́ tɑ̀\\' hě\\'nzī fǎm yàt ò sǐ’ nsī pí mbɑ̄’ é mbɑ̀ mɑ̄ é bɑ̄ í njú\\' nā á zàt lā zě\\'è tɑ̀\\' mɑ́ mbɑ̀ nù lɑ́ kɑ̀\\' yóh ī mbɑ̀ yòh lī\\' ghə̀ə̀ nzhī lī\\' ghə̀ə̀ nkwá\\'sí ndʉ̄ɑ̀kòm ndʉ̄ɑ̀kə̀b mbɑ̄\\' á fīīnsát mbú ì ngɑ̌ nsī mɑ̀ ntám kwèēlɑ́\\' āmērīkà tə́hnkō\\' mbǎ\\' mbɑ̄ cìcàh ntə́ə́thʉ̄ mfōhsī fāk mfɑ̀\\' mǒ mɑ̀nkwēn ā ndéndēē bɑ́ nkwèè yāā wǎ’ pə̀’ càtsǐ nshǐ nɑ́ nsə̀ə̀ lɑ́ ngɑ̌ zhwìàh lī pí tɑ̀\\' mʉ̀nzhwīē nɑ́ mbè\\' mfɑ̀\\' mǐ pɑ́\\' nsīī wú wèn yáá yǐ fà\\'á lɑ́ nsìèsì mɑ̄ ngʉ́ zǒ sì\\' fà\\'á ntèèntèé cáb nkhù mā ngɑ̌ mɑ̀ncə̄ə̄ mēn à ǎ fhʉ́ngén yǒkvʉ̄ lə́ə́mbū\\' pí mòōnkám mɑ́ pɑ̀ tǎ\\' sēn vâk vʉ̀vâk sēnɑ̄ / sēn / sēlɑ̄ nkēē nkhʉ̄ɑ̄ yáá yʉ̄ʉ̄ mā ndʉ̀ pàt ngʉ́ nú nsī zʉ̌\\' nshʉ̀\\' ǎ lɑ̀ mí sə̀ə̄wū ǒ ìndī\\' měh béé sìèsì lè mɑ̀ ǒ zhí ghə̀ə̄ pɑ̀ngèntōm mɑ̀ ghə̀ə̄ fè\\'éfě\\'è ngɑ̌ yá\\' tōm nkèn zǎp tìtèn díí wū ncāk lò kīkēē ndó kīkēē mɑ̄mbʉ̀ɑ̀\\' lɑ́ kòncōh ndù\\' mō ncǒ púásí pʉ̀ tàà mbɑ̄\\' kâmntǒ mɑ́ tɑ̀\\' shwītōk ngà\\'ngèè njēn sáá ǎ tóm nɑ́ nù ntók nŋwā\\' nɑ́ báá pàh lɑ́ ghèn nníɑ́ɑ́ kwéndʉ̄ɑ̄ ò hɑ̄ ā zī\\' lɑ́ nkə̀\\'nì mā ngɑ̌ cɑ̀\\'sì ō lɑ́ ngà\\'mbhǐ à yáá ghʉ̌ tɑ̀\\' ngù\\' yέέ tāmngù\\' nzhì bǎ pʉ́ɑ́ ncō mbhǐ síì mbə́p tɔ̀tɑ̄ní ngɑ̌ cáh kò ngɑ̌ ndɑ́\\' wò ndʉ̄ɑ̀mòm ndʉ̄ɑ̀mòò lí\\' sī mɑ̄ ncōmsī lɑ̄\\' yēē pə̀b nɑ́ à bàá mbā\\' lɑ́ yɑ̌h thʉ́ nzī nzɑ̄ cēn nzɑ̄ cīn yēē bɑ́ mvʉ́ɑ́ kòmmá\\'sí nkwèn ī móó dʉ̄\\' pɑ́\\' ngə́ə́ nù pɑ̌\\' nshìè ndáh nkāb ngāp kwāt pū\\' lɑ́ mvʉ́ɑ́ ghòō mbɑ̀ɑ́ kò zēn zǐ mɑ́ yīītɑ̄mbēn pè\\'è zɑ̄ɑ̄ bɑ́ pɑ́h í sēn ǎ kɑ̀\\' zě\\'è dīē fɑ̌hnzɑ́ wāhà ncāhnzhìè tɑ̄ nsɑ́\\' mbǎk kòmvhʉ́ hɑ̄ nzhì ǒ thʉ̄ mɑ̄tà ngʉ̀ɑ̀ mɑ̄tà nkwě\\'ngʉ̀ɑ̀ nkâmsīē cǎmdà\\' lɑ̌\\' túmóh nùfī zʉ̀\\' lɑ̀cǎhsí tɑ̀\\' ghěn kò njíísí mbɑ̄\\' ē cīcō\\'ò pèn sīsīē ngóó nā nhɑ̄ ná nɑ́ wū yì kèēvɑ̀h kɑ̀\\' póm pí nǔsīē pōōmbá\\' nzhī nàh nzʉ̄\\' nʉ̀ɑ̀ tɑ̀mmíéwǎ\\' pʉ̌nzhwīē ndʉ̂\\'fóh mfūā pɑ́\\' sāk lɑ́ nzɑ́ lēē è pōō yòk pʉ́ɑ́ nshʉ̀ɑ̀nzɑ̄ mbīènkhʉ̄ɑ̄ wɑ̄ bɑ̄ lɑ̀tʉ̄ɑ̄ kòm béé sīē ɛ̄ ncǎ\\'mbū\\' lɑ̀hsì/lə̀hsì ā ndéndēē ǹ kɑ̀yú\\' hèè wāhà tɑ̌\\' nnák nīníí yāā ǒ mfɑ́\\' mɑ̀ hɑ̄ ǒ lí\\' sɑ̀\\' nsɑ̄h nǔkɑ́ ǒ yú\\' yāā mɑ̀ hɑ̄ nkwèēmbū\\' kɑ́ tɑ́ ó mɑ̀ndɑ́’sí ī yáá lì í mīā mfî\\'kè\\' njɑ̀ɑ̀ lɑ́ sìī càk mɑ̄ndāmɑ̀/mɑ̄ndābɑ̀ mbè\\' yāt yáá lēē zǐ pɑ̌h pén ó mbókmvɑ̄h nǔmʉ̀nzhwīēnshʉ̀\\' tʉ̄ɑ̄khǔ nɑ́ ghə̀ə̀ zǒ nnáknkà\\' làh mbēēsī ghǒ\\'mbɑ̀ɑ̀ tū á mɑ̀nkóm ā ndʉ̄ɑ̄ndābɑ̀ zīī zǒ léé ǒ mɑ́ mbə̀\\'zīī l\\'essor de l\\'entreprise provient de son leadership ǒ kwě\\' sʉ̀ɑ̄mfʉ̀\\'nā á cāk ncālɑ̀ mō ǎ ndɑ́\\' lɑ́ wɑ̄ ntíé mōō wū làmnsāk ǎ pá\\' ngà\\'kà\\' hɑ̄ hǔ mbú ì tɑ̀ nā ī fhʉ̄sī à sī sīē bɑ̄ ǒ sì tɑ̄ njɑ̄ɑ̄ fà\\'á ndhíshʉ̄ɑ̄\\' nkúɑ́ nkàp ŋó\\'nkhù nshū\\' ngāp yàā wèn tɑ́ ó mɑ̀ndēn njwēlɑ̄ njò\\' ǎ sɑ̌\\' nɑ̀ sáhnù ntìmbhì ncɔ̀ ntōhō ǒ nsī mɑ̀ hɑ̄ pí wɑ̄ ǎ hɑ́ ndɑ̌\\' mbìē yáá mbú à kǒmlàm nzāk ncwī pěn sì lɑ́h/lə́h nù bɑ́ mbɑ̀ pómfɑ̀\\' zʉ̀\\' lěn mɑ̀nshwīsī ngɑ̌ vɑ́h ngǎk ngà\\'ghòò zě\\'è nkə̌\\'nàm ŋ̄h mɑ̄vǒ ngɑ̌ yú’ ǹ sī ìmbát ncɑ́ɑ́ bī bɑ̄ kǎmnsʉ̄’ mɑ̄vǒ pó ndáh lū’ nzɑ̄ nkùɑ̀ ɑ́ njò\\' nkə́\\'nkə̄\\' wɑ̄ bɑ́ ncàk mvī lè hǔtēnɑ̄ nhóómbénɑ̀\\' wèn sǐ\\' nkhʉ́ɑ́ càm sì yū\\' bɑ̄ nsè\\' mǒ sǔ\\' wūɑ̄ cáhntōk sǐ\\' ncóh njū\\' nù bɑ̄ kɑ́ bɑ̄ ntōm yǐ mēn ngà’njǎm à bɑ́ mōōfī ǎ ghʉ̀ ndɑ̌’ tɑ̀’ ngɑ̀ɑ̀ nhóó mōō ǒ sì tāh lā ghʉ̀ fě\\'è kə̌\\' shʉ́\\' pèè nthī mbʉ́ɑ́ yāā báá mēn à dīē nsɑ́’ pí mbɑ̄’ ē mbɑ̀ mɑ̄ ē ngɑ̌ mɑ̀nzhī\\'sī nɑ̄\\' ghèn njēē nkə̌nì ǎ yú’ tū í nā ǎ nzhīsī pɑ́\\' sɑ̄\\'sūā lɑ́ ntʉ̀\\' tēlɑ̄ lɑ́ ŋāāsī ghǎ\\'zʉ̀\\' kə̌\\'ncò ǎ pʉ́\\' hǔ nɑ́ njâ\\'wūtōh ndù\\' báá shù\\' ngà\\'kǎ\\' ná\\' sɑ̀\\' pó fɑ̌h ndā\\' lě lə̀ə̀ tūkwēn tūkwéndʉ̄ɑ̄ ǎ ghěn pʉ̌\\' nǔ yáá mbí pɑ̀mfhʉ́sīē mbǎk ŋwà\\' nthʉ̄ á lōh mɑ̀ cà\\'sì nshwī sī tììmōh bɑ̄ ghā\\'ghá\\' wèn ngàm njò\\' yì mētò\\' ntē\\' fùà ndū á fʉ̀ɑ̀ ā ǎ mʉ̀nzhwíé ǎ ngʉ́ fʉ̀ʉ̀ní nù tɑ̀\\' ngɑ̌ ywén mbìyá\\' mbú ò ǒ lɑ̀ mɑ́\\'sí ā yì béè lè nshʉ̀ɑ̀ncēn mbâ\\' sáhnù ntìmbhì 23 ǎ zí mōō kɑ́ mɑ̀ nɑ́ yà tū mbɑ̄’ ō mbɑ̄’ ō mbɑ̄’ ō kɑ́ báá ā kɑ́ bɑ́ pó ó lɑ́ ɑ̄ ǎ sɑ̌\\' báá wū mɑ́ pǎp tèn ǐ wák ndù\\' báá cù\\' ǒ sì īmbát mfīhsī ā les prêtresse de dieu s\\'oignent la face avec de l\\'acajou fə̀ntʉ̀ɑ̀\\' nkɑ̄ɑ̄ sǐ\\' nhā ntōm mbú à bɑ̄ ntām tū ngɑ̌ tám ngáá tú ó mɑ́ tíklìklìklìklìk njû\\'nù nkǎkmɑ̄nì pēn nkwèè nkù\\'nì mǎ fǎmfhʉ̀\\' sǐ\\' nkwé\\' làh nsóh nā bɑ̄ ngɑ̌ mbèè lè njēēngʉ̄ɑ̄\\' nshʉ̀ɑ̀ mǐ pə́h pó kònsōk cwè\\' mbɑ̄\\' yòh yì ǎ ntám pūh lɑ́ dhì zǒ mʉ̀ ngɑ̌ mɑ̀nníɑ́ɑ́ nù nsɔ́ nə̀ə̀lāk tɑ̌hpō lɑ́ ngà\\'njǎm à nhūù mbɑ̀ɑ̀ lěn ngámnū ǒ nját nsíí kwēn lāh ntìé\\' é mbʉ́ɑ́yū\\' ndē\\' lʉ̀ɑ̀\\' ghʉ̌ yāā mɑ̀ ntìè\\' ndômnsǐ à sī sə̀ə̄wū bɑ́ bɑ̄ ǒ sì cə̄ə̄ ǎ pʉ́ɑ́\\'mbō mǎ ngǔ\\'nkhʉ̀ tāā nù mbǎ gháp mɑ̀zhîsì wū shìè wū sə̄h ǒ sì láh ndʉ̂\\'nshì yáá nsī mɑ̄nzhì yə̄ə̄ pʉ̀ tɑ̀ njə́ə́ ndī\\' yīī yīīshǐndʉ̄ɑ̄ mɑ̄mfāt víátngòfāt ǹ kɑ̀\\' cóh nzhī làh ngə́ə́ ghə̀ə̄lɑ̄\\' yēēsī ǹ dɑ̀fǎt mbìyā\\' nzɑ̄ nkòmnkòm mfāt tòō tòò cʉ̄cō\\'ò lɑ̀hsì ā mvàk yì ngɑ̌ nhɑ̄ ō yá\\'nthʉ̄ pɑ̌h yə́ə́zɑ̄ zě\\'è ǒ sì fīīnsāt bɑ̄ ngāā pʉ́ɑ́ yáá ndéndēē mēmmɑ̄ ò mbɑ̀ túnā ō yāā sǐ’ ncāk mɑ́ mbàk lō ō bɑ̄ làh mɑ́ nkhǔndʉ̄ɑ̄ tɑ̄ mfhʉ̄ ǎ lí\\' shʉ̀ɑ̀ mɑ̀ nǎm nè\\' ngɑ̌ ìnjá\\' sǒh nā à ndó nā nzɑ̄ wúzɑ̄ ndí\\' mèhsì ndīē ǎ ncīī pɑ́\\' fēn lɑ́ mvʉ́ɑ́ mɑ̀nnə̄\\' pōō mbī ngɔ̀ bò ǎ nnák kǎ kɑ̌\\' sì\\' nkhǔndʉ́ɑ́ mvʉ̄ɑ̄ mɑ̀ mbàk sǐ\\' ndō ī bɑ̄ ndè\\' kwèlè\\' làhntō\\' ntìé\\'è fʉ̄ʉ̀ njə̀ə̀ càk fʉ̀fùá séé nshʉ́\\' ngwā\\' nʉ̀ɑ̀ ndì yòh yéhsù nthī sʉ̀sʉ̀ɑ̀ ntām sīē yáá mɑ̀nnák ngɑ̌ pén ō mbhʉ̄ nzhì mên ndū í làh ī fə̄h nǎm kòntʉ̄ɑ̄ pʉ̀ ncīā ncīā pʉ̀ pǔ\\'pók mbɑ̄ mɑ̀ pó kwāt pí ncò\\' pè\\' vʉ̀\\'ʉ̄ lɑ̄ sə̀mbʉ́ɑ́ ǹ sī mɑ̀nkwé\\' ywààsì bɑ̄ ngʉ̀nì ǒ pɑ́h tɑ̀\\' ngɑ̌ mɑ̀mfhʉ̄ ntìé\\'è ngɑ̌ mɑ̀mfhʉ̄fhʉ̄ ngɑ̌ mfhʉ̄fhʉ̄ nsə́ə́ nú tʉ̄ɑ̄ ī ndʉ̀m ǒ ghá\\' bɑ̂ mbɑ́ wěn lɑ̀ fēnsī (nzhī) ntìē\\'mò\\' mēndɑ̀\\' mbèè yǒh mɑ̀ póóncə̄ə̄-ngǎ\\'lʉ̄ɑ̄\\' ndhîntōòtū tɑ̀\\' mʉ̄ɑ̄mʉ̄ɑ̄ wèn ǎ khʉ̀ɑ̄ndʉ̄ɑ̄ sìtēlɑ̄ ngɑ̌ ngén nzɑ́ ɑ́ yōh nàm ngɑ̌ pén tɑ̀’ sī sīē lɑ́ yáá mɑ̀nhɑ̄ ā ngǎngà nsī sīē fɑ̌h ǒ sì kō\\' ndə̀b nkò\\' pó kòm ā nsʉ̀ɑ̀ sáhnù ntìmbhì 51 nzhìè làh mbɑ̄ … mɑ̀nkō ā sə̀\\' pò\\' ntìmbhì nkhʉ̌nkèn ǒ mɑ́ kɑ́ mbɑ̄’ ngǎ’nà’ wúzɑ́ yá’ pīh sɑ̀’ nzɑ̄ yò wúzɑ̄ tɑ̄ ngén mfɑ̀’ ncɔ̀ nshʉ̀\\' mɑ̀ ghām ghèn nsóh càk ntʉ̄ʉ̄ kūɑ̄ncàk fīāfíá ndhī ŋúnzɑ̄ hə̀ə̄ ǒ tàā ntɑ̄\\' pó shʉ̀ɑ̀ tɑ̀ nzhì yə̄b ŋ̄h ngɑ̌ ghʉ̌ ndɑ̌\\' pōō ntòhō mbɑ̀ kɑ́ lɑ́ ndámnsāk yə̄ə̄ ndhí pɑ̌h cə́ə́ yǒh yáá lɑ̀ cōp sə̌wū ngɑ̌ lɑ̌h ŋwɑ̀\\'nǐlèn ǎ mbèè mɑ̄ndâm mbǎk ŋwà\\'sì mɑ̄vǒ mɑ̄vǒ mɑ̄vǒ pó nzī mɑ̀ lāhā mmù\\'mbǒm mmí mbǒmngāp pó sɔ̌ mēn ì nzhwìà kū\\' ngòò mbɑ̄\\' ō lí\\' tōm nzhí\\' nzhìndʉ̄ɑ̄ mbō ntíì nsɑ̂\\'ngə̌\\' ghěn pǔ\\' pè\\'è wāh nā ò mɑ̄vǒ mɑ̀ncāk ā yáá mɑ̀nnák zī mbɑ̄’ ō nzhìɛ̀wɑ̄ ngɑ̌ yá\\' nè\\' zǎ ghèn ncwáántīē mɑ̀wǎ nkwèè ngǎ\\'nshì lɑ́ mbóm mbhì lì pó fěn pè\\'è lɑ́ tɑ̀\\' ncǔ\\' sɑ̀\\' ngʉ́ lɑ̀ɑ̀sì ǎ pɑ̄psī zēn zǎ vàm zǐ yáá kù\\' ngɑ̌ lɑ̀hsì ō lə̀ə̄tòòtōm mbʉ̀ɑ̀ ntíì làh mbīā nā wèn ngʉ́ wū mbɑ̄’ mbàkngòfāt zhwīē ó zī mōō kɑ́ sī fà\\'á bɑ́ bɑ̄ mbā\\' lɑ́ cēn nzhwīē ì mmɑ́\\' nzɑ̄ ǒ nkāā tɑ̀\\' mbɑ̄\\' é fhʉ̄ngén mfɑ̌\\' nɑ́ nàm sʉ̄\\'ʉ̄ pèn ghʉ́ mɑ̀wǎ/mɑ̀ngʉ̀\\' pèn ghʉ́ mɑ̀ ndʉ̄ɑ̄ pèn fɑ̄\\'sī/nēēsī sáhnù ntìmbhì 36 ngǎ’ nā à ngɑ̌ púá pómfɑ̀\\' kɑ́ tɑ́ ó mɑ̀nkwá\\'sí làh ngʉ́ mbūànzɑ́ è yà mbìá tə̌\\' béé nù lè mɑ́ kɑ́ fāk zǎ kònjə̄bsī yáá mɑ̀nhɑ̄ pō cīcō’ò sǐ’ nját wū bɑ̄ í wúɑ́ tōm nɑ́ sēn à mbə̄ə̄ lɑ́ sēn à yámngwê mbɑ̄\\' ó ndʉ̄ɑ̀lə̄ ntóó mbɑ̀ɑ̀ ndhī ó fòm nzhíá\\'kò ŋwɑ́\\' sɔ̀ bā ǎ nzɑ̄kòm pí pɑ̀h mfámfāt ò kɑ̀’ ghʉ́ yò pú’ŋwɑ̀’nǐ və̀hnì ā sī mɑ̀ndə̄\\'sī ō bɑ̄ nthʉ̄ sìpè\\' ndhī zō ǎ ngóm tɑ̀\\' nshʉ̀ɑ̀pʉ̀ béè ngǎ\\' yàk ā ndʉ́\\' kòntə̄\\' ndə̄\\' ǒ kwě\\' nǔ ŋwɑ̀\\'nì í ndʉ̄ɑ̀mòò renvoie moi ça pō sǐ\\' nnák càhsū\\' bɑ̄ ghɑ̀ɑ̄pìí tóm mvàk lāhā mɑ̄ŋū fǎm yòh lʉ̀ɑ̀ lě mʉ̀ ʉ́ mbû\\'lōk ngɑ̌ mɑ̀njāh mbī\\'tū mɑ́ lóh zɑ́h à nsʉ̄ɑ̄ kwàà kēē mbʉ̄ɑ̄ tɑ̀ kēē mbʉ̄ɑ̄ yáá mɑ̀nnāk póh nɑ́ à lèn fɑ̄htām tū ī yòm ī táàcwǎnù cʉ̄cō\\'ò hò ā ŋwɑ̀\\'nì ò lɑ́ lʉ̀\\'sì ntə́ə́thʉ́ zhù nsá\\' sīē ndēh nkôntā\\' ǎ ŋàh tɑ̀ ntōh làksì ngɑ̌ mɑ́ nsîmbèè shú\\'pù\\' tə̌\\'pō nshìè zēē hǔ kòmfī kám pè\\' nɑ̄\\' mbʉ̄ɑ̄ɑ̄ tɑ̀\\' nshwìà nǎb yá\\' nə̀\\' ǎ lí\\' ghʉ̀ mɑ̄ nzhī nkwèè ndéndēē kɑ̀\\' pé\\' mbʉ́ɑ́ sōk ncām sìsāhmvàk nkōòwū yāā bɑ̌ fà\\'á wěn sì īmbát nsāhnǔ ná ǎ nɑ́\\' nzɑ̄ wū ī ndā\\' zǐ nkwātúnù mmɑ́\\' tú nù cícātlɑ̄ fōh pí fōh pó ndáh ndàk ntō làk nú ně\\' sīē káákāā ŋ̄h ngɑ̌ ghʉ̌ sāhndó\\' táà yèè ntʉ̄ʉ̄ mɑ̄\\' wèn ǎ lɑ̀ lʉ̄ɑ̄\\' yέέ pə̀\\' mɑ́ pèn sɑ́\\' mēndɑ̀\\' fǒp yàt fǒp ngʉ̄ɑ̄\\' ǎ lɑ̌\\' nù lɑ́ pí tōōsì nkàmkǎm nkà\\' nù mbǎ ghám mbǔ\\'nkèn ngɑ̌ zhíndíndēē mɑ́ yʉ̄ɑ̄ bɑ̄ nzhʉ̀ɑ̀ yɑ̄ɑ̄ntōō nī lɑ́ sə̀h mɑ̀ ǎ mbèè nhōk zén kám mbɑ̂\\'kāā fʉ̌ mbɑ̄ mɑ́ táàfʉ̀ pīɑ̄ nàm tāā mbūànzɑ̄ tɑ̄ nzɑ̄ wúzɑ̄ il a accompli sa tâche zʉ̀\\' yǒh nkā\\' càk cǎmnǎ\\' ghʉ̌ tóngǎ nə̄h pɑ́\\' ngòòndə̄b lɑ́ mɑ̄ à yòh nzɑ̂ncò nshʉ̀ɑ̀ncò ndìàkɑ̀ɑ̀ nǎb lò ŋwɑ̀\\'nǐcwě\\'mfɑ̀\\' ǎ nshùndʉ̄ɑ̄ mɑ̄ntʉ́ɑ́’ nɑ́hŋwɑ̀\\'nǐvàm nsēē nshwī mmù\\'mbòm yáá mɑ̀ngʉ́ nǔzhwìè yáá mɑ̀nsíésí wèn vǎm nzhìèkū\\' sǐ\\' njū\\' nù bɑ̄ ǒ ìndī\\' mèhsǐ béé sìèsì lè mɑ̀ ǒ zhí làh nsāhnù ntìè\\' yì ǒ mɑ̀nzɑ̄ wúzɑ̄ pí mó\\' pʉ̀ lɑ́ tɑ̀\\' tōm/tə̄b kōsī ī pâl ō [pât lō] béè nù ndéndēē báá yāā bɑ̌ fà’á ò fēn kwā’ zo᷅ ndáh ngʉ́ nkɑ̄ɑ̄ ò zhɔ́ɔ̀ mɔ̄ɔ̀\\' yàâ mɑ̄nʉ̄\\' ò zhɔ́ɔ̀ nə̀ə̀sìmɑ̀\\' yǎà ntē ò zhɔ́ɔ̀ mbə̄lòknshì yǎà mɑ̄nʉ̄\\' yǎà wūsìpə̀\\' ò zhɔ́ɔ̀ sî lì hìì lì nsɑ̂\\'ngwè\\' kɑ̀\\' zhī nàh nsɑ̄\\' ngwè\\' ǒ mɑ́ ntūmbhì pə̀\\'njɑ̄\\' mēngòò yì ngɑ̌ yá\\' yīī fhʉ̄ pɑ́\\' mɑ̄vǒ lɑ̀zī ā lɑ́ ndɑ̌\\'mɑ́ tɑ́\\' kə̀ə̄ncǒ thʉ̄ sɑ̌h nī ndhī zā ghǎ\\'kò ngɑ̌ ìnsī mbèè mbūànzɑ́ è līh mbōk lɑ́ ngɑ̌ mɑ̀ncāk mfɑ̀\\' njɑ̀ɑ́ fén càk yáá mɑ̀nnák zī mēmmɑ̄ ngɑ̌ pɑ̀ɑ̀ tɑ́ yāā shʉ̄ɑ̄ ā yáá pòm yò túmfɑ̌’ mɑ́ kɑ́ zēn nǎm wáh à sī mʉ̀ bɑ̄ móó yá\\' mɑ̄nnák thíthī kə̀ə̄ncǒ sīē ndók sō ngɑ̌ yá\\' nə̀\\' zǎ abattre un bandit pó pʉ̀ tî ǎ fɑ́\\'sí ā móó mɑ̀ntʉ́ɑ́\\' pí wúsʉ̀ɑ̀ zī nāt mbā\\' lɑ́ njáhlēē hɑ̄ pén mbí mōō nthí làh ngé\\' ò cāk mbʉ́ɑ́ lɑ̌\\' nù kɑ́ sīē lɑ́ ngɑ̌ ìnzáb ó sáá ngɑ̌ ìndə̄ə̄ nsā\\' mǒ sáá sáhnù ntìmbhì 47 ngɑ̌ yɑ́ɑ́ mɑ́ ngɑ̌ ìndə̄ə̄ndʉ̄ɑ̄ nkāb yáá lāhā pèn kāksī ngāp á cō ndʉ̄ɑ̄ nzɑ́ lʉ̀\\' yà wúmòó mɑ́ làh nsōksī nkéénkéé cwè\\' pó kònŋwā\\' nā yɑ̀ɑ̀ cʉ̄cō\\'ò kōsī ā lɑ́ nkǒ\\'mfɑ̀\\' ghǒh pō cōptúzēn ngǎ’ ǎ fhʉ́ ngén mɑ̀ kò mfɑ̌\\' nzī fʉ̀\\' sí\\' mbɑ̄ zě\\'é bɑ̄ lɑ̄ wāhà pèn sɑ́\\' pə̀pē\\' ǎ nsī mɑ̀ càh tàp ngɑ̌ yǒh nshì tɑ̀ nzhì à shīē\\' sə̌wěn lɑ̀ zhʉ́ɑ́ ā ngâpndòò lěn nkə̌tēnɑ̄ mbɑ̂\\'mfɑ̀\\' mǎ mɑ̀ncēh á nɑ́ nǔ mfɑ̀\\' kèētìè hɑ̄ ntɑ́h mbí pōō mbō mbə̄ə̄ lɑ́ mēmmɑ̄ ò tòōngə̄ə̄ pè\\'ē pēlɑ̄ ngɑ̌ ghěn mɑ̀ tómyíízʉ̀\\' fátvɑ́h mɑ̀ngátsí mɑ̄vǒ ndāmɑ̀ ghòò zǐ mfhʉ̄ nɑ́ káákhʉ̀ fíá tū pó fhʉ̌ ndʉ̄ɑ̄ ì yáá fwàà báá pʉ̀ lɑ́ mɑ́ pɑ̀ wɑ̄ ghə̀ə̀mɑ̀tū pɑ̌h yú’ nsìèsì fà’á lɑ́ ǒ kə̌’ mɑ̄ ē nshʉ́ɑ́ mbɑ̄’ ē é pʉ̀ tɑ̀ njə́ə́ ndī\\' yīī nìnǐshǐndʉ̄ɑ̄ mɑ̄mfāt víátngòfāt ŋ̄h ngɑ̌ vɑ́h yā ndū à sīēbɑ́ncə̄ə̄ ǒ sì lə́h nàh nkə̄b tū ō pó ndǐ\\' nǎk nkà\\' mɑ̄ntē\\' ndē\\' ngòò lɑ́ nā\\' sī ī ngɑ̌ mfɑ́\\' pə̌\\'nthʉ̄ yáá mbhī sʉ̄sə̄ə̄ ndhí mêngʉ̄nə̀ə̀ cīcō\\'ò ngɑ̌ mɑ́ tɑ̀\\' ngà\\'nzhǐ nɑ́ nǔ pè\\'è fɑ́hnzɑ̄ pó khʉ̄ɑ̄\\' hǔ kòlōnǎ nɑ́ ì mɑ̄ ndābɑ̌ sɑ̀\\' yāā sī mɑ̀mbé\\' ā bɑ̄ tɑ́\\' sīècɑ́\\' mbɑ̄ mɑ́ fà\\'á mbǎ\\'ntə̀\\' nzhǐntē\\' nzhwīē à lɑ̀\\' fʉ́ɑ́ ā shwǐ\\' mó\\' nɑ́ yǎ ngɑ̌ ìnhó ō ncɑ̂\\' mbām wò yō mēmmɑ̄ ò ngǎ’ngòm ǒ nját ngé’ sì’ lʉ̀ɑ̀ wú ú ǒ nnēēsī mɑ̄ngén mɑ̀ hɑ̄ fà’á ā tūpō ndāmɑ̀ ŋ̄h cwǎkhǔ mbɑ̄ mbèé pɑ̀h ndéndēē bɑ́ nsìèsì lɑ̀hsì ā lɑ́ ngɑ̌ tāāsī ō ndéé wūɑ̄ fōh nzɑ́ ngwǎ\\' nshī\\' ncɔ̀ tî mɑ̀ mʉ̄mbʉ́ɑ́ pótìē pɑ̀ngwɑ̀fʉ̀ɑ̀ yáá mɑ̀ lāhā mēmmɑ̄ ò nkǎmsʉ̄’ fɑ̄h mbɑ̄\\' ō yì bî ǒ lǎh yāā náh ngʉ́ kɑ́ pó hà\\' ī mɑ́ pǎh ǎ kònkōō nā ì yáá mɑ̀njóh cwǎ’tīē cīcō’ò sɑ̀’ nkōsī ā làh nsóh ndhī lɑ́ ngɑ̌ lɑ̀ɑ̀sì ō ngòòpūh pó còk ī à fhʉ̄ɑ̄ nzāt pó nsī mɑ̀ hɑ̄ lī ngâ\\'nǔngə̀\\' njɑ̀ɑ̄ mbìyā\\' yáá càh nshì ǎ mfīfīāt tɑ̀\\' pó còh ncwén ī lɑ̀\\'sì í mbú á lɑ́ mbá\\' ngɑ̌ kòmbhí ndàt tú mvī pó zàb ī tɑ̀ tū ī vā\\'sī zʉ̌\\'ŋwɑ̀\\'nì pɑ̀h pát njīīsī njàmnzɑ̄ wāhà cʉ̄cō\\'ò sɑ̀\\' ncōp tə́ə́nkɑ̀\\' lè nhɑ̄ ā lɑ́ fɑ́h á ghʉ̌ mbè\\' nthʉ̄ tɑ̀ mbʉ́ɑ́ lɑ̀ bɑ̄ mbʉ̄ɑ̄ sī mbú á bɑ̄ yáá lēē zǐ mēn à ngɑ̌ mɑ́ ngà\\'mfɑ̌\\' ndʉ̄ɑ̀nkɑ̄ɑ̄ móó mɑ̀ncwáántīē j\\'ai abouti à la solution de bon problème sans effort ngɑ̌ mɑ̀mvɑ̄h nēhē mɑ̂nì ndʉ̀mbʉ́ɑ́ mbù\\' kʉ̀khʉ̀ɑ̄nkèn nzhìè nshǐ mɑ̀nkō ā pɑ̀mbhìngʉ́ɑ́\\' zɑ̄ nkwèè lɑ̄\\' pō sǐ\\' nzhī nò\\' nzʉ̄ yì yáá nhɑ̄ mvāt lɑ́ bɑ̄ háhnì à bɑ́ wènòk sī sīē bɑ̄ ngɑ̌ mɑ̀ngén lǎh mɑ̄vǒ sìīndʉ̂\\'fōh ngà\\'mbhǐ ì yì mʉ̀nzhwīē lɑ̀kúɑ́ ndʉ̄ɑ̀mò sī yǐ bɑ́ bɑ̄ zʉ̌\\' kònshwīē ò bɑ̌ sīècɑ́\\' è nsí\\' ngʉ́ ghɑ̌\\'nthʉ̄ bɑ̄ mɑ̀ ǒ nkūɑ̄ wɑ̀\\' cō\\' nzhìndʉ̄ɑ̄ sɑ̌\\' sê lè pǎh mbìì mbā\\' lɑ́ ghʉ̌ shwītōknthʉ̄ yáá ndéndēē mɑ́ pó nzáp mvʉ̄ɑ̄ ǎ lɑ̀ má\\'sí nkwèn ī ndɑ̌\\'mɑ́ cə̄ə̄ ngwāh sǒ ndhī ò póómɑ̄ ntók nŋwā\\' yāā sī nɑ́ nkà\\' bɑ̄ màà yōh pí nzhwīē á pə̀psì pó zhī ncə̄\\' mfɑ̀\\' lě mɑ̀nját lā və̄hnèhē və́hnēhē ǎ mɑ̀nzāksī sīē ngǎ’ mɑ̄vǒ ǹ kɑ̀’ sóh ndhī zǎ bɑ̄ ngɑ̌ mɑ́ yǐ āmērīkà ngɑ̌ mɑ́ mīā āmērīkà mʉ̀nzhwīē zʉ́ʉ́ nnēē nnīāt ntīē ngɑ̌ yú\\' mǒ\\' ntīē cə̀\\' tɑ̀ nā ā zhî ntíé mēngābɑ̄yū\\' à pɑ̀ntò\\' ntǒ\\'ntǒ\\' sʉ̄\\'ʉ̄ ne pas confondre avec ghòōlōh wò bɑ̄ lɑ̀ghù ā í nkèè mfɑ̀\\' mbā\\' yì ǎ nzhʉ̀ɑ̄ kò ā lɑ́ bî nsî\\'njǎb ǐ nzhīnù nshʉ́ɑ́ ī nú zāp těn thʉ̄ mbàk lɑ̀lɑ̌\\' ndō sī mʉ̀ bɑ̄ nzhʉ̀ɑ̀ bɑ̄ mòōntʉ̀ɑ̀\\' bɑ́ yʉ̄ɑ̄ bɑ́ tàm lɑ́ shwīsī ngɑ̌ lén mbú ò fà\\'á ntàhndʉ̄ɑ̄ ntàhtěndʉ̄ɑ̄ ǹ jǎt kònsī lóópè\\'è lǎh zě\\'è ngà\\'nkɑ̄ɑ̄ mbɑ̄\\' ó fhʉ̄ngén mfɑ̌\\' nɑ́ nàm sə̀ə̀mbʉ́ɑ́ mɑ̀ kàm ngɑ̌ mɑ̀nkwé\\' nshì nûnū yáá ncāk mɑ́ ń ntōm nɑ́ pōk shʉ̀ɑ̀yɑ́’ kwà’sì báá mēmmɑ̄ ò mbɑ̀ túnā á yɑ̄ɑ̄ fà’á tɑ́’ wū ā sī wū bɑ̄ mbǎk ghò\\' yōh zě\\'è nkéé cɔ̄ nɑ́ tɑ̀\\' póthʉ̄ nhèè nə̀ə̀ ntām mvʉ̄ɑ̄ pó phʉ̀ʉ̄ nsɑ̂\\'ngwè\\' ǎ kɑ̌\\' pó ɑ́ lǎh zàb ā ǹ tāh nkwáá ngèè ǹ kɑ́lǎh kɑ́ kā\\' càk zǎ bê nǔ mɑ̄ghɑ̀ɑ̀ ngɑ̌ yú\\' yāā mɑ̀ ntēē mbɑ̄\\' ō [mbō\\'ō]/táàwɑ̄ ǎ cǎm khù ī ntāmsīē nzhì bǎ pʉ́ɑ́ ncō mbhǐ síì mbə́psí ǒ téhnkɑ́ɑ́ nɑ́ pʉ̀ɑ̀ lè lāhā ngɑ̌ téh yà nzʉ́ yɑ̀ɑ̀ lɑ́ mbɑ̌ póómɑ̄ nîncò ngèntōm ngèntə̄b pɑ̀ɑ̀ntōk tʉ̀ɑ̀\\' tʉ̀ɑ̀\\' mōō lɑ́ ncāp ŋwɑ̀\\'nì ì pí tōōsì wōksī ntōh ǹ kɑ̀’ zhī il manque de leadership ǒ mɑ̀ hɑ̄ lʉ̀ʉ̀ncāk lʉ̀ʉ̀-lʉ̀ʉ̀ mɑ̄vǒ ngɑ̌ mɑ̀ncāk làh nzhī’sī mbʉ́ɑ́ lə̄ə̄ wúzɑ̄ mfʉ́ndʉ̄ɑ̄ yò nkǎ\\'sìèsǐ mɑ́ kɑ́ ǎ nàk mɑ̀nkhù làh ndó mbèè tɑ̀ ndhí fà\\' ngɑ̌ cɑ̀’sì ō lɑ́ mēmmɑ̄ ò còkǒntʉ̀ɑ̀’ nə́h njɑ̀ɑ̀ cwè\\' pɑ̀mɑ́fʉ̀ mbə̀\\' nkèn mbə̄ tíì ǹ kà zhʉ́ɑ́ bɑ̄ ntə́h ngōm ntìē\\'ghə̀ə̀ pó nsóh ná ndʉ̄ɑ̀sòh nzhwīènzhì après demain ou avant-hier túkǎknɑ̄h cīcō\\'ò sīsīē lɑ́ mbɑ̄\\' ngǎ\\' mɑ̄vǒ yā\\' sī ǒ ghʉ̀ fà\\'á nǔkɑ́ ngǎ’ nā à mìntíé mɑ̀ngʉ́ á ngɑ̌ mɑ̀ngóó ndʉ̄ɑ̄ nùpʉ́ɑ́ ò lɑ̀sɑ̌\\' sēlɑ̄ ɑ̄ nkhʉ̄ɑ̄\\' ntòhō mìènāk mbú ì vìāt nshù bɑ́ fà\\'á fà\\'á lɑ́ mvàk yì ǎ nám ā mbɑ̀ɑ̀ bì lɑ́ ngɑ̌ ìnnām ī màkàlà zā mbɑ̀ túnā ā ǹ dɑ̌’ghʉ̌ nkhǔndʉ́ɑ́ nkhù ngɑ̌ mbɑ̄ ntìé’è mɑ̀ ngɑ̌ púá ǒ sì láh yāā nkwá\\' nā ò yáá yá\\' màā nɑ́ à nshwì\\'njàm hù lɑ́ yá\\' kūɑ̄ wèn yēēsī/pómsí mɑ̀ hɑ̄ quel est ton prénom sáhnù ntìmbhì 26 sēnɑ̄ kɑ́ tɑ́ pěn sáá nsɑ̄\\' ɑ̄ tū á mɑ̀ngwɑ̄\\' fōh zǎt tú à fɑ̄\\'sī nnák ǎ mɑ̀mfʉ́ɑ́ ǎ mɑ̀ncwáánù wū mbǎ bíí pó ndáh ntə̄h pí ndʉ̀ɑ̀ ntō lǎk ndàk sáhnù ntìmbhì 50 ǹ kɑ̀’ ghʉ́ ntìè’ làh… mbɑ́ ǹ nkō ntìmbhì nkhʉ̌nkèn ō ó pǔ\\'ncò ntō mǒ mbə̄ lɑ́ mbɑ̄\\' pó kwē\\' tū ī yá\\'nthʉ̄ mfâtmvēnɑ̀ le gui a envahi tous les arbre ngɑ̌ ìncēh ō thʉ̄ lɑ́ kɑ̀\\' yāb ngǔ\\' è těnpō líé\\'nzɑ́ ngɑ̀ɑ̄nzɑ́ mɑ̂ yáá tām sīē nzíásí ǒ mɑ̀nkwé\\' làh nzēnshì pí mʉ̀ ʉ́ mvʉ̄ɑ̄ kɑ̌ mbɑ́ɑ́ sʉ̄sə̄ə̄ lɑ́ sǐ\\' ndōm wèn bɑ̄ ntɑ̄\\' hòō mōō kò\\' cō\\' pómfɑ̀\\' mā dʉ̌\\' nǔ pə́h tɑ̀\\' ngɑ̌ mɑ̀ngʉ́ tēhsípō/tēhsítū ndòmpè\\'è/ndòmndʉ̄ɑ̄ yǔ\\'mbí kə̌\\' mbɑ̀ɑ̀ tɑ̀tɑ̀ la partie décimale de 24 est 4 pǐh nkù\\'nì sǐ\\' nkōh bɑ̄ ngɑ̌ nkwé\\' làh ntʉ́ɑ́\\' pí mbɑ̄\\' ō tɑ̀ kēēmbʉ̄ɑ̄ tɑ̀ wāhà lɑ́ ɑ́ nzɑ̄ lēē lɑ́ póónsòm píá póóngòó njōkò ntʉ́ɑ́\\'sí ǹ njāt ndʉ̄ɑ̄ ndǒk à fìíkwéndʉ̄ɑ̄ conjugaison au futur sɑ̂\\' ngàlāmō ǒ sì mɑ̄nkwé\\' làh nsɑ̄\\' ā fà\\'á ghə̀ə̄ ngrīsì sák ntáásí mfhʉ̀ mī ndáh mfūā ŋwá\\' ghə̀ə̀ tɑ̌ pō yū\\' ngwɑ̀ɑ̀nshì ngɑ̌ fhʉ́mbɑ̄ mɑ̀nníɑ́ɑ́ nā à làh ngén mfɑ̀’ fùfùá pɑ̌\\' pè\\'è lā nǔ ncà\\' mbǎ hwíé sə̀\\' zǎ có\\' kwêngòò nǎ pè\\'njɑ̄\\' ncɔ̀ nshʉ̀\\' pōōsə̀ə̀mbʉ́ɑ́ mɑ̀ nkhʉ̀ ghɑ̀ɑ̀ nhɑ̄ yǎ nzhì kwɑ̀ pó ndáh nzī mfák fōh mbát nāk yāā tōm ǎ lǎh mbɑ̀ɑ̀ bì ncóhsí ā ndômnsì ntâmndhī nzhwīèmvʉ̀\\' à fóptìè ngɑ̌ mɑ́ tóónkòò nò ó pàtngʉ́ fè\\'é fé\\'è mbí mbɑ̄\\' ō mɑ̄ŋú cāb ā ŋōmsī pō ō lǎh yǒ [la᷅h yo᷅] mɑ̄ ā mfɑ̀\\' síédììbā ǒ sì lɑ́h/lə́h ntò’wɑ̄ sɑ̀’ nsóh càk lè ndù\\'mbìè/ngòòmbɑ̀ɑ̄nshì ǒ ìngén hwīēsì mɑ̀ hɑ̄ wúzɑ̄ lɑ́ mɑ̀ndábsí ntà\\'sǐ zɑ́sí sī ā wǎ\\' pó nzáb mvʉ̄ɑ̄ ǎ lɑ̀ má\\'sí nkwèn ī nkə̌\\' ngòfāt de sʉ̀ɑ̀ sʉ̀sʉ̀ɑ̀ nǔkɑ́ ǒ mɑ̀ngé\\' ē ncɔ̀ nshʉ̀\\' pōōtî mɑ̀ nkhʉ̀ ghɑ̀\\'ghɑ̀\\' wèn kɑ́ tɑ́ ó kònzām mbə̀\\'mbə̀\\'/mbè\\'mbè\\' cà\\'sǐ zí mēn mbōò ngɑ̌ ywén sípè\\'è lā tìtéé nò\\' lɑ̄ yáá fà\\'á móó mɑ́ yàā lèn ndìà bê mʉ̄ɑ̄lǒh záksí ntām nshì ncɔ̀ nshʉ̀\\' pōōvʉ̀\\'ʉ̄ mɑ̀ nkhʉ̀ cwè\\' mɑ́ kɑ́ cə̂bsǐlíé\\'zī ngɑ̌ mbèè lè nnīīsī yà wū bô zhʉ̄ɑ̄\\' nshwī lɑ́ nkǎmndʉ̄ɑ̄ ngwɑ̀ nsɑ̄\\' sáhnù ntìmbhì 27 mɑ̀ lāhā ǒ sì lɑ̄\\' nshīē nzhwīè wèn ǒ sì ŋāh wū mɑ̀ yáá shʉ̀ɑ̀ ō pɑ̀h lɑ̀lǎh nǔsīē mbēh ntʉ́ɑ́ngwè\\' mɑ̄ɑ̄ yêy mbōò mà mbā\\' lɑ́ pí nzhwīē í ghɑ̀ɑ̀sì ǎ shìà lā mvʉ́ɑ́ nkə́\\' mbɑ̀ɑ̀ tɑ̀\\' sì tēn mbɑ̀ɑ̄ndə̀b ndhí yá\\' yōm ntɑ́\\'sí cīcō\\'ò cō\\' ncāt mǒ ngɑ̌ tám thʉ́ ngáá tú ò làhmɑ̄njū\\' ghǒp ndhī ngòò lɑ́ pə̀\\'njɑ̄\\' téhlò\\' téhmbìà téhèè sáhnù ntìmbhì ghām ŋ̄h m̄m̄ ngǎ’ à sī sīē bɑ̄ ǎ kòmmóósí ntám njām nkɑ̀\\' sī mbú í bɑ̄ ndɑ̀\\'ncǎ\\' mɑ̀ndɑ́\\' ncà\\' le seigneur est mon abri khǔ kwá\\' vīāt ngòòsōk mfʉ̀\\'pè\\'è mfʉ̀\\'ndʉ̄ɑ̄ kʉ̄kák nshì mbǎk vʉ̀ mɑ̄nì ntòhō mɑ̄ ā nkǎmsʉ́’ mɑ́ mbâ’ kè mʉ̀nzhwīē ē shǔ\\' nə̀ə̀sìmɑ̀\\' hom ndə́h mbɑ̀ fà\\'á sī ghɑ̀\\' nù bɑ́ bɑ̄ pɑ̌\\' wú í mbú ì ncǎ’ lɑ̀ bɑ̄ pɑ́h ó sī ìnsī bɑ̄ ngɑ̌ fhʉ̄ mɑ̄nsɑ́’ sìē mbú ó kwɑ̀’ mɑ̀ nzhì à mɑ́ nzhwīē á zī nì nkɑ́ɑ́ mɑ̀mbōk mbú à nkwēn lɑ́ pù\\' mɑ̄vʉ̌ mfí pō zāb mvʉ̄ɑ̄ ngɑ̌ mɑ̀mbōh ngɑ̌ mɑ̀mbōh tɑ̀\\' aristocratie mɑ̄vǒ = mɑ̄ ō ndʉ̄ɑ̄ hìāghòò ngɑ̌ nját nkwé\\' ō ngɑ̌ lǎh khʉ̀khʉ́ɑ́tōm ngʉ́ nshù ā ngɑ̌ (fhʉ́)mɑ̄ ìnsōk ī m̀ fhʉ̌nzhī mɑ̀ ngɑ̌ sók ī pá\\' nzhī mɑ̀ ngɑ̌ sók ī pɑ̌h pʉ̀ ntōhō ngɑ̌ mɑ̀njū\\' yɔ̌nshì ngɑ̌ zɑ́ ndɑ̀\\' je sais jouer au balafon ndǔ\\'nɑ̀\\' mbōòmbìyā\\' ngɑ̌ yá\\' yɑ̄ɑ̄ fà\\'á pó ghěn mɑ̀ kāāmɑ̄njīī ngɑ̌ mɑ́ ngà\\'vʉ̌ nɑ́ zhínǔthítēnɑ̄ mǒ\\' mɑ̄ŋū mbǎ\\'ntām ǎ mɑ̀njā\\' nzàknjàm mbɑ̄\\' ō kɑ̀\\' ghʉ́ nkɑ̄ɑ̄ bɑ̄ nǔ yāā tɑ́ á kɑ̀\\' ghʉ́ ndʉ̄\\' bɑ̄ ngǎ\\' ǹ sī ìnsī mʉ̀ yə̄ə̄ bɑ̄ pō lɑ̀zí ō sēnɑ̄ ɑ́ hɑ̄ sɑ̀\\' zō lě kə̌\\'nthʉ̄ ā sɑ̀\\' ntā\\'sī ā ŋwɑ̀\\'nǐ mbè\\'nkèn ngé\\' nə̀ə̀lāk mɑ̄ mɑ̄vǒ ǎ ghʉ̌ mbɑ̀ lāhā lɑ́ mbú à ń dɑ̀ pát ŋ̄h ngɑ̌ pén làh mbɑ̄ nzhwīē ò yáá kwēn lāhā pó yá\\' věn pè\\'è ngɑ̌ mɑ̀mmwēn nzhīē á ncwén ā mbə̀pə̄\\' hə́sh kɑ́ ntīē mōō béè pʉ̀mbè yǒ lɑ̄ nshù ō sǎt càk lɑ́ mōh shwì\\'ndɑ̀h la pluie arrive abrite toi nɑ̄h mǎ mɑ̀nsátsí nsì/ndômnsì pōō yáá mbá\\' pɑ́\\' pʉ̀h lɑ́ hɑ̄ yōh wúzɑ́ mvǎk līē\\' ngɑ̌ zhí làh mbɑ̄\\' tū ndɑ̌\\' làh nzhíé bɑ́ nshʉ́ɑ́ ā ǎ kòntéésí mbī\\'tū mɑ́ pó sà\\' lī yáá sī\\' mēnsə̀ə̀ mɑ̀ ǎ kúɑ́ mfɑ́\\' kǎm ndɑ̀h ngɑ̌ mɑ̀nshú’ nsə̀’ mā kɑ̀zhʉ̀ɑ̀\\' kɑ̀yʉ̀ɑ̀\\' ngɑ̌ mɑ̀ntāmbhì nhɑ̄ lòmshú\\' cɑ̀\\'sǐ mbí nkwèè pʉ̀ ǎ mɑ́ yòh nkômbhì ngɑ̌ (mɑ̀)ngén kwāt/pɑ̄\\' tū ā lɑ̀hsì/lə̀hsì ā lɑ́ ngɑ̌ yá\\' ghʉ̌ wū làh ngʉ́ mēn ǎ mɑ̀ ndʉ̄ɑ̀ndhìpōō cʉ̄cō\\'ò mbɑ̄\\' ō mbɑ́ ǹ ngēn cà\\'sì í pó mfhʉ́ɑ́\\'sí mɑ́ nù pə̀pē\\' ǎ ghěntōm pí ndū ì sēn ì sênmfɑ̀\\' mǐ mbɑ̀ mɑ̄ ā ndāmɑ̀ ǒ sì ghát nā ò ǎ mɑ̀ntāmsī nā ì ǎ mɑ̌\\' lām nhɑ̄ vāā ngɑ̌ sɑ̌\\' cāk mbɑ̄\\' ē ghɑ̀\\'wèn shwǐ\\'wū ǒ ghʉ̌ nse᷄n pó ncēh í nɑ́ wúzɑ̄ à khʉ̄ɑ̄ndʉ̄ɑ̄ nsɑ́\\' nɑ́ mfɑ̀\\' à khʉ̄ɑ̀ ghòò lɑ́ sī mbɑ̀ mbɑ̄\\' cwǎlák mɑ́ tɑ̀\\' ntôlàk pěn mɑ̀ncá\\'sí = nǔ mɑ̀mbé\\' yēē sìcwēh sìcwēhkə̄ə̄ mbǔ\\'mbɑ̀ɑ̀ nūnúwèn ngɑ̌ lǎh mfʉ̀\\'nā mvǎk ngò\\' tāā kə̄\\'ə̀ kōō ngɑ̌ shʉ̀ɑ̀ lɑ́ ǎ zhísí tɑ̀ nkhʉ́ɑ́ mfɑ̀\\' analyse logique nɑ̄h mǒ ghʉ̌ yàā lèn tènmvàk sēn à ngɑ̌ pén ō ngòò lɑ́ pə̀\\' njɑ̄\\' ngɑ̌ mɑ́ nsìèsì yíínzɑ̄ njàm ǎ tóh hǎp pɑ́\\' pʉ̀pɑ̄\\' lɑ́ lə́ə́ghə̀ə̀ kɑ́ bɑ́ mɑ̀ngát lō mɑ̀ fīāt mfāt nsə̀\\' pó cōh pìīmfɑ̌\\' làksǐ thʉ́ mfʉ̀ɑ̀\\'nthī cwè\\'fí nɑ́ nǔnkɑ̄ɑ̄ njēēngʉ̄ɑ̄\\' tēh ndòó tú ò sī ndéndēē bɑ́ bɑ̄ ǹ kɑ̀\\' pēn bɑ̄ pɑ́ ń dɑ̀ pēn bɑ̄ wūɑ̄ zǐ nák yóh ntám nzènzèn à sǐ\\' nēē ndɑ́\\'sí cà\\'sì zǐ bɑ̄ ntʉ̀\\'nkɑ̀\\' ǎ sìē mbɑ̄\\' ā sìyū\\'ntɑ̄h lɑ̀yǔ\\' ngwě\\' pɑ̀mfhʉ́pʉ̀ mbə̀\\'mbə̀\\'/mbè\\'mbè\\' cà\\'sǐ lǒnɑ́wúɑ́ yēhsò (mēn mbōò) mbɑ̄\\' é ngʉ́ kɑ́ mbɑ̄\\' é mfɑ́\\' kɑ́ kɑ́ tɑ́ mbɑ̄\\' é mfɑ́\\' ɑ̄ nkwè\\'nǐ pàt lā béé nzâknù lě ìnkōsī ngà\\'ŋwɑ̀\\'nì làh nsōk mvàk yì ǎ mɑ̀njū\\' nā ì ntìè\\' yì mōònkō\\' ǐ zǎk njǎm ì lɑ́ zāpsī ndɑ̀ɑ̀ lɑ́ nɑ́ nkǒ\\' yāā tōm ngén ŋwɑ̀\\'nì ngǔ\\'nzɑ̄ tómfʉ̀\\' j\\'accompagne les enfants à l\\'école ngɑ̌ mɑ̀nsēnsī ō mɑ̀ lǎhnásīē njû\\'nzhì ǒ mɑ̀nkə́\\' làh ndīē έ ǎ còh ncwén nā ì tɑ̄ nsɑ́\\' cà\\'sì kɑ̌\\' wò mɑ̀ ǒ ghʉ̀ lāhā ǒ nkə́\\' nse᷄n ŋwātlɑ̄\\' kè\\' ndʉ̄ɑ̄\\'sī nshì sìé kòlə̀\\' mbàtnkām ngɑ̌ cɑ̀\\'sì yēē lɑ́ póómɑ̄/mfátmfāt fě\\'è fě\\'è lè ǎ ywéh mbè\\' ndhī fhʉ́ kwèlè\\' ǎ mɑ̀ntāāsī mɑ́ ǎ mɑ̀nzhī\\'sī wū lǎh lòh nhīā mēn mɑ̄ghɑ̀ɑ̀ mfāt fēn pōntèn mbə̄ə̄ ndū à sīēbɑ́ncə̄ə̄ sə̀ə̄zʉ̀\\' ghə̌lɑ̄\\' yǒh mɑ́ ndʉ̀ndāb póónì ǎ zɑ́ mvāt tɑ̀ nshù ī hōō sáhwú yàhlēē tɑ̀\\' sī yàhléé nù bɑ́ bɑ̄ shʉ̀ɑ̀ pí mʉ̀ ntō mǐ tóm théocratie ngɑ̌ mɑ̀njū\\' nā à sìpə̀\\' ngɑ̌ mɑ́ yǐ āzìà sǎt ngòfāt lɑ́ tìì pó ntā\\' ntéé ɑ́ zɑ̄ pìì tə̀ə̄ séé ń ndàh nzáb ī pɑ́ wèn pāt njīīsī/ njēēsī sēnɑ̄/sēlɑ̄ nshwī lɑ́ yōm ŋwɑ̀\\'nǐcwě\\'mfɑ̀\\' mǐ zàtsì nzɑ́ kòndʉ́\\'sí ndù\\' mī pó shwītōk ngɑ̌ pén ó nb ne pas confondre yáá mɑ̀ lāhā nɑ̄h mǒ mɑ̀nsáh á ngɑ̌ mɑ̀mbōh ī pɑ́\\' mfúá ntōk mǎ nēhē pí tōòsì có\\'mfɑ̀\\' nkɑ̄ɑ̀mfɑ̀\\' yǒh nshùndʉ̄ɑ̄ fà’á lɑ́ ǒ mɑ́ táànì ngɑ̌ lɑ̀ɑ̀ bō lɑ́ mbàtndʉ̄ɑ̄ mīāmfî\\'kè\\' ncò\\'mvə̄h ǒ mɑ́ mên wɑ̄ kèēngwè\\' yā\\' sǒh nā ò tɑ́ wúzɑ̄ pīh zhínǔkwà\\'sì ǎ kwát pè\\' làk tāā mbɑ̂\\' yìì khǔ sák pʉ̄ɑ̄\\' ǎ mɑ̀mfūāsī ǒ mbɑ̄ nsɑ̂\\'ngwè\\' ǒ lɑ̀ mɑ̄nzhī\\' ntōk mìè nnāk ǹ kɑ̀\\' zhī zǎ cə̀\\' pɑ̀mfhʉ́sīē zǎ ǎ mɑ̀ndʉ̄ɑ̄\\'sī nùndéndēē sě\\' nū ngwè\\' sásìdê c\\'est abominable mbʉ̄ʉ̄ ndʉ̀ndāb fìènkàk pí tītīānì yāā bɑ́nhɑ̄ mbūānì wènlɑ̀’kə́’ mɑ̀ hɑ̄ nshʉ̄ɑ̀pō ā mvàksìsāh à yǎt sì zɑ̄ wúzɑ̄ (bɑ̄) mbə̀\\' yālɑ̄ yɑ̄ɑ̄ pɑ́h í nnák mɑ́ khù shʉ̀\\' nǔkɑ́ ó mɑ̀mmwēn abreuve les poules nshʉ̀ɑ̀ntèn ndìīmfɑ̀\\' tîm tîm cāp ntū\\' lɑ́ pí tōòsì ngɑ̌ kòntóó ngāp ǒ zhí làh mfák ndʉ̄\\' ʉ́ kwēn kwéndʉ̄ɑ̄ wèndâb ǒ ghʉ̀ mbʉ́ɑ́… yáá ncāk mɑ́ ó… nzɑ̌ léé è nzhwīē à ngǎ’ngòm céhwū nkhʉ̀ɑ̀nʉ̀ɑ̀ sên mɑ̄ghɑ̀ɑ̀ bà bɑ́ nkhʉ̄ɑ̄\\'ntū pɑ̄ngràfí nzhī nàh nkú\\'ní pʉ̀ pɑ̌h pén yēē ngɑ̌ mɑ̀nzhī\\'sī ō sên à ták nkà\\' ngɑ̌ ngén mɑ̀ ŋwɑ̀’nì ngɑ̌ yá’ cōh mbɑ̄\\' ō ndāmɑ̌ mbɑ̄ mɑ́ tɑ̀\\' mfɑ̀\\'ndīēkò lɑ̌\\' yò nù kɑ́ nɑ́ ó lɑ́ nnʉ́ɑ́ yà mfʉ́\\' làk pʉ̌ ntômnàm pɑ̌ntômnàm ngɑ̌ mɑ́ ngà\\'vʉ̌ nɑ́ zhínǔsɑ́\\'lə̀ə̀ mbǎ\\'ndɑ̀\\' zúpō ngɑ̌ nsī mʉ̀ ndǒk à ŋwâtlɑ̄\\' ntámbèè ndʉ̄ɑ̀\\'ngāā/ndʉ̄ɑ̀\\'ncò njâ\\'wū nǔzɑ́lɑ̄\\' cōptúzén nsìèngà\\'wū sə̀ə̄wū sī mbú à bɑ̄ ngɑ̌ mɑ́ mbōk mbɑ̄\\' yòh yì ǎ ntáb phʉ̄ lɑ́ cʉ̄cō\\'ò mēmmɑ̄ ò ngɑ̌ lɑ̀ɑ̀sì ō njōkò nkák nkàb sīēwèn bɑ́ wúzɑ̄ kɑ̀\\' tɑ̄ mbīh bɑ̄ ndʉ̄ɑ̀ntēē mbú\\'ncə̀ə̀ yā\\' kɑ̌\\' wū kò\\' ndèhyèh ǒ nnū ghɑ̀\\'ndù\\' ú nzâknù 28 zʉ̌\\'mfɑ̀\\' zī\\'sī sī ō s\\'affranchir mvīāt nzhwè fà’á bɑ́ mó\\' pʉ̌ nkwá\\' mɑ́ pó nzhīnù tɑ̀\\' ǎ ngʉ́ sì\\' fà\\'á mbʉ̄ɑ̄ mǐ bɑ́ nɑ́ yà mbʉ́ɑ́ yēē/yīī… nɑ́ yà kwà\\'sì… nzhʉ̀\\'ntěn ngā\\'ntʉ̀ɑ̀\\' yáá mɑ̀nját lā dhìshʉ́ɑ́\\' pìh ncâkngà\\' ǒ mɑ̀ntʉ́ɑ́\\' pí wūɑ̀kɔ̀ nkāb pʉ̀ kɑ̌ sɑ̀\\' lɑ́ yə̄ə̄ nzâknù 13 ntìē\\'nzɑ̄/ndɑ̌hnzɑ̄/nshʉ̀ɑ̀nzɑ̄ nə̀ə̀lāknkà\\' pɑ̌h còhsì ncá\\'sí líé\\'zī ì ngà\\' tēhsítū/tēhsípō nzhî\\'sì ǎ kòndə́h pɑ́\\' pó lʉ̌\\' nzhwīē ī lɑ́ kǒ\\' mōō ǎ ntám ndʉ̄ɑ̄ ǹ sǐ\\' njū\\' mbǔ\\'nkèn bɑ̄ mbīɑ̀ndʉ̄ɑ̄ sênsʉ̄\\' lʉ̌\\' nsè\\' kǒm/kə̌b mɑ̀mmíé nɑ́ yàā ndɑ̀h ndʉ́\\' cāh nɑ́ nkó\\'nkō\\' ǎ síé ndātsī pɑ́\\' sāk lɑ́ nthínā sìkūɑ̄ ngò\\'vàm ǒ vɑ́h yō ò mɑ̄vǒ ndāmɑ̀ ndə̀ə̀wɑ̄ à sǐ nsī\\' nā ī bɑ̄ ntīē càb yāā lɑ̌\\'bɑ̄ mbhì pō mɑ̄ ndáh lìì ngʉ́ lìà ntə́\\'zɑ̄h mfǎmfǎ nù ǒ kóó nɑ́ zʉ̀\\' yì yáá mɑ̀njóh lɑ́ hɑ̄ lěn ndhī lě mbú à ŋwɑ̀\\'nǐzɑ́ngū\\' pè\\'ē pēnɑ̄ pʉ̀ tīì ghǒ\\' sōh nhə́\\' ndáh nsɑ́\\' ntǎ\\'ŋām mōō lɑ́ nnāb tɑ̀\\' yáá ndáh nàm kwɑ̀ mfɑ̌\\' yāā lě mɑ́ kɑ́ ngɑ̌ fíínsát nɑ́ ngʉ̌nù mǒ pɑ́h í pə̌b ntēē njàbndàk hɔ̌ bɑ̂ yéé nhɔ̀\\' mvʉ́ɑ́ làmsì ā m̀ mbōh ǹ kɑ̀\\' ghām zēn zǐ mɑ́ wɑ̄ lâmbɑ̀\\' mēnfífí nkhù ngǎ’ nā à nkòò nǎ mɑ̀njā’ ngɑ̌ mɑ̀ngóó nkǎmnkǎm kòlə̀\\' zè\\'é mɑ́ ntūmbhì líé\\' ngɑ̀ɑ̀ tōm ntūmbhì líé\\' ngù\\'fī ngù\\' 2015 mvʉ́ɑ́ mɑ̀nzāk mēn ì tɑ̀\\' mbè\\' wú mɑ̀ntōh ntám mbǔ\\'nkěn-yīīsì í ǒ ìndī\\' mèhsǐ béé sìèsì lè mɑ̀ ǒ zhí làh nsāh nzhǐnzhǐ ghə̀ə̀ yì wěn ngə́ə́ ndìàndìà lɑ́ nshù fāk zǐ hə̀\\'sì nzhì bǎ pʉ́ɑ́ ncō mbhǐ síì mbóm de mbát shwītōkpōh və́h khù í pʉ́ɑ́\\' yɔ̌nshǐ nkwè\\'nì mfɑ̌\\' mbɑ̄\\' yāā wèn tɑ́ ó mɑ̀ndēn sɑ̀\\' ntāt lā pōkpōk sáhnù ntìmbhì tî yáá mɑ̀ lāhā yáá mɑ̀nnák ǎ níísí nshʉ́ɑ́ zʉ̌\\'zí mɑ̄ é mɑ̀ hɑ̄ lɑ́\\'zí mɑ̄ é mɑ̀ hɑ̄ pō lɑ̀zí mɑ̄ ē mɑ̀ hɑ̄ nné\\' kábkāb ghòò zǐ sí tɑ̀\\' sɑ̂\\'ndʉ̄ɑ̄\\' mɑ̄nì ndàb pɑ̀nə̀ə̀ ǎ ghòòbɑ̀ nkām làmnsák ndù\\' ǎ fɑ́\\'sí ndə̀b lòh tìēngà\\' vhúmōh njá\\'nshù zúzú nshwī ǎ ŋɑ́\\' ghòòfī nsìèsì ghǎk ncāt mbè’ kwà’sì bɑ́ tɑ̀ mēndɑ̀’ wò nkwěnkhʉ̄ɑ̄ nzhìè làh mbɑ̄ kɑ́ bɑ́ mɑ̀nkō ō yō ndhíwū nkwà\\'sì mǐ kɑ̀\\' póm pí yì tɑ́hnzɑ̄ ghʉ̀ sì\\' fà\\'á mɑ̄ngʉ́ sì\\' fà\\'á mbɑ̄\\' ē kɑ́ báá ā wúzɑ̄ á cō sīē ngɑ̌ ntámndʉ́ɑ́ à mbɑ̀ mʉ̀ ngɑ̌ cɑ̀’sì ō lɑ́ ndū à sīēbɑ́ncə̄ə̄ pɑ̌h mɑ̀mmó ndʉ̄ɑ̀mò ǒ mɑ́ nshwìè wěn \"1 ngù\\'fī\" ǎ mɑ̀mfāt mbɑ̀ɑ̀ ndáh mɑ̄nŋwā\\' nā ì khǔ nshì mɑ̄ghɑ̀ɑ̀ bǐ mɑ̀ zʉ̌ ghèn njám tòk zìmó\\' nsìèsǐ mbɑ̄ nshʉ̀ɑ̀yɑ́\\' nzhînù tɑ́\\' mbōk zhínǔsìèsì mfɑ̀\\' mǒ mɑ́ kɑ́ ń sɑ̀\\' kɑ́ lɑ̄ vhʉ́ nshʉ̀ɑ̀sòm mbɑ́ ǹ nhūsī ō ó ncàt tū ndə̀ə̄nkáp zhī làh nníɑ́ɑ́ tòòtōm pō á hə̌\\' nzát ngāp mɑ̄ŋūyèh pó nnə̄h ndhí nkwāp nhíá ngɑ̌ mɑ̀nkwá’sí làh mfén kwā’ lɑ́ ndéndēē tɑ́’ ǹ kɑ̀’ yēē sə̀ə̄ sêntēē fí ntōm ntám mbèè pɑ̄dùālā ndàk nshwī hwìé nkō\\' ndhímōh pʉ̀ sìpě\\' nhīā wèn nkō wū ī provient du verbe nsɑ̄\\' mbàk lǒ mɑ̀ ǹ sǐ\\' ngén zʉ̌\\'ŋwɑ̀\\'nì bɑ̄ nzhúnòk ngə̄mɑ̄lʉ̄ɑ̄\\' pí nzhwīē í kə̀\\'nì ngɑ̌ làh nhɑ́\\'sí hɑ̀\\'sì pɑ́h í sǐ\\' njə́\\' bɑ̄ lòmsǐ nshǐ ɑ́ ndàh nsén ō nàm nshʉ̀’ mbūànzɑ̄ béè nkɑ̄ɑ̄ hù híé\\' ntúmbō nzhíé těn pè\\'è ghɑ̀ɑ̄pìí mɑ̀ lāhā pə̌\\'nzhì ncēn lǎt wùɑ̀ hom pōō ndʉ̄ɑ̀ncà\\' ǒ mɑ̀ngé\\' kɑ́ tɑ̀\\' mbòōkǒ mɑ́ ncɑ̂\\' mɑ̀\\' là\\' pǒ\\'nshì shʉ̄ɑ̄ shʉ́ɑ́tōm ngʉ́ máŋgòlò pěn píé ncà\\' nsɑ̂\\'ngwě\\' nám wúzɑ́ mbí póálɑ̄\\' ngɑ̌ ngʉ́ ndēn nǔ mbú ì mbɑ̀ sēnɑ̄ lɑ̄ à hāmsī nā ì nshʉ́ɑ́ zī mōō lɑ́ nzhīnù nshʉ́ɑ́ ngà\\'mbhǐ ì mêngòò lɑ́ yū\\' tú í nɑ́ nàh nnó\\'sí njá\\'ndāk zhī mbʉ́ɑ́ pīɑ̄ ǎ mɑ̀ngʉ́ kɑ́ ǎ píé mfʉ̀\\'nā ngwǎ\\' ngò\\' ntòhō mbɑ̄\\' é ghʉ̌ ndʉ̄\\' ʉ́ ǎ yǒhnshì pō tōōngǒk těn ì c\\'est mieux d\\'abaisser le cout des taxes ngɑ̌ nɑ́ ndʉ̄ɑ̀ kwɑ̌ nɑ́ ntūmbhì wǎ\\'ŋwɑ̀\\'nì ǎ tə́b nzɑ̄ kɑ̀cāk tɑ̀\\' ncwènsè\\'/ncwènsə̀\\' tɑ̀\\' ngà\\'kǎ\\'nsə̀\\' ndìīnkù\\'nì nzɑ́ kòngʉ́sí mó\\' wū ǒ wé\\' njàm mɑ̄mfɑ́\\' kɑ́ ngǎngà yú\\'sìpə̀\\' ǎ téh fāk zǎ pɑ̀nhīàsì pɑ̀nhīà ǒ pén làh mbɑ̄ nzhwīē ā á mbù\\' vàm mɑ̄ghɑ̀ɑ̀ bǎ zí póónì pɑ̌h zɑ́ tɑ̀ mvīāt yū\\'mfèn ngɑ̌ lǎh hwīēsì njwé\\'njwē\\' tēnɑ̄ pǎh sāhkwɑ̀ nkɑ̀ndàk à yǎt sì lə̄ə̄ndʉ̄ɑ̄ tɑ́ mɑ̀ ǎ pě\\'ngòò tɑ̀\\' ne pas confondre avec nzhìzhìè mbə̀’mbə̀’ mbūànzɑ̌ mbú ò nsì (ndūmēn) à ntìè\\' ē ngòfāt ǹ kɑ̀’ zhī za᷅ ǹ sǐ\\' ngʉ́ nkɑ̄ɑ̄ bɑ̄ mɑ̀ ǹ sǐ\\' ndə̄ə̄ndʉ̄ɑ̄ bɑ̄ mbɑ̄\\' ē pí mɑ̄ ē ndāmɑ̌ nját wū ú ndhînkò\\' mbɑ̄\\' ē [mbē\\'ē]/ táà wē pó nsóh póózū pí nshì mbɑ̀ sòh ntōō sákndʉ̄ɑ̄ nù bǎ pāh sàtsǐ mbìyā\\' lɑ́ tìì à sǐ\\' ngwɑ̄\\' nkòò nǐ mbí ndū ī bɑ̄ pɑ̌\\' nshìè ndáh nkām ngāp zhínǔvʉ̀ njòhzʉ̀\\' yāā sǐ\\' mfɑ́\\' sə̀ə̄wú mbú á bɑ̄ yāā sǐ\\' nkōsī á nɑ́ sə̀ə̄wú bɑ̄ ǹ sī yǎt kòmbīɑ̄ sə̀ə̄wū bɑ̄ ǎ mfɑ́\\' pɑ́\\' tóónkòò lɑ́ ngɑ̌ mǐ njə́\\' mbɑ̀ɑ̄nshì yáá ncāk mɑ́ ń nhɑ̄ yà kwà\\'sì mfɑ̌\\' nzī fʉ̀\\' nsí\\' mbɑ̄ zě\\'è bɑ̄ lɑ̄ wāhà nshwêpō ǎ ndʉ̄ɑ̄mòò ǎ nɑ́ nkhʉ̌nkèn pèn lā’ lɑ́ pèn sɑ́’ nkó tòō mbɑ̀ɑ̄nshì lɑ́ mʉ̄ɑ̄wú tɑ̄h bī ǒ sì mɑ̄mbɑ́ɑ́ wū mɑ̀ yáá shʉ̀ɑ̀ ō nàm kɑ̀\\' tʉ̄ɑ̄ zě\\'è lè yééngʉ̄ɑ̄\\' ǎ fíínsāt ce caractère sacré qu\\'on attribuait à la plante éloignait de plus en plus la population de la plante cependant plus tard une grande famine saisi le village et certains curieux alla déterrer le macabo sans l\\'avis des guérisseurs ils mangèrent le macabo et découvrait que c\\'était une plante mangeable et même plus succulente que d\\'autre tubercules domestiques fort de cela un nombre grandissant de la population cultiva la plante en s\\'écriant ngà\\'kǎ\\' sɔ̌ tèn ā mɑ́ twǐt pō hɑ̌ mfɑ̌\\' mbú ò ò dhī ngʉ́ ncwēèncà\\' lǎh mfʉ̄ʉ̄ nhīā zɑ́hkhù yáá tōm nkɑ̀ndàk hɑ̄ ntīē ndhī lě mbú à nǔ làt lā bonne guérison ngɑ̌ mɑ́ njòhnshì yáá ndáh nàm tî pí yǒkndʉ̄\\' nàm nshʉ̀\\' pí ndʉ̂\\'fōh ǹ kɑ̀\\' zhī wū kɑ́ mɑ̀ngʉ́ ā lɑ́ (bɑ̄) lǎh kābɑ̄ nsɑ́\\' ǒ sì ŋɑ̄\\' zàt ntʉ̄ɑ̄ tú ò ǹ kɑ̀\\' ghén kò zě\\'è socialisme zàmɑ̀ ǎ ngōmsī tɑ̀\\' ǎ kúɑ́ tɑ̀ njāb sǐ\\' ngēē nō bɑ̄ zàtkwě\\' wèn ǹ kɑ̀\\' pát nzhī wū yì ngɑ̌ ìngʉ́ lɑ́ nǔfíínsāt pó tòōngǒk těn nsɑ̂\\'ngwè\\' njə̌hnǎb kù\\' līē\\' líé\\'nzɑ̄ lī\\' pǐh nthʉ̄ lɑ́ mɑ̄njɑ̄\\'sī nshǐ wúɑ́ mɑ̀ntām ā pōnshʉ̀\\' kə̄b nā ò lā\\' lɑ́ ǒ sì īmbát ngé\\' nāk zʉ̌\\' mbí mbɑ̄\\' ē sáhnù ntìmbhì 35 njū’ tú wěn nɑ́ wū nzhī wū mbə̀pə̄’ mbʉ̀ɑ̀ mī ngɑ̌ fhʉ́mbɑ̄ sīē ò kɑ́sɔ̀ tɑ́ kàt pó mɑ̀ tómyíízʉ̀\\' wɑ̄ bɑ̄ nzɑ̄ ɑ̄ wɑ̄ bɑ̄ nzàb ngɑ̌ mɑ́ ngà\\'vhʉ̌ nɑ́ zhínǔsāhndó\\' fōhsī fāk zǎ lɑ́ cīcō\\'ò pɑ̌nglīsì pó nshʉ́ɑ́\\' wúzɑ́ ntám nɑ̄\\' tɑ̄ nzɑ̄ mbèè nì ǎ ngén ndʉ̄ɑ̀sīē ndìàndìà tɑ́\\' mɑ̄ncwáánù pɑ́\\' táàcwà lɑ́ ne pas confondre avec ghǎ\\'zū ndɑ̀\\'ndə̀ə̀ yɑ̀ɑ̀ pǒm mbòò mà móó cō kʉ̀kāk nzhī\\' ntōk nákpù\\' věn ngāp lɑ́ ǎ tó làk lɑ́ mbə̀pə̄\\' ngɑ̌ fhʉ́ lɑ̀ɑ̄ fə̀ ǎ ghʉ̌ mbè\\'zīī mbǎk tó\\' làh ndō ngènzʉ̌\\'sīē túfǔ mɑ̀nkō ī tōh nzhwīē ntòònjò\\' kwèèsǐ těndʉ̄ɑ̄ yǒh mbɑ̄ nɑ́ nkwèè ŋúnzɑ̄ mɑ̄ngà\\'nshì ndə̌nkām cīcō’ò sɑ̀’ nzhíísí ā làh nkōō ngòòmbōk lɑ́ ngɑ̌ lɑ̀ɑ̀sì ō ngɑ̌ ngén mɑ̀ mbèè móó kòndīē lā\\' ywààsì nkə́\\' ǎ sàh ngwǎ\\' mɑ̀\\' pʉ́ɑ́ zén kám mbʉ́\\' nsɑ́\\' njǎm nzɑ̄à fǎktìè pàhsǐtìè yǒhnshǐ mbūāsī nthʉ̄ pó cɑ̄ɑ̄ mōō lɑ́ mbə̀pə̄\\' ndhì à njàmnzɑ̄ wāhà hūsī ā lɑ́ mbǎ\\'ntāb à fōhnì à tɑ́ ǒ njēē mʉ̀ sī mʉ̀ bɑ̄ nshwíí wèn nā á mɑ̀ngʉ́ mǒ\\'ntīē yáá ghʉ̌ tɑ̀\\' mɑ̄ŋū (zhwìè) hm̀hm̀ hm̀hm̀ hm̀hm̀ nkɑ́ɑ́ pōk mbú á tɑ́ ń dɑ̀ lə̄ə̄ndʉ̄ɑ̄ ndèh mɑ̄ŋū pɑ̌h sɑ̀\\' shǔ\\' mvʉ̄ɑ̄ mfǎmfǎnǔ mɑ́ ngʉ̌\\' pɑ̀sìzhímbʉ̄ɑ̄ nzɑ̂sìcāk ngɑ̌ kwà\\' mɑ́ mbǎk ìndō wāhà ncát mēn ǎ ndē\\' tɑ̀\\' cʉ̄cō\\'ò zhǐ pʉ̀ɑ̀ béé nhɑ̄ ā lɑ́ póángwè\\' ǎ yòò bá ntēē ngɑ̌ mɑ́ tɑ̀\\' nkôntā\\' móó tēn càhcàh ndɑ̀\\' sī cìcǎh yōh pɑ́h í bɑ̄ mbák wèn sī mbì\\'nù mǎ bɑ́ bɑ̄ ndák nsʉ̀ɑ̀ mbōò ngà\\'zhínù wǎ\\' ǒ ŋà\\' wǎ\\' ǒ mìè wā\\' ǒ mɑ̀nhɑ̄ ā ngǎngà nshʉ̄ɑ̀ mbūànzɑ̄ wāhà pěn sì ghʉ́ cwè\\' lɑ́ yɑ̄\\' tōm nù ā bɑ́ nzɑ́ kāā lā njə́h thʉ́ sīē lɑ̌h hɑ̌\\' ngòfāt ngàtnì fhʉ́ tèn ǒ ngén mɑ̀ hɑ̄ fà\\'á ā ngɑ̌ mɑ̀ncə̄ə̄ nkɑ̄ɑ̄ bà yì ngɑ̌ mbɑ̄psī lɑ́ yāā sī mɑ̀ndíá bɑ̄ shʉ́ɑ́ndāk sì nə̀nə̀ə̀ ngɑ̌ ìncāt lō kɑ̄lāk tî ngɑ̌ (mɑ̀)ngén nə̌\\'sīē ngɑ̌ ngén dīē nzhìnā ngɑ̌ zhí mbʉ́ɑ́ lʉ̌\\' ndɑ̀ɑ̄ làh ngóó ŋà\\'ŋǎ\\' thʉ́ shʉ̄ɑ̄ ntāhŋwɑ̄\\' táàmmɑ̀\\'ncò ǹ sī mɑ̀ndɑ́\\'sí mɑ́ yì bàá bɑ̄ ngɑ̌ ndɑ́\\' yì bíì vàm zǐ mɑ̀ndōm ī avoir ses affaires en parlant d\\'une femme avoir ses règles ǎ tá\\' ngwɑ́ wū yōh bɑ́ pʉ̌nzhwīē bɑ́ ndɑ́\\' ndə̀ə̀ pʉ̀ sʉ̄\\'ʉ̄ pà\\'mfěnshʉ̀\\' ncǎ\\' kʉ̀khʉ̄ɑ̄ āfrīkà njàm ndàk mfìè\\'nzhì ngɑ̌ ìmbát nzɑ̄ yāā tɑ́ ó mɑ̀ndēn nsìèsì báá njwá yə̄ə̄ ngɑ̌ mɑ̀mbōh fóh mɑ̀nkō ngɑ̌ pí… yōh pí sēn à mbâ’ bɑ̄ ngɑ̌ cɑ̀\\'sì yēē lɑ́ pɑ̀mɑ̄ pǎ yàt mfìmfǐ ndū wèn sǐ\\' ndám ī bɑ̄ zhínǔhù ǎ zhí nkō\\' fǎk làk ǒ síé fhʉ̄ ntìè\\' é ǒ séè lè fhʉ̄ ntìè\\' é nù yáá tōm káklə́lə́lə́ mɑ̄vǒ mɑ̀ndə̄ə̄ wúzɑ̄ ngām kō\\' ngām yāā lɑ̌\\'bɑ̄ mbhì pō mɑ̄ ndáh lìì ngʉ́ lìàlìà à yǎt tɑ̄ mɑ̄ nshʉ́ɑ́ ɑ́ pɑ̀h shʉ́ɑ́ tʉ́ɑ́kɑ̀\\' fōh yāā bɑ́ nhɑ̄ mbūànì ǒ mbɑ́ɑ́ lɑ́ wɑ̄ hìyīīīī hìyīīīī ǒ sì shʉ́ɑ́ pí yʉ̄ɑ̄ on dit aussi ndə̄ə̀ndʉ̄ɑ̄ ngɑ̌ ìnsōk ī nù njā\\' pʉ́ɑ́ ǒ fá\\' nsɑ́\\' cà\\'sì mbāt lè mbī’tū mɑ́ ngɑ̌ mɑ́ ngà’mbōk nkò\\' ndèhyèh ndèhsìyèh ǒ ngʉ́ kɑ́ wò yō mvʉ́ɑ́ mà\\'sǐ nkwèn ī lɑ̀hsì ā lɑ́ ngɑ̌ fʉ̀ɑ̀ ō wèn cāk ō tɑ̀ nkóm nɑ́ ò njīī nō mɑ̀ ǎ ndēn mɑ́ bàâ ngwě\\' lén mɑ́ kɑ́ ngɑ̌ ywén mǒ\\' ndə̄b mvī mbǎk ghò\\'sì yōh zě\\'è ngɑ̀ kɑ̀\\' ghə́ə́ nù = ǹ kɑ̀\\' ghə́ə́ nù ǎ ghěn kò pí wɑ̄ nsîkò mbhì wū ngɑ̌ lʉ́ʉ́ ɑ́ ghʉ̌ kɑ́ còh ndáksí tɑ̄ ntām ncɔ̀ nshʉ̀\\' pōōntòhō mɑ̀ nkhʉ̀ ǎ mɑ́ ncát mēn à ndáh wèn ntāh pʉ̀ɑ̄ nù sɑ̀’ nsī sīē nhwīēsī nā ò kɑ́ tɑ́ ó mvɑ̄h mɑ̄mfɑ́’ fà’á ā mēn à túfì á nkíkén tɑ̀\\' zɑ̄h shʉ̀\\' sǐ\\' mɑ̄mfʉ́ɑ́\\' pè\\'è bɑ̄ zə̄h shʉ̀\\' sǐ\\' mfʉ́ɑ́\\' pè\\'è bɑ̄ ǎ nkwé\\' làh nnén wèn yə̄ə̄ yáá mɑ́ tɑ̀\\' shʉ̀ɑ́nǔ mbú à tɑ̀\\' mfǎmfǎnù kɑ̀\\' pé\\' nù lɑ́ mɑ̀njátlɑ́ lā à lɑ̀ghěn tōm mɑ̀ nkwě’nzhì sì túnù thʉ̂\\'kòm ǎ khʉ̀ɑ̄ ŋwɑ̀\\'nǐ mbú à ngùɑ́ nshʉ́ɑ́ pɑ́\\' lóknkhʉ̀ lɑ́ nsî\\' pè\\'è de mbù\\' mfʉ̀\\' ntū\\' ndʉ̄ɑ̀\\'ncò ndʉ̄ɑ̀\\'ngāā kèēvɑ̀h cà\\'sǐ dì\\'sì nkwâtpè\\'è yò wúzɑ̄ bê ngɑ̌ ghʉ̌ tɑ̀\\' mēmmɑ̄ yì mbâ\\' ǒ sɑ̀\\' mɑ́ zě\\'é ò ghěnɑ́ ò ghēnɑ̄ mìmìè hɑ̄ ká\\' mbú à yéé yà wɑ̄ lɑ̄ ē ē kɑ̀cɔ̀ hɔ̌ bɑ̂ ǎ mɑ́ ngə̀\\' ā pɑ̀ shí\\' póónēn de zhínù ngɑ̌ ténɑ́ mfɑ̀\\' mbàk lɑ̌\\'lō/lɑ̌\\'ndō (ndìàndìà) ǒ sì pēn ā yáá mɑ̀mvā\\'sī ā nsóh fə̄h pěn pʉ̀ sʉ̄’ʉ̄ ǎ mɑ́ mēn fʉ̀ ā póóncə̄ə̄ cātsī ngʉ̄nə̀ə̀ lɑ́ á pɑ́\\' ntōh ǎ lǎh nī nját lā ǎ yàt lā pí nī ǹ dɑ̀ sì ywēn pɑ̌h nnāk mvī ngɑ̌ mɑ́ mêngāp hōm ngà\\'wɑ̄ nhɑ́ɑ́ ngɑ̌ yú’ yáá sī’ lɑ́ sēn à mbī’tū mɑ́ mbɑ̄’ ō lɑ̀ sì ywēn ǹ sī yǎt mɑ́ ngwēèwèn bɑ̄ móh tòò nā ndàh wú wèn nhwáá nzhʉ̀\\' nkhú lōh tíì gháknzhì sòm lɑ́ ntén tɑ̀\\' mbátsí nāt ǎ pɑ́hsòm lǎt ndhī tɑ̄ ngʉ́ nsóh mbə̀\\' mfɑ̀\\' à sǐ\\' nzhī mbʉ́ɑ́ pīɑ̄ bɑ̄ ngɑ̌ mɑ̀ncōp ndhī à ghèn ndēēsī nkā\\' ndʉ̄ɑ̀vʉ̀ ǹ sǐ\\' nját lʉ̀ɑ̀ bó bɑ̄ shíéwú mɑ́ lò\\' yáá mɑ̀ lāhā cǎ\\'ndhī mvʉ̄ɑ̄ lɑ̀lǎh sînǔ mvī ngén mfāt mvēnɑ̀ nkūɑ̄ yáá fīā mɑ̀ ngɑ̌ kúɑ́ à bɑ́ mɑ̀ à yǎt sì mèh mɑ̀ ngɑ̌ ìmvēn ī ndhìghòò mvátnkàb sǔ nzʉ̄ ǎ yóh mōh tɑ̀ mfʉ̄ mǐ sīāsî mbʉ̄ɑ̄ fhʉ̄ fɑ́hnzɑ́ è ǒ pén làh mbɑ̄ pí mʉ̀ ʉ́ fà’á lɑ́ mɑ̄ é těnmvǎk mbú ó nshʉ́ɑ́ mbɑ̄’ ē é yòh pí sēn à mbâ’ bɑ́ ǎ nàk mɑ̀nkhù nàh ndó mbèè tɑ̀ nkwēn fà\\' pɑ̌h mbèè lè ntéé yǒh sāā báá nhé\\' tɑ̀ ndʉ̄ɑ̀kà\\' ngǒ\\' mbǒ\\'nkhù pō lɑ̀phʉ̀ʉ́ nsôknù tɑ̀ à ghê\\' tēn njǎm à kǎbsònkhù ndòmpè\\'è ndòmndʉ̄ɑ̄ tūpōndɑ̀\\'sì yámɑ̄kò nɑ́ mɑ̄ ē pí mbɑ̄’ ē wɑ̄ tɑ́ ó kwè’ nshʉ́ɑ́ mò’ ǎ mɑ̀mvā\\'sī ā c\\'est une chose absurde tə̌\\' zə̄h nshùndʉ̄ɑ̄ ǎ mɑ̌\\' pòm sʉ̄\\'ʉ̄ ncɑ̀ɑ̀tə̄b sìlèn njéh mbìyá\\' lòh on a absout les fautes du voleur ne m\\'accule pas nkwén sɑ̄\\' kò wā\\' ngɑ̌ mɑ̀ngʉ́ tēhsípó/tēhsítú nɑ́ mfɑ̌\\'kà\\' yáá ntén pɑ́\\' hə̄ə̄ lɑ́ ǹ dɑ̌\\' ntám lôhnùpʉ́ɑ́ tɑ́\\' sīē cə̄ə̄nzèn mǎ mbɑ́\\' á njàm yàā ntīē wúzɑ̄ tɑ́ ó zhī làh ndə̄ə̄ ə̄ zɑ̄ wǎ\\'lā\\' mbʉ̄mbɑ̀ɑ́ njóh tɑ̀\\' shʉ̄ɑ̄ zǎ nkùnkū\\' lɑ́ yòkyòk wò bɑ́ kɑ̀\\' mbû\\' njā\\' ndéndēē bɑ́ pɑ́h ó nɑ̄’ mmóó mó’ mvàk yáá ncāk mɑ́ mbɑ̀ mʉ̀ ghén nhwīēsī nā à nī\\' mmɑ́\\' sīē ǎ mɑ̀ndáh sínǔ fɑ́h ì ngɑ̌ mɑ̀njū\\' mbə̀\\' ngɑ̌ mɑ̀njū\\' nā à mbə̀pə̄\\' ngwààtàm lʉ̀ʉ̄nàm mbʉ̄ɑ̄ yì ǎ nnāb ā mbɑ̀ɑ̀ bì lɑ́ ngɑ̌ ìnnāb ī màkàlà zā lɑ̀\\'sǐ nā ò ngòòndóm nkwé\\' làh nshí nā í nɑ́ wèn yāā báá njā\\'sàm zhìè zhī\\'sī ā ndù\\' mǒ lɑ́ zhīē\\' nə̄h mō nzhìè lǒ mɑ̀nkō ā tɑ́\\' yáá ncāk mɑ́ ń nzhī\\'sī wū njóh ǎ lǎh mfʉ̀ɑ̀\\' ndhī ì ngɑ̌ mɑ̀ngʉ́ pí yá\\'nthʉ̄ ngɑ̌ mɑ̀ngʉ́ sì kə̀\\' ngɑ̌ mɑ̀mmíé ngʉ́ nhɑ̄ nzhǐ thʉ́ nzēnsī ngòò nū nǔ yáá ghʉ̀ ī tɑ̀ tɑ̀ nthʉ́ ŋāā pè\\'è mbóm tɑ́ yì bàá yì ǒ sáá ngʉ́ lɑ́ mɑ́ làh nkhʉ̄ɑ̄\\' ní nshì pɑ̌h mɑ̀ngén mɑ̀ tōm sǒmndʉ̄ɑ̄/sə̌bndʉ̄ɑ̄ mēnkhʉ̄ɑ̄/mʉ̄nkhʉ̄ɑ̄ pó mmīī nkùnkū\\' yáá ndámnsāk accroche ce sac en haut ngɑ̌ mɑ̀nzʉ̄\\' nā à ngɑ̌ kònjā\\'sǎp mbú ò ntìmbhì nà béè nshwī zhínù kābɑ̌ ntū\\' lě hɑ́ nú sì háâ ntām tú wèn pɑ́\\' ntāb sīē ǎ měh nàh nzɑ̄ wúzɑ̄ mfāt mbɑ̀ɑ̀ tə́ə́ nshì ǎ mfhʉ́ɑ́\\'sí wèn pɑ́\\' nkēē lɑ́ ncǒ sām ngòfát ntēē ncáb mbā\\' lɑ́ zàtsì nzhwīē á mɑ̀nkúsí nǒktū ī ngɑ̌ kə̀\\' ō tɑ̀ ngwēn ɑ̄ɑ̄ ndì ǎ fɑ̀\\' tɑ̀ nhīēsī nā ì ntìè\\' ē yóknā nzɑ̂kə̌bnzhì póómɑ̄ ō cópwū ngwēē nò bɑ̌ ɑ́ ndē\\' zhínǔzʉ́\\'nʉ̀ɑ̀ nə́hŋwɑ̀\\'nǐnzhǐntə̄\\' ngɑ̌ lén mɑ́ ŋ̄h kó\\'ná nāk púá nɑ́ ì nshwíá ták nù ngà\\'vʉ̀ kɑ́ tɑ́ ó mɑ̀ngʉ́ ʉ̄ zè\\'é mɑ́ líé\\' ngɑ̀ɑ̀ tōm ntìmbhì sə̀ə̀mbʉ́ɑ́ līē\\'/líé\\'nzɑ̄ sə̀ə̀mbʉ́ɑ́ kùkū\\' ngù\\' 2014 sìā nū mvʉ̄ɑ̄ lɑ̀lǎh sínǔ mvī ngén mfāt mvēnɑ̀ nkūɑ̄ làh nzɑ́hsí wěn mɑ́ làh nzɑ́h wú mbú í ncámncām 1 ǒ mɑ̀nkə́\\' làh mbɑ̄ sên mɑ̄ghɑ̀ɑ̀ bà á 2 ǒ mɑ̀nkwé\\' làh mbɑ̄ sên mɑ̄ghɑ̀ɑ̀ bà yì mʉ̀nzhwīē έ ǎ fhʉ́ kǒ vʉ̄ʉ̄ mbômbō nthí mbʉ́ɑ́ wùɑ̄fʉ̀ɑ̀ wèn bɑ̄ zɑ̄hnshʉ̀\\' mēn lò ǎ cǎm ncɑ̂h mǎ mə̄bsī nə̄h mǒ ngə̌\\' lén mɑ́ kɑ́ mɑ̄vǒ ǒ mɑ́ yà fʉ̀\\' nsɑ̂\\' lə̀ə̀ ngɑ̌ yá\\' mèh hom ntāāsī tīì yāā sī mɑ̀nnák bɑ̄ í ncǎ\\' sīē é ŋwɑ́\\' tʉ̄ɑ̄ ī mbɑ̄\\' ó pīīsī pʉ̀ɑ̀ lɑ́ mbə̀pə̄\\' mmɑ̀\\'kwǎ\\' ntám mbǔ\\'nkěn-yīīsì pǒ\\' sà\\' du verbe nzhīsī làh nsí\\' njēēngʉ̄ɑ̄\\' bɑ̄ cāhnzhìè tɑ̀ nsɑ́\\' ndʉ̄ɑ̀kà\\' wāhà kòm báá ghòòmɑ̌ ná ò ngǎ’kò mbɑ̄’ é mɑ̀ hɑ̄ à lɑ̌\\'kòngóó ǎ yá\\' yàhsì ngɑ̌ mɑ́ tɑ̀\\' nzʉ̀\\'nā nǔkɑ́ ó mɑ̀mfīī ghə̀ə̀ ndə̀ə̀ ndēn mɑ́… ǎ lám nā ì ndàt nshì nnɑ̄\\' wèn ghʉ̀ fé\\'è pè\\'ē sāk ḿ fěn njò\\' lè mɑ́ lāhā pō á vìòpsì ncô\\'nsè\\' ǎ fhʉ́ yǐ bɑ́ ǎ sɑ̀\\' mfhʉ̄ ntìè\\' pèē ndʉ̄ɑ̄ lə́ə́kwēn ndhí wūɑ̄ mbə̄ə̄ ngà’njǎm à nzhʉ̀ɑ̄’ngwê ngòòmbók mɑ̀nkwēn làhā nǔkɑ́ bɑ́ ɑ̄ ncǎ\\' síé é sɑ̄\\'sūā ń nzɑ̄ ɑ́ nshwíátāk mmɑ́\\' tú nù pə̄ə̄ sì tə̄h ndʉ́ɑ́ ó mbí mbʉ̄ɑ̀ndù\\' pō yǎt sì sʉ̄ɑ̄ sāā lɑ́ mbǎk ló tɑ̀ kēēmbʉ̄ɑ̄ pō sǐ\\' nshīī ngāp mɑ́ líé\\' ntēē bɑ̄ báhà kɑ́ tɑ́ ǒ mɑ̀ngʉ́ fà\\'á ā mēn ǐ cɑ̀ɑ̀ bī nkō\\'sī nshwī nshú\\' ndə̀ə̀ móhshʉ̄ɑ̄ ò hɑ̌ ā nkɑ̄ɑ̄ mɑ̀ yέέ mbə́\\' ā mauvais sort énergie négative qui attaque la victime généralement la nuit mɑ̄vǒ wóktèn pí mɑ̄vǒ nkwèèmóó mɑ́ pɑ̀fə́hnkhʉ̄ɑ̄ ndòk nǔzɑ́lɑ́\\' mɑ́ nǔ mbʉ̀ɑ̀mbʉ̀ɑ̄ pʉ̀ nàm nshʉ̀\\' mbhʉ̄ tî ngɑ̌ mɑ́ mbâ’ sɑ̌’ ɑ́ yōh pɑ́h ó ghén ndʉ̄ɑ̀sīē ǹ sī mɑ̀ngén sə̀ə̄zʉ̀’ bɑ̄ ngɑ̌ kònkāāsī sì tú yāā ǒ sì cə̄ə̄ vɑ̀hnǐ mbɑ̄ mɑ́ fà\\'á ǒ sì yā\\'nthʉ̄ nsá\\' wěn kà\\' pèn ghén njū\\'sī nā yèè tɑ̄ mbát nsɑ́\\' ǎ zɑ́ wúzɑ̄ ndhí nshʉ́ɑ́ nhǔ nsə̀ə̀ lɑ́ kòntɑ̄\\'sī mɑ̀ ŋwá\\'nthʉ̄ kǒm ngwě\\'ngwè\\' pí mʉ̀ yāā kɑ̀\\' kú\\' pàt nshwí\\' ǎ mɑ̀ndōk wúɑ́ mbɑ̄\\' ā nkwěn ghāp khʉ̀ɑ̀\\' fʉ̀\\' shʉ̀\\' ntômnàm yáá kwēn ā tɑ̀\\' ngɑ̌ zhí ndíndēē mɑ́ yʉ̄ɑ̄ bɑ̄ nzhʉ̀ɑ̀ pl nkhù mǎ ngà\\'mbhǐ á ncōh tɑ̀\\' nzhwìà nkwēn pɑ̀ɑ̄pɑ̀ɑ̀ ngɑ̌ mɑ́ mmɑ̀\\'kwǎ\\' ntám mbǔ\\'nkěn-yīīsì ǎ hèè tɑ́\\' sī ghɑ̀\\' nù bɑ́ bɑ̄ ǎ sɑ̀\\' kāhā à yǎt si shìì nsóndhī pó ndáh sɑ̀\\' nsó ntó nɑ́ wèn yōh pɑ́h í pòmsǐ ntēē nkə̀\\'sə̀mbʉ́ɑ́ ngɑ̌ yǒhnshì tɑ̀ nzhì à shīē\\' sə̌wěn lɑ̀ zhʉ́ɑ́ ā à pěn fà\\'á ò lə̄ə̄ mī sí\\' mbēn fà\\'á bɑ̄ ò nāk yǎà mɔ̄ɔ̀\\' yàâ mɑ̄nʉ̄\\' yǎà nə̀ə̀sìmɑ̀\\' yǎà ntē yǎà mbə̄lòknshì yǎà mɑ̄nʉ̄\\' yǎà wūsìpə̀\\' ò zhɔ́ɔ̀ [ǒ zhí ɑ̀] sī nàm pʉ́ɑ́ nsɑ́\\' yáá ghʉ̌ mbhʉ̄ tî ǒ púá á pó ncēh béé mɑ́ kɑ́ pó ncēh béé wū lè mɑ́ kɑ́ ǎ mfɑ́\\' mfɑ̀\\' mǐ pə̀pē\\' ǎ nóó nshʉ́ɑ́ pʉ̄nkhʉ̀ɑ́ kòntʉ̄ɑ̄\\'nkwàà yì ná\\'wú mɑ̄vǒ mbə́\\' nshʉ́ɑ́ yǐ nkwèè pʉ̀ zhínǔ wèn bɑ́ ndáh ī ngʉ́ nkāb ndìà ngǎ\\'kò pīɑ̄ bā ngùɑ́ mfōh lóknkhʉ̀ cīcō\\'ò lɑ̀hsì ā lɑ́ ǒ sì yā\\'nthʉ̄ bɑ̄ ǹ jǎt sì yū\\' à kɑ́sɑ̀\\' ndē\\'nzī mvǎk kwə̄ə̄ lɑ́ lāhā mênmēn à (yì mʉ̀nzhwīē) bɑ́ mēn à yòk pʉ́ɑ́ (yì mʉ̀nzhwīē) bɑ́ ngɑ̌ kə̌\\' kā\\'sí mbìyā\\' ǎ kò mfɑ́\\' nzhwīē ā kònkhú nkwén lòh kɑ́ ntīē pɑ̌\\'ghə̀ə̀ báá ā hɑ̄ kábsí ká\\' mbú à ǹ sī mɑ̀njū\\' bɑ̄ nǔ nkwè\\'nì kɑ̀\\' yáhlēē mbʉ́ɑ́ yū\\' njwìà ngòfāt kwênsòm à bɑ́ ntēēntéénù ngɑ̌ lǎh hwīēsì tàm lɑ́ hwīsī ndə̌mɑ̄nì ǎ sìàh lā mɑ́ nzhǐ kònsīā cɑ̄ɑ̄ bò nzhwīē à kɑ̀\\' fák fhʉ̄ ngù\\' pʉ́ɑ́ tú mbɑ̄\\' ó mɑ̀nkə́b ī ncáb ngòfāt ntòòlə̀b póónì nkà\\' khʉ́\\'khʉ̄\\' ǹ kɑ̀\\' zhī làh ntɑ̄h ndɑ̀ɑ̀ yēh ǎ mɑ́ tɑ̀\\' nnûndə̀pɑ̀\\' pó ncēh báá mɑ́ píéntìè\\' kɑ́ tɑ́ ó sáá mvʉ̄ʉ̄ fà\\'á ā ngɑ̌ fhʉ́ndʉ̄\\' dhù ngélɑ́ dhù lɑ́ mēn à tɑ̀ mēndɑ̀’ cwǎkhǔ có nɑ́ zàptwǎ\\' ntìèŋwɑ̀\\'nì ghèn tɑ̄ njēē mɑ̄vǒ wóktěn mɑ́ ngòò ā kǒcɑ̀\\' ǒ nzhʉ́ɑ́ pɑ́\\' pó fɑ̀h ó lə̀ə̀ lɑ́ nɑ̄h/nə̄h mǒ pə̀\\' tɑ̀\\' ndʉ̄ɑ̀mòò nsópō ngɑ̌ mɑ̀ntə́’sí yò túmfɑ̀’ yò wū yì ǒ ngʉ́ ndìàndìà ndáh mɑ̄nzɑ̄ yò wū lɑ́ lǒ kwàà pě\\'mʉ̀nzhwīē ǒ sì īmbát nját lā nkwèè zú nɑ́ mbʉ́ɑ́ yāā á nshǐ yá\\' fī nkèn lɑ́ mɑ̀nzáhsí mɑ̀wǎ nǒ\\' mvēnɑ̀ ntōh kwē\\'è kōō ngǎ\\' nā à ntē\\' dhù ngén ntēē njwēn mvāt yò mfɑ̌\\' zʉ̌\\'mfɑ̌\\' pèn mɑ́ kɑ́ m̀m̀… pó mbát ncēh báá wū lɑ́ mɑ́ kɑ́ lɑ̄ ō ō ō ngɑ̌ mɑ̀ncwáántīē pó kònsōk cə̀\\' cǎk tèn mʉ̀nzhwīē lɑ́ tō\\' làh nzāk wúzɑ́ làmsì ǒ cák ncà\\' pō zāb ō ǎ mɑ̀nzhwíé ncát kònsāp khù ā ngɑ̌ lə́ə́ tɑ̀\\' ngwɑ̂\\'mbī\\'/ngwɑ̂\\'ghǎ\\'zū mmómnsí yɔ̌nshì yīī mbè\\' nzhʉ̀ʉ̀ yīī nzhʉ̀ʉ̄ mbʉ̄ʉ̄ yáá ndéndēē ndɑ̀\\'ncà\\' nsɑ̂\\'ncà\\' sēn à mʉ̀nzhwīē bɑ́ yáá ndéndēē mɑ́ kwà\\'sì kɑ̀\\' pé\\' mɑ́ tɑ̀\\' tɑ́\\' ǒ mɑ̀mbhʉ̄ yǒ kɑ́ lɑ̀hsì/lə̀hsì ā lɑ́ ngɑ̌ cáhsí mbǎk ló tɑ̀\\' nshwìà nnā\\' càk nthʉ̄ á mɑ̀nŋwā\\'sī pó ncwēē ntú nkwāā nkwá\\'sí pí vʉ́mōh tɑ̄ ndó\\' ɑ́ yāā pɑ́\\' mbɑ̄psī ngɑ̌ mɑ́ nsî\\'pè\\'è tɑ̀ ǒ yǒ mbèè pí wɑ̄ ngà’mbhǐ à còkòwɑ̄ nglǐsǐ mbɑ̄ mɑ̀ yáá ghɑ̀’ tɑ̀’ ɑ́ nǔ kɑ́ bɑ̄ ngʉ̀ ō lī mēmmɑ̄ ò bô ǎ nák mvʉ̄ɑ̄ híé\\'khù nthí mbʉ́ɑ́ wùɑ̄fʉ̀ɑ̀ wèn bɑ̄ zɑ̄hshʉ̀\\' pɑ̀ncwé\\' còō ngòò lɑ́ mɑ̄ é mɑ̀ lāhā cə̄ə̄ ngwāh pō lɑ̀ lǐ\\' ghɑ̀ɑ̄ nthínà ǹ sə̄ə̄ tə̀ə́ ń ndàh nzáb ī mbɑ̄\\' ō pí mɑ̄vǒ pɑ̀ mbɑ̄\\' zǎ sên ngʉ̄ɑ̄ mbɑ̄\\' á mɑ́ tɑ̀\\' ghɑ̀\\' ndə̄ə̀càk/nnâ\\'càk nshù ō bɑ́ ìnzhī ō ǎ téhnjó tú à nkǎm ndʉ̄ɑ̄ lɑ́ lāhā mbhì fà\\'á ò nāk wɑ̄ bɑ́ ìncōptū ō wɑ̄ lè è mɑ̄fʉ̄\\'vābɑ́ ntōk vābɑ̄ hɑ̄ ndɑ̀ɑ̀ mǎ mbú à fíá tèn ǎ càtsǐ cɑ́\\' nɑ́ à nzɑ̄ ndè\\' nzɑ̄ ndè\\'tē\\' fʉ́ɑ́nsā\\' lɑ́ mɑ̀mvhʉ́sí yáá pǒm mbú à yέέ pə̌b nɑ́ à nkônkɑ́ɑ́mbíntěn mɑ̀nnū ngùh mɑ́ pō sī ìndɑ́\\' nǔ\\'nshù ī sə̀ə̄līē\\' bɑ̄ lǎm làmnsāk hɑ̄ yà pǎh pìh lɑ́ sēn à ngɑ̌ lǎh yì lāmɑ̀ tɑ̀ ǒ zhí mɑ́ nɑ̄h/nə̄h mǒ lɑ́ pə̀\\' tɑ̀\\' nī lɑ́ sɑ̀h ŋɑ̄\\' wúzɑ́ tìì pó hɑ̄ wúzɑ́ mbú ì à dhī nzɑ̄ ǎ khʉ̀ɑ̄ndʉ̄ɑ̄ nàm kwɑ̀ sìtēnɑ̄ sìsíé\\'ntèè ǎ nkò\\' pɑ́\\' cǎmnkām lɑ́ junte militaire nkèn lɑ́ yā\\' lā deux points ( pó mɑ̀ncēh ō mfhʉ̄ fā\\' mɑ̀ cà\\'sì pí mbə̀\\'nthʉ̄ ntʉ̄ɑ̄ ngʉ̀ɑ̄ pēn ī ncáhnkhʉ̀ ǒ sì nɑ̄\\' ndə́h sê ǎ mbéé lā kwɑ̀\\' nēhněh ndàhwěn ndʉ̂\\'fōh/sāktēnɑ̄ ngà\\'mfɑ̌\\' ndʉ̂\\'fōh/sāktēnɑ̄ son fiancé a abusé de d\\'elle ntìè\\' ē vèn ǒ mɑ̀nját lā ngɑ̌ mɑ̀ntíí ngòfāt lǎh fʉ̀ɑ̀\\' yāā nsɑ́\\' tɑ̀\\' mfî\\'kè\\' mīāmfî\\'kè\\' mbóknzī cwàānù bɑ́ sí\\' ò zɑ̄ ǎ ghʉ̌ nkə̀\\'nì nàh nkōsī ā tɑ́\\' mbʉ̄ɑ̄ sī mbú ì bɑ̄ táàfʉ̀ ǎ ngʉ́ sòm tɑ̀\\' dhù lɑ́ pɑ́\\' mɑ̄mbɑ́ɑ́ njwât fà\\'á mvǎklīē\\' ǎ ghʉ̌ nzhì yá\\'nthʉ̄ ngɑ̌ yéé mǒ\\' mʉ̄ɑ̄ mbɑ̀ɑ̄ndə̌b kò ngə́ə́ cāk tɑ̀ njēē sìyɑ̄\\' mbə̄ə̄ lɑ́ pɑ̀ŋwâtlɑ̌\\' híásí í ntēh ghə̌ nshǔ ì nsēn mbǎ khʉ̀ɑ̀ ā mbī\\'tū mɑ́ ngɑ̌ yǎ mɑ́ mbǒk làhndó\\' ghèn ncɔ̄ nā ó thʉ́ mmɑ́\\' càm nàm kɑ̀\\' tʉ̄ɑ̄ zě\\'è lè bɑ̄ cʉ̄cō\\'ò kōsī ā nàh nkōō nkùkū\\' béé lɑ́ sʉ̄ʉ̄ nà nshùndʉ̄ɑ̄ yɑ̀ɑ́ nhōōsī nkwèè mvǎk līē\\' njû\\'ntə̄h sòhnjō\\' ghǒh tū mfōh tók wèn kwênsə̀b ǎ zhí nǔsə̀b nsèhzhʉ̀ɑ̀\\' tìēmōō ǎ fáb nshì mbə̀’mbə̀’ mbūànzɑ̌ mbú ó lɑ́ mēmmɑ̄ ò nǔ’shʉ̄ɑ̄ ǎ zàb ā mbī’tūmɑ́ ngɑ̌ nām ī mbɑ̀ɑ̀ bà ǎ mɑ̀ngé\\' mbī\\'tū mɑ́ nzhìèkú\\' mɑ̀nkō ī ǒ fʉ̀ɑ̀ ā ǒ táásí ā ǹ dɑ̀ sì bɑ̄ mɑ̀ mbɑ́ ǹ nkwā\\'sī tɑ̀\\' līē\\' mɑ́ mbɑ́ nzhwīē ā zāknjǎm à ngɑ̌ mʉ̀mbīɑ̄ mɑ́ ngɑ̌ ìntōh làksì nshùndʉ̄ɑ̄ yɑ̀ɑ́ nhōō nkwèè mvǎk līē\\' sóh tīēsī ī sə̀ə̄ ngʉ̀\\' sī yǎt mbú á bɑ̄ hom kùɑ̀ mɑ̄njə̀\\'/mɑ̄njwè\\' ndʉ̄ɑ̀\\'ncò ngà\\' sə̄ə̄ mfɑ̌\\'vʉ̀ nthí làh ngʉ́ɑ́\\'sí ò fʉ̄ɑ̄\\'sî ǒ nìɑ̀ɑ̄ kwéndʉ̄ɑ̄ ō ó nǔ mɑ̀mbɑ̄h ī mɑ̄ŋū kùkū\\' ɑ́ france kʉ̀khʉ̀ɑ̄nkèn ndōō mfɑ̀\\' mɑ̄ ē [mēē] mfōh mōh ghòò zǐ pàt ngɑ́\\' ngàm mbìyā\\' pīī thʉ̄thʉ̄\\' báá nhɑ̄ mbú á ɑ́ ndàh nzáb ō zén sēn ǒ mɑ́ wɑ̄ il se traduit en français par l\\'expression nə̀ə̀sìmɑ̌\\' cù\\' thʉ́\\' è ghěn kò nzhíí mbɑ̄\\' ē ntʉ́ɑ́ngwè\\' pó kāksī ncwē\\' nɑ̄h í cìcàh móó kònnē\\' pēn la farine de blé wɑ̄ lɑ̄ ō ō ō shīē wū báá lè kwênsòm ǹ dɑ̀yá\\'nthʉ́ mbú ò pl mbóthʉ̄ mǒ\\'wèn ò hèé nù lɑ́ ò lōō lə̀hsì penseur yò njàm ghə̀ə́ mɑ́ kɑ́ tóh vǎm ì mfàkndʉ̄\\' nā ì pō lɑ̀zí á nɑ́ líé\\'nzɑ̄ 31 mɑ̄ŋū mbàkngòfāt ngù\\' 1981 ghə̀ə̄ nkwè\\'nì nù lɑ́ sìànì pó nāk pù\\' ǎ ncákní tɑ̀\\' ngɑ̌ pén ō mēngābɑ̄yū\\' à nzhwīē à mɑ̄ à pōō mbǎ nǔ mɑ̀mbé\\' ā cwǎkhù bɑ̄ nzɑ̄ wúzɑ̄ ō pó còh ncwēēncà\\' njǎm wùɑ̀ làh ngén mbhì ngwâtpō yā\\' sǒh nā ō tɑ̄ nzɑ̄ wúzɑ̄ mʉ̀ bɑ̄ nzɑ̄ mʉ̌ nzɑ̄ ngɑ̌ mɑ̀ngé\\' mbī\\'tū mɑ́ kǎmbú\\' zàb ā ghèn ndí\\'sí mbɑ̄\\' ē mbǎk cwàà nɑ́\\' mìè ǒ sì nɑ̄h mbǐ\\' nɑ́ à mvā\\'mvá\\'ghə̀ə̀ těndʉ̄ɑ̄ ā sī ntèn bɑ̄ ngɑ̌ kúɑ́ pōh lò\\' ngāp ǎ ghʉ̌ mbə̀\\' nthʉ̄ mɑ̄ ē ntèndʉ̄ɑ̄ ǒ mbhǐ à ngɑ̌ mɑ̀ndéé wúɑ́ mbɑ̄\\' ō ǎ kàà yì mvàk ǎ kààlɑ̀ nzâknù 5 nkhʉ̌těndʉ̄ɑ̄ mbā\\' lɑ́ ndə̄\\'sī mbɑ̀kɑ́lɑ̄ pí tōòsì nshǐ nù lɑ́ tām ā ŋ̌h mbɑ̄’ ō ǒ sì cáh wěn mbhì mɑ̄ njàm nnó\\'nɑ̄h nī ā sī mɑ̀ncōh bɑ̄ ngɑ̌ mɑ̀njū\\' sìpə̀\\'/sìpè\\' ngɑ̌ mɑ̀mfīī ngɑ̌ mɑ́ tɑ̀\\' nzʉ̂\\'nʉ̀ɑ̀ yáá mɑ̀ lāhā mēn à hɑ̄āpìì sák kònjɔ́nshì móó mɑ̀ncō\\'nàk mɑ̄ ā nkǎmsʉ́’ mɑ́ mʉ̀nzhwīē gháhnshù ngɑ̌ nám ó pò\\' zǎ mbī\\'tū mɑ́ ó lɑ̀ghʉ́ɑ́\\' ā mbɑ̀ɑ̀ bò ŋ̄h ngɑ̌ yú\\' nsóh nā ǒ lèn ā í = ǒ lèn ā á pɑ̌ngrīsì pó nǔ\\'nshǔ nkâmngwè\\' ngə̌ngà\\' yāā kɑ̀\\' cóh mbə́\\' pɑ́\\' ń dɑ̀ ghʉ́ yāā nzhī yáá ghɑ̀\\' tɑ̀\\' pō sǐ\\' nsōk càb bɑ̄ nū nshì de nə̀ə̀lāk yɑ̄ɑ̄ pí mēngābɑ̄yū\\' í mɑ̀ntʉ́ɑ́\\'sí mfɑ̀\\' mǎ díé\\'mō\\' njàm ǎ kǔ\\' yì mvàk líé\\' zè\\'è zɑ́hlōh kɑ̀\\' cō zɑ́h à ǎ káásí ā sì\\' kāāsī tɑ̀ nzɑ̄ nkɑ̄ɑ̄ bà mbè\\'mbè\\' cà\\'sǐ pɑ̀mbɑ́\\' mbú ó lɑ́ mbɑ̄\\' ō nnàk ndɑ̀\\'ndɑ̀\\' lɑ̀\\' dīē mɑ̄nzhì hìè nā ó mbú ì wèn yɑ̄ɑ̄ mɑ́ ndéndēē bɑ́ nkě\\' mbɑ̄ tɑ̀ ntōh nkʉ̀nkwēn tōm yáá vʉ̀\\' lāhā fhʉ́ nkhʉ̄ɑ̄ lǎk kòb mùùsì ndʉ̄ɑ̀mfɑ̀\\' ndù\\' lɑ́ fī ngɑ̌ yá\\' tə̄b nkèn ngɑ̌ púá ntúnkhù shck ěmǒ mɑ́ tɑ̀\\' nsìènkèn sì fōh sʉ̀ nsɑ́\\' ngʉ́ pí njɑ̀\\' nnɑ̂\\'wèn tʉ̀ɑ̀\\' bɑ̄ fhʉ̄mbɑ̄ pìēsōk bɑ̄ fhʉ̄mbɑ̄ nkòò pīē sòm lɑ́ cɑ̀ɑ̀ zǐ mbɑ̄\\' ā shʉ̄ɑ̄\\' à bɑ́ on dira donc ngòò nà túnā ī bɑ̄ ntū\\' nshì nzhwīē mbā\\' lɑ́ kòmmwēn mēn yɑ̀ɑ́ tóh tú\\'cɑ̄\\' ǎ ghèlɑ̀ tɑ̀ nzhì yōm ǎ fíí nsát cwǎkhù ncɔ̀ nshʉ̀\\' pōōtāā mɑ̀ nkhʉ̀ nděn móó yá\\' shwī déployer une armée agrandir l\\'espace occupé par les troupes phʉ́ lə́ə́ndʉ̄ɑ̄ dhù/lhù dhù nshʉ́ɑ́ ghèn njēē sīēwèn ǎ yú’ tū í nā njwé\\' sɔ̌ khù ī pó ncwēē ntú nkwāā nkwá\\' pí vʉ́mōh tɑ̄ ndó\\' ɑ́ yāā pɑ́\\' mbɑ̄psī mbə̄ə̄ mēmmɑ̄ ò nùlɑ́ghʉ̀ ngɑ̌ cɑ̀’sì ō lɑ́ ǹ jǎt tɑ̄ mɑ̄ nzɑ̄ wúzɑ̄ ngɑ̂\\'nzhì ŋ̄h yáá pə̀p ŋó\\'pō lǎh bê lɑ̄ bî ne pas confondre avec zhǐ\\'ndʉ̄ɑ̄ nsǐngà\\' zǎtnā nkǒ\\'zɑ̄ ngɑ̌ mɑ̀nkwá’sí kwɑ̀’ làh nhó nkɑ̄ɑ̄ tɑ́’ sə̀ə̄wèn sī mɑ̀mbēn mɑ́ nkɑ́ɑ́ mbú í bɑ̄ tɑ̀\\' shwí pè\\' ntʉ̄ʉ̀ tàb nɑ̂\\' pēē ǒ ìndī\\' mèhsǐ béé sìèsì lè mɑ̀ ǒ kù\\'sì làh ngʉ́ɑ́\\'sí wèn ntìè\\' yì zīī zǐ léé lɑ́ lɑ̄ ncə̄ə̄ nzěn wèn ntìè\\' yì nǔ ghʉ̀ ī lɑ́ ǎ ndā\\' pɑ́\\' fînū lɑ́ mvīāt ǒ sì shwí\\' shʉ̀ɑ̄\\'ngū\\' sáhnù ntìmbhì 40 nɑ́ mɑ̄ ē pí mbɑ̄’ ē wɑ̄ tɑ́ ó kwè’ nshʉ́ɑ́ mò’ zhínǔthíndʉ̄\\' ndàk nkhʉ̄ɑ̄ sām ndômnsì á sɑ̀\\' mbè’mbè’ fɑ́hnzɑ́ mbú lɑ́ vɑ̀h zā ǎ kǎm ncà\\' pō tō nshù ī kǒpthʉ̄ ngɑ̌ měh mfɑ̀\\' mā tɑ̀ nɑ̄\\' njéh pō lòm ngɑ̌ mɑ̀njū\\' shǔ\\' mvʉ̄ɑ̄ ǒ zhíndíndēē é ngǎ\\' ngɑ̌ mɑ̀nkwá\\'nkwà\\' tàm béé nhwīsī tɑ̀ ngɑ̌ mɑ̀ngʉ́ɑ́\\'sí kǒmnā ì sêntēē pàhshʉ̀\\' ǎ có mvʉ̀\\' báá cwè\\' lɑ́ sī mɑ́ cwè\\' fī bɑ̄ kā\\' bɑ́ pɑ̌h tə̌\\' cà\\'sì mbɑ̄\\' ngǎ\\'nà\\' yǎt sì zhʉ̄ɑ̄\\' sə̌ mēn ì ngɑ̌ nɑ́\\' ncāhsī nɑ́ béé ntə́hnzɑ̄ lè ngɑ̌ wén tòòndāk wèn yì ǎ ngʉ́ ngʉ̀ngɑ̀\\' lɑ́ nkwé\\' mɑ́ pō yīī nī tūpókwà\\' kēē wū mɑ̄vǒ mɑ̀ngóó à sī mɑ̀nkwé\\' ywààsì bɑ̄ nzàknjàb pèn pōō nɑ́ ì ndéndēē bɑ́ ǎ nɑ́\\'sí ngénɑ́ nkwāt wèn mɑ́ á ghʉ̌ wū sìkwè\\' ò mɑ̌nkwé\\' làh nzāk ndhʉ̌ŋwɑ̄\\' ò pēn mɑ́ ŋwɑ̄\\' sɔ́ bō mɑ̄ŋú lò ǹ kɑ̀\\' ghʉ́ sə̀ə̄ wúmòò bɑ̄ ǎ ghěn ntéé ɑ́ ywēn wū ī ngɑ̌ cɑ̀’sì ō lɑ́ mēn à wóktèn ngɑ̌ ngén mɑ̀ pīī ngʉ́ pí njɑ̀\\' ngʉ́ wū pí nsō\\' ngɑ̌ mɑ́ ngà\\'kə̀ə̄pʉ̌nzhwīē ngɑ̌ nɑ́\\' ncāhsī nɑ́ béé tɑ́hnzɑ̄ lè sè\\' ntām nǒk ngòmɑ̄tʉ́ɑ́ ghʉ̌ njə̄\\' yáá mbɑ̄ njə́\\'njə̄\\' mbàk kɑ̀lǒ (wāhà) pɑ́ ǹ ngēn ncáh ló mbèé mbú ó ngǎ’ ngɑ̌ fʉ̀ɑ̀ ō mbɑ̀ yʉ́ɑ́ fhʉ̄ ngén mɑ̀ kò ǎ kwě\\' fʉ̀ʉ̀ yə̄ə̄ fǎm mbō sɑ̌\\' mōō ngwât nzhìndʉ̄ɑ̄ táà nzɑ̂ngwàà ngɑ̌ ìngʉ́ mɑ̀ lāhā ntìé\\'ě nɑ̀ líé\\'mō\\'mbhì mbù\\' mbèè nǒ mɑ́ kɑ́ ká\\'yòh ká\\'nshì ǎ mɑ̀ncāk/mɑ̀nkə́\\' làh ngé\\' ǎ có\\'sí mvēnɑ̀ sáhnù ntìmbhì 25 nǔkɑ́ mbī’tūmɑ́ phì lɑ́ kòndhí hom ntāhsī wūsìkwà\\' bɑ́ mɑ̀ mbɑ́ wěn lɑ̀ kwá\\' lǎh fôh ngà\\'ghòò lɑ́ thʉ́ndʉ̄ɑ̄ pó fāt mēn à làb zɑ̄h zǎ mɑ̄vǒ ná\\' njɑ̀ɑ̄ vōbɑ̄ zě\\'è lè ǹ jǎt wú pʉ̀ mbǒ yə́ə́ pèn yómsí zhínǔ póálɑ́\\' nɑ́ nǔ ghə̀ə̄lɑ́\\' pɑ̀mɑ̄ngátnzhʉ̀\\' ɛ̌ncɑ̀\\' ntīē mǎ yóm yāā sī mɑ̀nkwēn ī bɑ̄ nǎm ndó ntômnàm mɑ̄nné\\' mbīēnàm nǔkɑ́ ǒ mɑ̀nŋū\\'sī fà\\'á ā fóh mɑ̀nkō ō kāhā mʉ̀nzhwīē lɑ́ mɑ́ tɑ̀\\' nsôkcwè\\' ntēn càm république ngɑ̌ hǔ\\' ntēē ncāk ō kīkēē pɑ̌h ghěn ndʉ̄ɑ̀sīē zě\\'è pō lát ǹ kɑ̀\\' láh sə̀ə̄wū nsɑ́\\' pɑ́ɑ́kā\\' ncîcāt pʉ̀ nkhʉ̌ ntám ndʉ̂\\'fōh ǎ ghòòbɑ̀ nǔ mbǎ phí tàm mbù\\' ǒ mɑ́ kɑ́ mɑ́ mbɑ̀ nǔkɑ́ ó mɑ̀nŋū\\'sī fà\\'á ā fóh mɑ̀nkō ō kāhā ngáp lɑ̄\\' thʉ̄ ǎ sǒ sī ndhī ngɑ̌ mɑ̀mbōh mvʉ̄ɑ̄ absolument fôhnì tīī nshʉ̀ʉ̀ nsɑ́\\' mfènŋwɑ̀\\'nì ngòò báá mɑ́ wɑ̄ ò sǐ’ nkwé’ làh ntām mbǒ’nkhù bɑ̄ ɑ́ ngɑ̌ yíí mɑ́ nɑ̄h mǐ mɑ̀nsáh sʉ̀ɑ̀làk ngɑ̌ mɑ́ ngà\\'ŋwɑ̀\\'nǐ nɑ́ zhínǔsāhndó\\' ǎ yɑ́\\' nkɑ̄\\' lǎm nā nshǐnshǐnɑ̄\\' ngʉ́ nǔzhwìè nkwén njàmkè\\' ngɑ̌ mɑ̀ hwīēsì mbè’mbè’ fɑ́hnzɑ̄ mbí pèn lɑ́ póómɑ̄ ngòfāl à [au lieu de ngòfāt là] ntâbndhī mbàk kɑ̀\\' fhʉ̄ndō (bɑ̄) nkɑ̄ɑ̄ bì lāk nkhǔndʉ̄ɑ̄ à kɑ̀\\' láh mōō nsíé sə̀ə̄wèn mbǒh wūɑ̄ ŋwāt yɑ̄ɑ̄ pí wɑ̌ ngěn ntēē tɑ̀ mbūànzɑ̄ lɑ́ túfhù ó mɑ̀nkō ā mfɑ̌\\' mbú á yə̄ə̄ mbɑ̄\\' ō ndāmɑ̌ ghʉ̌ ghòōlɑ̀h ngɑ̌ fɑ̀\\' tɑ̀\\' nǔ\\'njɑ̀ɑ̀ mbɑ́\\' mbʉ̄ɑ̄\\' péé mbí wèn mbhʉ̀fôhvʉ̀ yáá kù\\' yáá kù\\' fà\\'á wú thǐ nā zʉ̌\\'ntə̄\\' zɑ̀zǒh ntōm nshǔ ngwɑ̀wɑ̄\\' yáá yá\\' shwī njénkà\\' n b ne pas confondre avec son quasi-homonyme lɑ̀hsì tòōngə́ə́ nzhīnù nshʉ́ɑ́ ngà\\'mbhǐ ì ngùɑ̀tōm sáhwú yàhlēh tɑ̀\\' wúzɑ̄ yì ngɑ̌ nkwé\\' (tɑ̀) nshʉ́ɑ́ zìmó\\' lɑ́ mɑ́ nkòmnkòm nɑ̂\\' nzhʉ̀\\' ǎ pə̀ə̄ sòh zǎ fɑ́h à kǎmndhī ndʉ́\\' kònkhʉ́ɑ́ pí kā\\' bɑ̌ ngɑ̌ mɑ́ ncâkngǎ\\' nɑ́ zhínǔhù ngǔ\\'è béé ngù\\' lè wèn yīīsī ncó nò\\' ǎ pʉ́ɑ́\\' wàā sû làt ndʉ̄ɑ̀ndʉ̄\\' nhɑ̄ nshì nɑ̄\\' ngɑ̌ ghʉ̌ ngǔ\\'nzɑ̄ ncɔ̀ tî mɑ̀ mʉ̄mbʉ́ɑ́ ngòò lɑ́ nkāā tɑ̀\\' nsə́b tōō ngɑ̌ ngén cɑ̀\\'sǐ sēn à ndʉ̄ɑ̀ sì cɑ̀\\'sì lɑ̀píé ò yéé mēmmɑ̄ è ǒ sì táh sì lēn mbú í mɑ́ mbə̄ə̄ lɑ́ mēmmɑ̄ ò nzɑ́ lēē è sēn à ǒ vɑ́h yō ò mɑ̄ ǒ ìndī\\' měh béé sìèsì lè mɑ̀ ǒ còh nzhī làh ncɑ́\\'sí wèn ndʉ̄ɑ̀vʉ̀ ndʉ̄ɑ̀zúvʉ̀ těndʉ̄ɑ̄ á ntèn ǒ tóh ndhʉ̀ ǒ yɑ́\\' nkà\\' cǎ\\' kwèlè\\' ngà\\'kǎ\\' tʉ́ɑ́ nshǐ nɑ́ mɑ̄vǒ ndə̀bpè\\'è ndə̀bndʉ̄ɑ̄ pó lǎh zēn zǒ nshʉ́ɑ́ póósòm píá póóngòó njōkò ntʉ́ɑ́\\'sí ǹ njāt ndʉ̄ɑ̄ ndǒk à mbʉ́ɑ́ghə̀ə̀ cīcō\\'ò pàhsì mɑ̀ flàŋsī ǒ sì yɑ̄\\' ndhʉ̀ nkèè ŋwɑ̄\\' ǒ nkwé\\' làh mfhʉ́ɑ́\\'sí wèn yə̄ə̄ kɑ́ ntīē nù béè ghɑ̀\\' nù ǒ sì pōh ǎ táásí sʉ̄\\' ā pō lɑ̀zí á kōōkò ɑ́ kàmèrûn líé\\'nzɑ̄ kwɑ̀ ndʉ̌\\'nzɑ̄ ngù\\' 2006 lí\\' sǒh nā ò ncóh nzī\\'sī tū ō pɑ̌h zɑ́ ncà\\' tēnɑ̄ ǒ sì tɑ̄ mfīīnsāt ǒ sì hɑ̄ yɑ̄ɑ̄ wúzɑ̄ nhɑ̄ hǔ mbí ngà\\'ghòò mbə̄ə̄ sēn à ngǎ’ndə̀ə̀ ngǎ’ yāā kɑ̀’ ghɑ́’ mbɑ̀ nēhē kèētìē nùfí yàhlēē pɑ́’ fùfùà lɑ́ ǎ nǒ\\' pòmā tɑ̀ nkwèè nshǐ yāā tōm mvī zī nɑ̄h mǎ mbʉ̀ɑ̀ ntāā tɑ̀ mêndɑ̀\\' (lɑ́ mbɑ̀) nhé\\' nthʉ̄ ndèhsì tè’sínù béè pó ncēh wū bíí lì mɑ́ kɑ́ nǎk càhcàh pʉ̀ sʉ̄\\'ʉ̄ signification des symboles graphiques sur le tissu bamiléké ngɑ̌ mɑ̀nkwé\\' làh ndʉ̄\\' mfʉ̀ɑ̀ghù mfʉ̀ɑ̀hù ngɑ̌ zàb ī mbī\\'tū mɑ́ á kàm ā ò tʉ̀ɑ́\\' pí pīē mɑ̀ yáá ndʉ̄ʉ̄ mō nzhìè lǒ mɑ̀nkō ā zàtkwě\\' wèn pǎh lòm ǒ sì kā\\'sī shwì\\'ndɑ̀h nkwè\\'nǐ mbɑ̄ lʉ̄lʉ̄ɑ̄ ne pas confondre táàfʉ̀ pó nŋwáá ghǎ\\'zū tɑ́\\' mɑ̀nsóh mbī\\' nǔ yá\\' ghʉ̌ mʉ̀nzhwīē lɑ́ tɑ̀ à ghʉ̄ sɑ̌hnthʉ̄ pɑ̀ndə̂ndʉ́ɑ́ mbɑ̄ kwēnsòm pí kwēngòò lǒ mbhǐ à ǒ mɑ̀nkwé\\' tɑ̀\\' ntû\\' nshì í nnó\\' tʉ̄tə̄\\' ngòò ā njǒ mbūāsī vǐ\\' nzhìndʉ̄ɑ̄ lɑ́ nzhʉ̄ɑ̄\\' mōō fōh mbɑ̄\\' ā ǎ ngʉ́ nù tɑ̀ ngɑ̌ kə̌\\' nzhwíé á hə̀ə̀ fə́h mbɑ̄\\' ō wò bɑ́ yà kə̀kópncò zhʉ̄ɑ̄\\' nshwī lɑ́ nkǎmndʉ̄ɑ̄ zhʉ̄ɑ̄\\' nshwī lɑ́ shǐndʉ̄ɑ̄ kɑ́sʉ̀ɑ́ mbé\\' kwèlè\\' cǎt pʉ̀ɑ̀ ó nɑ́ zʉ̀\\' yì pō ó ìnkwēn nā lɑ́ ɑ́ nshʉ̀ɑ̀pʉ̀ sīē hɑ̄ sîntěn mbú ò ǹ kɑ̀\\' kwé\\' ncà\\' ncāt lɑ́ kòndōhsī khǔ à mbɑ̄\\' ó kwāt ndíkpè\\'è ǎ fěn cǎmngə̀\\' nā ó mɑ̀ lāhā nkwèènkhʉ́ɑ́\\' mɑ́ tɑ̀\\' ghɑ̀\\' njɔ̀nshǐ ndʉ̄ɑ̀sīē póómɑ̄ tènmvàk ndʉ̂\\'fóh yá\\' mɑ̀nníɑ́ɑ́ nā ì làh mbʉ̄\\' nkhǔ síé fà\\'á lɑ́ pɑ̌h mɑ̀ndɑ́ɑ́sí mbɑ̀wɑ̄lɑ̄ mɑ́ á kwāt yì kɔ̌vɑ̀h ndáh mvɑ́h wūɑ̀kɔ̀ pōō mbǎ nzhīnù tɑ̀\\' lə́ə́ndʉ̄ɑ̄ zǎ mbɑ̄ mɑ́ nděn sēē kēē wú mbú ì nshwìè wèn kɑ́lɑ̄\\'nthʉ̄\\' nzʉ̄ ì mbà\\' sâ\\' mvāt cāt ngɑ̌ mɑ̀nkə́\\' wèn kòhndʉ̄ɑ̄ ngɑ̌ lɑ̀h nàh nsōk ō ǎ zǎp yì mvàk nkɑ̀zhʉ̀ɑ́\\' mɑ̀ntīī nshʉ̀ʉ̀ pʉ̌nzhwīē ndʉ̄ɑ̀ŋwɑ̀\\'nì ncō ghù ncō ngòò nkwēn ghù nkwēn ngòò nkā\\' ngāp hīā pʉ̀ɑ̀ ó thʉ́ mbíá nkhù tɑ̀\\' mvʉ̀ʉ̀ wú mɑ́ tɑ̀\\' wū mɑ̀ yáá yə̄ə̄ nkìnkèn yāā ngɑ̌ nɑ́\\' njáhsí pèn lhú/dhú ghòōmvʉ̄ɑ̄ nù lɑ́ mɑ̀ntōk ā tɑ̀\\' kʉ̀khʉ̀ɑ̀ mɑ̄ngāā kʉ̀khʉ̀ɑ̀ mɑ̄ngɛ̄ɛ̄ mbə̀\\'mbə̀\\'/mbè\\'mbè\\' cà\\'sǐ kwèēngə̀\\' mbɑ̀ fà\\'á ndé\\' mvī nkám ncò ntɑ̄\\'sī pɑ́\\' ngɑ̄\\' nzhìndʉ̄ɑ̄ mǔ\\' nù\\' ā wǎ\\' sên nàk nā í kòngā\\' ī zě\\'è ntâmnkòò (pl pɑ̌ntámnkòò) mvâ\\'nkà\\' (pl pɑ̌mvá\\'nkà\\') zʉ̌\\' mɑ̀ndóm ā tɑ̀\\' sʉ̀sɑ́\\'mōh fhʉ̄ sáá ndó mfʉ̀ɑ̀wèn mó\\' wū zābsī ndɑ̀ɑ̀ lɑ́ nɑ́ nkǒ\\' yāā nāk báá mvàk lɑ́ ngà’mbhǐ à shʉ̀ɑ̀yɑ́’ nzhînù ndə̀ə̀wɑ̄ mbōòwèn ndéndēē nzɑ̌ yá’ sēn pǎtnjǎm mbèě pèn tɑ̀ wāhà ndó sīē nsɑ̂\\'tūsě\\' hʉ̀ɑ́ pè\\' yōh tɑ̄ yáá sìànì yáá těn nkɑ̄ɑ̄ dhù ngén ndōō yǐ sēn ò ǎ tóh hǎm pɑ́\\' pʉ̀pɑ̄\\' lɑ́ ǎ kúɑ́ tɑ̀ njām pěn còh ngʉ́ ǹ dɑ̀\\' lɑ́ghʉ̌ pìì nēhé nɑ́ làksì làh ngʉ́ yáá yàh nù lɑ́ còhsì mfēn ntúlōh yá\\'ndāk ndák nkhʉ̄ɑ̄ ò mɑ̌ ntā\\' pù\\' ò tā\\' yò wà\\' ǒ mɑ̀ngén mɑ̀ hɑ̄ ǒ ngén mɑ̀ hɑ̄ mɑ̄ á mbə́\\'nthʉ̄ ntò nkwēn ǒ ngʉ́ kɑ́ ndìà bô pū\\'nkɔ̀ bì tètéé nò\\' ghʉ̀ nsɑ́\\' pó ndáh nzɑ̄ wúzɑ̄ nshì lɑ́ mɑ̀ndə́b njǎb wùɑ̀ nzhwīē à lɑ̀\\' záknjǎb à sə̌ pāp sī mbú à bɑ̄ ngɑ̌ fhʉ́nsɑ́\\' fhʉ̄ (tɑ̀) ntìè\\' yáá kònjā\\' ngwɑ̀fʉ̀ɑ̀ mbə̄ə̄ mēmmɑ̄ ò pèènēhē yāā bɑ̌ fà’á cīcō’ò ò lɑ̄’sī ā sìēmbʉ̄ɑ̄ lɑ́ ǎ ghěn njàbndʉ̄ɑ̄ njīī nù yáá yá\\' sī mó\\'mvàk wɑ̄ béè mbʉ̀ɑ̀ mō à sì\\'í nkə́\\' mfɑ̀\\' bɑ̄ mbɑ̀ pèn nɑ́ téhwū pí shwǐ\\'wū yàā bɑ̄ ngɑ̀\\' nshʉ́ɑ́ mò\\' ngɑ̌ ghʉ̌ tɑ̀\\' sēn yì mbâ\\' pí tɑ̀\\' sēn yì mʉ̀nzhwīē pɑ́\\' ntōō nā ndʉ̄ɑ̄ndāmɑ̀ ŋ̄h ngɑ̌ kwě\\' náhnshì tɑ́\\' ǹ kɑ̀\\' zhī làh nnāhnshì nkhʉ̀ɑ̀ mfɑ̌\\' ndēn sì\\' mɑ́ á cāhsī ngɑ̌ mɑ̀ncə̄ə̄ ndɑ̀h yì ngɑ̌ mbīē lɑ́ ghèn nníɑ́ɑ́ nā ó pɑ̀h shʉ́ɑ́ ǎ mɑ̀ntɛ̄ɛ̄sī mɑ́ ǎ mɑ̀nzhī\\'sī wū hɑ̄ njâksì mbìyā\\' lɑ́ mbú à nɑ́hsáhwū ǒ fì yáá mɑ̀ndám pó lí\\' tōm ndʉ̄ɑ̄ mbàk mɑ̄ndō mbɑ́ yáá lɑ̀ bɑ̄ ndéndēē ndhī fə̌h ngɑ̌ mɑ̀nkáhsí pó mbí mɑ̄vǒ ǎ ghʉ̌ mbə̀\\' nshù ndhī á pī\\' nshʉ̄ɑ̀nshì yéhwèn tómyíízʉ̌\\' kó\\'sīē ngɑ̌ yíí hǔ yāā zɑ́hfāk ndì à ngè\\'è nēhē ngɑ̌ làh ntʉ̄ɑ̄ mɑ́ nkātlɑ̄ mbīī nī nɑ́tū nìɑ̀ɑ̄ póózū zǒ pō těh pʉ́ɑ́ nɑ́ kwɑ̀ mɑ̀ yáá mvʉ́\\' lāhā pə̌\\'nthʉ́ mfhʉ̄ tɑ̌ ndʉ̄ɑ̄ nā á pʉ̄ɑ̄\\'sī refuser d\\'offrir qqch ǒ sì īmbát mfɛ̄hsī ā túnǔ béé kwà\\'sì lěn mɑ́ kɑ́ sòh nkéé kònzɑ̄ pǎ\\' làt ntâ\\' mvī ngɑ̌ pén ó tɑ̀ kéémbʉ̄ɑ̄ mēmmɑ̄ ò mfʉ̀\\' thʉ̄ ǒ ìndī\\' mèhsǐ béé sìèsì lè mɑ̀ ǒ zhí mbʉ́ɑ́ làh mbɑ́\\' tə̀\\'sínǔ wèn ntìè\\' yì ǎ tè\\'sì ō mvàk yì ǒ mɑ̀ndáh njū\\' nā ó pó ó lɑ́ dù ngén nshì pó nnēē ngʉ́ tēhsípō tɑ̄ nhóó mfɑ̀\\' kwɑ̀\\' ndéndēē bɑ́ ngɑ̌ lén mɑ́ ngǎ\\' lɔ̀ bà ngɑ̌ yá\\' sōk ō nshʉ̀ɑ̀ wū de ntə̄\\' être en travail ǎ cə̌\\' nkǎb ná à mʉ̀nzhwīē lɑ́ pɑ̄hnthʉ̄ yə̄ə̄ ngɑ̌ mɑ́ tɑ̀\\' nnìɑ̀ɑ̀ mbǔ\\'nkěn-yīīsì/mbǔ\\'nkěn-yēēsì nděn shʉ́ɑ́ nkǒ\\'yíí sāhndó\\' ǎ ìmfhʉ̄ ngù\\' ì agréable journée à toi tū ō pó ndī\\' yèh mfák mbè\\'fōh nnāk fōhsìpè\\' zhínù fhʉ̂vàm nàm vʉ̀\\'ʉ̄ mbūànzɑ́ tōh mbhʉ̄ ncɔ̀ tî mɑ̀ ghǎm (915 pm) ǒ sì kōpō ī sêntēē nǎ dʉ̌\\' wúntēē nà nhə́\\' nthʉ̄ tū ā mɑ̄vǒ mɑ̄vǒ lǎh ndʉ̀ɑ̀\\' mfhʉ̄ kò ǎ kó kāb bɑ̄ ntèn bɑ̄ shwītōk ndhī ō lɑ́ mǒ\\'ntīē yāā tʉ̄ɑ̄\\' mbō ǒ nsī mɑ̀ hɑ̄ cɔ̀ tɑ́ wěn nnū ǎ lʉ̀ʉ̄ nā ì yáá mɑ̀ lāhā mēmmɑ̄ ò kɑ́ shù báá ā mēmmɑ̄ ò mɑ̀’ngwɑ̄’ yáá yā\\' lō ó ndùānì nǎb ndó ntə̂bnàb mɑ̄nnə́\\' mbīēnàb mbā\\' lɑ́ njáhsí ghòò nzhìè làh mbɑ̄ tɑ̀’ ngà’kǎ’ mɑ̀nkō à mfɑ̀\\'ndīēkò pó nsíésí pʉ̄nkhʉ̄ɑ̄ ɑ́ pō zhī wū ǹ jǎt tɑ̄ mɑ̄ mfhʉ̄ kò póá ə̀rōpà mbō ntěn nù mɑ̄ ǹ kɑ̀’ zhī mbé’ntìè’ mbàk lō zé’è má\\'zhínù kɑ́ bɑ́ wū làh ncwáántīē sāā lɑ́ ghʉ̌ shwītōk mbǎ\\'ntām ncə̄ə̄ nshʉ̀ɑ̀yɑ́\\' wū nshʉ̀ɑ̀yɑ́\\' nù ǒ sì sū\\'sī ndhī à dīē nsɑ́\\' pɑ̀h ghén kò kó\\'nshì ngɑ̌ ncōmsī mɑ́ ó lɑ̌’lǐ’ghěn ŋwɑ̀’nì nkwèè fɑ́hnzɑ̄ mɑ̄ngé’ fì\\'sǐ nshǐ těn ngòfāt nkwén ghām vàm nɑ̄h mǐ ǎ kèè pě\\'nzhì ǎ kònhə́\\' ncɑ̀ɑ̀ nkǎk ndə̀pɑ̀\\' pènsínthʉ̄ ngòò lɑ́ sǐ\\' nzʉ̄\\' nʉ̀ɑ̀ nzhī bɑ̄ ngà\\'mbhǐ à ǎ shʉ̀ɑ̀ sì sōk ā nkɑ̄ɑ̄ bò nzhìèkú\\' mɑ̀nkō ā ghāhnshǔ pǎhndàk pōō mbā cīcō’ò pèn sɑ́’ nzɑ̄ wúzɑ̄ lè mɑ̄ngʉ́ zǒ sì\\' fà\\'á lɑ́ lɑ̀hsì/lə̀hsì ā lɑ́ ndɑ̀h/ntìè\\' sī mbú á wāhà fɑ́hnzɑ̄ bɑ̄ ǹ kɑ̀\\' vīāt nshʉ̀ɑ̀pʉ̀ ò ghělɑ́ ò ghēlɑ̄ mìmìè wěn nsə̄ə̄ wū ngwɑ̄\\' hù pàtngə́ə́ lɑ́ cʉ̄cô\\' lǎh sòh ntēh mbī\\' lɑ́ nɑ́ ndhī ò pú\\'ŋwɑ̀\\'nì pè\\'è yǒh wák nshùmbù\\' yì báá nshʉ̄ɑ̀ mbūànzɑ̄ mɑ̂wɑ̄ ndìfə̀ ntábnò\\' ǒ mɑ̀nhá\\'sí ā wèndíndéé ngə́ə́ nùndíndēē mvī ì ně\\' ndʉ̀ɑ̀ mbʉ́ɑ́ nkúɑ́ncò pɑ́\\' nhʉ́ɑ́ nthʉ̄ ā ndhī lě mɑ́ làhā ngɑ̌ cɑ̀’sì ō lɑ́ nsìèsì à nthʉ̄ á kònsát lā ǒ ìndī\\' mèhsǐ béé sìèsì lè mɑ̀ ǒ zhí làh ngə́ə́ mbí wèn mɑ́ ó mɑ̀njā\\'nthʉ̄ lɑ̄ mɑ́ ǒ yá\\'nthʉ̄ ncâkntěn nɑ́ nǔnkɑ̄ɑ̄ zēn zǐ mɑ́ mvɔ̀ndɔ̀ temps conditionnel ngòōndʉ̄ɑ̄ mīā nkwè\\'sə̀mbʉ́ɑ́ ngɑ̌ làh ngʉ́ mɑ́ sʉ̀ɑ̀ nǎm nè\\' wū hwīē hwíé wū ò bɑ̌ mbɑ̀wɑ̄lɑ̄ sáhnù ntìmbhì ncɔ̀ kwɑ̀ pěn pʉ̀ sʉ̄’ʉ̄ hǒ nkɑ̄ɑ̄ ǎ mɑ̀ndə̄ə̄ wúzɑ̄ zé\\' mvāt nzɑ̂nkōmó\\' yāā mɑ̌ngɑ́\\' ò tâ\\' yō túnkə̀ə̀ ngɑ̌ (mɑ̀)ngén mɑ̀ zʉ̌\\'ŋwɑ̀\\'nì \"3 mbàkngòfāt\" ǒ kwě\\' nkhʉ̌nkhʉ̀ yə̄ə̄ pó ndīē ntámndʉ̄ɑ̄ tɑ̀ wɑ̄ zʉ̌\\'nìɑ̀ɑ̀ mēn ì yì mʉ̀nzhwíé nzhīnù tɑ̀\\' yáá mɑ̀ lāhā sēn à yámngwê yééngʉ́ɑ́\\' shʉ̀ɑ̄ wūɑ̄ pō lɑ̀zí ō mɑ̀ hɑ̄ ngɑ̌ fhʉ́ yī nsí\\'sí mbú ò ò pū\\' ntōk ngǎ\\' ngɑ̌ mɑ́ mfɑ̀\\'ndīēkò nɑ́hŋwɑ̀\\'nì ǹ kɑ̀\\' kwé\\' ngʉ̌nù mī njòhnshì njɔ̀nshì ǎ kwát pè\\'è lī ndǒk ì ndʉ̄ɑ̀ pɑ̀ncákmfɑ̀\\' pǎ\\'ndāk ecole primaire nɑ̄\\' nnāk ā ndǒk à ngwǎ\\' mbhʉ̄ ghǎm ǒ sì láh mbīī tēh pó ncōp fʉ̀ ncōp nzɑ̂ngwàà wò bàá régime de bananes ŋwɑ̀\\'nǐvɑ̀h ŋwɑ̀\\'nǐcwě\\'vɑ̀h ghǒh wū pó zǎb njāk ntìē\\' hwīēsì bɑ́ ǎ ghěn ntēē ndǒk ì móhnkɑ̌\\' mbɑ̄ tɑ̀ ntōh nkʉ̀nkwēn tōm yáá nɑ̄\\' mbʉ̄\\'sī pó ngɑ́\\'sí lʉ̀ɑ̀nshì kɑ́ douala lɑ́ sú\\'/thʉ́\\' njò\\'ndāk ncɑ̄\\' mɑ̀ nkhʉ̀ ngāā nà kéénkhʉɑ̄ le roi a abrogé la loi sur l\\'augmentation d\\'impôt autre variante yáá mɑ̀ndē\\' pɑ́\\' nkùɑ̀ lɑ́ pɑ̀nzʉ̂\\'nʉ̀ɑ̀ bɑ́ ncām ngwè\\' pó tòō fāk zǎ lə̀ə̀ zʉ̌\\'mfɑ̀\\' nò\\' kòlə̀\\' pɑ̌h mɑ̀mmóó ndʉ̄ɑ̀mòò pó mbɑ̄ tɑ̀ mfí ndʉ̄ɑ̀ntū ndēn mɑ́ hèè sì zhī mbǎ\\'lòh wǎ\\' mvī ngǎt ntə́ə́thʉ̄ tɑ̀\\' ngɑ̀ɑ́ ghʉ̌ líé\\'nzɑ̄ hə̀ə̄ le bateau aborde déjà la côte còkǒntʉ̀ɑ́\\' mɑ́ mbǔ\\'mbhì yòh mféh mbìyā\\' ngɑ̌ cɑ̀’sì ō lɑ́ mēmmɑ̄ ò nùpɑ́’mbə̄hwèn mvī pʉ́ɑ́ ncā\\'sī túfì í kúɑ́ (cák lò kīkēē) zě\\'è pō sǐ\\' nnə́h wèn pīē bɑ̄ ngɑ̌ və́h ngǎk ngà\\'ghòò zě\\'è cǎt ndhī ó nɑ́ ngɔ̀ndhī zāp ndɑ̀ɑ̀ lɑ́ nɑ́ nkǒ\\' yāā lǎh cōk lɑ́ nkōh ndù\\' ǎ mɑ́ ngwè\\' ā nkhù mbʉ́ɑ́ pó hʉ̀ɑ̄ pè\\'è ncám nkə́\\' tú wèn ndʉ̄ɑ̄\\' ghèn ndēn mbú í mɑ́ cə̄ə̄ ngwāh sì\\' wò bɑ́njwá nkwèè līē\\' pɑ̀nkô nkōmbóngù nkōntā\\' phǐ nthʉ̄ ndáh nkāksī mbèè lò pó kōm ā cwē\\' pó nzáb mvʉ̄ɑ̄ ǎ lɑ̀ má\\' nkwèn ī ǒ cátnòk yə̄ə̄ ǎ nák mbók ntám vɑ̀hnì ā fǎ’nkām sɑ̀’ ndə̄ə̄ wúzɑ̄ lè mbə̄ə̄ mɑ̄ nkùnkū\\' lɑ́ yòk kwɑ̀ wú pɑ̀h ngɑ̌ ngén mɑ̀ pīīlɑ̄ abrège ton discours mfīhsī quasi homonyme nkə̀\\'nì mǎ sí\\' mbɑ̄ wò bɑ̄ lɑ̄ yʉ̄ɑ̄ nkwěn ghám ǹ sī mɑ́ ngà\\'ngèè bɑ̄ ǒ nsī mɑ̀ nɑ́ yǎ cábkò ò ncāt bɑ́ pó nsó nkhǔ wèn ndáh mbīɑ̄ɑ̄ nkhǔ wèn mēn ì yǎt sì tāmngù\\' shwī\\' ngɑ̌ mɑ́ ngà\\'vhʉ̌ nɑ́ zhínǔsɑ́\\'lə̀ə̀ làtlɑ́ nkwēn ŋ̄h ǎ shwíé yī ngɑ̌ pén ó mɑ̄vǒ pɑ̌h kàā nɑ́ yāā lɑ́ tɑ̀ mɑ̄ŋū mɑ̄ngà\\'nshì lú\\' nàh nzɑ̄ wúzɑ̄ ghòó zɑ̀hsì ī tɑ̀\\' ǒ zhí nàh nnák kǒ\\'njā\\' á fōh pí fōh ndɑ̌h/ntìé\\' mbú ó wāhà mbūànzɑ̄ ɑ́ ngɑ̀ɑ̀lî\\' ntìè\\' ē lòm mɑ̄ŋū sò\\'njɑ̀ɑ̀ mvʉ̄ɑ̄ yǒh yə́b tɑ̀\\' ŋōm nɑ̄h mǒ tɑ̀\\' mēnìá\\' cópntíé nā ń dǎh yāā ghèn njēē mbōòwèn ǎ yú’ tū í nā ngɑ̌ pén yēē pōò mbā kwēn ndʉ̄ɑ̄ ǎ táásí mbɑ̄\\' ā ngɑ̌ mfhʉ́ pɑ̄’ tū ā tɑ̀\\' thʉ́ pǐh těndʉ̄ɑ̄ věn yá\\' mɑ̄nzɑ̄ ā ǎ mɑ́ mbɑ̄\\' ō yòk sə̀ə̀mbʉ́ɑ́ lěn pūh ò khʉ́ɑ́\\' wū tɑ̀ yāā sēēsî mɑ̀ pó ndēn mɑ́ ǒ cwéé wèn yɑ̄ɑ̄ mɑ́ yáá fà\\'á ghèn mfɑ́\\' nɑ̄h wúzɑ̄ lɑ́ ntám kā\\' cōp mfěn ndhī ō lɑ́ nsìèsǐ sìèsì yōh zě\\'è tɑ̀ tɑ̀\\' nzhwīèfʉ̌ mbɑ̄ tɑ̀ mfák lɑ́\\'kām pō lēn mɑ́ á sě\\' kām ntē\\' ntám nkwèè lɑ̄\\' mɑ́ « kám pè\\' » ngǎtntē\\' ǎ kwě\\' shwītōkndɑ̀pɑ̀\\' tɑ̀ kēēmbʉ̄ɑ̄ sīècɑ́\\' mbɑ̄ mɑ́ fà\\'á pí mbè\\'nthʉ̄ tōk tɑ̀\\' mbōk mvàksìsāh ngà\\'mfɑ̌\\'ndʉ̂\\'nshì ngà\\'mfɑ̌\\'nshì ghòō nzhwīē à kɑ̀\\' ghɑ́\\' ghòō nzhwīē á yàh wǎ\\'ŋwɑ̀\\'nì ndāmɑ̀ mʉ̀ bɑ́ ǒ sì cə̄ə̄ pɑ́ ń dɑ̀ īmbát mfēnsī béé yā\\' lè nzhī sáhnù ntìmbhì vʉ̄’ʉ̄ těndʉ̄ɑ̄ ó mɑ̀ lāhā j\\'ai accompli sa volonté làhndó zě\\'è ntēē nò sens figuré mbǎ\\'ntāb à ngɑ̌ kə̀\\' ō tɑ̀\\' ghāk pè\\'è à sǐ nkə́\\' mfɑ̀\\' bɑ̄ fʉ̀ɑ́ tām zɑ̄h ī nzhwīē ó mfɑ́\\' tɑ̀\\' yāā kù\\' ǎ fám nshì nkūɑ̄ fà\\' pó fɑ̌h nù lɑ́ lə̀ə̀ làhntō\\' zě\\'è ngɑ̌ ngʉ́ cákngǎ\\' nɑ́ ghə̀ə̀ ncát mēn ǎ mɑ́ ntâmndhī ntō\\' làh nhɑ̄ ntɑ́h mbú ì mbɑ̄\\' shwǎ\\'tīē bɑ́ nhòò kǎ\\'mfɑ̌\\' sāhndó\\' fī lè mɑ̄shìè mɑ̄sə̄h nzhwīē ó ghʉ̌ mbè\\'nthʉ̄ tɑ̀ kēēmbʉ̄ɑ̄ ɑ́ hǎ\\'mbàk vīāt lō cʉ̄cō\\'ò sɑ̀\\' nsén nkòò nà lɑ́ yɑ̄ɑ̄ pɑ́h ì lɑ̀kə̌\\'ní mfhʉ̄ mōōtīā kìkén tʉ̀ɑ̀\\' tèèsí tʉ̀ɑ̀\\' lǎh bê ǒ bî nsǐmbá\\' nēn ntáb ngǎ\\'nā ì pʉ̀nǒk fhʉ́ tɑ́\\'ntɑ̄\\' nsɑ́\\' báá pɑ̌\\'ghə̀ə̀ lɑ́ sī nɑ́ mbʉ́ɑ́ yāā bɑ̄ ngɑ̌ mɑ́ mfènmbɑ̀ɑ̀/ngwààmbɑ̀ɑ̀ pʉ̀mbèè nshwīīsī ntīē ǒ sì īmbát mfāhsī ā mbù\\' vàp ncátmbèè yáá lɑ̀ bɑ̄ fà\\'á nǔkɑ́ sáhnù ntìmbhì 55 ǹ kɑ̀’ zhī mbé’ntìè’ ǹ kɑ̀\\' zhī zǎ (bɑ̄) nnìɑ̀tòòndāk mmɑ́\\' pò\\' sə̌wèn sī ntìá nɑ́ pō bɑ̄ kō\\' kè\\'è sák mɑ̀mfūā njâ\\' njɑ̀ɑ̀ nkók ndù\\' kǎmsʉ́\\' mɑ́ tɑ̀\\' ghɑ̀\\' njɔ̀nshì ndʉ̄\\' lɑ́ kònnīī pɑ́\\' tɑ̀\\' lɑ́ ntìē\\'ghə̀ə̄ tōh mēndɑ̀\\' ntìē\\' tōh mēndɑ̀\\' nzhwīē í ghʉ̌ tōh ngɑ̌ tʉ́ɑ́khǔ nɑ́ báá nù lɑ́ nkǒ\\'yēēsì sǔ kòlə̀\\' nshǔ\\' tú ó mōō lɑ́ fīhsī ngà\\'mbhǐ ì tɑ̀ à ghê\\' mɑ̄ à pōō mbǎ kǒh cǎk tìì ǎ və́h nthínā lǎh ntìé\\'è ǹ kɑ̀\\' yīī nī bɑ̄ shʉ̀ɑ̀yɑ́\\' ncâkngà\\' en abrégé shʉ̀ɑ̀ncâk ndɑ̀\\'ndɑ̀\\' mɑ̀ nzɑ́ lēē yáá mɑ́ túfhù làh ngə́ə́ mbí mbɑ̄\\' pí mɑ̄ ā wèn sì nkù\\'nì ngɑ̌ mfɑ́\\' ndǒk à nkwèèzʉ̀\\' làh nzə́hsí wěn mɑ́ nàh nzə́h wú mbú í ncámncām c\\'est accompli mbɑ̀ mʉ̌ ncōmsī mɑ́ ó lɑ̌’khʉ̀ɑ̄ ŋwɑ̀’nì yə̄ə̄ mbɑ̂\\' wèn njàm mɑ̄ mēmmɑ̄ mɑ̄ yì mbâ\\' sī mvʉ̄ɑ̄ bɑ́ bɑ̄ nə̀ə̀sìmɑ̀\\' bɑ́ pó njéh pí kɑ́ pó yɑ̄\\' ncà\\' bô pɑ̀ŋwātlɑ̌\\' néé ncə̄\\' tɑ̀ ngóó mvʉ́ɑ́ mɑ̀ hɑ̄ ǎ yɑ́\\' mbhǐ ì tōm yòh tómngwè\\' yòh kǎmnkwèn ǎ lààsǐ ndhī ì nb mbə̄ə̄ mēn à ca᷅mnà’ pó ngwāh khʉ̀ɑ́nshìè sì líé\\' vhʉ̄ lēē cwé\\' mfhʉ̄ mɑ̀ nɑ́ lē\\' ndʉ̄ɑ̀lə̀ə̀ pɑ̀h lɑ̌\\' sì ngʉ́ fà\\'á yòh tə̄h pǎtzén nsìèzʉ̀\\' pǎtzén ndɑ̀\\'sì ngə̄ə̄ yāā sī mɑ̀ntāb ā bɑ̄ ǒ ndə́h nù tɑ̀\\' ǒ sì īmbát nnə̄\\' pō ō ndé\\' ngén kǒ nɑ́ nàm tāā ndē\\' mǒhshʉ̄ɑ̄ wèn lɑ̀\\' shīī mōō sì fīī pō ī mɑ̄vǒ/ mɑ̂ wɑ̄/mɑ̄ ō [mō ō] ŋɑ̀\\' mō mbɑ̀ɑ̀ ngràfī pɑ̄ngràfī nìnǐ mbūànǐ lɑ́\\' pɑ̀mfí\\'kè\\' nshì béé kɑ̀\\' pé\\' mbʉ́ɑ́ nū yáá kwɑ̀ mbā\\' lɑ́ mbɑ̄hnthʉ̄ yə̄ə̄ le chien aboie l\\'étranger ncwén nā nshwí kòmmú\\' ò lěn mɑ́ pʉ̄nkhʉ́ɑ́ kūɑ̄ nthí làh ndēn mɑ́ pʉ̄nkhʉ̀ɑ́ kwɑ̀ ò zhī mɑ́ ó tɔ̄ɔ̄ ghə̀ə̀ zhínǔmfɑ̀\\' túfì ó yá\\' lə̄ə̄ndʉ̄ɑ̄ ɑ́ ŋúnzɑ́ ngǔ\\'nzɑ́ mɑ̂ ǎ lʉ́ɑ́\\'sí lʉ̄ʉ̄ il est responsable de ma chute ŋōmsī nɑ̄h mǒ cwá\\' mbìyā\\' nhɑ̂làksì pō lɑ̌\\'lēn mɑ́ wěn mbēh tɑ̀ mɑ̄nsíí kwēn pō tʉ̄ɑ̄ í nɑ́ ngʉ́ngà\\' à cwēē nsìnsìì ǒ ghʉ̌ mbʉ́ɑ́ lēn fà\\'á níát fōh mbʉ̄ɑ̄\\' ncǎ\\' khʉ̀khʉ̄ɑ̄ ǒ sì īmbát nnē\\' pō ō ǎ cák ncà\\' pō zāb ī à fī\\' mɑ̀ ndàk lì pə̌tèn ngénɑ́ ndhī á ghʉ̌ lěn ngámnū ngɑ̀ ghʉ̌ (ǹ ngʉ̌) nkɑ̄ɑ̄ mɑ̀ ngɑ̌ ndə̄ə̄ndʉ̄ɑ̄ ngɑ̌ mɑ̀ ndʉ̄ɑ̄ yīīshǐndʉ̄ɑ̄ yáá tōh ndhʉ̀ yáá tōh fʉ̀ɑ̀\\' yáá yɑ̄\\' nkɑ̄\\' ǹ jǎt kòmbīɑ̄ bō lǎh zě\\'è zāk ǒ nját mbéé mɑ̄ ē é ndū ī sǐ\\' nkwé\\' ī mbɑ̀ nèhē bɑ̄ ngwè\\'sìtē\\'kə̄ə̄ nzhì bǎ pʉ́ɑ́ ncō mbhǐ síì lì mbómsí sʉ́\\' mfɑ̀\\' cōh nɑ́ nkhʉ̀ lɑ́ tìtèn ngà\\' ghéé mɑ́ ngà\\' ndə̄\\' nù zǒ ndǒm à tɑ̀\\'/ nù zǒ nɑ́ à tɑ̀ mbʉ́ɑ́ lɑ̀ bɑ̄ ngòò lɑ́ mbɑ̄ sì\\' hútèn ngà\\'vʉ̀ nsòhnkā\\' thʉ́ shʉ̄ɑ̄ bê kɑ̀\\' sə́ə́ ngǔ\\' è yōh pɑ́h í pə̌p ntēē ǎ ghá\\' nkwèè ngʉ̌nù mī mvʉ̄ɑ̄ í cāh ǎ kòmfɑ́\\' kò sáhnù ntìmbhì 38 ngɑ̌ mɑ̀… mbīē ndə̀h sáhnù yì béè sīī wū lɑ́ hɑ̄ òzhɔ́ɔ̀ mɔ̄ɔ̀\\' yàâ mɑ̄nʉ̄\\' ò zhɔ́ɔ̀ nə̀ə̀sìmɑ̀\\' yǎà ntē ò zhɔ́ɔ̀ mbə̄lòknshì yǎà mɑ̄nʉ̄\\' yǎà wūsìpə̀\\' ò zhɔ́ɔ̀ pí ŋwá\\'nthʉ̄ pūānkhù mī ngɑ̌ ghʉ̌ mbǔ\\'nkèn líé\\'cə̂bsì pɑ́h ó kɑ̀kɑ́\\' ɑ́ ghòōlə̀h càhsì sê yǐ làh ngʉ́ kɑ́ bɑ́ ɑ̄ hɑ̄ yì bǎ mbú à yāā pòó sīē nkwā\\' nzēn ntʉ̄ɑ̄ tʉ̄ɑ̄ ǎ pěhmbhì ngénɑ́ ntìé\\'è mvàk yì yáá ncāk mɑ́ wèn ghʉ́ zū pí njɑ̀\\' lɑ́ ghɑ́\\' ngòfāt ngɑ̌ yá\\' mèhsì sə̀mbʉ́ɑ́ mbēēsī ntòhō ndé\\' hè\\' pǎ\\'mvāt fā\\' ŋ̄h ngɑ̌ zɑ́ wū/wúzɑ̄ ngɑ̌ mɑ̀nkə́\\' mbɑ̀ɑ̀ kòm báá ghòòbɑ̌ ná ò ngɑ̌ lóm lām zǎ pí pɑ̀h nsìèsǐndʉ̄ɑ̄ lə̀ə̀ hɑ̄ nzhì ǒ thʉ́ nzhwīē í zǎk njǎm ì ngáp mɑ̀ncōhsī ngòfāt mbɑ̂\\' mìènjēē kǒpnā ngə̄\\' tɑ̀\\' tɑ̌hpō lɑ́ ngà\\'mbhǐ à ngɑ̌ ngén mɑ̀ wú sēn à ǒ sì láh ā ngʉ́ mēn ò à sǐ\\' njīīsī bɑ̄ pè\\'è lě mɑ̀nhwīsī yáá mɑ̀ntōk ā tʉ̄ɑ̄khǔ nɑ́ ndʉ̄\\' lɑ́ yáá mɑ̀nkhʉ́ɑ́ yə̄ə̄ ngɑ̌ hèē nù ǎ mɑ́ tɑ̀\\' nnûndɑ̀pɑ̀\\' ghèn njēē ghǒh pɑ̌lɑ̄\\' ntúntū\\' ncîcāt ǹ jǎt sì mèh tɑ̀ ndéh mbɑ̀ ncô\\'ndù\\' nzɑ̂ sì zʉ̀ɑ̀\\' lɑ̄ ngʉ̄ɑ̄\\' mvʉ̄ɑ̄ ně\\' mbhʉ̂nʉ̀ɑ̀ mɑ̄ndɑ̀\\' m̀ fhʉ̄ ǒ sì wāh nzhʉ́ɑ́ wò bɑ́ yà cátncò nshù\\'ngə̀\\' nshù\\'ngwè\\' de mbéé mbèè ngòò lɑ́ cǎm ndʉ̄ɑ̄ ndômnsì pʉ̀pɑ́\\' mbǎk kòndʉ́\\'sí nzɑ̂kòm ò kɑ̀\\' shú\\' nshù ō shwītōk ghòò sôhntèn ngà\\'mfɑ̌\\'nkàb ngɑ̌ pén ō sòm mɑ̄vǒ mbə̄ə̄ mɑ̄ ntēē nǎ kònnák pə̀pē\\' si le chien aboie ne fuis pas tɑ̀\\' cwá\\' shʉ̄ɑ̄ ngá\\' tōō ngɑ̌ nkwé\\' ngà\\'njǎm ò yì mʉ̀nzhwīē tɑ̀\\' ò mɑ̌ ngén fhʉ̄ wɑ̀’ mɑ̀ ncà’ sī wū bɑ̄ mɑ́ mbɑ̀ nǔ kɑ́ bɑ́ ɑ̄ ngòòndóm nkwé\\' làh nshísí nā í nɑ́ wèn sǎtnɑ̄h tō nɑ̄\\' lɑ́ ǹ dɑ̀ghú ō nsī ntām ngù\\' tɑ̄ ndə̄ə̄ mō nù mbə̀pə̄\\' sǐ\\' mbīē bɑ̄ ǎ tέέsí mbɑ̄\\' ā nnɑ́h wèn pō ǹ sī ìmbɑ̄ cà\\'sì bɑ̄ ntʉ̄ɑ̀\\' nkwàà mbè\\' wú mbɑ̄ sǐ\\' nshʉ̄ɑ̀ kò à fǎt pó ndáh càkàlà nshʉ́\\' vʉ́ nshʉ̀ɑ̀sə̀b pó ghòō fə̀ ngɑ̌ kwà\\' mɑ́ ngɑ̌ ìnkūɑ̄ hɑ̄ zʉ̀\\' ʉ̀ pō sǐ\\' ncīī ngāp mɑ́ líé\\' ntēē bɑ̄ yòò mbɑ̄ ó mɑ́ ngà\\'mfɑ̌\\'ntǎ\\'ŋwɑ̀\\'nì ngɑ̌ zɑ́pìī ncɑ̂\\' mbɑ̄p túfù zǒ mɑ̀nkō ā mʉ̄ɑ̄ngāp bíí kòmfʉ́ɑ́ mēndɑ̀\\' à yɑ̄ɑ̄ mbòm nsɑ̂\\'ngə̌\\' ghə̌ nù pō ghɑ̄\\'sī ī pó wāh lī tɑ̀ ntāb kʉ̀kǎh sí ì ń njǎ\\' tō\\' mbɑ̀ ǒ zhí ndíndēē é ngǎ\\' ngɑ̌ mɑ̀nkwá\\'nkwà\\' ǎ kómnā ì mōōmʉ̀nzhwīē ngɑ̌ mɑ́ ngà\\'vʉ̀ ndù\\'mbìè ngɑ̌ ngʉ́ cákngǎ\\' nɑ́ ghə̌lɑ̄\\' njàmkò ǎ mɑ̀nzhī\\'sī làh nnāhnshì ǒ sì īmbát nhə́\\' nɑ̄\\' yáá mɑ̀nshʉ́ɑ́ ā tɑ̀\\' ndêhntèn nshʉ̀ɑ̀yɑ́\\' nzhînù/nshʉ̀ɑ̀yɑ́\\' ncâkngà\\' ǎ mbá\\' pɑ́\\' ngènɑ̌ nàm lɑ́ zhî\\'sǐ mfɑ̀\\' ndə́ə́ pɑ́\\' wùwùɑ̀ lɑ́ ǒ mɑ́ nshwìè mʉ̀nzhwīē é sī’njǎm à bɑ́ nsíésí wèn làk j\\'aurais dû m\\'abstenir mɑ̄vǒ kàh lā zě\\'è ndɑ̀ɑ̀ mǎ mɑ́ nzɛ̄ɛ̀nzhʉ̀ɑ̀\\' ôhó mbɑ̌ mēn à nshwīī ntīē póá āfrīkà pɑ̌nèé nnēē pʉ̀ sák mfūā pí mbɑ̀ɑ̀ mī ɑ́ nshʉ̀ɑ̀pʉ̀ sīē cáhsí ō lɑ́ mbɑ̀ mó\\' fà\\'á mbàk lō kāhā nù lɑ́ pàtsì ā ǒ və́h yō ò nzɑ̄ njò\\' sòhnsə̀\\' nkhùmbʉ́ɑ́ ngɑ̌ zhí nàh njɔ́nshì ò shwìé nī mbɑ̀ lāhā lɑ̄ nsí\\' ndáh mfɑ́\\' bɑ̄ mɑ̀ yáá nsɑ́h wɑ̄ bɑ̄ ncɑ̀ɑ̀ bō ō mǒ\\' wěn lí\\' vā\\'sī ā mò\\' mɑ̄nzhʉ́ɑ́ wúzɑ̄ ā ǎ shìsì ā pɑ́\\' mvʉ̄ɑ̄ lɑ́ shī njǎm nɑ́ zʉ̀\\' yì ǒ mfhʉ̄ nā lɑ́ sóh mɑ̀ncēnsī ā ǒ sì lɑ̄\\' nsāh nɑ́ wèn sə̀ə̄līē\\' ghèn nthī mbà\\' nhɑ̄ mbú á ḿ fāt kǒh zhìndʉ̄ɑ̄ dìdìì verbe ngʉ́ɑ́\\' ngʉ́ɑ́\\'sí ǒ shʉ́\\' yáá hɑ̄ mvī ò à sǐ\\' njēēsī bɑ̄ mbōō nshwí sīē pō á fʉ̄ɑ̄ sēn ǎ mɑ́ nkōòtū fóh mɑ̀nkō ō ó nì ŋwɑ̀\\'nǐ mɑ̀mbátnjàm wāhà nkɑ̀sǎ téh zúntēē mfʉ́\\' sīē pó làh mbát lō ó mɑ́ mbɑ̌ mēmmɑ̄ ò kwàá mɑ̀ hɑ̄ wɑ̄ bɑ́ mɑ̀ntām pí wɑ̄ ngɑ̌ gháá lō ó sə̀ə̄līē\\' nǔ mìē nshǔ à ghə̀ə́ mìē nshǔ à njāk ǒ mfhʉ̄ mɑ̀ kǒ nɑ́ nàm sʉ̄’ lè ǒ sì ghén ndáh sínǔ lə́ə́ndʉ́ɑ́ mēmmɑ̄ è mbī\\'tū mɑ́ sī nkwèè lə́ndʉ̄ɑ̄ bɑ́ mbɑ̄ mbʉ̄ɑ̄ shʉ̀\\' bɑ̄ oligarchie tɑ̀\\' shwí tàm ngɑ̌ pén lɑ̀hsì/lə̀hsì zō tɑ́\\' ǒ sì īmfʉ́ɑ́\\' ngé\\' nzhʉ̀nzhʉ̀ɑ̀ nthʉ́ ŋāāsī pè\\'è mbóm mbə̀’mbə̀’ mbūànzɑ̌ mbú ó lɑ́ mēn à mbā\\' lɑ́ mɑ́ tɑ̀\\' sìpūānkhù tɑ̀ ǒ sìē nkèn ā mbǎ à shck ca᷅mnǎ\\' mɑ́ tɑ̀\\' mfɑ̀\\'ndīēkò nùkō\\'vàm nnīātsī ǹ sī nshùnshʉ̀\\' pí wò bɑ̄ kɑ̀cák píé mbɑ̄ pīē sì ngwāt ngɑ̌ mfɑ̄’sī mɑ̀ngén mɑ̀ ndʉ̄ɑ̀sīē kwɑ̀’ túnā ó ngén yǒ mɑ̀ hɑ̄ zhínǔsīēngə̀\\' ghèn ndə́bsí nɑ̄\\' ngǎ\\' fǎm mfʉ̀\\' ŋ̄h ngɑ̌ zhí hə̌\\' ntʉ̀ntɔ̀ yééntēē ex ywát tām ngàpngàp ǒ mbōh mvʉ̄ɑ̄ ɑ́ nnə́\\' kwēn fǒp pō ǹ kɑ̀\\' zhī zēn zǐ mɑ̀\\' í nzɑ̄ ǒ sì nák nɑ́ ngɑ̂\\'nzhì pōō mbā pèn mɑ̄njū\\' ghə̀ə̄ sīē pó mɑ̀mmóó ndʉ̄ɑ̀mòò zēn zǒ mɑ́ wɑ̄ mǒ\\' ghɑ̀\\' nù kɑ̀\\' tōm mbə̄ə̄ lɑ́ mbɑ̄’ ō nzhìɛ̀wɑ̄ ngɑ̌ cɑ̀’sì ó lɑ́ mēmmɑ̄ ò nǎ’mbū’ ngɑ̌ zàb ī mbī\\'tū mɑ́ á kàm ā yɑ̀\\' ā mvāt lɑ́ ghāhnshǔ pǎh kè\\'è ghàtsǐ nā ō zǎb nā ò ngɑ̌ ghʉ̌ tɑ̀\\' ndʉ̄ɑ̀wúzɑ̄ lí\\' fīnjòò mɑ̀ ǒ pén nhèè mō ndéndēē ǎ pʉ́ɑ́ zhínù zǐ kóh pɑ́\\' nthínā ī lɑ́ mɑ̄ pěn nnāk nə̀ə̀ ə́ ngà\\'mbhǐ á ncōhsī pʉ̀ tɑ̀\\' cwààsí nkà\\' nkɑ́\\' wūɑ̄ nkɑ́\\' lěwūɑ̄ fùfùá táb nzhìndʉ̄ɑ̄ làklǎk pè\\'è zʉ̀\\'ngʉ̄ɑ̄ ǒ sì īmbát nzí ā kʉ̀kàb nzhì nsɔ́nzǒknkhǔsíé thʉ́mbǎ\\'ndāk hʉ̀ɑ́ hwàà mbè\\'mbè\\' mbūànzɑ́ mbú ó lɑ́ sēn à kɑ̄lāk tāā ndát ndɑ̀hnù pʉ̀nǒk yə́ə́ ndòm sīècɑ̄\\' è cīcō\\'ò mbɑ́ ó ghə̄ə̄ ndɑ̀\\'ndɑ̀\\' ɑ́ nkwāt ntē\\' ǎ mɑ̀mmóm nshì mbǎk cwɛ̀ɛ̀ mfìmfì mǒ mɑ̀ndám ǎ mɑ̀mfhʉ́ tōk mēn ì ǹ sī mɑ̀njū\\' wū yì ǒ mɑ̀ngə́ə́ lɑ́ bɑ̄ autocratie ncə́\\' cə̄\\' ī ngɑ̌ kɑ́ɑ́ mǒ\\' nkò\\'nkò\\' shʉ́ɑ́ndāk ǒ sī mɑ̀ nɑ́ yàā lǎkpè\\'è ò lɑ̀lə̌ndʉ̄ɑ̄ sēnɑ̄ ɑ̄ ngòò lɑ́ pè\\'njɑ̄\\' ǹ sī yǎt mɑ̀nzhī\\'sī sə̀ə̄wū bɑ̄ pɑ̄ɑ̄sī hǔ làt ndáh mbō nsā\\' wɑ̄\\' yāā nǔ mɑ̀mbə́\\' ā zén mɑ̄ é mɑ́ wɑ̄ ngɑ̌ sǒ sīsī shʉ̀ɑ̀\\' nshwìàtāk ngɑ̌ mɑ̀ zʉ̄ʉ̄ ghǒk nzhì pó làt ngɑ̌ mɑ̀njū\\' mbè\\' ngɑ̌ mɑ̀njū\\' nā à pə̀pē\\' sə̀ə̄wū sī mɑ̀ngát lā bɑ̄ njók nī yáá mɑ́ shʉ̀ɑ́nù mɑ̀ mbɑ́ wěn lɑ̀ pēn wò lɑ́ sǐ\\' pǒh nù ǎ tám tɑ̀ mmɑ́\\' pòm ntìè\\' ē lòm mfɑ́\\' nkwèè ndɑ̌h mfɑ̀\\' těnvàm těnvàp nsɑ̂\\'ngwě\\' fá\\'sí ghə̀ə̀ ntām vhú nkòó wèn pō sǐ\\' ncēh zén ngōm sū\\' bɑ̄ mbōh mbʉ̄ɑ̄ à lə̄b wèn yə̄ə̄ lɑ́ nsóh ndhī zʉ̌\\'ntē\\' mó\\' pʉ̌ nkə́\\' nkɑ̄ɑ̄ tɑ̀\\' ká\\' wèn ká\\' wūnēhē nhɑ̄ ndìì ǒ sì mɑ́\\' mbǎ\\'zə̄h ó sê mbʉ̄ɑ̄ɑ̀zʉ̀\\' nshìē kòb cō\\' ndhī ò mbǎ\\'vʉ́\\' mɑ́ nnìɑ̀ɑ̀nsìnsìì tʉ̄ɑ̄ nzhìndʉ̄ɑ̄ lɑ́ ngʉ̄ɑ̄ ǒ còh nzhī nǔsòm ngèn hwīēsì nkwén khʉ̀khʉ̄ɑ̄ mfōh mfìmfì nzìmbwèn mōō lɑ́ njū\\' nù sì fòpsì sǒ ndhī lɑ́ tɑ̄ njīī pɑ̀mfāt yǒnshǐ nkə̀\\'nì fíénzī ghèn nshú’ nsə̀’ mō mēn ǎ ntám lôhnùpʉ́ɑ́ ngɑ̌ yǎ mɑ́ nnè\\'nzhì ndʉ̄ɑ̀kwēn à sī wū bɑ̄ ghʉ̌ yāā kwɑ̀\\' túnā ō ghèn ncwén nā ō tɑ̄ nsɑ́\\' nhɑ̄ nā nhɑ̄ ná nɑ́ wū ywíátwèn ngà\\'mfɑ̌\\' ngōmnà à lɑ̀tə́b vàp wɑ̀\\' nnīātsī nā nshʉ̀ɑ̀\\' mɑ̄ɑ̄ nkə̀\\'nǐ shʉ̀ɑ̄ nkɑ̄ɑ̄ yò nzɑ̌ léé è mbɑ̄’ ō nzhìɛ̀wɑ̄ nzhìīnsè\\' ghèn ntēn nkà\\' lǎh yāā nsɑ́\\' pó ghɑ̀ɑ̀ nnām ō ǒ píé nhɑ̄ ngɑ̌ pén nǔwèn cīcō’ò sɑ̀’ nkōsī ā làh nsóh nkā’ lɑ́ ngɑ̌ lɑ̀ɑ̀sì ō ǎ mɑ́ ndèhsì móó mbí mɑ̄ ā ngɑ̌ pén yēē tɑ̀\\' lǎh còk lɑ́ mbóm mōō ǹ kɑ̀\\' ghʉ́ sə̀ə̄ mēmmɑ̄ ngɑ̌ mɑ́ nshwìè mōō nùsìkɑ̀\\' làh nzɑ̄ wúzɑ̄ sū\\' kɑ̀\\' pé\\' ndə̄\\'pè\\'è mbǎ\\'ghə̀ə̀ ngòngók pʉ̀ kʉ̄kāb à síé fə̀ yáá mɑ̀nhá\\'sí ā nzhwīē ā fā\\' těnpè\\'è pōō mbǒ nkwé\\' nǔ ŋwɑ̀\\'nì í pěn vɑ́h yēē è póómɑ̄ tɑ̀ mbūànzɑ̄ (lɑ́ mbɑ̀) tɑ̀ mbūànzɑ́ è ncābɑ́ nnēē mbɑ̄ sǐ\\' njàbsʉ̀\\' ngɑ̀ɑ̀ncò ǎ fób nshì pàh lōm pǎh lə̀b kàfí yá\\' yōm mvā\\'mvá\\' wèn nə́h ngòfāt se dit aussi de la femme que vous avez sexuellement connu pour la première fois nb ne pas confondre fhʉ́tèn nnâknə̀ə̀ lɑ̀hsì ā mvàk yì ngɑ̌ lí\\' sɑ̀\\' ncōh lɑ́ mbɑ̄\\' kà\\' mɑ̄vǒ kòncēn njɑ̀ɑ̀ nné\\' zhíézhīē ngɑ̌ fhʉ́nsōk ō ò lʉ̂\\' de tōō ǎ kó wúsʉ̀ɑ̀ zā póónsī pʉ̂nkhʉ́ɑ́ nkə́\\' tʉ̀ɑ̀\\' tɑ̀ kēēmbʉ̄ɑ̄ nkâmsīē cǎmndà\\' lɑ̀fɑ́\\' nɑ́ fè\\'éfě\\'è tɑ̀\\' mfɑ̀\\' yə̀ə́ mō ò wēn sʉ̄\\' mbì\\'nù sǎ\\'lòh nkwéé pīē nkwéé nkō\\' màà là bɑ́ nzâknù 31 sìēmbʉ̄ɑ̄ khù á hě\\' nzāt púátàb mʉ̀nzhwīē batterie électrique mɑ̀vǒ mɑ̀nnú\\' njɑ̀ɑ̀ mbə̀\\'nthʉ̄ mʉ̀nzhwīē ndùɑ̀ndùɑ̀ tàbsí làt/tòk mbɑ́ báá nù lɑ́ pīɑ̄ ǒ ìndī\\' mèhsǐ béé sìèsì lè mɑ̀ ǒ zhí làh nsāh nkwèè mbǎh mbèè pí mbʉ̀ɑ̀\\' zú ndʉ̄ɑ̄ nhɑ̄ nkù\\'nì ǎ táb sīē cela correspond en français à l\\'expression lʉ̌\\' pàksì lɑ́ pè\\'njɑ̄\\' ǒ sì má\\' nā ó nā mbát njàm pú\\'ncə̀ə̀ lɑ́ mbɑ̀ɑ̀ sʉ̄\\'ʉ̄ nshǐnə̄h ndèndèè pìh táh mvī pèn shʉ́ɑ́ nkà\\'shʉ̀\\' ngɑ̌ mɑ̀ntʉ́tʉ̀ɑ̀\\' dhù nshʉ́ɑ́ ngɑ̌ ìmbēhsī zēn zǐ mɑ́ mfìènkàk ǒ lǎh báá mfōh ā mfìmfì mǒ mɑ̀ndám nshǐ wūɑ̄ zǐ lɑ̀tǎm ā mbōòpè\\'è nzhwíáh nsɑ̂\\'ngə̀\\' bɑ̌ mbɑ̄\\' shwǎ\\'tīē bɑ́ ntʉ̄ɑ̀ kǎ\\'mfɑ̌\\' sāhndó\\' fī lè cwè\\' pɑ̀mɑ́fə̀ làh mɑ̄ngé\\' wèn yə̄ə̄ kɑ̀\\' pé\\' pɑ̀h pōō nshʉ́ɑ́ túnā sə̀ə̀mbʉ́ɑ́ mbēē ntòhō kʉ̀kǒpnshù ngʉ̀ɑ̀ghā\\' ǒ mbɑ̄ mbâ\\' mʉ̄ɑ̄wú kō\\' nɑ́ nə̄h mǎ fìé nzhì ngɑ̌ mʉ̀nzēnshì ngʉ̀ɑ̀nʉ̀ɑ̀ njókvʉ̄ʉ̄ tɑ̀\\' nkwɑ̀\\' bɑ́ njàmndàk yáá zhʉ̄ʉ̄ mā hɑ̄ ā tɑ̀\\' fôhnì lɑ́ cʉ̄cō\\'ò móó fǐ\\' nsìnsìí kwēn ngɑ̌ mɑ̀ncə̄ə̄ yāā ngɑ̌ mɑ̀ndáh njōknā à yēē pí wɑ̄ lī ǒ pí wɑ̄ lī yēē pí wɑ̄ bɑ́ lī ndáhmfɑ́\\' ngɑ̌ nsī mbèè mɑ̄mfɑ́\\' nɑ́ pʉ̄nkhʉ̄ɑ̄ ngà\\' kɑ̀\\'sì ngɑ̌ pén ō ngòò mɑ̄vǒ tɑ̀\\' mvʉ̀ʉ̀ pè\\'è cōp ndhī ō lɑ́ yáá ncǎhncàh tə̌\\'ndʉ̄ɑ̄ wū nshʉ̀shʉ̀ɑ̀sì pə̄ə̄ tū ō lɑ́ mɑ̄nǐnkò\\' pə̄ə̄ tū ō lɑ́ mɑ̄nǐnkò\\' nshǐ lòmshú\\' nzhì nsɑ́\\' ō ō ō pèn khʉ́ɑ́ pèn khʉ́ɑ́ pǔ\\'ntōk zə́hfāk túmâ\\' zhwìè mɑ́ ghè\\' ngɑ̌ mɑ̀nkə́\\' làh mbɑ̄ pí wò mìmìè nnɑ̄h túfhǔ tú wèn ǒ sì lə́h njàb ndìfə̀ kè\\'è mvʉ́ɑ́ kònté\\' vɑ́hmbɑ̀ɑ̀ sɑ̌\\' pɑ̀h mó khù ō lǒhlə̀ə̀ à kɑ̀\\' pɑ̄hngòò mɑ́ tɑ̀\\' nù báá kòngɑ́\\' yáá yǎhlēē làh njīī/njēē pè\\'é sə̀ə̄wèn sǐ\\' nkwēn tàmfām bɑ̄ lɑ̄ fʉ̀ shʉ̀ɑ́nǔ tə́b tēnɑ̄ ngɑ̌ mɑ̀nkwá\\'sí yáá ntīē sʉ̄\\'ʉ̄ dǔ pɑ̀h shʉ́ɑ́ lǒhnzîsǒ ǒ káákhʉ̀ nŋɑ̄\\' ghòò làh nŋwā\\' nā ò ndhī í ghʉ̌ yàā lèn ǎ zí póónì mfʉ̀ɑ̀zēn njók nsēèwèn yáá yá\\' mɑ̄ndōh sāā lɑ́ ngǎ\\'ngà\\' ndū ó nkwé\\' ō ó nshʉ̀ɑ̀nzɑ́ pə̀\\' mɑ̄ shìè mɑ̄ sɑ̄h mfhʉ̄ ntìè\\' mfhʉ̄ tɑ̀ ntìè\\' ǹ kɑ̀\\' kwé\\' píé\\' nù yáá mɑ́ nǔtúfhù ǒ nséh ā nǔkɑ́ ngɑ̌ sí\\' mɑ̄lèēntēē ǎ nkwé\\' pōō mbǐ tɑ̀\\' yáá mɑ̀nnák zī mēmmɑ̄ ò shwīnāò ntìè\\' ē sēē nsī pɑ́\\' sàp lɑ́ hɑ̄ ā fōhnì lɑ́ mēmmɑ̄ ò ǎ wú sēn ì ǒ sì lēn sə̀ə̄wū mɑ̄nʉ̄\\' nshì nǎb díé ǒ sì kwāh pō ó nɑ́ à ghʉ̀ mɑ̀ ndʉ̄ɑ̄ yò mbɑ́’ mfɑ́’ yǐ mɑ́ kɑ́ pɑ́h á pèn mbhì bɑ́ mʉ̀ yáá ghʉ̌ ngɑ̀ɑ̀ tāā yáá yá\\' ghʉ̌ ngɑ̀ɑ̀ tāā zhǐ\\' nzhìndʉ̄ɑ̄ pʉ̌nzhwīē ncátmɑ̄ŋū tɑ̀\\' hwí pè\\' ngɑ̌ mɑ́ nsìènkèn cō ndʉ̄ɑ̄ pǎ\\'nə̄h ghèn njɑ̄ɑ̄ nkhʉ̌ njǒ\\' sīē pō kɑ̀\\' pēn zɑ̀ɑ́ kwà\\'sì zǎ ngɑ̌ nnāk nə̀ə̀ nkúɑ́ lə́ə́ndʉ̄ɑ̄ póónìá\\' nə̀ə̀ làm ǹ kɑ̀\\' kwé\\' ghēē lěn yâ\\'hwīē mbɑ̂\\'nzhwīē í (ndômsǐ í) hɑ̄ sípè\\'é mbú í ngɑ̌ mɑ́ fɑ̄h mʉ̀nzhwīē móó kòndīē nǔ ghʉ̀ ā lǎb ngwā\\' wèn ŋɑ́\\' ó kə̀mbʉ́ɑ́\\' ì ǒ sì tí kə́\\' tú ì nzʉ̄ nùnùmʉ̄nkhʉ̀ɑ̄ kìkén shʉ̀ɑ̄ ghòò mōō kɑ́ tɑ́ á lɑ̀zī pó zàb yɑ̀ɑ̀ ncò mbī\\'tū mɑ́ pō lɑ̀ sì ghén mbʉ́\\' nǔ yáá mbí pɑ̀mfhʉ́sīē kɑ́ lī émotion mɑ̄ŋū kɑ̀fhʉ̌ mbɑ̄ yà mɑ̀ ngɑ̌ làh njwēn nkwè\\'nì ò ndùāfʉ̀ tóh nkhʉ̀ táànì/tέɛ̀nì mbàtndʉ̄ɑ̄ ŋwá\\'ndhímōh mōō lɑ́ nsɑ́h tɑ̀\\' póópōō pōō yòk pʉ́ɑ́ ǹ kɑ̀\\' kwé\\' ngòòndōm (bɑ̄) ǎ sìà lā mɑ́ nzhǐ kònsīā ǎ tʉ́ɑ́ nǔ tú à ghʉ̀ mɑ́ ghǎt zúzɑ́ kò nshwīsī ò sə̌h wū lɑ́ ò wɑ̄\\' hù yà zén mɑ́ nùpɑ́’mbɑ̄hwèn nshʉ̀ɑ̀sòm njóó nāt nshʉ̀ɑ̀yɑ́\\' ncâkngà\\' ò zhǐ\\'sí wū mɑ̀ ǒ ntōh làksì pʉ̀ɑ̀ lɑ́ yǎhfūā ǒ ghʉ̌ póómɑ̄ ɑ́ ǎ lén mɑ́ ó sɑ̀\\' les leaders du haut-nkam nthíkāā mɑ̄vǒ sǐ\\' mbíésí bɑ̄ ǎ nkə́\\' ngèn nshʉ́ɑ́ kwɑ̀\\' pōō mbǐ nsɑ̂\\'ngə̀\\' bɑ́ pèn zhʉ̄ɑ̄\\' nshù yēē pèn lā\\' nshù yēē wěn mbūāsī nā ì ntìè\\' yì ǎ pūā lɑ́ njɑ̀ɑ̄ vōbɑ̄ mbè\\'mbè\\' líé\\'zí mbú ò mbə̀\\'mbə̀\\' líé\\'nzɑ́zí mbú ò mbǎ\\'ntām à nɑ̄h mǎ mɑ̀nsáh pōōntòhō tɑ̀ kwàŋ fhʉ́ mbɑ̀ɑ̀ sǐ\\' nkhʉ́ɑ́ nī bɑ̄ mbɑ̄\\' (à) yèè mbɑ̂\\' yèè ǹ dɑ̀\\'… ǹ dɑ̀\\' lɑ́… ò sī yǎt mɑ́ mōō bɑ̄ ndhī ō lɑ́ fhʉ̀sì ghèn nsák yāā ncō\\' ngà\\' póá āzìà sīē sǐ\\' ntām ntè\\' bɑ̄ njwēn cɑ̄\\' cə̂bsǐlíé\\'zī cômsǐlíé\\'zī sǒ ndhînkhù mǒ mbɑ̀\\' sɑ̄\\' táknshì nzhìèkú\\' mɑ̀nkō ā njú\\'ní sī ó mɑ̀mbá\\' mɑ̄ndābɑ̀ hom kwɑ̀ lèn nkə̌tēnɑ̄ sēn kūɑ̄ncàk ngwâhnàm yà móó nzhīnù yò mɑ̄ nzhʉ́ɑ́ ghèn ngó\\' zúsóh pēē ǒ mɑ̀nkwé\\' làh nnū tɑ̀\\' wū ú yīī nzhʉ̀ʉ̄ mbʉ̄ʉ̄ nkâbvʉ̀\\'ʉ̄ sáhnù ntìmbhì 33 ghə̀ə̄ nkù’nì ghòò lɑ́ mfhʉ̄ nɑ́ wèn ntāh wèn wěn mɑ̀nkə́\\' có\\'nshù ú ngàp njò\\' ɑ̌ ndè fɑ̄h mbā\\' nhú\\' nshì ɑ́ hà\\' vīāt lō nshʉ̄ɑ̀ nā ntámndʉ̄ɑ̄ ō béè tô\\'ndʉ̄ɑ̄ ō béè ǎ kɑ̌\\' pó fìè ngǎ\\' ǹ kɑ̀\\' ghʉ́ nkhʉ̌nkèn (bɑ̄) kwɑ̀\\' zén nèé mbɑ̄ mɑ́ ndə̄ə̄ sə̌ tə́\\' mvāt sī yǎt ndʉ̄ɑ̄ bɑ̄ ǎ mɑ́ mvā\\'mvá\\' mbâ\\' mǒ\\' khʉ̀ɑ́\\' ntē\\' ò mɑ̄nkwá\\' mɑ́ nzɑ́ léé mɑ̀ nù bɑ̄ ngʉ̌ khʉ̀ɑ̄\\' ngwè\\' ngɑ̌ pén ó nɑ́ ŋāmsì/ghāpsì sí’ mbɑ̄ mōōmbā’ bɑ̄ mɑ̀ mōō mʉ̀nzhwīē bɑ́ le chien a aboyé toute la nuit ngà\\'pèè nò lǎh ghə̀ə̀ zǐ pí yì nǔsīē ncwēh pōō mbǒ mɑ̀ kwɑ̀\\' pōō mbǒ nzhīē ghǎ\\'pèè nō nkə̀\\'nǐ lìànkhʉ̀ mbʉ́ɑ́ hōō mbɑ̀ mbɑ̀ kɑ́ lɑ́ mbɑ̄ mɑ̀ yáá ghʉ̌ ndhʉ̀ mǒ\\' mɑ̄ŋū mɑ̄ŋū yì à lɑ̀tōh lɑ́ ndhí á ghʉ̌ lěnɑ̂\\'pēē tě\\'pō ngà\\'kǎ\\' sěh pō ā yā sî nkwě\\'tìè nkwě\\'ŋwɑ̀\\'nì nját fê wèn ntâ\\'pù\\' ngà\\'ghɑ̀ɑ̀ sì tǒk pō nhě\\' mbɑ̀ɑ̀ póómɑ́ ndū mbɑ̀ mʉ̀ ngɑ̌ cɑ̀\\'sì ō lɑ́ ǎ fɑ̌\\' pə̀pə̄\\' nɑ̄\\' ntēn ǎ shwìī kà\\' ì nɑ̄h mǒ nkò\\' nshù ngáá tām ā lǎh yì ntìā nkǎ\\'sìèsì pó khʉ̄ɑ̄\\' hǔ ndǒm ì nsátlɑ́ péé kàk ā ngɑ̀ɑ̀thʉ̄ khù ó fɑ́h wǎ\\' nù lɑ́ hōō ndáh hwīēsì līē\\' nshʉ̀\\' (tɑ̀\\' līē\\') nshʉ̀ɑ̀ mǒ pɑ́h pō bɑ̄ nkǎb ncò mēn ǎ mɑ̀ngóó shwītōk yāā mēn ǎ ghʉ̌ ghɑ̀\\' ghòò wū shù ntā\\'ntēē ntíéntíé zū cōhsí pɑ̀\\' ǎ kònkə̄\\'sī ngòòmbōk kɑ́ tɑ́ ó mɑ̀nkə́\\' làh ngʉ́ ntìé\\'è mbòōkò kɑ́ bɑ́ lī ǒ mbī\\' yə̄ə̄ pó ncóh ncō\\' mfɑ̀\\' mō ó nɑ̂\\' mbìyā\\' ngʉ́ nkō\\' nníɑ́ɑ́sí nā wèn ò bɑ̌ sīècɑ́\\' è nsí\\' nsɑ́hnthʉ̄ bɑ̄ mɑ̀ ǒ nkūɑ̄ wɑ̀\\' shʉ̀shʉ̀ɑ̄\\'pō lōm pɑ́\\' ǹ ntō ó sáá mbɑ̀ kàmèrûn lɑ̀kó dìpʉ̀ɑ́ nɑ́ ngù\\' 1960 ôhó mbɑ̀ mbūɑ̄nì bɑ̄ mɑ̀ pèn zhìēnzhì yāā pɑ́h ō ò wā túnù sī nɑ́ ó tɑ̄ nkōh bɑ̄ ǎ nnū nshì pɑ́\\' tóónkòò lɑ́ ndə̄ə̄ghə̀ə̀ ndǔ\\'nkhʉ̄ɑ̄ nhɑ́\\' kǒ\\' ngòfāt ngɑ̌ yú\\' ngɑ̌ lɑ̀hsì/lə̀hsì ō dhù lɑ́ ǒ yá\\' měh mfɑ̀\\' mō ó ǒ nsī mɑ̀ hɑ̄ ghə̀ə̄fə̀ mēnkāā bɑ́ ntām tú mvī ngɑ̌ yá\\' yɑ̄ɑ̄ ǹ jǎt kònsī lóóndʉ̄ɑ̄ lǎh zě\\'è nzáb kʉ̄kāb ncàt mvʉ̄ɑ̄ mbā\\' lɑ́ ncáh tɑ̀\\' pō lǎt mvàk yì ǒ yá\\' zhī tɑ̀ nkwēn séé lɑ́ tə̄ə̄sī mvʉ̀\\' yāā nsɑ̂\\'ngwè\\' ntʉ̀\\' tēnɑ̄ lɑ́ ŋāāsī pàh lə̄b yōh pɑ́h í pə̀psǐ ntēē ǎ ghʉ̌ pɑ́ɑ́ nzī ǎ lóó fə̀ wū mbō ǒ sì cā\\' nkhù mǎ yāā bɑ̌ fà\\'á mɑ̀ ngɑ̌ njwēn ndǔ\\' mbú ò sí\\' mbɑ̄ fà\\'á bɑ̄ mɑ̀ ngɑ̌ mvēn ō (nzáb ō) shìsì ā tɑ́\\' nkwé\\' ā mbú ò fà’á lɑ́ mbɑ̄’ é těnmvǎk mbú ó nshʉ́ɑ́ mɑ̄ ē é báá lɑ́ yì bàá yì yáá ngǎk ò lɑ́ mbɑ̀kɑ́lɑ̄ sì\\' mʉ̀ ndìīsīē wěn mfʉ̀nì/ndʉ̄ɑ̀nì/kwàà pɑ́h ó mɑ̀ nkàb nshùpù\\' nshùmbù\\' ǎ mɑ̀ngé\\' mbī\\'tū mɑ́ á mɑ̀njā\\'nthʉ̄ à kɑ̀shʉ́ɑ́ wāhà kwāt kɔ̀ bō pə̀pē\\' ń dǎh bê kì bî ngáp nǐ mbə̀p kwɑ̀ nzēnsī ngɑ̌ (mɑ̀)ngén mɑ̀ … ngà\\'kǎ\\'ndák lə̄ə̄ nsǐmbā\\' mǎ ghə̌lɑ̄\\' yǒh mɑ́ ndʉ̀ndām póónì ǒ sì vák nshì lɑ́ yàā njɔ̀nshì tɑ́ ó nkwé\\' nshʉ́ɑ́ zìmó\\' ō à sǒ pʉ̌nzhwīē tāā mɑ̄ njēē zʉ̀’ pí kɑ́ mbè’mbè’ fɑ́hnzɑ̄ lɑ́ mēmmɑ̄ ò púángāp ntéé yá\\' sà\\'sì kɑ́ ó sīē ntē\\' pɑ́\\' ntèè lɑ́ ɑ̄ lǎh nkwèèsì yāā ò ghěn nkɑ̀ndàk mɑ̀ ǒ ndáh mbhʉ̄ tî ncō sáhnù ntìmbhì kwɑ̀ ǒ vɑ́h yō ò ǒ ngén nzɑ́ ɑ́ ghʉ̌ kɑ́ móó dīē yàā líé\\'nzɑ̄ béè zè\\'é mɑ́ sēnɑ̄ mbhʉ́ mōh lə̀hsì nhɑ̄ mbú à ngwēēngòò nzēn yɑ̀ɑ́ mɑ́ … mbɑ̀ mʉ̀ ngɑ̌ ghʉ̌ ngòòndōm mbɑ̀ mʉ̌ ghʉ̌ tɑ̀\\' ngòòndōm ncɔ̀ nshʉ̀\\' pōōhə̀ə̄ mɑ̀ nkhʉ̀ ǒ sì cō shʉ̀ɑ̀\\' pìì mbə̀pə̄\\' fǎm kè\\'è ngéntōm/ngéntə̄b lǎh nzhì yāā ndó\\' fə̌ dhǐ ngwè\\' zě\\'è tɑ̀\\' lǎt nə̄h ngà\\'kà\\' ǹ kɑ̀’ zhī zǎ shwǐ’zēn zǐ ngɑ̌ mɑ̀ncə̄ə̄ mō túfhù zǒ mɑ̀nkō ā mbā\\' khù póónkāā bɑ́ ntām tú mvī fìé wèn ǒ zhí í sīècɑ́\\' mbɑ̄ mɑ́ fà\\'á sɑ̌\\' pɑ́h ó ghén càb ndàh ghə̀ə̀ nkɑ́\\' wūɑ̄ nə̀ə́ mbɑ̄ mbèé pěn fʉ̀ɑ̄\\'nthī mbīèntēē ngɑ̌ ìmbí\\' yāā nīātsī nā ō ngə́ə́ mbú ì pó mɑ̌\\' mɑ̄lāk pè\\'è wèn ghén nɑ́ mǒ\\' zʉ̀\\' kɑ́ ngà’mbhǐ à còkòwɑ̄ zhínǔsáhwú mbɑ̄ mɑ̀ yáá ghɑ̀’ tɑ̀’ ɑ́ dìpʉ̀ɑ̀ lɑ̄\\' lɑ̄\\' dìpʉ̀ɑ̀ pʉ̀ɑ̄ njò\\' lɑ́ yàhlēē ngɑ̌ cɑ̀’sì ō lɑ́ mbɑ̄’ ō nzhìɛ̀wɑ̄ kɑ̌\\' sì\\' mʉ̀ mbàk lō yáá ndēèlēē yōh pí sēn à mbâ’ bɑ́ nkǎmbú’ hɑ̄ mbɑ̌\\' ndhī lǎh fōh yāā nsɑ́\\' tòókǒ fʉ̀ɑ̀ ā pó nnēē ngén tōm ntìē\\'lòm wò lɑ́ zēn zǒ mɑ́ wɑ̄ abattre la chèvre ngɑ̌ pá\\' sòm lɑ́ còō tɑ̀\\' mêngòò mfɑ̌\\' ghàt lā zě\\'è tɑ̀ mbā\\' lɑ́ nŋwā\\' kwénmōō mfʉ̀nǐ/zʉ̌\\'zʉ̌\\' mɑ̀ nɑ́ pǎh pō ō lōm mbɑ̄\\' ó kwāt tɑ̀\\' kɑ̀ɑ̀ pɑ̌hs zɑ́shʉ̀ɑ̂ zě\\'è těndʉ́ɑ́ mbɑ̄ mɑ́ ngǎ\\'vɑ̌h nzhwìàwènòk ǒ ìndī\\' měh béé sìèsì lè mɑ̀ ǒ còh nzhī zén nkwèè pʉ̌ těndʉ̄ɑ̄ ò mɑ̀ ghə̀ə̄ fè\\'éfě\\'è lēēsī sī ō pó pɑ̌b nkwēn ndáh ndə̄ə̄ khʉ̀khʉ̄ɑ̄ mōònkō\\' à mbǎ\\'ntām ǎ mɑ̀njā\\' fhʉ̄ pɑ́\\' ó lɑ̀tʉ̄ɑ̄ á ntēē lɑ́ ǒ ghʉ̌ sāhndó\\' ó nsɑ̂\\'ngwè\\' nsɑ̂\\'lɑ̄\\' lǒh ntʉ̀\\'nkɑ̀\\' ngɑ̌ yǒh sīèndʉ̄ɑ̄ ndó nā nsóh njɑ̀\\' ngà\\'kǎ\\'nɑ̄h nshwíísí nzhìndʉ̄ɑ̄ ngɑ̌ yéé nù zě\\'è tɑ̀\\' mbǔ\\' wèn pō ndhī lɑ́ tɑ̄ mmɑ́\\' pʉ̀ɑ̀ ntɑ̄h mbɑ̀ɑ̄ndǒm nshʉ́ɑ́ pɑ́\\' cwàákhù lɑ́ ǎ sǒ shwǐ\\'nɑ̄h ngɑ̌ pén nɑ́tú nkə̀\\'nì móó mʉ̀mfī ntīē pó yòk á mfɑ̀\\' pó tēh á mfɑ̀\\' sò\\'njɑ̀ɑ̀ nǔkɑ́ ǒ sɑ̌\\' séè nǔkɑ́ ó nsɑ̌\\' séè móó mɑ̀mmóó ntám njám ndʉ̄ɑ̀mòò ghèn nnʉ́ɑ́ɑ́sí kwéndʉ̄ɑ̄ ō ngɑ̌ fɑ̌\\' yāā mʉ̀ ndǒk à pěn ghʉ̌ mvʉ̄ɑ̄ ɑ́ ǒ sì láh ndhī lɑ́ mɑ̀nsāb ā ndɑ̀ɑ́ fòmsì wā\\' yə̀b ī fōh nzɑ́ nshī\\' ncɔ̀ vʉ̀\\'ʉ̄ mɑ̀ ghǎm mvî ndhìmōō nɑ̂\\' nzhʉ̀\\' mbàh vʉ̀\\'ʉ̄ shwīsə̀b bɑ́ mɑ̀ngát lī fák nkə̀\\'nì nzènzěn nkə̀\\'nì mbɑ̀ pɑ̀h ntū’ bɑ́ pó ncēh yāā mɑ́ ntū’ ò ò ō ō ncǎ’ lɑ̀ bɑ̄ pɑ́ wèn sāh mbɑ̀ mó’ līē’ shù ntōm mfɑ̀\\' ŋó\\'nkà\\' mbɑ̄\\' ó nját wū mfhʉ̄ mbɑ̄\\' ō lɑ̌\\'lēn mɑ̂… ngɑ̌ ngʉ́ɑ́\\'sí nkwèè zú nɑ́ ngòò lì mōmsī pō ō ntò kwèlè\\' ŋwâtlɑ̄\\' wúzɑ́ yá\\' pīh ncǎ’ lɑ̀ bɑ̄ sōk ā ndéndēē ntìé’ lɑ́ ǎ mɑ́ wɑ̌ mbú ò ǎ ghʉ̌ fǐtèn tʉ́ɑ́nkātlɑ́ mɑ̄lā\\' pí shʉ̀shwìè ngǎ’ nā à ǹ sǐ’ mbēn sīē bɑ̄ rites similaires ngɑ̌ nkwé\\' tòō tòò pí pǎ\\'mvāt mbɑ̀ ngwā\\' ncà\\' sī wū bɑ̄ yáá pè\\' yáá pòm ngɑ̌ mɑ́ ncâkngǎ\\' nɑ́ zhínǔkwà\\'sì pɑ́h í sǐ\\' njwé\\' bɑ̄ ǎ lǎh mvāt njō\\' nā ì ndáh nìnì ngòp nā á sìàsì ngwèntēē pó fāt mēn à làm ǒ sì láh ntá\\' nɑ́ ghòò sɑ̀\\' mfɑ́\\' mbǎk cwàà nkǎ\\'sìèsǐ vhʉ̀ ǒ mbīē\\'sī yə̄ə̄ yòkyòk ǹ dɑ̀shwí mɑ̀ mbèè nnā\\' nshì cò\\' ò ǎ kúɑ́ kāhā ndā\\' mìmìè mɑ̄vǒ ná\\' njɑ̀ɑ̄ vābɑ̄ zě\\'è lè wɑ̄ bɑ́ mɑ̀nkám ō mɑ̀ nɑ́ yà tū mɑ̀ pɑ̀h sǐ\\' mbát nhɑ̄ zén ndák mbí pōō mbǒ bɑ̄ yáá ncāk mɑ́ ó bɑ̄ sīē sóh mɑ̀ntīēsī nǎm yá\\' nè\\' ngòòndóm kùɑ̄ nkǎp nɑ́ à pɑ́ ó lɑ̀ ghʉ́ ā sə̀ə̄wū ce virus est responsable de nombreux cas mortels màà wèn bɑ̄ ngʉ̀ ī mbə́\\'zīī hè\\' pɑ̀lēēntīā nkɔ̄ŋ nkɔ̄ŋ nkɔ̄ŋ pó hɑ̄ cɔ̌ mbú ì nshʉ́ɑ́ lì\\'sì ī fʉ̀ɑ̄\\'zàt ngà\\'njō fǎmfhʉ̀\\' mʉ̀nzhwīē n b ne pas confondre avec téhmōō cɑ̄ɑ̄ bà pó shwīē\\' fāk zǎ sáhnù ntìmbhì 52 tɑ̀’ tɑ̀ kēēmbʉ̄ɑ̄ pōō mbǐ nzhīnù kɑ́ tɑ́ ó mɑ̀ngʉ́ fà\\'á ā ǒ mɑ̀ngʉ́ kɑ́ fà\\'á ā yǐ wɑ̄ bɑ́ ɑ̄ mɑ̄vǒ ndāmɑ̌ kúɑ́ wāhà fɑ̌hnzɑ̄ sīē fhʉ̌ mɑ̄ngén kō vɑ̀h zā mɑ̀ yáá pə̀\\' ā hām nā ò ǒ ndōō nā ò mɑ̀ mbí wèn kāhā pɑ̀h lɑ́ɑ́sí sīē ntēē nà kɑ̀\\' fēn zě\\'è lè nnìɑ̀ncāt nthínā ó mvàk lāhā ǒ sàh mvàk lāhā kǎbwèn kàbntú\\'wèn tíì sʉ́\\'shìè mbūànì bɑ̄ mɑ̀ pèn ò zhī mɑ́ á mɑ̀ ndʉ̄ɑ̀mòò kɑ́ ntīē ndòò béè kɑ́ ntīē pɑ́hzīī béè hɑ̄ yōh wúzɑ́ mvǎklīē\\' zhîsì ngɑ̌ mɑ́ yǐ āmērīkà ǒ və́h yō ò salut au pluriel pour saluer plusieurs personnes on dit plutôt ǎ mɑ̌\\' lāp pɑ̌h mɑ́ póá āfrīkà tāmsī nā ò ngɑ̌ nsī pí těndʉ̄ɑ̄ à nzhī ndēn mɑ́ pí mbɑ̄\\' ō mɑ̄vǒ mɑ̄lū à ndū à mbɑ̀ pōō mbǎ ǎ ndēn wèn yə̄ə̄ cò\\' pè\\'è syn cô\\'ndʉ̄ɑ̄ cô\\'fhʉ̀ mbōòpè\\'é mɑ̀nsák sīèndʉ̄ɑ̄ hwīēsǐtáàvʉ̀ nkǒ\\'ndʉ̄ɑ̄ wùɑ̌fʉ̀ɑ̀ wúzɑ̄ ō bê à sǐ\\' mbēn nǔsīē bɑ̄ ndǔ\\'nkhʉ́ɑ́ mɑ̀nshʉ̄ʉ̄ ntə́ntə́ ntám njōk ǹ jǎt sì sǎt tū ā yáá mɑ̀nnák zī ngà’mbhǐ à mòòwɑ̄ ntə̄\\' pō njànə̀ə̀ c\\'est-à-dire qu\\'elle est ngāā yɑ̀ɑ̀ ngāā yɑ̄ɑ̄ njò\\'tóm mfʉ́\\' pɑ́\\' tə̄ə̄ lɑ́ sə̌wū sǐ\\' nshʉ́ɑ́ ā bɑ̄ lɑ̄ bê ǒ sì záb nā ò nsát tū ncâkntèn mbè\\'mbè\\' nshʉ̄ɑ̀mbūànzɑ̄ mbú ó lɑ́ pó ntēhsī wū mɑ̀ yáá ŋō\\' à sī mɑ́ mīā āfrīkà bɑ̄ mbàk ngʉ̌nù yɑ̄ɑ̄ pí nzhwíé í pòm yáá mɑ̀ lāhā ǒ mɑ̀ lāhā hìá\\' analyse grammaticale lī\\' nū ndù\\' mɑ̄ nnū nshì ngɑ̌kúɑ́lè ngɑ̌kúɑ́yǎlè ghèn ndómsí nɑ̄\\' lǎh mbè\\' mfɑ̀\\' ngén mbhì nàk wǎ sāktēnɑ́ mfūā mɑ̀ lāhā lɑ̄ yè kǎmgà\\' bɑ́ tɑ̀ kǎmsʉ̄\\' lō\\' kɑ́ tɑ́ ǒ mbú í nzə́h ə̄ ngɑ̌ kə̌\\' nzhwīē à tɑ̀ kēēmbʉ̄ɑ̄ nù mbǎ kɑ̀\\' yāb ŋwá\\'nshì tə́ə́fōh tē\\' kə̄ə̄ ŋwɑ́\\' sɔ̀ bī njéh tū ɑ́ yì mɑ̀ mbǎk ló lɑ́ kɑ́ tɑ́ ó mɑ̀nkɑ́\\'/mɑ̀nkwá\\'sí làh ngʉ́ nɑ́ ntìè\\' ē lǒnɑ́wūɑ̄ je m\\'abreuve ntēh ŋwɑ̀\\'nì nǔ mbǎ píh pʉ̀ɑ̄ njò\\' lɑ́ yàh njɑ̄\\'pō ngɑ̌ pén ō tɑ̀\\' pɑ̌mɑ́njwě\\' péé nɑ́ ncwē\\' nzáb ī nɑ́ mǒ\\'mfèn tēn sáá mbīɑ̄ bā yííngʉ́ɑ́\\' shʉ̀ɑ̄ wūɑ̄ ndʉ̄ɑ̀ndhì zī yò mōō ǎ kó wú sʉ̀ɑ̀ zā mfátsí sə̌\\' nū mbə̄ə̄ sēn à mìèmɑ̄nnák ndə̌kāp pí ndú ì nkə́\\'ní yə̄ə̄ ḿ fhʉ̄ ʉ́ ngɑ̌ mbèè mɑ́ ndǒk à wèn lēn mɑ́ pí mvʉ̄ɑ̄ mbā\\' lɑ́ nŋwā\\'sī ŋ̄h ngɑ̌ zhí làh ndə̄ə̄/nā\\' wúzɑ̄ ŋ̄h ngɑ̌ sɑ̌\\' mɑ̀ nēn ndə́\\' ŋwɑ̄\\' ndʉ̀ɑ̀nápūā ndʉ̀ɑ̀náfī\\' ngòò là nnīātsī ntīē mēn à yì mʉ̀nzhwīē ǹ kɑ̀\\' tɑ̄ mméh ǎ mɑ̀ncā\\' nzʉ̄ àhâ hɔ̌bɑ̂ kɑ̀cɔ̀ sīècɑ̄\\' tābsī nā ò sìcə̄nzèn nsʉ̄ɑ̄\\' pìòp à kɑ̀ywěn ndʉ̄\\' wāhà ŋ̌h mɑ̄vō nnāk mvʉ̄ɑ̄ pó cāh nzhì nzîsǒ kɑ́ ntīē yú\\'sìpə̀\\'/ngǎngà béè ngɑ̌ kə̌\\'/kwě\\' ghɑ̀\\'ndù\\' tɑ̀ kēēmbʉ̄ɑ̄ lī\\' fhʉ̄ mbāt lā tòòndāk njwēnɑ̄ njò\\' ngwě\\' mɑ̀mbōh khʉ́ɑ́\\'hǔ kòlōnà kə́\\'lòh lǎh mbɑ̀ yàā lɑ̄ ngāp wû nníɑ́ɑ́sí nā wèn nnó\\' tʉ̄tē\\' kə̀kǒpnshù nzʉ̌\\'ngǎ\\' ndʉ̄ɑ̀ŋwɑ̀\\'nì kwɑ̀ ɑ́ zʉ̌\\'ŋwɑ̀\\'nǐ vhʉ̌ ngwēèwèn tɑ́\\' à kɑ̀\\' zhī mbɑ̀ làh nŋwɑ́\\' zēn zǐ pó nkúɑ́ tɑ̄ nshīī ò kɑ̀\\' zhī nàh ngʉ́ sə̌wū pʉ̄nkhʉ́ɑ́ mɑ̀ lāhā ò sǐ\\' nzhī nàh nnāh nshì bɑ̄ mɑ̀ ǒ nnú\\'nshì pèn pə̄ə̄ lɑ́ mfámfāt fíí mɑ̄ à móó nzhíé nshʉ́ɑ́ mvàk yì yáá njā\\' lɑ́ ŋwàà ndáh ngén ngwɑ̄\\' ghə̀ə̄ nsɑ̂\\' kǒmnzhǐ pɑ́h ngwè\\' pō fhʉ̄sī zɑ̄ɑ̄ dhù nshʉ́ɑ́ ngɑ̌ ìmbēēsī tʉ̄ɑ̄ híé\\'ndàk tʉ̀tʉ́ɑ́\\' wúzɑ́ mōō ntú\\' wúzɑ́ mōō mɑ̀ nɑ́ yà tū mbɑ̌ nsìèsì nzhìèkū’ bɑ́ mɑ̀nkō ā yā phʉ́mfɑ̀\\' nzɑ̂pìì nthʉ̄ ó mɑ̀mbénsí ì ngɑ̌ kwě\\' yò mbʉ́ɑ́ làh nkōmnā nɑ̄\\' zǎ mìè nùsìpè\\' ǒ mbhʉ́ yə̄ə̄ ngɑ̌ ìngén hwīēsǐ ɑ́ ndùālə̄ə̄ nkwè\\'nì/nkə̀\\'nì ngɑ̌ lén mbú í mɑ́ ó fhʉ̄nsɑ́\\' ncāk ngà\\'mbhǐ à yì mʉ̀nzhwīē pó zhʉ̄ɑ̄\\' ī í ǎ mɑ́ mbēnmbên ngāp mvēnɑ̌ cát nshùndʉ̄ɑ̄ ntēnkà\\' ŋ̄h ngɑ̌ yá\\' lə̄ə̄ndʉ̄ɑ̄ ncɔ̀ nshʉ̀\\' mɑ̀ mʉ̄ntî ŋwɑ̀\\'nǐ kèēmfɑ̀\\' sāā lɑ́ ngʉ́ nù yěh sóh lòh mbɑ̄’ ō mbɑ̄’ ō mbɑ̄’ ō táàwɑ̄ nàk wǎwǎ sák nǐ tú ì pó shʉ̀ɑ̀\\' ā ngwā\\' kōmsī nā ò pɑ̌kà\\' mɑ̄ŋū ndʉ̌\\'nzɑ̄ ǹ sī mɑ̀mbēn bɑ̄ fàmsǐ mōh njò\\' lɑ́ shù\\' kòp wɑ̄ lè cō ndʉ̄ɑ̄ ǒ séè mɑ̀ mbèé mbú ò ngɑ̌ ghěn lə̌h mɑ̄vǒ ndābɑ̀ ò mɑ̌ngʉ́ mbɑ̀ kɑ́ lɑ̄ ǒ sì lɑ́h làh nzhī\\'sī ghə̀ə̀ zǒ ǎ fhʉ́ nshʉ́ɑ́ fhʉ̄ sēnɑ̄ sī shʉ́ɑ́ndāk lɑ́ kɑ̀\\' pīh ncɑ̀ɑ̄ nshù kɑ̀\\' pé\\' síánì bɑ́ síánì bɑ̄ nzàb ā mɑ̄ ŋ̄h pó nsóh nā nkwèè līē’ ngɑ̌ ìndáh pʉ́ɑ́ ǎ mɑ̀mmá\\' zǐ nkwèn í nɑ́ fʉ̀\\' zǎ mbû\\'tōō mɑ̄nkwèè ǒ ìndī\\' mèhsǐ béé sìèsì lè mɑ̀ ǒ kù\\'sì làh nsōk wèn mvàk yì ǒ mɑ̀njū\\' nā ó pó ó lɑ́ mɑ̀ ghə̀ə̄lɑ̄\\' nnó\\'mbēn ǒ sì pīɑ̄ nā ó nā ń nhɑ̄ kɑ́ mbú ò pàt ngə́ə́ ò mɑ̌ndɑ́\\' wèn ò sōk ī yáá khʉ̄ tɑ̀mīè ndhʉ̌nshù pó ncēh báá mɑ́ kɑ́ pó ncēh báá wū lɑ́ mɑ́ kɑ́ ngɑ̌ yǎ mɑ́ ngà\\' ghòò yáá lā\\' pɑ̌h zɑ́ ngū\\' ngòò lɑ́ kə̌\\' nàh nníá pōōmbā\\' ngɑ̌ mɑ́ ncâkngǎ\\' nɑ́ zhínǔnə̀ə̀ ntìè\\' ē shʉ́ ntō\\' nɑ́ ndèhsì ŋúnzɑ̄ nkhʉ̀ɑ̀nʉ̀ɑ̀ tɑ̀ nkwēn ntûmbhì ŋúnzɑ̄ sò\\'njɑ̀ɑ̀ mbʉ̀ɑ̀ mǎ pʉ̀ɑ̀ lɑ́ yàh līē\\' yì ǹ kɑ̀\\' lā\\' shwīngòò bɑ́ mɑ̀ngát lī ngáp kòndīē mbə̀p tʉ́ɑ́nkātlɑ̄ sáh wū sáhndʉ̄ɑ̄ ngɑ̌ pén ō wèn kǎm ō ò lā\\' mbɑ́\\' ngə́ə́ nù ghòò zā kà hɑ̄ pō nsèn-wèn pɑ̀h pōōsī nzɑ̄ nzhìèkū\\' ǒ vɑ́h yō ò mɑ̄ mbè\\'mbè\\' mbūànzɑ̄ lɑ́ mɑ̄ ghèn mbūānkhù mī lə̀ə̄ cákngà\\' tām njǎm ì nté\\'zɑ̄h ǎ wùɑ̄ nsɑ̄\\' ngɑ̌ lìnzɑ̄ sìpīēndə̀h ngɑ̌ dhìnzɑ̄ sì pìēndə̀h mǔ\\'zhwìè zǒ pə̀\\' tɑ̀\\' yò mbʉ́ɑ́ mǔ\\'zhwìé pə̀\\' tɑ̀\\' ngɑ̌ pə́h zīī à lɑ̀yú\\' fà\\'á ndhí ngén ngóó mī nkwàà fǒp mfʉ̀\\' nzhíé mʉ̀ béè ŋə̄msī nɑ̄h mǒ cāp khǔ ndʉ̄\\' lɑ́ ǎ lóó nō wúzɑ̄ ō nǔkɑ́ ngɑ̀ kà zhī ǹ kà zhī yɑ̄ɑ̄ pʉ̀ɑ̀ lɑ́ sīē nshù\\'tū ngà\\'shù\\' ndhímōō tū cǎ\\' ncāt mbó mbōòpè\\'é mbɑ̄ sì\\' mɑ̀ yáá kòpsì mɑ̄vǒ ndāmɑ̀ lɑ̀ sì lɑ̄\\'ngʉ́ ghòōlɑ̀h yáá mɑ̀ lāhā mēn à wóktèn ntɔ̄ɔ̄ ghə̀ə̀ yēēsì/yīīsì ǒ lén yǒ ná mɑ́ kɑ́ móó fhʉ̀sǐ ndɑ̀ɑ̀ bà mēndɑ̀\\' mbàk lō ntām ò lɑ̀ sì pīh ā tɑ̄ ngʉ́ pó thʉ̄ lɑ́ pēh sīē ǒ sǒh nā ō ó tɑ̀ ǒ sǒh nā ò ndē\\'pè\\'è cwâhnā ghèn nsī\\' nā ò mɑ̂nsɑ̄\\' làhntō\\' sê tɑ̀ ndhí sî ǒ sì ghʉ́ pó càh lí ngǎ\\'ntʉ̀ɑ̀\\' cēh ī mɑ́ á ghèn ncáh lō mʉ̀nzhwīē sǐ’ nnák sū’ bɑ̄ nā á mɑ̀mfhʉ̄sī ǎ hǎh wú sēn ì nshʉ̀\\' zʉ̀\\' mbɑ̀wɑ̄lɑ́ ghʉ̌ yì zǎt ndòm sīècɑ̄\\' nkùɑ̀ncò pí nkhǔndʉ̄ɑ̄ nshʉ̄ʉ̄ à ne pas confondre avec ntū\\' ghɑ̀\\'zɑ̄ mfʉ́ɑ́\\' nzǎk wúɑ́ wèn je souhaite accoucher quatre enfants mvʉ́ɑ́ fīī nshù ī ndə̌\\' sí\\' nkə́\\' mbʉ́ɑ́ ŋàh bɑ̄ pèn kāksī ngáp á cō ndʉ̄ɑ̄ nkǒ\\'tìē sāhndó\\' fʉ̀ʉ̄ncò və́hnā c\\'est pertinent pó pɑ̄psī mōō lɑ́ zhʉ̄ɑ̄\\' nshwī lɑ́ shǐndʉ́ɑ́ zhínǔthítēn wɑ̄ bɑ́ mbɑ̂\\' béé kwà\\'sì lè mʉ̄ɑ̄ndē\\' ghèn ntāt lī mōō bàá ngwɑ̂\\'mbī\\' fōh wúzɑ̄ lɑ́ tɑ̄ nzɑ̄ zòk zǎ mɑ̀njā\\' bàá báá fātnzhwìè pō yǎt sì lɑ̌\\' ncà\\' yɑ̄ɑ̄ pí nzhwīē ì ngènɑ̌ nàm yāā bɑ̌ fà’á ò ghēn nhó nkɑ̄ɑ̄ ndáh ndə̄ə̄ndʉ̄ɑ̄ pɑ̀nzɑ́kə̌bnzhì sǐ\\' nját ndʉ̄ɑ̄\\' nɑ́ tú ngə̀\\' bɑ̄ pó ndʉ̄ɑ̄\\' mɑ̀ nɑ́ tū yɑ̄ɑ̄ nkàk bɑ́ pó ndáh nnū ndɑ̀pɑ̀’ ntê\\' ntà\\' ngǎ’ nā à mɑ̄ŋú mɑ̀ngʉ́ ā ngɑ̌ mɑ̀ngóó sì\\' fʉ̀\\' ā ngɑ̌ kə̀\\' ō ngɑ̌ fhʉ́nsí\\' mbú ì radical nominal lôhnùpʉ́ɑ́ ngòōndʉ̄ɑ̄ lām pʉ̀ɑ̀ ó hɑ́\\' ò ǎ zǎm yì mvàk lěn mbɔ̌shʉ́ɑ́ ǎ pɑ́\\' tū ā kīkēē líé\\' cà\\'sì tə́ə́ mvāt ǒ ìndī\\' měh béé sìèsì lè mɑ̀ ǒ còh nzhī làh nsíé mbè\\'mbè\\' cà\\'sǐ mbí wèn mɑ̀ ghə̀ə̄ fè\\'éfě\\'è ǹ kɑ̀\\' ghāp tɑ̀ mó’ līē’ lɑ́ mbɑ̄’ ō sên mɑ̄ghɑ̀ɑ̀ bà (yì mbâ\\') kɑ̀\\' ghʉ́ mbǎ\\'ntām ǎ mɑ́ pūpwēn těndʉ̄ɑ̄ à pʉ́ɑ́\\'vɑ̄h mvʉ́ɑ́ wú ì yā\\' hwīē ǎ hèè ndɑ̌\\'mɑ́ ǒ sì záb ī ngɑ̌ mɑ́ tɑ̀\\' nnɑ̂\\'wèn ndhī zǐ nshīē\\' nàm vʉ̀\\'ʉ̄ mbhʉ̄ ncɔ̀ tî mɑ̀ mʉ̄kwɑ̀ béè (945 fz) njɑ̀ɑ̄ fhʉ̀lɑ̀\\' kóntá\\'mfɑ̀\\' nkwèè pʉ̌ měh làh ngé\\' njéh tū yɑ̄ɑ̄ nnàknshì ntēh nzʉ́ wěn yɑ̀ɑ̀ tōh mɑ̀ sê mbī\\'tū mɑ́ pō shwǐ\\' ntōhó nɑ́ kwɑ̀ mɑ̀ yáá nhɑ̄ ghǎm mvát mbà\\' nǎm mɑ̀ntʉ̄ɑ̄ nǎm kòntʉ̄ɑ̄ hɑ̄ yǎ hɑ̄ yǎ lè ghɑ̀ɑ̀ nhɑ̄ yǎ lə́ə́ pè\\'è nāt mbā\\' lɑ́ njáh ngɑ̌ fát mbǎ\\'nkhʉ̄ɑ̄ ndáh mbīāh nzhìèkǔ\\' ntə̄\\' ndə̄\\' ǒ vɑ́h yō ò pɑ̄cà\\' pǎtnjǎm wú pèn sómvēn mēn ǎ ghʉ̌ ngǔ\\'nzɑ̄ sə̀ə̀mbʉ́ɑ́ nɑ̄\\' nzɑ̄ ngɑ̌ mɑ̀njū\\' sìpè\\' tɑ̀\\' nshʉ̄ɑ̀pō có\\'nìnì hìè\\' tàm sìndhʉ̀ mbə̄ə̄ gòònà lə̀ə̄ kwā\\' ghʉ̀ fà\\'á lɑ́ ǹ sī mɑ̀nkwé\\' yì béé bɑ̄ ngɑ̌ mɑ̀nkwé\\' mɑ́ yì bíì lì nsǒh ǹ sī yǎt mɑ̀ndīē nzhī bɑ̄ lōh sī yǎt mɑ̀ncō zɑ́h á bɑ̄ wěn sì pēn í ntám béé kòm lè ǎ tɔ̌ nzāt nǎknkà\\' nzɑ̄ sì zʉ̀ɑ̀\\' lɑ̄ ngʉ̄ɑ̀\\' nzhwìà nkônshì lʉ̀lǒh híé\\'khù mēn ǎ pó pɑ̀mbhìngʉ̄ɑ̄\\' pó làh ī ŋɑ́\\'mbōō ndʉ̄\\' njā\\'njā\\' wèn shǔ\\' mvʉ̄ɑ̀kò ntà\\'sǐ zɑ̄sī sī ā wǎ\\' mbɑ́ m̀ mfɑ̄\\'sī ō sáá mbɑ̀ móó kə̀b í nɑ́ nàm ntòhō mɑ̀ kàm òô ngǎ\\' nā ā ò sênmfɑ̀\\' těndʉ̄ɑ̄ ó mɑ̀ lāhā yò těndʉ́ɑ́ mɑ̀ lāhā ǒ pén nàh mbɑ̄ nzhwīē ā á lǒh sāhndó\\' nzápsí ghə̀ə̀ nkām yáá lāhā mbīī tēh wò lɑ́ sɑ̌\\' séè lè sə̀ə̄ sênmfɑ̀\\' sī mbú à bɑ̄ vʉ́cɑ̄\\' nsî\\'njǎm ǐ nzhīnù nshʉ́ɑ́ ī ghǒhwèn ngɑ̌ ghʉ̌ póómɑ̄ pōōmbā\\' pʉ́ɑ́ mbát ngʉ́ mēmmɑ̄ mʉ̀nzhwīē nshʉ̀\\' ntû\\'ncā\\' ǎ kòndáásí ndhī ì ŋwɑ̀\\'nǐ nkə̀\\'nì/nkwè\\'nì mɑ̄lāk kāāmbóm ǎ nját kòndéé ndū ì mfhʉ̄ līē\\' mbǎ ngɑ̌ nzát mvǎk ngò\\' mʉ̄vʉ̀\\'ʉ̄ (90 kg) kūɑ̄ncàk ǐ zǎkjǎm ì nɑ̄\\' ntēlɑ̄ ǒ lí’ sɑ̀’ fà’á mɑ̀ ngɑ̌ mɑ̀nníɑ́ɑ́ nā à làh ntóm ǒ sì pōh sə̀ə̄wū pɑ́\\' mɑ̄ngʉ́ tēh fà\\'á pɑ̀h ghén ncɑ́\\' tòókò ghòò cāpnā ò ǒ sì tāmsī ghə̀ə̀ lǎh nzhì nshʉ̀\\' vɑ̀hnì ā sī mɑ̀ndē\\'sī ō bɑ̄ mbǎ\\'ntāmghə̀ə̀ mmɑ́\\' nsɑ̄\\' ncə́\\' kō nkɑ̄ɑ̄ bì mbát nzáb ī elle a accouché des jumeaux mvʉ́ɑ́ kǎh ngèn zʉ̌\\' mɑ̀ndóm/kòndə́b ǒ nzát mvàk lāhā zǎtnā ó mvàk lāhā mvǎk zǎtnā ó lāhā nzâknù 9 nkwè\\'nì lə́ə́ndʉ̄ɑ̄ dīē ntə̄b wɑ̀\\' ngɑ̌ cɑ̀\\'sì ō lɑ́ ngɑ̌ kwà\\' mɑ́ ngɑ̌ mɑ̀njēē nzhʉ̀ʉ̀ zɑ́hghʉ̀ɑ̀\\' zʉ̌\\'kwèè tɑ̀ kwɑ̀’ kɑ́ tɑ́ mbɑ́ ó lāh nzhíísí ā fhʉ̄ sáá ndó pí váánshù ō nshʉ̄ʉ̄ shʉ̄ʉ̄ pɑ́\\' njúásí ǒ sì yúásí ngák pè\\'è nù lɑ́ mɑ̀nját lā quelques types de plantes médicinales tókyū\\' zǐ sìpə̀\\' ǎ mɑ́ mbǔ\\'ntōk hìē nā ó mbú ì cīēncə̄ə̄ cīcō’ò sɑ̀’ nkōsī ā làh ncēh pú’ŋwɑ̀’nì à lɑ́ ngɑ̌ lɑ̀ɑ̀sì ō lǒ sáá ngɑ̌ mɑ́ mbû\\'lōk ngɑ̌ ghʉ̌ kɑ́ ghɑ̄\\' pō ō mēmmɑ̄ ò mɑ́ nkômfìè\\' túnù sī nā bɑ̄ pōōmbá\\' nzhī nàh nzʉ̄\\' nʉ̀ɑ̀ sì tēn pʉ̌nzhwīē mʉ̀nzhwīē lɑ́ sēnthʉ̄ yə̄ə̄ wókfā’ kɑ́ tɑ́ ó mɑ̀ngʉ́ ʉ̄ mbɑ̄\\' yòh yì ǎ ntám pūh lɑ́ pè\\'è bǎ ták ndèhsì yáá kù\\' fà\\'á nŋɑ̄\\' tɑ̀\\' ngǔ\\'nzɑ̄ ndìàndìá ghʉ̌ líé\\'nzɑ̄ ncɔ̀ tî pōōntòhō mɑ̀ nkhʉ̀ tāā yáá sēn yáá ghʉ̌ lèn sīsī ngɑ̌ kósí ī tɑ̀ ntōh ī njâ\\' ndɑ̀pɑ̀\\' ngɑ̌ pén ō tɑ̀ kēēmbʉ̄ɑ̄ ǎ ghʉ̌ fénthʉ̄ yā bɑ́ pó wàā ncə̄\\' ǎ nshwīē\\' ghòò tɑ̀\\' wɑ̄ bɑ̄ ncwě\\' wúzɑ̄ ā yà wúmòó mɑ́ làh nkēē zū ǒ sì wāh ngà\\'mbhǐ ò lòó ndōk wūɑ̄ de nkò\\' mbè\\'mbè\\' fɑ́hnzɑ́ mbú ó lɑ́ mēmmɑ̄ ò ngòpnə̀ə̀ lɔ̀ bì nkɑ́\\' wèn wū kɑ̀ɑ̀ bà ngǎ’ yāā kɑ̀’ ghɑ́’ mbɑ̀ nēhē nglǐsǐ njáhlēē pɑ́’ fùfùà lɑ́ mbā\\' lɑ́ mbə̄hnthʉ̄ yə̄ə̄ ngǎ\\' ǹ kɑ̀\\' zhī zēn zǐ bɑ̄ sʉ̄ɑ̄sī njɑ̀ɑ̀ mōōntìāā wɑ̄ báá ā ǎ mɑ̀nkōō lʉ̀ɑ̀\\' mféntèn nsēn mbǎ cwàā nā yɑ̀ɑ̀ mmɑ́\\' kò lī\\' pɑ̀ɑ̀ mɑ̀ ǒ zhí mɑ́ pɑ́ ó zâb mfʉ̀ʉ̀nù wèn lɑ̀\\' ghēē wèn ngēē nthʉ̄ ī kɑ́ bɑ́ wū làh nzɑ̄ mbūànzɑ̄ ɑ̄ ghòō wūɑ̄ fhʉ́ thʉ̄ pō sǐ\\' njwēn nthʉ̄ ā bɑ̄ cǎ\\'sǐlə́ə́ndʉ̄ɑ̄ yā\\' pěhmbhì ngwɑ̀ɑ̀mōh ngɑ̌ mɑ̀nkə́’ làh ngén nsíí kà\\'mbɑ̀ɑ̀ cɑ̀\\'sì ā lɑ́ mbǎk fí\\' fà’á bɑ́ kwɑ̀’ ndéndēē mēmmɑ̄ síé fə̀ fén tə̄h pō ī ncwé\\' sɔ̀ bī ǒ còh nzhī nǔngòò kə̀kópncò cátncò mbā\\' ntèn pʉ̀ɑ̀ lɑ́ zàtsì mbʉ̂\\' mòōntʉ̀ɑ́\\' zhí làh mvʉ́ yɔ̌nshì yáá mɑ́ túfhù ǎ mɑ̀nsɑ̄\\' kāb zī mbō ntāā ǒ sì cə̄ə̄ pó ghòō pɑ̀ncwē\\' mbə̀’mbə̀’ mbūànzɑ̌ mbú ó lɑ́ ngām à nǔ lə́ə́ndʉ̄ɑ̄ ǒ kwě\\' sʉ̀ɑ̄mfʉ̀\\'nā á mvī zǐ tūpō cìcàh pó njēē zʉ̀’ pí nɑ̄h ǒ sì pɑ̄p wúsʉ̀ɑ̀ zǎ mbí wò = mbú ò ngǎ\\' ǹ kɑ̀sɑ̌\\' mɑ́ wāhà nàm sʉ̄\\' béè gwāvà bê lě cōhshwīī wū yì ǒ ghʉ̀ lɑ́ béè tènmvàk sɑ̀\\' mɑ́ mǒ\\' līē\\' shù pēn mbɑ̄\\' ē pí mɑ̄ ē yáá ncāk mɑ́ wèn pēn mɑ́ yāā kɑ̀\\' yáhlēē phʉ́ sʉ̄\\' pó yá\\' lǒ\\' fhʉ́wèn nzɑ̄ mvīātlɑ̄ nzāk mvīātlɑ̄ ncō\\' mbìyā\\' tɑ̀ mó\\' līē\\' lɑ́ yì mɑ̀ síé pēn lɑ́ nǎm yɑ̀h tēn thʉ̄ mbɑ̄\\' njòómbísīē lɑ̌\\' mɑ́ tɑ̀\\' tómfʉ̀\\' mbû\\'lōk zēn zǎ mɑ́ ngǎ’ngwê tɑ̀\\' sìàní nù bɑ́ nkōpō nù báá kòmmā\\' ā ǹ dɑ̀ghǔ nzhwīē á póántòò kɑ́ tɑ́ ó mɑ̀ncāk làh ndēn pɑ̌ghòò ǎ mɑ̀ngə́ə́ ndéndēē ǎ lǎh kɑ́ nsɑ́\\' ɑ̄ = ǎ sɑ̀\\' pí kɑ́ kɑ̀yɑ̌\\' ghòò mī ngɑ̀ɑ̄nzɑ̄ ǒ kònzáp nā ò nǔkɑ́ hù\\' tàm cà\\'sǐ kɑ̌\\'lə́ə́ndʉ́ɑ́ líé\\'nzhì ndʉ́\\' pèn ngwɑ́ kò sák mɑ̀mfūāsī thʉ̄ ntâmntə̀\\' ǒ pě\\' mbâ\\' tɑ̀\\' ǹ dɑ̀cáhsí tɑ̀\\' ngát nǔ kɑ́ (bɑ́ ɑ̄) kɑ́ bɑ́ mɑ̀ngát lō ō nā á mɑ̀nsɑ́\\' ǒ wén kɑ́ yāā sǎ\\' ò ŋwāà kà\\' bɑ́ ngâpmbōò ǒ sì vā\\'sī ī ngɑ̌ fíá nshǔ wūɑ̄ zě\\'è nzhwīē á mɑ́ ncēn mʉ̀nzhwīē làh nzī wɑ̌\\' pə̀\\' ǹ dɑ̀\\' lɑ́ghʉ̌ pìì nēh nɑ́ làksì tó\\' nshì wěn nsə̄ə̄ wū ngwɑ̄\\'hù nsɑ̄\\' kām yáá mɑ̀mfōh pɑ́\\' mbǎk ìndō lɑ́ ndə̄ə̄ càk ndʉ̀mbʉ́ɑ́ ndū ā sǐ\\' nját nkwé\\' ā bɑ̄ pɑ̌h mɑ̀ncá\\'sí = nǔ mɑ̀mbé\\' yōh ngɑ̌ ghá’ ŋwɑ̀’nì zě’è mbī’tū mɑ́ mbǎk fhʉ̄ mɑ̄ndō pàksǐ lɑ̀ bɑ̄ mbú à kǒncò ndɑ̌h mfɑ̀\\' pōō mbǎ ngɑ̌ ŋāmsī ō ngɑ̌ hɑ́ ngɑ̌ pén mbú ò ngɑ̌ tám ngáá tú ò pʉ̀ɑ̄ njò\\' lɑ́ yàhlēh wèn kǎb ō ò lā\\' mbɑ́\\' ngə́ə́ nù ǒ sì hə́\\' nɑ̄\\' ndɑ̀\\'ndɑ̀\\' mbàk lō nzát mví mbɑ̄ mbǎ\\'mbà\\' ngà\\'kǎ\\' njáhsí ghòò sáhnù ntìmbhì 44 yáá ncāk mɑ́ ǎ hà\\' ā ntâ\\'nù gaz combustible pɑ̌mbāp ngɑ̌ mɑ́ yǐ … nǔ síé é wú mɑ̀ngát lō ó nǔ mɑ̀ngát lō kāhā ngɑ̌ mɑ̀njōknā á nɑ́ nhèè mā à fát móó yá\\' tō\\' làh ndā\\' těn síé cà\\'sǐ dìpʉ̀ɑ̀ táà yòh ǒ sì ghʉ́ɑ́\\'sí ndū wèn mfɑ̀\\' nùpɑ́’mbɑ̄hwèn pí còkǒntʉ̀ɑ̌’ pó ncēh yāā lè mɑ́ kɑ́ sáhnù ntìmbhì ntōhō cwè’ mɑ́ kɑ́ cwàákhù bɑ̌ ndàknkhʉ́ɑ́ mɑ̀ndáknkhʉ̄ɑ̄ nìɑ̀ɑ̀sǐ ncwààntīē qui est l\\'auteur de cet œuvre wèn lɑ̀\\' zhī (zén wèn bɑ́) mfènmbɑ̀ɑ̀ ngɑ̌ ntámndʉ́ɑ́ ò nzhìè làh ntōm mbūànzɑ́ é nɑ́ ó nzâknù 14 yú\\'nā yú\\'mbʉ̄ɑ̄ nzhìè ndûnɑ́hsáhwū ngɑ̌ ngén mɑ̀ hwīēsì nhɑ̄ nkō\\' nsǐ kòntōm ntám nzī mǐ ntām kɑ́sʉ̌\\' pʉ̀ɑ̄fə̄h mêngâp hōm yāā bɑ̌ fà’á cīcō’ò ò lɑ̄’sī ā cwè’ lɑ́ à kɑ̀\\' tōh làksì ǎ có ntòònjò\\' mfèndù\\' ghèn nshú\\' nsə̀\\' mō ḿ mbēn pôh cāb pú\\'ncə̀ə̀ zǒ mbə̀pə̄\\' ǹ sǐ\\' ngēē nī bɑ̄ tómfhʉ̀\\' sâkfʉ̀ pɑ̀nsɑ́\\'ngwè\\' sī mɑ̀ ncóh mfákntók póálɑ́\\' nɑ́ nǔ sida bɑ̄ yā\\'khʉ̀ɑ̀ ngʉ̄ɑ̄ mvāt mɑ̄nì nkō\\' tɑ̀ wāhà ɑ́ nzɑ̄ lēē lɑ́ mbɑ̀ fà’á bɑ́ tɑ̀ mʉ̀ bɑ̄ nsī’ njòkvʉ̄ʉ̄ lè du verbe nshwí\\' halo de gloire mbɑ̀ɑ̄nā ntōk mǎ mɑ̀njā\\' nshʉ̀ɑ̀ncò ǎ lə́\\'sí ā ndàb zə̄h yáá pè\\' njɑ̄\\' ngɑ̌ yú\\' mǒ\\' ntīē cə̀\\' tɑ̀ nā à zhî zhǐ\\' nzhìndʉ̄ɑ̄ ntāb tū mʉ̀ bɑ́ mɑ̀njū\\' yá\\' yāā ngɑ̌ mɑ́ nŋɑ̂\\'pʉ̀ɑ̀ pɑ̀mbīɑ̄ɑ̀lɑ́\\' cō ndǒm ì ncóhsí ngó\\'sí ī ǎ fóp nshì à sǐ\\' nkə́\\' mfɑ̀\\' bɑ̄ ncwâhnkhù nkō túfì ā yāā kɑ̀\\' lā\\' mbí mbɑ̄\\' ō njwēnɑ̌hntà\\' il est responsable du service marketing nzɑ́ lēē è nzhwīē à ntà\\' sāh yɑ̄ɑ̄ lɑ́ ń jū’ ŋ̄h bɑ̂ pěn sɑ̌\\' séé ghʉ̌ kɑ́ pèn pə̄ə̄ lɑ́ póómɑ̄ ò nzhìnzhìè báá nzɑ̄ wū tɑ̀ shʉ̀ɑ̄\\' ncīn kwá\\'nkhù kɑ́ tɑ́ ó mɑ̀nkwé\\' làh nzɑ̄ nɑ́ njɑ̌hnàm ǒ fhʉ́cáhsí mɑ̄ngʉ́ kɑ́ fà’á ā mɑ̄vǒ cwǎmbū’ pīā nā ō ngə́ə́ ǒ sì cʉ́cák pìē shìà ndáh ntēh ntèndʉ̄ɑ̄ wɑ̄ tɑ́ ó mɑ̀mbīɑ̄ cɔ̀sǐ ncə̀ə̀ lɑ́ mfāhntíé bíì fùfùá mɑ̀nnám nthʉ̄ píá mvēnɑ̀ nzɑ̄ kɑ̀\\' pé\\' zě\\'è kó\\'nā sǐ\\' mfhʉ̄ nɑ́ wèn ntāh wèn bɑ̄ sóh tʉ̄ɑ̄ nɑ́ nɑ̄\\' nɑ̄\\' lɑ́ tʉ̄ɑ̄ ngɑ̌ ngén lǎh nzhwīē á sìīsâktēnɑ̄ nsɑ́\\' tū wéééééé ǎ mɑ̀ ndʉ̄ɑ̀nì ǎ mɑ̀nní nshīē\\'sī nā wèn sǒmnā à ǒ ngén ghʉ̌ kɑ́ cám thʉ̄ cám kè\\' mbēnmbên ngāp ncwé\\' cwē\\' ī mbɑ̂\\'nshìè síé fə̌ mēmmɑ̄ ò ǒ tú’ nshì í làh njáh nshǔ pə̀\\' ncɑ̀ɑ̀ ncò pɑ̀mbōòpè\\'é póó pè\\'è lɑ́ mbə̀pə̄\\' ghák lū\\' ǎ lé\\'sí ā ndàm zɑ̄h mbɑ̂\\' mfɑ̀\\' mǎ kə̀\\' mɑ́ wèn pʉ́ɑ́ ná síé mbhǐ ì fôhnì à tɑ́ ǒ njēē mʉ̀ sī mʉ̀ bɑ̄ ngɑ̌ mfɑ́\\' nɑ́ pɑ̀nkɑ̀yɑ̀\\' kòhndʉ̄ɑ̄ pó yá\\' mɑ̌\\' pè\\'è nshù ó mɑ̀ndám ncáhndʉ̀\\' nzhwīē mbǒ ǎ píé yèh lí\\' fhʉ̄ kò mbāt lā ngɑ̌ mɑ́ nnìɑ̀ɑ̀ kwā’ ghɑ̀\\' nù bɑ́ ǒ cát nòk pɑ́\\' nkēē lɑ́ zhínù zǎ shʉ̀ɑ̀ cīcō\\'ò mbɑ́ ó ŋwɑ̄\\' yáá nɑ́ ncə̀ə̀ nhɑ̄ ā á ngɑ̌ ìngén mfɑ̌\\' nɑ́ nǔ mbhʉ̄ ghǎm nkùɑ̀nkà\\' ngɑ̌ yíínzɑ̄ tɑ̀\\' pó ndáh nkwā\\'lā\\' nkwāt pè\\' só nàh nzʉ̄\\' nʉ̀ɑ̀ shwīāh mōh nthʉ̄ á lōh mɑ̀ cà’sì mbʉ̄ɑ̄ yì ngɑ̌ mbòmsì ō lɑ́ ǎ mbâ\\' tɑ̀\\' ǎ mʉ̀nzhwīē tɑ̀\\' mɑ̄vǒ ndāmɑ̀ lɑ̀ sì lɑ̄\\'ngʉ́ ghòōlə̀h mbā\\' lɑ́ zhī nàh njɔ́nshì mīàfʉ̀ pìē\\' nshǐ ntám mʉ̄ɑ̄ kā\\' pó phʉ̄ ā mfɑ̀\\' wɑ̄ bɑ̄ lɑ̀tʉ̄ɑ̄ lɑ́\\' njə̄ə̄ ə̄ yáá mɑ̀ lāhā ngɑ̌ mɑ̀nzhwíé mbī\\'tū mɑ́ ndū á mɑ̀nŋá\\'sí ā hɑ̀ɑ̀sí nshù lǎh lòh náh nhīā vhʉ́ ngòfāt ngɑ̌ mɑ̀mbēn béé kèè lè yò cwě\\' shwíé è zénkám lɑ́\\' pɑ̀mfí\\'kè\\' ǎ nǎk nkhù mā tɑ́ ǹ tō ī còpsǐ nkɑ̄ɑ̄ ndáh njwēn kwā\\' nkɑ̄ɑ̀shù\\' pɑ̀ŋwâtlɑ̌\\' híásí í ntēh ghə̀ə́ nshǔ ì kɑ́sʉ́\\' mbēh tɑ̀ ntāb wèn à nū nshì yāā mīè mbʉ̀ɑ̀\\' pʉ̌ nkwé\\' nkɑ̄ɑ̄ pɑ́ ó hō ā nkə̌\\'ŋwɑ̀\\'nì ò ó kɑ́ bɑ́ mɑ̀mvīātsī fě\\'è nsá\\'ntèn mʉ̄ɑ̄lǒh zāksī ncō nshì ǎ njóh nshì kēkēē pō sǐ\\' nnū ndɑ̀pɑ̌\\' séé bɑ̄ fɑ́h mbɑ̄\\' ō hom sə̄ə̄ cʉ̄cō\\'ò hɑ̄ zàpntə̄ə̄ lɑ́ mbú á lɑ́ tɑ́ nsōk ō nzí hə̌\\' tú ì khʉ̀khʉ̄ɑ̄ nǔ mìē nshǔ à ngɑ̌ lá\\' ndʉ́\\' lò kwênsòm ǎ zhí njɑ̌\\'nkwè\\'nì níát nshì mbhì ŋ̄h mɑ̄vǒ pɑ̌h nzhì nsɑ́’ pɑ̌h ìnsóh mbɑ̀ nkā’ mbɑ̀ càk mbát njóh mbɑ̀ sīēndʉ̄ɑ̄ nsóh mbɑ̀ sòh mɑ̄nì nə́hŋwɑ̀\\'nì ǎ njàmndʉ̄ɑ̄ sǐ\\' nkēēnkhʉ̄ɑ̄ bɑ̄ ǒ sì míé ngʉ́ ngɑ̌ mɑ́ ncát mōō ǎ ghèlɑ̀ tɑ̀ nzhì yə̄b sī sīē sī mʉ̀nzhwīē bɑ́ bɑ̄ mbâ\\' bɑ̌ tóh ndhī mbɑ̀ nǔ kɑ́ lɑ̄ ǒ nkə́b sì\\' mʉ̀ ǒ mɑ̀ngóó ú ǒ sók í nǔkɑ́ mbɑ̄ nshwītōk ngǎ\\'kǒ wǎh yì wúzɑ̄ ntōh yáá mbú à ǹ ndāh ndéé nā à ngɑ̌ pàt ngū\\' ngɑ̌ pàt ndáh mfʉ̀\\'nā mēmmɑ̄ è ntōòsì nsɑ̂\\'tūsè\\' ntìmbhì pʉ́ɑ́ ǒ kə̌\\' náhnshì í ngɑ̌ cɑ̀’sì ō lɑ́ mbɑ̄’ ō sīmɑ̄lʉ̄ɑ̄’ nkā\\' pè\\'è hʉ̀ɑ́ pè\\'è nkɑ̄ɑ̀shú\\'pù\\' mmíénāk zúncò wò lɑ́ mfə́h nù tɑ̀\\' ntèèndɑ̀ɑ̀ ncāt mǎ mɑ̀ncāp nkhù mā wūnèhē (pl zūnèhē) ǎ ghèn mɑ̀ kò kɑ̀ɑ̀ bì fə̄h mbā\\' ǎ nsī tɑ̌ fā\\' mbámntɑ̄\\' mbámnsɑ̄\\' tómfʉ̀\\' wèn ngɑ̌ làh ndɑ̌\\' nshʉ̀\\' ghèn njéh nǒk nɑ́ mbɑ̀ɑ̄ndə̀b cʉ̄cō\\'ò mbōò mà sǒh yà fènsì nhɑ̄ ā lɑ́ ò tǎm mbɑ̀ lāhā lɑ̄ ǒ lɑ̀ mɑ́\\' pòm mɑ̀ sī nù tɑ́ ó nā bɑ̄ ngɑ̌ ghʉ̌ nkɑ̄ɑ̄ pɑ́’ nshì lɑ́ nkɑ̄ɑ̄ bà bɑ̄ yò ngɑ̌ shʉ̀ɑ̀ tɑ̀ nthí nkhù mǎ sâh póá [póó á] kàmèrûn lā\\' lɑ́ fə̌ mɑ̀ngə́ə́ nù ǒ vɑ́h yō ò nzhwīē à ngǎ’ngòm sɑ̀\\' nzēnshì pí mʉ̀ = sɑ̌\\' yōh pɑ́h ó zēnshì yʉ̄ɑ̄ lɑ́ yīī nzɑ̄ tɑ̀\\' béé mɑ̄ŋū lè lǒhngə̄ə̄ hom ngà\\'hù kǎm shʉ̀ɑ̀\\' ǒ sì fīīnsāt bɑ̄ ngɑ̌ ìnníɑ́ɑ́ yāā ǒ sì yū\\' ndɑ̌\\' mfèn shʉ̀\\' ngɑ̌ ngén cɑ̌\\' zhʉ̀ɑ̀\\' làh ncāk mfɑ̌\\' ghɑ̀\\' tɑ̀\\' mbèè ntóó nhóócɑ̄\\' ǒ mɑ̀ngén mʉ̀ nǔkɑ́ ǒ ngén mʉ̌ ɑ́ ghʉ̌ kɑ́ cɑ́ɑ́hù fóh mbìyā\\' sī\\' mbèè nsóh nkā\\' ndū á mɑ́ nshwììpè\\'è mbǔ\\'nkěn-yīīsì/mbǔ\\'nkěn-yēēsì yà wúpíéndɑ̌h mɑ́ làh ntʉ́ɑ́\\' pí zúvʉ̀fī nshʉ̀ɑ̀yɑ́\\' ncâkngà\\' yò wèn mɑ̌ thʉ́ shʉ̄ɑ̄ mɑ̀ ǒ nzɑ̄ yò nò\\' mɑ̀ yáá sēn ngɑ̌ mɑ́ ngà\\'vʉ̌ nshì ndʉ̄ɑ̄ lě mɑ̀ndə́bsí lǎkpè\\'è pʉ̀ sìpě\\' kwě\\' njāb hě\\'nzī ngɑ̌ yéé nzhʉ̀ʉ̀sìpə̀\\' ghèn nné\\' sīē ǒ ìmbɑ̄ mɑ̀ ǒ púá ǎ nsī mfěnzɑ̄ sěhmbǎ\\'khù mǒ\\' ghǎm pʉ̌ ìndí\\' tʉ̄ʉ̄ zʉ̀\\' mó\\' mɑ̄nzʉ̄\\' mbə̄ə̄ lɑ́ mēmmɑ̄ ò nhéé shʉ̀ɑ̀\\' lə̀ə̀ nù sǐ\\' mbə̄h mbā\\' lɑ́ bɑ̄ mbūānì bɑ̄ mɑ̀ pèn pēn nǔ sīē sī ghɑ̀\\' nù bɑ́ bɑ̄ ǎ zàb ā mbī’tū mɑ́ ngɑ̌ cɑ̀ɑ̀ bī sə̀ə̄ zʉ̀\\' ngɑ̌ mɑ̀nkāā sì tú yāā sáhnù ntìmbhì hə̄ə̄ mbə̀’mbə̀’ mbūànzɑ̄ ǎ wùɑ̄ ncà\\' ngòò lɑ́ cīī mōō nzɑ̄ yǐ nā pə̀\\'nì pə̌\\'zīī ngɑ̌ cɑ̀\\'sì yēē lɑ́ cô\\'ndù\\' pèn pə̄ə̄ lɑ́ póómɑ̄ nhíé\\' pó wèn nkō wū ǒ ngʉ́ mbhʉ̀mbhʉ̌ nù těnshù nzɑ̄ kɑ̌\\' mbátnjàm mɑ̀ ǹ sī ìmbát lɑ̄\\' mfʉ́ɑ́\\'/ngʉ́ bɑ̄ pó lāt mɑ̄vǒ lə́ə́ mbōòmbìyā\\' pí njâ\\' nshʉ̀ɑ̀sòm ntâ\\' ngʉ̄nə̀ə̀ mbè\\' ntɑ̄h bɑ́ nù lɑ́ kwēn ā ndám mbə̀pə̄\\' nùpɑ́\\'mbə̄hwèn yì mɑ̀ ǒ kwè\\' lɑ́ ngǎ\\' nā à pʉ̀mbè ǎ nsī tɑ̌ ngə̀\\'sìtə̄\\'kə̄ ntēè nà sī yǎt kòntōh bɑ̄ yì bê nsɑ̂\\'pǎhngwè\\' njēnmò\\' ǎ kòntāāsī mɑ́ á mɑ̀nzhī\\'sī wū káánshì nshǔ sāk ń ndʉ̌\\' mbǔ\\'nkěn-yēēsì í fà\\'á nɑ̀ ǒ sì láh lèn wɑ̄ bíì fɑ́h í ncāknù tɑ̀\\' zīī zǐ léé ncō\\' nàk ngɑ̌ ghʉ̌ tɑ̀\\' lə̀ə̀ tɑ̀\\' wú mɑ̀ndám pɑ́\\' nzāt lɑ́ cə̄ə̄ ngwāh mēmmɑ̄ ò mbák wū nshǐ ngòò lɑ́ sī mɑ̀ntām ā mbɑ̀ nēhē bɑ̄ shwǐ\\'nɑ̄h nzâknù 8 ghə̀ə̄ pɑ̀ngèntōm kɑ̀ɑ̀ bò moralité ngɑ̌ njū\\' mbǔ\\'nkèn nkwèè līē\\' nzhìè làh mbɑ̄ tɑ̀’ nsìèsǐ mɑ̀nkō à mbə̀’mbə̀’ mbūànzɑ̌ mbú ó lɑ́ mbɑ̄’ ō njɑ̄ɑ̄ mfìènkǎk nɑ́ ncà\\' pèn bàá ǎ lǎh ndàk nníɑ́ɑ́ ndàk kè\\'è nkôfìè\\' nkhʉ̌ nɑ́ ncɑ̄\\' pó nnēē ngʉ́ tēhsítū tɑ̄ nhóó mfɑ̀\\' ǒ sì pā\\' khù ó mbhǐ njwátlɑ̄ thʉ̌ tòk nā à sī yà bɑ̄ acceptes-tu m\\'épouser ndʉ̄ɑ̀\\'ngāā ǒ nját nsíí kwēn lǎh ntìé\\' é pó kə̀b ā nsʉ̀ɑ̀ pó njāh ntìè\\' yì lóh mbɑ̄ zɑ́h wèn lɑ́ mʉ̀nzhwīē lɑ́ mbōp nkɑ́ɑ́ nɑ́ zúlīā\\' pǐmbɑ̀ɑ̀ pìkhǔmbɑ̀ɑ̀ mɑ̄ ā [mɑ̄ɑ̄] yáá sʉ̄\\'ʉ̄ yáá mvàk lāhā ǎ zɑ́ nkɑ̄ɑ̄ bà nshù tʉ̀tʉ̄ɑ̄\\' nshùntū\\' nkhʉ̌ncāt ngɑ̌ mʉ̀ nzēnshì ngɑ̌ wén ndù\\' ngàt ntə́ə́thʉ̄ mfīīsī nɑ̄\\' pó ncēh yāā mɑ́ sāhndó’ mbī’tūmɑ́ yáá nsāh póózū mɑ̄ndó’ pɑ̀njîyíí yá\\' sɑ̀\\' túmā\\' mbǎk mɑ́ nàm sīēbɑ̄njɑ̄ɑ̄ yáá mɑ̀nzēnsī ngɑ̌ mɑ̀nkwé\\' mɑ́ yì bíì lì nzhìè nàh mfūā pɑ́\\' sāk lɑ́ nā à ǒ sì īmbát nhé\\' nɑ̄\\' ghǒk ndhī tɑ̀ kɑ́ bɑ́ mɑ̀njwáásí ī ŋó\\'nzhì ngɑ̌ mbèè lè njīīngʉ̄ɑ̄\\' wɑ̄ bɑ̄ ncə̌\\' wúzɑ̄ ā sìī mbǒ\\'nkhù ghʉ̀ pɑ́\\' ǒ zhí lɑ́ ghʉ̀ pɑ́\\' ǒ kwè\\' lɑ́ yáá mɑ̀ndē\\'sī ō tě\\' zɑ̄h nzhwīē í ndē\\' tɑ̀\\' ncɔ̀ nshʉ̀\\' mɑ̀ mʉ̄ntòhō ǒ nsī mɑ̀ nɑ́ yǎ cápkò ò pú\\'nŋɑ̀\\' táànìsīē pɑ́ɑ́wú ngèèntēē ndʉ̀\\' zhʉ̀ɑ̀\\' mɑ̄vǒ kɑ̀\\' pát nzī nnè\\'mbīɑ̄ nzhîwèngén-wūɑ̄ ǎ tám pó nɑ́ ghʉ̀ɑ̀\\' zā sə̌ ngʉ̀\\' sī nɑ́ hù lɑ́ bɑ̄ tɑ̀\\' mfʉ̀ɑ̀hù bɑ́ vʉ̄ʉ̄ yáá sī tɑ̀\\' mvàk yì ǹ kɑ̀\\' pát njīī nō lɑ́ yáá sī mbɑ̀ mên ǎ ghʉ̌ ŋúnzɑ̄ sə̀ə̀mbʉ́ɑ́ nzɑ̂mɑ̄fə̀ làh mfhʉ̄ síì nkwēn séè ŋwâtmbèè ŋwâtlɑ̄\\' līē\\' zǎk pēē ǎ ghòòbɑ̀ wèn nzhwìè wèn ǎ lǎh njâ\\'ngām mvēn mēn ì ghèn nhɑ̄ mbí mòòwē nzhwìàmbə̀pə̄\\' mbɑ̀ mʉ̀ nkwén còh nhú\\' kò yěhwèn ò yɑ̌\\' mfɑ̀\\' yə̄ə̄ mɑ̀ pó njók ō lū’ bɑ́ pɑ̀ndák shʉ̀ɑ̀ yōh pí kɑ́ hǔ ndə̀\\' pó ŋɑ̄\\' ī mbōō làh nsí\\' ncwáántīē fɑ́hnzɑ̄ bɑ́ yá\\' màā nɑ́ à pó ncō\\' mfɑ̀\\' ma᷅ mbə̀pə̄\\' tùà ntéé mìè sìfʉ̀ɑ̀\\' sìfōh ǎ fʉ̀ɑ̀ nú mǐ pòm ngɑ̌ ngén mɑ̀ càhlɑ̄\\' nkòò lā tū í ghòh ǹ kɑ̀\\' zhī nàh nnɛ̄h nshì ngɑ̌ mɑ̀nkwá’sí làh ndə̄ə̄ndʉ̄ɑ̄ tɑ́’ nkɑ̄ɑ̄ sī mbú á bɑ̄ sə̌wèn sī wú pō bɑ̄ mɑ̄ŋūfámyèh līē\\' vʉ̀\\'ʉ̄ sáknā ncə́\\'nkàp cʉ̄cō\\'ò lɑ̀hsì ā lɑ́ ngɑ̌ sɔ̌ nzòk mǎ mbhǐ ò phǐ nkù\\'nì sǐ\\' nkōh bɑ̄ ǎ yá\\' làt ndə̄\\' pɑ̌h zénshì pɑ́ ó lɑ̀ yīī nkòò nò wèn yì ǎ ngʉ́ ngʉ̄ɑ̄ lɑ́ nkə́\\' mɑ́ pō yēē lī sēn à yì mʉ̀nzhwīē bɑ́ nzhwīē í kūɑ̄ cò\\' ǹ gēnɑ̄ kɑ́lɑ̄ ā ā ghǎ\\'ŋwɑ̀\\'nì il n\\'est pas en accord avec ses parents mbɑ̄\\' ō lɑ̌\\' mɑ́ tɑ̀\\' mʉ̄ɑ̄ nzʉ̂\\'nʉ̀ɑ̀ pō kà kú\\'sí nàh nzáb yōh póá kàmèrûn kǒ mbɑ̀ɑ̀ béè ndáh ntók nkɑ̄ɑ̄ bò yì ǹ dɑ̀fāt lɑ́ mʉ̀nzhwīē ǒ sì kāāsī conjugaison au futur lointain wū ndêlēē bɑ́ nkìnkèn mó\\' wū fʉ̌ píé ngǎ\\' mōō kɑ̀\\' zɑ̄ wúzɑ̄ (bɑ̄) mēmmbɑ̄\\' ō bɑ́ ǒ díé mɑ̀ lāhā ngɑ̌ yú\\' mɑ́ ó tōh làksì pó ndáh yāā ngʉ́ kɑ́ nsɑ̂\\'tūsè\\' pó kàm yɑ̄ɑ̄ ncò pó lɑ̀ pɑ́\\' còh nsāh mbə̀pə̄\\' mbə̀\\'mbə̀\\'/mbè\\'mbè\\' ngù\\'fí mbú ò ǒ sì nɑ̄\\' ndɑ́h sê kàbnkɑ̀ndàk sʉ̀ɑ̀ dù ŋə̄b pō ō pō lɑ̀cǎb ī mfhʉ̄ sēnɑ̄ kə̀kòp wò lɑ́ mfɑ́h nù tɑ̀\\' nàm sə̀ə̀mbʉ́ɑ́ lōhsī nkhʉ̌ mvʉ̄ɑ̄ lɑ́ ngɑ̌ və̌h wūɑ̄ nkā\\' mɑ̄vǒ mɑ̀nnē\\' mōō nshʉ̄ɑ̄ líé\\'nzɑ̄ ntâ\\'ntēē pʉ̀ tɑ̀ njə́ə́ mbōh nàh mvén tɑ̀\\' mōō pō bɑ́ lə̀ə̄ndʉ̄\\' ǎ ghʉ̌ ngʉ̌\\'mbǎ\\'ntām lɑ̀hsì pí lɑ̀ɑ̀sǐ mɑ́ fóhzhìè sī yàhléh nù bɑ́ bɑ̄ wèn shìè móó mɑ̀ngé\\' ǒ sì cə̄ə̄ mɑ̀ pɑ̌ghʉ̀ɑ̀\\' lʉ̄ɑ̄\\' nùsìpè\\' kʉ̀khʉ̌ɑ̌ nkèn mvát mìē ndʉ̄ɑ̄ ngɑ̌ mɑ́ mên táàwɑ̄ mbʉ̂\\' nǎ\\'mbū\\' cʉ̄cō\\'ò lɑ̀hsì ā lɑ́ ngɑ̌ hèè nzɑ̄ nsɑ̄\\' sí í kà\\'sì fǐ\\' nshǐ nɑ́ nsə̀ə̀ lɑ́ nkā\\' mō ngɑ̌ pʉ́ɑ́\\' khù ā zhìāndə̀ə̀ kó\\'ná mɑ̀ngʉ́ ā mfhʉ̌mfhʉ̌nù zhʉ̄ɑ̄\\' nshwī lɑ́ nshǐndʉ̄ɑ̄ ɑ́ nkǎmndʉ̄ɑ̄ tɑ̀ ǒ yú\\' ngòk yòh kə̀ə̄ mbǒ\\'nkhǔ píé sʉ̀ɑ̀ lǎh ngèn mbə̀pə̄\\' mɑ̂tǔ\\'kām ngʉ́ wū mɑ̀ nthʉ̄shʉ̀\\' ŋ̄h yáá lēē zǐ ghɑ̀\\' sī wò bɑ̄ mɑ̀ ngɑ̌ mɑ̀ hɑ̄ mbè\\'mbè\\' cà\\'sǐ mfɑ̀\\' lǔwèn ŋwɑ̀\\'nǐkóntā\\' ǎ cwě\\' nkǎb ná à ǒ mɑ̀ncāk làh ndō nkɑ̄ɑ̄ bà kāhā ò sɑ̌h wū lɑ́ ò wɑ̄\\' hù nkâmsíé mɑ̀ncátsí nshǐ nɑ́ pɑ̀mbénsīē lɑ̀hsì ā lɑ́ mɑ̄vǒ nùnū’ ngɑ̌ fhʉ́ncāhsī fɑ̌hnzɑ́ è tɑ̀’ fè\\'éfě\\'é yàhlēh ǒ zhí ndéndēē é pɑ́ ó nnūngùh yāā á nnāk pōk nǔnsén mbɑ̄ mbhǐ nɑ́ mbɑ̀kɑ́lɑ́ ndòm sīècɑ̄\\' nzhwīē à pè\\'è yèé ták tóh ndʉ̀ɑ̀ sên ŋwɑ̀\\'nì ncwáántīē ǒ mɑ̄ nzɑ̄ lʉ̀ɑ̀\\' ɑ́ pɑ̌pèè ngɑ̌ ìmbéhmbhì tɑ́ ó pēēsī sìyū\\'ntə̄h lɑ̀pìé kò tú\\'nsə̀ə̀ ngɑ̌ ghʉ̌ kó\\'nā kó\\'ná mɑ̀ngʉ́ ā ǒ sì mɑ̄nzátnshù fà\\'á ǹ sī ìndɑ́\\' lɑ̀h ō sə̀ə̄līē\\' bɑ̄ làh nsí\\' nkwé\\' bɑ̄ ghǒ\\'ngòfāt zén mbɑ̄\\' é mɑ́ wɑ̄ à sǐ\\' nzhī làh mbīɑ̄sī bɑ̄ njɔ̀nshì mbɑ̂\\'tú pɑ̄\\' tū ā nkā\\' mǒ ndʉ̄ɑ̀zī nthʉ̄ á mɑ̀mfī nkǒ\\'yéé sāhndó\\' cǒbnzhì kwɑ̌\\'ngà\\' nthíkáá kāākāā gháhnshǔ pǎhndàk mbə̄ mɑ̄ mʉ̄ɑ̄ndə̄\\' hom nŋāh pʉ̄ɑ̄ɑ̄ nàm tāā mbūɑ̀nzɑ̄ tɑ̄ nzɑ̄ wúzɑ̄ pó mɑ̀ncók mōō zɑ̌h nkɑ̄ɑ̄ bǒ mbú ì nshʉ̀ɑ̀mbhì á sɑ̀\\' ngɑ̌ nsī mɑ̀ nkɑ̀’ ǎ ngʉ́ nkə́\\' nkə̀mnkə̀p mɑ̄nǐnkwèè ǎ lʉ́ɑ́\\' lʉ̄ʉ̄ à yǎt sì sǒh nā ì nǔ ghʉ̀ lɑ̀hsì ā lɑ́ mōōnkō\\' à nzhînù sǐ\\' ngʉ́ pí ngʉ̀\\' bɑ̄ ǎ ngʉ́ pí zhínù ŋwɑ̀\\'nǐ cēh zɑ́hŋwɑ̀\\'nǐ nzhǐntə̄\\' ǹ kɑ̀\\' kwá\\' bɑ̄ ǹ kɑ̀\\' kwá\\' fà\\'á ǎ cɑ́ɑ́ ndǔ\\'nkhʉ̄ɑ̄ tɑ̄ nnū ò bɑ̌/mɑ̌ nsɑ́\\' mbɑ̀ sēnɑ̄ lɑ̄ mɑ̀ ncà\\' sī wū bɑ̄ mbɑ̄’ ō ngɑ̌ mɑ̀nkwé’ làh ngén cà’sǐlíé’zí sēn à mēnzhì lɑ́ ncǒ\\'ncò\\' póálɑ̄\\' fʉ̀ɑ̄\\' nzhì pʉ́ɑ́ ǎ sɑ̀\\' í hwíé mōō pɑ̌h yʉ̄ɑ̄ mɑ̄fə̀ ǹ kɑ̀yǔ\\' hèè wāhà sáhnù ntìmbhì ncɔ̀ sə̀ə̀mbʉ́ɑ́ ǒ ngén mɑ̀ hɑ̄ pàtngə́ə́ lɑ́ cīcō\\'ò nshʉ̀ɑ̀ mō kɑ̀\\' pé\\' yáá ncāk mɑ́ ó yā’ nū hù zō tɑ̄ ngén nnə́’ sīē ntôkcɑ̄\\' ǎ fǐ\\' pʉ̀ɑ̀ í sīē ǒ kə̀\\'/kwè\\' ā á ǹ kɑ̀\\' ghʉ́ ndə̀h njə́\\'njə̄\\' ndʉ́\\' càtsǐ nshǐ nɑ́ ndhī à mɑ̄vǒ mɑ́ ngòò ā cɑ̀\\' ngɑ̌ ìnsóh ò cwāh ngɑ̌ ìmɑ̄nsóh ò mɑ̄ncwāh ǎ lǎh mvāt njō\\'sī nā ì ǎ wùɑ̄ sīē ǒ ìnsī mʉ̀ tɑ̀\\' ɑ́ nkwè\\'nǐ mbɑ̄ lʉ̄lʉ̄ɑ̄ ghʉ̀ mɑ̂ nǔkɑ́ ó zàb ī nǔkɑ́ ó nzàb ī mɑ̂tǔ\\'kām zēn zǎ mɑ́ ndə̌nkāp nzhwīè cǎmnà\\' zone circulaire autour d\\'une source de lumière ngà’mbhǐ à còkòwɑ̄ làh mfák ndʉ́’ mbɑ̄ mɑ̀ yáá ghɑ̀’ tɑ̀’ ɑ́ ǹ kɑ̀\\' kə́\\'/kwé\\' ghɑ̀\\'ndù\\' ngɑ̌ (mɑ̀)ngén mɑ̀ kò nshǐ kǎk ā nǎm púá táàpù\\' ntʉ̀\\' tēnɑ̄ lɑ́ ŋāā zǒh ntōm nshǔ ngwɑ̀wɑ̄\\' ǹ jǎt tɑ̄ mɑ̄ nsɑ́\\' ndʉ̄ɑ̄ lě lòmsì ká\\'tū ǒ sì nɑ̄\\' mfʉ́ɑ́\\' tʉ́ɑ́nshǔ phʉ́mfɑ̀\\' ǎ fòmsǐ ndɑ̀\\' yōh làh ndʉ̄ɑ̄\\' ncò kɑ̀\\' pé\\' mbɑ̀ fà\\'á ǒ sì kō\\' thʉ̄ mbɑ̄\\' á kèè lī ŋwɑ̀\\'nì nkāpsī cǎh pɑ̌\\' ŋwɑ̀\\'nì à fǒp nzī ntʉ̄ɑ̄ ngǎh těn kwèlè\\' ntǒ\\'ntò\\' ngɑ̌ yéé pwēlɑ̄ kwénkwɑ̀\\' làh wǎ\\' lɑ̄ndɑ̌\\' bê un accident s\\'est produit mēnìá\\'tūpō ghèn nŋwáá nshì ndáh nsɑ́\\' ghèn nníɑ́ɑ́sí ntámndʉ́ɑ́ mbí pɑ̀ngèn ngɑ̌ ìngʉ́ yāā mēndɑ̀\\' ntə̄\\' mbīɑ̀ndʉ̄ɑ̄ ndʉ̄ɑ̀ntēē ǒ lʉ́ʉ́ ʉ́ hū sīèndʉ̄ɑ̄ ǹ kɑ̀\\' cə̄ə̄ pə́tō\\' fī\\'sī nzhì mbǔ\\'nkèn pǎtzén nzìnkà\\' ngɑ̌ shwītōk pɑ́\\' tēnɑ̄ lɑ́ ngɑ̌ mǐ sʉ̄ʉ̄ (j\\'ai avalé un éléphant) on dit aussi ngɑ̌ díé tɑ̀ pò\\' fɑ̄h nɑ́ à ndhī yā\\'hwīē pǎh còh lə̀ə̄ ndʉ̄\\' lǒ zə́hnzɑ̄ sēē nshwī ngɑ̌ mɑ̀ngátsí nā à nthí nzɑ́ mɑ̀nsáh lā nɑ̄h mǎ mɑ̀nsáh ǎ zɑ́ ndɑ̀\\' ngɑ̌ (mɑ̀)ngén mɑ̀ wú nkwâtū/mbɑ̂\\'tū ngɑ̌ pén ó nɑ́ ŋwɑ̀\\'nì yì ò lɑ̀cǎh mbú á lɑ́ fì\\'sǐ nsə̀ə̀ ngɑ̌ mɑ̀mbīɑ̄ yāā pɑ́\\' nzát mōō lɑ́ ntáà pōh ntáà mbōh njwé\\' mbɑ̀ɑ̄nshì sə̀ə̄wū kɑ̀\\' thí nā zǎp nā ò ǒ ngʉ́ nsɑ́\\' séé ǎ hábsí mōō tɑ̀ à ghê\\' mbɑ̂\\'ndū á (ndū ā ndāmɑ̌) nkwé\\' ā tɑ̀ shʉ̄ɑ̀ kɑ́ tɑ́ ó mɑ̀nkwé\\' làh nzɑ̄ mbūànzɑ̄ ɑ̄ ndhī í mɑ̀njóm wèn ngɑ̀ kɑ́bɑ̄ sīē ǹ kɑ́bɑ̄ sīē ntōk mǐ sǐ\\' nnēē njū\\' nù bɑ̄ hɑ̄ yǎ lɑ̂ pó sìè ā mon mari m\\'a abandonné ngɑ̌ ghʉ́ɑ́\\' ō ǹ kɑ̀\\' hɑ̄ ō ǎ nám ā pò\\' zī nkhʉ̌ mví pīē\\'sī víátngòfāt shwīē nī lɑ́ tɑ̌ yāā cōh ngǎ\\'kò ǒ njʉ̄yōk yə̄ə̄ shwì\\'ncámncām ngɑ̌ kwè\\' ī tɑ̀\\' ngɑ̌ kwè\\' ī nshʉ́ɑ́ mbɑ̀kɑ́lɑ̄ mfɑ̀\\'ndīēkò sʉ̄ʉ̀mfɑ̀\\' nú zāpsī těn thʉ̄ mbàtndʉ̄ɑ̄ nā\\'njə̀ ncà\\' sī wū bɑ̄ ngǎ’kǒ yī mɑ̀ hɑ̄ mvāt mī vénsɑ̀\\' lɑ̌\\'mbɑ̄ mbhì mbɑ̄ mɑ́ ŋwɑ̀\\'nǐlə́ə́ndʉ̄ɑ̄ pó hwǐ pè\\'è yōh nā à sī mɑ̀nŋwā\\'sī mbɑ̀ nèhē bɑ̄ zhínǔvʉ̀fī ngɑ̌ lǎh yāā ncāh nzhìè vàm zā lɑ̀hsì ā lɑ́ ngɑ̌ fʉ̀ɑ̀ ō ǎ mbèè (ǎ ndʉ́ɑ́) hě\\' ntʉ̀ntɔ̀ sī màà tɑ̀\\' nkwà\\'nù bɑ́ bɑ̄ autrement dit pó ndī\\' cēh fʉ̀ mɑ́ fʉ̀ mbī\\'tū mɑ́ á mfʉ́ʉ́ nù tɑ̀\\' ndó kīkēē nkūɑ̄ ndēhyèh nsátnkòò ngà\\'ghòó mɑ̀mbūā fhʉ̌ pēē dhù ngén nshì yòh pí sēn à bɑ́ còhsì nnʉ́ɑ́ɑ́ pʉ̀ɑ̀ ā lɑ́ mfìè\\'ntēē nshʉ̄ɑ̀tàb nù lɑ́ mɑ̀nnēsī yáá yá\\' sī mvàk yì ngɑ̌ mɑ̀nkə́\\' ō lɑ́ ngɑ̌ lén mɑ́ pɑ̀h shʉ́ɑ́ à dhī sǐ\\' ndʉ̄ɑ̄ ghòó hám ī yə̄ə̄ ǒ mɑ̀nkə́\\' làh nsɑ́\\' mbèé mbú á yāā sī mɑ̀nshʉ́ɑ́ ā mbɑ̀ nèhē bɑ̄ ǒ sì zhʉ̄ɑ̄\\' nzhìndʉ̄ɑ̄ (bɑ̄) lěn vʉ́mōh wúzɑ̄ lɑ́ kòndáb yáá ìmbɑ̄ mɑ̀ yáá pāh ndə̄\\' lʉ̀ɑ̀\\' nī ǒ sì mɑ̄nhó nǔ wèn nsʉ̀m nshù j\\'ai été abandonné par mes parents fī\\'sī yīīsì ndʉ̄\\' lɑ́ ngɑ̌ lɑ̀ɑ̀sì ō sʉ́\\' zʉ̄\\' nʉ̀ɑ̀ ngwé\\'ngwē\\' còh mfɑ́\\' ǹ kɑ̀’ zhī kwɑ̀’ wū yì ngɑ̌ nkə́’ lɑ́ lɑ̄ mfɑ̀’ mā cām tî mfâhghə̀ə̀ mbǎ\\'ntām à mōònkō\\' à mēngābɑ̄yū\\' à fǎm ndàk ndāhndáh nù nkwātū ngòò lɑ́ pə̄h mɑ̄ à wèn njàm mbɑ̄\\' mēmmɑ̄ mbɑ̄\\' yì mʉ̀nzhwīē nnʉ̀ɑ̀ɑ̀ncāt pōnshʉ̀\\' sǐ\\' nkwāt pū\\' bɑ̄ ndʉ̄ɑ̄sɑ̄\\' zhínǔshʉ̀ɑ̀\\' líkpè\\'è vɑ́hnēhē nkō pō à sǐ\\' mfhʉ̄ kò wɑ̀\\' bɑ̄ mó\\' mvǎk njá\\'zū kɑ́ ndɑ́\\'sí mɑ́ wú kōh lɑ́ béè lēn mɑ́ ŋà\\'á ń zàb ō ngɑ̌ mɑ̀nŋwā\\'sī nā á mɑ̀nŋwā\\'sī póónsə̀b píá póóngòó njōkò ntʉ́ɑ́\\'sí ǹ njāt ndʉ̄ɑ̄ ndǒk à ngòò ā ngwè\\' ǒ ngə́ə́ nglǐsì í mbhʉ́ ndǒh nkhʉ̌nkèn ntámndʉ̄ɑ̄ á mɑ̀ hɑ̄ mʉ̄ɑ̄ fùfùá mɑ̀nshʉ́\\' hǎ\\'mbǎk kòmvīātsī mbī’tūmɑ́ ngɑ̌ pʉ́ɑ́’ wúsʉ̀ɑ̀ zī nsɑ̄\\' ncà\\' ǎ ìngén kò kǎk nkǎb ndū ò ngòòmbɑ̄\\' zúsōh ngǎ\\' làh ndɑ̌\\' nzhì nshʉ̀\\' lǎh nìnì à lɑ́ pʉ̀ pʉ́ɑ́ ǹ hɑ̌ ō ngwā\\' mɑ̀ ǒ nhɑ̄ ā kɑ́ fùfùá mɑ̀nshʉ́\\' nsɔ́ zɑ́hnzɑ̄ sə̀ə̀mbʉ́ɑ́ mbēēsī ntòhō pó sēē khù ā mbɑ̄\\'ndāmɑ̀/mbɑ̄\\'ndābɑ̀ ǒ yú\\' cə̀\\' ə́ ǒ yú\\' cwè\\' é tɑ̀ ǒ yú\\' cə̀\\'/cwè\\' mbò lìì mên ndū í làh ī fɑ̄h mbǎ\\'ntè\\' nìá ń jēē ǒ mɑ́ nshwìè mbā\\' á ǎ híát pó tók à pó sōk ā mɑ́ wò bɑ̄ nzhʉ̀ɑ̄ wúzɑ̄ ā nkə̀\\'lɑ̄\\' mɑ́ mbɑ̌ mɑ̄ fǎb mfʉ̀\\' ntìè\\' tɑ̀ njə̄ə̄ táà wē mɑ̄nzhì lɑ́ ŋó\\'ŋō\\' yáá fíáfīā mbōònzhʉ̀\\' ngɑ̌ yá’ yɑ̄ɑ̄ fà’á mēmmɑ̄ ò ngɑ̌ mbɑ̄ ntìé’è ngèn kò nkwèè līē’ ncɔ̀ nshʉ̀\\' mɑ̀ mʉ̄mbʉ́ɑ́ kēē wèn ngɑ̌ mɑ́ nkēèzū ǹ kɑ́ wàā hə̌\\' mbú ò ngǎ’ nā ā cɑ̄’ ngɑ̌ yá’ bɑ̄ mɑ́ táàmbâ’ ntìé’è nʉ̀ɑ̄ mbìyā\\' il n\\'y a aucun abri ici pó nsóh ntə́ə́thʉ̄ nsíá tɑ̄ mfāt ndʉ̀ɑ̀nákō\\' ngàmngàm sī sīē bɑ̄ mɑ̀ pɑ̀h sī wū bɑ̄ sə̀ə̄ntìè\\' fāh yāā ntíé mfʉ̀ʉ̀nù ngà\\'mfʉ̀ʉ̀ táknkà\\' ngà\\'mfɑ̀\\' nkwè\\'nì mǎ yáá mɑ́ sìkə̀\\'nkə́\\'/sìkwè\\'nkwé\\' nù lɑ́ yɑ̄\\' tōm kɔ̌vɑ̀h kóntá\\'mfɑ̌\\' cákngà\\' nkwén ghāp ngwēn sʉ̄\\' ndáh wěn mfɑ̀\\' ǎ yíí nā ǎ lɑ̀ cɑ́\\'sí ā ǒ mɑ̀njā\\'nthʉ̄ ʉ́ nǔ mɑ̀mbɑ̄h ō ó mbênsìkwà\\' mēn ǎ ndʉ̄ɑ̀kà\\' mɑ̄ngóó ngɑ̌ mɑ̀ncō\\' ndhí nɑ́ à ngɑ̌ mǐ njwé\\' mbɑ̀ɑ̄nshì nkhʉ̀ɑ̀ mfɑ̌\\' ndēn sì\\' mɑ́ á cāh ngʉ́ pí nsō\\' ngʉ́ pí njɑ̀\\' njâksì kʉ̀khʉ̄ɑ̄ nnú\\'nshì ǒ sì kwāh pó ó nɑ́ à mbī\\' ngɑ̌ pén ō dìpʉ̀ɑ̀ wèn kwə́ə́ mvāt fʉ̌\\'ngwè\\' ngɑ̌ nshʉ́shʉ̀ɑ̀ mbɑ̀ ǒ sì īmbát ngʉ́ zɑ́h kū\\' ngòp nā á sìà pɑ́\\' mɑ̄mbʉ̄ɑ̄ báá wū yáá fàb yáá fàm yáá fòb nsû nzʉ̄ m̀ fhʉ̌ tɑ̀ nzhī mɑ̀ ǹ kɑ̀\\' sɑ́\\' ngɑ̀ fhʉ̌ mbɑ̄ mɑ̀ ngɑ̌ zhí mɑ̀ ǹ kɑ̀\\' sɑ́\\' ne pas confondre avec mbhʉ̄ ǎ zí mōō kɑ́ hɑ̄ fáhtìē yáá mbú à lī\\' sī mɑ̄mbīɑ̄ɑ̄ nā ò ndùàlɑ̌ fí\\' ń dēn mbú í pʉ̄ɑ̄\\' mbō lǎh ghə̀ə̀ ǒ lù\\' tɑ̀\\' ngɑ̌ tám ngáá tú ó mɑ́ tíklìklìklìklìk tûm mɑ́ mbɑ̀ nsìèsǐ sɑ̀\\' zě\\'é mēn à yì mbâ\\' móó nǔ\\'nshì cwâhntū\\' yàā ntìē\\'nzɑ̄ béé wú pèn mbɑ́ wěn lɑ̀ cōp yì mbʉ́ɑ́bɑ̄ ǹ sī mɑ̀mfɑ́\\' ntìé\\' bɑ̄ ngɑ̌ mɑ̀nsɑ́\\' tū ā zɑ̄ tɑ̄ nshʉ́ɑ́ mfʉ́ʉ́sí nǔmbísíé mɑ́ tɑ̀\\' nùkō\\'vàm ngǎ’ nā à zā ndìà ǹ dɑ̌’pīī wū tɑ́’ mbɑ̀wɑ̄lɑ́ nshwī lə̄ə̄ ghə̀ə̀ béé nɑ́ ntìē\\'tōh mēndɑ̀\\' cīcō\\'ò mbɑ́ ó cāh ngwá\\' mbú á mbè’é mbú á pɑ́’ nshì lɑ́ mbè’è mā bɑ̄ yò s\\'il te plait viens m\\'accompagner dehors wèn pə̄ə̄ lɑ́ mbʉ́ɑ́ nū ngù cákngà\\' tə̄ə̄sícwè\\' pá\\' ǹ nzhī ghènɑ̀ dù ngénɑ́ lù nsí\\'njàb zǐ nzhīnù nshʉ́ɑ́ ī mbôhghòò mbɑ̄\\' ncìā sə̀ə̄ nshì pó tòōngǒk těn ǐ nɑ́ mfɑ̀\\' sìpè\\' mī ngɑ̌ nɑ́\\' ncōh nkō cə́ə́ nù yáá kōh tāk ntōk mǒ ncóh njū\\' yā\\' zɑ̄ tɑ̄ ngénɑ́ zúvhʉ̀ kɑ̀\\' bɑ̄ làh ndó\\' nzɑ̂mɑ̄fʉ̀ yáá cò\\' kwɑ̀ être responsable de ses actes ntèn nsá\\' nkùɑ̀ lǒsīē khʉ̀ɑ́\\' yá\\' tə̄\\' pó ndáh ngə̄ə̄ ncāk mbɑ̀ kɑ́ ntīē nù lɑ̄ kʉ̀kàb wèn hɑ̄ mbú ì wúzɑ́ sīē tɑ̀ njə̄ə̄ pěn sì tó\\' zʉ̌\\'ŋwɑ̀\\'nǐ póósīē ngɑ̌ mɑ̀nnū ngùh mɑ́ ǹ kɑ̀\\' zhī sə̀ə̄wú nɑ́ béé nù lè ghèn njēh ndhī nsíé wū nsʉ̄\\' pìàp kə̄bsī nā ō ngʉ́ ngát pō fʉ́\\'tʉ̄ʉ̄ ǒ zhí zēn zǐ nā á fʉ̀sì lóh zɑ́h à ntēn kɑ́ ntēn kɑ́ nzhwīē ì zì shīā ǎ ghě\\' wúɑ́ ndū ì tɑ̀ nzhì ì shīē\\' nɑ̄h mǎ mɑ̀njóh nkǎm vʉ̀\\'ʉ̄ pó njéh pí nzī nkhʉ̄ɑ̀njō mbǎk fhʉ́ndō khù í kònsāksī ò wɑ̌\\' tú ó mbí ncàtlɑ̀ mɑ̀ à kɑ́lǎh báá wū ŋɑ̀\\' mī nhíá ngòò sên mɑ̄ghɑ̀ɑ̀ bà (yì mʉ̀nzhwīē) bɑ́ lī\\' mɑ̄nkāākhʉ̀ fà\\'á mɑ̄ncōmsī ngòpndʉ̀ mbōh ghòò fī mēn ǎ cɑ́ɑ́ tàm nzhwīē ā kɑ̀\\' tɑ̄ mfák sēn à ɑ́ mbɑ̀wɑ̄lɑ̄ fɑ́\\' mfɑ̀\\' mǐ kǒ\\' ghə̀ə̀ fǒp ngòò mɑ̀\\'sì ā ngwā\\' mbɑ̀ yʉ̄ɑ̄ ǎ ndī\\' zɑ̄ wúzɑ̄ mɑ̄ njóhnshì nsā\\' ɑ́ kɑ́ yàā wū tɑ́ ó mɑ̀ndēn ncâkngə̄ə̄ ngǎ\\' à sī mɑ̀nzɑ̄ wúzɑ̄ ntìé\\' bɑ̄ ngǎ’ mɑ̄vǒ ǹ kɑ̀’ tū’ nshì bɑ̄ ngɑ́ɑ́ ǎ ndā\\' pɑ́\\' fìè lɑ́ ǒ ìndī\\' mèhsǐ béé sìèsì lè mɑ̀ ǒ zhí mbʉ́ɑ́ làh nsōk ntìé\\' mbí wèn nzhī ndēn mɑ́ mɑ̀ ǒ zhí làh ncēh nàm mʉ̀nzhwīē lɑ́ pə̄hnthʉ̄ yə̄ə̄ njɑ̀ɑ̀ bì téh ndʉ̀\\' yə̄ə̄ kɑ̀\\' pé\\' mbōò ngà\\'ngʉ̀\\' wǎ\\' sèn ā tūpō í mēn fíé yāā yáá pè\\' yέέ pə̀\\' mbə̀\\' mfɑ̀\\' pó mɑ̀mmó ndʉ̄ɑ̀mò ǎ mɑ̀nkhʉ̄ɑ̄ nkɑ̄ɑ̄ bì pí yá\\'nthʉ̄ ntōmnkà\\' ngɑ̌ mɑ̀njā\\'nthʉ̄ thʉ̄ lɑ́ kɑ̀\\' yām ngǔ\\' è mbā\\' lɑ́ mɑ́ tú\\'nkòò mɑ̄ à yèè ghòò kɑ̀cáb ā wāhà mbìì nī mfāt tòòndāk ngòò lɑ́ ghʉ̌ pénthʉ̄ nkwāt těn pè\\'è ǎ nàksǐ nkhù mā tɑ́ ǹ tō ī njû\\'nshǔ nzɑ̄pìì pō lə̌b nù sǐ\\' mbɑ̄h mbā\\' lɑ́ bɑ̄ ngén tə̄b yéé yà wɑ̄ lɑ̄ ē nǔ ghʉ̀ ā lī\\' zɑ̄ wúzɑ̄ mɑ̀ ǒ sǒh nā ò ghěn kò njíí mbɑ̄\\' ē ghèn ngwáá tɑ̀\\' ntʉ̀\\' ndàk ndáh nsɑ́\\' mbǎk nzɑ́ nshwīē\\' tɑ̀\\' mǒ\\' zʉ̀\\' zʉ̌\\' shù ǹ dɑ̀bɑ̌ mɑ̀ ngɑ̌ ghʉ̌ ngù\\' ghám nɑ́ báá ntìè\\' lɑ́ wò yō yò túmfɑ̌’ mɑ́ kɑ́ ǒ ngʉ̀ nēhē ǒ ngʉ̀ mɑ́ nēhē ngɑ̌ hòō tɑ̀\\' zhínù ngɑ̌ yú’ ngɑ̌ ìnkwá’ nǔ ná mbō mǎ có mɑ̄ndâb ǹ kɑ̀\\' ghʉ́ ndɑ̀h hǔthʉ̄ lēn mɑ́ pō sɑ́\\' ncɑ̄\\' mbǎm ǒ mɑ̀ngʉ́ kɑ́ ghʉ̀ tɑ̄ njēē ǎ lə́ə́ ndhī ì hǔ ndhʉ̀ líé\\'zī kǎb shʉ̀ɑ̀\\' zēn zǎ mɑ́ ǹ kɑ̀\\' cóh nzhī làh ngə́ə́ ghə̀ə̄ nùfī ǎ sɑ̀\\' ntìè\\' yì ngɑ̌ fhʉ̄mɑ̄nzɑ̄ wúzɑ̄ ā lɑ́ mfènmbɑ̀ɑ̀ ngɑ̌ mɑ̀ndáh ntə́ə́thʉ̄ ngʉ́ có\\'nshù yēē ŋʉ̀ŋáhnshù mɑ̄ɑ̄ kwě\\'ncò tōm mbʉ̀ɑ̀ nsɑ́\\' ǎ fʉ̀ɑ̀ ā mbǔ\\'ntōk nkām nsɑ̄\\' mbʉ̄mbɑ̀ɑ̀ wǎ\\'ŋwɑ̀\\'nì ghə̀ə̄lɑ̄\\' yǒh mɑ́ ndʉ̀ndām póónì ngɑ̌ vǎ\\' mó\\' wū và\\' ǎ yíí nā ǎ lɑ̀ cɑ́\\' ā ngɑ̌ kwà\\' mɑ́ ó ntèn/shwītōk nzhîwèn mbɑ̂\\'mfɑ̀\\' mǐ yòk í mfɑ̀\\' ngàp nkwēn mfhʉ̀ nǔkɑ́ ó mɑ̀mfīīnsāt kɑ́ béè kèēsáhwū khʉ̄\\' ntōk ncóh njū\\' l\\'abaissement du cout des denrées fera mieux vivre la population sóhnzhwīèfʉ̀ cɔ̀nə̀ə̀ sòm mbɑ̄\\' ō màà yōh pí nzhwīē á pòmsì mfhʉ̄ līē\\' yì ǹ dɑ̀pòmsì ō lɑ́ ǹ sǐ\\' nját ndīē lōh bɑ̄ pó ndáh ntə̄ə̄ pí ndʉ̀ɑ̀ ntō lǎk ndàk nūnkə̀ə̀ mes parents ǹ kɑ̀\\' láh bɑ̄ tɑ̀\\' nzhwīèfʉ̌ mbɑ̄ tɑ̀ mfák pō lēn mɑ́ á sě\\' kām ntē\\' ntám nkwèè lɑ̄\\' mɑ́ « kám pè\\' » nné\\' pàhshʉ̀\\' nzhwīènɑ́hsáhwū pɑ́ ǹ nnūngùh mɑ́ nzhwīē à lɑ̀\\' ghén mɑ̄ghɑ̀ɑ̀ nkhʉ̌tēlɑ̄ pó zàb ī lɔ̀ bò ǒ sì lɑ̄\\' mbéé mēmmɑ̄ è (bɑ̄) táànìnkhʉ̄ɑ̄ móó yá\\' mɑ̄ntēn thʉ̄ nkɑ̀ndàk ghə̀ə̄ nshù pó ncēh yāā mɑ́ shʉ̀ɑ̀’ pó nsó tú wèn nɑ̌h ntə́ə́njɑ̀ɑ́ ndòm nʉ̀ɑ̀ pɑ̀ntámnkòò ngɑ̌ mbōh nkō\\'vʉ̀ fīā fīālɑ̄ il s\\'est accaparé de mes biens ou ǎ lə́ə́ mvèn mʉ̀nzhwīē ncò\\' tū ǹ dɑ̀kwě\\' ō mfhʉ̄ līē\\' còhsì ngʉ́ vǎmbà\\' ngɑ̌ zʉ́\\'nʉ̀ɑ̀ tɑ̀ pō ā kōpsî kə̄bsī nā ò lā\\' lɑ́ ǒ sì īmbát ngé\\' fíáfíá tèn ǹ sī mɑ̀mbēn kwà\\'sì zǐ bɑ̄ nshʉ̄ɑ̀ kòlə̀\\' yēē pí wɑ̄ bɑ́ mɑ̀nshʉ́ɑ́ ɑ̄ mbók cō ntám mbōk ngɑ̌ (mɑ̀)ngén mɑ̀ wú … ɑ́ pèn tēn káákāā làh ntō\\' zě\\'è hom ngɔ̀ ngà\\'kǎ\\' zhì ā ngwā\\' mbɑ̄\\' ō pí mɑ̄vǒ ndāmɑ̀ sǐ\\' nját wū bɑ̄ nkòò nī nshwìàlōh mbɑ̄’ é mɑ̀ hɑ̄ ngɑ̌ hǒ ŋwɑ̀\\'nǐ sēn à ɑ́ nǔfə̀ zǒ sɑ́\\' kǎb nzhì tʉ̄ɑ̄ pʉ̀ɑ̀ lɑ́ sīē nú zāb těn thʉ̄ ngɑ̌ yá\\' mèèsì pə̄ə̄ sì tɑ̄h ndʉ́ɑ́ ó mbí mbʉ̄ɑ̀ndù\\' ndǔ\\'tʉ̄ʉ̄ ngɑ̌ ìmbát ncáh ghòó mɑ̀\\'nì ā yə̄ə̄ zǎm nā ò ǒ sì láh wǎ\\' wěn ngʉ́ nkɑ̄ɑ̄ ǎ lɑ̀ zhī mɑ́ á kɑ́lɑ̄\\' pōk pō sǐ\\' ncóh ncō\\' mfɑ̀\\' ma᷅ bɑ̄ fí\\'púh lēētīā yèh ngɑ̌ ghʉ̌ póómɑ̄ kwɑ̀ ghǎ\\'ŋwɑ̀\\'nǐ kònhām ndʉ́ndʉ̄ʉ̄ ngɑ̌ cáp pó mēn ì pʉ̄ɑ̄ɑ̄ bā ngòò ā ngə̀\\' ŋō\\'ŋó\\' nzhì táà wɑ̄ wɑ̄ bɑ̄ ngʉ̌ tě\\'nù ù ǹ kɑ̀\\' zhī làh nnā\\' wúzɑ̄ shʉ̀\\'sǐ nsā\\' lɑ́ tɑ̄ ndə̄ə̄ fí mɑ̀ntōm ntám fāk zǐ ncwé\\' vā\\'sī ā nzhʉ́ɑ́ nkɑ̄ɑ̄ bà ntʉ̄ɑ̄ shʉ̀ɑ̀\\' lā\\' kōmsī/kə̄bsī kōmsī nā ò wɑ̄ bɑ̄ ngʉ̌ yāā lè ngòpkwàà nthʉ̄ á lōh mɑ̀ cà\\'sì làh mbát njīī nō ǎ kònnʉ́ɑ́ɑ́sí làk lí\\' ghǎ\\' kwà\\'sì mɑ̄mbhʉ̄ mò\\' mbə̄ə̄ lɑ́ mēmmɑ̄ ò ndɑ̌\\'mɑ́ sɑ̌\\' pɑ̀h móm ɑ́ kɑ́ ǹ kɑ̀\\' kə́\\' ghàtsì ǎ ìnzáb ō = à kɑ́zàb ō ǒ mɑ̀nkə́\\'/mɑ̀ncāk làh nhwīēsī nā ó fə̌ kɑ̀\\' ā mʉ̀nzhwīē ngə́ə́ mɑ̀ntāb ā mɑ́ nzhwīē á zǎk njǎb à zʉ̀\\' sī séè bɑ̄ hɑ̄ ā ghāh nshʉ̀\\' lɑ́ cīcō\\'ò ghɑ̀ɑ̄wū ngɑ̌ nkwé\\' ghə̌lɑ̄\\' yōh yə̄ə̄ ntʉ̄ɑ̄kɑ̀\\' zʉ̌\\' douala ngɑ́\\' ǹ ngǎ\\' ǹ kɑ̀\\' zɑ̄ sə̀ə̄wū (bɑ̄) ngɑ̌ mɑ̀njā\\'nthʉ́ mbú ò ngɑ̌ mɑ̀ngə́ə́ mɑ̀ mbú ò tēh nkɑ́ɑ́ pʉ̀ɑ̀ ǹ kɑ̀\\' tīē zēn zǒ pó nzhī wèn nshʉ̀shʉ̀ɑ̀ mɑ́ ntìē\\' sēē ncāk ngə̄ə̄ ǎ ghʉ̌ yāā mbéhmbēh ngɑ̌ zhí mɑ́ yāā yǎt sì tɑ̄ mmáá nɑ́ ō tɑ́\\' kààlɑ̌ yō mbīē\\'sī nù lə̌\\' nù wúɑ́ mɑ́ mɑ̄nzhì nkwèè pʉ̀ yāā sī nɑ́ nkǎ\\' shʉ̀ɑ̀\\' bɑ̄ láánì í pá\\' ngòfát ntēē ncám wò nshù’ngə̀’ nzhìè làh mbɑ̄ kɑ́ bɑ́ mɑ̀nkō ō yō ngòò lɑ́ mbū\\' shìà ntìā pīāh nā ō ngʉ́ kǎb khù ndù\\' lɑ́ kòmfī tìēmɑ̀shîŋ ǎ fúá ndē\\' à ngɑ̌ lɑ̀ɑ̀sì ō mfěnmfèh pɑ̌h ghʉ̌ tɑ̀\\' mòōwūɑ̄ mvʉ́ɑ́ cwààsǐ mbɑ̀ɑ̄ndə̀b nkàbɑ́ ngòòndə̄b nkhʉ̌tēnɑ̄ pó ncwēh ntám ŋó\\'pō de quel sexe a-t-elle accouché pɑ̀mbòrōró mɑ̌\\' nkě\\' ɑ́ mvēnɑ̀ fī shwī ɑ́ hè\\' fāt yā\\' ghʉ̀ mɑ̄vǒ wóktèn pí mɑ̄vǒ nkwèèmóó mɑ́ pɑ̀fɑ́hnkhʉ̄ɑ̄ táàkū\\'ngà\\' mbʉ̂\\' mòōntʉ̀ɑ́\\' zhí làh mvhʉ́ yɔ̌nshì ngà’njǎm ǒ mɑ́ mbâ’ tɑ̀ mʉ̀nzhwīē fhʉ̀ní wèn ngɑ̌ lǎh yì lābɑ̀ kèēmfɑ̀\\' ŋwɑ̀\\'nǐ kèēmfɑ̀\\' pìè zǐ cwéé nsíé nkèn táà kǔ\\'ngà\\' je vais conjuguer le verbe manger au présent de l\\'indicatif thʉ́ wùɑ̀ ncātsī mēnzhì cɑ̀’sì sǐ’ nját nzɑ́ é bɑ̄ í mēmmɑ̄ ò ǒ sì sī sīē (bɑ̄) ǎ nnák nōōnóó yāā nù lɑ́ cō tə̀ə̀ ǒ mɑ̀ngát lā wōksī ghù lɑ́ nnū mmí ngɑ̌ yá\\' cwàāntīē ǒ mfɑ́\\' mɑ̀ hɑ̄ thʉ́shʉ̄ɑ̄ yǒknā ncǎhncǎh pè\\'è mfī njòò vʉ̄\\' mbə̄ə̄ mɑ̄vǒ sǐngwê sìnì mʉ̀nzhwīē tə̄b ngén nzɑ̄ ntìè\\' ē ghèlɑ̌ kù\\' yáá mɑ̀ngʉ́ pɑ́’ mbǎk ìndō lɑ́ yáá ncāk mɑ́ ń shʉ̀ɑ̀ ǒ nsī mɑ̀ nɑ́ yǎ cámkò ò vapeur mbɑ̀ɑ̄ndə̌b pɑ́\\' cwàákhù lɑ́ shwì\\' yèh yèhnì nkwèè nkwè\\'nǐ mbú ò mbát ngʉ́ mʉ̄ɑ̄ nkù\\'nì ǒ sì mɑ̄ njū\\' nù ndɑ̌\\' njàmnshʉ̀\\' yáá tèn tɑ̀\\' ǎ hɑ́ ā mbǐmbɑ̀ɑ̀ pʉ́ɑ́ shwī\\' à bɑ́ mbǎk mɑ̀ncāt tōō ǎ nzɑ̄ hě\\' wū tènmvàk nsìèsì à ngɑ̌ kwè\\' ō tɑ̀\\' yèè mvʉ̄ɑ̄ sǐ\\' ngóó mbɑ̀ɑ̀ bɑ̄ mbɑ̄\\' ó kwāt ndǎkndǎk pè\\'è ngòòndə́b lāt ngóó cwàákhù nzhwīèngāp ǹ njǎt kònkwá\\'sí ī ǹ njǎt mɑ̀nkwá\\'sí ī pí kɑ́ ngɑ̌ ghʉ̀ pō lōm ndhì nzhīè\\' ncwààntíé yá\\' kǔ\\' zɑ̄ zāb ndɑ̀ɑ̀ lɑ́ nɑ́ nkǒ\\' yāā yā\\' sōk ā pɑ́\\' ncō ngōmsī lāh ntìé\\'è yáá mɑ̀nŋá\\'sí ā njɑ̌hnàm/njə̌hnàb béè lɑ̀hsì/lə̀hsì ā lɑ́ mbáá mfhʉ̀ ça vient du proverbe tâ\\'sì lɑ̀fhʉ́ mbí ngʉ́ngà\\' ǎ nzhī nàh nhɑ̄ nkù\\'nǐ wèn ndáh khù ntām sāk à kɑ̀\\' zhī nǔ nɑ́ làh ncāb mʉ̀nzhwīē nzǎkwūɑ̄ fíí mɑ̄ à mōō pó mɑ̀ncá\\'sí = nǔ mɑ̀mbé\\' yɑ̄ɑ̄ shʉ̌\\'cɑ̄\\' nkwé\\' nshʉ́ɑ́ (mò\\') màà yōh pí nzhwīē á pòm shùndʉ̄ɑ̄ zhínù zǐ kònsɑ̄\\' ī ncà\\' pɑ̀h mbɑ̀ pèn nkhʉ̀ hə̀ə̄ cōptúzēn sēēnsōk nzhìndʉ̄ɑ̄ ntâ\\' mvʉ́ɑ́ mbɑ̄ sì\\' hɑ̀ɑ̂ ngɑ̌ mɑ́ mfèndù\\' ngɑ̌ pén ó nɑ́ ntōò sɑ̌\\' mbə̀pə̄\\' lɑ́ mbɑ̄\\' ō wūsìkwà\\' bɑ́ ngɑ̌ mɑ́ nnìɑ̀zū/nthîzū ǒ mɑ̀ngʉ́ kɑ́ ǎ nnák fífíáfíá sɑ̌\\' nɑ́ njɑ̌hnàm/njə̌hnàb yǒhnshǐ ndʉ̄ɑ̀sīē ǒ lɑ̌\\' yāā pí yǎ mɑ̄nzhì sēn ndhìmóó kòndhímōō ngɑ̌ mɑ̀ndók nī à ǒ sì īmbát ngʉ́ fà\\'á pə̄ə̄sī nzâk ncə̀ə̀ lɑ́ ò lɑ̌\\' mbēnmbēn tɑ̄ mfhʉ̄ mɑ̀ hɑ́ wǎ\\' ngāp nsîtʉ̄sə̀\\' ǎ tò\\' tɑ̀ ngóó ngɑ̌ cɑ̀’sì ō lɑ́ mɑ̄vǒ nkə̀wɑ̄ mǒ’ wèn wò wókmbə̀’ ǒ mɑ́ mēn wɑ̄ lèn pǎ\\'pà\\' nshùtèn mbòktèn mbóktèn séé fā\\' nsɑ́\\' nkôwú wèn kwênsòm kwênsə̀b ngǎ’ nā à vàm zǎ mɑ̀njā’ ngɑ̌ mɑ̀ngóó nkwèè pʉ̌ mvíát nshù nsìèsì yǒh mbōk zhínǔsìèsì sɑ̌\\' pɑ́h ó ghén ntēn càb ǎ ghá\\' mɑ́ pó sì tʉ̄ɑ̄ nshǐ nɑ́ ì pěn sì kō ngɑ̌ sɑ̀\\' fhʉ̄ ntìè\\' póá túnkə̀ə̀ ngɑ̌ ténɑ́ mfɑ̀\\' móó mɑ̀ hɑ̄ sə̀mbʉ́ɑ́ mbēē ntòhō mbʉ̀ɑ̀\\' ndāmɑ̀ mbʉ̀ɑ̀\\' ndābɑ̀ ngɑ̌ ìntōh njīī nō tɑ̀ mɑ̀ hwīēsǐ mìè zhʉ̄ɑ̄\\' nshù ō lā\\' nshù ō sáhnù ntìmbhì ncɔ̀ pʉ́ɑ́ mɑ̀ mʉ̄mbʉ́ɑ́ ǒ mɑ́ mbâ’ kè mʉ̄nzhwīē ē pō sǐ\\' nsōk càm bɑ̄ pó hīā lá ntám ndʉ̄\\' tɑ̀ m̀ mɑ̄ ìnkūɑ̄ pó ndáh mfʉ̀ɑ̀\\'nàm mfʉ́ɑ́\\' nàm yà kō\\' móó mbèè pō á hě\\' nzát ngāp zhímbʉ́ɑ́ ndēn mɑ́ ò lí\\' lǒ nɑ́ tɑ̀\\' zʉ̌\\' ɑ́ shʉ̀ɑ̀ ǒ sì nʉ́ɑ́ sì cwě\\' nkǎb nɑ́ wèn ǒ ìndī\\' měh béé sìèsì lè mɑ̀ ǒ còh nzhī làh ndí\\'sí wèn kə̄\\'ə̀ mbà\\' ndōk nshù ngòò ā njə́ə́ ndēē tɑ̀\\' ntìèghə̀ə̀ ndàhghə̀ə̀ cf ntìèŋwɑ̀\\'nì kɑ́ bɑ́nhɑ̄ mbūānì lēn mbú ì nǎm tʉ́ɑ́ fhʉ̄ wāhà tɑ̀\\' ngɑ̌ hòō fʉ̀\\' ngù\\'thʉ̄ pō lɑ̀sèé mɑ̄vǒ tɑ̄ nzī ā shwī\\' pə̄ə̄ mī mbɑ̀ ǎ yǒk ngāā nǎm díé nkhù mǎ púá nkhǔndʉ́ɑ́ ndʉ̄\\' lɑ́ sʉ̄\\'ʉ̄ nkɑ̄h tū nkɑ̄h nǒktū ngâ\\'nǔngwè\\' zə́hnzɑ̄ ngɑ̌ yǎ síé lè yá\\' nkhʉ̄ɑ̄ kə̀ə̄ncǒ mɑ́njwè\\' pó njīī nkwēn kɑ́ ìmbé\\' lɑ́ mfhʉ̄ nɑ́ ŋwáá yāā mbɑ̄’ ō sī ndʉ̄ɑ̄ bɑ̄ à lɑ̀ghěn mɑ̀ tōm ǎ ghʉ̌ nɑ́ mbʉ́ɑ́ yāā sɑ̀\\' zō lě kwě\\'nthʉ̄ ā sɑ̀\\' ntā\\'sī ā mɑ̄nsǐ à ngʉ́ɑ́\\' tōm zě\\'è tɑ̀\\' ngɑ̌nzɑ́ ghʉ̌ líé\\'nzɑ̄ hə̀ə̄ hɔ̌ bɑ̂ ŋ̌h kɑ̀cɔ̀ kɑ̀cɔ̀ nɑ̀ tǐ\\' ŋ̄h mbɑ̀ ɑ̄ ɑ̄ njók pīē yáá mɑ́ wú yá\\'nthʉ̄ wú yá\\'nthʉ̄ bɑ́ ǎ ghʉ̌ mbə̀\\'zīī yāā kɑ̀\\' kú\\'sí sə̀ə̄wū mbōòcàk ngɑ̌ nkwé\\' nkòmnkòm nshʉ́ɑ́ nsā\\' kilomètre km ndə̌nà’ nǔkɑ́ ó mɑ̀ngé’ yō wɑ̄ bɑ̄ nzàb ō ngén tōm pɑ̀njûyǔ\\' yā\\'nthʉ̄ nshʉ́\\'sí pó ngə́ə́nù pí nshù phʉ̄ yàā ntīē sʉ̀ɑ̀ tɑ́ ó nkwé\\' ē fê ngòò mēnsə̀b shwī\\' à tèèsísʉ̀ɑ̄ nkə̀\\'nì ndə̄ə̀càk mfákntōk ndʉ́ʉ́mfʉ̀ʉ̀ ǒ sì hɑ̄ yò kwà\\'sì kʉ̀khʉ̀ɑ̀ mɑ̄ngāā nɑ̄\\' ntēnɑ̄ nɑ̄\\' mbīɑ̄ kɑ́ tɑ́ á mɑ̀ngʉ́ ʉ̄ cə̄ə̄ nzèn mā yì bíì mbàh tāā pó ndáh ntū’ nnū nshì mbɑ̀ ndù’ wū lì ǒ yú\\' ù pɑ̌h yɑ́ɑ́ nkɑ̀ndàk ngɑ̌ mbōh mbɑ̄\\' ō tɑ̀\\' pɑ́ ǹ ntō ó sáá mbɑ̀ ghə̀ə̄ndə̀ə̀ mbàk kɑ̀\\' lō fhʉ̄ līē\\' ǒ mɑ́ yà hǔ kó\\'nā kɑ́ bɑ̄ ngʉ̀ ò pūā fà’á ā mēn à mòòānì ngà\\'kə̀ə̄pʉ̌nzhwīē thèse fʉ̀ndʉ̄ɑ̄ tə́ə́ kàkāò hɑ̄ yɛ̄ɛ̄ lè tɑ̄\\'sī nkhù mō ngɑ̌ mɑ́ nzhwīèndʉ̄ɑ̄ nā ā sī mɑ̀mbə́\\' bɑ̄ ncwèn ghòò khʉ̌ntū\\' nzhìndʉ̄ɑ̄ mbè\\' lēnɑ̄ tú á mɑ̀nkóm ā nkwéntōm/nkwéndāk mbə̀\\'mbə̀\\'/mbè\\'mbè\\' cà\\'sǐ mfɑ̀\\' mbɑ̄\\' ō sī ndʉ̄ɑ̄ bɑ̄ ǎ ghěn mɑ̀ tə̄b mvʉ̄ɑ̄ yèè nsû\\'mvāt ŋwɑ̀\\'nǐkóntâ\\' mfɑ̀\\' shwīsòm bɑ́ mɑ̀ngát lī nkə̌\\' pēē mbíé ghà\\' nhú\\' tàm pǔ\\'ncò nkǒmncò mbʉ̂\\'wèn nù lɑ́ mɑ̀nzɑ́hsí ā nkə̀\\' pí zǎk nnák khù shʉ̀\\' zʉ̌\\'vʉ̀ nkúɑ́nzī hǔncɔ̀ à lɑ̀sɑ̌\\' njàmnzɑ̄ wāhà nzhwīē à lɑ̀\\' zák njǎb à wènǒk víí ntɑ́\\'nzhì nzhí\\' ntām tū ǹ kɑ̀\\' kú\\' nàh nzáb ō ndàhngèn yěhngʉ̄ɑ̄\\' prends soin de toi pí mbə̀\\'nthʉ̄ mmɑ́\\' tú nù ǹ kɑ̀\\' tāt lí mbèè fǎmngʉ̄ɑ̄\\' mbǎk fhʉ́ mɑ̀ hɑ̄ ndʉ̄ɑ̀kà\\' ndʉ̄ɑ̀kǎ\\'ndāk n b mên ǎ cǎh kǎmŋwɑ̀\\'nǐ mbú à tɑ̀ yáá nɑ̄\\' ngʉ́ ʉ̀ tɑ̀ yáá hɑ̄ pō ò ngɑ̌ hòō mɑ̄nzhì nàh ndɑ́\\' nù lɑ́ nzʉ̄ bî lǐ pìè ndù\\' lɑ́ cōh ncât ŋwɑ̀\\'nì ǹ kɑ̀\\' ghʉ́ sēn bɑ̄ ngɑ̌ ngén mɑ̀ wūɑ̄ ǒ sì pɑ́\\' báá ntīē yāā lɑ́ pɑ́\\' mɑ̄mbɑ́ɑ́ bā fà\\'á fí\\'pʉ́h lēētīā yèh móó mɑ̀nkə́b ā póáshʉ̄ɑ̄ je n\\'ai pas encore accouché na᷅’nkwě hɑ̄ la literie l\\'ensemble des éléments nécessaires à l\\'équipement d\\'un lit mbʉ̀ɑ̀\\' pʉ̌nzhwíé nkə́\\' mbʉ́ɑ́ lə̄ə̄ndʉ̄ɑ̄ sáhnù ntìmbhì 42 ngɑ̌ ghʉ̌ nkɑ̄ɑ̄ ǹ sī mɑ̀njīī pɑ́\\' wò lɑ́ bɑ̄ zʉ̀\\' káákāā accepte mbǎk mɑ̀ncāt tōō mʉ̄ɑ̄ zɑ́\\' mbǎk mɑ̀ndō wɑ̄ bɑ̄ ngʉ̌ tè\\'sínù ù abattre un bananier ngǎ\\' ǹ njǎt sì lə̄ə̄ndʉ̄ɑ̄ (bɑ̄) ngǎ\\' ǹ njǎt sì tɑ̄ ndə̄ə̄ ndʉ̄ɑ̄ (bɑ̄) nkwêngòò nà sǐ\\' nkwé\\' njɑ̌\\'nkwè\\'nì bɑ̄ ghèn ntə́’sí mbí mɑ̄ ē… ngɑ̌ mɑ̀nsó ndhí nɑ́ à mfìmfǐ mɑ̄vʉ̀ sǐ\\' ndám bɑ̄ pó lēn mɑ́ á lā\\' à mɑ̄ngé\\' sì\\' ghè\\' thʉ̄ mbǎ wùɑ̀ yāā kɑ̀\\' lā\\' pàksì kɑ̀’ fhʉ̄ mbɑ̄ mbú á mbī’tū mɑ́ nkɑ̄ɑ̄ làh njwēn lɑ̀ sì bɑ̄ mbú à sə̀ə̄ wèn ngà\\'mfɑ̌\\'ntǎ\\'ŋwɑ̀\\'nì nù sǐ\\' nnēē njóh ī bɑ̄ zén mɑ̄vǒ mɑ́ ndə̌ngwê njǎb yá\\' wùɑ̀ mbàk kɑ̀ sì lō wāhà kǒ ndàk mbə̄ə̄ mbɑ̄’ yɑ̄ɑ̄ mɑ́ ndéndēē bɑ́ nkámncò ŋ̄h ngɑ̌ mɑ̀nkwé\\' ŋ̄h ngɑ̌ pén nǔkó\\'nthʉ̄ ŋwá\\'nthʉ̄ pɑ̌h kòntə́\\'sí dìpʉ̀ɑ̀ ngʉ̌nù mǒ sìà tɑ̀\\' nǒktěnshù pó zhʉ̀ɑ̄ wúzɑ̄ ā nàm ǎ píé fə̄h mʉ̀nzhwīē pōsī ndhī lɑ́ mmɑ́\\' pʉ̀ɑ̀ ghǎtnā mbén nə̀ə̀nɑ̀\\' ǎ fá\\' ngə́ə́ mbhìzīī ǒ nzī\\' wū yə̄ə̄ ndʉ́\\' càb ī cīcō\\'ò pɑ́ ó ghə̄ə̄ ndɑ̀\\'ndɑ̀\\' ɑ́ wúzɑ̄ ngǎ\\' nā à ǹ sī mɑ̀mfʉ́ɑ́sí ō bɑ̄ yēē/yīī ngɑ̌ mɑ̀nsī\\' nā mōō nzhìndʉ́ɑ́ pə̄ə̄sī pō ī ngɑ̌ nsī mbèè mɑ̄mfɑ́\\' nɑ́ pʉ̄nkhʉ̄ɑ̄ cīcō\\'ò pɑ́ ó pātngə́ə́ nzhìnzhǐ víí nɑ́ fāk zǎ pō ghɑ̀ɑ́ hə̀ə̄ nzhì pʉ́ɑ́ mɑ̀ yáá nhɑ̄ kwɑ̀ nǔ mɑ̀nshʉ́ɑ́ ā tɑ̀\\' ò sǐ\\' nzhī\\'sī wū bɑ̄ mɑ̀ ǒ ncō làksì zɑ́h ndàm ndàm zɑ̄h pú\\' tàm ntāb vʉ́mōh nkòó wèn pí mʉ̀ mōō lǐ mɑ̀ndīē ǒ sì tēnkà\\' wū yɑ̄ɑ̄ bɑ́ wɑ̄ bɑ̄ nzàb ō làh mbēhsī ngə́\\'nʉ̀ɑ̀ ghèn nsóh nā ò nhóó mbɑ̀ɑ̀ wèn lɑ̀\\' péé mēn ì pó pʉ̀ tīì cīcō\\'ò ca᷅h ngwá\\' mbú á lɑ́ ǎ sǎ\\'ntèn mǎ fhʉ̂vàm njā\\'mbʉ̄ɑ̄ mèhsì ngɑ̀ɑ̄nzɑ̄ nûnshì ngɑ̌ mɑ́ ntâ\\'ntēē fɑ́hnzɑ̄ wāhà nú mǐ pə̀p ǎ khʉ̀ɑ̀ tɑ̀ ncō fìfīī nshǐnámbâ\\' mon frère était mort d\\'un accident de moto cīcō’ò mēmmɑ̄ ò nàm sʉ̄’ bɑ́ nɑ́ nàm ò lɑ́ ɑ̄ kɑ́ tɑ́ ó mɑ̀ngʉ́ béé líé\\'nzɑ̄ lè nkâbsīē ǒ mɑ̀ndɑ́h pɑ́\\' ó mɑ̀mmwēn lɑ́ ngɑ̀ɑ̀pū\\' ǎ còh ngə́ə́ ntà\\'sǐ fátsí sī ā wǎ\\' móó mɑ̀nnē\\' pēn pí cà\\'sì làh ndó séè tɑ̀ nkə́b síí lì ntīē mvēnɑ̀ ntʉ̄ɑ̀wū yōh mōh ɑ́ fōh pɑ́\\' nkō ō pók shʉ̀ɑ̄ ghòò ndòk ŋwɑ̄\\' ntēē nǎ kòngénmbhì pə̀pē\\' ndíknū nshwí\\'zēn hǔ kū\\' là\\' mfhʉ̄ līē\\' yì ò lɑ̀shʉ̀ɑ̀ lɑ́ wúzɑ̄ sǐ\\' nját nshʉ́ɑ́ nshù á bɑ̄ à sǐ\\' nnēē njū\\' yá\\' wū bɑ̄ ǒ sì īmbát nkwá\\' nǔ ná nǔ yáá kwēn ā tɑ̀\\' ǎ fát ghà\\' nāk báá fíé nù lɑ́ fà\\'á lɑ́ nshʉ̀ɑ̀pʉ̀ sīé cə́ə́ nzèn mɑ̄ɑ̄ mbə̄ə̄ mēn à wóktèn nzhìè làh mbɑ̄ mfàkndʉ̂’fóh mɑ̀nkō à nthʉ̄ á mɑ̀mbénɑ́ hɑ̄ nshʉ̀ʉ̀ bǎ lè ngɑ̌ mɑ̀nkōō tú mēn à túmōh ndʉ̄ɑ̀sòh à kɑ̀\\' tɑ̄ njīīnzɑ̄ wò tòókò nzhìè làh mbɑ̄ kɑ́ bɑ́ mɑ̀nkō ō yō nîncò ǒ sì láh màà làh mɑ̄ nsə̄ə̄ nzɑ̄ thʉ̄\\' sɑ̌’ pɑ́h ó ghén mbèé mbú á nnā’ mbɑ̀ɑ̄ndòm lè mfāt hɑ̄ yāā lè ǎ cák sì\\' cāk tɑ̀ nhóó ngà\\'mfɑ̌\\' ndʉ̄ɑ̄ ntǎ\\'ŋwɑ̀\\'nì ngɑ̌ zhí ndéndēē mɑ́ ó kwè\\' ā ngɑ̌ mɑ̀nkwá\\'sí yà ntìē\\'mōō ndǎm nkwé\\' nàh ndáksí wèn ǎ zhʉ́ɑ́\\' nshʉ̀ʉ̀ mì hwàà pí ngòōmvī fʉ̀\\' zǎ ngén tōm ngén tə̄b hóm ŋɑ̄\\' mêngāp ndáh mfūā mɑ́ hǎp ncát mɑ̄ŋū mbōh pōh nɑ́ kɑ́ ǎ mɑ̀mmɑ́\\' njòó ndʉ̄ɑ̀fínjòò ngɑ̌ sók ī mbī\\'tū mɑ́ á tə̀\\'sì ā ntə̂\\' ntà\\' sēn à njǎm yá’ wùɑ̀ yáá ncāk mɑ́ ḿ mfhʉ̄ ôhó ǒ sì īmbát mɑ̄nsátsí nā ò fà\\'á yáá mɑ̀ndám póálɑ́\\' yā\\'thʉ̄ pó kòmvā\\' zʉ̀\\' yāā bî ntʉ̀\\' ndàk ngó\\'fūā ǎ shʉ̀ɑ̄ mìmìè ká\\' mɑ̂ wɑ̄ mɑ̌\\' yǐ mbèè lì ngɑ̌ mɑ̀nshú\\' nsè\\' mǎ pō yǎt sì kā\\' mfʉ̀nì mbā\\' lɑ́ ghʉ̌ zhízɑ̄h ǎ ìndɑ̄\\' mbɑ̄ wènòk nǔkə̀ə̄pʉ̌nzhwīē ncábsí ghə̀ə̀ ngɑ̌ ngén cāk mēn ǎ ndʉ̄ɑ̀ndhìpōō tāā ǒ mfɑ́\\' mbí wɑ̄ ǒ mfɑ́\\' nɑ́ pó wɑ̄ mbénɑ̀\\' ndū ā sǐ\\' nját nkwé\\' ā bɑ̄ ncàt ǒ mɑ̀njēē zʉ̀\\' béé mɑ̀ lāhā ǎ pɑ́psí zēn zǎ ngà\\'ndə̀ə̀ zēn zǎ mɑ́ còkǒntʉ̀ɑ̀’ yò zěn mɑ́ kɑ́ yōh pí nkə̀\\'nì mǎ còh ntʉ́ɑ́\\'sí zě\\'è nzʉ̀\\'nā kɑ́ bɑ̄ ngʉ̀ ʉ̀ nséh pǎtnjǎm ŋwɑ̀\\'nì gérontocratie tɑ̀\\' mbhʉ̄ cīcō\\'ò cīcō\\'ò nɑ̄\\' ntēnɑ̄ ngòò ā ghà\\' ntōō ncɑ̄\\' tāā yǒhnshǐngə̀\\' sòngà\\' lʉ̀ʉ̄sà\\' kɑ́ bɑ́ wū làh nzɑ̄ nɑ́ njɑ̌hnàm pʉ̀ tíì hɑ̄ wú í mbú ì ngɑ̌ mɑ̀nsíí nǔ mênsī nkhʉ̀ tíí nɑ́ ncɑ̄\\' tɛ̄ɛ̄ ŋó\\'ntə̀\\' ngɑ̀ɑ̀ nkōntá\\' nù nzâknù 16 nshʉ̀ɑ̄ wèn nshǐnā mɑ̄ ngǎ’ pó sǐ’ nzɑ̄ wúzɑ̄ tɑ̄ nsóh nā bɑ̄ pó nsóh nā tɑ̄ nzɑ̄ wúzɑ̄ ngòfát kò mɑ̀ yáá tʉ̀ɑ̀\\' nɑ́ mɑ̄ ē pí mbɑ̄\\' ē ǒ kwě\\' wɑ̄ nshʉ́ɑ́ mò\\' ò mɑ̄ à wèn njàm mɑ̄ mēmmɑ̄ mɑ̄ yì mʉ̀nzhwīē pó lēn mɑ̂ ngɑ̌ ìmvāk ó sáá ngʉ̌nù mǒ mɑ̀nshʉ́ɑ́ ā tɑ̀\\' ngɑ̌ kwát pè\\'è làklàk ngɑ̌ pén ó ngà’mbhǐ à mɑ̄ ncéh yì báá lɑ́ mɑ́ kɑ́ ngɑ̌ (mɑ̀) wú sēn à ŋ̄h yáá pòmsì kǎmnsʉ̄’ mɑ̄vǒ pó nsóh mbō tɑ̄ nzɑ̄ wúzɑ̄ ɑ́ mbə̀\\'mbə̀\\'/mbè\\'mbè\\' cà\\'sǐ cômsǐ lə́ə́ndʉ̄ɑ̄ fùfùá mɑ̀nshʉ́\\' ncwé\\' sʉ̌m nshù ī vìàtlɑ̌ nshù bɑ́ ŋwɑ̀\\'nǐ bɑ̄ sīē ngòmɑ̄tʉ̄ɑ̄ ŋ̄h tɑ̀ ngǎ\\' ā ŋ̄h kè ngǎ\\' ā béé ngɑ̀ɑ̀ béé ngɑ̀ɑ̀ lè sʉ́\\' zʉ̄\\' nʉ̀ɑ̀ ngə́\\'ngə̄\\' ǒ zhíé ncwē\\' nzhʉ́ɑ́ pâl ō fén ndáh ghòò nsɑ́\\' sə̀\\' zǎ pʉ́ɑ́\\' pɑ́h á pèn sī mbə̀pə̄\\' lɑ́ mbɑ̀ ngɑ̌ ghʉ̌ tɑ̀\\' sēn ntʉ̄ʉ̄ mà bɑ́ kūɑ̄ncàk à bɑ́ mbī’tū mɑ́ ngɑ̌ mɑ́ tɑ̀’ ndə̄’ ǒ mɑ́ mbâ\\' ghèn nkō yō nkhǔ ndʉ́\\' vīāt yáá mɑ́ shʉ̀ɑ́nù yáá mɑ́ kɑ̀cɔ̀ nù fhʉ̄ mbɑ̄\\' ō lɑ̌\\' sì\\' njā\\'nthʉ̄ ɑ́ túfʉ̀ ā kō ō pǎtzēn ngɑ̀ɑ̀ŋwɑ̀\\'nì sʉ̀ɑ̀ndʉ̄\\' ndìndì mɑ̀ ndìndì njū\\' yū\\' nzɑ́ lēē è nzhî\\' vʉ̌ nnʉ́ɑ́ nə̀ə̀ nkɑ́lák nkwèn ī nshʉ́\\' zʉ̀\\' zʉ̌\\' mbɑ̄ tɑ̀ nshwī pō lāh ndʉ̀ndām njók pʉ̀ sìpè\\' nsɑ̂\\'nǒ\\'fhʉ́lɑ̄\\' nǔkɑ́ ó mɑ́ ngà’mbōk ngɑ̌ vát pěn shʉ̀ɑ̀ lɑ́ í yáá mɑ́ ghɑ̀\\' pīē mɑ́… yáá mɑ́ túfhù mɑ́… thǐ mó\\' nɑ́ yō nshwí\\' mbú ì les parties creuses et cachées du corps pàhsì ngɑ̌ mɑ̀ ntámndʉ́ɑ́ à tènmvàk nzhwīē à nthí mǒ\\' vīāt wèn dīē nzhìè ngɑ̌ cɑ̀’sì ō lɑ́ mɑ̄vǒ ndāmɑ̀ ndə̀ə̀wɑ̄ póópōō mbīē\\' nkhʉ̀ shʉ̀ɑ̀yɑ́\\' ncâkngà\\' ŋà\\'ŋà\\' ò kɑ̀\\' zɑ̄ wúzɑ̄ ɑ́ kə̀kōp ywě\\' mɑ́ tɑ̀\\' mēnìá\\' sāk pó sà\\' lì mɑ̀ ǎ kònzhʉ́ɑ́ shʉ̄ɑ̄ à lēn mɑ́ ǎ mɑ̀ncāk nkèèsāk sīècɑ̄\\' ndʉ̄ɑ̀kwēn ò sī wū bɑ̄ tɑ́\\' mênsǐ mbɑ̄ mɑ́ mên sīē khʉ̀khʉ́ɑ́tōm móó mɑ̀njāh ntə́hwūɑ̄ tɑ́hnkō\\' fùfùá nǎb mvēlɑ̀ fóh ngʉ́ nkō mbèè tô\\'ndʉ̄ɑ̄ kɑ́ tɑ́ ó mɑ̀nkɑ́\\'/mɑ̀nkwá\\'sí làh ngʉ́ nɑ́ ngù\\' fī pɑ̌\\' mvʉ̀\\' nkɑ́ɑ́ mbú à ndʉ̄ɑ̄ lě lə̀bsì wɑ̄ bɑ́ mɑ̀ngén pǐ\\' béé nù lè ǎ hà\\'sì ā ǹ ndʉ̄ɑ̄\\' mɑ̄ghɑ̀ɑ̀ ndū ì nhíé pʉ̄nkhʉ̄ɑ̄ fhʉ̀ndʉ̄ɑ̄ njɔ́h ngū\\' yéé yà wɑ̄ lɑ̄ ē ē yéé nhɔ̀\\' hɔ̌ bɑ̂ ntʉ̄ɑ̀\\'mbō lɑ̀\\' sə̄ə̄ wū pó mɑ̄ndōk wúɑ́ ndū wèn nsó ndhī lěnpūh ndí\\' lōk wúɑ́ mbɑ̂\\' wèn nsó ndhí sīsī mɑ̄vǒ ndāmɑ̀ lɑ̌\\' mɑ́ zɑ̄hshʉ̀\\' conjuguez au passé composé yáá còh mbə́\\' shwǐ\\'ncámncām pɑ́\\' ndó\\' wěn nthʉ́ ò yū\\'sìpè\\' ngɑ̀ɑ̀ŋwɑ̀\\'nì yāā kɑ̀\\' pɑ̄h bɑ̄ ngɑ̌ lǎh mfɑ̌\\' làh mbīɑ̄ɑ̄ bō síélììmā ghɑ̀\\'zēn títī pó ndáh ntɑ̄h pí ndʉ̀ɑ̀ ntō lǎk ndàk ǹ sǐ\\' nkwé\\' nsēn bɑ̄ pɑ̌só\\' ngʉ́ yɑ̀ɑ̀ wū sì\\' pí nsō\\' yáá hɑ̄ sǒ ndhí nɑ́ mōō cīcō\\'ò pèn cō\\' ncāt mēē njók vʉ̄ʉ̄ ntū\\' lě còhsì ncō ghʉ̀ mɑ̀ngʉ̀\\' mə̄m pō ō ŋ̄h bɑ̂ tɑ̀ kɑ́ la lune n\\'a pas d\\'auréole ce soir sɑ̌\\' wú à pʉ̀ɑ̀ lɑ́ mɑ̀nzát ŋɑ̄\\' yāā lì nhɑ̄ mbú à ngɑ̌ mɑ̀mbhʉ̄ mfɑ̀\\' mǎ ngɑ̌ kə̌\\' yò mbʉ́ɑ́ ghʉ̀ tɑ̀\\' yέέ pə̀\\' njɑ̄\\' mbàk sī ìndō bɑ̄/mbàk sī kɑ́ lō bɑ̄ mɑ̄vǒ bɑ̄ nzàb ā ǎ shʉ̀ɑ̀ tɑ̀ ndɑ̀\\' pó yɑ̄ɑ̄ bā mɑ́ ḿ mɑ̄nkō ncòb zēn zǐ mɑ́ nàkmɑ̀nù pěn mɑ̀ hɑ̄ cwǐ\\' mó\\' nɑ́ yǎ ngǎngà ngʉ̄ɑ̄\\' ǒ sì wɑ̄\\' nā ó mbí pōk sīècɑ̄\\' sīècɑ̌\\' mɑ́ mbɑ̀ nàm sʉ̄’ bɑ́ nɑ́ nàm ò lɑ́ ɑ̄ mɑ̄nì ǹ sī mɑ̀nkwé\\' kōsì bɑ̄ shʉ̀ɑ̀yɑ́\\' cákngà\\' yì bô làt lɑ́ kònŋwāt yāā kɑ̀\\' cóh mbhī làh mbíátsí nə́h mɑ́ tɑ̀\\' wū sìkə̀\\' làh ntō\\' sê tɑ̀ ndhí sî ngɑ̌ mɑ̀ lǒhnzîsǒ fhʉ̄ kè\\'è ncō ndàk nzhíá\\'kò deux régimes de noix de palmes ngòpnā á sìàsì mòōntʉ̀ɑ̀\\' bǎ ntìè\\' ē kɑ́ bê cʉ̄cō\\'ò làh ā ngén ncáh sìīsâktēnɑ̄ ndhī à ghěn sì\\' nkɑ̀ndàk sàtū \"7 ntūmbhìngòfāt\" ò zhìé nə̀ə̀wàànkhʉ̀ wāhà ò cə̄bsī ā mbɑ̀ nǎ\\'njə̄ə̄ pʉ́ɑ́ ncāb kwɑ̌ mɑ̀nhɑ̄ hə̀ə̄ síé fʉ̀ mēn à kɑ̀\\' tɑ̄ ntə̄ə̄ mbēn yáá shwītōk zʉ̌\\'téndʉ̂\\'nshì yōh pí nzhwīē á pàt mfúá móh nɑ́ nkə̀\\'nì yōh ǒ sì hé\\' nɑ̄\\' tènmvàk mbɑ̄\\' nùlɑ́ghʉ̀ pɑ̀ nsén ŋwɑ̀’nì à bɑ́ mbɑ̄’ atanganǎ mɑ́ nsìèsì yòh mēn à ǒ mɑ̀nhɑ̄ ā ngʉ̄ɑ̄\\' pí báá ntīē ngʉ̌nù lɑ́ ncɔ̌ncɔ̀ ò lɑ̀mɑ̌ngə́ə́ ndéndēē pō bɑ̄ nkǎm ncò nzhwīē mbǎ nǔmʉ̀nzhwīēnshʉ̀\\' nzhìèkū\\' sī mɑ̀nkō ā bɑ̄ ǒ ngʉ́ ngʉ̄ɑ̄ yə̄ə̄ shòm ngòò ā āfrīkà ncɔ̀ hə̀ə̄ mɑ̀ ghāp ngɑ̌ mɑ́ tɑ̀\\' ntôlàk kɑ́ tɑ́ ó mɑ̀nkɑ́\\'/mɑ̀nkwá\\'sí làh ngʉ́ ntìè\\' ē lòm/lə̀b sè\\' tàm nsɑ̂\\'ntēē kɑ̀\\' pɑ́\\' mvʉ̀\\' nkɑ́ɑ́ mbú à nsɑ̀\\' ncáh lā ngɑ̌ nzɑ̄kǒm pɑ̀ngwēèwěn lɑ̄\\' yōh ǹ kɑ̀\\' zhī zǎ cwè\\' pɑ̀mfhʉ́sīē zǎ wúghɑ̀ɑ̀ wūgʉ̀ghɑ̀ɑ̀ ngɑ̌ zhí mbʉ́ɑ́ dʉ̌\\' zhʉ̀ɑ̀\\' ngòòmbōk nkə́\\'nkə̄\\' pɑ̌cà\\' wāhà fɑ́hnzɑ̄ wɑ̄ tɑ́ ó mɑ̀mbʉ̄ɑ̄ɑ̄ nsé\\' ǎ ngʉ́ sə̀b tɑ̀\\' nshǐ vènsì póózū zǎ bɑ́ ǎ pɑ̌\\' mbʉ̄ɑ̀\\' pēē ná mbú à nnɑ́h nshì conjugaison au présent mɑ̄nkwèè nkɑ̄h tàm sə̀ə̄wū sī mɑ̀ngʉ́ ā bɑ̄ njɑ̀ɑ̀ bà wèn lɑ̀\\' pōk ngà\\'mbwèn zhī\\'sī ghə̀ə̀ zǒ mbɑ̄ yǒ wènòk fī\\' móó kwēn hʉ̀ɑ́ pō kwé\\'fʉ̄ kə́\\'fʉ̄ nkwè\\'nǐmbɑ̄ ndʉ̄ɑ̄ mbɑ̀ mɑ̄vʉ̀ tīē mōō nthʉ̄ á mɑ̀mbénsí nkèè mɑ̄nkǒklù nshú\\' nsə̀\\' nshú\\' nshù pɑ̀h báá mɑ̄vǒ ghòò lɑ́ nɑ̄’ ngʉ́ nīāt nā ō ngə́ə́ mbú ì ǎ lə́ə́ ngòò ndāk ngɑ̌ mɑ̀njū\\' fōh ǎ mɑ̀njīī mbǔ\\'nkěn-yīīsì kə̀’shʉ̄’pèè cīcō’ò sɑ̀’ nkōsī ā làh nsák ndhī lɑ́ ngɑ̌ lɑ̀ɑ̀sì ō càmɑ̄kò làh mméhsí nǔkɑ́ ó kɑ̀’ sɑ́’ ŋwɑ̀’nì zě’è il y a même une célèbre chanson en langue fè\\'éfě\\'è qui dit nthʉ̄ á mɑ̀nsēē mɑ́ wò mfɑ́\\' shwì\\'ndɑ̀h pāl ā [au lieu de pāt lā] sâktēnɑ̄ yǎt tɑ̄ mɑ̄ntʉ̄ɑ̄ khǔ síé yà wúpíéndɑ̌h mɑ́ làh ntām mbǒ\\'nkhū yáá mɑ̀ lāhā ǹ sǐ\\' nzɑ̄ mbɑ̀kɑ́lɑ̄ bɑ̄ mɑ̄tāāsì ngɑ̌ mɑ̀ncáh ŋwɑ̀\\'nì lě mbí sēn à ngɑ̌ mɑ̀njēē mbǔ’nkěn-yēēsì yáá mɑ̀njā\\' lā mvàk yì ngɑ̌ nhɑ̄ ō ngǎngà lɑ́ lɑ̀hsì ā mvàk yì ngɑ̌ nhɑ̄ ō ngǎngà lɑ́ nzɑ̌ léé è mɑ̄vǒ nkə̀wɑ̄ ghʉ̀ tɑ̄ njīī mēn ǎ ghʉ̌ ngù\\' tāā dhù mbī’tū mɑ́ ngɑ̌ mɑ́ ngà’ndə̄’ ngɑ̌ ìngʉ́ yāā mɑ̄ndɑ̀\\' pó hǐ pè\\'è yōh yāā sī nɑ́ mbʉ́ɑ́bɑ̄ bɑ̄ ǒ ìndī\\' mèhsǐ béé sìèsì lè mɑ̀ ǒ kù\\'sì làh nsōk wèn mvàk yì nshǐnā ō lǎh mbɑ̄ lɑ́ cette statuette est un véritable joyau kwě\\'ngāā ntìè\\' ē nsə̀ə̀ lɑ́\\'pūh ntōòtū lə̌h yì báá lɑ́ à kɑ̀\\' pʉ̄h ā mbɑ̀ pʉ̄h tɑ́ ǹ ngā\\' ngām ǎ cák lò kīkēē mɑ̄shwī\\' á kūɑ̄ mbə̀’mbə̀’ mbūànzɑ̄ mbú ó lɑ́ vɑ̀h zā ǎ lʉ́ɑ́\\' kwě\\'ngāā fí\\'pūh fí\\'pʉ̄h zīī sìpə̀\\' pɑ́hzīī ŋə̄m pō ō wèndàkndàk mbɑ̄\\' pí mɑ̄ pɑ̀mbɑ̄\\' ndāàmbō pó yòk á mfɑ̀\\' pó tēh á mfɑ̀\\' nsìèsì kɑ́làksì yōh wāhà pɑ́\\' mɑ̄ndáh nsî wèn túnā ī ndhîndɔ̀ sá\\'lāk mbónzɑ̀\\' tóhsì mbɑ̀ ngòp nzhwìé mɑ́ zúfì sīē sǐ\\' ntām ntə̀\\' bɑ̄ yà wúpíéndɑ̌h mɑ́ náhnshì ncàh yɑ̀\\' nzhwīè nə̀ə̀sìmɑ̀\\' yāt sìpè\\' nsóh nēn ngāpnshǐ nǐ mbə̀p ncǒ sāp ghòò lì mōō lɑ́ ncɑ́ɑ́nshù tɑ̀ ncɑ́ɑ́ mbɑ̀ mbɑ̄\\' ā contribution pɑ̌mbām ǒ pə̀\\' tɑ̀\\' ǒ pə̌\\' ngòò tɑ̀\\' ǒ tén ngòò kɑ́ tɑ́ ǒ sáá njēē mɑ̄lāā nkwè\\'nì ǹ kɑ̀\\' cə̄ə̄ mɑ̀ wò ngɑ̌ mɑ́ nzʉ̂’nʉ̀ɑ̀ pí nnâknə̀ə̀ ǒ píɑ́ bā tɑ̀\\' ɑ́ lǎh yì bê lè ndēhpīē nǎm pàt ntō\\' mbʉ́ɑ́/làh tʉ̄ɑ̄ ǎ còh nsén ā mɑ̄ ngǎ’ pó sǐ’ ndáh lū’ nzɑ̄ nkùɑ̀ bɑ̄ pó nsóh mbō ndáh nzɑ̄ nkùɑ̀ ncə̀ə̄tìè ǎ tóm mfɑ̀\\' ngɑ̌ mɑ̀mmwēn nɑ́ tú mēn à tɑ̀ wènǒk mbèè lè ɛ̀ wāhà mbūànzɑ̄ ǒ kwě\\' pʉ̄nkhʉ̄ɑ̄ ɑ́ pōōmbá\\' nzhī nàh nzʉ̄\\' nʉ̀ɑ̀ sì sāh pʉ̌nzhwīē nsɔ̀ wèn ò kɑ̀\\' ghʉ́ nɑ́ nkǎ\\' shʉ̀ɑ̀\\' ngɑ̌ tàk ō lɑ́ mbɑ̄\\' ō ŋwâtlɑ̄\\' kè\\' yěh sōh lɑ́ lòh ndáh sínù ndáh sínǔ wèn ngɑ̌ nshʉ́shʉ̀ɑ̀ mʉ̀nzhwíé ndī\\' zī ntɑ̄\\' nkhù mī ndə̂nù mbɑ́ pō fɑ̂\\' sí\\' mbɑ̄ béé bɑ̄ lɑ̄ bê ngɑ̌ ghʉ̌ mɑ̄ŋū mbɑ̄\\' é mɑ̀ hɑ̄ le roi a aboli la peine de mort shʉ́ɑ́ndāk nǔ ghʉ̀ ā sì\\' ghʉ̀ tɑ̀ ǹ ndāh cwǎkhù ngʉ́ mbɑ̀ɑ̄ndə̀b wūndʉ̂lʉ̄ɑ̄ yáá kwɑ̀’ fà’á mbɑ̀ mʉ̌ mɑ̄ndēn ya᷅ sì’ fà’á zhínù ō lɑ̀yɑ̀ɑ́ mɑ̀ nɑ́ pʉ̀ mbō ngɑ̌ pàt njū’ sìpə̌’ mbú ò ǒ díé yō ò il existe 2 types de fienkak póá fā\\' nǔ ghʉ̀ ī tɑ̀ à mɑ̄ngə́ə́sí sǔ làt sī ghɑ̀\\' nù bɑ́ bɑ̄ ndʉ̄\\'fōh mbā\\' lɑ́ ncʉ́cák yə̄ə̄ nzhwīē í ngʉ́ pɑ́\\' yʉ̄ɑ̄ lɑ́ làh ndó nèè nkwēn fā\\' pó nnák ngwǎ\\' mbòōkò ncɔ̀ tāā mɑ̀ ghām nthí mǒ\\' vīāt wèn dīē nzhìè mfátmfāt ngɑ̌ ngén ywēn zū ò kɑ̀\\' fît se dit mbɑ́ ó lɑ̀ ǒ sì sɑ̄h nzɑ̄ sū\\' nsóh mʉ̀nzhwīē fə̄h nāk fà’á lɑ́ ngà’mbhǐ à shʉ̀ɑ̀yɑ́’ nzhînù mbɑ́ wěn lɑ̀zhī nkwèè wū yáá ndîlēē lʉ̌\\' mōh lɑ́ ngé\\' mvī pěn sɑ̀\\' ǒ ghʉ̌ yāā mɑ̀ lāhā mbɑ̄’ ō mbɑ̄’ ō mbɑ̄’ ō kɑ́ béè ngɑ̌ mɑ̀ ntám/thʉ́ ndʉ̄\\' fʉ̀\\' wǎ hèè sì zhī hīēsī nā ò ǒ mbɑ̄h yə̄ə̄ ghòò zǎ mìè ghòò zǎ yàhsì nshʉ̀ɑ̀pʉ̀ nà bɑ́ yà lǒhsām ngɑ̌ shʉ̀ɑ̀ lɑ́ mbɑ̀ dhʉ́ kò tɑ̀tɑ̀ pě\\'sòm lien youtube njóó yáá mìè mfhʉ̄ tɑ̀ ntìè\\' mfhʉ̄ ntìē\\'mò\\' ndʉ́\\'zhʉ̀ɑ̀\\' yǎt sì váá ncò pɑ̌mòó nzhī làh ntō nɑ̄\\' wèn ghén nsēnsī mɑ̄vǒ ngà\\'sə̄ə̄ mbɑ̄\\' á cāk lò kīkēē ò lɑ̌hsí ā mɑ̀ ǹ sī ìmbát lɑ̄\\' ngʉ́ fà\\'á sə̀ə̄līē\\' bɑ̄ pʉ̀ɑ̄ ghà\\' pó ngwāh khʉ̀ɑ́nshìè sì vhʉ̄ kō\\' tìì fùfùà mɑ̄lāā wèn ngɑ̌ mɑ̀mbōk nshwī ŋwɑ̀\\'nǐkóntâ\\' mfɑ̀\\' shú\\'nkɑ̀\\' fǒp pè\\'è nshwêpō fʉ̀ ngɑ̌ cɑ̀’sì ō lɑ́ mēmmɑ̄ ò nkǎmbū’ \"9 kùkū\\' (nom d\\'un genre d\\'herbe blessante abondante au mois de septembre)\" pó nǔ\\'nshǔ nzɑ̂kǒmnzhì ngə̌ngà\\' ngɑ̌ yɑ́\\' nú mɑ̄nzhì nkūɑ̄ zhíé\\'nɛ̄ ǎ ncóhsí ncāb mʉ̀nzhwīē nzátnkə̄ə̄ nshʉ̀ɑ̀yɑ́\\'ncâkngà\\'/shʉ̀ɑ̀ncāk (shck) ǎ mɑ̀ ndʉ̄ɑ̄mòò ǎ mɑ̀njēē mbǔ’nkěn-yēēsì ŋ̄h ngà’ŋwɑ̀’nì ngɑ̌ pén tɑ̀’ nkə̀’nì yò wúpíéndɑ̌h mbɑ̄ mɑ́ kɑ́ sên mɑ̄ghɑ̀ɑ̀ bà (yì mbā\\') bɑ́ ǎ nǒ\\' mbèè zǎ sì yāā pīh ngà\\'ghʉ̀ɑ̀\\' lɑ̀\\' vīāt nkwèè pʉ̌ ghěn kò à sī\\' ndʉ̄ɑ̄ tɑ̀\\' mbôhghòò lǎh có\\'nshù nsɑ́\\' yáá pɑ́\\' ndòk lɑ́ pɑ́ ń dɑ̀ ghʉ́ yāā nzhī yáá ghɑ̀\\' tɑ̀\\' nkúɑ́nkà\\' son leadership est parfait nzâknù 23 nshʉ̀ɑ̄ mfʉ̀\\'nā lèn ǎ mɑ̀ ndʉ̄ɑ̄sòh ǎ mɑ̀nsóh nā ì sʉ́ɑ́\\' zɑ̄sī kwéndʉ̄ɑ̄ wǎ\\' nə́hŋwɑ̀\\'nì ntìā ǎ wèn tɑ̀\\' nkhʉ̄ɑ̀ wū nkhʉ̄ɑ̀njō ǒ lí\\' sɑ̀\\' nsə̄h nǔkɑ́ nǒktú mbɑ̄\\' ó yá\\' fɑ̄h ngà\\'ncà\\' ncât mǎ mɑ̀ncāp nkhù mā mbɑ̀wɑ̄lɑ́ njā\\' nàk tɑ̄ nkhʉ́ɑ́ndʉ̄ɑ̄ le chien aboie mòmòshʉ̄ lə̌b shʉ́ɑ́ fhʉ̄ nɑ́ nɑ̄h mǎ ndó mbû\\'nshì nnìɑ̀ɑ̀nshì on dira donc ngāā tāā et non ngāā ntāā m dakayi votre fils a été absent à l\\'école aujourd\\'hui nsó túpù\\' nā\\' tɑ̄ nzɑ̄ kɑ̌\\'lə́ə́ndʉ́ɑ́ hɑ̄àpìì pí ndə̀ə̄ngwê mɑ̄vǒ ndāmɑ̌ ghʉ̌ ghòōlə̀h mvʉ́ɑ́ nkə́\\' mbɑ̀ɑ̀ tɑ̀\\' tɑ̀mmíéwǎ\\' mbɑ̀ɑ̄ndə̀b ò kɑ̀\\' ghʉ́ pə̀pē\\' lēn mbú í mɑ́ á sì ŋū\\'sī sī ī nshʉ̄ɑ̀ kʉ̀kāk pɑ̌\\' mbú ì pə̀pē\\' ngǎ\\' ngɑ̌ pén ō ncōh ndhí thʉ̄ pɑ̀ndʉ́ɑ́\\'lɑ́\\' lǎh nkhù nzhī njwē\\' mɑ̄ é ghʉ̌ ngǔ\\'nzɑ̄ sʉ̄\\' ʉ̄ ngʉ̌nù yɑ̄ɑ̄ pí nzhwíé í pə̀b ngɑ̌ ghʉ̌ tɑ̀\\' sēn yì mʉ̀nzhwīē pɑ̀ntômbó mɑ̀mmā\\' mbè\\'mbè\\' cà\\'sǐ ngwēèwèn lǒ\\' nshwī báá mēnzhì ntə̄\\'kə̄ə̄ mbə̄ə̄ mēn à ngɑ̌ cɑ̀’sì ō lɑ́ yáá mɑ̀ lāhā mēn à ǎ lə́ə́ mēn ǐ mbí nkwɑ̀\\' kɑ́ tɑ́ ó ngʉ́ pɑ́\\' mbɑ̀ɑ̀ lɑ́ ɑ̄ yò wúpíéndɑ̌h mɑ́ kɑ́ màkàlà nkwēn mɑ̀ pō yǎt tɑ̄ mɑ̄ nká\\' mbə́\\' tɑ̀\\' nháh póthʉ̄ ngɑ̌ ghěn mbèé lì ǎ lɑ̀ cō\\'khù ā ndʉ̄ɑ̀lə̄ ngɑ̌ zàb ī mbī\\'tū mɑ́ á pɑ̄psī wúsʉ̀ɑ̀ za᷅ nhóónāt zʉ̀\\' yèé ngà\\'mfɑ̌\\'mbō pèn shʉ́ɑ́ cāmnshʉ̀\\' mɑ̀ nkù\\'nì ngɑ̌ mɑ́ yǐ āfrīkà ŋ̄h mbɑ̄\\' ō ndāmɑ̌ nját wū l\\'expression française équivalente est cə̄ə̄ ngwāh mēmmɑ̄ ò ŋ̄h ngɑ̌ vɑ́h yā mēn à wóktèn ngɑ̌ mɑ̀nní yáá lēē zǐ ndū à sīēbɑ́ncə̄ə̄ ŋ̄h làh nsóh nká’ mbɑ̄ mɑ̀ yáá ghɑ̀’ tɑ̀’ mbɑ̀ làh nsóh sīèndʉ̄ɑ̄ lə̀ə̄ sāhndó\\' ntéé kòngɑ́\\' ǹ kɑ̀\\' ghə́ə́ nù à kɑ̀\\' cóhsí ncwēh pōō mbǐ mǒ\\' mɑ̄ŋū mɑ̄ŋū mò\\' mɑ̄ŋū yì ǎ mɑ̀nsɑ́\\' lɑ́ ǎ ghèn tɑ̀ mfhʉ̄ ntā\\' ngɑ̌ kɑ̀\\' njɑ̄ɑ̄ mɑ́ ngɑ̌ ìndə̄ə̄ndʉ̄ɑ̄ nhɑ́ɑ́sí califat khʉ̀khʉ̄ɑ̄ lɑ́ nū mvāt ncám ncɑ̂h wèn pǒm ngāp pūāsī nā ò mvī ntèn ŋwâtlù pó mfén yāā lāhā ntìmbhì tīì nzhì pù\\' ǐ fòpsì mbǎk mɑ̀ndō nàm ntòhō mbūànzɑ́ tōh mbhʉ̄ sə̀ə̀mbʉ́ɑ́ (607 mbz) nzhì pù\\' ì fòpsì tā\\' yáá ndòm zìmó\\' pɑ́\\' mɑ̄ngátsí ā pɑ́\\' mɑ̄ngát lā ndʉ̄ɑ̀vhʉ̀ ndʉ̄ɑ̀zúvhʉ̀ nkàmncà\\' ǎ híá njɑ̀ɑ́ pʉ̀ɑ̀ mɑ̄vǒ mɑ́ nnâkŋwɑ̄\\' ngɑ̌ yɑ́ɑ́ mɑ́ ngɑ̌ mɑ̀ngén lə̄ə̄ndʉ̄ɑ̄ ngǔ’è wúzɑ̄ béé mɑ́ yǐ wɑ̄ yɔ̌nshǐ mbūāsī nthʉ́ wèn nkō\\' vàm píá pèn ntìé\\'è yáá mɑ́ wú kó\\'síé mbú ā mbə̄ə̄ mēn à shǐndə̀ə̀ yáá mɑ̀ lāhā wò bɑ́ yà pàksǐncò mbɑ̀ mʉ̌ yɑ́ɑ́ fà’á mēmmɑ̄ ò mbī’tū mɑ̄ yáá ncāk mɑ́ ń sǒ mʉ̀nzhwīē ǎ tə́\\' mbɑ̄pɑ̄bɑ̌ thʉ́ shʉ̄ɑ̄ ndáh nzhú mbɔ̌shʉ́ɑ́ nzhìyū\\' mfèn ngɑ̌ víát ngɑ̌ fhʉ́ncáhsí mɑ̄ndə̄ə̄ wúzɑ̄ yōh pɑ́h ó sāhnù mbāt ntìé’ é ngǎngǎt shʉ̀ɑ̄ wūɑ̄ pō á vìàpsì yāā sī mɑ̀nkwēn ō bɑ̄ ɑ́ tî mbìè hə̀ə̄ nshʉ̄ɑ̀ngòò mə̄m nə̄h mǒ ngáp shìè nzhìndʉ́ɑ́ pə̄ə̄ pō ī ǹ sī mɑ̀njēē nzhʉ̀ mɑ̀ pɑ́h ó pàt njēēsī mēndɑ̀\\' bɑ̄ nhwīē nā ǎ mɑ̀ndē\\'sī ngòfāt njàm tū tìē yāā ndó\\' fǐ\\'ì fǐ\\'ì lì mēn kòlə̀\\' kwɑ̀ ncām ntōhó mɑ̀nhɑ̄ lāhā ǹ kɑ̀\\' ghén kò zé\\'è ncāk lò kēkēē ndó kēkēē nné\\' kwéndʉ̄ɑ̄ pɑ̀h ghén ncɑ́\\'sí tòókò ghòò pó ndáh sɑ̀\\' pí ndɑ̀ɑ̀ ntām ndhī lotocratie ndômnsǐ à hòō wū hòō fēn wū hòò nzâknù 30 ngɑ̌ yá\\' ǹ jǎt sì ǹ jǎt tɑ̄ mɑ̄ ǹ dɑ̀\\' lɑ́… ndò\\'càm ntìècàm ntìèghə̀ə̀ ndàhghə̀ə̀ ngɑ̌ ìnŋáh nsɑ̂\\'tūsě\\' có\\' nkúɑ́ nɑ́ tōtō ngɑ̌ cɑ̀’sì ō lɑ́ nzhwīē à ngǎ’ngòm kū\\' lě fʉ̀\\'sì tɑ̀ exclamation se traduisant par fèhnʉ̀ɑ̀ fìhnʉ̀ɑ̀ mbā\\' lɑ́ mɑ́ tɑ̀\\' ncâkngə̄ə̄ zén mēmmɑ̄ ò mʉ̀nzhwíé mɑ́ púángāp nshíá nzāt hɑ̄ yǐ mēmmɑ̄ è mbɑ̄’ ō mbɑ̄’ ō mbɑ̄’ ō sīēwèn ngɔ̀ bì fhʉ̌ ngāp yà wèn mbǎ lě mɑ́ shīyā\\' mfɑ̀\\' kǎ\\' fhʉ́tèn mēn ǎ ghěn tōm tɑ̀ mbát njàm sɑ̀\\' ntā\\'sī ā lɑ́ ndʉ̂\\'fōh ǎ lén mɑ́ ǎ ìnzáb ō nzhìè kǔ\\' mɑ̀nkō ā mìènjīī pí cwǎmbú\\' mɑ́ pɑ̀ shwìí sēn kɑ̀hsǐ ndhī tɑ̄ njɑ́\\' sɑ́\\' ngòfāt fhʉ̄ līē\\' mvʉ̄ɑ̄kǒ mfōh yì mbèè fà’á lɑ́ ǒ kə̌’ mbɑ̄’ ē nshʉ́ɑ́ mɑ̄ ē é mìènāk ǎ yóm tɑ̀ pō mɑ̄njēē nká\\'nā mī cette doctrine religieuse est absconse làh mɑ́ yì béè lè nùlɑ́ghʉ̀ bɑ́ ǹ sǐ\\' ngə́ə́ nglǐsì bɑ̄ ǎ ghěn mɑ̄ghɑ̀ɑ̀ kwà\\'sì nēhē zén nsìènsì ǎ mɑ́ mɑ̄vǒ ndə̀ə̄nkām nkhʉ̌ mví lōhsī ǎ ghʉ̌ ndʉ́\\' nshǔ ì ǹ dɑ̀ sì zɑ̄ zàp nhíá hīā pʉ̀ɑ̀ ó thʉ̄ yāā kɑ̀\\' lēē ngɑ̌ mɑ́ ncâkngǎ\\' nɑ́ zhínǔsāhndó\\' ghɑ̄\\' nshù ō kʉ̀cák pō cǎk pō mbè’mbè’ fɑ́hnzɑ́ mbú ó lɑ́ mēmmɑ̄ ndák lōh sòm mɑ̄ mfɑ̄h ntēē lɑ́ mɑ́ yákyāk deux années nshʉ̀ɑ̀ mǐ pɑ́h pó wāh lī tɑ̀ ntām kʉ̀kǎh sí ì kwá\\' mvʉ̄ɑ̄ ngɑ̌ yǎ mɑ́ mbǔ\\' nɑ́ béé nù lè nŋǎntèndʉ̄ɑ̄ fāt-sāk zúntōk pɑ̀ɑ̀sí nkhù ntʉ̀ntɔ̀ nsíɑ́ɑ́ nzhì pó mméh làh nnū nsǐmbā\\' mǐ ghák mbèè ncwêh cō tə̀\\' ngɑ̌ nʉ̀ɑ̄ nkwèè pìì nǎ mbí pèn líé\\' ntēē nkwéndāk ne pas confondre avec ghòōlōh pí yʉ̄ɑ̄ fáhghə̀ə̀ pɑ̀h záp ndà\\' nzǎp ndà\\' lè ghèn nnə́\\' sīē ǒ ìmbɑ̄ mɑ̀ ǒ púá shwītōknzhînù pʉ̀ɑ̀ híá thʉ̄ wèn shʉ̀ɑ́ ō ò ŋɑ̄\\' pʉ̀ɑ̀ ī ce mot serait une déformation de fhʉ̄ ywààsǐ síé yə̄ə̄ mbə̀\\'mbə̀\\'/mbè\\'mbè\\' cà\\'sǐ dìpʉ̀ɑ̀ càhsū\\'/càhthʉ̄\\' béè mbʉ̀ɑ̀ mbʉ́ɑ́ lěnpìh ngɑ̌ (mɑ̀)ngén kōō tū ā ǹ sī ìmbát ngā’ sə̀ə̄ mfɑ̀’ bɑ̄ ǹ sī ìmbát mɑ̄ndīē ndʉ̄ɑ̄ndù’ bɑ̄ làh ngén mbhì zéntùà zéngʉ̄ɑ̄ l\\'enfant n\\'a rien absorbé depuis deux jours ghɑ́\\' pǒmngāp ngɑ̌ kwè\\' ō ndɑ̌\\'mɑ́ ǹ sī ìndə̄ə̄ mō bɑ̄ nzɑ̌ léé mɑ̄vǒ ǒ ncə́ə́ pɑ́\\' pó fɑ̀h ó lə̀ə̀ lɑ́ pōsī ndhîkwēn lɑ́ zū donner une gifle à quelqu\\'un nkāāsī sì tú yāā zhì\\' ntʉ̄ɑ̄ ngʉ̄ɑ̄ nshʉ̀ɑ̀ncēn mʉ̀nzhwīē yàā ndə̀h bê kǎ\\'nkwɑ̀\\' mbhì bɑ́ wò zīī zǒ léé mēmmɑ̄ ò yì mbâ\\' bɑ́ nsɑ̂\\'ndʉ̄ɑ̀ngèn ǒ sì lɑ́ɑ́sí ī pó pɑ̌p nkwēn ndáh ndə̄ə̄ khʉ̀khʉ̄ɑ̄ tòmāsì yīītɑ̄mbēn ǒ nɑ́ yàā ndʉ̄ɑ̀ŋwɑ̀\\'nì mbʉ̀ɑ̂ támnkòò/vâ\\'sì ghèn ntēn síì nǔ kɑ́ ó mɑ̀njāksī ā mbɑ̂\\'tū mbā\\' lɑ́ ghʉ̌ ŋwá\\'nthʉ̄ nshwīɛ̄h mōh mví fǎ\\' nkhʉ̀ ngɑ̌ mɑ̀ncāk/mɑ̀nkwé\\' làh ngén mfhʉ̀nì/kwàà kɔ̀ bǎ lóhsí làksǐ tèn tɑ̀\\' yǒkndʉ̄\\' tə̄b ngén ŋwɑ̀\\'nì sī mʉ̀ bɑ́ bɑ̄ nù sìkwè\\'nkwé\\' pàā pʉ̀ɑ̀ lɑ́ nkòò tēn càh mmáá ndʉ̄ɑ̀\\'ncò ǎ ndɑ́\\' lɑ́ wò hù ngàmngàm tɑ́ khʉ̀ɑ̀\\' lí\\' tə̄\\' sì khʉ̀ɑ̀\\' tē\\' lâmbìì sīē sǐ\\' ntām ntè\\' bɑ̄ tìtěndù\\' ngǔ\\'è cʉ̄cō\\'ò lǎh fɑ̀\\' nkōō tū ā lɑ́ ǎ sɑ̀\\' kèn móhnzhì pour commencer le juge de la partie dit plusieurs fois nāksī nkhʉ̌ mvī lɑ́ těndʉ́ɑ́ mbʉ̂\\' nǎ\\'mbú\\' yə̄ə̄ ngɑ̌ cɑ̀’sì ō lɑ́ sēn à yámngwê ǹ dɑ̀ bɑ̌ nkwá’ mɑ́ ó nkə́’ mbǒ’nshìè ngʉ̀ɑ̀pēnɑ̄ mɑ̄vǒ hɑ́ wúzɑ́ mbú à ngɑ̌ mɑ̀mmwēn mbī\\'tū mɑ́ ǹ kɑ̀\\' tōh làksì tɑ̀\\' ncôptū à sī mɑ̀nkhʉ̄\\' ntōk bɑ̄ ghɑ̀\\' ghòò népotisme yáá ìmbɑ̄ mɑ̀ ngɑ̌ ghʉ̌ nshǐngwā\\' mbé\\'ntìè\\' mɑ̀ nshǐngwā\\' nɑ́ à nìɑ̀ɑ̀sì yāā ncò sə̌ té\\' mvāt sī yǎt ndʉ̄ɑ̄ bɑ̄ ǒ nsɑ́\\' séè ndìàndìà á cwé\\' zúngwè\\' kàfí yá\\' yə̄b dʉ̌\\' pàksì lɑ́ pèn tā\\' nɑ́ ì ngɑ̌ mɑ̀mmwēn pú\\' khʉ̀khʉ̄ɑ̄ zʉ̀\\' sī yǎt síé bɑ̄ ghʉ̀ fà\\'á ngɑ̌ ìndīē nsɑ́\\' pʉ̄nkʉ́ɑ́ mɑ̀ lāhā lēēlēēnshì ngàh wèn mɑ̄ shìè mɑ̄ sə̄h pɑ́h á pó kwèē pǎ\\'nshì kʉ̀khʉ́ɑ́tōm njɑ̌hnǎm kù\\' sá\\'lāk tɑ̀tóhyāā ɑ́ yēē píá pɑ̀mfhʉ́sīē nák cêh lɑ́ mʉ̀mfhʉ̄ mɑ̀ hɑ̄ fə̌ cǎh ŋwɑ̀\\'nì mɑ̄vǒ mɑ̀nnə̄\\' mōō kááyíízʉ̌\\' mbɑ̄ mɑ̀ yáá pè\\' kááyíízʉ̌\\' pè\\' ngàh pè\\'è yāā lɑ̌\\' ngǔ\\'mbāā ndʉ́\\' lɑ̀ bɑ̄ sīē yáá mɑ̀ntén nāk fà\\'á ǒ sì īmbát nkwá\\'sí báá nù lɑ́ ngɑ̌ mɑ̀ndōk wúɑ́ ndú à ngɑ̌ póh tɑ̀\\' ngɑ̌ céh í ǎ lɑ̀ pēn ngɑ̌ zɑ́ sɑ̂\\' mòōngwê pó yěh tū ī pí fɑ̀\\' mbɑ̀ɑ̄ nhù lɑ́ sʉ̄\\'ʉ̄ pɑ̀ ngǎ\\'də̀ə̀ ǒ ghʉ̌ sên mɑ̄ghɑ̀ɑ̀ yì mʉ̀nzhwīē έ ǎ lóó nā wúzɑ̄ ā mbī’tū mɑ́ á zɑ̄ yǐ wǎ’ ǎ séénthʉ̄ ā ntâmntè\\' pè\\'ē mvʉ̄ɑ̄ yáá fhʉ̀fhʉ̀ ǒ ghʉ̌ mbǔ\\'nkěn yáá mɑ̀nshʉ́ɑ́ pɑ́\\' mbǎk ìndō lɑ́ khǔnàk nǎk pə̀pē\\' lɑ́ ō [a une personne] pèn nák pə̀pē\\' lɑ́ ō [a plusieurs personnes] point final kɔ̄ŋ kɔ̄ŋ kɔ̄ŋ wɑ̄ bɑ́ ndʉ̄ɑ̄ lè ncāk ntɑ̄\\' nnák nɑ́ zhínǔ wèn yáá indí\\' ghʉ̌ tɑ̀\\' kǎm nàm sʉ̀ɑ̄ mbǒ\\'nkhù tō\\' sák hīā nɑ́ nté\\'thʉ̄ ngǎ’ nā à ǹ jǎt tɑ̄ mɑ̄mfhʉ̄ ntēē kwɑ̀’ ntìé’ lè ngɑ̌ púá ngɑ̌ mɑ̀njā\\'nthʉ̄ nsǐmbá\\' kòntōm ntám nzī mǐ ǎ ghʉ̌ cwàànkə̀ə̀ mbú\\'ŋwɑ̀\\'nì ǒ zhí làh ngə́ə́ ghə̀ə̄ yêmbà á ǒ mɑ́ wɑ̄ mbɑ̄\\' ē ndāmɑ̌ nját wū ú mbɑ̄\\' ē ndāmɑ̀ yǎt wū ú mbə̀\\'mbə̀\\' líé\\'nzɑ̄ mfèn yɑ̀\\' yò tûmbhì wūkwà\\'mbíɑ́ mɑ́ kɑ́ hǒghə̀ə́ mbɑ̄ mɑ̀ yáá zɑ̄ ghə̀ə̀ yǒh wǎ\\' tɑ̀ póálɑ̄\\' sǐ\\' nját ngə́ə́ sí\\'ghə̀ə̀ bɑ̄ m̀ fhʉ̌ tɑ̀ ngʉ́ nkɑ̄ɑ̄ mɑ̀ ǹ dɑ̀lə́ə́ndʉ̄ɑ̄ mbâ\\' ntèn lǎt nkwēn ǎ sǐ\\' nzhī\\' ntōk bɑ̄ mvʉ̄ɑ̄ kɑ̀\\' ghʉ́ ndə̄\\' ngɑ̀ɑ̀ ghǎm mēn là ghèn ngwēn ndù\\' ghèn ncōp ndhī ò mbɑ̀ɑ̄ndə̌b kòntɑ́\\' cɑ̄\\' nzâknù 25 nté\\'sí mbát nsōk líé\\'nzɑ̄ nǔncà\\' yáá nkwēn ncɑ̄\\' mbǎp cə̄ə̄ ngwāh mēmmɑ̄ ò nù sǐ\\' nnʉ́ɑ́ wènòk ngʉ́ kǎbthʉ̄ bɑ̄ lɑ̀hsì/lə̀hsì ā lɑ́ yáá mɑ̀njā\\' lā ndé\\' ŋwɑ̄\\' ǒ mɑ̀ngə́ə́ fà\\'á nɑ́ kɑ́ nsì mēndū làh ncɑ́ɑ́nshǔ pə́h tɑ̀\\' kɑ́ bɑ́ béé wū lè ngɑ̀ kɑ́ghèn = ǹ kɑ́ghèn ntām ntè\\' nzɑ́ lēē è mɑ̄vǒ sên yōh pɑ́h í sī tɑ̀\\' ndāàmbō tɑ̀\\' kə́\\' kū\\' vɑ̀h làk pʉ́ɑ́ ncwáánù ngàhnshì mbə̄ lɑ́ fǎm mbèè ngāā ntíì ngɑ̌ ìnkūɑ̄ ndēhyèh sìŋô\\'sì kwêngòò ntòònjò\\' ǒ sì pʉ̄\\' hǔ ná ǎ mɑ́ wɑ̄ yáá sī mó\\' mvàk yέέ nɑ̄\\' nsī mó\\' mvàk mbù\\'mbèè nǒ mɑ́ kɑ́ ngā\\'mfɑ̀\\' pə̄ə̄ mī shʉ̀shʉ̀ɑ̄\\'pō nshǔ mvʉ̄ɑ̄ ngɑ̌ hɑ́ ngɑ̌pén mbú ó nɑ́ mfɑ̀\\' mō ngɑ̌ hèē mɑ̄nzhì de shʉ̄ʉ̄ mbīēlèn ne pas confondre kà\\' à bɑ̌ sīē mɑ̀ ǹ sí\\' nsɑ́\\' bɑ̄ ǎ hòō ndòm pò\\' pīē ǒ sì záp nā ò sóh cō zə́h mōō nkōntā\\' mɑ̄ njū’ lǎmnshù pí kɑ́ tɑ̀ mó’ līē’ lɑ́ yì mɑ̀ síé pēn lɑ́ nzâknù 19 yú\\'sìpə̀\\' pí púánkhù lə̀lǒh híé\\'khù pōō mbǎ njū\\' nshù ā ǎ kònjōk nā ì nsēn mbǎ khʉ̀ɑ̀ ā wǎ\\' mʉ̄ɑ̄ngāp ndʉ̄ɑ̄ sì cɑ̀\\'sì lɑ̀pìé wúzɑ́ njɑ̌hnǎm yá\\' pīh wúzɑ́ njɑ̌hnǎm yá\\' kǔ\\' zɑ̄ pó nhɑ̄ sè\\' pò\\' mɑ̀ pó lə́ə́ mbí mvʉ̄ɑ̄ túmóh ndʉ̄\\' lɑ́ kūɑ̄ ncām nā wèn mɑ̄nzhì lɑ́ ŋááŋāā ngòòndə́b těn nkò\\' cʉ̄cō\\'ò pèn kōsī ā lɑ́ yīī mbè\\' nzhʉ̀ nù lɑ́ mɑ̀mbhʉ́sí ngɑ̌ mɑ̀mmwēn mbī\\'tu mɑ́ pó yòk á mfɑ̀\\' mó\\' mbàk lō kāhā ǒ cáhsí mbūànzɑ́ é yáá kwɑ̀\\' fà\\'á kwɑ̀\\' ndéndēē tɑ̌hpō lɑ́ mɑ̄ ò kɑ́hɑ̄ tú mvī kɑ̀ɑ̀ kā\\' béé ghʉ̌ yàā lèn république constitutionnelle sāā lɑ́ kòmbɑ́ɑ́ ngà\\'mbhǐ ì pàànkòò nnə́h nshì wěn mbēh tɑ̀ ngʉ́ sǎtnə̄h nə̄h mǐ mɑ̄nsátsí yέέ mɑ̀ lɛ̄hɛ̄ lǎh zě\\'è ǒ sì pʉ̄ɑ̄ɑ̄ nā ó nā lē\\' zén fə̀ ā nèé mɑ́ fə̀ sǐnkāp hǎ\\'mbàk ntè\\'zɑ̄h mbā\\' lɑ́ kə̄ə̄ ndhʉ̌nshù ī ngɑ̌ zhí tɑ̀\\' mbə̀\\' zʉ̀\\' mɑ̀ ywààsì sī mʉ̀ bɑ̄ ngà\\'nzhì sīē ncǎ\\' cìcǎh pō mbɑ̄\\'ndāmɑ̀ mbɑ̄\\'ndābɑ̀ mfīī nsāt ngɑ̌ sɑ̌\\' yɑ̌\\' ngwā\\' tûmbhì fátvɑ̄h mēmmɑ̄ ò yòkyòk kwɑ̀ bɑ́ mbā\\' yì pɑ́h ó mɑ̄nsāh nǔ nɑ́ í lɑ́ kūɑ̄ kɑ́ tɑ́ ó mɑ̀ngʉ́ ʉ̄ ǒ mɑ̀ngʉ́ kɑ́ fìèvre jaune ǎ mɑ̀\\' ā lòh pàh lǒm ŋ̄h ngɑ̌ vɑ́h yā ngà’njǎm à tòókò pɑ̌h ìncōp pè\\'é nɑ́ nǔ ngɑ̀ɑ̀ pʉ́ɑ́ sómbōòpè\\'è ǒ sì zɑ̄ hù\\'è wɑ̄ bɑ́ ncêh kòm lè cīcō\\'ò sīsīē lɑ́ wèn sǐ\\' nzhī bɑ̄ ngɑ̌ kwě\\' mbɑ̀ɑ̄nshì nshʉ́ɑ́ mbɑ̀ɑ̀ ngɑ̌ mɑ̀ncá\\'sí = nǔ mɑ̀mbé\\' ā dois-je absolument faire ça ncǎ\\'ndhī shìāngə̄ə̄ mɑ̄ à móó ndʉ̄ɑ̄ ò mɑ̄ndáh kʉ̀kòp nnē\\' mōō mɑ̀ lāhā ghèn ngɑ́ɑ́ wúzɑ̄ mbɑ̂\\'mfɑ̀\\' mǎ ndē\\' tɑ̀\\' nshʉ̄ɑ̀\\'mbōò proverbes similaires nàm tó\\'nàm ghʉ̀ fě\\'è shʉ̀ɑ́nù nzɑ́ hèē nkhǔ ncāt ndū á ghʉ̌ tɑ̀\\' ghɑ̀\\' ghòò wɑ̄ bɑ̄ nzàb ō ō kɑ̌\\' nù ndhī ō lɑ́ fīā tɑ̀\\' ǒ sǒ fíá ndhī ǒ mɑ̀njóm/mɑ̀njə́b ā tɑ̀\\' dīē mbə̀pə̄\\'/pə̀pē\\' mbɑ̄\\'kāā wúɑ́ tōm nɑ́ à vì\\' nzhʉ̄ɑ̄\\' lǒ\\' yāā ndù\\'mbìè ǎ mɑ́ tɑ̀\\' fʉ̀ʉ̀ní wèn lēn mbú í mɑ́ á sì shʉ́ɑ́ pí mvʉ̄ɑ̄ mfɑ́\\' lʉ̀ʉ́fʉ̀ʉ̀ ntə̂\\'ndə̄\\' sǒmndʉ̄ɑ̄ mʉ̄nkhʉ̄ɑ̄ mfʉ̀nì kwàà zʉ̌\\'zʉ̀\\' zʉ̌\\'nì ndʉ̄ɑ̀nì mfàk ndʉ̄\\'fōh cà\\'sǐ líé\\'zī khʉ̀ɑ́\\' pè\\'è maternelle ncǎ\\'mbū\\' mɑ̄vǒ ndāmɑ̌ mɑ̀ncwén kə̀ə̀ zǐ ɑ́ lǎh ghěn kò ngɑ̌ ngén mɑ̀ ndǎk-kò ngòòālə̀ə̀ ne pas confondre avec cwêh ngɑ̌ mɑ́ nnìɑ̀tòòtōm lǎh yì mʉ̄ɑ̄ yāā ndàhwěn ndʉ̂\\'fōh ǒ sì zhʉ̄ɑ̄\\' nā ó shǐndʉ̄ɑ̄ tʉ́ɑ́nshǔ phʉ́mfɑ̀\\' kɑ́ tɑ́ ó mɑ̀nkwé\\' làh ndáh ncwáántīē ngɑ̌ nkwé\\' làh ntām mbǒ\\'nkhù nàm nshʉ̌’ tóh mbhʉ̄ mʉ̄mbʉ́ɑ́ ǒ mɑ́ mīā hɑ̄ tɔ̀ ngɑ̌ mɑ́ tɑ̀\\' hě\\'wèn tɑ́ mɑ̀ mbɑ̄\\' ō lɑ̌\\' tɑ̀\\' ghɑ̀\\'nthʉ̄ mbâ\\' hù lɑ́ dhǐshʉ̄ɑ̄\\' nsātlɑ́ péé kàk ā yáá lēē zǐ mēn à wóktèn mvǎknkɑ̄ɑ̄ ŋwɑ̀\\'nǐ lāhā hɑ̄ yà ncɑ̄\\' yáá nā mēn mbɑ̄\\' ngɑ̌ wén tòòtōm ǒ nkwe\\' làh nsɑ̄\\' pʉ̀ yə̄ə̄ mɑ̄vǒ ngɑ̌ nzhì lɑ́ mbɑ̀ khʉ̀ mó\\' wū nkùnkū\\' lɑ́ sī mɑ̀ncóh ndámnsāk bɑ̄ wúzɑ̄ sī mɑ̀nshʉ́ɑ́ nshù á bɑ̄ mǒ\\'ngɑ̀ɑ̀ mɑ̄ ā yɑ̀ɑ̀ nsìèsì cīcō’ò ngɑ̌ mɑ̀nkə́’ làh ngén nzɑ̄ fɑ́h tōm nɑ́ sēn à nshù\\'nsè\\' sə̀ə̄wèn lɑ̀\\' ténmvǎk mbú á pɑ́\\' wò lɑ́ shwǐ\\'ncámncāb c\\'est pourquoi on les appellent aussi sênfə̀ kɑ́ bɑ́ ɑ̄ pèn shʉ́ɑ́ cāmshʉ̀\\' yōh pɑ́h í yù\\' wāhà fɑ́hnzɑ̄ ǎ mɑ́ sēn ǒ ndát mɑ̄nzhì cò\\' ǎ kúɑ́ kāhā dʉ̌\\' mōh lɑ́ mbə̀\\'mbə̀\\' mbūànzɑ̄ túnā yōh fʉ̀ʉ̀ ncɑ̀\\' zhʉ̀ɑ̀\\' ngòò lɑ́ sǐ\\' nsī ndʉ̄ɑ̄ bɑ̄ nshʉ̀ɑ̀nzɑ́ mɑ̀ lāhā ntēhmōō mbàk bɑ̌ tɑ̀ ndō mɑ̀ ǹ sǐ\\' ngén ŋwɑ̀\\'nì bɑ̄ ǒ sì pīē ndə̌h mbú à fǒb ngʉ̄ɑ̄\\' pí zhínù mbókndʉ̄ɑ̄ ngə́ə́ mɑ̀ nshʉ̄ɑ̀nshù ngòfāt kɑ̀\\' fɑ̄h tɑ́ mɑ̀ mbǎk ló yà wúpíéndɑ̌h mɑ́ làh nníɑ́ɑ́ khʉ̀khʉ́ɑ́tōm lî\\'zè\\'è sə̀ə̄wū ndú á kwě\\' kū\\' tɑ̀ kéémbʉ̄ɑ̄ mvʉ́ɑ́ kòmvʉ̄ʉ̄ tàp ǎ zǎb yì mvàk ǎ kòntōōsī í á pɑ́\\' njā\\'nthʉ̄ ncɔ̀sū\\' pīē\\' nkhʉ̌ pʉ̀ɑ̀ lɑ́ à lɑ̀ŋwɑ̌\\' cwě\\'vɑ̀h zǐ tɑ̄ nkūɑ̄ ngà\\'mfɑ̌\\'nsə̀ə̀ nkhʉ̀ ghòò zǐ ghěnmbhì sáhnù ntìmbhì ncɔ̀ tî ǒ mɑ́ wɑ̄ zēn zǒ mɑ́ wɑ̄ pɑ̀ndə̄ə̀ndʉ́ɑ́ mɑ̀ndáhnìnì fáhshwíí mɑ̀ngátsí mɑ̄vǒ ndāmɑ̀ ǎ ngʉ́ nsɑ́\\' sê ndə̄ə̄ nsǐmbā\\' trois quarts ngǎ’ncə̄ə̄ kòm í vɑ̄h mbɑ̄\\' ó lā\\' mìmìè nkǒ\\'ntēē ngɑ̌ mɑ̀nsén khǔ mɑ̄vǒ ǒ mbát nkwé’ kɑ́ shù ngɑ̌ pén ó ndì à sīmɑ̄lʉ̄ɑ̄’ túnā ó mfhʉ̄ mɑ̀ hɑ̄ pʉ̀nǒk mbɑ̄ ntíéntīē wūfǐ tə̌\\' cákngà\\' béé mɑ́ kɑ́ yáá pè\\' làh ndɑ́hsí wèn yɑ̄ɑ̄ píá pō pè\\' mēmmɑ̄ à yì mʉ̀nzhwíé pě\\'ngòò tɑ̀\\' cò\\' kāhā khʉ̀ɑ̀\\' sāk póómvɑ̄h còkǒntʉ̀ɑ̀’ mmɑ́hsí nā wèn có\\'nshù mbù\\'ndhī ngɑ̌ mɑ̀nzēnshì ǒ sì cə̄ə̄ (bɑ̄) nzâknù 6 nkhʉ̌těndʉ̄ɑ̄ (2) ǒ shʉ́\\' pʉ̀ɑ̀ ó hɑ̄ nā ā sī mbə̀pə̄\\' bɑ̄ mon frère sait jouer à la guitare ngɑ̀ɑ̀mò\\' mǒ\\'ngɑ̀ɑ̀ ngɑ̀ɑ̀ zě\\'è ngɑ̀ɑ̀ lī\\'ì mbì\\'nǔ mbɑ̄\\' mvʉ́ɑ́ nkə́\\' mbɑ̀ɑ̀ tɑ̀\\' sì sāh mbɑ̀ɑ̄ndə̀b nzhīsī ghèn nnʉ́ɑ́ɑ́ kwéndʉ̄ɑ̄ ò hìā vhʉ̀ ngɑ̌ mɑ̀mbōh pālɑ̀ zō bê yáá yɑ̄\\' mbō njwēn nthʉ́ wèn mbèlékò ntám ntʉ́ɑ́ngə̀\\' yōh mbɑ́ wèn lə̄ə̄ mēmmɑ̄ à nàh ntō\\' yòk tî yɔ̌nshǐngwè\\' bataille décisive ndāā mɑ̄ nkōh nshǐ ntám njōk ghèn ncɑ̄\\'sī yáá těn thʉ̄ bíì lì yáá yá’ ghʉ̌ līē’ pʉ́ɑ́ sí\\'ghə̀ə̀ nǔ mɑ́ mó\\' mvàk tɑ̀ kēēmbʉ̄ɑ̄ ngə́ə́ ǒ sì míé mbhʉ̄ ī yāā mbɑ̀ phʉ̄ ndhī wɑ̄ tɑ́ ó mɑ̀njwēn ǎ ghěn kò pí nkǎkmɑ̄nì mbɑ̀ mbàtkām nkâmsíé yō\\'sī ā ntə́ə́ndāk mfɑ̀\\' mǒ mɑ̀ lāhā ngʉ́ wū pí kómnā fɑ̌hnzɑ̄ nǒk ngòmɑ̄tʉ́ɑ́ ghʉ̌ njwē\\' yáá mbɑ̄ njwé\\'njwē\\' nǔkɑ́ ǎ mɑ̀ncōp ndhí nɑ́ ì cwàákhù pí mbɑ̀ɑ̄ndōm lī\\' lǎt mēnzhì ncóhsí ndə̄\\'sī pɑ̌h ghěh dì\\'sǐ sênmfɑ̀\\' yōh yòh kə̀ə̄ncǒ zǎb yèè pěn mɑ̀ lāhā ndʉ̄ɑ̄ lě mɑ̀ndómsí mfʉ̀ɑ̀\\'wèn ŋ̄h ǎ ndʉ́ɑ́ pʉ̀nǒk mɑ̀nkūɑ̄ lɑ̄\\' pɑ́\\' pɑ̀ngāp lɑ́ nsɑ̂\\'ngwě\\' lɑ̀ mɑ̄ncə̄ə̄ zǐ mbɑ̀ cə̄ə̄ yáá mbɑ̀ɑ̀ sʉ̄\\'ʉ̄ nhé\\' nshǐnɑ̄h nù sǐ\\' nnʉ́ɑ́ wènòk ngʉ́ kǎmthʉ̄ bɑ̄ nzhwíáh nkwāā cīcō\\'ò nɑ̄\\' mbīɑ̄ tɑ̀\\' mbhʉ̄ nɑ̄\\' ntēnɑ̄ cīcō\\'ò kwātnthʉ̄ ō ngʉ́ yǒ ǎ mɑ̀nkwāt pʉ̀ɑ̀ ī ghə̀ə̀ yōh mbɑ̄\\' ó tāmngʉ́ɑ́\\' tú à yáá mɑ́ túfhù mɑ́ fén tōh nshʉ́ɑ́ sì ǹ nhōò nsʉ̀ɑ̀kò\\' wèn pīɑ̄ nùsìkɑ̀\\' mɑ̄vǒ ntám lóhwūɑ̄ ngwé\\'nʉ̀ɑ̀ ǎ ngʉ́ nkə̄ə̄ pōō mbǐ ǒ nhə́\\' tɑ̀ ǎ fɑ̀\\' tɑ̀ nshwīēsī nā ì ǹ kɑ́ghʉ̀ mɑ̀ làhā ǎ lǒ\\' nkɑ̄ɑ̄ bǐ ndʉ̄ɑ̀nkɑ̄ɑ̄ ngɑ̌ nkwé\\' làh nkhʉ́ɑ́ndʉ̄ɑ̄ ngɑ̌ kwě\\' nkhǔndʉ́ɑ́ nkhù ŋ̄h mɑ̄vǒ ngɑ̌ yú’ nǔ yāā tɑ́ ngɑ̌ nkwé’ ō nkə̀ə̄ lǎt sú\\'sí ndhī à mbə̀\\'zíí mbú ò ɑ́ zīī zǒ lēē mbɑ̀ ŋwá\\'mʉ̀nzhwīē ngɑ̌ mbát nkə́’ céhwū mbɑ̀ zénshì nzhìndîlēē pɑ̌h còh mmóm pə̀pē\\' shwì\\'nzhì kà bɑ̄ ŋwātlɑ̄\\' ntámbèè ǒ ntámndʉ́ɑ́ á ngʉ́ kɑ́ nkwè\\'nǐ lʉ́ʉ́ mā ǹ kɑ̀\\' kwé\\' ghòm pó tə̄b ā ták pè\\'è tómyííkò tómyíízʉ̌\\' kó\\'sīē nǔkɑ́ ó mɑ̀nzhwíé ē mbə̀’ mfɑ̀’ ghèn ncēh ī mɑ́ á sɑ̀’ ǎ kwě\\' lʉ̄lʉ̄ɑ̄ yə̄ə̄ zēn zǎ mɑ́ ghə̀ə̄fə̀ ǒ yéé yǒ mɑ́ kɑ́ ǎ mɑ̀nsíésí ndʉ̀ɑ̀ nsə̀ə̄thʉ̄ ǒ sì īmbát mmóósí shʉ́ɑ́ndāk lɑ́ fà\\'á njàbkè\\' ngà\\'mfʉ̀ʉ́ nkwé\\' làh mfʉ́ɑ́ wèn lā’ lɑ́ ntàhndʉ̄ɑ̄ ngɑ̌ kə̌’ mbɑ̄’ ō pí mɑ̄vǒ mbʉ̄ɑ̄ nshʉ̀’ sìīndʉ̂\\'fōh túnā yēē híé\\' túkhù nù lě hùhù\\' yə̄ə̄ mbɑ̀ mʉ̌ ngén mɑ̀ wú pɑ̀h ntìè\\' ē shʉ̄ nzhìèkǔ\\' nkō tɑ̀\\' ngǔ\\' mbhì ɑ́ hʉ̀ɑ̀ kō ō sáhnù ntìmbhì 58 lɑ̀’sǐnā nù sìtèn wāhà kǒm/kə̌b mɑ̀ntō\\' nɑ́ yàā ndɑ̀h ǒ sì tʉ̄ɑ̄khǔ nɑ́ yà vɑ̀h tōh yò nzhī nshʉ́ɑ́ nkhù ntî ngòfāt kɑ̀\\' fə̄h tɑ́ mɑ̀ mbǎk ló mʉ̄nkhʉ̄ɑ̄ mʉ̀nzhwīē lɑ́ ghʉ̌ pɑ̀ɑ̀sí tèn fʉ̌\\' nzí mfɑ̀\\' mfɑ̀\\' mɑ̄nzī fʉ̀\\' ngɑ̌ tɔ́ɔ́ kāhā ngè\\'wèn nsɑ̂\\'ngə̌\\' có ntám tə̀ə̀ pàt ndáh mò\\' mbə̀’ kwà’sì bàá sɑ̀’ zǒ lě mēnfə̀ pʉ̀ɑ̀ báá mɑ́ yǎ mbé\\'ntìè\\' mɑ̀ ǎ mɑ̀ ndʉ̄ɑ̀lə̄ə̄ sè\\' zǎ có\\' mbàk sī mɑ̀ndō bɑ̄ ǒ ghʉ̌ mbʉ́ɑ́ ghʉ̀ fà\\'á ngɑ̌ mɑ́ tɑ̀\\' nkēèzū mēn ò yì mbá\\' ghʉ̌ ngǔ\\'nzɑ̄ sʉ̄\\' ʉ̄ yɑ̄ɑ̄ shʉ̀ɑ́\\' nɑ́ nù lè mbí ì mbú ì mfɑ̀\\' mǐ yɑ̄\\'mbō ò sə̀ə́ wū lɑ́ ò wɑ̄\\'hù sāā lɑ́ mɑ́ tɑ̀\\' njû\\'nù et zēn pɑ̌h mɑ̀ntōk mbɑ̀ɑ̄ndə̀b nzhʉ̀nzhʉ̀ɑ́ mɑ́ tɑ̀\\' zʉ̀ɑ̀\\'nkə̄ə̄ ǒ sì pōp wúsʉ̀ɑ̀ zǎ nsɑ̂\\' zúndʉ̄ɑ̄ à kɑ̀\\' ghʉ́ sə̌ mbìá nɑ́ ì wèn shʉ́ɑ́ pɑ̀h shʉ́ɑ́ wèn ghénɑ́ à kɑ̀\\' shwī zhínù ngɑ̌ mfɑ́\\' mbɑ̌ nɑ́ mèhngɑ̀ɑ̀ ǒ mɑ̀nkwá\\'sí làh ngʉ́ wū mbūànzɑ́ é sɑ̌’ mbə̀pə̄’ mbɑ̄’ ō mbì\\'nù mǎ yə́ə́ tɑ̀\\' mbòó ndʉ̄\\' mōh ngɑ̌ mɑ̀nkə́\\' nàh ngén nzɑ̄ nzhwīē í ncōh tɑ̀\\' il peut aussi être interprété selon le contexte comme fáhghə̀ə̀ lè kɑ̀\\' tēn nɑ́ nkà\\' tʉ̀tɑ̀\\' sī mbú á bɑ̄ pēh mōh ndū í zhī njɑ̌\\'nkwè\\'nì ghèn nsó ncāt mǒ síélììmá mɑ́ mên mbɑ̄\\' émò pʉ̀ sìpě\\' kwě\\' njām ǎ fěn mfʉ̀ɑ̀ ní mbú á ndáh nníá lā nnā\\' nù ncà\\' sī wū bɑ̄ mēmmɑ̄ ò ôhó ngɑ̌ mɑ̀nkwé\\' làh nté\\'sí nù accroche ton habit sur le ceintre ǎ fhʉ́ kè\\'è kɑ̀lák nsɑ́\\' ŋ̄h ncà\\' sī wū bɑ̄ lə̄ə̄ mvʉ́ɑ́ làbsì ā m̀ mbōh ǹ kɑ̀\\' vīāt ngɑ̌ ìmbát zɑ̄ ntǎ\\'zhínù yʉ̄ɑ̄ bɑ̄ mbī\\' wò yō hɑ̄āpìì nzhìè làh mbɑ̄ kɑ́ bɑ́ mɑ̀nkō ō yō ngà\\'kà\\' lɑ́ còh nzhī làh ncwén ghòò pěn (mɑ̀)ngén tɑ̌ hɑ̄ tə́ə́thʉ̄ nzhwìà ngòfāt ǎ kòmmóósí ntám njāb nkɑ̀\\' sī mbú í bɑ̄ mbɑ̄\\' ěmòó nzhī làh nthī ghə̀ə̄lɑ̄\\' ntâmnkòò yέέ mɑ̀ndə̄\\' pɑ́\\' nkùɑ̀ lɑ́ zīī zǒ kɑ̀\\' lēē bɑ̄ ǒ mɑ́ ngà\\'pɑ́hzīī nzâknù 27 nɑ́ nkǒ\\'zɑ̄ (cǎk píh) kwē\\'è mbà\\' ndèn ò ghěn mbɑ̌ hɑ̄ lɑ̄ mɑ̀ ngɑ̌ nzí ō sʉ̂\\'mfɑ̀\\' nkɑ̄ɑ̄ sī mbú á bɑ̄ nkhʉ̌tēn nsɑ̂\\'tūsè\\' mbō mbʉ́ɑ́ pɑ̀h pʉ̄\\' hǔ nɑ́ pú\\'ŋwɑ̀\\'nì lè mɑ̄ŋū kɑ̀fhʉ̌ mbɑ̄ yà mɑ̀ ngɑ̌ làh njwēn nkə̀\\'nì ò ngɑ̌ mɑ̀nnēēsī du verbe mbát mɑ̀ lāhā mbê pɑ̀ njóŋ zhī nàh ntā\\' ntēē cāp pí tōōsì ngɑ̌ nkwé\\' pǒ\\'nshì nshʉ́ɑ́ là\\' pō á vàpsì ntə̀\\' mbú à ǎ mɑ̀ngé\\' zhínù zǒ nnák ŋɑ́\\'ŋɑ̄\\' nsìèsǐ làk yōh zě\\'è nkèn yīīmɑ̄njū\\' sáhnù ntìmbhì 56 yāā lè yāā lɑ́ yāā lì béè/bàá/bíì nsāh nù ǒ ndáh ntēh mɑ́ ndòò ú nsū\\'sī wèn nsū\\'wèn hom mfʉ̀ fhʉ̄ mbɑ̂\\' yèè lɑ̌\\'lēn mɑ̂ ǎ lʉ̀ʉ̀ ngɑ̌ ghʉ̌ tɑ̀\\' mōō yέέ hɑ̄ yáá khʉ̄ wǎ\\' lʉ̀ɑ̀\\' lɑ́ kòpsì sáhnù ntìmbhì tāā nzɑ̌ léé è yáá léé zī nkhʉ̀ lɑ́ mɑ̄nsɑ́\\' ngɑ̌ mɑ̀mbīɑ̄sī nkǎkndʉ̄ɑ̄ lóó wū ǹ dɑ̀\\' (lɑ́) yū\\' mbǔ\\'nkèn (bɑ̄) pèn yɑ̄ɑ̄ ndʉ̀ndáb nā yáá mɑ̀ndhí je sais jouer au tamtam nshʉ̄ɑ̀ hù cǎb ngòfāt yáá tʉ̄ɑ̄ á sīē ngɑ̌ táb sīē tɑ́\\' ǹ kɑ̀\\' lʉ̄ʉ̄ nsɑ̂\\'ncà\\' nǎk nɑ́ ngáknzhì nǎk nɑ́ mbáknzhì sa peau est tachetée ngà\\'kǎ\\'nsè\\' mɑ̄vǒ zhí nàh nsū\\' pēē nshʉ̀ɑ̀nzɑ́ pɑ́h ndù\\' lɑ́ mɑ̀ndámnsāk hǔ thʉ́ kə̄ə̄sī nɑ́h njɑ̀ɑ̀ nzhwīèndʉ̄ɑ̄ ǎ kúɑ́ wūɑ̀ fà\\' ndɑ̌\\' mʉ̀ tɑ́ ó njēē é ndǎ\\' pǎ\\' kò wā\\' wɑ̄ bɑ̄ ntə̄b ó sê lǎb làmnsāk yàk ā ngāā ndū à kɑ̀\\' zhī njɑ̌\\'nkwè\\'nì mbɑ̂\\' cwè\\'lɑ̀\\'hwīē bɑ́ túmóh nùfī yū\\' ī yū’mbí kɑ́ tɑ́ ó mɑ̀ngʉ́ ʉ̄ ngǎ’ncə̄ə̄ ǒ zɑ́ wúzɑ̄ ɑ́ nsû làt ngɑ̌ fɑ̌\\' yāā mɑ̀ ntèn zǎ shck ngǎ\\'kò pí shck ndə̀ə̄ngwéé mfɑ́\\' pɑ́\\' sʉ̄ʉ̄ lɑ́ ǒ sì mɑ̄nkə́\\' nàh mvā\\' zʉ̀\\' fà\\'á wèn nshʉ́ɑ́ mvèn ndhī mōō lè kà fōh ā ŋ̄… ŋ̄… ŋ̄h mɑ̄vǒ ngɑ̌ zɑ́ wúzɑ̄ sāā báá nkɑ́\\'sí tɑ̀\\' mbɑ̀ sēnɑ̄ lɑ̄ ncǒ ntómntōm ngɑ̌ pén ō tɑ̀\\' nshʉ̀ɑ̀ mǐ pə̀\\' yáá mɑ́ ghɑ̀\\' píé mbú à zə́h ndàb ndàb zə̄h ngɑ̌ nsī ndǒk à nkǒmncò pǔ\\'ncò zɑ̄ lɑ̂ nkǎb ndʉ̄ɑ̄ lɑ́ lāhā nsî ngáknshì nzábsí ndʉ́\\' cǎt nshǐ nɑ́ ndhī à pɑ̀nŋwâtlɑ́\\' kāā ncwē\\' cāh ngāp lɑ́ pù\\' ndàkndàk nsɑ̂\\'túsě\\' pén í nɑ́ mbè\\' mfɑ̀\\' mǐ ghèn ncɑ̄\\' yáá těn thʉ̄ bíì lì sīēndʉ̄ɑ̄ nɑ̄h mǎ mɑ̀njā\\' wūnèhē mbēn mbòò ngɑ̌ zɑ́ pìì zě\\'è mɑ̀ ǹ dɑ̀pìé mǒ\\' ngɑ̀ɑ̀ kwêngòò mbén nʉ̀ɑ̀ yáá tōh ndhʉ̀ yáá tōh fhʉ̀ɑ̀\\' yáá shʉ̀ɑ̀sì nsɑ̄\\' ngɑ̌ mɑ̀nŋwɑ́\\' tɑ̀\\' ŋwɑ̀\\'nì nzhìyū\\' nkɑ̀ndàk ǒ sì wɑ̄\\'nkòò nǒ mbú ì hù\\' kò pó tō\\' ncà\\' pɑ̀h zɑ̄ mfɑ́\\' shwì\\'ndɑ̀h hùhù\\' tàm pó mɑ̄ nsóh nā wèn à mɑ̄ nzī\\'sī vàp zī njɔ́ ngū\\' nkhʉ̌nkèn nǒ kònsāksī ǎ pén mɑ́ mfɑ̀\\' mǎ pè\\' pó nǔ\\'nshǔ nzɑ̂kə̌bnzhì ngə̌ngà\\' pʉ́ɑ́\\' wúzɑ̄ de kèè règle loi et ghə̀ə̀ njēē nù ǎ fàt pě\\'ngòò mbīɑ̄ nə́hŋwɑ̀\\'nǐvàm shʉ̀ɑ́nǔ tóm mbɑ̂\\'mfɑ̀\\' mǎ ncōh tɑ̀\\' nzhwīē í ngʉ́ sì\\'pɑ́\\' yʉ̄ɑ̄ lɑ́ nkə̄ə̄ nsə̀\\' ǒ ìndī\\' mèhsǐ béé sìèsì lè mɑ̀ ǒ zhí mbʉ́ɑ́ làh nsōk mvàk yì mfʉ̀\\'nā ò lǎh mbɑ̄ mfěnzɑ̄ lɑ́ ǎ ghú\\' pɑ́\\' ǎ zɑ́ fʉ̀\\' lɑ́ mēmmɑ̄ ò nǔkɑ́ ó mɑ̀ngé\\' ē ngɑ̌ yɑ́ɑ́ fà\\'á ncāb tî ǎ sɑ̌\\' nɑ́ ndə̌h kɑ́ mɑ́ hǎp ngòfāt ncɔ̀ nshʉ̀\\' mɑ̀ mʉ̄hə̀ə̄ ngɑ̌ yú’ nthʉ̄ á pūāsī kēē wěn ndʉ̄ɑ̄ je commence à guérir nshì lɑ́ mɑ̀ndóm à yǎt sì tɑ̄ nsó yì mʉ̀nzhwīē nnìɑ̀ɑ̀ncāt pó ndɑ́ɑ́ fʉ̀ mɑ̀ lāhā nzhwīē à ngwè\\' ngòò ā ngwè\\' nthīlə̀ə̀ tōō ntók ŋwā\\' nɑ́ báá pàh lɑ́ ǒ nját ntām mbǒ’nkhù sì’ mvàk wú ú njōknā ncə̄ə̄ njóó mfīnjòò ngà\\'nkǎmndʉ̄ɑ̄ ā bɑ́ wúzɑ̄ lɑ́ pōpsī mbát ncáh wɑ̄ lāh ā ngʉ́ ō yáá mɑ̀ lāhā nzhwīē à ngǎ’ngòm mfāmnshì pʉ̀ɑ̄pīīnsī nkɑ́\\' lěwūɑ̄ ghèn njwēn ndǔ\\' mbú á lɑ́ cīcō\\'ò ngɑ̌ mɑ̀nzhwíé mbī\\'tū mɑ́ nǔ mɑ̀mbé\\' ā [ngɑ̌ mɑ̀ncá\\'sí] thíghə̀ə̀ mēn ǎ mɑ́ tɑ̀\\' nsēèwèn nshʉ̄ɑ̄ mɑ̄ŋū cʉ̄cō\\'ò ghèn njwēn hǔ kó\\'ná mbú à lēn mɑ́ hìá\\' ń zàb ō mvɑ̄h sēn váánshù ngāā mɑ̀ nsùsū mission accompli pó mɑ̀mbīɑ̄ mɑ́ fʉ̀ sɑ́\\' ncō\\' ntēē tɑ́ pō tā\\' yáá yì màà mbɑ̄\\' ō ndāmɑ̀ lɑ̌\\' mɑ́ ngwààtàm ntʉ̀\\'ntāmngù\\' ǎ nhā\\' yə̄ə̄ sòh lɑ́ sī mʉ̀mfī bɑ̄ nsîmbèè ǒ ìmfhʉ̄ nɑ́ nàm sʉ̄’ʉ̄ ngáp pūā nkòò là nshwì\\'nzhì lə̀ə̀sì ā lɑ́ yáá sà\\' lā sà\\' ndéndēē é lěn pà\\'mfěnshʉ̀\\' mɑ̄vǒ ywén ndhī à nsātlɑ́ pēē yàā lɑ̄\\' bɑ̄ nzɑ̄ ncò ò sáhnù ntìmbhì 31 yáá ghɑ̀’ yáá yàhlēē ǎ lǎh lòh ntām ī pěn sì ghʉ́ cə̀\\' lɑ́ yɑ̄\\' tə̄b nkà\\' ndʉ̀ɑ̀mbʉ́ɑ́ hɑ̄ kābɑ́ cǎk mbú à ngɑ̌ zhí nsɑ̂\\'ngə̌\\' kèē khʉ̀ və̀hnì ī hɑ̄ njʉ̀njāk yáá mbú à nzhwīē á mɑ̀ zʉ̄ʉ̄ ngɑ̌ sʉ̀ʉ̄ mbè\\' wū yà wɑ̄ kɑ́ hɑ̄ ā yà wúpíéndɑ̌h mɑ́ zúvʉ̀fī nzɑ̄ ngǔ\\' è sǐ\\' nját mɑ́ yì wú bɑ̄ mɑ̄nǐnkò\\' ǎ fáhkò sên-mɑ̄ghɑ̀ɑ̀ ǒ ìndī\\' mèhsǐ béé sìèsì lè mɑ̀ ǒ zhí làh nsāhnǔ nɑ́ nǔ mfɑ̀\\' mɑ̄ ó mɑ̀nsū\\' pēē nshwīàmōh ncòh ǒ sì cāb ndhī à ǒ sì nó\\' ncwàl ā pǎtzēn ŋɑ̄\\' yɛ̄ɛ̄ lì nhɑ̄ mbú à pō á mɑ̀ndēē lìànkhʉ̀ sǐmōō àhâ mʉ̄ɑ̄ndʉ̌\\' ngɑ̌ nú njàh ndù\\' mɑ̂nsì ndū mēndū ǎ ghʉ̀ kīkēē ǎ tè\\'sì ā m̀ mbēn ǒ sǒh ndhī zō ó ndʉ́\\' tēnɑ̄ nhɑ̄ līē\\' sɑ̌\\' pə̀pē\\'/mbə̀pə̄\\' sɑ̀\\' mbə̄ə̄ njə̀hnjə̀h wèn yɑ̄ɑ̄ yāā mbə̀pə̄\\' táà yɑ̀ɑ̀ yōh pɑ́h ó fhʉ̌mɑ̄ngén tóm kāāsī mɑ̀ yáá pè\\' ā tɑ̀\\' cīcō\\'ò mbɑ́ ó lʉ̄\\' mōh ɔ́ ngòò ā mʉ̄hə̀ə̄ nkěntēē lū\\' ntʉ̄ʉ̀ nʉ̀ɑ̀ lɑ́\\' è sɑ̀ɑ̀ nhɑ̄ yǎ lè mbâ\\' hām nā ò ǒ mɑ̀ngén tōm mɑ̀ hɑ̄ fà\\'á ā ngɑ̌ mɑ̀njwēn tə́ə́nkɑ̀\\' ǎ nkwé\\' mbɑ̀ɑ̀ ò bɑ̌ mbɑ̀wɑ̄lɑ̄ ò hɑ̄ nkù\\'nǐ mbú à pàtngə́ə́ ǎ lʉ́ɑ́\\'sí ncwē\\' mbɑ̄’ nkwèènkhʉ̄ɑ̄’ zhwīē ó zī mōō kɑ́ mbè\\' wèn bɑ́ mbā\\' lɑ́ ngwɑ́ nsɑ̄\\' sɑ̌\\' pə̀pə̄\\' mêngòònà ngɑ̌ mɑ́ mfèn ngʉ̄nə̀ə̀/ngwàà ngʉ̄nə̀ə̀ mmɑ́\\' ndɑ̀\\' ntúkhù ntû\\' ndù\\' yáá fʉ̄ɑ̄sī zām ndɑ̀ɑ̀ lɑ́ nɑ́ nkǒ\\' yāā mɑ́ hǎm lí\\' sī mɑ̄ ncə̄bsī lɑ̄\\' yēē mɑ̄vǒ ndābɑ̌ sɑ̀\\' fén tɑ̄h pō ī mɑ̀ cà\\'sì mvāt sǐ\\' mfōh nshì bɑ̄ ɛ̌ncɑ̀\\' nnǒktū mǎ fà\\' mfá\\' nné\\' pò\\' ndʉ́\\' sǎt tū ī mbát njàm kēē nù yáá mɑ̀ndámnsāk pɑ́\\' mbūànkhʉ̄ɑ̄ lɑ́ nkùɑ̀nʉ̀ɑ̀ ntìē\\'ghə̀ə̀ kwá\\' ngʉ̀\\' mbīī nò ngòò lɑ́ pě\\' ndòm mbɑ̄h màà sī fà\\'á bɑ̂ ngɑ̀ɑ̀mò\\' mǒ\\' ngɑ̀ɑ̀ ngɑ̀ɑ̀ zě\\'è ngɑ̀ɑ̀ lī\\'ì nàm nshʉ̌’ tōh mbhʉ̄ sʉ̄’ pèn sɑ́\\' sê ngǎ\\' nā à làh njīī mbǔ\\'nkěn-yīīsǐ mɑ́ píéndɑ̀h mɑ̄vǒ sǐngwê ǒ pə̌’ ngòò tɑ̀’ ndɑ̀\\'ndɑ̀\\' lɑ́ mɑ̄vǒ ngə̀\\'sìtə̄\\'kə̄ə̄ ǹ jǎt kònzhī\\'sī mbūànì ngɑ̌ cɑ̀\\'sì ō lɑ́ mɑ̄ nshù á nʉ́ɑ́ ǎ nóósí nshʉ́ɑ́ ngɑ̌ mɑ̀nkwé\\' làh nsí nɑ̄h mǒ mɑ́ ntìé\\'è ǒ sì lɑ́h nàh nkōm tū ō pɑ̀h mɑ́\\' tú yāā wò lɑ́ mfʉ́ʉ́ nù tɑ̀\\' ngɑ̌ nkwé\\' pʉ̄nkhʉ̄ɑ̄ tɑ̀ kēēmbʉ̄ɑ̄ \"2 nkùɑ̀nʉ̀ɑ̀\" mbè\\'mbè\\' cà\\'sǐ nkwè\\'nǐ mbí pèn lɑ́ zhínǔkà\\' pó ndī\\' sǒh ndhī nzī\\'sī làklàk ex cʉ̄cō\\'ò lə̄ə̄ mā pǒ\\' sīē ngɑ̌ mɑ́ zɑ̄hshʉ̀\\' ká\\' cǎk lʉ́ʉ́ mā sīè wèn mbî\\'nù pó sɑ̌\\' kwèèsì mó\\'mvàk m̀ fhʉ̌nzhī… m̀ fhʉ̌ tɑ̀ nzhī… pá\\' nzhī… ntɑ̄h ndʉ̄ɑ̄ nthʉ̄ ā kɑ̀\\' kōmsī mfhʉ̄ líé\\'mō\\' ǎ ghèn tɑ́ có yēē làh wǎ\\' tɑ̀ndɑ̌\\' bê ǎ ghʉ̀ pə̀pē\\' nsìèsǐ mɑ̀nsíésí ā sáhwū yáá mɑ̀mbé\\' lɑ̀\\'sì ī ŋ̄h ngɑ̌ mɑ́ nshwìèwèn yáá (ì)nshʉ́ɑ́ mɑ̀ nɑ́ mvàk yì… fà\\'á tɑ́ ó njīī sí mīàngwè\\' āfrīkà mɑ̄ndɑ̄ɑ̄ sə̀\\' tàp prends le tiers mēmmɑ̄ ò yì mʉ̀nzhwīē mbɑ̂hwūɑ̄ nā í nzát tɑ̀\\' nshwê pīē hɑ̄ mēn sōh mbú à ntòòlòm ncwènghòò/ndhìghòò mfɑ̀\\'kà\\' pèn ghʉ́ mɑ́ hǎt fɑ́h ó mɑ̀ lāhā fǎ\\' yāā zʉ̌\\' ntēē kèē lʉ̀ʉ̀ kə̄ə̄ kòlə̀\\' lɑ́ nzèn fī\\' ō sáhnù ntìmbhì pʉ́ɑ́ ngɑ̌ cɑ̀’sì ō lɑ́ ǒ kwě\\' nàh nzhʉ́\\'ngʉ̀\\' yə̄ə̄ ǒ ngʉ̀ nēh ǒ ngʉ̀ mɑ́ nēh ghòò kɑ̀\\' pé\\' ngà\\'mfɑ̌\\'nkàb nsɑ̂\\'mfhʉ́lɑ́\\' cō\\' sʉ̀ɑ̄ mbǒ\\'nkhù sī yàh fúá nù bɑ́ bɑ̄ wèn lɑ́ mɑ́ yàā lěn-wèn pó nnák pí nkhù yàā ntīē ndū\\' tɑ́ ó (ngʉ́) nkwé\\' ē ntə́hsīē ǒ ndɑ́h nù yə̄ə̄ yáá mɑ̀njā\\' tɑ̀\\' ǒ mɑ́ yà lǒhsām nkhʉ́ɑ́ mfìmfì ntɔ́ nzāt ǎ fòpsǐ ndɑ̀\\' yōh túmâ\\' mbǎk mɑ́ nàm nshì lɑ́ nìì sì\\' nìì tɑ̀ nnēn ngà\\'njàm nìnì lɑ́ ndùàndùà ǎ tóh làksì pə̌\\'nshù mɑ̄ŋú líé\\'zī zǎ béè sʉ̄\\'ʉ̄ ŋōm pō ō pɑ̀nzîpōō pèn lā\\' pèn kōmsī/kə̄bsī nthʉ̄ á nɑ̄\\' nkōmsī/mbūāsī ntìé\\'è mbɑ̄\\' ō ndāmɑ̌ ntīī nshʉ̀ʉ̀ mbɑ̀ yàā lɑ̄ sɑ̌\\' pɑ́h ó ghén ntēn càm wɑ̄ bɑ̄ ngòō pɑ̀ncwē\\' lɑ́ ɑ̄ pōō mbǎ yòk tāā bɑ́ ngɑ̌ mɑ̀nkwá\\'sí ō pó ngɑ́ɑ́ zúncò tɑ́\\' sī mbʉ́ɑ́ làh ndʉ̄ɑ̄\\' ncò bɑ̄ pʉ̌nzhwíé nkwé\\' làh ndə̄ə̄ndʉ̄ɑ̄ nshʉ́ɑ́ pōōmbā\\' fífíá tèn mā\\'má\\' nù mbɑ̀wɑ̄lɑ̄ sī sīē yáá cò\\'ò kwɑ̀ yáá kō kāp nhɑ̄ ntū\\' sīèwèn bɑ́ mɑ̀njwáásí táknshì ták náhnshì fhʉ̄ lɑ́ mɑ̀wǎ ndʉ̀\\'nù mɑ̀ nzhwīē à mʉ̀nzhwíé ghʉ̀ nàh nzī mbɑ̀ pōō ghām ntōō sáhpè\\'è zʉ̀\\' béé ghòh ǹ jǎt kòmbīɑ̄ bō lāh zě\\'è ǎ zɑ́ làmnsāk mbéhmbēh nǔ yáá tɑ́ á ghʉ̌ ghòōlàmnsāk còkǒnkám mɑ̀ hɑ̄ ngɑ̌ kwà’ mɑ́ ó lɑ̀lěn mbú á mɑ́ ó mɑ́ nshwìè mōō pó zhī ī yáá mɑ̀nnák zī mɑ̄vǒ nkə̀wɑ̄ ǎ fàbɑ̀ tɑ̀ nsɑ́\\' cwàákhù bɑ́ ndū ó mɑ̀mfʉ́ɑ́ ō mâ\\' zhwìé mɑ́ ghè\\' móó zɑ̄ wúzɑ̄ ɑ́ ngà\\' mfhʉ̌mfhʉ̀ shīyā\\' lɑ̀lén mɑ́ mbɑ̀ mvàk yì nkě\\' kònkhʉ̄ lɑ́ à sī ìncōp nǎk fə̀ zī bɑ̄ nsɑ̂\\'ngwě\\' yɑ́ɑ́ shʉ̀ɑ̀\\' mɑ́ pó sì īmbát ndáh mbɑ̀ɑ̄nshì ncō lɑ̄\\' nù lɑ́ kà tēn fê ngòò sǐ mɑ̄nnāk ndū pɑ̄ nthívɑ̄h ngə̀ə̄nshwīē ntèè wèn pó nkōō tú wèn ntìè\\' yì wúɑ́ tōm nɑ́ wèn lɑ́ sǒmndʉ̄ɑ̄ yòksǐ nkhʉ̀ lɑ́ ngɑ̌ kwà\\' mɑ́ ngɑ̌ ghʉ̌ zʉ̌\\'ntə̄\\' mēmmɑ̄ ò yì mbâ\\' ǎ kònjá\\'sí nzʉ̄ de ghə̀ə̀ mvʉ́ɑ́ kə̌\\' nàh ndábsí zū pō í nā\\'sī ngà\\'kǎ\\'nə̀ə̀ nsî ngòò lɑ́ pɑ̄h tɑ̀\\' pú\\'ndhī ngɑ̌ yá\\' khʉ̀ɑ̄ndʉ́ɑ́ njǎm ò tɑ̀\\' ǒ sì láh ā ntāh pʉ̀ɑ̄ nù ngɑ̌ kwà\\' mɑ́ ngǎ\\' cà\\'sǐ téhzú kò nshíá wèn mɑ̄vǒ zhí làh nthʉ̄\\' pēē nkàh ǒ sì yát lā ǹ sī mɑ̀mbōh bɑ̄ yà kèēvɑ̌h mɑ́ làh ngʉ́ wú nɑ́ tú nkwèè pʉ̀ ndìì ndhī báá pǒm nɑ́ ò ntǎ\\'nìì ǎ mɑ̀nsɑ̄\\' kām zī sultanat mbè\\'mbè\\' mbūànzɑ̄ ngámnú ghʉ̌ lèn sə̀ə̀mbʉ́ɑ́ nshʉ̀ɑ̀mbhǐ à lɑ̀tóh vàm zǒ yòmsǐzhínù mɑ̄ŋū ngù\\'fī mōō lɑ́ pè\\' tɑ̀\\' nkômōō ghèn nsóh ndū\\' ngé\\' sʉ̄ʉ̄ ǎ cǎt cɑ́\\' nɑ́ à ngɑ̌ ìmbéhmbhì mbēn ō mbī\\'tū mɑ́ ngɑ̌ zhí mɑ́ ó ìnkōsī ā ǒ nsʉ́ vàm zō ngén mɑ̀ hɑ̄ vʉ̀vʉ́ lōh yàā ntìè\\' béè ǒ sì nɑ̄\\' ntʉ́ɑ́\\' pí mʉ̀ mvîpʉ́ɑ́\\'vʉ̄\\' yàt bɑ́ sǎt nā ò hǔkū\\' lʉ̀ɑ̀\\' lɑ́ còh mēnsòm mə̄b nə̄h mǒ pó shʉ̀ɑ̀\\' ā ghɑ̀\\'ndù\\' wèn kwāt ták nù fʉ̂lə̀ə̀ ndhînkò\\' sák sěh mbɑ̀ɑ̀ mǐ ǎ mɑ́ mʉ̀nzhwīē sə̀ə̄ sēnsʉ̄\\' sī mbú à bɑ̄ mōōnjììnsǐ mbɑ̄ mbɑ̀ nshʉ̀\\' pō lāh ndīē wūɑ̄ il a fait un accident ngɑ̌ shʉ̀ɑ̀ ō ngɑ̌ sí\\' mɑ̄lèēntēē pí mbɑ̄\\' ō mbɑ̀ mɑ̄vǒ pʉ̀ɑ̄pō mbéhmbhì nsíé ngwá\\' mìē ndʉ̄ɑ̄ nú ndóm wèn à yīī ngwě\\'ngwè\\' nkhʉ́ɑ́ mɑ̄vǒ mɑ̀nkām nzhʉ̀\\' ǎ nsī tɑ̌ tə̌\\' kò ǒ sì wāh lī ngɑ̌ ghʉ̌ tɑ̀\\' ndʉ̄ɑ̀wúzɑ̄ zɑ̄ tɑ̄ njēē ngɑ̌ mɑ́ nshwìè mōō pèn sī pə̀pē\\' (lɑ́ mbɑ̀) ngɑ̌ mɑ́ tɑ̀\\' ncâkngà\\' ntām ntə̀\\' pó yá\\' měh nàh ntēh hèé nɑ́ làksì fɑ̌h nzí mōō ncwààntīē ngɑ̌ síé tə́nì pó nnēē njōh mōh ntìē\\'sēē pó ghə̀ə̄ mbú ì à khʉ̄ɑ̄ndʉ̄ɑ̄ nsɑ́\\' mfhʉ̌mfhʉ̌nù kɑ̀\\' pé\\' ngɑ̌ lén mɑ́ ŋ̄h ndʉ̄ɑ̄ nshʉ̀ɑ̀yɑ́\\' nzhînù ǒ sì cɔ̄ yáá thʉ̄ pǎtzēn mɑ̀ lìà ǎ tóh mɑ́ ghǎt yáá làmsì/làbsì hɑ̄ ā shʉ́ɑ́ndāk tɑ̀\\' tə̄ə̄ ngà\\'kǎ\\' lə́ə́ nsǐmbā\\' mǎ ntìè\\' ē shʉ̄ mbɑ̂\\' yèè sī ndéndēē bɑ́ bɑ̄ ò sǐ’ nkwé’ làh ngʉ́ zʉ̌’nā bɑ̄ í mēmmɑ̄ ò yì mʉ̀nzhwīē bɑ́ nzhī ndēn mɑ́ ó ìndə̄ə̄ mā pó ghɑ̀ɑ̀ à sə̄ə̄ nǔnsēn sī nā bɑ̄ ngɑ̌ zhí\\'sí wū tɑ̀\\' nùfí lǒnɑ́wūɑ̄ phʉ́mfɑ̀\\' póónkɛ̄ bɑ́ ntāb tú mvī mbɑ̄\\' (à) yɑ̀ɑ̀ mbɑ̂\\' yɑ̀ɑ̀ móó fīī ntúmbō mǐ ndòmndʉ̄ɑ̄ bɑ́ nhwí pè\\'è mbɑ́\\' sɑ̄\\' l\\'abstinence est une vertu pě\\' mɑ̀nkhʉ̄ cēh pɑ̀mbéhmōh ecole secondaire pèē tə́ə́ zɑ̄h ká\\' làh nsóh nā zhìē nshìè lè nhɑ̄ mbú á ń ntām cɔ̀ tɑ́ wěn njēē làh ncáh yɑ̀\\' wèn kà pə́\\' wú wèn shù kɑ̀\\' pé\\' nàh ntʉ̄ɑ̄ zə́h nā ǒ sì yɑ̄ɑ̄ nshù ó ntám ncà\\' yǒh pɑ́h ì pó yá\\' mɑ̄nkwá\\' pè\\'è ngɑ̌ mɑ̀ntēnthʉ̄ kīkēē lī\\' sɑ̀\\' mbāl ā kúɑ́ngāp pɑ̀h tā\\'sī ngén ncò dhʉ̄ zì bàá ngà\\'mbām mbɑ̀ túná á nkwé’ zénshì tɑ́’ sī céhwū bɑ̄ pʉ̀mbè ngɑ̌ mɑ́ mēn mɑ̄vǒ nùghʉ̄wèn pí mbɑ̄’ ō còkǒnkām cǎm ngòfāt ngɔ̀ndhī zhì\\' ntʉ̄ɑ̄ ngʉ̄ɑ̀ ngɑ̌ ngén mɑ̀ mbèě pɑ̀h ǒ ngén yǒ mɑ̀ hɑ̄ shʉ̀ɑ̀\\' zɑ̄ɑ̄ mɑ̄vǒ ywén ncāt mǎ yōh pɑ́h í pǒm ntēē nsàk pè\\'è pó yá\\' ghù ā ex mēn thʉ̄ ò bɑ̌/mɑ̌ nsɑ́\\' mbɑ̀ sēnɑ̄ lɑ̄ cǔ\\' njò\\' kwě\\'nàm ngʉ́ pí njɑ̀\\' ngʉ́ pí nsō\\' ntīē càm ndʉ̂\\'nshì wúzɑ́ yá\\' phī ngòò lɑ́ lù\\' ngòò lɑ́ tʉ́ɑ́ kǎmnsʉ̄’ mɑ̄vǒ pó nsóh nā nkwèè līē’ é ǎ còh nkáh pōō mbǐ yáá nshʉ́ɑ́ mɑ̀ lāhā nə́hŋwɑ̀\\'nǐvàp líé\\'cōmsì mbɑ̄’ ō pó nzʉ̄’ nʉ̀ɑ̀ mɑ̀ lāhā ngɑ̌ hìē pō á mbí yʉ̄ɑ̄ zě\\'è ngɑ̌ mɑ́ ngà\\'vʉ̌ nɑ́ zhínǔsāhndó\\' ngɑ̌ pén ó táàlə̀ə̀ ngòò nà nsíá ngòp mbə̄lòknshì pó lǎh shínzhì nkwāt fāk zǎ ɑ́ ngǎbɑ́ sì cō nā pó nnēē ndə̄ə̄ nsá\\' nkùɑ̀ pí kíé\\'pō làh ntō\\' pɑ̌h ngə̌ghə̀ə̀ pū\\'nkɔ̀ bà ndīīsī ghòò ò sǐ’ nkwé’ làh njīī mbǔ’nkěn-yīīsī bɑ̄ í ǒ zhí njɑ̌\\'nkwè\\'nì kǎm nzhì ǹ dɑ̀ sì shwī pí mbɑ̄\\' ō mbɑ̀ mɑ̄vǒ kɑ́ bɑ́ ɑ̄ ǎ ghǎh wú sēn ì ǎ táb pó tók à cômsǐlíé\\'zī zǎ kɑ̌\\' wāhā mbɑ̀ tɑ̀\\' tə́\\' nkɑ̄ɑ̄ sī mbú à bɑ̄ nshǐmōh lɑ́ yǎt mbɑ̄h yáá pɑ̀ɑ̀sì ngwǎ\\' nàm kwɑ̀ fɑ́hnzɑ̄ béè (~ 400 fz) mbɑ̄’ pǒ’síé ghèn yǐ mɑ̀ hɑ̄ ǒ sì īmbát ngʉ́ yāā sə̀ə̄līē\\' mvī tāā kə̄ə̄ pɑ́\\' mbɑ́\\' nùsìpě\\' nɑ́ nùsìpè\\' ǎ kòmmóó ntám njām nkɑ̀\\' sī mbú í bɑ̄ nŋwáá pǎtzén nzìnkhù pèn yū\\'sī nà yèè tɑ̄ ngə́ə́ fíá wū nzɑ̂ndʉ́ɑ́ céh kòm ncǒ zɑ́ndʉ̄ɑ̄ ǎ nkwé\\' nzhwīē ì tɑ̀ kēēmbʉ̄ɑ̄ ò kɑ̄\\' nzhī\\'sī wū mvàk yì yáá ncāk lɑ́ mɑ̀ ò kɑ̀\\' cō làksì ǎ lám nī ì nshʉ́ɑ́ wɑ̄ bɑ́ ɑ̄ nnìɑ̀ɑ̀ nom d\\'action du verbe nníɑ́ɑ́ ngɑ̌ nɑ́\\' ncāhsī nɑ́ béé ntɑ́hnzɑ̄ lè pɑ̀h ghén nzhwíáh mbā\\' lɑ́ ntǎ\\'lòm/ ntǎ\\'lə̀b ndʉ̄ɑ̀lòm/ndʉ̄ɑ̀lə̀b mbǔ\\'lòm/mbǔ\\'lə̀b mɑ̄vǒ cák lò kīkēē lēētīā yèh lěn vhúmōh ǒ sì ghʉ́ɑ́\\'sí nzhwīē wèn yáá pī\\' tɑ̀\\' pɑ̀ɑ̄ sák pʉ̄ɑ̄\\' póó nkwèlè\\' hǎ\\'mbǎk víát ntāk nkhʉ̄\\' pɑ́h lēnɑ̄ mbēn mǐ ngʉ́ njā\\' wèn fɑ̌\\' mbè\\' mfɑ̀\\' ò zhwīāh lī ngǎ’ nā à nkhù mǎ mɑ̀njā’ ngɑ̌ mɑ̀ngóó vàm zǐ mɑ̀ndə̄b ī nhɑ̄ ngʉ̀\\' yēē pí wɑ̄ báá ā fī\\'sī yīīsī ndʉ̄\\' lɑ́ culturellement lorsqu\\'on veut verser de l\\'eau chaude au sol on avertit d\\'abord mɑ̄nǐnkò\\' en ces termes ndáhntā\\' ndέhntā\\' nshù mbù\\' lě ghòhsì autre variante erronée ndù\\' mɑ̀ pó yòk tu m\\'as beaucoup freiné dans la vie ò kɑ̀\\' níɑ́ɑ́ kwéndʉ̄ɑ̄ ō wú túfhù bɑ́ nǔ túfhù bɑ́ yáá mɑ́ túfhù pō lɑ̀lǎh zhínù nzī ī à lɑ̀lǎh zhínù ntōm vàm pè\\'è béé mbɑ̀ lə̄ə̄ pʉ́ɑ́ fùfùá nǎm mvēnɑ̀ ghɑ̀ɑ̀ nzhǐnzhì mbìì nā kǎ khù njók wěn mfɑ̀\\' ntēh wěn mfɑ̀\\' pə̄ə̄ tū ō lɑ́ mɑ̄nǐngwè\\' pə̄ə̄ tū ō lɑ́ mɑ̄nǐngwè\\' nshǐ lòmshú\\' nzhì nsɑ́\\' ō ō ō pèn khʉ́ɑ́ pèn khʉ́ɑ́ mvā\\'mvá\\' wèn ghá\\'ghá\\'wèn mfhʉ̌mfhʉ̌ wèn nzâknù 29 ghə̀ə̀ ndìàndìà yáá mbhì fà\\'á tɔ̀ɔ́ wèn njàm nkòò kwéndʉ́ɑ́mōō hɑ̄ mɑ̀\\' lè yǒh ghǎ\\'zú sīèndʉ̄ɑ̄ zʉ̌\\'sǒhndhī njǎm wùɑ̀ pɑ̀ngáp yá\\' tō\\' làh mfhʉ̄sī tu auras affaire à moi ǎ shʉ̀ɑ̀ pí wɑ̄ mbɑ̄\\' cwǎlák zhī làh ntō làk těnkhù ghɑ̀\\' ngà\\'mfɑ̀\\' nnə̄h wú pʉ̀ɑ̀ sāk ò nshù fāk zǐ hè\\'sì yāā sī yǎt lèn bɑ̄ yò cwě\\' hwíé è sī yì mbʉ́ɑ́bɑ̄ bɑ́ bɑ̄ yāā lɑ̄\\' mbhì yāā lɑ̌\\'bɑ̄ mbhì kʉ̀kàm nzhì yà wúmǒ mɑ́ làh njū\\' yɔ̌nshì ntēnɑ̄ mfɑ̀\\' yáá lēē zǐ ǎ léé yī hāh ndôm mvī ntə̀\\'zɑ̄h těnkhù á mɑ̀nsɔ́sí yáá ncāk mɑ́ ń nhwīēsī nā à ngɑ̌ ìmbát zɑ̄ shīē\\' fāk lɑ́ yáá yá\\' tèn ywátwèn ghèn ntɔ́ mvī ǎ kwát lā tɑ́ ǹ ngʉ̂ ndū ngòònà ngǎ\\'ngòm nshǐnkwè\\'nì mǒ mɑ̀ntām ā kúɑ́tèn ǎ kwě\\' fʉ̀ʉ̀ní nù yə̄ə̄ ǎ tɔ̌ khù ī ò lɑ̀\\' kwé\\' ā (bɑ̄) ò lɑ̀\\' lɑ́ kwè\\' ā (bɑ̄) yéhsǒ lǒnɑ́wūɑ̄ wèn yēēsī/yīīsī nɑ́ yàā ntìè\\' fìàbɑ̀ nshǐ ngū\\' pó ntèn kwɑ̀’ túnā ó yǒ mɑ̀ lāhā ndáh sínù ndáh sînǔ wèn nīāt ndhī lɑ́ tɑ̄ njēh ncà\\' sī wū bɑ̄ kɑ́ ntīē nù bɑ̄ pǎt mbɑ̄ lè táàndʉ̄ɑ̄ yáá shwìā ngà\\' lǒhndhʉ̀ tə́ə́thʉ̄ lɑ́ pìè mfɑ̌\\'pù\\' nǎb wáhá ndhī ó fòp pí nkù\\'nì khù nzākmbōmfènmbʉ́ɑ́ còh ncāb pú\\'ŋwɑ̀\\'nì ō mmɑ́\\' kwà\\' mbɑ̄\\' ó mɑ́ ngà\\'mbōk fà\\'á lɑ́ à kɑ̀\\' ghʉ́ ndʉ̄\\' bɑ̄ yámngà’ ndhī béé pʉ́ɑ́ lě mɑ̀ncʉ́cák ā nkwèè yāā wǎ’ pə̀’ ǹ kɑ̀’ zhī yì ngɑ̌ ìnjwēn lɑ́ mōō mbâ\\' pàh lə̌b ǎ ywén mvī ndē\\' hə̀ə̄ nzhī ndēn mɑ́ mvī kwɑ̀ ǹ kɑ̀\\' ghʉ́ sə̌wèn mbʉ̄ɑ̄ɑ̀ mvī ndɑ̀\\'ncà\\' nǔ yáá ghʉ̀sì ā tɑ̀\\' sə̀ə̄yāā ghʉ̌ yáá nɑ́ nkǎ\\' shʉ̀ɑ̀\\' ǎ pʉ́\\' hǔ nɑ́ njâ\\'wūtōh zǎ ǒ sì īmbát ntīsī ā ncə̄ə̄ wū ngɑ̌ mɑ̀nnā’ wúzɑ̄ ncō\\' nkə́\\'ní gwāvà béé cōhshwīī yōh pɑ́h í ghɑ̀ɑ̀sǐ ntēē ngɑ̌ kwè\\'/kə̀\\' ō tɑ̀\\' ghèn nzhʉ̄ɑ̄\\' pù\\' hìē\\' nkhǔ ndʉ̄\\' ntēh lōbà ndə̌kām kɑ́ tɑ́ ó mɑ̀ngʉ́ ʉ̄ mɑ́ mbɑ̌ sāà tè\\' ī wū yēē sà\\'sí wūɑ̄ sáhnù ntìmbhì ncɔ̀ tāā ǒ pí wɑ̄ yēē pí wɑ̄ bɑ́ ɑ̄ wāh sī ō ndɑ́h ā nkòmnkòm/nkə̀mnkə̀b nnū ngùh sōh lɑ́ kɑ̀\\' tʉ̄ɑ̄ mbɑ̀ nēhē ntē\\' ndē\\' ǎ njwáásí pɑ́\\' ngòh lɑ́ ně\\' yáá sīē mēmmɑ̄ ě yá\\' lə̄ə̄ndʉ̄ɑ̄ ɑ́ ngɑ̌ ngén ghʉ̌ sʉ̀ɑ̄mfʉ̀\\'nā ǒ mɑ̀nká\\'sí pō ó mbú à mɑ̀ ò sɑ̌\\' ncɑ́\\'sí ā mɑ̀ kɑ́ bɑ́ ngʉ́ ʉ̄ sɑ̌\\' pə̀pé\\' lɑ́\\' fā\\' lɑ́\\' nkwè\\'nì ndōòwū pǎ\\' kwèlè\\'/kòlə̀\\' cwè’ ŋwɑ̀’nì mɑ́ kɑ́ nshʉ̀ɑ̀mbhǐ à còkòwɑ̄ làh nsóh nká’ mbɑ̄ mɑ̀ yáá ghɑ̀’ tɑ̀’ ɑ́ le fourreau pɑ̀nkhʉ̀ɑ̀lɑ́\\' mɑ̀nsɑ́\\' mɑ̀ nkhǔndʉ́ɑ́ ntám ncámngwě\\' ə̀rōpà pó á hàh nù tɑ̀\\' nù bɑ́ mbɑ̀ lǒ\\' yáá tú ò mìmìè ǎ mɑ̀ncát ntə́ə́ njɑ̀ɑ́ nɑ́ nʉ̀ɑ̀ wèn lɑ̀wàá mvī mfāt ngǔ\\'nkhʉ̀ yáá pə̄ə̄sī pō ā pó ndáh nà\\' nsī\\' těn mōō mfʉ̀\\'nā ǒ sì cə̄ə̄ wū sī ìngʉ́ ō bɑ̄ pí wɑ̄ ôhó lǎh yì pǎ’pà’ lɑ́ lɑ̄ yì sīsī kɑ́ tɑ́ mōō nzɑ̄ ɑ̄ nɑ̄h ndhī lɑ́ pʉ̀ɑ̀ mɑ̄vě = mɑ̄ ē pʉ̀ yì pō ncō làksì lɑ́ bî pɑ̀mbhìngʉ́ɑ́\\' nāk póh ntám lɑ̄\\' mvát mbìyā\\' ǒ cɑ̀ɑ̀ bī nǔkɑ́ mbɑ̄\\' á ghʉ̌ nkɑ̄ɑ̄ ɑ́ ngǎ’ yāā kɑ̀’ ghɑ́’ mbɑ̀ nēhē làh mfák ndʉ́’ njáh pɑ́’ pɑ̀ɑ̄ncə̀ə̀ lɑ́ ŋə̄b nə̄h mǒ sʉ́\\' ndə̀ə̀ ngɑ̌ nsī mɑ̀ cà\\' lə̄ə̄ ghə̀ə̀ béé nɑ́ ntìē\\'tōh mēndɑ̀\\' ngǎ\\'ngwé mɑ̀njóh zʉ̀\\' pō shwǐ\\' kwɑ̌ nɑ́ ntòhō mɑ̀ yáá nhɑ̄ ghǎm accident de bateau ghāksī ghù lɑ́ nnū mmí fɑ́h wúɑ́ tōm nɑ́ sēn à ǎ ngə́ə́nù cōhshwíí yāā ntʉ̄ʉ̄ mǎ fʉ̀ɑ̀ ā kūɑ̄ncàk ǎ zǎknjǎm à ǎ tʉ́ɑ́ á thʉ̄ ndó\\' nkō\\' nshwììpè\\'è nkáh cwàànzhì ghòōndì\\'ntó mfhʉ̄ mɑ̀ nɑ́ ncǎhncǎh nshì pɑ̌h zhʉ̀ɑ̄ nkwèè yɑ̀ɑ̀ fʉ̌\\'cɑ̄\\' pɑ̌h mɑ̀ngén yīī vàhvàh/zə̀\\'zə̀\\' zàmɑ̀ pí lǒhnzîsǒ mbɑ́ pó lɑ̀sāh mvǎk mfɑ̌’ yāā bɑ̄ pó ndáh nsāh mbɑ̀ kɑ́ ntīē nù lɑ́ pó ndáh nŋwɑ́’ ŋwɑ̀’nì ndáh ngʉ́ sáhwū ndáh njū’ yɔ̌nshì ndáh njēē nìnǐ póózū píá yì pʉ̀nòk ndáh ngén nɑ́ ngə̄ə̄ndùàlɑ̀ ndáh ngʉ́ cákngà’ ndáh ngʉ́… ngɑ̌ zhí mbʉ́ɑ́ lʉ̌\\' ndɑ̀ɑ̀ làh ngóó nkà\\'mbwěn nɑ́ nʉ̀ɑ̄ mbìyā\\' ngɑ̌ pén ó mɑ̄vǒ nzhiekǔ’ mɑ̀nkō ā tɑ̀’tɑ̀’ kə̄bsī nā ò nkōònthʉ̄ pīē\\'sī nkhʉ̌ pʉ̀ɑ̀ lɑ́ mbè\\'nthʉ̄ mʉ̀nzhwīē ŋó\\'nshʉ̀ ŋ̄h bɑ̂ ngɑ̌ ghʉ̌ yāā mēn ǎ yá\\' tāmngù\\' khʉ̀ɑ̄mbōō méritocratie ǒ mfɑ́\\' nàm sʉ̄\\'ʉ́ nɑ́ líé\\'nzɑ̄ ɑ̄ ngɑ̌ mɑ̀ngʉ́ nʉ̀ɑ̀ tɑ̀\\' khʉ́ɑ́\\' mbɑ̀ɑ̀ zʉ̌\\' kònhwīshwàà mbǎ\\'ntām à ǎ fát sìèsǐ vʉ̀vâk ndáh nkwāt njâ\\' nshʉ̀ɑ̀sòm zén sēn ǎ mɑ́ yámɑ̄nì ngɑ̌ kwà\\' fà\\'á fōhsī wúzɑ̄ lɑ́ tɑ̄ nzɑ̄ ndhī nkòp lɑ̌\\'ghɑ̀\\' tɑ̀\\' nù nēhē ngɑ̌ fɑ̀\\' tɑ̀ mbūā pó mbʉ́ɑ́ nát síé mbhǐ fə̀ nzhwīē à lɑ̀\\' zák njǎm à shʉ̀ɑ̀ncēn mbâ\\' tā\\'sī ā shwītōk hɑ̄ shwītōk zí\\' mbú à kǎmnsʉ̄’ mɑ̄vǒ mbǎk ìndō zé’è é ngà\\'nzhìè n b ne pas confondre avec nzhʉ̀nzhʉ̀ɑ̀ ǎ kǎb ncà\\' pō zāb ī mvʉ́ɑ́ kòntə́\\' və́h mbɑ̀ɑ̀ ghə̀ə̄ nkà\\' pʉ́ɑ́ ngɑ̌ shʉ̀ɑ̀ ngɑ̌ nshʉ́shʉ̀ɑ̀ zēn zǎ mɑ́ ngèēnzhwî sî\\'njǎm ǐ sàh nshʉ́ɑ́ ī tōh pó fīī pó nkòó nì tɑ̀ yāā nā\\'sī ndhī á kòndōhsī ná à à sǐ\\' nkɑ́hsí nù tɑ̄ ngʉ́ bɑ̄ mbɑ̀ mʉ̀ ngɑ̌ zhí mbʉ́ɑ́ lʉ̌\\' zhʉ̀ɑ̀\\' tɑ̀\\' lʉ́ʉ́ tə̄b zě\\'è yālɑ́nshù yátnshù pʉ̀sìpè\\' lɑ̀shwǐ yésǒ nɑ́ fà\\' ngāpkō\\'ngāp fè\\'é fě\\'è nɑ́hŋwɑ̀\\'nì ndāmɑ̀ nkò\\' nɑ́hŋwɑ̀\\'nì ǹ dɑ̀ zǐ póónì pʉ̄nzhwīē pʉ́ɑ́ nkə̌mɑ̄nì pí lə́ə́mɑ̄nì cák kà\\' tɑ̀ yò mbʉ̄ɑ̄ báá pó lǎh shínzhì ntāk ī wǎ\\'ŋwɑ̀\\'nì ntìmbhì pʉ́ɑ́ kɑ́ tɑ́ ó mfɑ́’ ɑ̄ ǎ hú tū ī pɑ́\\' nkɑ̀sà lɑ́ nzâknù 10 fák nkə̀\\'nì còkǒntʉ̀ɑ̀\\' píá nsēn mbǐ mɑ̀ntām mbǒ\\'nkhù ǎ có ndʉ̄ɑ̀nsʉ̀ɑ̀ sáhnù ntìmbhì 43 ǹ dɑ̌’ … ǹ sǐ’ nját… cʉ̄cō\\'ò lɑ̀hsì ā lɑ́ ngɑ̌ sɔ̌ nzǒknkhù mǎ mbhǐ ò ndáh màà nù shù bɑ́ mɑ̄vǒ ndābɑ̌ kúɑ́ ôhó tɑ̀ mó’ līē’ fùfùá tám nzhìndʉ̄ɑ̄ tɑ̀\\' mʉ̀nzhwīē bɑ́ nthínzhì làh nkwēn kǒ sàh ngɑ̌ fhʉ́mbɑ̄ kòmbīɑ̄ nā á nɑ́ nkwèè wū tɑ́\\' sī béé bɑ̄ du courage ngòpkwàà mbɑ̀ nèhē mbɑ̀ mēnsə̀ə̀ nzhììsì mbʉ̂\\'wèn ngɑ̌ kə̌\\' mbɑ̀ɑ̀ tɑ̀\\' pèn tōm de mbōò nɑ́ nàm sə̀ə̀mbʉ́ɑ́ mɑ̀ kàm ngɑ̌ ghòō ntèè nò sì cwēē ngàtlɑ̀ mǐ ntō mǎ kwátsí nsɑ̂\\'mfɑ̀\\' cêh mʉ̀nzhwīē mɑ́ kɑ́ ncō\\'nàk sə̀ə̄ kèè lɑ̀\\' bɑ̄ sì tómfhʉ̀\\' ǹ dɑ̀sə̀ə́ nkó\\' mênfə̀ mvʉ́\\' mbû\\'lōk ǹ dɑ̀tìé ŋwɑ̀\\'nǐ mbú ò ǒ lɑ̀ pɑ́\\' nǎb nə̀\\' ǒ mɑ̀ndáh nthʉ̄ ā mên lɑ̄\\' nshʉ̄ɑ̀nshwímɑ̄fʉ̀ ndhîdīē pò\\' shʉ̀\\' póángà\\' lěngwè\\' ngòò lɑ́ cǎb ndʉ̄ɑ̄ yáá yá\\' sī mvàk yì… pèn kāā ndʉ́ɑ́ndʉ̄ɑ̄ nsíé mɑ́ yéhsǒ mɑ̀nsɑ́\\' ǎ púánkhù mā fámyèh nɑ́ mbâ’ pí mʉ̀nzhwīē wɑ̄ bɑ́ nzhīnù nshʉ́ɑ́ mò’ ncō\\' mbómfɑ̀\\' kɑ̌\\'lə́ə́ndʉ̄ɑ̄ fǎb mbèè mōō/mēn pó yòk í mfɑ̀\\' radical verbal yáá mɑ̀nnák mɑ̄ghɑ̀ɑ̀ ǎ mɑ̀ hwīēsì ǎ lǎh hwīēsì ngák khʉ̀khʉ̄ɑ̄ ǎ dǐ\\' mbōk mbə̄ə̄ mēn à kwēngòò ghə̀ə̄ fíínsāt kǎ\\'nɑ̄h kēē nǔ sīē lə́\\' mɑ̀nkō ā fá\\'nzhì fǎ\\'nzhì pèn pōōsī nɑ́ ì pí nkə̀\\'nì ndàhngèn pèn yɑ̄ɑ̄ ndʉ̀ndám nā mbɑ̀kɑ́lɑ̄ nsè\\' mǐ mɑ́ wú ghʉ̀ɑ̀\\'sì pǎ\\' wèn mbè’mbè’ fɑ́hnzɑ́ mbú ó lɑ́ nsì (ndūmēn) à ǎ lǎh lòh ntāb ī ǎ tóm fɑ̌h ŋwɑ̀\\'nǐndhʉ̌lɑ̄\\' pīē zǐ mɑ́ zʉ̄\\' sə̀ə̄ cāhsì sǐ\\' mbɑ̄ sīē bɑ̄ mɑ̀ ngɑ̌ nsɑ́\\' wāhà lɑ̀ɑ̄ mbóó nɑ́ pɑ̀h sī mʉ̀ bɑ̄ nzhʉ̀ɑ̀ bɑ̄ mòōntʉ̀ɑ̀\\' bɑ̌ yʉ̄ɑ̄ bɑ̌ ndéndēē bɑ́ ghèn nsóh nā ò ntìé\\'è je me remets déjà peu à peu de ma maladie stochocratie nzɑ̂mbʉ̂\\' kǒmngèè ndə̀\\' kòlə̀\\' cʉ̄cō\\'ò lə̀hsì ā nhèè mā pō lɑ̀yǒk/lɑ̀téh á mfɑ̀\\' yáá yá\\' ghʉ̌ ŋúnzɑ̄ vʉ̀\\'ʉ̄ nāt mbā\\' lɑ́ njáhlēh despotisme pōō mbǒ ncə́ə́/nshwītū/nténtū tɑ̀\\' yáá mɑ̀ngát lā tɑ̀\\' tɑ́\\' mbɑ́ ń dɑ̀ láh ó zʉ̌\\'mfɑ̌\\' mbú à mbī\\'tū mɑ́ zʉ̀\\' sī yǎt sīē bɑ̄ à lɑ̀yú\\' fà\\'á ndí ngén ngóó mī nkwàà tōm hǔ mɑ̄ŋū pó pēn sə̀ə̄līē\\' pìē\\' ndǔ\\' ntám ntū\\' lè nkwèè cà’sǐ yǎ mēmmɑ̄ ò mbʉ́ɑ́ ngòò lɑ́ pè\\' túmfɑ̀\\' pīē zǐ hà\\'sì ā cʉ̄cō\\'ò fə̀ nà pīɑ̄ bɑ̄ ǒ ìndɑ̄\\' mʉ̀ ʉ́ yāā kɑ̀\\' ghɑ́\\' mbɑ̀ nèhē ǎ mɑ̀mmwēn ǎ mɑ̀ncá\\'sí = nǔ mɑ̀mbé\\' ī ndʉ̀ɑ̀nápūā ndʉ̀ɑ̀náfī\\' ŋwàhsǐfí\\' nkhù ntīì nshʉ̀ɑ̀\\' sīē ghǎm zʉ̌\\' cáhsí ndʉ̄ɑ̄ hìā vhʉ̀ mbɑ̄\\' yɑ̀ɑ̀ nkòò nǎ mɑ̀njā\\' mbɑ̄\\' ó mɑ̀ntʉ̄\\' nzʉ́ yɑ̀ɑ̀ mɑ̄nzhì mbèè nà béè nthʉ́ á vīāt zhínǔsīēngwè\\' zhínǔsīēngə̀\\' mvāt mō nzâknù 17 yá\\'nthʉ̄ kǎmkhù mʉ̄ɑ̄mōh nkhʉ̌ mví pīē\\' pó kǎ\\' tū ī pɑ̀h béè ǒ kwě\\' zʉ̌\\'nā á ǎ fɑ̀\\' kwɑ̀\\' mbə̀pə̄\\' ngǎ\\'thʉ̄ ngɑ̌ mɑ̀ncāk mfɑ̀\\' lìā nìnì ǒ ná zʉ̌\\' mɑ̀ndóm ō ó ntə̄b mfɑ̀\\' yāā sī shwītōk bɑ̄ yǎà mɔ̄ɔ̀\\' yàâ mɑ̄nʉ̄\\' yǎà nə̀ə̀sìmɑ̀\\' yǎà ntē yǎà mbə̄lòknshì yǎà mɑ̄nʉ̄\\' yǎà wūsìpə̀\\' ò zhɔ́ɔ nkôfìè\\' yáá kù\\' mɑ̄shwī\\' á ghʉ̌ mbè\\'nthʉ̄ ngɑ̌ ghʉ̌ yāā sì zhī ǒ sì fhʉ́ɑ́\\'sí ī ǎ sók ā wúɑ́ mɑ̄ ā ndó nā ngé\\' ghèn nsóh nā ò lɑ́ lī ndēē ngà\\'njó ngʉ́ nkhʉ́ɑ́ nkhʉ̄ɑ̀njō ǒ sì shísí ā fà\\'á ǹ sī mɑ́ mēn ò bɑ̄ pɑ̀ɑ̄ghù ǒ sì sɑ̄h nzɑ̄ thʉ̄\\' yāā yǎ\\' ō ò pāk nkōòtú mɑ̀nkōō tū ā ntìē\\' sə̀ə̀ ngé\\' wū nsìèsǐ sìèsì ā sáhwū pə̀pē\\' pɑ̀njwátlɑ̄ bɑ́ fāt kǎbsāk mɑ̄vʉ̌ kònnə̄\\' mōō nzhìnzhǐ nkwé\\' nzāt tɑ̀\\' nú sì hààà ntāb tú wèn ǎ lə́ə́ mbɑ̀ nzāt mǎ pɑ̀h zēnshì ŋwɑ̀\\'nǐfáhghə̀ə̀ ǎ fěn ntú ndà\\' kwɑ̀ tā\\'sī yáá ndòm zìmó\\' ǒ sì cwáántīē mbhìwū mbè’mbè’ fɑ́hnzɑ́ mbú ó lɑ́ nsìèsì pó nnēē nzɑ̄ nsā\\' pí nkùɑ̀ kɑ́ tɑ́ ó mɑ̀nkwé\\' ē nshìè yèè ǒ sì hīā lā fà\\'á bɑ̄ yáá khʉ̄ wǎ\\'lā\\' póá āmērīkà à lɑ̀ghěn tóm hɑ̄ ndéndēē é nɑ̀ sìīndʉ̄\\' yáá fàb fàm fòb féntèn ngɑ̌ mɑ́ ngà\\'vhʉ̌ nɑ́ zhínǔthítēnɑ̄ mfɑ̌\\'kà\\' nkhʉ̌nkèn nǒ kònsāk ndú á zǎknjǎm à nshʉ̀ɑ̀pʉ̀sīē ngɑ̌ mɑ̀nsēnsī ō mbàk bɑ̄ ncātsī yōh tɑ́ pɑ̀h cōh ncwēē mōō pēn ngɑ̌ ntèn ngɑ̌ pén ō yāā lɑ̌\\' sì\\' mbɑ̄ fà\\'á nɑ́ yòh tɑ́hnzɑ̄ ǎ fhʉ́njómɑ́ tɑ̌ nɑ́ nàm kwɑ̀ pə̄ə̄ mbɑ̀ wúzɑ̄ lɑ́ mɑ̀ntóó nkò\\' nə̄h pó yū\\'sī tɑ̄ ngʉ́ yāā yàā ntīē yɔ̌nshì tɑ́ ó nkwé\\' ē ǹ sī ìmbát lɑ̄\\' ngʉ́ bɑ̄ ǹ sī ìmbát lɑ̄\\' mfʉ́ɑ́\\' bɑ̄ ngà\\'nzhìngə̀\\' kēē mbʉ́ɑ́ mbú à tʉ́ɑ́zə́h mɑ́ tɑ̀\\' mbìà sìpə̀\\' autre appellation mbhʉ̄ mīā nèè kɑ̌\\' pɑ́\\' ghə̀ə̀ mɑ̀ ngɑ̌ ghʉ̌ pōō mʉ̄ntî lə̄ə̄ nhɑ̄ yǎ ngà\\'kǎ\\'nsə̀\\' sâknzʉ̌ hɑ̄ yì mbɑ̀ɑ̀ sè\\' zǎ ǎ zɑ́ tɑ̀ mfīī mbō yáá tú á mbɑ̄ ndùàndùà ngòpnā ŋ̄h ngɑ̌ ghʉ̌ nkhʉ̌nkèn ǎ sà\\' lā nkhù ntíì ngɑ̌ pén ō yōh pɑ́h ó còhsì mmóó mbūànzɑ́ è mbə̀pə̄\\'/pə̀pē\\' cǎ\\'ndhī tā\\'sī ā lɑ́ cīcō\\'ò mfɑ̀\\' mǒ yāā sī mɑ̀njóh ā mbɑ̀ nèhē bɑ̄ sʉ́ʉ́ nzát tɑ̀\\' ǎ njóh nshì kīkēē fìē\\'nzhì ngɑ̌ njéh pí nzī mǎ [ma᷅] nzɑ̄ ò yǎt mbèè ngʉ́ kɑ́ ngɑ̌ nkə́’ yǎ kwɑ̀’ kə̀’ tɑ́’ ǹ kɑ̀’ ghʉ́ ntìè’ làh ngʉ́ sʉ̀ɑ̀ ngǎ\\'ghə̀ə̀ ŋwá\\'mbā\\' kā\\' shìēngà\\' nkòò lǎ mɑ̀ncōhsī tǎ\\' sēn à nzhīnzhí mfɑ̀\\' mǎ mɑ̀ncāhsī ā móó yə̀bɑ̀ nzâknù 12 cɑ̀\\'sǐ cà\\'sì nə̀ə̀lák lāk ǒ sì sī sáá còhsì mfɑ́\\' pè\\'è bíí wōk mfɑ̄h vōbɑ̄ lěn mbǒhshʉ̄ɑ̄ ǎ kǎh ghǎ\\'ŋwɑ̀\\'nì zǐ en plus ngɑ̌ mɑ̀nzhī\\'sī wū sēn à yì mbâ\\' bɑ́ tʉ̀ɑ̀\\'tʉ̀ɑ̀\\' mbʉ̄h nzhì ndǎk-kò peut aussi être utilisé pour désigner pó pɑ̄psī ngòò lɑ́ sɑ̀\\' wāhà ǎ yàt lā pí nī ǹ sī ìmbát lɑ̄\\'ngʉ́ fà\\'á sə̀ə̄līē\\' bɑ̄ ndʉ́\\' ndɑ̀ɑ̀ sáhnù ntìmbhì 37 ngɑ̌ mɑ̀ngóó cāt tōō lɑ́ mbàk wɑ̄ cāt tōō lɑ́ mbàk wɑ̄ ngén njòkǒ fə̀ yòh ncō\\' cìcǒ\\' làmnsāk nhɑ̄ yǎ yì pǎ\\'pà\\' ndáh yǒh yì sīsī… kǒ\\' ndǒm nkò\\' mɑ̄ ndám yātlɑ̄ pí kɑ́ nùndéndēē nùndíndēē ǎ lǎh ncɔ̀pùh mvēn mēn ì ngɑ̌ cɑ̀\\'sì ō lɑ́ mbɑ̄\\' pàt ǎ vɑ́h nthí nā pɑ̌h cə́ə́ yǒh yáá lɑ̀ cōp sə̌wū mvîndòò mbɑ̀ mbâ’ mbɑ̀ mʉ̀nzhwíé nzhīnù ghèn nŋɑ̄\\' pʉ̀ɑ̀ bíí nshùmbù\\' ngòònzhʉ̀ɑ́\\' mɑ̀nsō mvēnɑ̌ nshùndʉ̄ɑ̄ mbàk lɑ̀ sì lō (bɑ̄) pǎ\\' mʉ̀nzhwīē pɑ̄mfɑ̀\\' lǎh ghə̀ə̀ ngén mbhì ngɑ̌ mɑ̀ ngwɑ̄\\'sī njàmntēē nshǐnkwè\\'nì mǒ mɑ̀ntām ā ghǒ\\' sōh nhé\\' ndáh nsɑ́\\' ncôptú nsɑ̂\\'ngwè\\' nnú\\' njɑ̀ɑ̀ pí pǎ\\' mvāt nsɔ́ntō fə́h wúɑ́ tōm nɑ́ sēn à mó\\' fà\\'á mɑ̀ ǒ sǐ kwēn kāhā cákntèn pǒm mbòò ǒ sì īmbát nkám ā mbɑ̄\\' ō ndābɑ̀ lɑ̌\\'nū ndə̀pɑ̀\\' cwè\\' ndéndēē bɑ́ ghə̀ə̀mbɑ̄h ngà\\'ghʉ̀ɑ̀\\' ngà\\'ghʉ̀ɑ̀\\'sì ntʉ̄ɑ̀nthʉ̄ mbàk kɑ̀ sì lō wāhà mbìì nō mɑ̄vǒ ò lɑ̀\\' shíá nzât mā nsú nsō\\' kɑ̀cák wèn móó dīē ngóó démocratie hɑ̄ yà wúzɑ̄ lè ǹ sī ìmfhʉ̄ sīècɑ̌\\' lè mbômbō bɑ̄ ngɑ̌ kwà\\' mɑ́… ǎ sɑ̀\\' ɑ́ mōm nə̄h mǒ nshwìèngòò pɑ̀mbhìngʉ́ɑ́\\' pǐhngʉ́ɑ́\\' ntám nkwèè lɑ̄\\' wǎ\\' kɑ́ tɑ́ ó mɑ̀nkwé\\' làh ngʉ́ mbūànzɑ́ è ǎ mɑ̀ hwīēsǐ táàvʉ̀ yā\\' khʉ̀ɑ̀ tɑ̄ nzʉ̄\\' ndhìngòò màrīà ǒ ìndī\\' mèhsǐ béé sìèsì lè mɑ̀ ǒ zhí làh ndɑ́\\'sí mɑ́ nǔ mɑ̀ngát lō tɑ̀ ò mɑ̄ncāk làh mbūā nkhù ngòò lɑ́ kònshíá lā tōk ō ngɑ̌ yú\\'sìpə̌\\' mbú ò anarchie sáhnù ntìmbhì 48 ngɑ̌ fhʉ́mbɑ̄ mɑ̀nníɑ́ɑ́ nā à làh… ǎ sɑ̀\\' pí ntíéntíé ntə́ə́thʉ̄ ɑ́ wɑ̄ mvēnɑ̀ fí ghʉ̌ lèn yâ\\'hwīē à kɑ̀\\' pʉ̄h ā mbɑ̀ pʉ̄h tɑ́ ǹ gā\\' ò mɑ̌nkə́’ mɑ̀ ngɑ̌ ndɑ́’sí ō mbʉ̄ɑ̄ yì pó ntō làk lɑ́ ngɑ̌ yú’ tú á nā mbɑ̀ mbʉ́ɑ́ làh ndʉ́’ndɑ̀ɑ̀ nhɑ̄ pō nnìɑ̀ɑ̀tòòtōm mbìyá\\' còh ntʉ́ɑ́\\' ngǔ\\'è kɑ́ tɑ́ ǒ sáá nthī fà\\'á ā mbɑ̄ɑ̄ hǔ làt nkù\\'nǐ lìànkhʉ̀ ngɑ̌ kə̌’ mbɑ̄’ ō tɑ̀ kēēmbʉ̄ɑ̄ sī yʉ̄ɑ̄ bɑ̄ mɑ̀ ǹ sǐ’ mbɑ̄ wū bɑ̄ nzhìèkú\\' mɑ̀nkō ī mbī\\'tū mɑ́ á kɑ̀\\' zɑ̄ sə̀ə̄wū ngɑ̌ ìndɑ́\\' béé nù lè mɑ̀ lāhā nɑ̀ ǎ ghòòmɑ̀ fʉ̀ nzhwīèmēn ǎ ncāp mēn à pə̀pē\\' mbɑ̌ nɑ́ yàā zʉ̀\\' lɑ̄ ǒ sì cáh wěn mbhì mbɑ̄ njàm nnó\\' nɑ̄h pʉ̀ pʉ́ɑ́ lɑ̀tóh mbhǐ à wúzɑ́ mbūànzɑ́ yá\\' pīh wúzɑ́ mbūànzɑ́ yá\\' kǔ\\' zɑ̄ ǒ tàà tɑ̀ ndáh nsɑ́\\' ɑ́ ngɑ̌ mɑ̀ntām mbǒ\\'nkhū n\\'accepte pas ntʉ̄ʉ̄ mǎ mɑ̀ntʉ́ɑ́\\' ǎ yá\\' shʉ̀ɑ̀ zə́hŋwɑ̀\\'nì ngòò ā kōō sə̀ə̄wū mvâ\\'nkà\\' ndēn wèn mɑ̀ pɑ̌h fát mbɑ̀ɑ̀ pó sàtsì ī mvāt lɑ́ nēn tʉ̄ɑ̄ yáá tìì ɑ́ yāā dū pó fīī pó tók ì wū yì ǒ mɑ̀nté\\'sí ā lɑ́ béè ǹ dɑ̀ghʉ̌ yāā tɑ̀ líé\\'mō\\' nàb kɑ̀tʉ́ɑ́ wāhà tɑ̀ kēē mbʉ̄ɑ̄ sí\\' wū ghʉ̄ ō lěncɑ̄\\' tə̄b yòh tə́bngə̀\\' yòh nzhwīē á kònkhú nkwén lòh wū shìè wū sɑ̄h khʉ̀ɑ́\\' ncāt ǒ sì īmbát ndōk ā nzɑ́ lēē è sēn à ngɑ̌ nàhngʉ́ tə́hnzɑ̄ wû pó nsóh póózū pí kɑ́ kɑ̀cák nkwè\\'nì ngòò lɑ́ sǐ nzʉ̄\\' nʉ̀ɑ̀ nzhī bɑ̄ ywát tām ncɑ̀ɑ̀ sʉ̄\\' tú á mɑ̀nkə́b ā ghòó háb ī yə̄ə̄ pó pʉ̀ tíì ǎ ndáh mfɑ̀\\' nzhī pʉ̀ nshwìè mɑ̄ wɑ̄ ndābɑ̀ lɑ̌\\' zhī làh ngāmsī wèn ghə̀ə̀ndə̀ə̀ zàtkwě\\' ghə̀ə̄lɑ̄\\' sɑ̀\\' nkāb mbìyā\\' wūkwà\\'mbīɑ̄ cɑ̄ɑ̄ bì ngɑ̌ yú\\' yāā mɑ̀ ntám mbǔ\\'nkèn zén ndū á mɑ́ sīēbɑ́ncə̄ə̄ kɑ́ tɑ́ ó mɑ̀nkwé\\' làh nzɑ̄ ɑ̄ ndé\\' ngén kǒ nɑ́ nàm tāā ndē\\' mǒhshʉ́ɑ́ wɑ̄ wèn bɑ̄ ncāk á sê kɑ́ ó kònjɔ́ ɔ̄ kɑ́ ó kònjwáá ā kɑ́ ó kòmbū\\'sī mòōntʉ̀ɑ̀\\' bɑ́ mǒ\\'njàmnzɑ̄ ngɑ̌ ndɑ́\\' mɑ́ ŋwātlɑ̌\\' mɑ̌\\' ndɑ̀ɑ́ pó ì njò\\' póópōō mbǎ nzhīnù tɑ̀ mbʉ́ɑ́ lɑ̀ bɑ̄ ǒ sì mɑ̄mfʉ́ɑ́\\'sí wèn sì\\'pɑ́\\' ngòhò lɑ́ ndʉ̄ɑ̀mfɑ̀\\' ǎ lén nshǐ kàk ā mfhʉ̌ sāk mênmēn ò (yì mbá\\') nsī mɑ̀ hɑ̄ mēn ò yòk pʉ́ɑ́ (yì mbá\\') nsī mɑ̀ hɑ̄ ǒ nkɑ̄ɑ̄sī yə̄ə̄ fùfùá mɑ̀nnám nthʉ̄ píá mvēnɑ̀ mōō fī nɑ̄\\' nsɑ́\\' làt/tòk/nkɑ̀ndī mbàk kɑ̀\\' lō fhʉ̄ ngɑ̀ɑ̀ pʉ́ɑ́ hɛ̄ɛ̄lʉ̄ɑ̄’ cīcō’ò sɑ̀’ nkōsī ā làh njáb làt lɑ́ ngɑ̌ lɑ̀ɑ̀sì ō mbə̀’mbə̀’ mbūànzɑ̄ lɑ́ ngà’ŋwɑ̀’nì ǎ mɑ̀ hwīēsǐ mɑ̄vʉ̀ la récolte est abondante mais les ouvriers très peu ǒ sì yɔ́h ngū\\' sì zɑ̄ ncò mbɑ̀ mɑ̀ lāhā lɑ̄ ǒ zhí nǔ nɑ́ làh mfák ndʉ̄\\' ʉ́ ǎ ngʉ́ vhʉ̀ mbā\\' lɑ́ ndə̄\\'sī mbɑ̀kɑ́lɑ̄ pí tōōsì sáhnù ntìmbhì 24 wɑ̄ bɑ̄ nzàb ō ngé\\' nə̀ə̀nɑ̀\\' ngà\\'nzhǐ nɑ́ nǔ nákpè\\' ǒ sì kō\\' fī\\' mbàh hə̀ə̄ ngɑ̌ mvɑ̄h nēhē/ngɑ̌ mɑ̀mvɑ̄h nēhē nhóó wūfī sō á sɑ̀h nkōònthʉ̄ ndū á nsīī nkɑ̄ɑ̄ tɑ̀\\' ǎ ghèn nŋɑ̄\\' njō ntʉ̄ɑ̄ tú à lǒk pīē sɔ̌ nzòk mǒ síé ò těn nshʉ̄ɑ̄ zàbɑ̀ mɑ̄ntē\\' kə̄ə̄ sìé\\' nzhì ngɑ̌ mfɑ́\\' pě\\'nthʉ̄ kə̄b tū ō ngɑ̌ yá\\' sǒh nā à fà\\'á bɑ́ mmɑ́\\' kə̀b ǒ fɑ̌’ mfɑ̌’ ŋwɑ̀’nǐ ǒ sì īmbát mmwēn sên ŋwɑ̀\\'nì à bɑ́ ngɑ̀ɑ̀thʉ̄ wɑ̄ bɑ̄ nzhʉ̀ɑ̄ wúzɑ̄ ā pí ngʉ̀\\' pɑ́ ngà\\'sə̄ zāp mbàkngòfāt khʉ̀ɑ́nshìè ndʉ̄ɑ̀ghòò zʉ̌\\'ŋwɑ̀\\'nǐ póósīē mbō mǎ có nǔ mìē nshǔ à ǹ sǐ\\' njàt mɑ́ mʉ̀ bɑ̄ fʉ̌ tō\\' lɑ́ sāā lɑ́ còō tɑ̀\\' mêngòò ntʉ̀\\' tēn wɑ̄ béé è ǹ dɑ̀\\' péé mɑ̄vǒ (bɑ̄) ǹ dɑ̀\\' lɑ́ pèé mɑ̄vǒ (bɑ̄) ń dǎh sʉ̄\\'ʉ̄ nshú\\' fhʉ́nə̀ə̀ cō tè\\' fāh ghə̀ə̀ lè nhɑ̄ ā lɑ́ cīcō\\'ò njá\\'ndāk nzhwīē ì lɑ̀\\' zák njǎm ì ò sì míé ntām ī pó shòm ī wǎ\\'ntēē fēn ghə̀ə̄ngámndʉ̄ɑ̄\\' ntīē mvēnɑ̀ ngɑ̌ mɑ̀njū’ yɔ̌nshì nàm sī mɑ̀ntʉ̄ɑ̄ bɑ̄ sóknǔ sɑ̄\\'sūā pí sɑ̂\\' nə̀ə̀nzhwìè ń sɑ̀\\' mbɑ̀ nhéé nshù ǒ yá\\' sɑ̌\\' séé wɑ̌ kɑ́ hɑ̄ yà tùàntēē ē fə̀ sǐnkāp ndʉ̄ɑ̀nùpʉ́ɑ́ zhínǔsáhwū ǹ sī mɑ̀ngʉ́ sə̀ə̄wū bɑ̄ ngɑ̌ mɑ̀ndīē ntê\\'ndē\\' shck émǒ nzhī làh nthī ghə̌lɑ̄\\' pèn lā\\' yùàsì mɑ̀ngʉ̀\\' verbe nkámɑ́ nkábɑ́ cǎt pʉ̀ɑ̀ lɑ́ thʉ̄ yǎ\\' mbɑ̀ɑ̀ lɑ́ ngà\\'ndà\\' bɑ́ ncɔ̀ nshʉ̀\\' mɑ̀ mʉ̄vʉ̀\\'ʉ̄ kǒmnzhì kə̌bnzhì mvʉ̀\\' kwēn ò sī mɑ́ mbōò mà bɑ̄ mbɑ̀ nkǎmsʉ́’ sì’ mbâ’ ngǎ’ nā à ǹ jǎt tɑ̄ mɑ̄mfhʉ̄ tōm ngɑ̌ púá zǎ nshìēghǎ\\'zū/túfàt zə́hŋwɑ̀\\'nǐ vàp ngɑ̌ yíí lěn fōh nzɑ́ mvàk lāhā ngɑ̌ yá\\' mbʉ̄ɑ̄ yāā bɑ̌ fà’á ò fēn pè’ lǒ mbú à ndáh ndə̄ə̄ndʉ̄ɑ̄ nùyǎtnjàm nùyǎtnjàb ghɑ́\\' mbɑ̀ɑ̄nshì cʉ̄cō\\'ò lɑ̀hsì ā nhèè mā nshʉ̀ɑ̀ncò nzɑ̂ncò nzhwīē á mɑ́ nshʉ̀ʉ̀ mà ò sǐ\\' nzhī bɑ̄ ò pɑ́\\' ntə̄ə̄sī mvʉ̄ɑ̄ kɑ̀\\' ghʉ́ ndē\\' pɑ̀ŋwâtlɑ̌\\' híá lī ntēh ghə̌ nshǔ ì wèn lɑ̀\\' cō\\' ntə̀\\' mī ntō mǐ tə̄b ngɑ̌ yú\\' pə̀pē\\'/mbə̀pə̄\\' mvǎk ghɑ̀ɑ̄pìí nkɑ̀ndàk nèhē-nèhē ǹ sī mɑ̀ zʉ̄ʉ̄ bɑ̄ khù ó fə́h wǎ\\' pɑ̌h (mɑ̀)ngén tɑ̌ ŋwēē mvʉ́ɑ́ kòntə́\\' və́hmbɑ̀ɑ̀ lěn yâ\\'hwīē mēmmɑ̄ elle a accouché d\\'un garçon nthʉ̄ á kòmbénsí ngɑ̌ mìè mbēn le chauffeur a évité un accident faire une pause un intermède un interlude un entracte ndʉ̄ɑ̄ sì cɑ̀\\'sì lɑ̀píé tɑ̀ mbā\\' bɑ́ tɑ̀ mʉ̀nzhwīē lō\\' póómɑ̄ é mɑ̀ lāhā fə̄h ā fə̄h zǎ mɑ̄vǒ ndāmɑ̌ ghʉ̌ shwītōk vɑ̀h pàhcɔ̀ ná í kònsāksī nā ā sī mɑ̀mbé\\' bɑ̄ yámnzhʉ̀ɑ̀\\' ǒ sì cō ntám nù yōh parmi les variantes dialectales de cette langue on peut citer est aussi un nkèn njûyū\\' pō sǐ\\' nkōpó fʉ̀ bɑ̄ sìē vʉ̀vâk ndáh nkwāt njâ\\' nshʉ̀ɑ̀sòm fɑ́h í ncāk nù tɑ̀\\' nɑ̄h fóh nɑ́ khǔ kwā\\' yʉ̄ɑ̄ ndǒk ì mōō lɑ́ ncāp ŋwɑ̀\\'nì ì pí tōòsì yáá mɑ̀ndámnsāk sɑ̌\\' mbə̀pə̄\\' mbè\\'è mɑ̄ɑ̄ bɑ́ mbàh kwɑ̀ pɑ̀ngèn hwīēsǐ pʉ̀ sʉ̄\\'ʉ̄ pó pɑ̄psī mêngòò lɑ́ kǒmngwě\\'ngwè\\' nshwí\\' nù ntə́ə́thʉ̄ ǒ zɑ́ wúzɑ̄ ɑ́ tɑ̀ ǒ zɑ́ wū ù ngǎ\\' ǹ njǎt sì tɑ̄ ngʉ́ ŋwɑ̀\\'nǐ làh mfákndʉ̄\\' mbhì bɑ́ wò móó mɑ̀nnə̄\\' pēn mbàh ntòhō ghə̀ə̄ nglīsì nzhìndêlēē pó nnēē mfāt ngòfāt pí shʉ̄ɑ̄ ngɑ̌ pén nshʉ̀ɑ̀pʉ̀ cwè’ mbèè mɑ́ kɑ́ kǎbndhī njɑ̀ɑ̀ lě dhì nkām pʉ̀ kɑ̌ sɑ̀\\' lɑ́ yə̄ə̄ mbɑ̀ wò sìyɑ̄\\' ndə̀h nshwīè nī nù bǎ páh fɑ̀\\' zě\\'è ndīē wāhà nzɑ̄ lē\\' zě\\'è ndīē wāhà nzhʉ́ɑ́ ǒ ìndī\\' měh béé sìèsì lè mɑ̀ ǒ còh nzhī nzén ntīēntíé mfɑ̀\\' mɑ̀ ghə̀ə̄ fè\\'éfě\\'è pǒ’sīē kɑ́ tɑ́ ó mɑ̀ngʉ́ ʉ̄ ghèn nné\\' mōō lɑ́ kwēn ǎ fhʉ́nshʉ́ɑ́ ntìē\\'mò\\' mbīē\\' tū ndē\\' tɑ̀\\' ǒ nkāā mɑ̀ngén mɑ̀ hɑ̄ fà\\'á ā ntôkmbōk fǎm ngòò síé fʉ̀ ǒ ngén mɑ̀ hɑ̄ fà’á ā nthí ntà\\'ntà\\' mɑ̀ ǒ kwén hɑ̄ lɑ̄ nthʉ̄ á kòmmwēn ngɑ̌ tě\\' nzènzèn yáá mɑ̀nnák zǐ nsìènsì póónjā\\' ngām ǎ ghʉ̌ mbè\\' nthʉ̄ mbə́\\'ntìè\\' mbàk lō tɑ̀\\' ntèè thʉ̄ nsìnsìì mǒ ndám tɑ̀\\' nzɑ́ lēē mbí pèn yèè nzɑ́ lēē è mbə̀\\'mbə̀\\'/mbè\\'mbè\\' cà\\'sǐ ngə̀\\' ngɑ̌ mɑ́ ngà\\'mfɑ̌\\'ntǎ\\'ŋwɑ̀\\'nì ɑ́ hɑ̄ ǎ fʉ̀ɑ̀sì ā shwīēsī nā ò fák ncò fhʉ̀ɑ̄\\'zàt sǒm nā mā sī mɑ̀mbə́\\' bɑ̄ ngɑ̌ mɑ̀mmwēn ngǎ’ mɑ̄vǒ ǹ kɑ̀’ fɑ́’ mfɑ̌’ ŋwɑ̀’nì bɑ̄ cwàákhǔ zí ǹ sǐ\\' ngə́ə́ sə̀pànyɔ̂l/sə̀pánîsh mbə̀pə̄\\' bɑ̄ mon ami m\\'a très bien accueilli ǹ kɑ́ lǎh kɑ́ kā\\' càk zǎ bê ngòòmɑ̄ ngǔ\\' è mbé\\'ntìè\\'/mbə́\\'ntìè\\' mó\\' mó\\'ntìè\\' je me suis trop abstenu nshǐ yɑ́\\' lʉ̀ɑ̀ nkwâtū nzɑ̂kǒmnzhì sī mʉ̀ bɑ̄ ndàh bɑ̄ yáá tām sīē nzíá fʉ̄ʉ̄ tʉ̄ɑ̄ wúzɑ́ á ndòm nkò\\' ǒ yá\\' yīī kɑ́ ǒ yá\\' tɑ̄ njīī kɑ́ ngɑ̌ ghʉ̌ ngǔ\\'nzɑ̄ sə̀ə̀mbʉ́ɑ́ ǒ lǎh kɑ́ nsɑ́\\' ɑ̄ nìāh pō ō ngɑ̌ mɑ̀ncāk làh ndɑ́hsí ō kīkēē lɑ̄ ò nāk mɑ̀ nkhù ndʉ́\\' yá\\' ghèlɑ̀ kwě\\' sīē mɑ̀ nkwèè nthʉ̄ ō ngɑ̌ ìmbátnjàm ntìē\\'mò\\' pó nkú\\'ní mbā\\' lɑ́ tɑ̀\\' zīī mbɑ̄\\' ē pí mɑ̄ é nsī mɑ̀ hɑ̄ mbɑ̄\\' é nsī mɑ̀ hɑ̄ à pǎt ndōō nō wúzɑ̄ ō ǒ sì hɑ̄ ī tɑ́’ ǒ sì īmbát ncɑ́ɑ́ bí mbɑ̀ ngɑ̌ lén mbú í mɑ́ pɑ̀h pōō nshʉ́ɑ́ à dhī sǐ\\' ndʉ̄ɑ̄ nkáhtěn nɑ́ nù kǎmzū ntīēntíé ngʉ́ngǎ\\' mbɑ̄ wū ǹ dɑ̀hɑ́ pǒ\\' mbú ò yà wúpíéndɑ̌h mɑ́ mbǒ’nkhù ngɑ̌ nkə́’ mbǒ’nkhù tɑ̀ shʉ̄ɑ̀ wúntéé ncáb pō wɑ̄\\'sī sī mɑ́ wà\\' ō bɑ̄ ndú\\' mbìètʉ̄ɑ̄ ghòō tə̌\\'ndʉ̄ɑ̄ pɑ̀h yǎt tɑ̄ mɑ̄ njū\\' mɑ́ ngǔ\\'nǔ kúɑ́ pidgin nǐbǎk dú ne t\\'adonne pas à la boisson en dehors du roi d\\'autres personnes ayant droit au mbàh sont nnə̄h túfhǔ tú wèn tʉ̀ɑ̀\\'tʉ̀ɑ̀\\' mbɑ̌ sīē mfát mbɑ̀ɑ̄ kɑ̀\\' ngāā zǎ zʉ̀\\' ā bɑ́ nɑ́ nzɑ́ ngǔ\\'è lè mbɑ̀wɑ̄lɑ́ ghʉ̀ mbʉ́ɑ́ ghʉ̌ yāā mbō ntî sɑ̌\\' séé ń zàb ō mvə́h těh ndʉ̄ɑ̀ntǔ mbàk kɑ̀\\' lō bɑ̄ nkɑ́\\' pìh sên mòò nzhì kǒ sàh ngà\\'njǎm ǐ mɑ́ ngà\\'ncàhsì/mmɑ̀\\'kwà\\' fùfùá mɑ̀nnáb mbóthʉ̄ mbû\\'nshì nnìɑ̀nshì mbû\\'lōk cf njɔ̀nshì chanteur singer pààngòp wūnēhē táàpà\\' pʉ̀ɑ̄ndhī ǎ còh nníɑ́ɑ́ bō fhʉ̀mbèè lɑ̄ ò sī nēhē fùā mōh pó nzhī mbā\\' ndéndēē mɑ́ ntìē\\' sēē mbʉ̄\\' hù táà wā tíklìklìklìklìk m̀ fhʉ̌ mɑ̄ngén nə̌\\' síé dīē ɑ́ sǐ\\' pǎt yòmɑ̀ bɑ̄ mɑ̀ yáá pə̀\\' ā ngɑ̌ síá ntāmsīē ghèn mbīī nkhʉ̌nkèn yɑ̄ɑ̄ yāā khʉ́\\'khʉ̄\\' sēn ǎ mɑ́ mōōmbâ’ dīē pə̀pē\\'/mbə̀pə̄\\' ǒ mɑ̀mbát nkwé\\' wúzɑ̄ lɑ́ pɑ̄psī ntām ndhī mfèngə̀\\' ghù fùfùá mɑ̀nnám mbóthʉ̄ pō lɑ̀zí mɑ̄vǒ wóktǎ nshǐ cə̄ə̀cà\\' ɑ́ lɑ́\\' nèè ɑ́ sīē ghʉ́ yò nù hú\\' ngǔ\\'nkhʉ̀ ǒ sì lɑ́h njàm pó còh ncwēh mōō lɑ́ pə̀pē\\' ndó\\' nzhī mɑ́ ntáà pǎ ndɑ́h autoritarisme cāb tî mbā\\' lɑ́ tēh nzhwīē í ndʉ̄ɑ̄ ngɑ̌ zɑ́ncò nshì mō pɑ̌h shwītōk ngɑ̌ (mɑ̀)ngén mɑ̀ wú sēn à pʉ̀ɑ̄lām hom nŋāā ǹ sī mɑ̀mbōh sə̀ə̄wū bɑ̄ pʉ́ɑ́ ncām ntáá mɑ̀ hɑ̄ ntòhō ngòòāmfî\\'kè\\' khʉ̄ɑ̄\\'mōh nshwīàmōh ncòh yáá mbú ò mɑ̄ á cō kò nhé\\' pò\\' mó\\' pʉ̀ lɑ̀sɑ̌\\' sīècɑ̌\\' ɑ́ pēn pù\\' yī mbʉ́ɑ́bɑ́ pɑ̄h tɑ̀\\' kō\\'ngāp ndhī í və̄h nɑ́ ì hɔ̌ bɑ̂ kɑ̀cɔ̀ kɑ̀cɔ̀ nɑ̀ tǐ\\' yéé yà wɑ̄ lɑ̄ ē ē yēē nhɔ̀\\' ngɑ̌ ghʉ̌ nsēn ncà’ sī wū bɑ̄ pèn cō ndʉ̄ɑ̄ pèn kwēn ndʉ̄ɑ̄ mōō nshʉ̀\\' ǎ kàà yì mvàk cēh ā mfʉ̀ʉ̀ sì tōm ntám ndʉ̀ mō mɑ̀ ngɑ̌ yá\\' mɑ̄nshwíí nzhìèkū\\' ngɑ̌ pén ó mbɑ̄’ ō ŋə̄m nɑ̄h mǒ ǒ sì cō\\' sēn ò cō\\' ngà\\'mfɑ̀\\' mênmēn (yì mbâ\\') mēn yòk pʉ́ɑ́ (yì mbâ\\') kǎmsʉ́\\' ndʉ́\\' nù yə̄ə̄ pèn shī kò wāhà nsēē ndèè làh ndó séè tɑ̀ nkóm síí lì yò wúpíéndɑ̌h mɑ́ kɑ́ pó ghòò bī pó ghòò mī kwàà sēn ì lʉ̀ʉ̄mɑ̄ŋū ǎ ghǒh ndʉ̄ɑ̄ ǎ yá\\' lōō lɑ̀hsì nzhwīèsīē ǒ pén làh ndə̄ə̄ mā á pó ghòō ncwē\\' ǒ vɑ́h mbèè mɑ̄ngʉ́ kɑ́ à kɑ̀\\' ghʉ́ mbʉ́ɑ́ kwà\\' fà\\'á \"8 mɑ̄ngà\\'nshì\" crèche pə̌b ngāp njə̌hnàb ngɑ̌ pén yēē póómɑ̄ tɑ̀\\' nzhwīèfʉ̌ mbɑ̄ tɑ̀ mfák pō tē\\' ntám nkwèè lɑ̄\\' mɑ́ « kám pè\\' » mòōntʉ̀ɑ̀\\' lī\\' ghěn kò ndáh nī cwè\\' mbèè mɑ́ kɑ́ ngɑ̌ zhíndíndēē mɑ́ á kə̀\\' ā ǒ ncákní yə̄ə̄ cwè\\'/cə̀\\' mbèé hwíé/shwíé mó\\' fà\\'á mɑ̀ ǒ sìī kwéndʉ̄ɑ̄ njwátlɑ́ mbɑ̄ ndʉ̄ɑ̄ nshǐ nsá\\' lɑ̀ fát tìì wèn lɑ̀\\' shīī mōō sì zāk pō ī pūāpúá yāā nŋwâtlɑ̄\\' pāh shǔ\\' ntū\\' lɑ́ tɑ̄ nnɑ̄h nshǐ tè\\' nzɑ̂ntɑ̄\\' nzɑ̂nsɑ̄\\' ncwé\\' kō nkhʉ̌nkèn ā ndó nā nzáb ā mbè\\'mbè\\' cà\\'sǐ kwèēngwè\\' ǎ nnák fíáfíá ngǎ’ pō sǐ’ nját wū bɑ̄ ngɑ̌ mbɑ̄ mɑ́ mēnsī ghə̀ə̀ zōh mōofī zēn zǎ mɑ́… ghèn mbēn ī ǎ mʉ̀ mɑ̄ngʉ́ kɑ́ ǹ kà zhī zǎ nǔ nā tīh tēnɑ̄ lɑ́ ǎ dhǐ kǒ nɑ́ nàm tî pó ndɑ́ɑ́ pɑ̀ shí\\' fā\\' yì pō lɑ̀zàb yɑ̄ɑ̄ nkō lɑ̄\\' yɑ̄ɑ̄ lɑ́ mɑ́ ngwá\\'pēē kúɑ́ ngāp mbhʉ̂nʉ̀ɑ̀ cɑ̄\\' lě mɑ̀mvhʉ́sí 1 ǒ ghʉ̌ sên mɑ̄ghɑ̀ɑ̀ yì mbā\\' á 2 wěn nɑ́ ó mbɑ̄\\' ó nkwé\\' mbìyā\\' mbɑ̄h ǹ kɑ̀\\' zhī nàh ntə̄ə̄ ndɑ̀ɑ̀ nɑ̄h yáá pʉ̀ɑ̀ ntú ndʉ̀ɑ̀\\' kɑ́ tɑ́ ó kònzāb sing mfî\\'kè\\' nzhī mbʉ́ɑ́ghʉ̀ lǎh khʉ̀ɑ́nshìè nŋwáá ghǎ\\'zū ndéé ngé\\' pú\\' hù ǹ jǎt sì cwàāntīē ngwě\\' kàmèrûn ndʉ̄ɑ̀ntú pɑ̀mɑ̄ngátnzhʉ̀\\' pl pɑ̀mɑ́njwè\\' pɑ̀mɑ́njə̀\\' pó yá\\' tōk fhʉ́wèn tènmvǎk póómɑ̄ pèn sɑ́\\' mbə̀pə̄\\' sáhnù ntìmbhì 57 tè’sínù zhínǔsāhndó\\' pɑ̀ndə̄ə̀ndʉ̄ɑ̄ nshǐ nsɑ́\\' síéwū mbɑ̄ káákāā hǎ\\'mbǎk mɑ̀mvīāt ngɑ̌ yá\\' lə̄ə̄ndʉ̄ɑ̄ ghɑ̀\\'nkām yōh pɑ́h í mɑ́ vǎmntō pó ndáh sō ndáh ncáb cɑ̄’ yāā pūā ngǎ\\' à kɑ̀\\' ghʉ́ ndʉ̄\\' ǎ mɑ́ mbōk/ngà\\'mbōk je sais jouer au football mɑ̄ njū\\' nshǔ pɑ̀njwátlɑ̄ nǎ’nkwè cīcō’ò lɑ̀’sì ā sáhwū lɑ́ mfà\\' tɑ̀ pěn còh nnák pə̀pē\\' è/mbə̀pə̄\\' ə̀ pě\\'mbâ\\' pīɑ̄sī càh zǎ kóh ǎ nnēē nkwé\\' njò\\' nnák ngū\\' vénsɑ̀\\' lɑ̌\\'mbɑ̄ mbhì mbɑ̄ mɑ́ ŋwɑ̀\\'nǐ lə́ə́ndʉ̄ɑ̄ cʉ̄cō\\'ò yɑ̀\\' ā sōh lɑ́ ǒ sɑ̀\\' pí kɑ́ ngɑ̌ tám ngáá tú ò yì mēntò\\' mēngābɑ̄yū\\' ghʉ̀ghǎ\\'zū ghǎ\\'zū ghʉ̀ghá\\' nshwī ndàkndù\\' ǎ mfɑ́\\' pɑ́\\' sʉ̄ʉ̄ lɑ́ ngwààmbɑ̀ɑ́ njɑ́\\' mbɑ̀ɑ̀ tɑ̄ mfén nkāā sì tú yāā kwàà zǒ ǒ pát lā kɑ́ shwǐ’zēn zǐ bɑ̄ kɑ́ ndǔ\\'nkhʉ́ɑ́ shʉ̄ʉ̄ mbə̀pə̄\\' nsɑ̂\\'ncà\\' njɑ̀ɑ̀ sáhwū kɑ̀\\' ghɑ́\\' mbɑ̀ nèhē sè\\' pò\\' vǎp zʉ̄ʉ̄ ǒ vɑ́h yō ò mɑ̄vǒ nkə̀wɑ̄ pó tʉ̄ɑ̄\\' nkwàà sìyū\\' nkhʉ̄ɑ̀’mōh bɑ́ pó ndáh nshwīāh mōh fʉ̌ pʉ́h ā mʉ̀nzhwīē ǹ kɑ́lǎh yà ndhìmóó hɑ̄ mfhʉ̌mfhʉ̌ mʉ̀nzhwīē nǔ kɑ́ bɑ́ séè ǹ sī yǎt kònsāh nā á nɑ́ sə̀ə̄wū bɑ̄ ǎ lén mɑ́ kɑ̀ ǒ sì īmbát nnāk nā ò kō pō ó mbú ì ngāp lɑ̄\\' thʉ̄ mbʉ̀ɑ̀\\' ndābɑ̀ wò yō mēmmɑ̄ ò nàkmɑ̀nù yò wúpíéndɑ̌h mbɑ̄ mɑ́ kɑ́ lēn mbí ndū ò tɑ̌ mbí mbɑ̄\\' ē lō\\' pɑ̌h còh mmóó pə̀pē\\' mbə̄ lɑ́ mēmmɑ̄ ò ghèn nséésí yɑ̄ɑ̄ mênmvʉ̄ɑ̄ nǒktū ó mbǎ\\'mbà\\' ghèn nkōm mmɑ́\\' fùfùá tók wèn mbā\\' lɑ́ mɑ́ tɑ̀\\' sìcə̄nzèn mvʉ̄ɑ̄ yǒh yóm tɑ̀\\' mbókndʉ̄ɑ̄ cāb khǔ ndʉ̄\\' lɑ́ ntìè\\' ē ghènɑ̌ kù\\' mɑ̄vǒ mɑ́ mɑ̄nì ǎ zí nì mángòlò lɑ́ pà\\' ngwɑ̀ncò ngáknshì sìàní nù ngǎ’ yāā kɑ̀’ ghɑ́’ mbɑ̀ nēhē sáhwú yàhlēē pɑ́’ pɑ̀ɑ̄ncə̀ə̀ lɑ́ pó kòndɑ́\\' ncà\\' yɑ̀ɑ̀ vì\\' ncō\\' kɑ́ tɑ́ ó mbú ì nzɑ́h ɑ̄ ò sǐ\\' nzhī wū bɑ̄ ò tē\\'sî tɑ́\\' nɑ́h ntè\\'zɑ̄h lɑ̀có tììmōh ǒ ìndī\\' měh béé sìèsì lè mɑ̀ ǒ còh nzhī làh nté\\'sí nǔ mbí wèn mɑ̀ ghə̀ə̄ fè\\'éfě\\'è ɑ́ pèn sɑ́\\' wǎ\\' lǐ\\' mbók nā dǐ\\' mbók nā à lɑ̀bɑ́ sīē fondateur créateur mfʉ̀ɑ̀wèn nténmvàk pɑ́ yáá lɑ̀ bɑ̄ wū yì ǒ mɑ̄ncāk lɑ́ báá ǎ tóh ndhʉ̀ ǎ sìèsì ā mɑ̄nzhì làh ngén kò móó tāmsīē tɑ̀\\' ghǒh mbā\\' ntèn mbɑ̄\\' ō sī ntèn bɑ̄ téhlò\\' ngɑ̌ nkwé\\' yà víátngòfāt pí làmnsāk sī pí ngwā\\' bɑ̄ sì\\' pɑ́\\' lǎh yì tìā ngɑ̌ mɑ̀ngʉ́ tēhsípó ǒ nkwé\\' làh nnāhnshì í ngɑ̌ cɑ̀’sì ō lɑ́ ndì à nzɑ̄mbʉ̂’ mbɑ̀ pō ngɑ̌ támbhì mbēn ō mɑ̄vō ndə̀ə̄ngwê bɑ́ ntʉ̄ɑ̀ wūfī lè ǎ nzɑ̄ hə̌\\' wū ghə̀ə̄lɑ̄\\' yǒh mbɑ̄ fʉ̀\\' sìmìè ngɑ̌ píé ntēē kwén lə́ə́ndʉ̄ɑ̄ làh mbɑ́\\' mbwèn kɑ̀\\' pé\\' pɑ̌h mɑ̀ngén tʉ̀ɑ́\\' kààkàá pɑ̄ɑ̄ hǔ làt ndáh mbō nsā\\' mfɑ̄h vʉ́ nkòó wèn pó cāk ō kīkēē pó yá\\' mɑ̄nsī\\' pè\\'è ǹ sī mɑ̀mbōh bɑ̄ ngɑ̌ pén ló ngà’mbhǐ à mɑ̄ ncēh yì bíí lì mɑ́ kɑ́ ntīā mêngòò nà njēn ì njēn sî yáá fà’á mɑ̀ ǒ kósí ā tɑ̀’ ngɑ̌ pén ó nù lɑ́ ntééntēē wúzɑ̄ lɑ́ pōp ntə̄h wèn nhíá vʉ̀ ngɑ̌ mɑ́ njɔ̀nshì mbù\\'fhʉ́wèn mfhʉ̌ ngāp wèn shìè wèn sə̄h táàkà\\' ngèn wū kǎmnkà\\' mvʉ́ɑ́ kwè\\' làh ndámsí zū ngǎ’ nā à ǹ jǎt tɑ̄ mɑ̄mfhʉ̄ zʉ̌’ŋwɑ̀’nì ngɑ̌ púá yáá ìmbɑ̄ mɑ̀ cwǎkhù bɑ́ fǎb mōh lɑ́ ǒ téhnjó tú ì nkǒ\\'zɑ̄ nzhwīènkǎm nhɑ̄ dìpʉ̀ɑ̀ lǎh nzhì ò ncáh mbú à sə̌\\' sʉ̄ʉ̄ ntâ\\' ngāp ngà\\'ncàhsì nə̄h mǎ mɑ̀njóh njɑ̄ɑ̄ pɑ̀ɑ̄pɑ̀ɑ̀ ndó\\' wěn ntē\\' ncō\\' nzhìndʉ̄ɑ̄ kǒnʉ̀ɑ̀ nkhǔ sāk lɑ́ pʉ̄ɑ̄\\' ǎ kòndāksī nzâknù 24 ntìè\\' ndɑ̀h/ndə̀h ò bɑ́mfɑ́\\' mfɑ̀\\' mō ǒ sì pīɑ̄ɑ̄ ndìì ǎ lɑ̀ mɑ̄nzī pɑ̀shú\\'nkɑ̀\\' pɑ̌\\' nshwī lɑ́ ngà\\'mfɑ̌\\'ndʉ̂\\'nshì ǎ lǎt nshì nkwè\\'nǐ ghɑ̀\\' tɑ̀\\' sə̀ə̄ yāā yáá pə̀\\' tɑ̀ njɑ̄\\' mòòwɑ̄ tɔ̌ ntʉ̀ntɔ̀ ɑ́ pō láh nkwāt pè\\'è pə̄ə̄ lʉ̄lʉ̄ɑ̄ cʉ̄cō\\'ò làh ā ngén ncáh sìīndʉ̂\\'fōh à lɑ̀ghěn mɑ̀ lɑ́’ pɑ̀ndāk mīā mvī à nsá\\' wèn ǒ sì shú\\' tū ā ndū à ndhìmōō ncámnkhù yáá pè\\' nàh nsóh nɛ̄ nkwèè līē\\' khʉ́ɑ́\\' cɑ̄\\' ǎ cát kā\\' nǒktū á sàh pɑ́\\' sá\\'lāk lɑ́ póómɑ̄ á nzhīnù nshʉ́ɑ́ ī mbǎ\\' ndàk nzhwīè nzhʉ̀nzhʉ̀ɑ̀ ŋwàh sī yǎt mbú à bɑ̄ ngɑ̌ púá tɑ̀ kēēmbʉ̄ɑ̄ kàhmɑ̄ncò ǎ sɑ̀\\' pí wɑ̄ sə̌wèn kɑ̀\\' sɑ́\\' kwèèsì ndùàndùà ǎ lá\\' mìmìè je suis guéri njɑ̄ɑ̄ fīfí nɑ́ nù nné\\' títī kɑ́ tɑ́ ó mɑ̀ngʉ́ fà\\'á ā tɑ̀\\' mɑ̄lāā nù sî\\'njǎb ǐ sàh nshʉ́ɑ́ ī fùfùá sìē\\' hǔ kwèlè\\' yǎ hɑ́ ngɑ̌ mɑ̀ngʉ́ tēhsípó/tēhsítú nɑ́ mfɑ̌\\'mōh mbā\\' lɑ́ hòòsì ngǔ\\' è ngɑ̌ mɑ̀nshwīē nī à tɑ́’ pèn pə̄ə̄ nǔ mbā’ pí mʉ̀nzhwīē fà\\'á bɑ́ ɑ́ mɑ̄ é mɑ̀ hɑ̄ nǎ’nsì ǎ zɑ́ mvāt tɑ̀ nshù ī hōōsī ngà\\'mfɑ̀\\' lʉ̀ɑ̀\\' mmɑ̀\\'kwà\\' mɑ̄ ā [mɑ̄ ɑ̄] ndāmɑ̀ sǐ\\' nját wū bɑ̄ sáhnù ntìmbhì sə̀ə̀mbʉ́ɑ́ mbè’mbè’ fɑ́hnzɑ̄ mvʉ̀\\' yáá mɑ̀nnák zī sēn à ngǎ’ndə̀ə̀ wěn nzēn shì kīkēē nkóm kɔ̀ bī nkō\\' mfī\\' ndʉ́ɑ́ ŋwɑ̀\\'nǐlèn ǒ mɑ̀ hɑ̄ tómfhʉ̀\\'nzhînù mbɑ̂\\'mfɑ̀\\' sə̀ə̄ nù sī sīē bɑ̄ nombre impair nté\\' mvī pàhsǐ kǎmtìè lè mīā ngə̀\\' na᷅k mbə̀pə̄\\'/pə̀pē\\' nzhwīē í mɑ̀nhūsī ī tɑ̀ à mɑ̄njū\\' mbə̀\\' nzhīē nshǐnshì ǎ lɑ̌\\' nù lɑ́ pí tōòsì raisonnement absurde lə̄ə̄ mēn à nkǎmsʉ́\\' còh zhī nàh nkwá\\'sí pè\\'è nthí nzhǐ sàh móó mɑ̀nkóm ī tɑ̀\\' sìzɑ̄ngwá\\' mbɑ̄ tɑ̀\\' wèn sìzhímbʉ̄ɑ̄ shʉ̀ɑ̀ncēn mʉ̀nzhwīē cēh ŋwɑ̀\\'nì à lɑ́ nhɑ̄ ā lɑ́ cīcō\\'ò lɑ̀hsì/lə̀hsì ā lɑ́ mbɑ́ ń dɑ̀ sɑ́\\' mbūànzɑ́ é bɑ̄ kōsī ā lɑ́ cīcō\\'ò yǎ bɑ́ yǐyàmàndè mbɑ̄’ ó mɑ́ tɑ̀’ ncâkngà’ nɑ́ zúvʉ̀ fī nshìēmbə̀p nshìēmbòm ngɑ̌ ìnkwá\\' nǔ ná nǔ kɑ́ bɑ́ ɑ̄ kɑ́ bɑ́ sīē làh mɑ́ yìmó\\' kǎmŋwɑ̀\\'nì lə́ə́ndʉ̄ɑ̄ pɑ́\\' nə̀ə̀sìmɑ̀\\' zāb nə̀ə̀nzhwìè ɑ́ nshʉ̀ɑ̀pʉ̀sīē hɑ̄ sʉ̀sʉ̀ɑ̀ vɑ̌h mbú ò mbɑ̂\\'tú mɑ̀mbɑ̄\\'tū ā lāh zě\\'è sák mfūā nshʉ́ɑ́ ngāp mēn ǎ mɑ̀ nhām ncà\\' ngʉ́ yāā yāhlēh ǒ mɑ́ tɑ̀\\' hə̌\\'nzī ngǎ’ nā à ǹ sǐ’ nkwé’ mbǒ’nshìè mbɑ̀ nēhē bɑ̄ pàt ngə́ə́ lɑ́ cīcō\\'ò thʉ́ shʉ̄ɑ̄ lɑ́ kɑ̀\\' yām ngǔ\\' è pɑ́h ó kɑ̀kɑ̌\\' ɑ́ mbìì lā nshwìèmbâ\\' pó shwǐ\\' có\\'mfɑ̀\\' mǎ ngɑ̌ yɑ́ɑ́ yáá mʉ̀ ngɑ̌ sɑ̌\\' séé lɑ̌\\' ndū à ngɑ̌ tám thʉ́ ngáá tú ó nɑ́ mbè\\' mfɑ̀\\' mǒ cīēncə̄ə̄ kɑ́ tɑ́ ó mbú à nkhʉ̄ɑ̄ ɑ̄ ǎ kó kām mfɑ̌\\'vhʉ̀ ngɑ̌ mɑ̀mbíé shìà nsʉ̀ɑ̀ bɑ́ nzâknù 18 ghə̀ə̄ cə̄ə̄ ghə̀ə̄ yóknā ghāpsī nā ò ntìè\\' ē ghè\\'è ngʉ́ɑ́\\'sí mbɑ̄\\' ē pí mɑ̄ é ngʉ́/mfɑ́\\' kɑ́ ndʉ̄ɑ̀mfɑ̀\\' lə̀ə̀ zʉ᷅\\' mfɑ̌\\'mbō accroupissez-vous cǎmngwé kə̌\\' ngèè tɑ̀ nshʉ́ɑ́ nzhwīē ì ndàm cěh ō mvʉ̄ɑ̄ pēn ngɑ̌ mɑ́ nshwìè mʉ̀nzhwīē à sī mɑ́ wèndéndēē bɑ̄ mbɑ̀ wènòk mbɑ̀ nə̀ə́ njéh ǎ fǐ\\' nsìnsǐ kwéndʉ̄ɑ̄ hom njēēsī nnə̄h zú ndʉ̄ɑ̄ ndə̄ə̀càk nsɑ̂\\'ntéé ghā\\' nàh njɑ́\\' ndǔ\\' mbú à sìèsǐ kɑ̀ɑ̀ lɑ́ ǎ ywát ngʉ̄ɑ̄\\' pèn sɑ́\\' mbə̀pə̄\\' mbát nsī mbə̀pə̄\\' pó ndáh ngwàà nsēē wèn ǎ ghʉ̀ kēkēē dʉ̌\\' mōh wúntēē zǐ càm ncō cō yā\\' sɔ̀ tɑ̄ nkát ǎ dʉ̀ɑ̀ mɑ̀ fáhkò lì kwà\\'sǐnzhʉ̀ʉ̀ nzhìè lǒ mɑ̀nkō ā ngɑ̌ síé lè nzhʉ́\\' mbʉ́ɑ́ ghěn mbèè ǎ lʉ́ɑ́\\' ncwē\\' kū\\' ngòò lɑ́ shǐ nā í nɑ́ à mbɑ̀ɑ̄ nāt ndhí á ghʉ̌ lěn njwè\\' de ncōptū mōō lɑ́ mɑ̀mmā\\' mɑ̄ ā shʉ̀ɑ́nù nshù\\' wɑ̄ bɑ̄ lɑ̀tìē ŋwɑ̀\\'nǐssē ē ǎ mɑ̀ndə̄\\'sī ngòfāt kɑ̌\\' kwèlè\\' tɑ̄ njám ngɑ̌ téhnjó tú à ghə̀ə̄ sīē nzhʉ̀ɑ̀ ngāp nthîlə̀ə̀ póóntǒ\\' sāk lā\\' nshù ō mbīɑ̀zʉ̀\\' sū\\'/thʉ̄\\' ntūmbhì sáhnù mbə̄ə̄ lɑ́ ngɑ̌ měh mfɑ̀\\' mǎ sɑ̌\\' mbə̀pə̄\\'/pə̀pē\\' mōō lɑ́ fɛ̄hsī ngà\\'mbhǐ ì tɑ̀ à ghê\\' ntûmbhìngòfāt gháh pò\\' pǎh pò\\' ngʉ́ ntìè\\' ghʉ̌ ntìè\\' nzɑ̂ ngǎ\\'ncə̄ mvʉ̄ɑ̄ yì ngɑ̌ njēē lɑ́ fhʉ̄mbɑ̄ mɑ̀ zʉ̄ʉ̄ ghòō korónā vìlʉ̄sǐ [mɑ̄ŋū fī covid-19] làh ā nzhīē sìnì wèn sìkwè\\'nkwé\\' pó yɑ̀ɑ́ sīē lɑ́ ǒ mfʉ́ʉ́ nù tɑ̀\\' ntʉ̄ɑ̄ nsó\\' nɑ́ wū yǒkvə̄h yōh píá pō pō sǐ\\' nnɑ́h wèn pīē bɑ̄ ndʉ̄ɑ̀nsʉ̀ɑ̀ yò mbʉ́ɑ́yú\\' tāk pèn bɑ̄ shwītōk mbɑ̀ ngà\\'ngèè en effet njwátlɑ̄ provient de ywīāt ǎ mɑ́ kwênsòm/kwênsə̀b à mɑ̄ é mɑ̀ hɑ̄ mɑ̄ à yɑ̀ɑ̀ móó kònnə̄\\' pēn kwɑ̀\\' fà\\'á yàā ntīē mfɑ̀\\' tɑ́ ó mfɑ́\\' ɑ̄ lí\\' lǎt mēnzhì mbə̄ə̄ nzâknù 4 mbʉ́ɑ́ làh nté\\'sí nù ngɑ̌ mɑ́ ngà\\'ngèè sɔ̀ kǎmgà\\' libéralisme ngòò lɑ́ tʉ̀ɑ̀\\' nkwâtpè\\'è mbōòpè\\'è ngòòndóm lāt ngóó cwàákhù à lɑ̀shʉ̌\\' tū ī ndáh mbēn kō\\' thʉ́ tʉ̄ʉ̄ ngwáá nzʉ̄ zì\\' lɑ̌\\' tú í nshīīsī sə̀ə̄wèn sǐ’ mbɑ̄ mbèé mbú ò bɑ̄ mɑ̀ ngɑ̌ mbátnjǎm mbèé mbú à pɑ̀h tā\\' ngén ncò nùnǔ ntám ncāt mǎ mɑ̄vǒ síéyɑ̄ɑ̄nzhì ngɑ̌ yá’nthʉ̄ mbú ó tɑ̀’ ǒ sì wɑ̄\\' nkòò nǒ mbú ì shīyā\\' bɑ̄ mɑ̄shwī\\' á ghʉ̌ mbə̀\\'nthʉ̄ khʉ́ɑ́\\'ntū ndhîkwéndʉ̄ɑ̄ sī zʉ̌\\'nshʉ̀\\' mbʉ̄ɑ̄ɑ̄ ǎ tè\\'sì á lə́ə́ndʉ̄ɑ̄ m̀ mbēn tɑ̄\\' nkhù mō ncēn pɑ̌h nhɑ̄ nkɑ̄ɑ̀ŋwɑ̀\\'nǐ mbí yɑ̀ɑ̀ nzhínù ndáh nsɑ́\\' yɑ̄ɑ̄ mbát ngʉ́ ngɑ̌ mɑ́ nnâknə̀ə̀ tètěn ndù\\' donc ŋwâtmbèè pʉ̀nǒk fhʉ́ ntɑ́\\'ntɑ̄\\' nsɑ́\\' nté\\'zɑ̄h mɑ̄ é ndʉ̄ɑ̄ ɑ́ cwēēsī nkǎmnkàm hóm ŋɑ̄\\' mêngāp ndáh mfūā mɑ́ hǎm mbǎk ló tɑ̀ nshùndʉ̄ɑ̄ hə̂\\' accident d\\'avion ncàtlɑ̀ tū lǎt ngòfāt mbǎk ló tɑ̀ nshùndʉ̄ɑ̄ hə̄\\'sî yì bàá pó tʉ̄ɑ̄ nshǐ nā à ncə̌nkɑ̄ɑ̄ yáá pà\\' njàbkò nsɔ́ nə̀ə̀sìmɑ̀\\' pàā móó nkòó nò yā\\' lə̄ə̄ mā tɑ̄ nsōk ā mbɑ̀ kɑ́ lɑ̄ nhɑ̄ ndìpʉ̀ɑ̀ lɑ́\\' pɑ̀ndāk nkók nshì nnū ngù ŋ̄h ngɑ̌ pén pɑ̌h ló fʉ̌\\' āfrīkà ngǔ\\' nkhʉ̌ kwɑ̀ mɑ̀ kàm ǹ kɑ̀\\' fhʉ̄mbɑ̄ mɑ̀mbīɑ̄ nā á nā tēlɑ̄ sáá mbʉ̄ɑ̄ɑ̄ bā ò sī mɑ̀njēē bɑ̄ í ngɑ̌ mfhʉ̄ mɑ̀ kò ǎ sɑ̀\\' nhíé\\' pʉ̀ ntōh mbɑ̄\\' ō sǐ\\' mbēn làh ntīī nshʉ̀ʉ̀ bɑ̄ lēn mbú í mɑ́ ngɑ̌ mbèè lè njēēngʉ̄ɑ̄\\' tɑ̀\\' nzɑ̌ léé è mɑ̄vǒ ndāmɑ̀ ndə̀ə̀wɑ̄ mbə̄ə̄ lɑ́ nsìèsì cwɛ̀ɛ̀nzhì shʉ̄ɑ̄\\' fə̀ nzâknù 21 mbʉ́ɑ́ làh ntə́\\'sí mvàk yì wèn lǎh mbɑ̄ ntèn lɑ́ fhʉ́wèn mbɑ̂\\' sɑ̀\\'fhʉ̄ndʉ́ɑ́ mɑ́ tɑ̀\\' mbè\\' nsɑ̂\\' zàb mbə̄ə̄ pō ō kɑ̌\\' sì yà tū mɑ̀ pó lɑ̀hsì ī ǒ mɑ́ mēn wɑ̄ zēn zǒ mɑ́ wɑ̄ fɑ́h à fə́h à ǎ zàb ō nǔkɑ́ nǔkɑ́ á nzàb ō yāā kɑ̀\\' pé\\' bɑ̄ fǎb ngʉ̄ɑ̄\\' fɑ̄\\'sī ngén mɑ̀ hìì lì zúvʉ̀ mbɑ̀ yàā mōō yì mʉ̀nzhwíé nzī lɑ́ mbɑ̄ mɑ́ mên táànkɑ̄ɑ̄ mbɑ̀ mɑ̀ à sī yǎt wū bɑ̄ ɑ́ nshʉ̀ɑ̀pʉ̀sīē hɑ̄ sʉ̀sʉ̀ɑ̀ və̌h mbú ò ndìè\\' fà\\'á ò sī nēhē nkwèè ngǎ\\'nshì lɑ́ mbə́p mbhì lì mvə̄h sēn làh mɑ́ yìmò\\' ǹ sī ìmbát nzɑ̄ bɑ̄ ǒ sì lī\\' ghʉ̌ wú mbí wèn mɑ̄ nzáp ndʉ̄\\' mbā\\' lɑ́ ghʉ̌ váánshù nkwèè pʉ̀ tàmsí làt tàmsí tòk kɑ́ ntīē nǔfíínsāt béè pʉ̀mbè ngòò lɑ́ nkwé\\' yǐ sì\\' ndhī mɑ̀ yáá nsāb ī ǎ yáh tɑ̀ gháhnshù ī sêh ngɑ̌ ghʉ̌ yá\\'tū mɑ̀ ngɑ̌ yí ngé\\' nshʉ́ɑ́ nkwèè pʉ̀ njā\\'sàp ǒ mɑ̀mfʉ́ɑ́sí ā kāhā pèn shʉ́ɑ́ cābshʉ̀\\' yɛ̄ɛ̄ wèn tɑ́ ǒ mɑ̀ndēn tɑ̀\\' mʉ̄ɑ̄ nù bɑ́ shʉ̄ɑ̀\\'fə̀ yáá pè’ mēmmɑ̄ ò mbɑ̄ mʉ̌ yɑ́ɑ́ mɑ́ ngɑ̌ ìncōp nkwèè màà sìpə̀’ mā nzâkmbōmfènmbʉ́ɑ́ mbǎk ló zě\\'è tɑ̀\\' wò yō lɑ́ ō nshùmbù\\' lě ghòhsì mvènfāk ntôndʉ̄ɑ̄ mbàkngòfāt yū\\'ndó\\' tə́hmfɑ̀\\' lǎkmfɑ̀\\' nkhǔmfɑ̀\\' mbǎ\\'vʉ̄\\' sákndʉ̄ɑ̄ sákpè\\'è cò\\'ò ǹ gēnɑ̄ kɑ́lɑ̄ ā ā ntìē\\'ghə̀ə̀ lə́ə́ghə̀ə̀ yáá nɑ́ nkǎ\\' shʉ̀ɑ̀\\' ǒ vɑ́h yō ò sēn à yámngwê ngǎ’ sī bíí bɑ̄ yì bíí tɑ̌ síì lì cwāh sī ō ngɑ̌ hɑ́ ghâpsǐ mbí nshʉ̀ɑ̀pʉ̀ lēn mbú ì mɑ́ á sɑ̀\\' màh kwɑ̀ sī\\' ntū\\' nshì hò ō\\' zén mbɑ̄\\' ó mɑ́ nùpɑ́\\'mbɑ̄hwèn ǎ tú\\' nshì ndók ì ǎ có làksì kōsī ā làh nsóh nkā\\' nshǐ ntōm swǎt swǎt pʉ̀ tî ngɑ̌ kə̌\\' nkòmnkòm kū\\' ngòòmbōk nshʉ̀ɑ̀sòm sì tēn lʉ̀ɑ̀\\' nzhwīē ā ngə̀\\' ǎ kààlɑ̀ yì mvàk mbǎk mɑ̀ndō séè ntìē\\'sēē béè vénsɑ̀\\' móó cǔ\\' nsè\\' mī yātlɑ̄ sìpə̀\\' yáá ndéndēē mɑ́ pó nzáp mvʉ̄ɑ̄ ǎ lɑ̀ má\\' nkwèn ī ndɑ̌\\'mɑ́ cə̄ə̄ ngwāh ndē\\'ndé\\' tū pō nǒ\\' mbèè sì yāā pīh mɑ̀ yáá njā\\' tɑ̀\\' mbɑ̂\\'ndū ndū ndāmɑ̀ ntōm mfɑ̀\\'/ntə̄b mfɑ̀\\' ǹ dɑ̀ pěn nàh nsíépīē nɑ́ tú ghə̌lɑ̄\\' zā béé líé\\'nzɑ̄ lè shìànsə̀\\' ǒ ghʉ̌ pōō ú ǒ ghʉ̌ pʉ̄nkhʉ̄ɑ̄ ɑ́ lə́\\' mɑ̀nkō ā làh ngʉ́ yāā ngát lū\\' cʉ̄cō\\'ò bɑ̂ ǎ kǎk pō ī pí nī mvʉ́ɑ́ kō\\' ndòm nkò\\' ndāt nzhì bǎ pʉ́ɑ́ ncō mbǐ sî mbə́psí pó sàt lī mɑ̄nzhì lɑ́ mɑ̀ncō mbhì ngáh ŋə̄bsī nə̄h mǒ tə̄ə̄sī mvǎk yāā lǎk híá pō ī ǹ dɑ̀yǔ\\' mɑ́ á lə̄ə̄ndʉ̄ɑ̄ kwèēnzhì cʉ̄cō\\'ò mbɑ́ ǹ nzɑ̄ wúzɑ̄ ō ó mbɑ̀ɑ̄ mvī ngɑ̌ kwě\\' mɑ̂njwè\\'-lālī sī ndɑ̌\\' yéhsò bɑ̄ sə̌wèn sìkūɑ̄ sī wū bɑ̄ nsɑ́\\' pɑ́\\' mʉ̀ lɑ́ ǹ kɑ̀\\' kwé\\' zǎ ncà\\' ǎ ghěn njàmndʉ̄ɑ̄ yáá mɑ́ yì mbʉ́ɑ́bɑ̄ mɑ̂pǒ\\'kām kɑ̀làk tɑ̄ mmɑ́\\' yò njàb ghə̀ə́ mɑ́ kɑ́ sàp ngén yǒ mmɑ́\\' càb nzɑ́ lēē è mōònkō\\' à nú ndə̄b wèn à yēē ngə̌\\'ngə̀\\' nkhʉ́ɑ́ ndū à kɑ̀\\' zhī zǐ njɑ̌\\'nkwè\\'nì (bɑ̄) pō pō yāā sī mɑ̀mbé\\' bɑ̄ je suis allé au village m\\'abreuver au puits de la connaissance mbə̀’mbə̀’ mbūànzɑ̌ mbú ó lɑ́ nsìèsì ǎ còhsì ngə́ə́ nú zābsī těn thʉ̄ ngɑ̌ ntám ngʉ̄ɑ̄\\' fhʉ̄ pɑ́\\' ndú à lɑ̀kūɑ̄ lɑ́ ghòò fhʉ̂vàm ǒ ngén mɑ̀ hɑ̄ sóh tʉ̄ɑ̄ nɑ́ wúzɑ̄ ǒ mɑ̀ncá\\'sí = nǔ mɑ̀mbé\\' ō mɑ̀ ngɑ̌ làh ndēn mɑ́ ó yā’ yɑ̄ɑ̄ mɑ́ ó sī ìmbát mɑ̄ndē’ bɑ̄ mbɑ̄’ ō sǐ nját mfɑ́’ bɑ̄ à lɑ̀yǎ’ tōm mfɑ̀’ ngɑ̌ ntámndʉ̄ɑ̄ káknshì nǔ wūɑ̄ zʉ̀\\' ā ngɑ̌ mɑ̀mbēn lɑ̀hsì zǒ zə́hŋwɑ̀\\'nǐnzhǐntə̄\\' ǎ mɑ̀ncāk mbʉ́ɑ́ lǎh nthʉ̄ ā pó nshʉ́ɑ́\\' nkə̀mnkə̌b ntáb nɑ̄\\' tɑ̄ nzɑ̄ ndéndēē mēmmɑ̄ ò ngɑ̌ pén ó nɑ́ báá ntɑ̄h lɑ́ lā\\' lɑ́ ǒ sì īmbát ngé\\' ngɑ̌ yíí mǒ\\' mʉ̀nzhwīē mɑ̀ ǎ mɑ̀ngé\\' sák lāk ngélɑ́ nzhǐ sàh nkɑ́\\' zʉ̀\\' yáá pè\\' yέέ pə̀\\' yáá pòm nǔ yá\\' ghʉ̌ mʉ̀nzhwīē lɑ́ tɑ̀ à ghʉ̄ ghɑ̌\\'nthʉ̄ sáhnù ntìmbhì ncɔ̀ vʉ̄’ʉ̄ ǒ mɑ́ mēn wɑ̄ ǎ kúɑ́ pèn shʉ́ɑ́ cābnshʉ̀\\' ò mɑ̌nkwēn ntám tɑ̀\\' pè\\'è mɑ̀ yáá tāk ò tāk tū ō tɑ̄ ncō ndū á mɑ́ ncìncēn mbâ\\' ndū í zǎknjǎm ì ghòó mɑ̀nzɑ́hsí ā ǎ fěn cǎmngwè\\' pɑ̀flàŋsī lɑ̀zɑ̌ lɑ̄\\' yǒh pǎtzén nsìèngà\\'wū mīàngwè\\' mīàngə̀\\' hò ō’ ǹ kɑ̀’ pát ncōmsī kǔ\\' fī ŋɑ̄\\' ntʉ̄ɑ̄ sīē nsìèsǐ làksì yōh zě\\'è ncātnòk pó nzī pí kɑ́ sǒ ndhī lɑ́ tɑ̄ njēē nnâknə̀ə̀ ǒ vɑ́h yō ò mēmmɑ̄ ò nkǎmbū’ mɑ̄vǒ mɑ́ nkwèè yà wū wǎ’ ngɑ̌ mbɑ̄ tɑ̀ ncō ghòò ǎ lɑ̀ ŋōm nɑ̄h mī kǒm móó hɑ̀ɑ̀ sáhnù ntìmbhì ncɔ̀ 53 ngɑ̌ cáhsí ngɑ̌ mvɑ̄h ngə́ə́ mbú ò ǒ lɑ̀ mɑ̄njū\\' ngāp bô shǔ\\'pù\\' nhɑ̄ zēn ǒ mfɑ́\\' ncām sʉ̄\\'ʉ́ nɑ́ ngɑ̀ɑ̄nzɑ̄ ɑ̄ mʉ̀nzhwīē lɑ́ mbɑ̄p nkɑ́ɑ́ nɑ́ zúlīā\\' wàā mvī mōō lɑ́ fāhsī ngà\\'mbhǐ ì tɑ̀ à ghê\\' mbè’mbè’ fɑ́hnzɑ́ mbú ó lɑ́ mbǎ’ntām à shwì\\'ntōk ǹ sǐ’ nját ntām mbǒ’nkhù bɑ̄ mbī’tūmɑ́ ǹ dɑ̀pʉ̀ɑ́’ khù ā khʉ̀ɑ́ pè\\'è lɑ̄\\' dìpʉ̀ɑ̀ mvī tīì ngɑ̌ cɑ̌\\' shʉ́ɑ́ndāk kīkēē ń dɑ̀ ghóó sə̌wū sī mʉ̀nzhwīē bɑ́ bɑ̄ mbā\\' bɑ́ njɑ̀ɑ̀ bò lī\\' fhʉ̄ kò mbāt lā ngòò lɑ́ nnák tɑ̀ shʉ̄ɑ̀ wū yì ǒ mɑ̀ncāk lɑ́ báá wēē lò bɑ́ ǒ kwě\\' céhwū ú yàā lèn béè nìáh ń jēē njâ\\' nòk yáá pè\\' mɑ́ nshù ī tʉ̀ɑ́ ngʉ̄ɑ̄ ŋ̄h ngɑ̌ vɑ́h yā mēn à ca᷅mnà’ nɑ̄\\' lɑ́ tʉ̄ɑ̄ yə̄ə̄ nǎknsì tè\\'sínù tə̀\\'sínù ǒ sì né\\' nɑ́ vàm zǒ ně\\' zhíézhīē tʉ́ɑ́zɑ́h mɑ́ tɑ̀\\' mbìà sìpə̀\\' ghʉ̀ mbɑ̀ lāhā lɑ̄ tɑ̀ nsɑ́\\' kwèèsì nshʉ̀ɑ̀pʉ̀ sīē cīcō\\'ò lə̀hsǐ nhěnù mā mɑ̂nsǐ ǎ mɑ̀ngóó nzhwīē á mɑ̀ngóó zɑ̄ wúzɑ̄ nǔ làh nzhī ntʉ́ɑ́ngwè\\' mǒh lɑ̀kǒ\\' kwɑ̀\\' mɑ̀ vǎm à pʉ́ɑ́\\'nsə̀\\' wěn mbɑ̄ tɑ̀ nkūɑ̄ fà\\' těndʉ̄ɑ̄ ghēn ntēh ndòò sì\\' fà\\'á ntìè\\' tɑ̀ njə̄ə̄ pʉ̌nzhwíé nkwé\\' làh ndə̄ə̄ndʉ̄ɑ̄ wɑ̀\\' zhī\\'sī ā ngɑ̌ ghə̀ə̀ fà\\'á mbɑ̄’ yòkngwáá zhwīē ó zī mōō kɑ́ mɑ̄vǒ wóktèn ǒ zí mōō kɑ́ ndók nī wɑ̄ bɑ́ ntʉ̄ɑ̀ béé kwà\\'sì lè ngɑ̌ kwà\\' lʉ̀ʉ̄nàm ò bɑ̌ mbɑ̀wɑ̄lɑ̄ ò zhī\\'sī ghə̀ə̀ zǒ nù lɑ́ shʉ̀ɑ̀ ā ŋwɑ̄\\' bɑ́ fóh mɑ̀nkō séè nzhìè mbèé mɑ̀nkō ā ǒ sì tɑ̄ nsó ncāt mǒ ǒ pə̌\\' mʉ̀nzhwīē tɑ̀\\' ngwât pīē zén nzhwīē á mɑ́ nǔmbísīē nkòò nà ngɑ̌ ngʉ́ ndēn nǔ mbú ì mbɑ̀ sēnɑ̄ lɑ̄ à hāmsī nā ī nshʉ́ɑ́ zī hom mòòsì ngòp ŋwɑ̀\\'nì pɑ̀h pōō nzɑ̄ sə̌wèn sə̌wèn sī ntìā nɑ́ pō bɑ̄ nkòò lò mōhsìmìè ncɑ̄ɑ̄ nshì vǎpntō nkòbɑ̌ dhìshʉ̄ɑ̄\\' ngɑ̌ mɑ́ yǐ nèè tɑ́’ mɑ̄vǒ mɑ́ yǐ púántòò ǎ mɑ̌\\' mbō pó lɑ̀ cə̄ə̄ nǎm tʉ́ɑ́ zě\\'è lè ǒ mɑ̀nkə́\\' mɑ́ pɑ̀h/wèn ghén nɑ́ mó\\' zʉ̀\\' ʉ́ nkā\\' mī njòkvʉ̄ʉ̄ nkôhvʉ̄ʉ̄ mbǎ’ntām nù (objectif) shʉ̀shʉ̀ɑ̀\\'khù mēn ì mēn lì ngɑ̌ ngén mɑ̀ pɑ̀\\' pɑ̌h vɑ́h yǒh nzɑ̀h wū pǒ\\' mōō zʉ̀\\' ī yāā yǎ\\' lō mbɑ̀ lāhā lɑ̄ ò sɑ̄hnthʉ̄ nǔkɑ́ nzhī ndēn mɑ́ mfâtngàpngàp mbíé shìà ǎ mɑ̀njwēn ntə́ə́thʉ̄ vʉ́mōh nnó\\' ncām mbʉ́ɑ́ nkwè\\'nǐ pàt lā nǒktū ā nù ndéndēē bɑ́ móhnkɑ̌\\' mɑ̀nkhʉ̄ sʉ̄ʉ̄ sǐ\\' ndʉ́ʉ́ nā ī bɑ̄ pɑ́ ǹ nsī ngǎk ò ó ngɑ̌ nkə́’ yǎ kwɑ̀’ kə̀’ tɑ́’ ǹ kɑ̀’ ghʉ́ ntìè’ làh njēē báá wū lɑ́ ndɔ̄ɔ̄ ngɑ̌ mɑ̀mfák ndʉ̄\\' ngɑ̌ kwě’ mɑ̄vǒ tɑ̀’ yʉ̄ɑ̄ bɑ̄ lɑ̀zī ā mbǎk ló ngɑ̌ kòngə́ə́ mbɑ̀kɑ́lɑ̄ ò mɑ̄nnī\\' ā sì\\' nī\\' pó ncēh yāā lè mɑ́ kɑ́ nsū\\' wèn túfʉ̌ mɑ̀nkō ī ǎ zí mōōmʉ̀nzhwīē ndú\\' mɑ̀mbīēsī nɑ́ nthízɑ̄h tə̌\\' nsə̀\\' mō pí shìànsə̀\\' ǎ sǒ tɑ̀\\' mvʉ̀ʉ̀ ndhī ɑ́ lǎh lʉ̀ʉ̄ vǎm zʉ̄ʉ̄ mʉ̄ɑ̄lū\\' ngɑ̌ mɑ́ nshwìè mʉ̀nzhwīē mfhʉ̄ līē\\' fhʉ̄ tō\\'sī ntōm ngɑ̌ cáhsí tɑ̀\\' mfɑ̀\\' lě mɑ̀njátlɑ́ lā nnǒktū mǎ sàh pɑ́\\' nkwěn nə̀ə̀lāk [sá\\'lāk] lɑ́ cícātlɑ̄ cícātlɑ̄ mbɑ̀ ǎ mɑ́ tɑ̀\\' ntâ\\'ntēē mbù\\'ndhī nɑ̂\\' mbìyā\\' shʉ̀shʉ̀ɑ̄\\'pō cɔ̀ mfʉ́ʉ́ ngà\\'pè\\'è fìíndʉ̄ɑ̄/fìfííndʉ̄ɑ̄ pó sɔ̌ sɑ̌\\' nɑ́ mōō nǔ yāā tɑ́ ǎ kòntē\\' ngòò lɑ́ shwī zhínù tēnɑ́ ɑ́ ncòh nsíé mɑ̄nzhǐ mbú ò nzhìè làh nní mɑ̀nkō ā zʉ̀\\' yɑ̄ɑ̄ tɑ̀ ǒ zɑ́ wúzɑ̄ ɑ̀ ntʉ̄ɑ̄\\'nkwàà nkǎ\\'nkà\\' ngɑ̌ fɑ̀’ tɑ̀’ ngɑ̌ fɑ̀’ tɑ̀ kēēmbʉ̄ɑ̄ ǹ sī mɑ̀nkwá\\'sí pɑ́\\' wò lɑ́ bɑ̄ lě\\' nù ǎ nɑ̌h mbɑ̄\\' ā l\\'abandon du pouvoir n\\'est pas une faiblesse mɑ̄shìè mɑ̄sɑ̄h ntə̄\\'ntà\\' zúvʉ̀fī kɑ́ tɑ́ ó kònzāmsī ī pàt ntō\\' mbə̄ə̄ lɑ́ mbɑ̄\\' shwīē nī lɑ́ yáá sə̀h nkɑ̄ɑ̀hù yáá mbɑ̄ wú pɑ̀h pʉ̌nzhwīē bɑ̄ mɑ̄ndə̄ə̄ wúzɑ̄ nzênshì ngà\\'kà\\' mbǔ\\'nkèn ngà\\'mbhǐ ǎ sǎtnkòò nì fǒb ngòò tɑ́hfʉ̀ mbɑ̄\\' ō ndābɑ̀ lɑ̌\\'nnū ndɑ̀pɑ̀\\' těndʉ́ɑ́ mbɑ̄ mɑ́ ngǎ\\'vɑ̌h nzhwìàwènòk yā\\'hwīē capitalisme ngáp khʉ̄ɑ̄\\' mbòm ǒ mfhʉ̄ hɑ́ hèè ntʉ̄ɑ̄ kɑ̀\\' nǔ ndə̌b à ǎ sǒ nkúɑ́ tú ì ngɑ̌ mbéé mvʉ̄ɑ̄ nnūngùh ǎ ghèn mɑ̀ ghēē mbā\\' lɑ́ ncīī pɑ́\\' hùɑ̀ lɑ́ nǔkɑ́ lī pí fīāt ǒ sì pōpsī wúsʉ̀ɑ̀ zǎ fǎm mbèè fǎmlɑ̄\\' fùā mōh lɑ́ ǒ fá\\' ngʉ́ tɑ̌ wū mbāt ghʉ́ ʉ́ mɑ̄ŋú mɑ̀ndʉ́\\'sí nkō\\' nshʉ̀ɑ̀ mī kɑ̀\\' pé\\' ǎ táá sʉ̄\\' ā mfɑ̀\\'kà\\' ǎ kó wū ā mɑ̀ ngʉ̀\\' ǎ mɑ́ tɑ̀\\' sēn ndéndēē ǎ mɑ́ tɑ̀\\' sēn mɑ̀ pɑ́ pō sāh nɑ́ ì pīē zǐ mɑ́ nə̀ə̀nzhwìè njā\\' mvēnɑ̀ ǎ hɑ̀ɑ̄ ndhī à yáá dū mǔ\\'zhwìè mbūànzɑ̄ fɑ̄h mʉ̀nzhwīē kō\\'sī yīīsì ndʉ̄\\' lɑ́ cīcō\\'ò kʉ̄kāb ò ngɑ̌ pěhmbhì mbēn ō cīcō\\'ò pɑ́ ó cāh nsɑ̂\\'mbǔ\\'nkèn lɑ́ mbú á lǒnàm ngɑ̌ tʉ́ɑ́\\'mbó nɑ́ kōsì ò ngɑ̌ (mɑ̀)ngén mɑ̀ mfɑ̀\\' nò\\' shʉ̄ɑ̄ ŋó\\'nkòò sēnsì cwáhnshǐnɑ̄h ŋwɑ̀\\'nǐ nkhǔndʉ̄ɑ̄ pʉ̂nkhʉ̀ɑ́ mbɑ̄ zě\\'è mfīāt háh pò\\' pǎh pò\\' faire des libations zīī zǒ pə́h ǒ nhé\\' tɑ̀ móó mɑ̀nzɑ̄ wúzɑ̄ ntìé\\' é ǎ lát ncō sīē sʉ̄\\' ā bɑ́ ǒ sì pūānkhù ǎ pén mbòò pō zāb ī à fī\\' mɑ̀ ndàk lì fǐtèn ngénɑ́ mǒ\\' mèhngɑ̀ɑ̀ (lì) mbə̄ə̄ mēn à hɑ̄āpìì ngâ\\'nǔsīē ǎ mɑ́ tɑ̀\\' kôntá\\' ntʉ́ɑ́ngwě\\' pɑ̌mfí\\'kè\\' pɑ́\\' ntāk yāā mbɑ̄’ ngǎ’nà’ yò wúpíéndɑ̌h mbɑ̄ mɑ́ kɑ́ nkō\\'sī tɑ̀ nǔkɑ́ á mɑ̀ngé\\' ē ǒ péh hùlòh nní nā ngɑ̌ mɑ̌\\' ngwèé mbú ò pʉ́ɑ́ ǎ fābɑ̄ yǐ ǹ sī mɑ̀ngēē nō bɑ̄ njɑ́h thʉ́ sīē sòhnsè\\' yɔ̀ɔ̄ nshì lɑ́ cīcō\\'ò yáá mbɑ̄ nɑ́ ntʉ́ɑ́\\'ngwě\\' pɑ̌mfí\\'kè\\'è pɑ́mɑ́fə̀ bɑ̄ mɑ̀ pó ghʉ̌ ndū tɑ̀ njə̄ə̄ mbɑ̀ mvàk yì yāā sī nɑ́ nkǎ\\' shʉ̀ɑ̀\\' lɑ́ bɑ̄ yáá ndéndēē mbɑ̀ mʉ̌ pén ó tɑ̀’ pèn sɑ́\\' pə̀pē\\' pèn sɑ́\\' mbə̄ə̄ pó lɑ̀\\'sì á mbhǐ ngə̀\\' yāā dìé nhɑ̄ pō mɑ̀ ngɑ̌ nsɑ́\\' ǎ sí lə́ə́ndʉ̄ɑ̄ ngù\\' pʉ́ɑ́ sì zī nɑ̄\\' ntēnɑ̄ pʉ̀ɑ̀ béé mɑ́ yǐ wɑ̄ nò\\' làt ngòòmbōk/kú\\'kà\\' ǎ mɑ̀ hɑ̄ mbɑ̀ fà\\'á à lɑ̀ yá\\' bɑ̄ mɑ́ wūnèhē sɑ̌\\' ń ngèn ndɑ́\\'sí ō ntámndʉ̄ɑ̄ ō/tô\\'ndʉ̄ɑ̄ ò ntó mbɑ̄ tě\\' vàm mbɑ̄\\' ō ndābɑ̀ sóh cō zə́h à nù lɑ́ pīh pó ngóó ncə́\\' thʉ́ shʉ̄ɑ̄ mɑ̀ ǎ mɑ̀nkɑ̄ɑ̄ shʉ̄ɑ̄ à lēn mɑ́ á mɑ̀ncāk nkèèsāk pɑ́ ǹ ndə̄ə̄/nnā\\' nkwèè ntīē zúzɑ̄ vǎm zʉ̄ʉ̄ mbǎk ló tɑ̀ nshùndʉ̄ɑ̄ hê\\' ò lɑ̀lə̌ndʉ̄ɑ̄ sēlɑ̄ ɑ̄ zɑ̄ wǎ\\' mɑ̄ ŋ̄h pó nshú’ nsè’ nkwèè līē’ ngǎ\\' ǹ kɑ̀\\' zhī bɑ̄ nkēèzū ǎ fàmɑ̀ tɑ̀ nsɑ́\\' ngáá tāb ā nzhìnzhì lě mɑ̀ngát lā ǎ yú\\' wū yì ǒ lén lɑ́ tɑ́ mɑ̀ ǎ mɑ́ mbǔ\\'ntōk mbʉ̀ɑ̀ mēē fə̄h ā fɑ̄h ā nàb sʉ̄\\'ʉ̄ bê mɑ̂nì ntòhō kɔ̀ bá lōhsī mɑ̄vǒ tìē ngòfāt pʉ̀ ntèn nɑ́ kɑ́ nɑ́ kɑ́ wū pó tōō kòlə̀\\' shʉ̀ɑ̀\\' zǎ ngwé\\'nkòò tə́ə́ mbàk pó lō nkɑ̄ɑ̄ bǎ ndʉ̄ɑ̀kòm càmsǐ nzhìè fɑ̌hnzɑ̄ tɑ̄ ngén ndʉ̄ɑ̀kà\\' ngɑ̌ ghʉ̌ ngǔ\\'nzɑ̄ ncɔ̀ hə̀ə̄ mɑ̀ mʉ̄mbʉ́ɑ́ ndâ\\' ncābɑ̄ mʉ̀nzhwīē lɑ́ ngə́ə́sí ndū ì tɑ̀\\' sɑ̀\\' nhɑ̄ zí\\' mbú á lɑ́ nkhǔndʉ̄ɑ̄ kə̄bsī mōō lɑ́ á dīē yáá ghʉ̌ tɑ̀\\' ngɑ̀ɑ̀ yέέ ntāmsū\\' yáá tāmnthʉ̄\\' sìdīēmbwèn sɑ̀’ nsóh ndhímōō lè nǔ ndʉ̀\\' nshǐ\\'nshì\\' kǎmwèn kàmntú\\'wèn njʉ̀njāk kʉ̀khʉ̄ɑ̄ zə́hŋwɑ̀\\'nǐ nzhǐntə̄\\' mbə̀\\'mbə̀\\'/mbè\\'mbè\\' cà\\'sǐ pɑ̀mbɑ̄\\' lǒm shʉ́ɑ́ mɑ̄vǒ zàb ā fhʉ̄ līē\\' yì ò lɑ̀tʉ̄ɑ̄ nɑ̄h mǒ nɑ́ á lɑ́ ǹ sǐ\\' nját ndīē nzhī bɑ̄ mbə̀\\'mbə̀\\' (cômsǐ) líé\\'zī mbè\\'mbè\\' líé\\'nzɑ́zī autre graphie de mbēē fàmsī mōh ngɑ̌ lɑ̀\\' ō tɑ̀ mbênsīē pěn vɑ́h yēē è póómɑ̄ ō pó nǔ\\' njɑ̀ɑ̀ bì pɑ́\\' nhá\\' mōō lɑ́ bɑ̄ yáá ghɑ̀\\' tɑ̀\\' ǎ ghʉ̌ ngʉ̀\\' nshʉ́ɑ́ ā kwàà zǐ lò sɑ̀\\' nzhíísí ā lɑ́ cīcō\\'ò ǎ fíí í ngòò lɑ́ kwě\\' nàh nníá pōōmbā\\' pó ntīh wū mɑ̀ yáá ŋō\\' càmɑ̄kò nǔkɑ́ pàksì kɑ̀’ fhʉ̄ mbɑ̄ mbú ò ngɑ̌ céh ī ǎ lɑ̀ pīī nshú\\'sí ncwàt yōh pɑ́h í yù\\'sì ndhī ò pó lə̄ə̄ tū ā mʉ̄ɑ̄ngáp kòmfámsí vōbɑ̄ mfɑ̌’ fhʉ̄njə̄ə̄ bā zě’è ǒ ngén mɑ̀ hɑ̄ ntìé’è nsá\\'ntèn pó cǎh kòm à mɑ̀ ǒ làh ndēn mɑ́ kɑ́ mēmmɑ̄ ò ne pas confondre avec son quasi-homonyme lɑ̀ɑ̀sì kèēlʉ̀ʉ̀ ngǎ\\' ǹ kɑ̀\\' yū\\' cə̀\\'/cwè\\' (bɑ̄) ǒ zɑ́ tɑ̀ yāā kū\\' ú ngɑ̌ mɑ́ sên ŋwɑ̀’nǐ mēn ò ncɑ̌’nì ǎ yá\\' ghèn tɑ̀ mvá\\' nā ì nhá\\' ncə̌zɑ́ngū\\' njēē ngʉ̄ɑ̄\\' faire les affaires ŋ̄h ghèn njóm mɑ̄ ē accélère le véhicule ncwέέnù ǎ mɑ̀nkōō tū ī ŋwɑ̀\\'nǐcwě\\'mfɑ̀\\' nkák nkàp explication mbūànì cīcō’ò yēē pí njû’nì sɑ́’ nnā’ wúzɑ̄ lè yāā kɑ̀\\' pé\\' làh ngwɑ́ nsɑ̄\\' ôhó mbɑ̌ mēngābɑ̄yū\\' à on ne peut plus ndèn ò yǎt sì shwī = ndèn ò yǎt sì lōh pó còh nsén ncwē\\' lɑ́ mbə̀pə̄\\' ncǒpsīē tómfhʉ̀\\' wèn nkwé\\'ndòh ngɑ̌ mɑ́ ncâkngà\\' lǎh ntìé\\'è wúɑ́ tōm ná à wúzɑ̄ lɑ́ kòndáb mbə̀pə̄\\' wúzɑ̄ lɑ́ pɑ̄p kwɑ̀\\' kɑ́ bê sī yǎ bɑ́ bɑ̄ ngén mfɑ̀\\' ǒ mɑ̀nkwé\\' làh nsíí í ngǎ’ ngɑ̌ ndɑ́’ yì bíí lì ghòōlɑ̀h ncāt lɑ́ lōhsī khǔ à mōō lɑ́ mbēn mbí mɑ̄ ā pí mbɑ̄\\' ā ò lɑ̀shwí mɑ̀ hɑ̄ nā ō sī mɑ̀mbə́\\' bɑ̄ í zēn nshì túnù sī nɑ́ í tɑ̄ nkōh bɑ̄ ǎ mɑ̀mmwēn ndū à kɑ̀\\' zhī zǐ njɑ̌\\'nkwè\\'nì ǎ fěn mfʉ̀ɑ̀ nī mbú á ndáh nníá lā ngɑ̌ mɑ̀njēēngʉ̄ɑ̄\\' tɑ̀\\' khʉ̀ɑ́\\' mɑ̀ntē\\' mbə̄ə̄ lɑ́ nzhwīē à ngǎ’ngòm yáá mɑ̀nnák zī mɑ̄vǒ ndāmɑ̀ ndə̀ə̀wɑ̄ ǒ vɑ́h zǒ mbèè mɑ̄ndīē nnák khʉ́\\'khʉ̄\\' yáá yǎh fūā nsǐ à ngɑ̌ cɑ̀’sì ō lɑ́ mēn à hɑ̄āpìì və̀hnǐ mbɑ̀wɑ̄lɑ́ ndə̄\\'sī ī kə̀ə̄ndù\\' ngǎ’ nā à mbɑ̄’ fə̌yò ǹ kɑ̀’ fhʉ̄mɑ̄nkwá’sí làh nhɑ̄ ō yá’ntʉ̄ bɑ̄ lɑ̀\\'sǐ nā ò ǎ mɑ̀nkēē ntámndʉ̄ɑ̄ ī nkwâtpè\\'è mbōòpè\\'è nɑ̄\\' nnāksī kɔ̀ bō lɑ́ kǎmnsʉ̄’ mɑ̄vǒ pó nzɑ̄ wúzɑ̄ tɑ̄ nsóh nā á sɑ̂\\' nə̀ə̀nzhwìè zʉ̀\\' ō mbɑ̀ɑ̄ndǒm mfōh cwàákhù = mbɑ̀ɑ̄ndǒm nshʉ́ɑ́ pɑ́\\' cwàákhù lɑ́ kə̌ mbǒ\\'nkhù phʉ̄ mbhʉ̄ ce qui correspond à l\\'expression française cáb ndàk mɑ̌\\' ghǎ\\'zú kò sī ndéndēē bɑ́ bɑ̄ ǒ mɑ̀ngóó ú nù bǎ kɑ̀\\' yām cwǎlák mɑ̀ngé’ yǐ kɑ́ wɑ̄ bɑ̄ nzàb ī nzhìèkú\\' mɑ̀nkō ō ó yōh pí ndū á sèèsì/ghɑ̀ɑ̀sì ngɑ̌ yá\\' mèè pó mɑ̀ndɑ́\\' ncà\\' hwīēsǐ táàvʉ̀ ngɑ̌ mfɑ́\\' līē\\' ntòhó nɑ́ ngɑ̀ɑ̄nzɑ̄ mbênmbòò yáá mɑ̀nnák zī mbɑ̄’ ō pó njū\\' nù pí ntōk lēn mbí mǒ\\' wèn kà\\' sí\\' ngòò ā lɑ̄\\' fáhtìè kwé\\'nkwā\\' fɑ́hnzɑ́ è pó cēh ō wɑ̄ bɑ̄ ngʉ̌ tə̌\\'nù ǎ hwàà nzɑ̄ nù lɑ́ cāh wèn sǐ\\' nkhʉ́ɑ́ càb sì yū\\' bɑ̄ nhīā zʉ̀\\' ngɑ̌ zhí mbə̀pə̄\\'/pə̀pē\\' ǒ sì īmbát nsɑ́\\' yò mbʉ́ɑ́ ghʉ̀ lɑ́ pə̄h nzâknù 3 dì\\'sì ndí\\'sí cópntíé nɑ́ mbā\\' pí mʉ̀nzhwíé mɑ́ kɑ́ wèndǎkndǎk ngə́ə́ nùndéndēē ndʉ̀\\'nù mɑ̀ mʉ̀ mɑ̀ wěn ngʉ́ kə̀ə̄ pʉ̌nzhwīē ngɑ̌ nkwé\\' tòō mbɑ̀ɑ̄nshì nshʉ́ɑ́ mbɑ̀ɑ̀ ɑ́ pɑ̀mfhʉ́sīē yō\\'sī ō ó tō\\' mbɑ̀kɑ́lɑ̄ ɑ́ yāā lə́ə́ pɑ́\\' wùwùɑ̀ lɑ́ ò kɑ̄\\' mfɑ́\\' mfɑ̀\\' ntèn mɑ̀ nkɑ́ɑ́ mbú ò ndōh ō nkǎmnkǎb kòlə̀\\' nshì lɑ́ nìì tɑ̀ nnēn mbīɑ̀zʉ̀\\' sū\\' ghʉ̌ nɑ́ mbʉ́ɑ́ yāā pǒ\\'kām mbə̄ə̄ lɑ́ mbɑ̄’ ò ngòòngǒ\\' kwɑ́ɑ́ ngò\\' kā\\' wúzɑ̄ lɑ́ pāh kɑ́ tɑ́ ó mɑ̀nkɑ́\\'/mɑ̀nkwá\\'sí làh ngʉ́ ntìè\\' ē hwīēsì ǎ nɑ́\\'sí nzɑ̄ wū ī ndā\\' zǐ ntè\\' mfāt njò\\' ká\\'sòh ngwāt pìé dʉ́ɑ́ ḿ fāt mbɑ̀ɑ̀ bò ó dìbà\\' ngòfāt ngɑ̌ tók tɑ̀\\' tók njò\\' ǎ fɑ́\\'sí ghə̀ə̀ pǎ\\' ngòò kwênsòm à béè pɑ̀h lɑ̌\\' sì ngʉ́ fà\\'á yòh tɑ̄h kōmsī mōō mɑ̄nì ndàm nkə̀\\'nǐ mbɑ̄ lʉ̄lʉ̄ɑ̄ hom mfʉ̌mfʉ̀ ò nǔ ghɑ̀\\'ndù\\' yə̄ə̄ bɑ̂ mɑ̀ ǒ ndʉ̄\\' yáá ntámndʉ̄ɑ̄ ngɑ̌ ntám mbūànì nā á pʉ̄ɑ̄\\'sī wǎ\\' pɑ̌h mɑ̀mbōh tɑ̀\\' mbɑ̄\\' ó cāk lò kīkēē táápà\\' zʉ̀\\' sī yǎt séé bɑ̄ ngɑ̀ɑ̀ thʉ̄ kǒ yāā lè ndáh ncāhnzhìè vàm zō lāh ntìé\\'è ǹ kɑ̀\\' yīī nī bɑ̄ yāā sī mɑ̀ngát lā bɑ̄ ncà\\' sī wū bɑ̄ pěn sì pōh sə̀ə̄wū wɑ̄ yà à wèn tá’ yī mēn à wèn shwīnā ì wěn sì pūānkhù mbɑ̄\\' shwǎ\\'tīē bɑ́ mbɑ̂\\' nkǎ\\'mfɑ̌\\' sāhndó\\' fī lè mbɑ̄’ ō pó nzī mɑ̀ lāhā mēnsə̀ mēn-wú mēndòk mēnfǐ ncɔ̀ hə̀ə̄ lǒk sómvēn ghèn só ndhîdīē ɑ́ póántòò viendrait de ghàm ghèn ngwáá mvī yáá fʉ̄ɑ̄ ghʉ̀ɑ̀\\' zǎ lò njâ\\' sá\\'ndʉ̄ɑ̄ ngɑ̌ tám ngáá tú ó mɑ́ tíklìklìklìklìk njû\\'nshù zén mbɑ̄’ ó mɑ́ lə́ə́ndə̀ə̀ thʉ̌ kwèlè\\' nnə́h wèn pō ngɑ̌ mɑ́ tɑ̀\\' nnìɑ̀ndʉ̄\\' ngɑ̌ mɑ̀mbʉ̄ɑ̄ɑ̄ mɑ́ mbàk lō ncô\\'zʉ̀\\' ntāmsīē ndàhsínù mvā\\'sī mɑ̄ ndám yātlɑ̄ pí nzī pěn vɑ́h yēē è póómɑ̄ ō mbɑ̀ fà’á sēn yēē ncɑ̌’nì sī sīē bɑ̄ ǎ ghěn kāāsì kǎ\\'mfɑ̌\\' kwèèsì ndɑ̀ɑ̄ ngòò á kǒcɑ̌\\' mbɑ̄ mɑ́ mɑ̄ndə̌nkhʉ̀ ngòò nzhwīē à nsì píífēn de kàm ncōnkà\\' se peiner se donner de la peine nǎ\\'ngà\\' nkôwū shwìí sēn ǎ kúɑ́ yò těndʉ́ɑ́ mɑ̀ lāhā mbâ\\'ngə̀\\' ngwàànə̀ə̀ nə̀ə̀sìmɑ̌\\' shù\\' sú\\' è ŋ̄h yáá pə̀psì kop mbè’mbè’ fɑ́hnzɑ̄ lɑ́ ngà’ŋwɑ̀’nì ngɑ̌ hòō nzhì yāā mfāt pō kɑ̀\\' láh nzī ī bɑ̄ à kɑ̀\\' láh yāā ntōm vàm ŋwàā nʉ̀nʉ̀ɑ̀ lɑ́ ngén ngwɑ̄\\' túfàt mēn làt ngʉ́ fà\\'á ndēn mɑ́ pó mɑ́ zûnèhē ǹ sǐ\\' ngə́ə́ ghə̀ə̄ fè\\'éfě\\'è mbə̀pə̄\\' bɑ̄ mbɑ̄\\' (à) yòh mbɑ̂\\' yòh ngɑ̌ mɑ̀ncāk làh nsɑ́’ ngúh mēn ò póónsì hɑ̀ɑ̄ tɑ̀\\' nshʉ̄ɑ̀ kwèlè\\' tàā lɑ̄\\' hìā ghòò nzhī ndēn mɑ́ ó kwè\\' ā á ǹ sǐ\\' nját … bɑ̄ ǹ sǐ\\' mbát … bɑ̄ c\\'est absolument faux ǒ mɑ̀nkə́\\' cwâhnā á ŋ̄h ngɑ̌ sǒh mbō ma᷅ ǎ lò kīkēē mfɑ̄\\'sī ghə̀ə̀ nsām ndʉ̄ʉ̄ = nsām ncà\\' ǎ lèè mbə̀pə̄\\' mbǎ\\'ghə̀ə̀mbɑ̄h nkɑ́\\' cícāt ŋ̄h mɑ̄vǒ ngɑ̌ yú’ sə̀ə̄ yāā ǹ sǐ\\' nnū ndù\\' bɑ̄ pʉ̀ɑ̄kà\\' ngɑ̌ ìntāt ló mʉ̀ ncō\\' shwì\\'ndɑ̀h nshǐ yóm càk ngɑ̌ ìngʉ́ ncēh ō ngɑ̌ ìncēh ō ntìē\\'mò\\' ǎ ngʉ́ njā\\'nthʉ̄ ndú á mfɑ́\\' pɑ́\\' sʉ̄ʉ̄ lɑ́ à sǐ\\' nját mfɑ́\\' bɑ̄ ǒ sì mɑ̄nkə́\\' lā\\' fà\\'á ncwènghòò pó mfɑ́\\' tɑ̄ nzɑ̄ pó ncāk tɑ̄ nzɑ̄ thʉ́ pʉ̀h sə̀ə̄wèn pʉ̀nǒk sɑ̌\\' kābsì ngǔ\\' è tɑ̀ njə̄ə̄ yáá sīē ngɑ̌ mɑ́ ngà\\'vʉ̌ nɑ́ zhínǔthítēnɑ̄ nzát mɑ̀ndám mʉ̀nzhwíé ndī\\' zī ntɑ̄\\'sī nkhù mī ngɑ̌ zhí ndéndēē mɑ́ ngɑ̌ ìnkú\\' nā wèn tá\\' yǐ nzát mɑ̀nnēēsī ā tōk á mɑ̀njóh mbhì bɑ́ wò ndhímóh mɑ̀nkō mɑ́ mbɑ̀ mvʉ́ɑ́ cù\\' ā tɑ̀ ngɑ̀ pōh wèn ŋɑ̌\\' ó nkə̀mbʉ̀ɑ́\\' ì ǒ sì cám nkə́\\' tú ì cīcō\\'ò mbɑ́ ó cāh sóh mbú á kìkén sʉ̀ɑ̀ tèèsísʉ̀ɑ̀ pó yòk í lə́ə́ndʉ̄ɑ̄ yà wúmǒ mɑ́ làh njū\\' yɔ̌nshì ǎ téh yì nzʉ́ yɑ̀ɑ̀ ngɑ̌ pók nshwī tɑ́ wúzɑ́ lɑ̀ pīh ǎ tɔ̌ mvī síé mɑ́ mbōò ngà\\' ngʉ̀\\' wǎ\\' póóngāp ghèn ntēn ngàk nàb ǎ píé dū mvʉ́ɑ́ kòmmá\\' nkwèn ī ncɔ̀ nshʉ̀\\' pōōpʉ́ɑ́ mɑ̀ nkhʉ̀ njə́\\' mbɑ̀ɑ̄nshì mvēn sɑ̀\\' nzhìè nshǐ mɑ̀nkō ō ó ngɑ̌ lɑ̀ɑ̀sì yēē ǒ və́h mbèè mɑ̄ngʉ́ kɑ́ sáhnù ntìmbhì 32 dì’sì nshǐ fàt nnʉ́ɑ́ tʉ̄ɑ̄ pɑ́\\' mʉ̀ lɑ́ fɑ̀\\' nhɑ̄ ā lɑ́ cīcō\\'ò ndè\\' mbìyā\\' ǎ cɔ́ nā í thʉ̄ ntʉ̄ɑ̄ nkālɑ̄ kùɑ̄ tɑ̀\\' nkà\\' nkwèè zhínù zǎ vá\\'sí nǔ shʉ̀ɑ̀ ā lɑ̌h yì báá lɑ́ ngɑ̌ pén ó mēn à nǔ mɑ̀mbə́’ ā tɑ̀’ ghèn nsóh nā ò nsɑ́’ nzɑ̄ wúzɑ̄ nǔ\\'shʉ́ɑ́ pə̀\\' nshʉ́ɑ́ pèènēhē pó ncēh béé wū lè mɑ́ kɑ́ ghǎk lū\\' ndū á cāk lò kīkēē (kūɑ̄) cǎmngwéé kə̌\\' nàh nsɑ̄\\' pʉ̀ yə̄ə̄ fhʉ̄ líé\\'mɑ̄līē\\' ghèn nnə́\\' mōō lɑ́ kwēn crime abominable fə̀ nkɑ̌\\'lɑ́\\'khʉ̄ ŋə̄ə̄sī pō ō tɑ̀\\' mbòōkǒ mɑ́ lə̄ə̄ nkhʉ̀ tî cīcō\\'ò lɑ̀hsì ā lɑ́ nděn sēē nzʉ̂\\'nʉ̀ɑ̀ ngɑ̌ (fhʉ́)mɑ̄ ìmbát nɑ̄\\' sī m̀ fhʉ̌nzhī mɑ̀ ngɑ̌ pàt nɑ̄\\' nsī pʉ̀ɑ̀ zǎ ngɑ̌ sàh mvǎk tɑ̀\\' mɑ̀\\' mbìè ncɔ̀ tî mɑ̀ mʉ̄ntòhō nthínā á tɑ̀\\' mɑ̀\\' mbìè ncɔ̀ tî mɑ̀ mʉ̄ntòhō nìáh ń njēē conjugue au présent mɑ̄vǒ fǎ’nzhʉ̀ɑ̀’ ngɑ̌ púá zě’è tɑ̀’ pɑ̌h nàk tɑ̀ ncō mə̄msī nə̄h mǒ mʉ̀nzhwīē lɑ́ mɑ́ mɑ̂nì nzhī ndēn mɑ́ á ghʉ̌ póónì ndə̄ə̀nsì wèn lɑ́ mɑ́ yàā lèn mbā\\' lɑ́ kònhóósí nɑ́ béé tə́hnzɑ̄ lè ntə̄h ndʉ̄ɑ̄ pō sǐ\\' mfāt phǐ lə́ə́ndʉ̄ɑ̄ mbát ndʉ̄\\' bɑ̄ kàmkǎmnkà\\' ngɑ̌ mɑ́ pǒ\\' móó mbí mɑ̄vǒ tʉ́ɑ́nkātlɑ́ sɑ̄\\' sōā pí sɑ̂\\' nə̀ə̀nzhwìè ǎ thí pīē nŋwâtlɑ̄\\' cf mɑ̄njə̀\\' lōh lɑ̀\\' fōh wūɑ̄ fɑ̄h ā fɑ̄h zǎ ngɑ̌ mɑ̀nshwīē zhínù zǎ ǹ njǎt mɑ́ nshwìèwèn ǎ fá\\' nzɑ̄ fǒp mbèè yáá ncāk mɑ́ pó tòōngǒk těn ǐ nɑ́ mfɑ̀\\' sìpē\\' mī ngɑ̌ (mɑ̀)ngén mɑ̀ wú nkōòtū ngwɑ́ sʉ̄\\' shìīndʉ̄ɑ̄/mfʉ̀\\'ndʉ̄ɑ̄/mfʉ̀\\'pè\\'è/sáhndʉ̄ɑ̄ sɑ̀’ sɑ̌’ séè lè ǒ sǒh nkā’ á cǎk mvī elle a accouché un enfant de quel sexe ǎ fá\\' ngén mʉ̀ nkòò nǎ mɑ̀ncōhsī ngòò nzhīè\\' pèn fhʉ́\\'sí nā yèè pɑ̀ŋwátlɑ́\\' mɑ̀nsɑ́\\' ngɑ̌ pén ō mōònkō\\' à pǎh vʉ̄\\'ʉ̄ nkɑ̀ndǎk mɑ́ tāā njǎ\\'ngò mbʉ̄\\' ngə̀\\' ngɑ̌ zhí ndíndēē mɑ́ á kwè\\' ā pó lǎh yɑ̀\\' ò nshʉ́ɑ́ ò lɑ̀kó nzhwīē à ngɑ̌ lí\\' dhǐ kò mbàk ŋwâh ncə̀ə̄lò\\' pɑ̌mɑ́njwě\\' péésí nɑ́ ncwē\\' nzáb ī ngòòngò\\' ǎ fát làm sēn à ngà’sə̄ə̄ ngɑ̌ mɑ̀nkwá’sí làh ngén hwīēsì tɑ́’ nkɑ̄ɑ̄ sī mbú á bɑ̄ mʉ̌\\' nù\\' ā wǎ\\' ghə̀ə̀ zǐ mbóm nɑ́ ngʉ̌nù mǐ ǒ nsī mɑ̀ hɑ̄ yà fìē mōō ngɑ̌ ghěn lɑ̌h mɑ̄vǒ ndāmɑ̀ sɔ̌ nzòk mǒ sīē mēmmɑ̄ ò yòk kwɑ̀ bɑ́ ǒ sì mɑ̄nkə́\\' līā\\' fà\\'á tákntʉ̀ntɔ̀ ǒ sì mɑ́\\' mbǎ\\'zɑ̄h ó sê ngám kòndīē mbòm mʉ̄ɑ̄kā\\' ǎ pá\\' nàm lɑ̀tʉ́ɑ́ nshwīē\\'kò wókmɑ̄kùɑ̀ fóh cāb ī à lɑ̀ŋwɑ̌\\' ŋwɑ̀\\'nǐvɑ̀h zǐ tɑ̄ nkūɑ̄ nkhǔ mbā\\' lɑ́ ŋāāsī ǎ mɑ́ nkǎálɑ̀ tàátō\\' ntó mvī ǹ kɑ̀\\' kwé\\' ŋó\\'ŋō\\' mbə̄ mēn à ngɑ̌ mɑ̀ngʉ́ɑ́\\'sí mōō lì ǹ njǎt sì ghʉ̌ nkɑ̄ɑ̄ làh ngʉ́ yāā nsí\\' ndɑ̀ɑ̀ nzhwīē á mɑ̀ zʉ̄ sôg kə̀nà = nɑ̂\\' mbìyā\\' tɑ̀ mó’ līē’ lɑ́ yì mɑ̀ síé pēn lɑ́ ndɑ́hsí nkhù mǎ kúɑ́ ǎ mbə́ə́ nù tɑ̀\\' ngɑ̌ nkwé\\' fɑ́h à tɑ̀\\' tɑ́\\' à mɑ̄mbéé nā ǎ fɑ́\\'sí ndó ngénɑ́ ndʉ̀\\'nù mɑ̀ tɑ̀\\' sìzɑ̄ngwá\\' mbɑ̄ tɑ̀\\' wèn sìnkù\\'nì zɑ̄ tɑ̄ njīī ngɑ̌ mɑ́ nsâhzū/nsâhnkɑ̄ɑ̄ nǎknzɑ̄ yáá nɑ̄\\' ngʉ́ càmwé cāk ó sê làhndó ntìé\\'è nkhʉ̌nkèn nǎ mɑ́ nděn sēē mbǎk mɑ̀ndō mvén nìàh lɑ́ ɑ̀ ndə̄\\' tɑ̀\\' ntōk mǎ sǐ\\' nnēē njū\\' wū sīnjāb sīnjām yáá zhʉ̄ʉ̄sī ā kā\\' zǎ ndhī nkǎ\\'nkà\\' je ne vais jamais t\\'abandonner ngɑ̌ ìnzɑ̄ wúzɑ̄ mɑ̄vǒ lɑ̀kùɑ́ ǎ lɑ̀ lēn mbú á mɑ́ cə̄ə̄ ngwāh ngɑ̌ yéé nzhʉ̀ sìpə̀\\' nnēē les mɑ́nì se distinguent par le ndùānì pʉ̀ shīā shīā pʉ̀ wěn sì zhʉ́\\'ntěn nɑ́ wū mɑ̀ yáá shʉ̀ɑ̀ ī ǎ lén á ntēē zě\\'è tɑ̀ túfhù kō ā cákngǎ\\' nzhwìàwènòk khʉ̄ɑ̄\\' mbù\\' tɑ̄ nkō\\' sa belle-mère a mal accueilli l\\'idée de mon mariage avec cette fille nshʉ̀ɑ̀ mǒ pə̀\\'/pè\\' nkɑ̄ɑ̄ bà ndʉ̄ɑ̀zɑ̄ mvʉ̀\\'kwēn ń hɑ̄ kɑ́ mbú ò ngǎt pò\\' nsí\\' ndā\\' bɑ̄ sǒ ndhī ó ɑ́ pɑ̀h shʉ́ɑ́ ngwá\\' cōh nɑ́ nɑ̄\\' nɑ̄\\' lɑ́ cōh ghèn mbə̄ə̄ bī ǎ kòngé\\' ngà\\'mbhì zʉ̌\\'pīɑ̄ ǹ dɑ̌\\'ngʉ́ ncōh ŋwɑ̀\\'nì nkwèè līē\\' ǎ nkwé\\' làh nnénsí wèn yə̄ə̄ pɑ̌nèé kə̌\\' nàh nnēē pʉ̀ ngǎ\\' nā à mbɑ̀ túnā ó zhī mɑ́ yāā sī fà\\'á bɑ̄ pōō mbǐ nkíkén tɑ̀\\' nthʉ̄ á kònŋwā\\'sī nǔ mɑ̀mbé\\' ā sǒm nā mǎ mɑ̀nkō\\' mbí\\'fōh sìnì wèn yáá lēē zǐ sēn à ngǎ’ndə̀ə̀ ntōk mǒ cə́ə́nzěn fʉ̀ mbɑ̄\\' ó mɑ̀mvén mɑ̀wǎ njɑ̌\\'nkwè\\'nì nshù í kɑ̀\\'sì ngɑ̌\\' nzhwè nú zāmsī těn thʉ̄ ŋɑ̄\\' njɑ̄ɑ̄ ntám ndʉ̄\\' nǔ mɑ́ mó\\'mvàk táàvʉ̀ pɑ́ pō fɑ̂\\' ngāā zɑ̄ɑ̄ lé\\' mɑ̀nkō ā làh nsóh nā à ǎ nshīī pɑ́\\' fēn lɑ́ cōptúzén nsìèzʉ̀\\' cōptúzén ndɑ̀\\'sì ngòōmvī pɑ̀nswììpè\\'é mɑ̀nsíésí ndòmpè\\'ē pēnɑ̄ sâktēnɑ́ tʉ̄ɑ̄nkhǔsīē mênsʉ̄ʉ̄ \"11 nkhʉ̀ɑ̀nʉ̀ɑ̀\" còkǒntʉ̀ɑ́\\' mɑ́ mbù\\'mbhì yòh thʉ́ shʉ́ɑ́ndāk ngén sʉ̄\\' zɑ́hnkhʉ̄ɑ̄ báá mbʉ̀ɑ̀ ntīì ngwǎ\\' nàm sʉ̄\\' bê ntə́ə́thʉ̄ mɑ̀ nə̀nə̀ə́ nā ntēn mbhì ncà\\' mbēn mɑ̀ pō lɑ́\\' wèn ncà\\' (n b pǎh nā à fùfùà lɑ̀nǎm mvēnɑ̀ nkwěn mvʉ̄ɑ̄ nzɑ̂ kǒmlàm sɑ̌\\' pɑ̀h móó ŋ̌h nsìèsì mfʉ̀ɑ̀\\'cɑ̄\\' ǎ nàk mɑ̀nkhù nàh ndó mbèè tɑ̀ nkóm fà\\' ǎ fóh ī ndèhsìyèh ngə́ə́ pí nzī tʉ̀ɑ̀\\' tʉ̀ɑ̀\\' mbɑ̌ sīē yáá khʉ̄ wā\\' ǹ kɑ̀\\' ghén ŋwɑ̀\\'nì zě\\'è thʉ̌ nzʉ̄ mɑ̄ŋū mòmòshʉ̄ sên mɑ̄ghɑ̀ɑ̀ (yì mʉ̀nzhwīē) hɑ̄-nkō ngɑ̌ sěh zhʉ̀ɑ̀\\' nkɑ́\\' nsè\\' mɑ̄ŋū nkùɑ̀nʉ̀ɑ̀ sòm mbɑ̄\\' ó sɑ̀\\' hwīēsī nā ò nhèènù ywát mbā\\' yēē pí wɑ̄ bɑ́ ɑ̄ mbɑ̌ hɑ̄ lɑ̄ nàm tʉ́ɑ́ mɑ̀ ngɑ̌ ngén kò ngɑ̌ ngén cwāh nshǐnɑ̄h mǐ ngɑ̌ ngén sēnsī ī ghèn nnʉ́ɑ́ɑ́sí kwéndʉ̄ɑ̄ ò ǎ ghè\\' tɑ̀ nzhì ì shīē\\' zǎb nā ò ngòpnə̄h sáhnù ntìmbhì ncɔ̀ nshʉ̀’ ǒ mɑ̀ hɑ̄ mə̄b pō ō ngɑ̌ lə̀h nàh nsōk ō reine reine-mère à ne pas confondre avec nzhwīèfə̀ ǒ ìndī\\' mèhsǐ béé sìèsì lè mɑ̀ ǒ zhí mbʉ́ɑ́ làh ntə́\\'sí yì mɑ̀ wěn ntèn lɑ́ ngɑ̌ cɑ̀’sì ō lɑ́ mēn à ca᷅mnà’ mbǎk shùɑ̀ ŋ̄h yáá pòm ngà\\'kǎ\\' sɔ̌ ntó nɑ́ à tə́ə́nkɑ̌\\' pɑ́psí ǒ ìndī\\' mèhsǐ béé sìèsì lè mɑ̀ ǒ zhí mbʉ́ɑ́ làh nté\\'sí mbát nsōk líé\\'nzɑ̄ njók sō njéh tú wèn mbɑ̄\\' ó lò kīkēē nkúɑ́ nìnì ngáp nkáksí ntìè\\' yì nzhìè khʉ̀ɑ́\\' mɑ̀nkō ī lɑ́ móó mɑ̀nkám ī mbé\\'ntìè\\' mbàk lō njók sá\\'ndʉ̄ɑ̄ nǔkɑ́ écrivain sí\\' ò ghʉ̄ fà\\'á fǒb yàt nònòk njò\\'ndāk mbɑ̄’ ō pó njéh mɑ̀ lāhā ghòō těndʉ̄ɑ̄ kàā là\\' kàmtú\\' wèn mēnkàmtú\\' wèn táàkàmntū\\' sáhnù ntìmbhì ncɔ̀ pʉ́ɑ́ ǒ mɑ̀ngʉ́ kɑ́ kɑ́ tɑ́ ó mɑ̀ngʉ́ ʉ̄ ǒ lò\\' á vǎm ò kāhā nnú\\'nshǔ wèn lǒ\\' pō ó ndǒm à ngǎ\\'kǒ tóh nkɑ̄ɑ̄ bǐ mbú à mbɑ́ yáá lɑ̀ bɑ̄ nkhù ntāā kɑ́ tɑ́ ó ngʉ́ ʉ̄ ǹ kɑ̀\\' ghʉ́ sə̀ə̄ mōō (bɑ̄) mbè\\'mbè\\' líé\\'nzɑ̄ nsóh sùà sáhwú njáhlēh tɑ̀\\' làh nsɑ̄\\' ndʉ̄ɑ̄… / mbì\\' … (cf mbí\\' porter une lourde charge) pó yɑ̄\\' ncà\\' wû lɑ̀hsì á nɑ́ côh/tóhndɑ̀h ǒ nsī mɑ̀ nɑ́ yàā lɑ̄\\' ngɑ̌ púánkhù ngɑ̌ wɑ́\\' hù ncə́\\' yɑ̄\\' kɑ̀ɑ̀ lěn cɑ̄\\' lòmsǐ nɑ̄\\' \"5 njwēnɑ̌hntà\\'\" ndáh ghə̀ə̀ hwīēsǐ ntìē\\'lòm ǹ sī mɑ̀njīī ŋwɑ̀\\'nǐndhʉ̌lɑ̄\\' zǎ bɑ̄ ǒ ngʉ́ ngʉ̀ngɑ̀\\' yə̄ə̄ sìīmòò zhínù zǒ kɑ̀\\' lōh ǎ fhʉ́nshʉ́ɑ́ tɑ́ khʉ̀ɑ̀\\' tə̄\\' cáb thʉ̄ cáb kè\\' mbɑ̄’ ō bɑ́ ngén kò ntʉ̄ʉ̄ nʉ̀ɑ̀ nkɑ̄ɑ̄ kàfī ngwáá nzʉ̄ nsū’ ndáh ngʉ́ mvāt nshwí’nā yʉ̄ɑ̄ bɑ́ nhɑ̄ nkɑ̄ɑ̄ ŋwɑ̀’nì à ŋ̄h ngɑ̌ vɑ́h yā mēn à hɑ̄āpìì mə̄msī pō ō fí vàvàà ngə̌\\' mfhʉ́ pʉ̀ njó tú ò zə́hŋwɑ̀\\'nǐvàp yì wû cʉ̄cō\\'ò lɑ̀hsì ā lɑ́ lə̀hsì ā mvàk yì ngɑ̌ ngʉ̀ ò pīɑ̄ bā lɑ́ wɑ̄ bɑ̄ nzàb ō ngǎ’ nā à mbɑ̄’ ō ǹ sǐ’ mfāt zǎ mbɑ̀ɑ̄ndòm bɑ̄ pʉ̀ɑ̀ zō ndìfʉ̀ kè\\'è ǎ vǎk nshì nsī\\' ngə̄ə̄ nzhwīèmvʉ̀\\' pɑ̌póántòó nzhī nàh ndáh ngèn fʉ̀fʉ́\\'ʉ̀ wèn ntū\\' ncîcāt ndìfʉ̀ ntábnò\\' cɑ̀ɑ̄nshù kɑ̀\\' pé\\' sí wū pè\\'è yòh bɑ́ sìyū\\'ntə̄h lɑ̀yǔ\\' ngwě\\' pɑ̀mfhʉ́pʉ̀ nɑ̄h ngòfāt lɑ́ pʉ̀ɑ̀ ǒ pìí kǎbsāk ò lāh ngén nhɑ̄ mbí mbɑ̄\\' ē ndáh nkú\\'ní ī háhnì sáhwú njáh tɑ̀\\' ngāā ntīì tābsī ā mbìyā\\' nnûndɑ̀pɑ̀\\' lǒ\\' pō ó ndə̌b à mvā\\'mvá\\' nù nnú\\' tɑ̀\\' sʉ̄ʉ̀mfɑ̌\\' mɑ́ tɑ̀\\' wèn mɑ̀ ǎ mfɑ́\\' pɑ́\\' sʉ̄ʉ̄ lɑ̄ ǎ láb nā ì nhwáá kàkāò ɑ́ ghǎ\\'mbàk vīāt lō tēn thʉ̄ ngòò nì khʉ̀ɑ́\\' kó\\' ngāp ngɑ̌ ghʉ̌ pōō pɑ́’ nshì lɑ́ pōō mba᷅ bɑ̄ yò sên mɑ̄ghɑ̀ɑ̀ (yì mbâ\\') terme utilisé pour déplorer la situation dans laquelle se trouve qqn ce qui correspond en français à l\\'expression yáá pè\\' nàh ngén ŋwɑ̀\\'nì wɑ̌ nhèè téhnkhù shwī\\' ā bɑ́ ndū á kōh ngǔ\\'nzɑ̄ nshʉ́ɑ́ ā zìàsǐ yāā ceci étant pour dire ngʉ́ kǎ\\' nɑ́ wèn mbʉ̂\\' nǎ\\'mbū\\' kè ǎ sɑ̀\\' kè à kɑ̀\\' sɑ́\\' ncáh ndʉ̀\\' nkō\\' mfī\\' nzák pó mfén yāā ncɑ̄’ pʉ́ɑ́ yà wúmòó mɑ́ làh nníɑ́ɑ́ khʉ̀khʉ́ɑ́tōm yɑ̄\\' mɑ̀ sê ǒ nsī nɑ́ yǎ zʉ̀\\' ʉ̀ il est plutôt sympa zə́hkhù báá wū sī mɑ̀njátlɑ́ lā mbɑ̀ nēhē bɑ̄ yáá mɑ̀ hɑ̄ síì lì kōsī ā lɑ́ cīcō\\'ò zhììsì ā lɑ́ cīcō\\'ò nù lɑ́ mɑ̀njwéh nā ná\\'ngō\\' mbə̀\\'mbə̀\\' cà\\'sǐ pɑ̀mɑ̄ zī\\'sī ndhī lɑ́ tə́ə́ mvát nā mvʉ̄ɑ̄ yìì wū yì ǒ mɑ̄ncāk lɑ́ báá = wū yì ǒ fhʉ̄mɑ̄ncāk lɑ́ báá ngɑ̌ ngʉ́ nnū nshì nkwèè mfɑ́hnzɑ̄ nɑ́ mó\\' zʉ̀\\' mɑ̄vǒ sī ntèn bɑ̄ vʉ̄\\' á mɑ̀njā\\' mɑ̄ŋū ntûmbhìngòfāt wúzɑ̄ lɑ́ pāh yáá sìpə̌\\'zɑ̄ zə́hnkhʉ̄ɑ̄ báá pɑ̀h cópsí nkɑ̄ɑ̄ ndáh njwēn kwā\\' mbɑ̄\\' ō ndāmɑ̀ mbɑ̀ kɑ́ lɑ̄ hǎ\\' yò ntɑ̄\\' ngɑ̌ ŋà\\' ngɑ̌ yóm/yə́b ngɑ̌ nkwá\\'sí ō nkwèè ntìè\\' ngǔ\\'mò\\' mfhʉ̄ mɑ̄ ē ò yìí nzhʉ̀ʉ̀ ò yīī nzhʉ̀ʉ̄ mbʉ̄ʉ̄ pɑ̌h dʉ́ɑ́\\' ncò lɑ́ kwɑ̀\\' nēhněh sī mfɑ̀\\' mǎ bɑ́ bɑ̄ en effet quand un homme fait un enfant avec une femme sans l\\'épouser ie sans la doter l\\'enfant revient de droit à la famille de la mère de l\\'enfant si vous souhaitez que l\\'enfant vous revienne alors la solution est simple nshù í lɑ́ɑ́ sī mʉ̀ bɑ́ bɑ̄ ncɔ̀ nshʉ̀\\' mɑ̀ ghāp mbā\\' lɑ́ ghʉ̌ nsʉ̀ɑ̀ píé\\'nkhʉ̀ còk hā nā ò nkə̌\\'ntēē nsɑ̂\\'ngə̌\\' shʉ̀ɑ̄\\' khʉ̀ proposition théorique dont on cherche à démontrer la véracité khù ā njwìà kū\\' mbókmvə̄h lǒhsām sə̌ cōp sī nā bɑ̄ mfhʉ̄ līē\\' mfhʉ̄ tɑ̀ līē\\' fǎb ngòò ǎ lǎh mōō nsíé wɑ̄ ǎ yǒh nshì pō tōō ngǒk těn ì à kɑ̀sɑ̌\\' wāhà ngɑ̌ mɑ̀nsát tū ā pʉ̀nǒk sɑ̌\\' kābsì tɑ̀ njə̄ə̄ wɑ̄ bɑ̄ ncǎh ŋwɑ̀\\'nì lè ǎ cá\\' khù ā yāātōm nsìèsì ngɑ̌ ìnsíí nshìāmbǎk tók mɑ̄nzhì ngɑ̌ mɑ̀ mfɑ̀\\' nàm sʉ̄\\'ʉ̄ béè yàā ndɑ̀h béè tēh wú nā ntǔ\\' ndù\\' fēn sǐ\\' mbɑ̄ nkò\\' nɑ̄h bɑ̄ expression correspondant en français camerounais à m̀ fhʉ̌ nzhī mɑ̀ ngɑ̌ fɑ̌\\' mfɑ̀\\' ma᷅ mɑ̀ ndɑ̀h/ntìè\\' nù lɑ́ yɑ̄\\' tə̄b mʉ̀ ndǒk à kɑ́ tɑ́ à lɑ̌’fɑ̀’ ghɑ̀\\' nshù tàbsí làt ndhʉ̌sʉ̄ʉ̄ mbǎk kònŋwá\\'sí yō\\'sī nkòò nà lɑ́ ngɑ̌ lɑ̀ɑ̀sì ō fǎk làk nsī nā mbʉ̀ɑ̀\\' ŋwān mbʉ̀ɑ̀\\' ndābɑ̀ wěn nzēn nshì mbə̀pə̄\\' pō tōō ngǒk těn ì ntōh ndʉ́ɑ́ mbí wèn mbɑ̀ mʉ̀ mɑ̀ yáá mbé\\' ā tɑ̀\\' sə̀ə̄ lò\\' sī nā bɑ̄ lǎh ŋwɑ̀\\'nǐcwě\\'mfɑ̀\\' mǒ nsɑ́\\' ǒ kònsī nshʉ̄ɑ̀ kʉ̀ʉ̀ móó yá\\' mɑ̄nnák títī yáá mɑ̀ lāhā mēn à ca᷅mnà’ nsə̀\\' mǎ mɑ̀njā\\' yáá fhʉ̀sì yáá sī tɑ̀\\' sì ǹ njīī nō mēn ǎ ìngʉ́ tām ngù\\' wāhà mfí tók wèn pɑ́ ǹ nnūngùh yāā sɑ̀\\' ntìé\\'è ntìè\\' ē yóknɛ̄ pɑ̄h á pěn còh mmóó sú\\' è pə̀pē\\' pó nshʉ́ɑ́\\' kwèlě\\' ntám pǎ\\' mvāt mʉ̀ lě yíí nzɑ̄ mó\\' mvàk ǎ pʉ̀ɑ̀ mɑ̀ fáhkò lǒ njàbsʉ̀\\' ɑ́ ndhímóh sì kō ō hǔ sáknā ngɑ̌ wɑ́\\' nkɑ̄ɑ̄ bà ǎ fhʉ́ nshʉ́ɑ́ nɑ́ yàā ndɑ̀h nnák ndɑ̀\\'ndɑ̀\\' culturellement lorsqu\\'on veut verser de l\\'eau chaude au sol on avertit d\\'abord mɑ̄nǐngwè\\' en ces termes cà\\'sǐ ngù\\'fī cə̄ə̄ ncāb ǒ sì cə̄ə̄ mɑ́ tɑ̀\\' ngɑ̌ kwɑ̀\\' tɑ̀\\' wūnèhē nshǐnɑ̄h tɑ́ ngɑ̌ mɑ̀ndáh ndōō lɑ̀hsǐ mbú ò fʉ̀ɑ̄\\'nshì ǎ mɑ́ tɑ̀\\' mbè\\'nthʉ̄ wèn ǎ ghʉ̌ mbè\\' nthʉ̄ hū mbǐ\\' nɑ́ tū ō yáá ncāk mɑ́ ń nshʉ̀ɑ̀ yáá mɑ̀nkwēn ā tɑ̀\\' ŋāmsì ngɑ̌ pén ō ngɑ̌ tám ngáá tú ò lǎh ngʉ̄ɑ̄ lɑ́ nkōh mvāt mbɑ̀ɑ̄ fhʉ̄ pú\\'nkɑ̄ɑ̄ yátlɑ́nshù nkā\\' mēē vàm zǎ mɑ̀ncō\\' ā mōō mʉ̀nzhwīē nǒktú ó cāt lēn mbí ngà\\'mbhǐ ò lɑ̄ mbí mbɑ̄\\' ē kwèlè\\' mbǎ pà\\' tɑ̀ nhé\\'sí fʉ̌\\' nā ò hwīēsǐ mɑ̄vʉ̀ pʉ̂nkhʉ́ɑ́ nkə́\\' nàh nshīē wū tɑ̀\\' ngɑ̌ mɑ́ njòhzʉ̀\\' ták nʉ̀ɑ̀ túkhù kísì nzhwīē á zhī nàh nnák nkwā\\' kɑ̀\\'sì vìātnshù bɑ́ ghèn lɑ̂ pɑ̀h lʉ̄ɑ̄\\' hǒghə̀ə́ nɑ́ ghə̀ə̀ yōh mmɑ́\\' ntɑ̄\\' ghʉ̄ghʉ́ mbɑ̄ sīsī mɑ̄ nsēn zʉ̀\\' mbɑ̂\\'kāā pó kònsɑ́\\' nshì fóh mɑ̀nkō tɑ̀\\' mfɑ̀\\' mǎ sī mɑ̀nnák pə̀pē\\' bɑ̄ túnù sī nɑ́ í bɑ̄ à sī mɑ̀ncá\\'sí bɑ̄ = nù sī mɑ̀mbé\\' ī bɑ̄ nàm pʉ́ɑ́ mbūànzɑ̄ béè (200 mbz) hēé wèn kə̀ə̄ mvʉ́ɑ́ kāā mbɑ̀ɑ̀ nzhìè lǒ kó ā tɑ̀\\' ndʉ̄ɑ̄\\'ncò ndò\\'nkɑ̄ɑ̄ ò kɑ́ bɑ̄ līē’ yì ǒ shwí lɑ́ nzhī mǒ\\' tʉ́ɑ́nkātlɑ́ ndēn mɑ̂ … shíé\\' nzhì mvɑ̄h wèn pō cɔ̀ nzátkwè\\' ngàm nkwēn ghʉ̀ɑ̀\\' zī ncà\\' sī wū bɑ̄ ò kɑ̀\\' ghʉ́ mbʉ́ɑ́ pēn ā ngɑ̌ ngʉ́ zʉ̌\\'nā mbʉ̂\\'pō cò\\' tū tɑ̀\\' mʉ̄ɑ̄ fùfùá sà\\'sǐ ntēè nkɑ̀\\' zě\\'è ngɑ̌ fát njò\\' mbə̄h nzɑ̄ njò\\' mɑ̀ pó lə̄ə̄ mbát mfāt mbɑ̀ɑ̀ kwɑ́ɑ́ngèè kwɑ̀ɑ̄ngèè ǹ sī mɑ́ nkìnkèn bɑ̄ ngɑ̌ mɑ́ tɑ̀\\' nzhînù gháp hù nsɑ̂\\'ncǎ\\' còh nsɑ̄\\' ncà\\' cʉ̄cō\\'ò lə̀ə̀sì ā lɑ́ ngɑ̌ hèè ndhîŋwɑ̀\\'nì mbè’mbè’ fɑ́hnzɑ́ mbú ó lɑ́ mbɑ̄’ ō ɑ́ yāā shʉ́ɑ́ nshǔ ò ngɑ̌ díé nshwìàlōh pó zhʉ̄ɑ̄\\' nzhì wèn lò mbǎ hɑ́ mó\\'mvǎk pʉ̌ yá\\' shʉ̀ɑ̀ mbɑ̂\\'mfɑ̀\\' pɑ̌\\'nù nā í kòndám ǒ sì mɑ̄njə́\\' fà\\'á tāk ntōk mǒ ncóh njū\\' khʉ̄\\' ntōk njū\\' kɑ́ bɑ́ mɑ̀ngʉ́ ō tɑ̀\\' zʉ̀\\' pɑ́ ǹ nnūngùh mɑ́ nzhwīē à lɑ̀\\' ghén mɑ̄ghɑ̀ɑ̀ sākngāp sâkngāp sāktʉ̄ʉ̄ sâktʉ̄ʉ̄ ncə́\\' khʉ̀ɑ̀ hə̀\\' ncátmóó mbɑ̄ mōōnkō\\' mēnkɛ̄ɛ̄ bɑ́ ntāb tú mvī ǒ sì cō mʉ̀ ngə̄\\' wèn sì mɑ̄ njâ\\'ghə̀ə̄ pénù mbə́\\'ntìè\\' mɑ̀ à fhʉ̌nzhī nkām mvàk yì ngɑ̌ nkə́\\' ī lɑ́ mɑ̀ ǎ pǎtnjǎm mbú à tə́ə́ shʉ́ɑ́ndāk nkɑ̄h mōō ǹ sǐ\\' nját mfɑ́\\' bɑ̄ kɑ́ á kòntéésí ī ngɑ̌ kwà\\' mɑ́ ngɑ̌ mɑ̀nhéé ndhī ó còh mbóm/mbə́p nɑ́ ò njóh ǒ ìndī\\' mèhsǐ béé sìèsì lè mɑ̀ ǒ zhí mó\\' mvǎk nɑ́ mbíághə̀ə̄ ntʉ́ɑ́ngwě\\' pɑ̌mfí\\'kè\\' ò mɑ̌ncāk làh nzhī zú ntʉ́ɑ́\\'ngwè\\' nshʉ́ɑ́ fě\\'è lè ò cāk yáá ntám pú\\'ŋwɑ̀\\'nǐ « ntǎ\\' nùfí » nɑ́ wū lè kɑ̀\\' pé\\' zɑ̄ pōō mbǒ mɑ̀ lāhā ǎ sǎ\\'ntèn mā kǒ nkhʉ́ɑ́ mbú á pɑ́’ vʉ́cɑ̄’ lɑ́ kǒ nkhʉ̄ɑ̄ ā bɑ̄ yò mbǎk vhʉ̀ mbʉ̄ɑ̄\\'mbō mʉ̀nzhwīē lɑ́ kwě\\' nàh ndáksí nɑ̄h ngə̀\\' sásìdê nkhʉ̄ɑ̀\\'nthʉ́ khʉ̄ɑ̄\\' nthʉ̄ ntʉ̀\\' ncɔ̀ tāā mɑ̀ ghām ngǎ\\' ò sī mɑ̀njū\\' bɑ̄ mbɑ́ ó lɑ̀ yū\\' pɑ́\\' ngɑ̌ mɑ̀njū\\' nā ā lɑ́ tɑ̀ yáá lɑ̀ táh tɑ̀ wú lɑ̀ thí nā kwɑ̀\\' ndéndēē ghǒnzhì ngɑ̌ mɑ̀nsī\\' nā à mbīē ntìè\\' nzhìnzhìè nzɑ̂nkōmó\\'/nzɑ̄nkómó\\' ǎ ngwābɑ̄ pɑ́\\' zʉ̄\\' lɑ́ de mōō ǒ mɑ̀njū\\' nā ò mɑ̀ lāhā ǎ pʉ́\\' hǔ nɑ́ càm pó ndǐ\\' nǎk nkà\\' mɑ̄ntə̄\\' ndə̄\\' ntû\\' ncîcāt lɑ́ cāt mbìēmbìè ghǎknkhù ǎ có\\' nkúɑ́ tú nzhwīē ì lī\\' fhʉ̄ ntēē mbāt lā sòh mʉ̄ɑ̄ngāp bíí kòmfhʉ́ɑ́ ntûmbhì tɑ́hnzɑ̄ khʉ̀ɑ̀\\'kō\\'khʉ̀ɑ̀\\' ǎ mɑ́ tɑ̀\\' mbâ\\' mɑ̀ ǎ shwí zhínù nzɑ̄ndʉ̄ɑ̄ dictature militaire pō lɑ̀zí ā mɑ̀ mbàngā leçon et nsìèsì ǎ kù\\' mɑ́ pō hɑ̄ ndìì lɑ́ mbú ì fʉ̀ sǐ\\' ngʉ́ nkō pó wèn bɑ̄ yáá mɑ̀mfōh pɑ́\\' ǒ mɑ̀mmwēn lɑ́ ngwé\\'tɑ̀\\' nŋɑ̄\\' nā ngà\\'ŋwɑ̀\\'nì wū mbǎ hɑ́ lōm mbōòcàk yɑ̄ɑ̄ pí fə̄h í mbɑ̄ njēn pʉ̄ɑ̄ tú ngà\\'ndə̀ə̀ lɑ̀cáh pə́ə́ndʉ̄ɑ̄ nshwī hwīē mēntə́ə́fōh ǹ sǐ\\' nját ngén ŋwɑ̀\\'nì bɑ̄ nnìɑ̀ mbǔ\\'nkěn-yīīsì ouvrez les parenthèses ( à sǐ\\' ncóh ncāb nā ī bɑ̄ móó mɑ̀nkə́b ī pí tōōsì pɑ̄ghòò ncâkngǎ\\' nɑ́ zúvʉ̀ fī le sable a absorbé l\\'eau nshǐ mbè\\' nǔ mɑ̀ntām ā sên nzhì ǎ ngwāb pɑ́\\' zʉ̄\\' lɑ́ mvèn mbā\\' yà wúmòó mɑ́ làh nníɑ́ɑ́ kʉ̀khʉ́ɑ́tōm pōō mbǐ ngʉ̄ɑ̄\\' tɑ̀\\' yáá mɑ̀nnák tə̀\\' ī ǒ sì cáh wěn mbhì mɑ̄ njàm nnó\\'nə̄h ngàm mbà\\' fóh mɑ̀ nɑ̄\\' nkō ǹ kɑ̀\\' zhī làh ntə̄h ndɑ̀ɑ̀ hɑ̄āpìì mbə̄ə̄ lɑ́ ǎ mɑ́ wɑ̌ mbú ò mɑ̄vǒ ndāmɑ̀ ncō\\' shwì\\'ndɑ̀h ǎ nə̌h mbɑ̄\\' ā ntōō sákpè\\'è mfàkŋɑ̄\\'ntʉ̄ɑ̄ hɑ̀ɑ̄ pɑ̀ɑ̄ ncə̀ə̀ nhɑ̄ mbú à fǒm mōh lɑ́ nthí nzhǐ ŋwá\\' sìyū\\'ntɑ̄h lɑ̀pìé kò mbǒk lɑ̀lǎh mɑ̄ ā ncáhnkèn wò yō ǒ ghʉ̌ ngǔ\\'nzɑ̄ sʉ̄\\'ʉ̄ yáá mɑ̀mfōh pɑ́\\' ǒ mɑ̀ngóó lɑ́ pɑ̀h yómsí zhínǔ pɑ̌lɑ́\\' nɑ́ ghòō fámyèh kōmsī/kə̄bsī kōmsī nā ò kōmsī nthʉ̄ ō tūpókwā\\' cô\\'fhʉ̀ mɑ̄ á mbé\\'nthʉ̄ ngwāh wèn ngɑ̌ mɑ̀nkə́\\' làh nkūɑ̄ púh ngǎk ò ngɑ̌ póh ndíkpè\\'è ndə̄kpè\\'è pè\\'è líklīk ǎ zhí nǔnkwè\\'nì yáá pè\\' mɑ̂ ngà\\'nŋwāt sɑ́\\' nkō pʉ̀ɑ̀ ī ǎ ghòòmɑ̀ wèn ò bɑ̌ mbɑ̀wɑ̄lɑ̄ ò hɑ̄ nkù\\'nǐ mbú à mɑ̄ŋū nkhʉ̀ɑ̀nʉ̀ɑ̀ kɑ́ lěn mōō béè nɑ̄\\' mbīɑ̄ tɑ̀\\' mbhʉ̄ cīcō\\'ò cīcō\\'ò nɑ̄\\' ntēnɑ̄ mbīɑ̀ mfʉ̄ʉ̄ nsùwèn nshì bê kɑ̀\\' pé\\' mbʉ́ɑ́ nū yì pó sɑ̀\\' lɑ́ khù ī nǔmʉ̀nzhwīēnshʉ̌\\' mɑ́ mbè\\' wū ú nàm vʉ̀\\'ʉ̄ fɑ́hnzɑ̄ nkɑ̀ndàk béè (900 fz) ne pas confondre avec ncwēh nǔ lɑ́ yàt lā ghèn mmɑ́\\'ndhí ná ò mbàk kà lō bɑ̄ ngɑ̌ mɑ́ tɑ̀\\' nsɑ̂\\'lə̀ə̀ ngɑ̌ mɑ́ tɑ̀\\' nsɑ̂\\'mfɑ̀\\' tènmvàk mɑ̄vǒ ngə̀ə̄nshwīē nshùndʉ̄ɑ̄ pɑ́\\' mɑ̄ nhíé\\' ā lǎh fhʉ̀ɑ́\\' nɑ́ sēn ò mēmmɑ̄ è yì mbâ\\' yǎt mɑ́ nshwìèmbâ\\' á kwèlè\\' mbǎ pà\\' tɑ̀ nhə́\\'sí mɑ̄ ngʉ́ si\\' fà\\'á ǎ nàk mɑ̀nkhù nàh ndó mbèè tɑ̀ nkə́b fà\\' fíá ndhī làh mmɑ́\\' ngwèé mbí wèn mbè\\'mbè\\' mbūànzɑ̄ ǒ vɑ́h yō ò mbɑ̀ɑ̀ bò nàm hə̀ə̄ mbūànzɑ̄ mbhʉ̄ pʉ́ɑ́ nkɑ̀ndàk béè (802 mbz) támndʉ̄ɑ̄/tô\\'ndʉ̄ɑ̄ conjugaison au passé lointain ghāksī nsɑ́\\' yáá ghʉ̌ tɑ̀\\' nàm sáhnù ntìmbhì 54 (pàtnjīī mfɑ̀\\') cɑ̀’sì nzɑ̌ léé ǒ sì fīīsī báá wú mbú à ǎ mɑ́ tɑ̀\\' shīyā\\' ngɑ̌ mfhʉ̄ mɑ̀ wú ngà\\'kà\\' mfāt mbā sáhnù ntìmbhì 46 ngɑ̌ mɑ̀nkwá’sí làh ndə̄ə̄ndʉ̄ɑ̄ kwéndʉ́ɑ́ lə́ə́ndʉ̄ɑ̄ ndʉ̄ɑ̀fínjòò ghʉ̀ɑ̀\\' zǒ pà\\' mbɑ̂\\' wèn njàm mbɑ̄\\' mēmmɑ̄ mbɑ̄\\' yì mbâ\\' líé\\'cômsì ntēn ǎ nshùnshʉ̀\\' pí túnā ì ndú á zǎk njǎb à nhéénzhì ghə̀ə́ ń njū\\' mbè\\'nthʉ̄ ngɑ̌ mɑ̀nkwé\\' mbʉ́ɑ́ yɑ̌\\' kwā\\' zō ngɑ̌ nkwé’ náhnshì tɑ̀’ ncám ncām pě\\'zīī nnâk mvī yāā yǎt sì pīh nnâkŋwɑ̄\\' nsī ŋɑ́\\'ŋɑ̄\\' ǎ ìnshʉ́ɑ́ ntìē\\'mò\\' autres variantes être déconcentré lʉ̄ɑ̄\\'sī nùsìpè\\' těn vǎm ì ǒ mbə̄h yə̄ə̄ ngwɑ̀wɑ̄\\' nkômōō ǎ mɑ̀njɔ́nshì lə̀ə̄ ndʉ̄\\' mōō lɑ́ mbɑ́ pè\\' mbɑ̀ ngɑ̌ mɑ̀njēēngʉ̄ɑ̄\\'/mɑ̀njīīngʉ̄ɑ̄\\' ngà\\'ŋwɑ̀\\'nǐ mɑ̀mbíé nkwě\\'nìnì zī ntìè\\'éntìé\\'è ngɑ̌ ìngén ntēē wāhà yì mɑ̀ mbǎk ló lɑ́ ne plus ngɑ̌ ywén ncāt fǐ mɑ̀ nɑ́ yì tū mʉ̀nzhwíé ghʉ̀ nàh nzī mbɑ̀ pōō ghām yáá cū\\' sīē yɑ̄ɑ̄ zúmfɑ̀\\' lɑ́ tə̌\\' sāhndó\\' nshù\\'nsə̀\\' pó vēn ī ncɑ̀ɑ́ mbí mbā\\' lɑ́ tɑ̀ kēēmbʉ̄ɑ̄ mbɑ̄\\' ō mōmsī nə̄h mǒ nzâkmbōmfènmbʉ́ɑ́ ngɑ̌ mɑ̀ncāk nàh njwēn mvʉ̄ɑ̄ kúɑ́ wèn ndát ndhī pū\\'nkɔ̀ bò yáá ndêlēē fǎk pʉ̀ɑ̀ lɑ́ sīē mɑ̄lǎ\\' nù nkwèè yò nǔ mɑ̀njīī nā sāā lɑ́ ghʉ̌ shwītōk mbǎ\\'ntāb hom fhʉ̀sì lə̀bsǐ nɑ̄\\' ǎ fát làb kwênsə̀b kwênsòm lèn sīsī pɑ́\\' mɑ̄nhāmsī tɑ̀ fà\\'á pó mbēh tɑ̀ mméh nàh nkhʉ́ɑ́ nʉ̀ɑ̀ mféh lí\\' lǎt mēnzhì mbə̄ tēh hèé ná mbát ncáh mbú à ŋwɑ̀\\'nǐ tú ngòò lɑ́ yə̄ə̄ sēn à wěn mbɑ̄ tɑ̀ nkɑ́’ nù njɑ̄ɑ̄ mbʉ́ɑ́ yāā mbú\\' pè\\'è mbǎk ló zě\\'è tɑ̀\\' nǒ\\'fhʉ́lɑ̄\\' nzâknù 26 mbǎh mbèè pí zúndʉ̄ɑ̄ ǎ ghòòbɑ̀ fə̀ kʉ̄kāb ì ndʉ̄ɑ̀nùpʉ́ɑ́ lɑ̀hsì á nɑ́ nhèè mā pí wò ǎ kònníɑ́ɑ́ làk ǹ kɑ̀\\' cə̄ə̄ ɑ́ yāā bɑ̄ mbɑ̀ mɑ̀ lāhā lɑ̄ ǎ sàh nshʉ́ɑ́ ā kā\\' zēē nzhʉ̄ɑ̄\\' nshʉ̀ʉ̀ ǹ jǎt tɑ̄ mɑ̄ fhʉ̄… lǎhmfɑ̀\\' mbʉ́ɑ́ lǎh wèn mfɑ̀\\' ngǎ’ nā à kó’ná mɑ̀ngʉ́ ā ngɑ̌ mɑ̀ngóó mbɑ̀ɑ̄ ntèn ngɑ̌ nám ó pò\\' zǎ mbī\\'tū mɑ́ ò lɑ̀ghʉ́ɑ́\\' ā mbɑ̀ɑ̀ bò ǒ mbī\\' nù tɑ̀\\' nshú\\'sí tʉ̀tʉ̄ɑ̄\\' ǹ dɑ̀ sì kō nzhwīē ò nè\\' ǹ kɑ̀\\' zhī làh nzēnshì nouvelle appellation mvǎk nthínā í lāhā ǒ sì mɑ̄nnák ncǎhncǎh nàk ngɑ̌ ìnjā\\' pěhmbhì ngɑ̌ nǐ mbíá nzāt ngwât ní pʉ̄ɑ̄\\' nzhǐtə̄\\' á mɑ̀njā\\' yɑ́\\'nshì yǒhnshǐ làh ndhí mōō pɑ̀h ghén nkāāsī ngáknshì í ngɑ̌ mɑ̀njū\\' mbú ó lɑ́ mbʉ́ɑ́ ghə̌ nù ǎ kwāt lā tɑ́ ǹ ngʉ̂ lú\\'nɑ̄\\'/mʉ̄ɑ̄lū\\' mbhʉ̀fōh mbā\\' sǐ\\' nzī bɑ̄ ngɑ̌ ìngén kò yì mɑ̀ nǎm tʉ́ɑ́ lɑ́ kə́\\' ngòòmbōk mbǎk ló tɑ̀ nshùndʉ̄ɑ̄ hê\\' yáá ngwǎ\\' tî mɑ̄lū mɑ̄ndū wɑ̄ bɑ́ mbɑ̄\\'mfɑ̀\\' mō wɑ̄ bɑ́ yò mbɑ̄\\'mfɑ̀\\' ne prends pas ça mal yáá nkàb sʉ̄\\'ʉ̄ ǎ kù\\'sì mɑ́ pō hɑ̄ ndìì lɑ́ mbú ì mɑ̄vǒ mɑ̀nkāb nzhʉ̀\\' reine reine-mère à ne pas confondre avec nzhwīèfʉ̀ ndhîndɔ̀ sá\\'lāk mbónzɑ̀\\' tóhsì mbɑ̀ ngòp nzhwìé mɑ́ zúfʉ̀\\' ntə́h ntə̄h ngɑ̌ mɑ̀nzhī\\'sī wū ɑ́ lōō pú’ŋwɑ̀’nǐ sáhwū zǐ pɑ̀\\' zǎ píé types de régime politiques ǎ mɑ́ nshwìè mbâ\\' kɔ̌ póálɑ́\\' mbèè mɑ̀ yáá lōhsī pàt ncáh nkěn mbú ì ngɑ̌ fhʉ́mbɑ̄ mɑ̀mbīɑ̄ nshʉ́ɑ́ fě\\'è ǎ nàk mɑ̀nkhù nàh ndó mbèè tɑ̀ ncō fā\\' ngɑ̌ kwě\\' nù zǐ tɑ̀\\' ngɑ̌ zǎknjǎm ò ngɑ̌ hɑ́ ō yá\\'nthʉ̄ ngɑ̌ tə́ə́mvàk ō kīkēē tɑ́\\' pó nzáb mōō ncáh mɑ̀ ndʉ̄ɑ̄ pʉ̀ɑ̀ ō mǒ\\' mbə̀\\' līē\\'/líé\\'nzɑ̄ mbɑ̀ ŋwɑ̀\\'nì kɑ̀\\' tɑ̄ mbátnjàm ngɑ̌ cɑ̀’sì ō lɑ́ sēn à ngǎ’ndə̀ə̀ fhʉ̄ ngù\\' pʉ́ɑ́ ǹ jǎt sì cǎh sə̌ ŋwɑ̀\\'nǐ nzɑ̄ ǒ sì pōh sə̌ wū pó pʉ̀ sʉ̄\\'ʉ̄ tɑ̀\\' njwátlɑ́ ghʉ̌ nsè\\' ncɔ̀ pʉ́ɑ́ mɑ̀ mʉ̄ntāā hèèsì sǐ\\' mbɑ̄ ntám těndʉ̄ɑ̄ yōh bɑ̄ ǒ mɑ́ yà lǒhfʉ̀\\' nshwī lɑ́ yə̄b tɑ̀\\' lʉ́ʉ́ tōm zě\\'è ǎ síé ngé\\' pɑ́\\' tìēmōō lɑ́ nkō\\' sìì fɛ̄hsī nɑ̄\\' lɑ́ ne m\\'abandonne jamais nzhwīē í fàk tɑ́\\' mōō sî mbǎhmbàh pɑ́\\' mɑ̄nkɑ̄ɑ̄sī mbú à sə̀ə̄ nzhì sī mbú á bɑ̄ yáá mɑ̀nkwēn ā hīēsī nā ò hwīēsī nā ò ŋwâtlɑ̌\\' ghòō ncwē\\' nhíé nkwàà pǎh lə̀b mɑ̄nìnkhʉ̄ɑ̄ nsó wèn yǐ nglīsì ndʉ̀ɑ̀nákō\\' ŋwàhsǐkó\\' ǒ sì cákní nɑ́ wū mɑ̀ ǒ zhí mɑ́ ó hèè njók ndù\\' ngàm wèn ngà’mbhǐ ò yì mbá’ ndʉ̄ɑ̄ ɑ́ yāā bɑ̌ fà’á cīcō’ò ò lɑ̄’sī ā zhínǔsīēngə̀’ lɑ́ ghɑ́\\' mbìyā\\' mbǎk mɑ̀nzhʉ́\\' mbʉ́ɑ́ lō mfhʉ̄ wāhà thʉ̄ báá hù\\' tɑ̀ njàmndʉ̄ɑ̄ wɑ̄ bíì tóónkòò ǎ mɑ̀ ndʉ̄ɑ̀lə̄ə̄ ghə̀ə̄ sāhndó\\' sə̀ə̄ ntìè\\' yáá lēē zǐ mēn à hɑ̄āpìì mfɑ̀\\' lě yàt lā ǎ mɑ́ sēn à wɑ̄ bɑ̄ nzɑ̄ wúzɑ̄ ā ǎ ghə̀ə̄ nǔ njǎm fʉ̀ kōsī ā lɑ́ ngɑ̌ lɑ̀ɑ̀sì ō ǎ nzátnshù tɑ̀\\' à sǐ\\' ncɑ́\\'sí wèn bɑ̄ mʉ̄nkhʉ̄ɑ̄ shʉ̀shʉ̀ɑ̀ nzɑ̄ nò\\' mɑ̀ pʉ̄ɑ̄\\' nàm kwêngòò nǎ zhí nǔngòò ǒ sì yʉ̄yōk ghǒ\\' ngòfāt ndēn wèn kúɑ́ mbát mfhʉ̄sī mɑ̀ pó ndēn mɑ́ á fāt fēn kɑ́ bɑ́ nhɑ̄ mbūànì ǹ sī mɑ̀njū\\' nā à mbə̀pə̄\\' bɑ̄ ǎ táp pó tók ì mɑ́ pâm ndū à nshì\\' ǎ hòō fēn dīh mbōk lɑ́ fə̌ cɛ̌h ŋwɑ̀\\'nì ǒ nsī mɑ̀ hɑ̄ nthí ndìè\\' mɑ̄ à wèn ncò wāā nkhʉ̄ɑ̄ pl póómɑ̄ cīcō\\'ò mbɑ́ ó pēh mōh ɔ́ ecole ngɑ̌ wén ō mɑ́ ó tū\\' nshì ò ghā\\' ngà\\'vhʉ̀ sāk cà\\'sǐ ngwēēwèn ǒ ghʉ̌ póómɑ̄ pʉ̌nzhwīē sʉ̄\\'ʉ̄ zéndāk tə̄\\' kə̄ə̄ tók mvʉ̄ɑ̄ ǹ sī mɑ̀mfɑ́\\' ntìé\\' bɑ̄ mɑ̄vǒ āfrīkà nthíkáá sāhkwɑ̀ nkɑ̀ndǎk mɑ́ tɑ̀\\' pàh ncām kwɑ̀ kǎmsʉ́\\' mɑ́ pēēsì à njàb tū pɑ́h í sēn ǎ tʉ́ɑ́ kɑ̀\\' zě\\'è yáá ndùàndùà ncâkncà\\' ngòò ā mfî\\'kè\\' ǎ yə́b wǎ\\' cə̌\\' shwíé ǒ sì tēh fāk zǎ ngɑ̌ mɑ̀nkə́\\' làh nzɑ̄ wúzɑ̄ ngɑ̌ yíí pwēnɑ̄ ǎ lǒ\\' nkɑ̄ɑ̄ bǐ tàm ǎ tó nɑ̄h mǎ mʉ̀ ndǒk à yáá lēē zǐ mēmmɑ̄ ò nùpɑ́’mbə̄hwèn ngɑ̌ ntèn ngɑ̌ shwítōk mfák fàk pó zɑ̄ ncɑ̀ɑ̀ sì fɑ̀\\' ghèn ntū\\' nshì ntìé\\'è ǎ fɑ́\\'sí mfāt mbɑ̀ɑ̀ bì mbōh mbʉ̄ɑ̄ pō kɑ́ lōō nī lɑ́ ǹ kɑ̀\\' zhī zǎ nǔ nā kwéndāk ncwèn wèn mbóksí pòksì ǎ shʉ̀ɑ̀ zī làh ndó séé ndhí fá\\' nsī mvàk lāhā ncōp khù sǒhndhī ngɑ̌ ìmbéh mbhì tɑ́ ó pēēsī tɑ̀\\' wèn fùfùá péh thʉ̄ ǎ yá\\' pěhmbhì nhɑ̂ cɔ̀ nzí mbā\\' lɑ́ pɑ̀ɑ̀sì ǎ nsɑ̄\\' wū yə̄ə̄ ngà’mbhǐ à còkòwɑ̄ kèētìē nùfí mbɑ̄ mɑ̀ yáá ghɑ̀’ tɑ̀’ ɑ́ à kɑ̀\\' lí\\'sí ā nthʉ̄ í sī mɑ̀mbénsí bɑ̄ shíímbǎk mɑ̀nshʉ̄ʉ̄sī njwé\\' mbɑ̀ɑ̄nshǐ cáh nzhì tʉ̄tē\\' à ǎ věn nshì sɑ́\\'wū ngɑ̌ mɑ̀njū\\'sìpě\\' mbú ò ndè\\' ngòfāt nkā\\' mǎ wɑ̌ ngʉ̌ shʉ̀ɑ̀\\' bê ǎ sɑ̀\\' pí mēn ì mbɑ̀ sēn ì béé njâ\\'ghə̀ə̀ lě mɑ̀nzhʉ̄ɑ̄\\' nā í nɑ́ yǐ mbɑ̄\\' ngǎ\\'kò mbɑ̀ɑ̀ bì wú ghʉ̀ ō kāhā màà mbā\\' lɑ́ yə̄ə̄fʉ̀\\' ngǔ\\' è ngɑ̌ kwě\\' nàk pɑ́\\' mɑ̄ nkō\\'sī mōō fà\\'á mbɑ̄\\' ěmòó mɑ̀nkōntá\\' mfɑ̌\\' cákngà\\' zǐ mǒ\\' ngɑ̀ɑ̀ ǒ mɑ̀nkə́\\' làh nzēnshì pí mʉ̀ ʉ́ nkhʉ̌nkěnmbō ghòō kòrōnǎ lǎh nkwèè ngwè\\' ncō mvʉ̀\\' mɑ̂nì nə́hŋwɑ̀\\'nì ngé\\' wūɑ̄ ngà\\'njǎm à ǒ ìndī\\' mèhsǐ béé sìèsì lè mɑ̀ ǒ zhí làh ndēn mɑ́ ǒ yá\\' ghʉ̌ tɑ̀\\' wū ò yǎt sì ghʉ̌ tɑ̀\\' wū ò yǎt tɑ̄ mɑ̄ ngʉ́ wū ò lɑ̀\\' ghʉ́ wū ndhí yá\\' yə̄b mʉ̀nzhwīē ngɑ̀ɑ̀ ndʉ̀ sǐ\\' nkūɑ̄ shʉ̄ bɑ̄ ŋ̄h ngɑ̌ yá\\' sǒh nā à il a accepté volontiers fāk zǎ mɑ̀njōmsī ǎ ghěn ghā\\' sìē shwī\\' ā ndʉ̄ɑ̀sīē ǎ ndʉ̄ɑ̀lə̄ə̄ mǒ\\' ntìè\\' mǒ\\' ndɑ̀h mǒ\\' fʉ̀\\' sə̌ cópntīē sī nā bɑ̄ ngɑ̌ mɑ́ shwî\\' ngà\\'mbhǐ mbɑ̄\\' ō yì mbâ\\' ǒ ghʉ̀ mbʉ́ɑ́ ghāmsī nā ò ndʉ̄ɑ̄ pɑ᷅\\'nkèn ǎ kwát kə̀ə̀ bì tɑ̀ nshíí ntēh ndʉ̀\\' fhʉ́ wèn nsû kwèlè\\' pó nhɑ̄ sə̀\\' pò\\' mɑ̀ pó lə́ə́ mbí mvʉ̄ɑ̄ cōptúzén mbōntěnù nzhʉ́\\' ntèn ntēh ntèn mbʉ̄ʉ̄ ndʉ̀ndām fìènkàk pí títìānì yāā bɑ́nhɑ̄ mbūānì nthʉ̄ á kònsátsí ā ntú\\'ngū\\' ǎ ywéh mbə̀\\' ndhī ngɑ̌ ywén mǒ\\' ndōm mvī shī njǎb nɑ́ zʉ̀\\' yì ǒ fhʉ́ nā lɑ́ ngɑ̌ lén mbú ì à zhwīè sáhnù ntìmbhì ncɔ̀ hə̄ə̄ ǒ mfhʉ̄ mɑ̀ hɑ̄ l\\'enfant est en train de convulser kòm í və̄h nzhìèkú\\' mɑ̀nkō ngʉ́ngà\\' nkə̀\\'nì/nkwè\\'nì ma᷅ ǒ ìndī\\' mèhsǐ béé sìèsì lè mɑ̀ ǒ zhí làh ndɑ́\\'sí mɑ́ nǔ shʉ̀ɑ̀ ō ò sǐ\\' hɑ̌\\' nù wúzɑ̄ bíí mɑ́ yǐ wɑ̄ yáá mɑ̀njā\\' lā tɑ̀\\' nníɑ́ɑ́sí nǒktū cákngǎ\\'nzhwìàwū ŋɑ́\\'mbōō pō sǐ\\' ndáh cōh nsíésí wèn wū bɑ̄ yáá mɑ̀ lāhā yáá mɑ̀nnák ncwàt lí mɑ̀njā\\' nsɑ̄\\' kāb nzén nsēn mbǒ mɑ́ wɑ̄ yáá mvàk lāhā tōm ǎ tóm nɑ̄\\' ndā\\' lɑ́ cīcō\\'ò nɑ̄\\' ndā\\' ywààsì hāālʉ̄ɑ̄\\' ká\\' nɑ̄\\' et en anglais pó lǎh shínzhì nkwāt fāk zǎ ɑ́ ngǎm sì cō nā mɑ̄vǒ ngɑ̌ zʉ́’ nkwèè pɑ́ɑ́ nʉ̀ɑ̀ ō wǎ’ lā\\'kò ndú\\' mbìè ngɑ̌ kǔ\\' nàh nkwāt pè\\'è ghèn nshwīē pīē kǒm/kə̌b pɑ̌mfɑ̀\\' vēn vénsɑ̀\\' ǎ mɑ́ tɑ̀\\' fhʉ̀ní wèn nɑ́h ngòfāt wú ghù mbə̀’mbə̀’ mbūànzɑ̄ lɑ́ mēmmɑ̄ ò púángāp ǹ kúɑ́ nɑ́ tū ō mɑ̀ ngɑ̌ dīdīē pɑ́ɑ́kā\\' espèce d\\'abruti ngʉ́ wū pí njɑ̀\\' nkò\\'tū nzátnə̀ə̀ cwǎkhǔ mbōh ngòòndōm ngɑ̌ mɑ̀ngʉ́ tēhsípō ghʉ̀ ngén kò pó tōm ā ngɑ̌ mɑ̀njwēn zū pó ncēh wèn yì ǎ có ncà\\' lɑ́ mɑ́ ngwɑ̀ncà\\' ǒ sì ghə́ə́ nù nǔtúfhù bɑ́ ǒ sì kóm ā cette rue aboutit à la rivière ǹ sī yǎt mɑ́ ngà\\'ŋwɑ̀\\'nì bɑ̄ cɑ̀’sì yɑ́ɑ́ mbú á lɑ́ mbɑ̌ mēn à lə́ə́mɑ̄nǐ mɑ́ shʉ̄cwà\\' zʉ̌\\'sī sʉ̀ɑ̄nǔzhwìè sǒmndʉ̄ɑ̄ kwênsòm ǎ zǎknjǎm à ncwààntíé yá\\' pīh ncwààntíé yá\\' kǔ\\' zɑ̄ ǎ yɑ́\\' ncō ntām swǎt mbǎ\\' nkwèlè\\' ò bɑ̌ mbɑ̌ hɑ̄ lɑ̄ ngɑ̌ tóh làksì táà kû\\'ngà\\' kwǎ\\' mvǎk njō ò kɑ́ vǎm à lɑ́ wū lě mɑ́ tə́bmfʉ̀\\' ngɑ̌ ìngʉ́ yāā ntìē\\'mò\\' ngwā\\' kɑ̀\\' cóh ndám nā nsōk nù lɑ́ zàt yāā kɑ̀\\' yáh fūā ngɑ̌ púá tɑ̀\\' fī\\' nshùntēē lɑ́ ń jwēn yǎ ná nshʉ̀ʉ̀ mà travaux de recherche fʉ̂ njə̀ə̀ mbʉ̄ɑ̄ mōō lɑ́ mbə̀\\' mbɑ̀ ngɑ̌ mɑ̀nkwé\\' nàh ngén nzɑ̄ yáá mɑ̀ngát lā yɑ̄ɑ̄ ndə̀b tū ā yáá ncāk mɑ́ ó hwīēsī nā ò mɑ̄àmfɑ̀\\' mǎ ghʉ̌ mbè\\' nthʉ̄ kɑ́ á sīē ncákní mó\\' wū ū ngà\\'mbhǐ ò yì mbá\\' nsī pí pěn ŋ̄h̄ mɑ̄vǒ ngɑ̌ ngén shù’ ntìé’è ngɑ̌ má\\' mbàk lè ngén ntēē nēhē ǹ kɑ̀\\'fén sə̌wū sǒ ncāt mǒ yáá mɑ̀nshʉ́ɑ́ ā tɑ̀\\' nhɑ́ɑ́ hǔ cǎ\\'lə̀ə̀ cō\\' shʉ̀ɑ̀\\' zō ǎ ghèn mɑ̀ mbèè autre variante ncǎ’ lɑ̀ bɑ̄ yáá ncāk mɑ́ ó yàhsì mɑ̀wǎ ɑ́ pɑ́h ó ghén ntām mbǒ’nshìè mbɑ̀ fà\\'á ǹ kɑ̀\\' cə̄ə̄ autre variante de mvīāt lǎt kōō ncǒ làk ǎ fɑ̌\\' pə̀pē\\' dhǐ sáá mǒ\\' fʉ̀\\' nzɑ̂ndʉ̄ɑ̄ ghòōfōh kó\\'nā nzhwīē à lɑ̀\\' záknjǎm à ngù\\' tēnɑ̄ tɑ̀ mɑ̀ ǒ tóh móhnzhì fhʉ̀fhʉ̀ bɑ́ ntōk fʉ̀ hɑ̀ɑ̀sí ndhī pǎ\\'mvāt cʉ̄cō\\'ò ǒ sì lēn mbí mbɑ̄\\' ō ndèn ǐ hòh nsòhndhī tə́ə́ ndǔ\\' shʉ́ʉ́ sīē zʉ̌\\'zī á mɑ̀ njə̄ə̄ lɑ́\\'zī á mɑ̀ njə̄ə̄ zʉ̌\\'mfɑ̀\\' ngɑ̌ mʉ̀mbōh mvʉ̄ɑ̄ ǎ yǒkvʉ̄ʉ̄ tɑ̀ ngóó l\\'expression correspondante en français est pě\\'nthʉ́ mfhʉ̄ tɑ̌ ndʉ̄ɑ̄ ghʉ̀ɑ̀\\' zō mbɑ̄\\' ā [mbɑ̄\\' ɑ̄]/ táà wā nùmbə̀pə̄\\' sǐ\\' mbīē bɑ̄ ndók sómvēn mbɑ̂\\' yòh zʉ̌\\' mɑ̀ndóm tɑ̀\\' ndèh líé\\'nzɑ̄ nsónshǔsíé nɑ́ wèn ǎ mɑ̀ntɛ̄ɛ̄sī mɑ́ á mɑ̀nzhī\\'sī wū pèn ghʉ́ hǎt mɑ̄vǒ ghěn ntéé ɑ́ ywēn zū mmɑ́\\' ngǒk wūɑ̄ ń ndēn mbú í mɑ́ kɑ́ ngɑ̌ kwà\\' mɑ́ wò lɑ́ ìnzhīē wènòk ǎ ntám ndʉ́ɑ́ ì ń dǎh yàá nā ā pɑ́\\' nzɑ̄ kɑ́ ó sīē ngʉ́ zàtkwě\\' yāā pɑ́\\' nú mī wū lɑ́ ɑ̄ kǎmnsònkhù nshīī wāh ngwāh sǎk ndhī ō lɑ́ yáá fhʉ̀sì ò zɑ̌ nhóómbénɑ̀\\' yə̄ə̄ mɑ̀ ǒ ngóó sʉ̄ʉ̄ lɑ̀ sì yēē zə̄h zǐ mɑ̀ nshǐ vènsì těndʉ̄ɑ̄ ǒ mɑ́ yà túnǔ ndòm sīècɑ̌\\' ngɑ̌ mɑ̀nzhʉ̄ʉ̄sī ǎ kònkōō mvēnɑ̌ nshùndʉ̄ɑ̄ njīī nzhʉ̀ ngɑ̌ mɑ̀mfāmsī mbɑ́ ǹ ngēn ncáh ló mbèé pěn nhèè shʉ̀ɑ̀\\' ndə̀\\' ngòfāt ǹ sǐ\\' nját mbéé mɑ̄vǒ bɑ̄ ecole normale mɑ̀\\' lɑ́ ngɑ̌ ìnkwɑ̄ɑ̄ cwàánù bɑ́ thʉ́ndʉ̄ɑ̄ ǎ ghʉ̌ tɑ̀\\' mbə̀\\' tókyū\\' lampe torche ndə̄ə̀ nhòò ngà\\'hòò sēn ǎ wén ā mfɑ̀\\' ngòfát kò njōmsī ǒ zhí làh ndə̄ə̄/nā\\' wúzɑ̄ ɑ́ wèndéndéé ngə́ə́ nùndéndēē lə́ə́mɑ̄nǐ mɑ́ shʉ̄cwɑ̀\\' kòm báá kǔ\\' ná ò ghèn nsát tū ō cɑ̀\\'sǐ wūɑ̄ ngám yɑ̄ɑ̄ mbòm zǎtnshǔ mbɑ̄ mɑ́ wú pɑ̀sìzhīnkù\\'nì cʉ̄cō\\'ò kùɑ̄ nìnì à lɑ́ mvʉ́ɑ́ nǐ nɑ́ ncāt mǎ pó phʉ̀ʉ̀ bā tɑ̀ túfhù kō ā póózū zǎ ǎ mɑ̀ngʉ́ɑ́\\'sí ā pēēsì sɑ̀\\' nsī ngǎk à yà wūkwà\\'mbíɑ́ mɑ́ nkwèè póálɑ̄\\' ghə́ə́ ghə̀ə̄lɑ̄\\' yɑ̄ɑ̄ yʉ̄ɑ̄ bíì ntìé\\'è nù sìkə̀\\'nkə́\\' ngɑ̌ ngén mɑ̀ mʉ̄ɑ̄ntēē mēn ǎ mɑ̀ nhām ndʉ̄ʉ̄ ngòò lɑ́ mɑ́ tɑ̀\\' kómnā ngòò ǒ sì zāk kā\\' pí lāp zǒ mvʉ́ɑ́ mɑ̀nshísí nā ì université kə̀cák mfʉ̀\\' njə́\\' ngōm ngòò mɑ̄vǒ mbɑ̀ sʉ̄\\'ʉ̄ lɑ̄ ngɑ̌ cɑ̀’sì ō lɑ́ ngà’mbhǐ à mòòwɑ̄ ntìē\\'mò\\' mēndɑ̀\\' yǎt tɑ̄ mɑ̄ pl nsìīmòò ǒ séè mɑ̀ mbèé nò/lò ǒ séè mɑ̀ mbèé mbú ò kíkén nù ngǎ’ mɑ̄vǒ ǹ kɑ̀’ níɑ́ɑ́ kwéndʉ̄ɑ̄ ā bɑ̄ ntìē\\'ghə̀ə̄ ntìé\\'è ǎ kònkōōsī nkòò nì yáá mɑ̀njóh pó mfāt njò\\' mbɑ̌h tɑ́\\' sī ngòòmbōk bɑ̄ ǒ hèè ǎ ghʉ̌ zhínù sə̌h nī ntèèntèé cáb pō ā nthʉ́ á kòncá\\'sí mēn ǎ yàhsì mvâ\\'nkà\\' lɑ́ kɑ̀\\' cə̄ə̄ zǐ ngʉ̌nù sìpè\\' mī cǎmngwê cīcō’ò sɑ̀’ nzhíísí ā làh nkā’ mbɑ̀ɑ̄nshì lè lɑ́ ngɑ̌ lɑ̀ɑ̀sì ō mbɑ̌ mʉ̌ pén ō mɑ̄vǒ sìbɑ̄nɑ́nù nzhwīē à ntòònjò\\' à mʉ̀ mbɑ̄’ tòōngə̄ə̄ bɑ́ njɑ̌hnàm/njə̌hnàb mbɑ̀ fà’á ngɑ̌ mfhʉ̄ ya᷅ fhʉ̄ nsòhnkā\\' ǒ vɑ́h yō ò mbɑ̄’ ō nzhìɛ̀wɑ̄ ǒ sì vā\\'sī ā pó ìndíí wèn kɑ́ fɑ̀\\' lɑ́ yáá mɑ̀nshwí\\' ngɑ́\\' mbhʉ̀fōh dìpʉ̀ɑ̀nshì ngə̌\\'hə̀\\' ngwě\\'hè\\' nzâknù 15 nǔ cə́ə́nzèn nǔkɑ́ nzhìèkú\\' mɑ̀nkō ī nshù\\'ndə̀ə̀ pó mfāt njò\\' mbə̌h tɑ́\\' sī ngòòmbōk bɑ̄ sēn à bɑ́ kɑ́ ntīē pɑ́hzīī béè mbə̄ə̄ mēmmɑ̄ ngɑ̌ cɑ̀’sì ō lɑ́ njéhnòk pó ncēh yāā mɑ́ kɔ̀ pó nsó nɑ́ sònkhù ɑ́ yāā sì fī’ mɑ̄ ā wènlɑ̀\\'zhī ngòfāt nkēēnɑ̄ mbɑ̄\\' é mɑ́ wɑ̄ yáá thǐ nkhʉ̀ pʉ́ɑ́ nkɑ̀sà sǐ\\' mfāt mbɑ̀ɑ̄ ngʉ̄nə̀ə̀ bɑ̄ nkhʉ̌ kòlə̀\\' sìdīēmbwēn sīècɑ́\\' è sə̀\\' ntāb táàlə̀ə̀ ngà\\'ngʉ̀\\' ǎ tə́ə́sí tɑ̄ ngə́ə́ nǒktú mbɑ̄\\' ó yá\\' fə̄h mbǎ\\' shʉ́ɑ́ndāk ǎ nsēn pɑ́\\' mɑ̄lā\\' lɑ́ république islamique còh nsóh míé\\'nāt mǒ còhsì nníɑ́ɑ́ pʉ̀ɑ̀ ā lɑ́ nzhìè lɑ́\\' mɑ̀nkō ā ou alors mbàk lɑ̌\\' sì\\' ndō (bɑ̄) yáá pòm cwēē kʉ̀kàb sáhnù ntìmbhì mʉ̄ntāā yò túmfɑ̌’ mɑ́ kɑ́ ǒ ghʉ̀ ngɑ̀ pōh ǒ ghʉ̀ m̀ mbōh ngɑ̌ lǎh njàà ngóó kāākāā ngɑ̌ zʉ́\\' ngwá\\' nʉ̀ɑ̀ pʉ́ɑ́ mbɑ̄\\' nzhìāndə̌ sí nɑ́ làk ntû\\' ncîcāt lɑ́ cāt ntǒntò fhʉ̌\\' nā ó njàm mbàk sǐ\\' ndō bɑ̄ mɑ̀ ngɑ̌ ngén zʉ̌\\'ŋwɑ̀\\'nì ntěn vǎm ì ngɑ̌ hòō mēnzhì làh ndɑ́\\' nù lɑ́ mbǎk mɑ̀ndō mɑ̄ncwáásí ǒ mɑ̀ hɑ̄ wěn njū\\' vàm zǐ tɑ̄ nzɑ̄ fhʉ̌ pēē  ghèn nkā\\'sī ngòfāt sòh lě mbūāsī ngòpnā ǒ mɑ̀njīī nā mɑ̀ lāhā těnvàm ghèn ndómsí wúzɑ̄ pɑ̀mfhʉ̀mfɑ́htú kə̌\\' nàh ntʉ̄ɑ̄ nkātlɑ̄ mâ\\' mbǎk mɑ́ nàm nǔ mɑ̀mbɑ̄h ā ngɑ̌ mɑ̀njā\\'nthʉ̄ mbàk lɑ̀ sì lɑ̄\\' ndō (bɑ̄) je suis allé l\\'accompagné dans l\\'avion kɑ́ tɑ́ ó mɑ̀nkə́’ làh mbát nzhī tə̀’sì ā mbɑ̀kɑ́lɑ̄ réponses possibles ŋwēē pʉ́ɑ́ mʉ̀nzhwīē lɑ́ mbōpsī nkɑ́ɑ́ nɑ́ zúlīā\\' sên ngʉ̄ɑ̄\\' ngǎ’ pō lɑ̀cǎb í ndʉ̄ɑ̄kà’ ngɑ̌ pén kwà\\'sì zǒ njwátlɑ́ mbɑ̄ wèn mɑ̀ ǎ ywát ǒ sì tʉ̄ɑ̄ á ntēē nsǎ\\' mbɑ̄ pūh mvàksìsāh zì\\' lɑ̌\\' tú ì mfī\\' ntə́ntə̄ mmɑ́\\' ntɑ̄\\' nhá\\'ntɑ̄\\' ghò\\'sǐ sōh báá tɑ̌ yāā pīh yáá mɑ̀nshʉ́\\'sí ā ndū á zǎknjǎm à ǎ lóó nā mbɑ̀ɑ̀ bà ngɑ̌ ghòō ngàm ngō\\' à ghěn mbhì nzhʉ́\\'ntèn mbə̄ táà ntōk ghǔ ngòò ǒ sì pūānkhù yɑ̄ɑ̄ ndòm tū ā vʉ́ndòh tɑ̀ mêndɑ̀\\' lɑ́ pɑ̌h còh mmó pə̀pē\\' ghèn nshʉ̄ɑ̄ nshwī ɑ́ pō láh ndə̄ə̄ wúzɑ̄ lə̄\\'lə̄\\' wū shʉ̀\\' nzɑ̂kòm yòh bɑ́ mbɑ̀ mɑ̀ lāhā lɑ̄ mbɑ̌ nɑ́ yàā mbʉ̄ɑ̄ lɑ̄ pɑ̀nkôcǒp táh zúntēè nà ngɑ̌ tám ngáá tú ó mɑ́ tûm kōh nshǐmōh lɑ́ ntám tʉ̀tʉ̄ɑ̄\\' lì zúŋwɑ̀\\'nì ǒ ntěn tɑ̀ ǒ ntèn tɑ̀ ǒ shwīto᷆k sə̌bndʉ̄ɑ̄ mʉ̀ bɑ́ mɑ̀njū\\' fák yāā yǎt tɑ̄ mɑ̄ ngwɑ̀ ncà\\' ntʉ̄ɑ̄ nɑ́ nkà\\' nkhʉ̌nkěnmbō ǒ hèē mfěn ndhī ò kɑ́ béè pó ncēh yāā lè mɑ́ kɑ́ nkhʉ̄ɑ̄ njō n\\'accentue pas le problème mōō lɑ́ mbɑ̄h tɑ̀\\' à sǐ\\' ntāk ntōk mǐ ndʉ̄ɑ̀ŋwɑ̀\\'nì sə̀ə̄līē\\' bɑ̄ ne pas confondre avec pìè pó kə̌ ndʉ́ɑ́ kè\\'è fǎb yàt ntók ŋwā\\' fə̌ pʉ́h ā mʉ̀nzhwīē ǹ kɑ́lǎh yà ndhí móó hɑ̄ ǎ sɑ̀\\' pí mɑ̄ ā ɑ́ pɑ̀h sɑ́\\' lɑ́ nděn móó kòntām shwǐ\\' mvǎk nìnì lɑ́ ǒ sì zhʉ̄ɑ̄\\' nā ó nshǐndʉ̄ɑ̄ cǔ\\' ntū\\' lɑ́ tɑ̄ nnɑ̄h nshǐ tè\\' khʉ̀ɑ̀\\' kō\\' khʉ̀ɑ̀\\' pʉ̀pɑ́\\'mōh ǒ ghʉ̌ ngǔ\\'nzɑ̄ sʉ̄\\'ʉ̄ tò\\' pè\\'è tɑ́ mɑ̀ ngɑ̌ fhʉ́mbɑ̄ mɑ̀nsāh nɑ́ ì cʉ̄cō\\'ò yìī pʉ̀ɑ̀ béé nhɑ̄ ā lɑ́ atangana nǔmbísīē njemba ngǎ’ngwê pí mʉ̀ ndhímóh mfāmsī wèn wū ndîlēē bɑ́ ngɑ̌ pén ó mbɑ̄’ sīēwèn pīāh nā ō nzɑ̄ nné\\' ndʉ̀ɑ̀ mbʉ́ɑ́ nzhwīē á zī mōōmbâ’ nǒktú wěn mbɑ̄ mvàksìsāh ǎ fám yī njéh nǒk mbɑ̀ɑ̀ mɑ̄vǒ ndə̀ə̄ngwê bɑ́ mbɑ̂\\' wūfī lè cāp pú\\'ŋwɑ̀\\'nì zǒ pə̀pē\\' njók ngāā táknzhì ǎ mɑ́ tɑ̀\\' mfî\\'kè\\' kwə́ mvāt ǎ kǒk ndù\\' pèn kāksī ngáp á cō ndʉ̄ɑ̄ làh ntʉ̄ɑ̄zɑ́h nɑ́ wú mɑ́ tɑ̀\\' mbìà sìpè\\' kwà\\'sì zǒ ndùàndùà lēēsī yāā nkǎp ngòòndə̄b fhʉ̌\\' nā ó njàb ngɑ̌ kə̌\\' làh mmóó pí wò ǒ nkō\\' sìì pɑ́\\' hùɑ̀ lɑ́ nzɑ́ sēn ndùɑ̀lɑ̌/ndùàlɑ̌ fí\\' lə́ə́làk nzí hě\\' tú ì mɑ̄vǒ ngɑ̌ mɑ̀ncāk làh nzī yà mōō ǎ ntámndʉ́ɑ́ ì sáhnù ntìmbhì 29 pí kɑ́ nú zām těn thʉ̄ ò kɑ̀\\' hɑ̄ yà nkɑ̄ɑ̄ nsɑ̄\\' ɑ́ yɑ̄ɑ̄ pí fɑ́h í mɑ̀ntʉ̄ɑ̄\\' nkwàà ǎ mɑ̀ntʉ̄ɑ̄\\' nkwàà pí fɑ́h ì technocratie ǎ té\\' mbɑ̄pɑ̄bɑ̌ thʉ́ shʉ̄ɑ̄ ndáh nzhú mbɔ̌shʉ́ɑ́ nkòòpō nǎb púá ngɑ̌ mɑ̀mbhʉ̄ mɑ́ ngǎ’ nā à tū á mɑ̀nkóm ā ngɑ̌ mɑ̀ngóó ngɑ̌ pén ó sǐ’ nját nzɑ̄ lè bɑ̄ í zàptwǎ\\' nnìɑ̀hù nzɑ̂wū nzɑ́ kāā lā kǒ yāā lè ndáh ncāh nzhìè vàm zō nkák ncò ngɑ̌ mɑ̀ndɑ́ɑ́sí yēē mɑ́ pèn lā\\' njū\\' nsɑ̂\\'ngwè\\' mɑ̄ŋū mbàkngòfāt ǎ fámɑ́ yī ǹ jǎt wū nɑ́hŋwɑ̀\\'nǐnzhǐntē\\' ngɑ̌ kə̌\\' nzhwīē à tɑ̀ kéémbʉ̀ɑ̄ ǎ kɑ̌\\' nshʉ̌ thʉ́ ɑ́ lǎh zhī nū sá\\'nzhìnzhì ncʉ́cák lōh ŋɑ̄\\' njɑ̄ɑ̄ sīē mbú ì cə̀\\' mɑ́ kɑ́ ǒ sì pēn mbú ì nkwɑ̀\\' ngwɑ̄\\'nkòò nǔ mɑ̀mbə́\\' ō ó ngɑ̌ ìmmíé ngʉ́ yǎ yà fīē mōō ně\\' mbèè lì wúzɑ́ pāh mvʉ̄ɑ̄ ò cāp pí tōòsì il a accepté malgré lui mbǎ\\'ntām à ngɑ̌ kə̀\\' ō tɑ̀\\' ngǎ\\' ǹ kɑ̀\\' ghʉ́ pōō (bɑ̄) ndhī lɑ́ lōhsī ná à páh nshù sēn à [sēnà] sīpɑ̀ɑ̀ ngɑ̌ kwě\\' sʉ̀ɑ̄mfʉ̀\\'nā tɑ̀ mbʉ́ɑ́ lɑ̀ bɑ̄ yōh pí nzhwīē á sèèsì/ghɑ̀ɑ̀sì nthʉ̄ á sèh ngɑ̌ mɑ̀nŋwā\\'sī nā á mɑ̀nŋwā\\'sī ǒ sì míé nját lā ǹ sī mɑ̀mbōh bɑ̄ ghāksí mbō nkō\\' kè\\'è ncwé\\' zhʉ̀ɑ̄ nkɑ̄ɑ̄ bà njə̀hnjə̀h hù ò lɑ̀sɑ̌\\' sēnɑ̄ ɑ̄ ncók ngǒk wūɑ̄ hom mfʉ̀ʉ̀ hʉ̀ɑ̀sí ndhī ncâknù ǎ zɑ́ kām njàbghə̀ə̀ ngèn kò ndìàndìà sǐ\\' mbɑ̄ ndə̄\\' bɑ̄ ngɑ̌ yíí mǒ\\' ntīē sāk mbè’mbè’ fɑ́hnzɑ́ mbú ó lɑ́ mēn à nhíá vhʉ̀ mbɑ̄\\' ā nā á mɑ̀njā\\' mēn ǎ hɑ̄ ā yá\\'nthʉ̄ ne me freine pas nǔkɑ́ ó mɑ̀njāh sì\\' yāh fà\\'á ā pɑ̌mfɑ̀\\' ò bɑ̌ mbɑ̀ wɑ̄ lɑ̄ ngɑ̌ tóm mbhǐndèhsì wěn ndʉ̄ɑ̀ŋwɑ̀\\'nì mbɑ́ nkǎmngǎ\\' lɑ̀ shʉ́ɑ́ ā sə̀ə̄līē\\' ǒ sì mɑ̄nkə́\\' nàh mvā\\'sī zʉ̀\\' fà\\'á lʉ̌\\' nkɑ̀\\' pɑ̌h yá\\' yɑ̄ɑ̄ fà\\'á ncǒ ntə́bntə̄b sɑ̀\\' nkām mbìyā\\' ngɑ̌ sʉ́ɑ́ pō ā nzhʉ̄bɑ̀ mvʉ́\\'ʉ̀ ntû\\' cîcāt ngɑ̌ kwě\\' lʉ̀ɑ̀\\' njò\\'tōm nshʉ̀ɑ̀sòm sì tēn ngòòmbōk nkhʉ̌těndʉ̄ɑ̄ mbɑ́ nə̀ə̀nzhwìè zāp nə̀ə̀sìmɑ̀\\' ɑ́ ǒ cák ncà\\' pō zāb ō làh ndó séè tɑ̀ ncō síí lì ǹ kɑ̀\\' fhʉ̄mɑ̄mbīɑ̄ nā á nā ǹ kɑ́lɑ̄\\' ghòō ntèè nò sì cwēē ngàt yāā sɑ̌\\' mēndɑ̀\\' ncāk mɑ́ ngɑ̌ cáhsí pɑ̀h kɑ̀ghěn kò wāhà ncǒ dìpʉ̀ɑ̀ nthʉ̄ yɑ́ɑ́ mɑ̀ŋwā\\'sī nnú\\' njɑ̀ɑ̀ à sī mɑ́ dìpʉ̀ɑ̀ wèn bɑ̄ pó ghɑ̀ɑ̀sǐ mvī mbǎhmbàh nǔmbōō nǔsīē fāhsī nɑ̄\\' lɑ́ ncò lɑ̀\\' wáá mmɑ̀\\'mbō làh ndɑ́hsí mbɑ̄ làh ndɑ́h ncámncām ǒ ìndī\\' měh béé sìèsì lè mɑ̀ ǒ còh nzhī làh ndōō lɑ̀hsì mɑ̀ ghə̀ə̄ fè\\'éfě\\'è mbɑ́ ǹ nkōsī ō ó nzhwīē á zhī nàh nnā\\' wúzɑ̄ ǒ lù’ zě’è mbɑ̀ ǒ mfhʉ̄ mɑ̀ hɑ̄ fà’á ā pó tɑ̀ njə̄ə̄ cʉ̄cō\\'ò mbɑ́ ó yɑ̄ɑ̄ nkhʉ̌nkèn ná nɑ́ mbhʉ̀ndòh nhɑ̄ ā á mōōmbā\\' nkǒ\\' ngáá wùɑ̀ pôm mbʉ̀ɑ̀mbʉ̀ɑ̄ wèn cō ndʉ̄ɑ̄ kwēn ndʉ̄ɑ̄ ngɑ̌ mɑ́ nkēèzū pɑ̌h kònté\\'sí dìpʉ̀ɑ̀ ǎ pě\\' mbɑ̀ɑ̀ njə̄ə̄ shwīī mbɑ̀kɑ́lɑ́ ntén sì pō zhī\\'sī mfāt nkùnkū\\' sên cà\\'sì ŋ̄h ngɑ̌ zhí làh ngə́ə́ nglǐsì ngɑ̌ cáhsí pí làh nzhī’sī wū ngén mɑ̄ghɑ̀ɑ̀ ò bɑ̌ mbɑ̌ hɑ̄ lɑ̄ ǒ sì ghā\\' lə́ə́ndʉ̄ɑ̄ zǎ ò kɑ̀\\' kwé\\' ā mbɑ̀ nēhē ndɑ̀ɑ̀ mǒ mɑ́ kɑ́ njâ\\'nkə̀ə̀ pɑ̀ɑ̄ndhī pó ghò\\'sǐ pè\\'è bíí lì ngǎ\\' cwǎkhù sǐ\\' mbɑ̄ mbèé pɑ̀h bɑ̄ mó\\' ghòó mfhʉ̄ nɑ́ ncǎhncàh kā\\' mbìyā\\' ndáh ndáh yɑ̄ɑ̄ mbɑ̄’ còkǒnkám mɑ́ mēn wɑ̄ làh ndó séè tɑ̀ nkwēn síí lì pó ndáh nshù’nsə̀’ nkúsí nsə̀’ tɑ̀ yāā lēē ngə̀ngók pʉ̀ nsɔ̀nzhwìè lǎh nsɑ̂\\'mbǔ\\'nkèn nkō\\'sī nzhì mbǔ\\'nkèn lɑ́ mbə̄ə̄ mbɑ̄’ cwǎlāk nŋɑ̂\\'pʉ̀ɑ̀ ǎ nsī tɑ̌ tě\\' kò sə̌ pām sī mbú à bɑ̄ pó mɑ̌\\' nkè\\' ne l\\'accompagne pas ǒ sì fá\\' yāā ne m\\'abruti pas ò lɑ̀lèé wúɑ́ mɑ̄ ē sì sōk ā tɑ̀ ǹ ndīē tɑ̄ njū’ ya᷅ mbə̄ə̄ lɑ́ mēmmɑ̄ ò nkǎmsʉ̄’ ngɑ̌ mɑ̀nzhī\\'sī làh mbɑ̄ mbû\\'lōk fɑ̄h/fə̄h fɑ́hnkhʉ̄ɑ̄/fə́hnkhʉ̄ɑ̄ ǎ mɑ̀ntʉ̄ɑ̄nshù pí nsìènkèn makalankwēn lɑ́ sɑ̄\\'sūā lɑ̀zɑ̌ ncà\\' ngòò lě mɑ̀ndáksí nə̄h mǎ cǒk mōō lɑ́ nú sì ngénɑ́ ò khʉ̀ɑ́ndʉ́ɑ́ njǎm nkɑ̄ɑ̄ mɑ̀ yáá nkhʉ́ɑ́ ō mbə̄ə̄ lɑ́ ngà’njǎm à tòókò nkǒ\\'mfɑ̀\\' nzhwīē á zī póónì tɑ̀’ mōōmbâ’ pí tɑ̀’ mōōmʉ̄nzhwīē ndìī nshʉ̀ɑ̀ncò nzʉ̂\\'nā wò lɑ́ sǐ\\' pén mbòò nə̄h mǎ mɑ̀njā\\' nshì mǒ mɑ̀ntām ā ntôkndʉ̄ɑ̄ ntōk mǎ nnēē njū\\' wū mɑ̄ é ghʉ̌ ndʉ̄\\' ʉ́ ngà\\'njǎm à (yì mbâ\\') bɑ́ mvǎk pʉ̀ yì pó sɑ̀\\' lɑ́ yə̄ə̄ ndɑ̀ɑ́ fòpsì wā\\' ngǎ\\'nshì ǎ tèè tɑ̀ nsɑ́\\' nkhʉ̀ɑ̀lɑ̄\\' mɑ̀ ngɑ̌ yí ncə̄bsī mbú ò ǎ yá\\' tāmbhì fə̌hnzɑ̄ hɑ̄ kā\\' báá mbú à pə̄ə̄ tū ō sî mbát zɑ̄ bɑ̄ ngɑ̌ pə̌b sìèsì ǎ mɑ̄nzhì serviteur du roi anobli serviteur hors hiérarchie qui est tellement anoblie qu\\'il n\\'est plus nécessairement considéré comme valet du roi car il a grandi en puissance autres titres de mênkām ncɑ̄\\'wūɑ̄ ndì à kɑ̀lɑ̄\\'mbāk báá ngɑ̌ ìnjā\\' pēhmbhì mɑ̄ ē ndāmɑ̀ lɑ̀sɑ̌\\' sēnɑ̄ ɑ̄ zì bíì pōō nnák nkɑ̀yɑ̀\\' zɑ́h wèn njā\\' sá\\'ndʉ̄ɑ̄ nzhììsì mbʉ̂\\'wèn mbā\\' lɑ́ nsēnthʉ̄ yə̄ə̄ ǎ mɑ̀nzɑ̄ kòm/kə̀b ntìé\\'è mbɑ̀ɑ̄nshǐ mɑ̀nnāhnshì mīā āfrīkà ndə̀b sīècɑ̌\\' mbɑ̄ nēhē ǎ ghʉ̌ yāā sì pōh lǒ zɑ́hnzɑ̄ nìīmbǎk mɑ̀mfī\\' mɑ̂nì nkō\\' mbə̄ə̄ mēn à kǎmɑ̄nzhʉ̀ɑ̀’ tàā kò lɑ́ lāhā pɑ̌h pén ō tɑ̀\\' tě\\' nsè\\' mō pí shìànsè\\' yēē hāt nā ò báá pɑ́’tū lɑ́ còhsì ngóó mō pə̀pē’ mbɑ̀ nkòò nǎ mɑ̀njóh cīcō\\'ò kōō nhɑ̄ ā lɑ́ pèn lā\\' yùà ngɑ̌ mɑ̀njū\\' nā à mbə̀pə̄\\' ǎ ghʉ̀ tɑ̀ ngɑ̄\\' nshù ī mbʉ̄ɑ̄ nā á mɑ̀njā\\' mbɑ̀ mvī tíì ǎ ngʉ́ vʉ̀ nìá ń njēē ghǎp ndhī mvèn pʉ̌ nkə́\\' nàh nkwɑ́ɑ́ ngèè ngɑ̌ mɑ̀nsī\\' pè\\'è lā mbɑ̀ɑ̀ bà fén tə̄ə̄ pō ī yāā kɑ́ lī\\' sī mbhʉ̄ mʉ̄ntāā sìèsì tō\\' yǐ ngrīsì ngɑ̌ zhí làh ngə́ə́ ghə̀ə̄ fè\\'éfě\\'è ghèlɑ̀ dù ngélɑ́ lù nzhīē á ngʉ́ cǔ\\'nshù yāā mɑ̄mbɑ̄h ā tóknzhì pó nkə̄ə̄ wúzɑ̄ pí nsə̀\\' pó ntèn wǎ\\' pó shwītōk sə̀ə̄wū sī mɑ̀ngʉ́ wèn bɑ̄ sāhkwɑ̀ nkɑ̀ndàk mbɑ̀wɑ̄lɑ̄ tá\\' yì mvàk ɑ́ ngà\\'nŋwāt sɑ́\\' nkō pʉ̀ɑ̀ ī ngòò lɑ́ pè\\' njɑ̄\\' yáá mɑ̀ndɑ́\\'sí mɑ́ kɑ́ kǒmbàk mɑ̄ŋū ŋúnzɑ̄ pɑ̀h pōōsī nshʉ́ɑ́ ndhī báá pə̌b nɑ́ ò ndók sá\\'ndʉ̄ɑ̄ mɑ̄ ā [mɑ̄ ɑ̄] ghɑ́\\' khù pō lɑ̀séé mɑ̄vǒ tɑ̄ nzī ā ǒ ndǒk ò ó nnū nshì pó ŋwàā nkwàà ŋʉ̀ŋʉ̌\\'ŋʉ́\\' mbɑ̀wɑ̄lɑ́ ndòm sīècɑ̌\\' mbɑ̄ yì ntīē wóknkām kɑ́ tɑ́ ó mɑ̀ngʉ́ ʉ̄ mvāt lě mɑ̀ncō lāhā nzhwīē á zī póónì ngɑ̌ mɑ̀ndáh khù ā ntām sāk nnìɑ̀ncāt mfʉ̀\\' mbʉ́ɑ́ nə̌h ntə́ə́njɑ̀ɑ́ ndòm nʉ̀ɑ̀ ngà\\'pèè nò lǎh ghə̀ə̀ zǐ ncwēh mēn ò ndáh ghə̀ə̀ zǐ nsíésí nǔsíé mbí mēn ò mɑ̀ mēn ǒ nzhīē ngà\\'pèè nò pɑ́\\' mɑ̄njūāsī ā fà\\'á ǹ sī mɑ́ mēn ò bɑ̄ shìīnə̀ə̀ ndèhsì yáá kù\\' fà\\'á à sì\\'í nsī\\' nā ī bɑ̄ púh ndùàndùà pèn lā\\' ngǎ\\' à kɑ̀\\' tɑ̄ nzɑ̄ wúzɑ̄ (bɑ̄) ngǎ’ mɑ̄vǒ ǹ kɑ̀’ sóh nkā’ bɑ̄ njīnjā\\' wèn nkwēn ncwēèncà\\' nsɑ̂\\'ncà\\' ndɑ̀\\'ncà\\' mbʉ́ɑ́bɑ̄ pó ghǒk ndhī bê mbə̀pə̄\\' pɑ̌h nnāk ngāp ngɑ̌ mɑ́ njòhnshì ntâ’ntēē mbōòpè’è nzʉ̂’nʉ̀ɑ̀ pí nnâknə̀ə̀ ngɑ̌ mɑ̀njīī ngʉ́ɑ́\\' nɑ́ wúɑ́ mēn à ngòpnā nə̀ə̀nzhwìé mbɑ̄ ncɔ̌ncɔ̀ yáá pīē ghòó mɑ̀mmɑ́\\'ní ā kǎ\\'nsè\\' pō bíì ǎ ghèn mɑ̀ ntēē (yá’nthʉ̄) ŋ̌h ǒ ghʉ̌ kɑ́ lī yāā bɑ̄ yǐ wɑ̄ lī nthí mǒ’ vīāt wèn dīē nzhwìè ngɑ̌ mɑ̀mbhʉ̄ mɑ́ pō lī\\' lǎh wèn mfɑ̀\\' mɑ̀ ǎ zhí làh ngə́ə́ ghə̀ə̄lɑ̄\\' zǐ nzhìmbèè kɑ̀cák mfʉ̀\\' chargeur de batterie sên mɑ̄ghɑ̀ɑ̀ bà yì mʉ̀nzhwíé ghěn mɑ̄ghɑ̀ɑ̀ ǎ mɑ́ ghǎ\\'wèn ghù ǎ hà\\'sì ā tɑ̀ nthʉ̄ ā sēē à sǐ\\' nsī\\' nā ī bɑ̄ ncō\\' mfɑ̌\\' wèn ǒ vɑ́h yō ò mbè\\'mbè\\' mbūànzɑ̄ lɑ́ ǒ nját ngé\\' sì\\' lʉ̀ɑ̀ wú ú pó ndú\\'mbìè pí njàà mfìmfì mǒ mɑ̀ndáb njò\\' lɑ́ tèn wɑ̄ mvèn ncàk bɑ́ ndə̄ə̄ mbè\\' wúzɑ̄ ndhī fə̄htāp nkhʉ̀ɑ̀mfɑ̀\\' sə̀ə̄zʉ̀\\' ǒ sì ghʉ́ pɑ́\\' yʉ̄ɑ̄ lɑ́ mbɑ̄’ yèé mɑ̀ hɑ̄ njɑ̀hnjɑ̀h wèn tūpō ndʉ̄ɑ̀ pɑ᷅\\'nkèn/ca᷅hnkèn ngwât nzhìndʉ̄ɑ̄ ndèn ǐ còh nshwī mbè\\'zīī càbɑ̌ ngòfāt pɑ̀lēētīā il connait la conjugaison mbīā nshù càk bɑ́ pó ndáh ndə̄ə̄ wùzɑ̄ móó tām sīē mbʉ̄ɑ̄\\' pō ī sí\\' mīālɑ̄\\' cō\\'mfɑ̀\\' mā mmú\\'zhwìè ǒ kwě\\' ntìè\\' ē hwīēsì í ndók pīē nthínzhì gháhnshǔ pǎh kè\\'è nthîlə̀ə́ mɑ̀nthī njāk pìì sìpə̀\\' pɑ̌lɑ̄\\' à kɑ̀sɑ̌\\' wèn nák nnàk mǐ mbʉ̀ɑ̀\\' pʉ̀ kɑ̀\\' sɑ́\\' kābsì ǎ vén zēn zǐ ndòm lòh ngɑ̌ nɑ́\\' ncāhsī nɑ́ béé tə́hnzɑ̄ lè cwǎlák mɑ̀ngé’ mbī’tū mɑ́ á kɑ̀’ vīāt ǎ cwàā nā ī ngà\\'kǎ\\' fɑ̌\\' kǎ\\' nɑ́ à nǔ mbé\\' kǎmnkwèn mvʉ̄ɑ̄ à mā\\'sī kǎm yāā nzhwíé mɑ̀ mbǎ\\'ntáb ì pó ncēh yāā lì mɑ́ kɑ́ tɑ̀ kɑ́ nkə̌\\' pēlɑ̄ ngɑ̌ mɑ̀ndə̄ə̄ wúzɑ̄ nkhʉ̌nkèn ndēn nzhī ndēn mɑ́ á lēn fà\\'á á sī njò\\'ndāk bɑ́ bɑ̄ ngòòmbōk bɑ́ ndʉ̂\\'nùpʉ́ɑ́ nzâkndòh ǎ pén lɑ̀hsì zā ǎ pén mɑ́ á lɑ̀hsì ā mbōò mà nděn móó lò ngɑ̌ lí\\' khʉ̀ɑ̄ndʉ̄ɑ̄ ntābsīē nzhìè làh mbɑ̄ tɑ̀’ mbû’nshǐ mɑ̀nkō à fɑ́hnzɑ́ è pɑ̌h nàk tɑ̀ nkwēn khʉ̀ɑ̄ndʉ̄ɑ̄ mbǎk mɑ̀ngén lō ŋɑ̄\\' ndàk bíí nzɑ̄ lì ngāp kɑ̀\\' cō pù\\' mɑ̄ é ngʉ́ kɑ́ mɑ̄ é mfɑ́\\' kɑ́ kɑ́ tɑ́ mɑ̄ é mfɑ́\\' ɑ̄ nkwèè zʉ̀\\' nkwèèsì zʉ̀\\' khʉ̀ɑ́\\' zhí làh mbhʉ̄ nzɑ̄ yò wúmòó mɑ́ kɑ́ nzhú ngòfāt ò lɑ̀\\' (lɑ́) … à lɑ̀\\' (lɑ́) … pǎ\\' làt pǎ\\' tòk kɑ̀cāk ngɑ̌ ìnzáb ō zʉ̌\\'nʉ̀ɑ̀ɑ̀ hɛ̄ɛ̄pì ghèn ndēēsī nkā\\' mʉ̌ ndēn ndhī í vɑ̄h nɑ́ ì ò phʉ̌sí yə̄ə̄ mɑ̀ ǒ njɑ̄\\' ndòm vàm zǎ cáh tēhsì ncɔ̀ nshʉ̀\\' mɑ̀ mʉ̄kwɑ̀ ǹ kɑ̀\\' kwá\\' fà\\'á ǹ kɑ̀\\' kwá\\' bɑ̄ ǎ mɑ́ tɑ̀\\' ngɑ̌kúɑ́lè mvʉ̄ɑ̄ bɑ́ nzɑ́ yá\\' lēē ntēh mōō ǒ sì ŋō\\'sī ndhī ǎ mɑ̀ ntámndʉ̄ɑ̄ lām ngɑ̌ yú\\' sìpə̀\\'/sìpè\\' ngɑ̌ fíí ngɑ̌ mfɑ́\\' nɑ́ pɑ̀nkɑ̀yɑ̀\\'/nkɑ̀zhʉ̀ɑ̀\\' thī mbà\\' nhɑ̄ mbú à kɑ́ ntīē nù béè nzɑ̄ ndə̀\\' nzɑ̄ ndə̀\\'tə̄\\' lǎknè\\'/lǎknə̀\\' ǎ lóó nā wúzɑ̄ ā ǹ nām yāā béè ngɑ̌ mfɑ́\\' nɑ́ mvěn pʉ̀ píá nkɑ̀zhʉ̀ɑ̀\\' ǎ náb ā pò\\' zī kə̌\\'ngāā kwě\\'ngāā yò pɑ̌\\'ghə̀ə̀ lɑ́ kɑ̀\\' tēn ghɑ́\\' thʉ̄ bɑ̄ wāhà ngén kò ngwáá làt wěn nɑ́ à pó pàt mbhʉ́ móh nɑ́ nkwè\\'nì yɑ̄ɑ̄ ndū mvʉ̄ɑ̄ shʉ́ɑ́ndāk lɑ́ kɑ̀\\' pūā nhə́\\' nshǐnɑ̄h ndʉ̄ɑ̀ntēē ŋwɑ̀\\'nì cāb pō ā lɑ́ cīcō\\'ò cīcō\\'ò tāh pō ā lɑ́ ndɑ̀ɑ̄ nkùtì mbàk lɑ̀lǒ ngɑ̌ cǎh tɑ̀\\' nkèn njûyú\\' mbú ò \"4 sò\\'njɑ̀ɑ̀\" fhʉ́ sāk mbâ\\'ntèn ntènmbâ\\' ǒ mɑ́ yǐ hɑ̄ ǒ mɑ́ mīā hɑ̄ ne m\\'accuse pas nthí nzɑ́ mɑ̀nsáh lā ǒ nté\\'zɑ̄h tɑ̀\\' nǎ\\'nsǐ mbɑ̄ sì\\' mɑ̀ ǎ mɑ̀nhó nkɑ̄ɑ̄ sòngà\\' mvāt lě mɑ̀nkwēn lāhā mɑ̄ndɑ̀\\' mbàk lō ngɑ̌ kwà\\' mɑ́ mbǎk ìndō yāā sī mɑ̀nnák bɑ̄ nkòò nǎ mɑ̀njā\\' khù á hə̌\\' nzāt shʉ̀ɑ́nù ǎ kǎm ncà\\' pō zāb ī mʉ̄ɑ̄ fùfùà ngɑ̌ mɑ́ ngà\\'ŋwɑ̀\\'nì ghòò zǐ kòngénmbhì fʉ̀ɑ̀\\'sǐnzhì ndʉ̄ɑ̄ lě fíísí tɑ̀\\' pɑ̀ngràfí nzhī nàh mbāāsī nkɑ̄ɑ̄ pó shʉ̀ɑ̄nzhǐ ì mēnìá\\'nə̀ə̀ pō sìyɑ̄\\' ntìè\\' mōōnkō\\' nǔkɑ́ ó kwě\\' làh ntʉ̄ɑ̄khǔ nɑ́ yà nù fà\\'á ā thʉ̄\\' mbə̀\\'mbə̀\\'/mbè\\'mbè\\' cà\\'sǐ ngwēèwèn tɑ̌hpō lɑ́ mbɑ̄\\' ngɑ̌ zhí làh ngə́ə́ fè\\'éfě\\'è mēnsə̀ə̀ mbīènàm yāā kɑ̀\\' pé\\' nàh ngʉ́ nǎ\\' nɑ́ wèn ǎ cǎm ndʉ́ndàk mǎ mbɑ̂\\' nzhwīē à mênmvī pʉ̄ɑ̄\\'mbō yā\\' sǒh nā ò tɑ̄ nzɑ̄ wúzɑ̄ púánkhù nkà\\' títī ngʉ̀ɑ̀nkwā\\' m̌ mɑ̄vǒ ǒ ìndī\\' mèhsǐ béé sìèsì lè mɑ̀ ǒ zhí làh njōknā ó nɑ́ wū mbɑ̄’ ō pó nshú’ nsə̀’ mɑ̀ lāhā pɑ̀njêyéé yá\\' sɑ̀\\' ngɑ̌ yú\\'sìpě\\' mbú ò nù fī yáá mɑ̀ lāhā ngà’njǎm à tòókò mfámsí ghə̀ə̀ mfámsí nù mvɑ̂hnēhē ngɑ̌ mɑ̀mbīɑ̄ mɑ́ mbàk lō n\\'absorbe pas ses mensonge tēn njǎb à mmɑ́\\' ncò mēndɑ̀\\' m̀ fhʉ̄ fʉ̀ sǐ\\' mɑ̄ nkō pó wèn bɑ̄ mbā\\' lɑ́ cēnsī nzhwīē ì mmɑ́\\' nzɑ̄ sī\\'sī mbō mǒ mbə̀\\' sēn ò cf mɑ̀ nthʉ́ nkə̀\\'nì/nkwè\\'nì sɑ̀\\' lè sɑ̀\\' zō lè nkwē\\' kàhsì pó mbú ì líé\\'mō\\'njàm mbɑ̌\\' ndhí á cwàà lə́ə́ncə̄ə̄ ngɑ̌ tɔ́ɔ́ í yī bê yōh pɑ́h í mɑ́ sēn ngɑ̌ ghʉ̌ ngǔ\\'nzɑ̄ vʉ̀\\'ʉ̄ ndhîndɔ̀ nzɑ̌ léé è mēmmɑ̄ ò nkǎmbū’ ǎ ngén kò mbɑ̀ ntìè\\' yì mbǎk ndō lɑ́ sɔ̌ntō ngɑ̌ ghʉ̌ tɑ̀\\' lə̀ə̀ ɑ́ ngʉ̀ngǎ\\' sì kwāh tū ō yáá ncāk mɑ́ pō ghə́ə́ ndéndéé mbú ì mbə̄ə̄ lɑ́ nùpɑ́’mbɑ̄hwèn cə̀’ mɑ́ kɑ́ wèndâm ngɑ̌ pén ó nɑ́ nkwà’sì mō ǒ kwɑ̀’ sēn à ndéndēē mbǎ\\'mbǎ\\' wèn ngáh kò applaudissement accompagnés parfois des exclamations telles que mʉ̄ɑ̄ndʉ̄\\' ǎ mɑ́ kwêngòò nà ǎ mɑ́ yà kɑ̌\\'lə́ə́ndʉ̄ɑ̄ sʉ̀ɑ̀ndʉ́\\' mɑ̀nsɑ́\\' cīēncə̄ə̄ ǒ nját mbīī wū tʉ́ɑ́nshǐ lóh ntǎ\\'nìì ndʉ̄ɑ̀fōh ɑ́ yēē pí nshʉ̀ɑ̀pʉ̀ sīē nák ɑ́ nshʉ̀ɑ̀pʉ̀ sīē nák pí wò nkhùvàm nkhùvǎmsīē kleptocratie mɑ̄ à yèè lóh zɑ́h ó fə̀ hɛ̄ɛ̄lʉ̄ɑ̄\\' móó yòmɑ̀ ngwɑ́ wɑ̄\\' ngɑ̌ (mɑ̀) ngén mɑ̀ tōm pó ghɑ̀ɑ̄ ngāp nhɑ̄ pɑ̀ɑ̄ yáá mbú ì pīē zǒ wák nous sommes en parfait accord autre graphie mɑ̌\\' ngáp tō\\'sī ngɑ̌ yá\\' yɑ̄ɑ̄ mɑ́ ngɑ̌ ìndə̄ə̄ mō ǎ fóhkò mēn à kɑ̀\\' tōh làksì ǎ cák lò kīkēē mōō yǎt kònkóómɑ́ tě\\'zɑ̄h tèn lǎ mɑ̀njā\\' ngɑ̌ wɑ́\\' nkwèè pìì nǎ mbí pèn ná\\' mɑ̄vǒ mbə́\\' nshʉ́ɑ́ yǐ nkwèè pʉ̀ cwè\\'/cə̀\\' mɑ́ kɑ́ ǒ ngʉ́ mfǎmfǎ nù yə̄ə̄ yɑ̄ɑ̄ ǎ kòmfɑ́\\' tú yáá fīā tɑ̀\\' ǒ ngwɑ̄\\' nā ō yə̄ə̄ túndhī í ncɔ̌ncɔ̀ sīsī de sìì ncónò\\' mbɑ̄\\' ō ndāmɑ̌ ghʉ̌ ghòōlə̀h pīīsī nshwī bíí nzɑ̄ lì ncām ndʉ̀ɑ̀ nā wěn pó wèn ò těh kwɑ̌ nɑ́ kwɑ̀ mɑ̀ yáá nhɑ̄ nèhē kɑ́ bɑ́ mʉ̀mvīātsī fě\\'è mvʉ̄ɑ̄ pí ngòòndə́b mɑ̀ntʉ̄ɑ̄\\'nkwàà ǎ mɑ̌\\' pó tók ì ngɑ̌ ghú\\' ngɑ̌ nʉ́ɑ́ ngɑ̌ lǎh mfʉ̀\\'nā hǒghə̀ə̀ ngɑ̌ zʉ̀ɑ̀\\' ngɑ̌ yɑ́ɑ́ mɑ́ ǹ sī ìmbát ngén ŋwɑ̀\\'nì bɑ̄ nkā\\' mbìyā\\' dhì ngén ntìé\\'è pēh mōh zʉ\\' lě mɑ̀nhú\\' mbêhmōh ntə́ə́njɑ̀ɑ̀ nɑ́hŋwɑ̀\\'nì ntìā ntāb ndhī nzâknù 7 túmfɑ̀\\' à kɑ̀\\' phʉ̄ ā mbɑ̀ phʉ̄ tɑ́ ǹ ngā\\' pɑ̀mbhìngʉ́ɑ́\\' mɑ̀mvā\\' tú póálɑ̄\\' ncə̌kónkɑ̄ɑ̄ ní nàh ntʉ̄ʉ̄ zʉ̀\\' pó lɑ̀ɑ̀ bī mbɑ̀ yàā wū lɑ́ ghʉ̌ yì mfɑ̀\\' cə̄ə̄ ncāp = ǒ sì cə̄ə̄ mɑ́ tɑ̀\\' mʉ̄ɑ̄wú tə̄h bī ngɑ̌ kwè\\'/kə̀\\' ō tɑ̀ ngwɑ́ sʉ̄\\' cāp pú\\'ncə̀ə̀ zǒ mbə̀pə̄\\' tàmfām mɑ̀\\' ndǒh ntʉ̀\\'nkɑ̀\\' ǎ sǐmōō nzí pɑ̀ndák mbɑ̄ mɑ̀ yáá sàh nzāt mǒ ghʉ̌ yàā lèn ngà\\'mbhǐ à sǐ\\' njʉ̄yōk sə̀ə̄līē\\' bɑ̄ ǎ nkōmsī nā ì tî tɑ̀ mó’ līē’ lɑ́ mēmmɑ̄ ò lǎh cwě\\'mfɑ̀\\' mǒ nsɑ́\\' táànkɑ̄ɑ̄ ngòòmbɑ̄\\' ó sɑ̀\\' mêngáp mbhǐ hōm hwīēsǐvʉ̀ fʉ́\\' nkhʉ̄ɑ̄ pɑ́ ǹ nnūngùh yāā nsɑ̂\\'ndʉ̄ɑ̀ngèn nnák tǎk yāā nnák tǎk nǔngʉ̄ɑ̄ ǒ zhí nàh nnák mɑ̄mbà\\' á ǎ fámsí ndhímōh nsʉ̀ɑ̀ pīē ntē\\'ntà\\' \"10 ndʉ̌\\'nzɑ̄\" nshí\\'shī\\' tî yàyàkām ē ē yàyàkām ē ē ngɑ̌ pén ó mbàtndʉ̄ɑ̄ ncwé\\' sī\\' mbèè nhū póózū zǎ ndáh nshʉ́ɑ́ ntōk mēē mbàk kɑ̀\\' lō (bɑ̄) remarque ngɑ̌ kwà\\' fà\\'á ngɑ̌ kwà\\' mɑ́ ŋ̄h njɑ̌hnàm nkōòtū elle a accouché d\\'une fille mɑ̄ á vāk ī móó yə̀b ngòò lě lù\\' ngòò lěn tén ngòò yā\\' shǐ sǒh nɑ́ ndhī lɑ́ tɑ̄ ncámsí nzhwīē á ŋàh tɑ̀ ngʉ́ ǹ ncōp kwà\\'sì ghòōsāk yò túmfɑ̌\\' mɑ́ kɑ́ nzâknù 32 ntʉ́ɑ́ngwè\\' ndʉ̄\\' lɑ́ kònkhú shwītōk vâ\\'sì ghə̀ə̄ nkù\\'nì wɑ̄ bɑ́ mɑ̀ngé\\' ē wěn sì táh kwèèsì mbɑ̄\\' nkòò pō ngòfāt nkēē pɑ̌lɑ̄\\' è pó yɑ̌\\' ncà\\' yòh bô quotient ndò\\'càm mbīīsī ngɑ̌ ŋǎh yāā ncámncām tɑ́ yāā shʉ̄ɑ̄ ā nnīāt ntīē ngāp kō\\' ngāp ntúmbō tî sǐ\\' bɑ̄ fʉ̀ɑ̀\\' shʉ̀\\' bɑ̄ ngà\\'fʉ̌\\' ngɑ́ɑ́ nkɑ̄ɑ̄ bì yáá lɑ̀ thí mbè\\'mbè\\' fɑ̌hnzɑ̄ njɑ̄ɑ̄nkà\\' ngɑ̌ mɑ̀nzhī\\'sī làh mbɑ̄ mbû\\'lōk ghèn nzēnshì pí nzhwīē ò sī cwàánù bɑ́ bɑ̄ pìé mbɑ̀ɑ̀ ngɑ̌ mfhʉ̄ mɑ̄ njò sáhnù ntìmbhì 45 yò wúpíéndɑ̌h mbɑ̄ mɑ́ kɑ́ tómbō cōh pʉ̀ɑ̀ ó thʉ̄ ò kɑ̀\\' ghʉ́ dìpʉ̀ɑ̀ làh ngə́ə́nù nsònkhù mbō mǎ vìòpsì ngɑ̌ yéé pʉ̀nǒk ntēē tɑ̀ njə̄ə̄ fhʉ̄ zě\\'è hɑ̄ wū ā lè ntâmndhī ǒ ngén mɑ̀ hɑ̄ sū’ ū nkhʉ̄ɑ̄\\' mbə̀p nzī ngɑ́ɑ́ ngʉ̀ɑ̀ mbīē\\'sī nkhʉ̀ pó fhʉ̄ pǎhpàh ntōm ngɔ̀ bà mbɑ̄\\' ó mɑ́ tɑ̀\\' nkɑ̄ɑ̀mvēnɑ̀ ǒ kwě\\' làh nzēnshì í ngɑ̌ mɑ̀ncɑ̄ɑ̄ nʉ̀ɑ̀ ā táàcwà nkɑ́\\' njɑ̄ɑ̄ pɑ́\\' mfhʉ́ pēnɑ̄ nkáhsí ntìē\\' ngwèēwèn ngɑ̌ mɑ̀njū\\'sìpə̌\\' mbú ò ò bɑ̌ngʉ́ mbɑ̀ kɑ́ lɑ̄ ò mɑ̌ngʉ́ mbɑ̀ kɑ́ lɑ̄ wɑ̄ ngʉ̌ tə̌\\'nù lóhwūɑ̄ ngɑ̌ ghʉ̌ ngǔ\\'nzɑ̄ ntòhō kèēmfɑ̀\\' mbʉ́ɑ́ mfɑ̀\\' ǹ kɑ̀\\' zhī (zǎ) ngù\\'fī pɑ̌dùālā pʉ̀ yáá mǒ\\'ntīē yáá mɑ̀nshʉ́ɑ́ ā ngwáá kà\\' ŋwâtlɑ́\\' thʉ̄ mfíé\\' mvāt mmɑ́\\' těnpè\\'è zɑ́hnzɑ̄ ǹ kɑ̀\\' ghʉ́ sə̀ə̄ wúpíéndɑ̀h nshʉ̀ɑ̀ mǐ mɑ̀ lāhā mbɑ̄’ fə̌yò nǔkɑ́ bɑ̄ mbǎt mbɑ̄ ɑ̄ tòòndāk kwênsòm ǎ zhí nǔsòm nzhwīē ndhī í ghʉ̌ yàā lèn zǎp tètèn hɑ̄ yāā lɑ́ lè mbɑ́ ǹ ntā\\'sī ō ó mbhʉ̀ndòh ngɑ̌ yíí mɑ̀ nɑ̄h mǎ shì\\' mfhʉ̌mfhʉ̌ nù mvʉ̀\\' nɑ̀ càm ngù\\' fī nnó\\' nɑ́h mbí wèn nzát mɑ̀mfɑ̄\\'sī ā pó kō\\' nshùntēē ngwā\\' njīīngʉ̄ɑ̄\\' zì béè ngámndʉ̄ɑ̄\\' mbɑ̀ pó ntěn nɑ́ zě’è ǎ mfɑ́\\' tɑ̀\\' ndhìmóó mɑ̀nshīī mōō yàhléh ghòò nzī mǎ ǒ sì pīē ntìé\\' mbú à ngòòmbɑ̄\\' ō zə́hlōh kɑ̀\\' cō zɑ́h à mbǔ\\' kʉ̀khʉ̀ɑ̄nkèn nshì\\' ntòhō nsʉ̄ɑ̄\\' pìàp sóh cō zɑ́h mōō ngɑ̌ mɑ́ ngà\\'vʉ̌ nɑ́ zhínǔsāhndó\\' ǎ tám pó tók à ǒ yéé yǒ ná mɑ́ kɑ́ ǒ kwà\\' yǒ ná mɑ́ kɑ́ pɑ̌h kààlɑ̌ nɑ́ yāā lɑ́ tɑ̀ ngɑ̌ (mɑ̀)ngén yə̀\\'/ywè\\' ī ǒ njū\\'nshù nzɑ̄pìì nāk mēn-wú ntìé\\' mbú à làh nkwá\\' nǔ ná póángə̀\\' ndáh wū mfɑ́\\' sípè\\'è mʉ̄ɑ̄nshì sómvēn lɑ́ kòncōh nàm sə̀ə̀mbʉ́ɑ́ mbūànzɑ̄ mɑ̀ kàm béè (730 mbz) conjugaison à l\\'imparfait ǹ sǐ\\' nkwé\\' làh ngén ŋwɑ̀\\'nì bɑ̄ báá wú ngɑ́\\' tɑ̀\\' ǒ sì má\\' ná ó nā ǒ sì lɑ̄\\' njɑ̄ɑ̄ nthʉ̄ ó nɑ́ sə̀ə̄wú sīècɑ̄\\' tɑ̀ ndéh mbɑ̀ mōō mɑ̀ ǒ zí těn ò ǎ ghěn ŋwɑ̀\\'nì sì pú\\'ncə̀ə̀ cwēē kʉ̀kàm ngɑ̌ mɑ̀nkōō tū ā lī\\' ghə̀ə̀ mɑ̄mbə̄ə̄ mbā\\' lɑ́ mɑ́ ndàhghə̀ə̀ ǎ síé khʉ̀ɑ́\\' ndhī ncámsí ghə̀ə̀ ngwât píé dʉ̄ɑ̄ mōm pō ō mvʉ̄ɑ̄ yì ǎ nkáh lɑ́ sǐ\\' nnēē ndōm bɑ̄ nɑ̄hkwɑ̀ ǒ mɑ̀nhɑ̄ ā cà\\'sì ǒ mɑ̀nhɑ̄ ā pə̀\\'nì shwǐ\\' yāā ngɑ̌ ìmvēn ō ngɑ̌ wɑ́\\' nkòò nǎ mbú ò ǎ mɑ̀nkōō nnòk mǐ mbɑ̄\\' ó ghěn kǒnshwī nkhʉ́ɑ́ mbōō nshwì\\'mbhì pèn shʉ́ɑ́ nkà\\'nshʉ̀\\' sâkngāp sâktʉ̄ʉ̄ as-tu déjà fais l\\'expérience du bénévolat pɑ̌h mɑ̀ngén kāāmɑ̄njīī nzâknù 20 ghə̀ə̀ ntìè\\' yì nǔ shʉ̀ɑ̄ wèn lɑ́ ò kǒsí wèn ò pɑ́\\' ndáh nzhwíé ī wɑ̄ bɑ́ mbèé mbú ò ndə̂b mvī ǒ ngén mbèè ntìé’ lě ɑ́ ghʉ̌ kɑ́ ǎ zìàsǐ nkhù mā zēn zǒ mɑ́ wɑ̄ cə́\\' mfhʉ̄ mɑ̀ nɑ́ lə̄\\' mbǎk nzɑ́ ncāt tōō ǹ dɑ̌\\' ntám lóhwūɑ̄ tɑ́\\' sīē cə̄ə̄nzèn mǎ mbɑ́\\' á njàm nìnì zǐ mɑ̀nzɑ́hsí nthʉ̄ ā pō ó ngāh yə̄ə̄ yèh zǐ kó\\' pʉ̄h nǔ mɑ̀mbə́\\' ā ǒ pə̀\\' njɑ̄\\' pɑ̀ndʉ̄ɑ̀\\'ncǒ lʉ́ɑ́\\' nàm tāā làh mfhʉ̄ kè\\'è ngén ndàk ŋwɑ̀\\'nǐ yá\\' pǎtnjàm ntìè\\' ē lə̀b pó ywēn nthʉ̄ ō kāhā kó\\'ná mɑ̄ngʉ́ wèn à mɑ̄nsāk nǔkɑ́ ǒ mɑ̀mfīī nsāt wèn ghʉ̌ mbɑ̀ lāhā lɑ́ ndòm sīècɑ̄\\' lè mɑ̀ à sǐ\\' mbé\\' mbí ngà\\'pèè bɑ̄ kēē ǒ hɑ́ nzhwīē ó mbú ì pǐkhù sɔ̀ wèntá\\'yǐ mɑ́ zén káp mbɑ̂\\' nzhìāndə̀ə̀ mvʉ̄ɑ̀vʉ̄ʉ̄ ǎ láá pó nkòó nà ndê\\'nzī ǎ ghʉ̀ nù shʉ̄ɑ̄ ā nshwīē nā nshwīēsī nā pàāzèn nzɑ́ lēē è póómɑ̄ ō cwâhsīēndʉ̄ɑ̄ nzhwīē í zàb ì nshwí\\'nɑ́ mvàk yì pó yòk í mfɑ̀\\' lɑ́ ǒ shwīto᷄k yà kwà\\'mbíɑ́ ngù\\'fī mɑ́ làh ndə̄ə̄ndʉ̄ɑ̄ njò\\' lɑ́ cù\\' ǎ fɑ̌\\' pʉ̀pē\\' yáá sìànì ǎ hòō mōō mɑ̀ lāhā béé mɑ̄ŋū béé mɑ̄ŋū lè mɑ̄ á cō kò nhə́\\' pò\\' pó cāhsī nzhì mɑ̄vǒ mɑ̀nkāp nzhʉ̀\\' mbā\\' lɑ́ mbɑ̄ tɑ̀ mfhʉ̄ mfɑ̀\\' pōō mbǐ vīī nɑ́ ì fʉ̀ ā nèè pó fʉ̌ ndʉ̄ɑ̄ lɑ́ mfī\\'sī ǒ ngə́ə́ njámân nzhī í ndə̂càk kwà\\'mbīɑ̄ pɑ̀ghǒh pʉ̀ ngɑ̌ mbéé ngà\\'njǎm ì yì mbâ\\' tɑ̀ mbʉ́ɑ́ lɑ̀ bɑ̄ ǹ sǐ\\' ngʉ́ ngʉ́ sʉ̀ɑ̄mfʉ̀\\'nā bɑ̄ nnâk ngāp nsōk yǎt mbèè nsóh nkā\\' hēé ndàk pó njū’ lǎmnshù pí lām pó mɑ̀\\' í tēn ǹ kɑ̀\\' kwé\\' náhnshì (bɑ̄) cwě’ hwíé ncà’ sī wū bɑ̄ ǒ sì cō mʉ̀ ngwē\\' ngʉ̀ɑ̀\\'mōh fʉ̌ pʉ́h ā mʉ̀nzhwīē ǹ kɑ́lǎh yà ndhí móó hɑ̄ sūkù mbīānì ngwâhwèn cɔ̄ ndhī lɑ́ thʉ̄ m le maitre kalabak est absent ghʉ̌ yāā nkà\\' nshʉ̀\\' mvɑ́h těh mvát mbìyā\\' ngwá\\' cōh nā ngɑ̌ cɑ̀’sì ō lɑ́ ngà’njǎm à tòókò kàhmɑ̀ncò mbā\\' lɑ́ nshīī pɑ́\\' hùɑ̀ lɑ́ ò yě pūpwēn ò sāh nsə̀\\' mī ngwɑ́ ŋ̄h ngɑ̌ vɑ́h yā sēn à ngǎ’ndə̀ə̀ wèn pómsí/pə́bsí mbhì zʉ̌\\'ŋwɑ̀\\'nì ndāmɑ̀ shʉ̀ɑ̀\\' mvʉ́ɑ́ kònté\\' və́h mbɑ̀ɑ̀ nnák yákyāk lǎt nkēēnɑ̄ ngɑ̌ yá\\' lò ncɔ̀ nshʉ̀\\' mɑ̀ mʉ̄ntāā sə̌wū nùnkɑ̀ndàk ò kwǎ\\' nā ó nɑ́ wū yə̄ə̄ mɑ́ ǒ ndī\\' mèhsì mmwēn ghèn tɑ̄ nsɑ́\\' dìpà\\' ngòfāt ǎ tám sīē au sens figuré ǹ kɑ̀\\' lə̄ə̄ sə̀ə̄wū zě\\'è mɑ̄ nkōō nnǒk hāā zǒ ndìàndìà njókvʉ̄ʉ̄ nkōhvʉ̄ʉ̄ ne pas confondre avec ncwēē ǎ lók wúɑ́ ndū ì nsàkndhī wèn lǎh lòh ntām ō ò pīī ndáh nkwāt pè\\'è nō ncō\\' nzhì zén nsìènsì ǎ mɑ́ mbɑ̄\\' ngǎ\\'ncə̄ə̄ ndáh wū pàh sìpè\\' ǹ dɑ̀ fhʉ́ nzhī m̀ fhʉ́ nzhī nǔkɑ́ nkɑ̄ɑ̄ làh njwēn lɑ̀ sì bɑ̄ mbú ò ndū à ǒ nját nkə́\\' ā á ngǎ\\' ǹ njǎt sì sǒh nā à hɑ̄ ā hāh nshʉ̀\\' lɑ́ cīcō\\'ò yò túmfɑ̌\\' mɑ́ kɑ́ mvə̄h wèn ǹ sī ìmbɑ̄ sīē bɑ̄ mɑ̄ndāmɑ̌ mɑ̀ hɑ̄ nshwîtū nǒktěnshù í cát ngɑ̌ yá\\' càh ngɑ̌ kúɑ́ lè wèn kōsī ā lɑ́ ō titre de notabilité venant du verbe mbʉ̄\\' pó pʉ̄h ā mfɑ̀\\' ngɑ̀ɑ̀ nkɑ̄ɑ̄ pó pàtsǐ mōō lɑ́ yéhsǒ mɑ́ ntêhnjō ngə̀\\' nǔ yáá kwēnsī ā tɑ̀\\' monarchie cāpnā ò mbàk sī kɑ́lɑ̄\\'lō (sə̀ə̄līē\\') bɑ̄/mbàk sī ìndɑ̄\\'ndō (sə̀ə̄līē\\') bɑ̄ ngə́ə́ mɑ̀ncāk kīkēē ǒ sì tīē zēn zǎ ngɑ́ɑ́ ntōk zhínǔkèè ngǔ\\'nù cʉ̄cō\\'ò sɑ̀\\' ncέh lá nzɑ̄ lɑ́ ngɑ̌ mɑ̀mbōh ngʉ̀nù nkwèlè\\' mɑ̄ɑ̄ pèn fʉ́\\'sí nā yě njàb pèn pát njàm ngāā mǎ ghʉ̀ mɑ́ zhwíǎt pɑ̌h yíí nī pō lén mɑ́ ó ghʉ̌ wū ò lī ngʉ́ il n\\'est pas d\\'accord avec sa femme zʉ̀\\' lɑ̀cǎh tɑ̀\\' ndʉ̄ɑ̀ntū ǎ hámsí mōō tɑ̀ à ghê\\' nkə̌nà’ sɑ̀’ njóh sīēndʉ̄ɑ̄ lè sáhwū khʉ̀ɑ́\\' těn nkò\\' ngòmɑ̄tʉ́ɑ́ mbɑ̄ mɑ̀ ǎ ghʉ̌ njə́\\' nkòó nì ǎ ghʉ̌ ngù\\' sʉ̄\\'ʉ̄ ǎ ghʉ̌ ngǔ\\'nzɑ̄ sʉ̄\\'ʉ̄ kòm ó ghòò mō tɑ̀\\' ǒ sì sū\\' ndhī à móhnkě\\' mɑ̀nkhʉ̄ wúzɑ́ mfʉ̄ɑ̄ yáá lɑ̀ pé\\' zɑ̄ pó nnák sì\\' pʉ́ɑ́pʉ́ɑ́ cēn mʉ̀nzhwīē ghǎ’ŋwɑ̀’nì ɑ́ mbɑ̀wɑ̄lɑ̄ kwá’sí wū yì ǎ mɑ̀ncāk làh mbɑ̄ lɑ́ nsōk ā wò nǔmbísīē nzhìè làh mbɑ̄ kɑ́ bɑ́ mɑ̀nkō ō nzhī mɑ́ ó kwè\\' ā á pɑ́h ó mɑ̀ nkàm yáá pè\\' mɑ́ pèn sɑ́\\' pó yá\\' yɑ̄ɑ̄ fhʉ́wěn síé ghǎ\\'wèn hìā pʉ̀ɑ̀ ɑ́ ndhī cō ngwě\\' tóm ndʉ̄ɑ̄ nnɑ̄h zú ndʉ̄ɑ̄ mbàh tî ǒ téh mvènfāk zǎ nìá\\'nə̀ə̀ ncāb kīkēē wū thī nā sī mfɑ̀\\' mǎ bɑ́ bɑ̄ mbóó zhī síé zhī béé nù lè fǎmfhʉ̀\\' ndâ\\' ncābɑ̄ nǔ kɑ́ bɑ̄ mbɑ̄ séè ndāāmbō nǔpù\\' mɑ̂nìnkwèè shwǐ\\' yǎ yǎ kóh ce sont les prêtres qui pratiquent l\\'abstinence táàfʉ̀ litt père du roi vient généralement du côté maternel car c\\'est là où le père du nouveau roi cachait le futur roi dans sa famille maternelle pour éviter la jalousie de ses frères et le mettre ainsi à l\\'abri c\\'est l\\'oncle maternelle chef de la famille maternelle du roi qui prenait soin et élevait le futur roi qui prend donc le titre de táàfʉ̀ une foi que le roi est intronisé ne pas confondre táàfʉ̀ pɑ́h ì [pú ì] shʉ̄ɑ̄ nshwí ɑ́ pō láh ndə̄ə̄ wúzɑ̄ ngɑ̌ yá\\'nthʉ́ mbú ò pó mɑ̀mmóm ndʉ̄ɑ̀mòm thʉ́mbhʉ̄ cʉ̄cō\\'ò póómɑ̄ ō yō\\'sī nɑ̄\\' yéhsǒ mɑ́ ncù\\' ngwè\\' ŋ̄h pɑ̌h ghʉ̌ tɑ̀\\' mvʉ̄ɑ̄ mʉ̄ɑ̄wú tə̄ə̄ bī ngɑ̌ sí lóópè\\'è tām ngù\\' dhù nshʉ́ɑ́ ngɑ̌ ìmbēē lěnsām nzápndà\\' nzhì bǎ pʉ́ɑ́ ncō mbǐ sî mbə́p mbɑ̀wɑ̄lɑ́ ghʉ̌ mbʉ́ɑ́ fɑ̀\\' ndhʉ̌ŋwɑ̄\\' nthʉ̄ á kònjā\\' pɑ́ nə̀ə̀nzhwìè zāp nə̀ə̀sìmɑ̀\\' ɑ́ nkɑ̌\\'sʉ̀sòk táàmɑ́njə̀\\' wèn shìè wèn sɑ̄h mvī zā zhínǔsīēngwè\\' mbə̄ə̄ mbɑ̀ nù lɑ́ mɑ̀mfɑ̄\\'sī nɑ́ mó\\'zʉ̀\\' ntìmbhì nkhʉ̌nkèn sáhnù ntìmbhì 39 ngɑ̌ mɑ̀nkwé’ làh… ngɑ̌ mɑ̀ncāk làh… kɑ́ bɑ́ mɑ̀ngʉ́ ō kɑ́ bɑ́ mɑ̀nzɑ́hsí ō ǒ kə̌\\'/kwě\\' mbʉ̄ɑ̄ mā á ǒ kwě\\' nù za᷄ sʉ́ɑ́\\' fātsī kwéndʉ̄ɑ̄ wǎ\\' mōō lɑ́ ngʉ̄ɑ̄\\' tɑ̀ shʉ̄ɑ̀ ngɑ̌ mɑ̀njōknā à mbə̀\\'mbə̀\\'/mbè\\'mbè\\' cà\\'sǐ lə́ə́ndʉ̄ɑ̄ tómfʉ̀\\'nzhînù ǎ zàb ō nǔkɑ́ ǒ sì shwí\\' nù pɑ̌āzìā mfāt mbɑ̀ɑ̀ mbɑ̄h ǒ sǒh mbō mō ó tɑ̀ ǒ sǒh mbō mō ò yèè nzɑ̌ léé è póómɑ̄ mvʉ́ɑ́ shù\\' ā tɑ̀ ngɑ̀ pōh vǎmntō on dit bien pʉ̀ tāā pǔ\\'pōk ngɑ̌ fhʉ́nsōk ō ò dʉ̂\\' kìkēn kìkénù cwě\\'/cə̌\\' hwíé/shwíé donner la cadence cāb pō ā pɑ̀mfí\\'kè\\' pɑ̌mfí\\'kè\\' ǎ yá\\'nthʉ̄ ngén mfá\\' nā ì mbʉ̂\\'nǎ\\'mbú\\' ghʉ̌ pōō mvàksìsāh ngɑ̌ mɑ́ ngà\\'vhʉ̌ nshì njòkvʉ́ʉ́ tām nə̀ə̀ cwè’ mbèé hwíé nù sī sīē bɑ̄ lɑ̀hsì yōh lɑ́ mbɑ́ pɑ̌h lɑ̀ cō ndʉ̄ɑ̄ pɑ̌h yá\\' cōh sênfə̀ sênfʉ̀ nàm hə̀ə̄ mbūànzɑ́ yá\\' mɑ̄nkúkù\\' (~ 800 mbz) sì tɔ̌tèn tā\\' yáá ndə̀b zìmó\\' ngèè shʉ̀ɑ̀yɑ́\\' nkə̀\\'nì díé\\'mō\\' mbhì yā\\' ghʉ̀ ngɑ̌ mɑ̀nzhī’sī wū ǎ zɑ́ wúzɑ̄ ndí nshʉ́ɑ́ mɑ̄vʉ̀ngòp zúsōh hǎ\\'mbǎk díé sū\\' nkáh mbɑ̄\\' yòh yì ǎ ntáb pʉ̄h lɑ́ mǒ\\' wěn cák ó séè ǒ sì ywēn pʉ́ɑ́ ncām kwɑ̌ mɑ̀nhɑ̄ hə̀ə̄ tāmsī ā mbìyā\\' nkwè\\'nǐ mbɑ̄ ndʉ̄ɑ̄ mbɑ̀ mɑ̄vʉ̀ tīē mōō béé nzâknù lě ìnkōsī ngà\\'ŋwɑ̀\\'nì làh mbāāsī mōònkō\\' ì mmɑ́\\' ngòfát mbú ì tɑ̀ à cōh sě\\' nshì lɑ́ ntám mʉ̄ɑ̄kā\\' sìàní nù bɑ́ ngɑ̌ pén ō mēn à yāā lɑ̌\\'bɑ̄ mbhì pō mɑ̄ ndáh lìì ngʉ́ dìà líí wū mfɑ̌’ yáá mɑ́ kɑ́ pè\\'è yēē ntɑ̄h wèn cāp ntū\\' lɑ́ pí tōōsì wěn mɑ̀ntāmsīē mɑ̄ndó ǎ sùā khù ī mbɑ̄\\' ō lɑ̌\\' mɑ́ tɑ̀\\' nzɑ̂kǒmnzhì pʉ̀mbè wěn ncāk nkɑ̄ɑ̄ ndáh ngʉ́ kɑ́ pʉ̀ncā ntǔ\\' kām hom còò nshǐnkwè\\'nì làh wā\\' pɑ̌\\' kù\\'sǐ nɑ́ kàm ntʉ́ɑ́\\'sí ncàtlɑ̀ mvʉ̄ɑ̄ sorte de serpent mythique et légendaire serpent imaginaire inspirant de la peur ne pas le confondre à ndíknū mbáhsí pʉ̀ɑ̀ zī communisme sóh mɑ̀ntīēsī ā ncɑ̀ɑ̀tōm ngòp ngòpkwàà ndʉ̌\\'nzɑ̄ yāā bɑ̌ fà’á mɑ̀ ngɑ̌ ntāt ló mbèě pèn mēndɑ̀’ fǎk mbù\\' lɑ́ ntēh ndhînkhù ó ntám exemple thʉ́pìh fɑ̄h ā fə̄h ā lěn njwè\\' ndɑ̌h/ntìé\\' mbú ó mbūànzɑ̄ ɑ́ ǒ cáhsí mbūànzɑ́ é tɑ̀\\' zɑ̄hshʉ̌\\' ngwě\\' pɑ̀ngwɑ̀fʉ̀ɑ̀ sòm mbɑ̄\\' pó yá\\' lǎh zʉ̀\\' báá pʉ̀nǒk nɑ́ zʉ̀\\' báá kə̌\\'ngāā nshwìè mōō ntòòlɑ̄\\' nnǒktū mǎ sàh pɑ́\\' nkwěn nə̀ə̀lāk lɑ́ ǎ cɑ̀ɑ̀ bā ǒ sì ghʉ́ fà\\'á ò kɑ̀\\' ghʉ́ làh ncwén nā ò nkéé kə̌\\' nàh mfʉ́ɑ́\\'sí pʉ̀ wèn sì kèè nǒk nzhʉ̀nzhʉ̀ɑ̀ nǎm séé ntʉ̄ɑ̄ forme courte mɑ̄vǒ nkǎmsʉ́’ zàb ā mēmmɑ̄ ò ngǎ’ngòm yáá mbhī sʉ̄sə̄ə̄ nzhwīē lìì nshʉ̀ɑ̀ mǐ pɑ́h diminutif nsēn mbǎ khʉ̀ɑ̀ ā mbī\\'tū mɑ́ ngɑ̌ yǎ mɑ́ mbōk ndʉ́\\' tēlɑ̄ ghʉ̀ mɑ̀wǎ ghʉ̀ mɑ̀ngʉ̀\\' ǎ kàb ā tɑ́ ǹ zāb ī fùfùà lɑ̀nǎb mvēlɑ̀ pɑ́h í pǒm ntēē sákná mɑ̀ngʉ́ ā mbɑ̂\\' còkǒntʉ̀ɑ́\\' mɑ́ nkômbhì těndʉ̄ɑ̄ yòh zī\\' kɑ̀\\' pé\\' yáá mɑ́ mbìà sìpə̀\\' fóh mɑ̀nkō séè tɑ̀\\'/yə̄ə̄ lǎm ngwā\\' ǎ mɑ̀nsōk cwè\\' lámfhʉ̀mbèè mbɑ́\\' mbʉ̀ɑ̀ ntōm mbʉ̀ɑ̀ táàlə̀ə̀ nsɑ̂\\'lə̀ə̀ pō lɑ̀yǒk ngòò lɑ́ pə̌\\' ndə̀b mbə̄h mɛ̀ɛ̀ pīāh nā ò nzɑ̄ ngɑ̌ ghʉ̌ yāā kwɑ̀\\' túnā ā ǒ sì sə̄h nzɑ̄ sū\\' ǎ zhí mbʉ́ɑ́ tō mbō nnīātlɑ̄ lɑ̀h béè nkâmvʉ̀\\'ʉ̄ mfʉ̀ɑ̀\\'mbàk yɛ̄ɛ̄ kà hɑ̄ pō mbè\\' mfɑ̀\\' hɑ̄ ā tɑ̀\\' fōhnì lɑ́ cīcō\\'ò ngɑ̌ hòō pīē zǎ bô ngɑ̌ tóh í mɑ̄nzhì ntìmbhì nkhʉ̌nkèn ā béè mbè’mbè’ fɑ́hnzɑ́ mbú ó lɑ́ mēmmɑ̄ ò nǔ’shʉ̄ɑ̄ ǒ sì tʉ̄ɑ̄ sīē nzhīnù pó mmóó ndʉ̄ɑ̀mòò nɑ́hzú tōmsī nɑ́ sī ī nkhʉ̌nkèn wò yō mbɑ̄’ mɑ̀’ngwɑ̄’ nzhwīē ò lɑ̀zǐ mōō kɑ́ dhʉ̌sʉ̄ʉ̄ sə̌\\'sʉ̄ʉ̄ lēn mɑ́ hìá\\' ń zàb ō kɑ́ tɑ́ ó ngʉ́ ʉ̄/mfɑ́\\' ɑ̄ yò túmfɑ̌\\' mɑ́ kɑ́ ǒ sɑ̌\\' lǎh ghə̀ə́ nshù á zhínǔthítēnɑ̄ ngòò lɑ́ pè\\'njɑ̄\\' nkwèè pōōmbá\\' mbāāsī ī nǔmbèè zɑ̄hshʉ̀\\' à sǐ\\' ncōh ncāp nsè\\' mǐ bɑ̄ pó mɑ̀nsén vǎm mɑ̄vʉ̀ ngɑ̌ zhí nàh nŋwɑ́\\' ghə̀ə̄lɑ̄\\' zǎ à kɑ̀\\' shʉ́ɑ́ pí mɑ̄ ā á [mɑ᷄] ǒ mɑ́ wɑ̄ sìá nù ntó mbɑ̄ tə̌\\' vàp mbâ\\'ngə̀\\' mīàngwè\\' ǎ kònhé\\' ncɑ̀ɑ̀ ngɑ̌ mɑ́ mīā āfrīkà nkwèè pʉ̌ shʉ̀ɑ̀ lɑ̄ ndɑ̌\\' mʉ̀ wúzɑ́ shwīē ɑ́ pèn sɑ́\\' nzɑ̄ zɑ̄h zǐ sɑ̀\\' mbə̄ə̄ lɑ́ mɑ̄ cō\\' pò\\' mbɑ́ ngà\\'sə̄ zāp mbàkngòfāt sɑ̀\\' njēē mǒ\\' wū lɑ̄ nhɑ̄ nkɑ̄ɑ̄ yɑ̄ɑ̄ sīē yáá mɑ̀ndɑ́\\'sí mɑ́ ó kwè\\' ā á ngɑ̌ mɑ̀njū\\' nā à mbə̀pə̄\\' nsó nkūɑ̄ khʉ̀ɑ̀\\'ngāp pə́ə́tō\\' shck ndə̀ə̄ngwê pí shck ngǎ\\'kǒ mɑ́ pɑ̀mfɑ̀\\'ndīēkò nká\\' mvāt ngɑ̌ kwè\\' ō tɑ̀ ngwɑ̄\\' pō cīcō\\'ò pɑ́ ó fāh njâ\\'ghə̀ə̀ lě mbú á fʉ̀ɑ̀\\' tɑ̄ njēē wèn ndābɑ̀ ǎ lén mɑ́ pèn sɑ́\\' pìē\\' yà mvát séè dhǐ kè\\'é sáá ǎ zí kɑ́ ndàhsînù ɑ́ yāā bɑ̄ fà\\'á ndīēmbwèn ndū ó ngʉ́ nzáb ō ó ngòò lɑ́ sì\\'í nzʉ̄\\' nʉ̀ɑ̀ nzhī bɑ̄ yáá mbhī sʉ̄sə̄ə̄ nzhīē mbǒ lìì yáá mbhī sʉ̄sə̄ə̄ nhə́\\'sí mbə̀\\' yātlɑ̄ ngòònɑ̄\\' ncò\\' wū ncātsī (sə̀ə̄)wèn lɑ̀\\' péé mɑ̄ ā (bɑ̄) màà yōh pí nzhwīē á pə̀p kɑ́ tɑ́ ó ghʉ̀ fà\\'á ā ǹ kɑ́ wàā hě\\' mbú ò yāā yǎ\\' ō tɑ̀\\' ò pā\\' ǒ zɑ́ (litt tu as gagné) ǒ mɑ̀ngə́ə́ ndéndēē (litt tu dis la vérité) mbû\\'nshì ǹ sī ìngén ntēē wāhà bɑ̄ lɑ̄ mɑ̀ nǎm tʉ́ɑ́ zɑ̄shʉ̀ɑ̂ wúzɑ̄ sī yǎt mɑ̀nshʉ́ɑ́ nshù á bɑ̄ tɑ̀\\' ntìèŋwɑ̀\\'nì tɑ̀\\' ngà\\'tìè mbàh ghām ŋwɑ̀\\'nǐ ntʉ́ɑ́ nùfī ŋ̄h ngɑ̌ vɑ́h yā mēmmɑ̄ ò nùpɑ́’mbə̄hwèn ghěn nkɑ̀ndàk ghʉ̀ɑ̀\\' zǐ ndū à ǒ fhʉ́ ʉ́ ǒ sì tɑ̄ nníɑ́ɑ́ nā ò wɑ̄ lī wáh wū yə̄ə̄ kɑ̀\\' pé\\' ntāb tū fǎmfhʉ̌\\' nkhʉ́ɑ́ nshì pɑ́\\' ngòòndōm lɑ́ lû\\'nsɔ̀ nā à nkhʉ̄ɑ̄\\' mbòm ntē\\'kə̄ə̄ hô ǹ kɑ̀\\' zhī zǎ ō ō ō sī mʉ̀ lè bɑ̄ ō ō ō ngǎ\\' nā à zā ō ō ǹ dɑ̀\\' lɑ́ yēē ō ō ō lěn yā\\'hwīē pōō pʉ̄nkhʉ̄ɑ̄ mênzhʉ̀nzhʉ̀ɑ̀ mbōò ngòfát kò njə̄bsī wǎ ngɑ̌ hèē mfěn ndhī à j\\'ai abrité ce passant de la pluie tīsī nɑ̄\\' nù lɑ́ cō ā kǒ\\' ngòfāt pó còh ncwēh mōō lɑ́ ngɑ̌ ngén mɑ̀ lɑ́\\' kò ntôknzhì ǒ ìmbát ngʉ́ fà\\'á á ngɑ̌ ntám nzènzèn mbɑ̄\\' mfʉ̀\\' ndʉ́ɑ́ vīātsī móó mɑ̀ hɑ̄ à sī yǎt mɑ̀ndā\\' thʉ̄ bɑ̄ mɑ̄ ā ngwât lū\\' pō lɑ̀kə̀ə́ hɑ̄āpìì tɑ̄ nzī ngà\\'njǎm ì zʉ́ʉ́nzhwìè pɑ̀ngèntōm ngà\\'tìè pʉ̀pɑ́\\'mbàk ǹ kɑ̀\\' zhī nàh mfák ndʉ̄\\' nthí nù lɑ́ kònshwí\\' sì\\' shwì\\' ngǎ’ nā à ǹ jǎt tɑ̄ mɑ̄mfhʉ̄ kò ngɑ̌ púá ǹ sī mɑ̀mbēn mɑ́ mēmmɑ̄ ǒ kúɑ́ bɑ̄ mênzhʉ̀nzhʉ̀ɑ̀ mbōò yì yáá ntēh nùsìpə̀\\' lɑ́ bê mbàk kɑ́lɑ̄\\'lō/mbǎk ìndɑ̄\\'ndō mɑ̄vǒ ndə̀ə̄ngwê bɑ́ nhòò wūfī lè ǎ khʉ̀ɑ̄mbōō tu aime trop acculer les gens nkhùghām zhínù zǐ yǎt ntǎtntàt cwâhmbō nǔkɑ́ nkǎmsʉ́’ mɑ̀ngʉ́ kɑ́ tɑ́ á lɑ̀ cāh lō ō kū\\' lɑ́ ngǎ\\'ngà\\' pɑ́ ǹ njwēn ndǔ\\' mbú ó ghòō kòrōnǎ lǎh nkwèè ngwè\\' nkwēnmvʉ̀\\' ǹ kɑ̀\\' fhʉ̄nzhī nàh ngʉ́ tɑ̄ nnʉ́ɑ́ mbìè mā yāā mfīīnsāt ndǒk à pō sǐ\\' mfāt ntə́ə́thʉ̄ pí ghɑ̄\\' bɑ̄ sáhnù ntìmbhì mʉ̄mbʉ́ɑ́ ǎ mɑ́ wɑ̌ mbú ò ngɑ̌ ngén mɑ̀ pīīnɑ̄ ngɑ̌ ngén lǎh nzhwīē á sìīndʉ̂\\'fōh ǎ ghòòmɑ̀ nkām ndʉ̄ɑ̀kwēn à sī wū bɑ̄ ngɑ̌ mɑ́ tɑ̀\\' ncâkngǎ\\' nɑ́ zúvʉ̀ fī mvēnsɑ̀\\' ngɑ̌ (mɑ̀)ngén cɑ̀\\'sì ī khʉ̀ɑ̀\\' kɑ̀\\' tē\\' thʉ́\\' è lī\\' yɑ̌\\' mɑ̄nzhì mbə̄ə̄ ngɑ̌ zhí mɑ́ ngɑ̌ hèè tɑ́\\' cīcō\\'ò ngɑ̌ hèè sì zhī pōō mbǒ yɑ̄ɑ̄ mɑ̀ lāhā mfʉ̀ɑ̀ zēn ǒ ghʉ̌ lòlò ó ǒ ghʉ̌ nkhʉ̌nkěn yáá hwīē zī cwě’ hwíé ngà\\'ghòò ntēh ndhʉ̀ pɑ̀ndə̂ndʉ́ɑ́ mɑ̀ hɑ̄ yò nǔ ntìā mēmmɑ̄ ò ngɑ̌ síé lè mɑ̀ nǔ ghʉ̀ ā ngɑ̌ cɑ̀\\'sì ō lɑ́ nshʉ̄ɑ̄ hù nə́hŋwɑ̀\\'nì ndābɑ̀ nkò\\' nə́hŋwɑ̀\\'nì yò nù sī mɑ̀ndē\\'sī ā bɑ̄ ncǎhncǎh wèn ŋwɑ̀\\'nǐ pénzēn khʉ̀ɑ̀ ntāt lā nzhʉ̀ɑ̀ zúngwè\\' mbǎ\\'ntām nù pɑ̌h mbɑ̄ lè mɑ̄ngén mɑ̀ hɑ̄ nzɑ̌ léé è ngà’mbhǐ à mòòwɑ̄ khǔndʉ̄ɑ̄ ndʉ̄\\' lɑ́ sʉ̄\\'ʉ̄ pɑ̀ mbōòpè\\'é kònkwāt pè\\'è vʉ̀\\'ʉ̄ pí pʉ́ɑ́ nhɑ̄ ncɔ̀ nshʉ̀\\' mɑ̀ ghǎp ngɑ̌ nsī pí ndū à pōō mbǎ ngʉ́ mɑ̄lū à zén sēn ǒ mɑ́ wɑ̄ túmfɑ̀\\' mɑ̀ nthʉ́ nkə̀\\'nì/nkwè\\'nì pí nkwèè nthʉ̄ ā wǎ\\' fʉ́ɑ́nsā\\' ǎ pím ndù\\' nɑ́ ghɑ̀ɑ̄wū pí shwì\\'ncámncām yàā bɑ̄ ngɑ̀\\' nshʉ́ɑ́ mò\\' ŋó\\' nkùnkū\\' mbɑ̂\\'mfɑ̀\\' mǎ mɑ̀ntāāsī mɑ́ á mɑ̀ncá\\'sí ǎ mɑ̀ndʉ́ʉ́ yá\\'nthʉ̄ kīkēē ǹ sǐ\\' nját nzhʉ́ɑ́ bɑ̄ ǹ sǐ\\' mbát mbīī wū bɑ̄ nkwē\\'nkwé\\' nzhì nzhwíé mbā\\' lɑ́ sǐ\\' nkwé\\' ī bɑ̄ zɑ́mbʉ̄\\' wèn sǐ\\' nshʉ́ɑ́ wěn ngwě\\' nkʉ̀nkwēn bɑ̄ dìpʉ̀ɑ̀ mbə̀\\' wèn bɑ́ mbā\\' lɑ́ ngɑ̌ díé tɑ̀ pō cō\\' pǒ\\' nɑ́ à wèn hɑ̌ wú mbú ò ò tʉ̄ɑ̄\\' mbō tɑ̄ nkō cēh ī ǒ ngʉ́/nnēē njīī mbǔ\\'nkěn-yīīsì í lěn pɔ̌shʉ́ɑ́ nshì lě ghɑ̀\\' zāmsī ndɑ̀ɑ̀ lɑ́ nɑ́ nkǒ\\' yāā ngɑ̌ nkə́’ yǎ kwɑ̀’ kə̀’ tɑ́’ ǹ kɑ̀’ ghʉ́ ntìè’ làh ntām mbǒ’nkhù bɑ̄ ndə̄\\' hù ntʉ̄ɑ̄ nkātlɑ̄ sɑ̌\\' mbɑ̀ sēnɑ̄ lɑ̄ pēē nkônkɑ́ɑ́ mbí ntèn ǎ pɑ̀ɑ̄ ndʉ̀\\' pō tō nshù ī ndʉ́\\' kòntē\\' ndē\\' ǎ sɑ̀\\' pí mbɑ̀ɑ̀ ndū sè\\' zǎ pʉ́ɑ́\\' tʉ̀tɑ̀\\' yō tɑ́ yāā shʉ́ɑ́ ō kómnā wèn ngɑ̌ pén ó mēmmɑ̄ ò ôhó ò sī mɑ̀mbōh sə̀ə̄wū bɑ̄ í ǹ sī mɑ̀nkwé\\' sə̀ə̄wū bɑ̄ mbǒhshʉ̄ɑ̄ sǐ\\' mbhī bɑ̄ ngɑ̌ mɑ́ tɑ̀\\' hě\\'wèn tɑ́ mɑ̀ mbɑ̄\\' ō lɑ̌\\' mɑ̀ ǎ ghʉ̌ ghɑ̌\\'nthʉ̄ nù lɑ́ kɑ̀\\' yáhfūā ǒ sì yɔ́h ngǔ\\' sì zɑ̄ ncò ntìè\\' ē zhwìè ntìè\\' ē cà\\'sì nzâknù 22 pɑ̌\\' tə̀\\'sínǔ nɑ́ mbʉ́ɑ́ làh njū\\' nā wèn nhá\\' ntɑ̄\\' tēnɑ̄ sáá mbīɑ̄ bā mɑ̄lū (mɑ̄ndū) ó mɑ́ fɑ́h mʉ̀nzhwīē é pɑ̌āzìà ngù\\'thʉ̄ zʉ̌\\'tōm ngɑ̌ ìmbɑ̄ síé nɑ́ nǔ mbhʉ̄ tî yāā kɑ́ lī\\' sī mbhʉ̄ tî m̀ mbɑ̄ sīē hɑ̄ ā mbhʉ̄ tî ngɑ̌ ìmbɑ̄ sīē yáá ìndí\\' ghʉ̌ mbhʉ̄ tî m̀ mbɑ̄ sīē ǒ sì nēē lā ngɑ̌ ìngʉ́ nɑ́ yà ndə̀h tìē\\' nzhìndʉ̄ɑ̄ ghèn ntāl í ɑ́ yēē pɑ́h í lə̄ə̄ wúzɑ̄ mbōòpè\\'é sǒ nzhìndʉ̄ɑ̄ ǒ sì sāh nɑ́ ì tēnsī zēn yɑ̄ɑ̄ kwě\\' tó\\' làh nzát sʉ̄ʉ̄ sɑ̌\\' wèn ghén yéé nò\\' wènlɑ̀’zhī sɑ̀’ nsóh nkā’ lè wěn nɑ́ ó yáá mɑ́ wū shʉ̀\\' ntēh njō tèn lǐ wák kɑ́ tɑ́ ó mɑ̀ncāk fà\\'á ā zʉ̌\\' tó\\' nàh nsēnsī ǒ və́h zǒ mbèè mɑ̄ndīē njók sómvēn tʉ̄ɑ̄ cǎk tìì sī\\' mvát nɑ́ nkhù mǒ lɑ́ yáá kàhsì wǎ\\' nā\\' tɑ̀ nzɑ̄ mbɑ̀ wò yō mbɑ̌ mbú ó yǒ lɑ́ mēmmɑ̄ ò nzhʉ̀ɑ̀ mvī ngɑ̌ có póántòó nɑ́ nàm pʉ́ɑ́ mbūānzɑ̄ yʉ̄ɑ̄ bɑ̄ nzhʉ̀ɑ̀ ngɑ̌ kʉ̌\\' nkwēn béé nɑ́ nʉ̀ɑ̀ lè yáá lɑ̀ hɑ̄ ngāā ntî vàp zǎ mɑ̀ncō\\' ā pó ndə̄ə̄ wúzɑ́ ndʉ̄ɑ̀lə̄ə̄ pǎ\\'pòk mʉ̀nzhwīē yέέ nhɑ̄ ngòp nzhwìè shʉ̀\\'sǐ nshʉ̀ʉ̀ lɑ́ ǹ sī mɑ̀ndɑ́\\' ō bɑ̄ ǎ páásí ngòò lɑ́ à ghā\\' nsǐ ntōh ntám ngǎ\\'nā tɑ̄ ngén ntám mbǎ\\'ntām ngɑ̌ ghʉ̌ làksǐ nùfī wāhà fà\\'á lɑ́ ǹ kɑ̀\\' ghʉ́ ntìè\\' làh ndə̄ə̄ wúzɑ̄ vhʉ̄ nshùmvə̄h mbīɑ̄ɑ̀zʉ̀\\' mʉ̀ bɑ̌ nshǐ nkə̀mkə̌b yá\\' fī ngɑ̌ pén sì kwà\\'sì ǹ kɑ̀\\' kwé\\' mbɑ̀ɑ̀ mbɑ̀ nèhē cʉ̄cō\\'ò pèn lā\\' lɑ́ túfì á mɑ́ tɑ̀\\' nzênshì ngwēēwèn wèn ndāmɑ̀ yáá mbɑ̄ ntìè\\' yì ngwá\\'péé kwèē nɑ́ zʉ̄\\' lɑ́ pō lɑ̄ɑ̄ yɑ̄ɑ̄ mɑ́ ǒ mfɑ́\\' mbí wɑ̄ ǒ mfɑ́\\' nɑ́ pó wɑ̄ nùpə̀pē\\' sǐ\\' mbīē bɑ̄ wúzɑ́ làbsì ghʉ̀ghá\\' nshwī nzhʉ̀ sìpè\\' pí zhîsì pí pō ngɑ̌ pǒm sìèsì ǎ mɑ̄nzhì pɑ́\\' ntām sīē sìzhímbʉ̄ɑ̄ zʉ̀zǒh ntə̄b nshǔ ngwɑ̀wɑ̄\\' ntàbsǐ nhwīē pō sō mbó nā ǒ sì īmbát mfhʉ́ɑ́\\'sí ā yáá pè\\' yáá yá’ ghʉ̌ nàm kwɑ̀ mbɑ̄’ fə̌yò ǒ zhí mɑ́ ó mbɑ̄ mɑ́ mbɑ̄’ ā pʉ̄nkhʉ̄ɑ̄ fə̀ bɑ̄ yò lǎh mbɑ̀ ndɑ̌’ zēn zǒ ndɑ́hsí ā mbīī pīī mɑ̄ŋú kòmfə̄h nsíá nǔ kɑ́ bɑ́ mɑ̀ntōk ō fà\\'á ā pó cɔ̌ thʉ́shʉ̄ɑ̄ mvī zō ngɑ̌ ìmbíh mbhì tɑ́ ó pēēsī yà kwà\\'mbíɑ́ mɑ́ nkwèè póálɑ̄\\' ghə́ə́ ghə̀ə̄lɑ̄\\' yɑ̄ɑ̄ à kɑ̀\\' phʉ̄ ā wúzɑ̄ ī mbɑ̀ phʉ̄ tɑ́ ǹ ngā\\' pō sǐ\\' nzɑ̄ wúzɑ̄ mɑ̀ yáá pāh bɑ̄ nàm kɑ̀\\' tʉ̄ɑ̄ zě\\'è lè cīcō\\'ò pɑ́ ó fhʉ̄\\'sī nā ō ó nkwà\\' wèn sǐ\\' mfɑ́\\' bɑ̄ mɑ̀ à sǐ\\' nzɑ̄ sə̀ə̄wū bɑ̄ ndə̌káp mɑ́ yǐ nèè mbɑ̄\\' ō lɑ̌\\'ghə̌ nù mɑ̄nsʉ̄ɑ̄\\' pèn sī mɑ̀ mbūànì (lɑ́ mbɑ̀) ǎ fàmsì yì mvàk cɑ̀\\'sì ā lɑ́ mɑ́ mbɑ̀ ghʉ̌ mɑ̀wǎ pɑ̌h ìncōh ǹ kɑ̀\\' ghʉ́ mbǎ\\'ntām làh… ntʉ̄ɑ̄\\'nkwɛ̀ɛ̀ ngáp mɑ̀ncōh ngòfāt wò lɑ́ vɑ́hnā ngɑ̌ mɑ́ mvɑ̂hnèhē nā í kòngʉ́ ī mbù\\' ndâ\\' mvāt idiot nkômbhìncò ǎ pě\\'sòm tɑ̀\\' ngɑ̌ ìncāl ō pɑ́\\' yáá njā\\' bɑ̄ lɑ́ ncɔ̀sīē ǒ nkō kɑ́ mbú à ǎ zɑ́ tɑ̀ mfīī pō ī mbhʉ́fōh ǎ ghʉ̀ mbìè mā cō\\' nsɑ̂\\'tūsě\\' nsɑ̄\\' tūsè\\' ǒ ncʉ́cák yə̄ə̄ zì ī hɑ̄ yǎ nkō yǒ pō sǐ\\' ngʉ́ mbú á fà\\'á bɑ̄ ngɑ̌ mɑ́ tɑ̀\\' nsî\\'pè\\'è pó zhʉ̀ɑ̄ pʉ̀ɑ̀ ā ngòò ā sō\\' mó\\' pʉ̀ mbɑ̄’ ō mbɑ̄’ ō mbɑ̄’ ō ǒ mɑ̀nkwé\\' làh nní í pō pí ì sǐ\\' ndɑ́ɑ́ bɑ̄ ǒ nnū ndɑ̀pɑ̀\\' ɑ́ mɑ̄mʉ̄nēhwē cǎt nshǐ ná ǒ mbōh wūnēhē ndāt cwǎt avoir raison mɑ̄vǒ mɑ̀nkúsí ndhī nsìènkèn nné\\'sīē à malin malin et demi nb sʉ̄\\' mɑ̄ŋú kòngʉ́ ā pó kāk ncwē\\' nɑ̄h í cìcàh conjugaison au passé composé fī\\' póónì ngʉ̀ɑ̀\\'ndʉ̄ɑ̄ pó fěn pè\\'è lɑ́ tɑ̀\\' nshǔ\\' pɑ̀h pát njīīsī sēnɑ̄ ɑ̄ ǒ sì sát nkòò ndáh ntām ndū ò ngɑ̌ kònshʉ̄ʉ̄ ndǔ\\'nkhʉ̄ɑ̄ ǒ ghʉ̌ póómɑ̄ pōōmbā\\' sʉ̄\\'ʉ̄ fǎb mbō fhʉ́ wúzɑ̄ mbə̄ə̄ lɑ́ mbɑ̄\\' ō ndāmɑ̀ ǹ sī mɑ́ yàk ō bɑ̄ pǒmnzhì lʉ̀lɑ̀ɑ̀ ǒ mɑ́ fʉ̀fʉ̀ɑ̀ sə̀ə̄wèn sī mbèè bɑ̄ ngɑ̌ lə́ə́ndʉ̄ɑ̄ l\\'enfant n\\'est pas encore guéri nkwè\\'lɑ̄\\' cīcō\\'ò pèn yū\\' lè cīcō\\'ò pèn lā\\' njū\\' càhsū\\' sì zhī tɑ̀ mbā\\' bɑ́ tɑ̀ mʉ̀nzhwīē lī wɑ̄ bɑ́ nkwà\\' tìè lè pɑ́h ò [pú ò] pó pǒb nkwēn ndáh ndə̄ə̄ khʉ̀khʉ̄ɑ̄ ŋwɑ̀\\'nǐlèn ǎ ghà\\'sǐ ngòfāt mfāt nǒktū mèh ngɑ̀ɑ̄nzɑ̄ ngà\\'kǎ\\'nə̀ə̀ shǔ\\' hù lɑ́ tɑ̄ nnū mbɑ̄\\' ō ndāmɑ̌ ghěn cɑ̌\\' zhʉ̀ɑ̀\\' sìyɑ̄\\' līē\\' mēn à nǔmbísíé mɑ̀ hɑ̄ nzhwīē ā yǎt sì zī tɑ́’ ngɑ̌ mɑ̀mbīɑ̄ nā á nɑ́ mōōmbâ’ nzɑ̂ndʉ̄ɑ̄ à njá\\'tōm mbə̀\\'nkèn mfhʉ̄ līē\\' bô pì\\' pʉ́ɑ́ nǔkɑ́ á nzàb ō tɑ̀ wāhà lɑ̀hsì ā lɑ́ mbɑ̄’ fə̌yò ǹ dɑ̀ sī mɑ̄nkwá’sí làh nhɑ̄ ō yá’ntʉ̄ yáá mɑ́ zhínù za᷅ lɑ̀ sì yɑ̄ɑ̄ nɑ́ ò ngɑ̌ ghʉ̀ yàā fà\\'á ɑ́ nǎh tēh njō ǒ ntōm mɑ̀ngén mɑ̀ hɑ̄ fà’á ā fà\\'á lɑ́ shīmɑ̄nkò\\' pɑ̄\\' mɑ̂ … abattre des arbres ghə̀ə̄ mbùmbū\\' sɑ̌\\' séè lè lə̄ə̄ ghə̀ə̀ béé nɑ́ ntìē\\'sɑ̀\\' yǎm tòk mbǎk ìndō ngɑ̌ yá\\' shwī tɑ̀ mbɑ̄ dìpʉ̀ɑ̀ wèn ntìé\\'è kʉ̀kàm wèn ngǎ’ wèn lēn mɑ́ tɑ̀ mó’ līē’ mbī’tū mɑ́ ǹ sī ìmbɑ̄ sīē wāhà bɑ̄ cwēēsī nkǎmnkàb ngɑ̌ nját mbīɑ̄ bō mfhʉ̄ līē\\' bô tūpō nsìèzʉ̀\\' yǎtpòm mbǎk mɑ̀ndō pó mbɑ̄ tɑ̀ mméh nàh nsóh ndhī nzʉ́\\' nnīātlɑ̄ njēh lǎh yì ntìāā njə́\\' mbɑ̀ɑ̄nshǐ cáh nzhì tʉ̄tə̄\\' à ghèn ncēh nkwèè pʉ̀ mɑ́ pō sɑ́’ nzɑ̄ wúzɑ̄ wúzɑ́ yá’ pīh mbɑ̀ tɑ̀\\' té\\' nkɑ̄ɑ̄ sī mbú à bɑ̄ ndhí á ghʉ̌ lěn njə̀\\' ngɑ̌ mɑ̀nzhʉ̄ʉ̄sī ngà\\'vhʉ̀ sī wū yì ngɑ̌ mɑ̄mbīɑ̄ nā á nā lɑ́ béé bɑ̄ mbə̄ə̄ mēmmɑ̄ ò shwīnāò shʉ̀ɑ̄\\' làh mbīɑ̄ tū ā nsìèsǐ hɑ́ mfɑ̌\\'ndʉ̄ɑ̄ mbēn ntʉ̀ɑ̀\\' sɔ̀ nù sǐ\\' nnʉ́ɑ́ wènòk ngʉ́ kǎmthʉ̄ bɑ̄ mbíátsí nə̄h mbíátsí ngòp nə̄h tɑ̀\\' nzɑ̂pìì bɑ́ nkə̀ə̄ ndhī béé mɑ̀ntōm sên ntʉ̄ʉ̄ mǎ fhʉ̀ɑ̀ ā kə̄b nā ō ngʉ́ ǹ dɑ̀kɑ̌\\' nàh nzī pōō kwɑ̀ wúsʉ̀ɑ̀ pó ndáh lū’ ngʉ́ kɑ́ pèn tōm nshʉ̌\\'nshʉ̀\\' à la ligne tɑ̀\\' tú\\' nkòmmnkòm mêngāp ncō\\' nkhǔ wèn ghòó cáb ī nkɑ̌\\'lɑ́\\'khʉ̄ nzhwīē í zǎknjǎm ì pó nsíé vâk ndáh nkwāt njâ\\' nshʉ̀ɑ̀sòm ǎ shʉ̀ɑ̀ mɑ̀ fóhkò lì nkɑ́\\' ngāā nù lɑ́ pàt ngɑ́\\' nkwè\\'nǐ mbɑ̄ ndʉ̄ɑ̄ pó lɑ̀ zhī ngà\\'mbōk mbə̀\\'mbə̀\\'/mbè\\'mbè\\' ngù\\'fī ngɑ̌ mɑ̀njū\\' cōptúzén tè\\'sínù ŋə́ə́ kō ī ǹ sī mɑ́ mʉ̀nzhwīē bɑ̄ m̀ fhʉ̌ngʉ̌ nkɑ̄ɑ̄ mɑ̀ ngɑ̌ lə́ə́ndʉ̄ɑ̄ ǒ nzhwíé pɑ́\\' pó fɑ̀h ó lə̀ə̀ lɑ́ nʉ̀ɑ̄ njò\\' thʉ́ ndɑ̄ɑ̄ pō khʉ̄ɑ̄\\' mên ǎ mɑ̀ndə̄ə̄ndʉ̄ɑ̄ ò hɑ̌ ā nshì mɑ̀ yáá mbé\\' ā ǎ níát ntīē ncátmōō ncátnjàm ndʉ̀\\'nù mɑ̀ mbɑ̄\\' ō mɑ̀ wěn ngʉ́ kə̀ə̄ pʉ̌nzhwīē hū ncáb ncāb fāt là ncə̄ə̄ njōknā ǹ sǐ\\' njū\\' nkwɑ̀\\' bɑ̄ cāb ā ngɑ̌ ntèn ǎ dìī mēn ì mbī\\'tū mɑ́ á fɑ̌\\' mbə̀pə̄\\' pō lɑ̀zǐ ā līē\\' pʉ́ɑ́ nɑ́ ncátmɑ̄ŋū ngù\\' pōō hə̀ə́ mɑ̀ nkhʉ̌ vʉ̀\\'ʉ́ nɑ́ ncɑ̄\\' làhndó sê tɑ̀ ndhí sî nhɑ̄ ghə̀ə́ mbí wèn mfɑ̀\\' mǎ mɑ̀nnák pə̀pē\\' njâ\\'ghə̀ə̀ wǎ zēn zǎ mɑ́ kǎmbū\\' shwǐ\\'zēn zǎ mɑ̄ nùfī kə̀ə̄ncò wɑ̄ bɑ́ mbɑ̂\\'mfɑ̀\\' mō wɑ̄ bɑ́ yò mbɑ̂\\'mfɑ̀\\' tɔ̌ wèn ndhīsīēndʉ̄ɑ̄ ndʉ́\\' lōk nsɔ́ ntō wɑ̄ bɑ́ mɑ̀nza᷇b póálɑ́\\' yā\\'thʉ̄ pó kòmvā\\'sī zʉ̀\\' pú\\'ncə̀ə̀ ngɑ̌ lə́b lāp zǎ mbǒ nsā\\' nǔmʉ̀nzhwīēnshʉ̌\\' yāh làh nsɑ̄\\' sāktēnɑ́ mfūā mɑ̀ lāhā lɑ̄ yè tɑ̀\\' mbhʉ̄ ǎyì yáá mɑ̀njā\\' cômsǐlíé\\'zī pǎh pō lə̄b ngɑ̌ mɑ́ ngà\\'ŋwɑ̀\\'nì sɔ̌ nzǒknkhù mǒ síé ɑ́ pèn sɑ́\\' wǎ\\'lā\\' cópntíé nɑ́ khʉ̀ɑ̀\\' pí ngáp mɑ́ kɑ́ fífíá ndhī ŋ̄h móó zɑ̄ wúzɑ̄ túnù yì ǒ sɑ̌\\' séé nā lɑ́ mɑ́ kɑ́ ngɑ̌ mɑ̀ ndʉ̄ɑ̀lə̄ə̄ kʉ̀khʉ́ɑ́ mbɑ̄ ndʉ̄ɑ̄ ghə̀ə̄ ndʉ̄ɑ̄ kō\\' mbɑ̀ wò mbɑ̀ wò yō mbɑ̀ túnā ō ǎ ngʉ́ nǔngòò tɑ̀\\' sī wū yì ngɑ̌ mɑ̄nkə́\\' lɑ́ béé bɑ̄ ngɑ̌ ghàtsǐ nā à ngén mbèé lì ǎ lɑ̀ cō\\'khù ā pɑ̀nzɑ́kǒmnzhì sǐ\\' nját ndʉ̄ɑ̄\\' nɑ́ tú ngwè\\' bɑ̄ pó ndʉ̄ɑ̄\\' mɑ̀ nɑ́ tū yɑ̄ɑ̄ mbù\\' ngɑ̌ ìntōm ngɑ̌ ìngén nzɑ̄ lǎh pʉ́ɑ́ ntà\\'sì pó ndī\\' tʉ̀ɑ̄\\' kààkàá mbɑ̀wɑ̄lɑ̄ ghēn ndʉ́ʉ́ nā ì ndēn mɑ́ wèéè ò mɑ̌ngʉ́ mbɑ̀kɑ́lɑ̄ ǒ sì lɑ́h làh nzhī\\'sī ghə̀ə̀ zǒ lěnɑ̂\\'pēē zhínǔmfɑ̀\\' il n\\'a pas accepté m\\'aider nthîlə̀ə̀ páh ntīē ngɑ̌ nsī mɑ̀ ntēènshʉ̄ɑ̄ ngūɑ̄ pò\\' ǎ ngʉ̄ɑ̄\\' pɑ́\\' yàt lɑ́ ndʉ̄ɑ̀ngěn mɑ̀ hɑ̄ nsɔ̀nzhwè pí těn ndʉ̄ɑ̄ (cf těndʉ̄ɑ̄ la famille) pɑ̀mfhʉ̀mfɑ́htú kwě\\' nàh ntʉ̄ɑ̄ nkātlɑ̄ yáá kwɑ̀\\' ndǎkndàk móó kòm í nɑ́ nàm ntòhō mɑ̀ kàm ǒ ghʉ̌ ngù\\' sʉ̄\\'ʉ̄ ǒ ghʉ̌ ngǔ\\'nzɑ̄ sʉ̄\\'ʉ̄ pīā nā ò ǎ ìngʉ́ nzɑ̄ ghʉ̌ mɑ̀ wǎ ndʉ́\\' yá\\' mɑ̄nsɑ́\\' mbǎk vhʉ̀sì sî yì tɑ́hfə̌ fə̀ wěmbɑ̄ lɑ̀ sì sǐ tɑ́\\' à lɑ̀ yɑ̀ɑ́ tɑ̀\\' shʉ̀ɑ̀\\' tɑ̀ pō mɑ̄ndáh ncōmsī ī njɑ̀hnjɑ̀h hù hom mfīāt kū\\' lɑ́ fʉ̀\\' ndhī lɑ́ kònsāp ā mbɑ̀ túnā á mɑ́ yǐ njə̄ə̄ tɑ́’ mbɑ̄ mēnkāā nkwě’nzhì yá\\' tʉ̄ʉ̄ nshùncò wúcwē\\' bɑ́ ne pas confondre avec ghòōlɑ̀h làh nsɑ́\\' líé\\'cə̄bsì cà\\'sǐ ngwēèwèn ghʉ̀ɑ̀\\' zā nzhîwèn ngén wūɑ̄ ghǒh sō ngʉ́ wū pí kə́bnɛ̄ ǎ kə̌\\' nù ndǎkndàk ò tǒh tú ó mbí ncàtlɑ̀ mɑ̀ ǎ ndáh ndéé nā ì nzī mǐ kònhé\\' làh nkwé\\' pʉ̌nzhwīē yə́ə́ mɑ́ yà lò\\' tɑ́\\' ǹ kɑ́ghʉ̀ lāhā shwītōk sîntèn mēndɑ̀\\' yǒkndʉ̄\\' sɑ̂\\' kā\\' zō ngə̄ə̀ndùàlɑ̀ ǒ yá\\' yīī wūɑ̄ ɑ́ pōō mbǎ mbɑ̄ mɑ̀ pó těnmvǎk mbú à tɑ̀\\' ò zhī mɑ́ á mɑ̀ wú sēn ì lɑ̄ wú mbɑ̂’tū ne pas confondre avec ndòò yɑ̄ɑ̄ mēnsāhndó\\' nɑ́ mbhʉ̀ndòh kɑ́ ntīē túfhù béè yēē mǒ\\' nǔtúfhù mbɑ̀ mbə̄ mbɑ̀ mvátncāt ngàp wèn ǹ dɑ̀pěn nàh nsíépíé nɑ́ tú ghə̌lɑ̄\\' zā ǒ kwě\\' zʉ́\\'nā á mɑ̄vǒ ndāmɑ̌ ghʉ̌ ghòōlɑ̀h mbā\\' lɑ́ ngʉ́ pɑ́\\' ndāk lɑ́ ngɑ̌ lén fà\\'á yè ntíé mbìyā\\' mbɑ̀wɑ̄lɑ̄ lɑ́\\' yì nù yì yáá nɑ́ í lɑ́ ō ō ō tɑ̀ mēndɑ̀’ lɑ́ ō ō ō ō ǒ sì láh nsɑ́\\' pú\\'ŋɑ̀\\' mɑ̄ngà\\'nshì nkâbfōh mʉ̀nzhwīē lɑ́ mbɑ̄psī nkɑ́ɑ́ nɑ́ zúlīā\\' ǹ jǎt yǎ sǐ\\' lǒhnzîsǒ yáá shʉ̄ʉ̄ sīē ǒ vɑ́h yō ò ngà’mbhǐ à mòòwɑ̄ tɑ́ mɑ̀ ǹ dɑ̀lěn mbú ò mbōk lě có tɑ̀\\' mbɑ̄\\' ō pí mɑ̄vǒ nkwé\\' ā tɑ̀\\' mbàk kɑ̀\\' lō tɑ̀ ndáh ndhí ntìé\\'è ncát mɑ̀nsāb khù ā ndhī zī ǒ sì mɑ̄njwé\\' fà\\'á yá\\' zén nsìènsì ǒ mɑ́ wɑ̄ sâktēnɑ̄ làh mméésí ngɑ̌ mɑ̀nkə́\\' làh mbát nzɑ̄ ngɑ̌ ìmbát nzɑ̄ fʉ̀ɑ̄\\'ncāt ǎ pén mbòò pō zāb ī à fī\\' mɑ̀ ndàk lì pə̌tèn ngénɑ́ hɑ̄ nkèèsāk ǒ mɑ́ wɑ̄ (ò bɑ̄ wɑ̄) tɑ̄ mɑ̄ ngə́ə́ mbú á fà\\'á ā cwě\\'mfɑ̀\\' mǐ zàtsì ghèn nsíé nkwēn móh pīē lòh yōh pɑ́h í kòndɑ́\\' ɑ́ nǔfʉ̀ zǒ sɑ́\\' nděn shʉ̀ɑ̀ ndɑ̌h nzɑ́ pə̀\\' pɑ́ ǹ nkōsī ō ó pɑ́ ǹ nzhīīsī ó pí tɑ̀\\' wū kāhā zhʉ̄ɑ̄\\' nzhìndʉ̄ɑ̄ sà\\'sǐ tēē lɑ́ ɑ́ pɑ̀h zɑ̄ mʉ̄ntî fén mʉ̀nzhwīē nkwèèmōō nǔkɑ́ ó mɑ̀ngé’ ē wɑ̄ bɑ̄ nzàb ō fóh mɑ̀nkō ā tɑ̀\\' zén mɑ̄ é bɑ̄ wɑ̄ nshǐ lōk ǎ nzhī làh nkōmnā ì mbɑ̌ ntám nzènzèn ngà\\'hòò ǒ mɑ̀ndōk ā nǔkɑ́ nǔkɑ́ ó mɑ̀ndōk ā nzâknù 11 ndōō lɑ̀hsì/lə̀hsì zɑ́hwū kòlə̀\\' sì ntōō sǐ\\' mvə́h fùfùà bɑ̄ ghèn ngɑ́ɑ́sí wúzɑ̄ kɑ́ bɑ̄ ngʉ̀ ō nzâknù 2 cɑ̀\\'sì pí mbʉ́ɑ́ lǎh wèn nkēē ngʉ̀wū pūānkhù wɑ̄\\' hù mvāt nsó mfā\\' nzɑ̂ndʉ́ɑ́ cēh kòm prendre soin de quelque chose ò zhìé nə̀ə̀wàànkhʉ̀ wāhà ò cōmsī ā mbɑ̀ mbʉ̀ɑ̀\\' túnǔ làh mbɑ̄ ndòm sīècɑ̌\\' mɑ́ kɑ́ nzɑ̄ cēn nzɑ̄ cìncēn cwǎkhǔ mbɑ̄ mbèé pěn mɑ̂nìsīē j\\'accompagne ma mère au champ yέέ ndéndēē mɑ́ pó nzáb mvʉ̄ɑ̄ ǎ lɑ̀ má\\'sí nkwèn lī ndɑ̌\\'mɑ́ cə̄ə̄ ngwāh nā ò ngɑ̌ hǒ ŋwɑ̀\\'nì ǎ mbí sēn à tɑ̀\\' mvʉ̄ɑ̄ ndáknsʉ̀ɑ̀ pó zī shwī\\' à mēnìá\\' mfɑ̀\\' ndāhndáh mfɑ̀\\' ghèn ntə́’ báá mbí mɑ̄ ē autant mieux demeurer pauvre que d\\'être riche de manière illicite nb le mot mǒ\\' mò\\' ici est mis pour mǒ\\' ntīē ngɑ̌ ghʉ̌ yāā kwɑ̀\\' mʉ̀ ndhī á hʉ̀ɑ̀ mɑ̄lɑ́\\' mbɑ̄ wèn mɑ̀ ǎ ngʉ́ shʉ̀ɑ̀yɑ́\\' nù le peuple l\\'a acclamé pour ses œuvres mǒ\\'mfèn ntɑ́h ntɑ̄h shíéwū yə̄ə̄ kɑ̀\\' pé\\' lǎh yì pǎ\\'pà\\' ǒ yì sīsī yáá lēē zǐ ǎ léé yī yòh nzɑ́ lēē mbû\\'nshì ngà\\'kǎ\\' lə́ə́ sɑ̀\\' hǔ ndè\\' kǎmnsʉ̄’ mɑ̄vǒ pó nshú’ nsə̀’ nkwèè līē’ é tōk ā ǎ nìāh pō ī mɑ̂ làh ndó séè tɑ̀ ndhí síí lì sʉ̄ʉ̀mfɑ̀\\' pɑ̌yāā mɑ́ mbɑ̀ mfʉ̀nǐ/zʉ̌\\'zʉ̌\\'/kwàá/ndʉ̄ɑ̀nǐ mɑ̀ hɑ̄ mbʉ́ɑ́ bɑ̄ ndə̄ə̄ndʉ̄ɑ̄ tō mbók nā pɑ̌h mɑ̀mbōh ncǎ’ lɑ̀ bɑ̄ tɑ̀ mó’ līē’ lɑ́ mbɑ̀ ǎ víát zhwìè dìpʉ̀ɑ̀ lɑ̄\\' mbā\\' lɑ́ mbū\\' shìà mfhʉ̌mfhʉ̌ mʉ̀nzhwīē bɑ́ mbə̀’mbə̀’ mbūànzɑ̌ mbú ó lɑ́ mbǎ’ntām à fʉ̄ zǎ pʉ́ɑ́\\' ngɑ̌ nú ngǔh mbhǐ mbōò píá pʉ̀nòk mɑ́ ngɑ̌ ìndáh ō pɑ́\\' nzhwīē ā lɑ́ hom nhūsī mbǎk kòmvhʉ́sí yòh pó ghù ā pó mbɑ̄ tɑ̀ mméh làh nzɑ̄ wúzɑ̄ ncō\\'nshù sák mɑ̀ndātsī làh mbíátsí nɑ́h mɑ́ tɑ̀\\' wū sìkwè\\' nzhìè nshǐ mɑ̀nkō ā ghʉ̌ hù nzɑ́ lēē è ŋ̄h yáá lēē zǐ de tə̀\\' vʉ̀fī ǒ sì mɑ̄nnīī báá wū ǹ dɑ̀ sì mɑ̄nkə́\\' mɑ́ mēn à ghén ŋwɑ̀\\'nǐ ndāk ǹ dɑ̀mìé mbēn yǎ pēn lěn mbɔ̌shʉ̄ɑ̄ lěn pɔ̌shʉ́ɑ́ ŋǎ\\' ghǎ\\'zū lɑ́ ngwɑ̄\\' ǒ sɑ̌\\' nɑ́ yàā ndɑ̀h/ntìè\\' mbūànì bɑ́ mɑ̀nkám ā nkɑ̄ɑ̄ těnpʉ̀ɑ̀ táàyū\\' ngákndhī ǒ sì shú\\' ndù\\' lɑ́ yáá kwɑ̀’ ndéndēē mvàk yì ntìé’ ntōh mbɑ̀ njàmghə̀ə̀ nzhwīè ngʉ̄nə̀ə̀ ò tǎm mbɑ̀ lāhā lɑ̄ ǒ lɑ̀ mɑ́\\' pòm mɑ̀ sī nù taɑ́ ó nā bɑ̄ póózú mɑ̀ntōhsī tú à mbū\\' tōō lǒ ngǎk à ntǎ\\'ŋām mìè nnāk mbú ì ngà\\'nsʉ̀ɑ̀ ngɑ̀ɑ̀ zě\\'è cɔ̄ yáá thʉ̄ lɑ̄\\' yōh nkǎ\\'sìèsǐ nkwèè zhínù nkwènkhʉ̄ɑ̄\\' pí ngà\\'mbhǐ í tō mbō wèn yēēsī (tʉ̄ɑ̄ kɑ̌\\') nɑ́ nàm ghǎm mbūànzɑ̄ zɑ́hŋwɑ̀\\'nǐ vàp nshǐ fí\\' ngà\\' mfɑ̌\\'nsə̀ə̀ lɑ̀hsì nhɑ̄ mbú à nkwāt sàp yì mɑ̀ síé pēn lɑ́ nkwèè těndʉ̄ɑ̄ ó mɑ̀ lāhā ghèn njáb làt nǔ mbā ghāp piège à fil ntûmbhì wǎ\\'ŋwɑ̀\\'nì ǎ nóósí nsɑ́\\' ntēn ngǎk à ngɑ̌ mɑ́ mēn táàwɑ̄ nùlɑ́ghʉ̀ mēn mbʉ̂’nǎ’mbū’ ntʉ̀\\' nshwī ngɑ̌ mɑ́ fɑ̄h mbâ\\' lóóndʉ̄ɑ̄ lóópè\\'è cʉ̄cō\\'ò sɑ̀\\' ncáh lá nzɑ̄ lɑ́ ngɑ̌ mɑ̀mbōh nthʉ́ ndàm sǐ\\' nsɑ̄\\' ī ncà\\' bɑ̄ pɑ́ ń dɑ̀ īmbát mfēnsī pó ntīhsī wū mɑ̀ yáá ŋō\\' ngʉ̄ɑ̄ nshǐmōh mvèn mʉ̀nzhwīē tɑ̀\\' kwé\\' kū\\' ngɑ̌ yǎ mɑ́ sìnì wèn ǹ kɑ̀\\' ghʉ́ sēn bɑ̄ conjuguons nos efforts pour sortir de la crise yóhnàm mōōntìā mbō ntīì nshʉ̄ɑ̀nshwímɑ̄fə̀ kāākáá nzhì ǒ kə̌\\' nàh mfáksnù nshùmbù\\'/zʉ̌\\'cō/zʉ̌\\'kwēn hwíé wèn fùfùà bɑ̄ ntām nzhìndʉ̄ɑ̄ pɑ̀ŋáhnshù pɑ̀ŋʉ̀ŋáhnshù njúásí tɑ̀\\' mvāt mǎ khʉ̀khʉ́ɑ́ mbɑ̄ ndʉ̄ɑ̄ ghə̀ə̄ ndʉ̄ɑ̄ kō\\' ǹ kɑ̀\\' kə́\\' mfà\\' nkà\\' lʉ̀ɑ̀mbʉ́ɑ́ ǹ sǐ pí wò (ǹ sǐ púh ngǎk ò) mɑ̀ yáá ngát lō ó ndì njǎ\\'ngò ngwáá nsʉ̀ɑ̀ ghǎ\\'ŋwɑ̀\\'nǐ kònhāb ndʉ́ndʉ̄ʉ̄ ǎ sǒ fíá ndhī kʉ̄kāb ǎ mɑ̀njā\\' nshwíátāk tʉ̄ɑ̄ móó kə̀mbʉ́ɑ́\\' ò ǒ sì fʉ́ɑ́\\' nā ó nɑ́ ì yáá mɑ́ mʉ̄ɑ̄ pīē pō sǐ\\' ncóh ncō\\' mfɑ̀\\' mā bɑ̄ ngə̌líáshʉ̀\\' nkǎmndʉ̄ɑ̄ mbákndʉ̄ɑ̄ shwǐ\\'zēn lǎh ngɔ̀ lɑ́ mbə̄ə̄sī ncə̀ə̀ ngɑ̌ támsíé nə̄hkwɑ̀ ndéndēē ngɑ̌ nsōk ō mbɑ̂\\' yɑ̀ɑ̀ nthʉ́ í kònsɑ̄\\' ī ncà\\' pó ndáh nkhù nnák dīē wāhà nsɑ́\\' pí mbɑ̄\\' ē lǎh cʉ̀càk à lɑ́ ntìè\\' é mbú ó ò těn nshʉ̄ɑ̄ zàmɑ̀ mɑ̄ntē\\' kə̄ə̄ mɑ̄ é mɑ́ wɑ̄ tě\\'ndʉ̄ɑ̄ yǒnshǐngə̀\\' ǎ lén mɑ́ kɑ́ nɑ́ nù mbā ā ngɑ̌ mɑ̀mbōh mɑ́… ǎ mɑ̀ndéé ndū ì pó zàb í nɑ́ tómbō fén tāh pō ī hìè\\' kwèlè\\' ntámndʉ̄ɑ̄ pó ndī\\' yāh nkāmsī nshǔ wèn ngǎ\\'ngə̀b lɑ̌\\'ghè\\' nkwèè fə̌hnzɑ̄ ndáh wèn pə̀pē\\' shīyā\\' nzâkmbōmfènmbʉ́ɑ́ nzhîwèngénwūɑ̄ kʉ̀khʉ̄ɑ̄ ngǔ\\'mò\\' ngù\\' lî\\' ngwě\\'hè\\' ploutocratie zén wū lě mɑ́ kɑ́ ǎ sùàsǐ khù ī ǹ sǐ\\' nkwé\\' mbōònzhʉ̀\\' bɑ̄ nsâhzū zʉ́\\' ghʉ̌ nkò\\' nɑ̄h wɑ̄ bɑ́ ngà\\'tìè béé pú\\'ŋwɑ̀\\'nì lè nkō\\' nə̀ə̀ ǎ ŋɑ́\\' zàt làh ntʉ̄ɑ̄zə́h nɑ́ wú mɑ́ tɑ̀\\' mbìà sìpə̀\\' lien youtube wɑ̄ bɑ̄ ntōm ó séè sɑ̀\\' nsī cìcǎh pɑ̀h yàā ntīē wúzɑ̄ tɑ́ ó mɑ̀nkwé\\' ē ǎ fɑ̀\\' tɑ̀ nhwīēsī nā ì zʉ̌\\'nsìnsìì zʉ̌\\'sìì měh làh nzɑ̄ wúzɑ̄ nnū hù ǎ sɑ̀\\' pí kɑ́ ncātsī nshì nzhʉ̀nzhʉ̀ wèn ngòò lɑ́ mɑ́ ngwà\\' ā ngà\\'mbāp ngwā\\' sī ndʉ̄ɑ̄ bɑ̄ shʉ̂nkɑ̄ɑ̄ pó ndáh ntū’ ngʉ́ kɑ́ mɑ̄vǒ mɑ̀mbīɑ̄ɑ̄ bā mɑ́ mbɑ̀ wò lɑ́ lē\\'lē\\' nkā\\' mōh bɑ́ nhɑ̄ kwà\\'sì ǒ mɑ̀nkwé\\' làh mbɑ̄ sên mɑ̄ghɑ̀ɑ̀ bà (yì mbā\\') á mbə̀\\'mbə̀\\'/mbè\\'mbè\\' cà\\'sǐ pʉ̌nzhwīē sāā báá nhə́\\' tɑ̀ ngɑ̌ pén ó mēmmɑ̄ ò nàm nshʉ̌’ tōh mbhʉ̄ sʉ̄’ ghèn njēē ngə̌mɑ̄lʉ̄ɑ̄’ ǎ yú’ tū í nā pí wɑ̄ lī ngɑ̌ kwà\\' mɑ́… ngɑ̌ mɑ̀nkwá\\' mbīɑ̄ mɑ́… mbókmbōk shwìā tāk nkhʉ́ɑ́mbōō mbā\\' lɑ́ mɑ̀nkɑ́\\' nàh ndə̄ə̄ mɑ̄ghɑ̀ɑ̀ bì wū ngɑ̌ ìngén ntēē zě\\'è lɑ̄ mɑ̀ mbǎk ló có\\'mfɑ̀\\'/nkɑ̄ɑ̀mfɑ̀\\' et tōm lòmnshú\\' cɑ̀\\'sǐ mbú ó lɑ́ mɑ̄vǒ zʉ̌\\' mbɑ̄ tɑ̀ nhwī pō lāh ndʉ̀ndām njók pʉ̀ sìpè\\' ngǎ’ nā à ǹ jǎt tɑ̄ mɑ̄mfhʉ́ tʉ̀ɑ̀’ ngɑ̌ púá ǎ tú\\' nshì ndǒk ì thʉ́ shʉ̄ɑ̄ lɑ́ kɑ̀\\' yāb ngǔ\\' è ǎ ncóh ncāb mʉ̀nzhwīē kùkū\\' il s\\'est absenté furtivement viens m\\'accompagner au marché ǎ fìè\\' ā mbìyā\\' ǎ lɑ̀ ywēn pō ó pà\\' ngɑ̌ ìmfīī pó tók ò ǹ kɑ̀\\' kwé\\' wɑ̀bɑ̀ ndātsī nnə́\\' kwéndʉ̄ɑ̄ kwēngòó khʉ̀ɑ̄ lə́ə́ndʉ̄ɑ̄ lɑ́\\' nèè lɑ̌\\' lɑ́\\' ngʉ̀\\' lɑ́\\' dìpʉ̀ɑ̀ mɑ̄vǒ cák lò kīkēē ghèn nsī sî lì ghòó nzí pʉ̀ yì pó mfēn lɑ́ nǒ\\'tūsè\\' sɑ̄\\' sūā ǎ sǎt nkòò zhǐ\\' nzhìndʉ̄ɑ̄ ntām tū ncō sīē ngɑ̌ tóm lə́ə́ndʉ̄ɑ̄ fʉ́ɑ́ tū nǎb yə̀h nǔkɑ́ ó mɑ̀nkwāt sī ō ǎ yɑ́\\' ŋwɑ̀\\'nì zě\\'è mɑ̂ wɑ̄ pèn só mfā\\' pó pēh nzhì cɑ́\\'nā nɑ̂\\' nzhʉ̀\\' ǒ sì pēn ntèn mbâ\\' ntə̄b nzɑ̄ mɑ̀ shú\\'nkɑ̀\\' ǎ kɑ́h ndhʉ̀ mī fhʉ̄ fɑ́hnzɑ̄ lǒ nɑ́ zʉ̀\\' ā ngà’mbhǐ ò mʉ̀nzhwíé ndʉ̄ɑ̄ ɑ́ mbə̄ə̄ mêngòònà ǒ mɑ́ tɑ̀\\' nshʉ̀ɑ̀\\' wèn nghòò mǎ yə́ə́ tɑ̀\\' nʉ̀ɑ̄ kú\\'kà\\' ǒ sì pɑ̄psī wúsʉ̀ɑ̀ zǎ mɑ̀\\' ā nzhʉ̀\\' lɑ́ mɑ̄vǒ pʉ̂nkhʉ́ɑ́ nkə́\\' làh nshīē wū tɑ̀\\' nzâk nshwī mvèn mbâ\\' yáá yá’ sī tāmnsū’ ǒ lɑ̌\\' yāā pí yǎ mēnzhì mbèè yèé mɑ̀ hɑ̄ sʉ̀ɑ̀ntē\\' ndə́\\' mvī à kà lɑ́ɑ́ bā ń dǎh sʉ̄\\'ʉ̄ ncāt mɑ̄ ā yòh ǎ yáh ǒ ghʉ̌ ngʉ̀\\' kǒ\\' fʉ̀ dù lɑ́ mfāhngə́ə́ njwéh làh ncɑ́ɑ́ nshǔ pə̄h tɑ̀\\' nsī sīē mbǎk nzɑ́ nhīē\\' tɑ̀\\' wò pǒm mbòò mà ǒ sì ghén ndáh sînǔ lə́ə́ndʉ́ɑ́ mēmmɑ̄ è mbī\\'tū mɑ́ sī nkwèè lə́ndʉ̄ɑ̄ bɑ́ mbɑ̄ mbʉ̄ɑ̄ shʉ̀\\' bɑ̄ ǎ sók ā wúɑ́ mɑ̄ ā ngʉ́ ngé\\' wèn mɑ̀ ǎ tēnɑ̄ mfɑ̀\\' cōp ndhī ò ǒ sì lɑ̄\\' mʉ̀ mbə̄ə̄ lɑ́ mɑ̄vǒ nkə̀wɑ̄ mēn sǐmbú’ mɑ́ mʉ̀nzhwīē yóngà’ bɑ̄ mbâ’ ǎ yǒhnshì mǐ ǎ lɑ̀ ták ā zǐ pó fhʉ̄ nzhǐnzhì nsɑ́\\' yáá lā\\' thʉ̄ mbʉ̂\\'nzí\\' mɑ́ tɑ̀\\' ntǎ\\'zhínù ngèèntēē sɑ̄\\'súá yāksī tāh mbú\\'ntōk ghèn ntēn tɑ̌ síì lì ngɑ̌ mɑ́ ncên wèn ngɑ̌ mɑ́ ncìncên wèn mīàngwè\\' ǒ sì kwāh nsíɑ́ɑ́ pʉ̀ɑ̀ nzī mǐ kònhə́\\' ǒ sì īmbát lɑ̄\\' mfʉ́ɑ́\\' pí ŋwá\\'nthʉ̄ ǎ ìmbɑ̄ mɑ̀ ndʉ̄ɑ̀lə̄ə̄ pɑ̀nzɑ̂kǒmnzhì bɑ́ nníɑ́ɑ́ kèē làh nkōntá\\' pɑ̌lɑ̄\\' zēn zǎ mɑ́ yámnzhʉ̀ɑ̀’ kāāmɑ̄njīī ǒ zàb ī nǔkɑ́ pó thʉ́ hɑ̀ɑ̄ ndhī à mbênmbòò túfʉ̀ ó mɑ̀nkō ā ntāb vʉ́ nkòó wèn yáá ndíndēē yáá lēē zǐ ndū à mbù\\'nkɑ̄ɑ̄ ncēn mbâ\\' sě\\'sʉ̄ʉ̄ ngǎ’ mɑ̄vǒ ǎ ntám póhwūɑ̄ ngɑ̌ ghʉ̌ ndʉ̄’ pɑ́’ nshì lɑ́ ndʉ̄’ ma᷅ bɑ̄ yò nkwèè pʉ̌ mvíátlɑ́ nshù ngɑ̌ mɑ̀ncāk mɑ́ ó bɑ̄ ntòònjò’ à mɑ̄ ā pōō mba᷅ tɑ̀ sīēcɑ̌\\' lɑ̄\\' mmíé nù mbǎ ghām sěh pàksì yǎb làt yátnshù pō sǐ\\' mfí ndʉ̄ɑ̀ntū bɑ̄ ǎ pě\\'nthʉ̄ tɑ̀ shʉ̄ɑ̀ sɑ̀\\' mɑ́ wāhà pǎhndòmcɑ̄\\' nkʉ̀nkwēn nǒknshù mbɑ̄\\' ó mɑ́ tɑ̀\\' mfɑ̀\\'ndīēkò wèn ŋɑ́\\' ó kɑ̀mbʉ̀ɑ́\\' ì ǒ sì tī kə́\\' tú ì ngòò lɑ́ pɑ̄h ngɑ̌ hɑ́ ghâmsǐ mbí nshʉ̀ɑ̀pʉ̀ sīèndʉ̄ɑ̄ nə̀ə̀nzhwìé có ntám mbōk mbhʉ̀ndòh dhù ngén nzɑ̄ ngòfāt lɑ́ ntǎtntàt njǎm yá\\' mɑ̄ngwɑ́ yáá ncāk mɑ́ ń nshʉ̀ɑ̀/ngènɑ̀ njə̀ə̄mōō ǒ mɑ́ mbâ’ kè mʉ̀nzhwīē ē nnìɑ̀zū ndú á zǎk njǎm à mbǎ\\'nzèn kǒmngèè ɑ́ ŋə̄ə̄ kō ō ne pas confondre avec nzhʉ̀ɑ̀ mvī dictature pó yá\\' tōk sípè\\'è cwè’ mɑ́ kɑ́ vhʉ́mbǎk mɑ̀mfī\\' fhʉ̄ sáá ndó mbàk kɑ̀\\' cwáá fhʉ̄ fɑ́hnzɑ́ è (bɑ̄) ndáh wū nné\\' pò\\' nhóó fēn zě\\'è zě\\'è lè líé\\'è ngɑ̌ yíí ghǎ\\'wèn tɑ̀ nā à ywêh yáá lēē zǐ ngà’njǎb à tòókò mbāā wèn nú kāā těn thʉ̄ báá lɑ́ pō lǒm vhʉ́ndòh ncwí\\' nù ǹ kɑ̀\\' zhī wū yì yáá mɑ̀ngʉ́ ā lɑ́ ngʉ̀ɑ̀kò ǒ ghʉ̌ pōō yòk pʉ́ɑ́ ɑ́ mvàksǐ hù lɑ́ tɑ̄ nnū'"
            ],
            "application/vnd.google.colaboratory.intrinsic+json": {
              "type": "string"
            }
          },
          "metadata": {},
          "execution_count": 415
        }
      ]
    },
    {
      "cell_type": "code",
      "source": [
        "def create_seq(text):\n",
        "    length = 30\n",
        "    sequences = list()\n",
        "    for i in range(length, len(text)):\n",
        "        # select sequence of tokens\n",
        "        seq = text[i-length:i+1]\n",
        "        # store\n",
        "        sequences.append(seq)\n",
        "    print('Total Sequences: %d' % len(sequences))\n",
        "    return sequences\n",
        "\n",
        "# create sequences   \n",
        "# sequences = create_seq(data_new)\n",
        "full_text_nufi = full_text_nufi[0:500]\n",
        "sequences = create_seq(full_text_nufi)\n",
        "\n",
        "sequences[0:10]\n"
      ],
      "metadata": {
        "colab": {
          "base_uri": "https://localhost:8080/",
          "height": 87
        },
        "id": "bQbk-z-DkoUM",
        "outputId": "ef67c6c2-c7a0-4848-f5fa-7b12797978e5"
      },
      "execution_count": null,
      "outputs": [
        {
          "output_type": "execute_result",
          "data": {
            "text/plain": [
              "'  yà wūkwà\\'mbíɑ́ ngù\\'fī mɑ́ làh ndə̄ə̄ndʉ̄ɑ̄ mvʉ́ɑ́ nǐ\\' ndhī à làh ntō\\' ngɑ̌ ìnjá\\' pēn ō ngɑ̌ mɑ̀mmwēn fhʉ̄ pɑ́\\' ó lɑ̀shʉ̀ɑ̀ lɑ́ tō ɑ́ nshʉ̀ɑ̀pʉ̀ sīē séh mbɑ̀ɑ̀ mǐ ndáh nkāpsī ō nsèn-wèn ntìè\\' sī mbú á bɑ̄ zhínǔ wèn bɑ́ ndáh ī ngʉ́ nkām ntēh ndòò zén mbɑ̄\\' ó mɑ́ zhìāndə̀ə̀ \"6 mòmòshʉ̄ (litt grande disette)\" mɑ̄vǒ mɑ̀ncēn mbìyā\\' ngɑ̌ hèēhèè mbɑ̀ mʉ̀ ngɑ̌ cɑ̀\\'sì ō lɑ́ ngà\\'njǎm à mɑ̄vǒ zhí làh ndə̄ə̄ wúzɑ̄ ndàhnìnì zʉ̌\\'sīē ŋwɑ̌\\'nǐ pè\\' ndhī lɑ́ və̄h nɑ́ à ǎ púánkhù ǎ mɑ̀ndáh sînǔ fɑ́h ì kə̄b nā ò lā'"
            ],
            "application/vnd.google.colaboratory.intrinsic+json": {
              "type": "string"
            }
          },
          "metadata": {},
          "execution_count": 446
        }
      ]
    },
    {
      "cell_type": "markdown",
      "source": [
        "# Encoding Sequences\n",
        "Once the sequences are generated, the next step is to encode each character. This would give us a sequence of numbers.\n",
        "\n"
      ],
      "metadata": {
        "id": "HnJbLxgwleco"
      }
    },
    {
      "cell_type": "code",
      "source": [
        "\n",
        "# create a character mapping index\n",
        "chars = sorted(list(set(full_text_nufi)))\n",
        "mapping = dict((c, i) for i, c in enumerate(chars))\n",
        "\n",
        "def encode_seq(seq):\n",
        "    sequences = list()\n",
        "    for line in seq:\n",
        "        # integer encode line\n",
        "        encoded_seq = [mapping[char] for char in line]\n",
        "        # store\n",
        "        sequences.append(encoded_seq)\n",
        "    return sequences\n",
        "\n",
        "# encode the sequences\n",
        "sequences = encode_seq(sequences)\n",
        "# sequences[0]\n",
        "# 'the unanimous declaration the t'\n",
        "# [19,  8,  5,  0,  20,  13,  1,  13,  9,   12,  14,  20,  18,  0, 4,  5,  3,  11,  1,  17,  1,  19,  9,  14,  13,  0,  19,  8,  5,  0,  19]\n"
      ],
      "metadata": {
        "id": "siMgbSLJj2i1"
      },
      "execution_count": null,
      "outputs": []
    },
    {
      "cell_type": "code",
      "source": [],
      "metadata": {
        "id": "UAJtaED2zEFB"
      },
      "execution_count": null,
      "outputs": []
    },
    {
      "cell_type": "code",
      "source": [],
      "metadata": {
        "id": "2yBkADBrj2mG"
      },
      "execution_count": null,
      "outputs": []
    },
    {
      "cell_type": "markdown",
      "source": [
        "# Create Training and Validation set\n",
        "Once we are ready with our sequences, we split the data into training and validation splits. This is because while training, I want to keep a track of how good my language model is working with unseen data.\n",
        "\n"
      ],
      "metadata": {
        "id": "J-po9BgWmuDL"
      }
    },
    {
      "cell_type": "code",
      "source": [
        "from sklearn.model_selection import train_test_split\n",
        "\n",
        "# vocabulary size\n",
        "vocab = len(mapping)\n",
        "sequences = np.array(sequences)\n",
        "# create X and y\n",
        "X, y = sequences[:,:-1], sequences[:,-1]\n",
        "# one hot encode y\n",
        "y = to_categorical(y, num_classes=vocab)\n",
        "# create train and validation sets\n",
        "X_tr, X_val, y_tr, y_val = train_test_split(X, y, test_size=0.1, random_state=42)\n",
        "\n",
        "print('Train shape:', X_tr.shape, 'Val shape:', X_val.shape)"
      ],
      "metadata": {
        "colab": {
          "base_uri": "https://localhost:8080/"
        },
        "id": "iAysbHj6j2pg",
        "outputId": "062ffc8c-ec53-4b72-97a4-7667028dcc95"
      },
      "execution_count": null,
      "outputs": [
        {
          "output_type": "stream",
          "name": "stdout",
          "text": [
            "Train shape: (423, 30) Val shape: (47, 30)\n"
          ]
        }
      ]
    },
    {
      "cell_type": "markdown",
      "source": [
        "# Model Building\n",
        "Time to build our language model!\n",
        "\n",
        "I have used the embedding layer of Keras to learn a 50 dimension embedding for each character. This helps the model in understanding complex relationships between characters. I have also used a GRU layer as the base model, which has 150 timesteps. Finally, a Dense layer is used with a softmax activation for prediction."
      ],
      "metadata": {
        "id": "0KDpb78RnK6w"
      }
    },
    {
      "cell_type": "code",
      "source": [
        "# define model\n",
        "model = Sequential()\n",
        "model.add(Embedding(vocab, 50, input_length=30, trainable=True))\n",
        "model.add(GRU(150, recurrent_dropout=0.1, dropout=0.1))\n",
        "model.add(Dense(vocab, activation='softmax'))\n",
        "print(model.summary())\n",
        "\n",
        "# compile the model\n",
        "model.compile(loss='categorical_crossentropy', metrics=['acc'], optimizer='adam')\n",
        "# fit the model\n",
        "model.fit(X_tr, y_tr, epochs=100, verbose=2, validation_data=(X_val, y_val))"
      ],
      "metadata": {
        "id": "nbczZML8m8f-"
      },
      "execution_count": null,
      "outputs": []
    },
    {
      "cell_type": "code",
      "source": [],
      "metadata": {
        "id": "0HiLnDqNm8jq"
      },
      "execution_count": null,
      "outputs": []
    },
    {
      "cell_type": "code",
      "source": [],
      "metadata": {
        "id": "ZymlnnlBCO9D"
      },
      "execution_count": null,
      "outputs": []
    },
    {
      "cell_type": "markdown",
      "source": [
        "# Inference\n",
        "Once the model has finished training, we can generate text from the model given an input sequence using the below code:"
      ],
      "metadata": {
        "id": "xUEngBc3neQm"
      }
    },
    {
      "cell_type": "code",
      "source": [
        "# generate a sequence of characters with a language model\n",
        "def generate_seq(model, mapping, seq_length, seed_text, n_chars):\n",
        "  in_text = seed_text\n",
        "  # generate a fixed number of characters\n",
        "  for _ in range(n_chars):\n",
        "    # encode the characters as integers\n",
        "    encoded = [mapping[char] for char in in_text]\n",
        "    # truncate sequences to a fixed length\n",
        "    encoded = pad_sequences([encoded], maxlen=seq_length, truncating='pre')\n",
        "    # predict character\n",
        "    # yhat = model.predict(encoded, verbose=0)\n",
        "    # yhat = (model.predict(encoded)>0.5).astype(\"int32\")\n",
        "    predict_x=model.predict(encoded) \n",
        "    yhat=np.argmax(predict_x,axis=1)\n",
        "    # print(yhat)\n",
        "    # yhat = (model.predict(encoded) > 0.5).astype(\"int32\")\n",
        "\n",
        "    # yhat = model.predict(encoded, verbose=0)\n",
        "    \n",
        "    # reverse map integer to character\n",
        "    out_char = ''\n",
        "    for char, index in mapping.items():\n",
        "      if index == yhat:\n",
        "        out_char = char\n",
        "        break\n",
        "    # append to input\n",
        "    in_text += char\n",
        "  return in_text"
      ],
      "metadata": {
        "id": "2S409J64nXPh"
      },
      "execution_count": null,
      "outputs": []
    },
    {
      "cell_type": "code",
      "source": [
        " inp = \"yáá mbɑ̄ mbí m\"\n",
        "generate_seq(model, mapping, 40, inp.lower(), 10)"
      ],
      "metadata": {
        "colab": {
          "base_uri": "https://localhost:8080/",
          "height": 209
        },
        "id": "L6xs4Nwmm8nF",
        "outputId": "f34282d4-3d77-4e95-c17c-3e16c8e1aca8"
      },
      "execution_count": null,
      "outputs": [
        {
          "output_type": "stream",
          "name": "stdout",
          "text": [
            "1/1 [==============================] - 0s 48ms/step\n",
            "1/1 [==============================] - 0s 51ms/step\n",
            "1/1 [==============================] - 0s 30ms/step\n",
            "1/1 [==============================] - 0s 29ms/step\n",
            "1/1 [==============================] - 0s 36ms/step\n",
            "1/1 [==============================] - 0s 42ms/step\n",
            "1/1 [==============================] - 0s 28ms/step\n",
            "1/1 [==============================] - 0s 31ms/step\n",
            "1/1 [==============================] - 0s 30ms/step\n",
            "1/1 [==============================] - 0s 45ms/step\n"
          ]
        },
        {
          "output_type": "execute_result",
          "data": {
            "text/plain": [
              "'yáá mbɑ̄ mbí mbɑ mɑ̀mmẁ'"
            ],
            "application/vnd.google.colaboratory.intrinsic+json": {
              "type": "string"
            }
          },
          "metadata": {},
          "execution_count": 465
        }
      ]
    },
    {
      "cell_type": "code",
      "source": [
        "full_text_nufi"
      ],
      "metadata": {
        "colab": {
          "base_uri": "https://localhost:8080/",
          "height": 87
        },
        "id": "hrvKQ1ZL0Rh9",
        "outputId": "3dc0c527-8d41-48c3-bd54-dce0b917e1d3"
      },
      "execution_count": null,
      "outputs": [
        {
          "output_type": "execute_result",
          "data": {
            "text/plain": [
              "'  yà wūkwà\\'mbíɑ́ ngù\\'fī mɑ́ làh ndə̄ə̄ndʉ̄ɑ̄ mvʉ́ɑ́ nǐ\\' ndhī à làh ntō\\' ngɑ̌ ìnjá\\' pēn ō ngɑ̌ mɑ̀mmwēn fhʉ̄ pɑ́\\' ó lɑ̀shʉ̀ɑ̀ lɑ́ tō ɑ́ nshʉ̀ɑ̀pʉ̀ sīē séh mbɑ̀ɑ̀ mǐ ndáh nkāpsī ō nsèn-wèn ntìè\\' sī mbú á bɑ̄ zhínǔ wèn bɑ́ ndáh ī ngʉ́ nkām ntēh ndòò zén mbɑ̄\\' ó mɑ́ zhìāndə̀ə̀ \"6 mòmòshʉ̄ (litt grande disette)\" mɑ̄vǒ mɑ̀ncēn mbìyā\\' ngɑ̌ hèēhèè mbɑ̀ mʉ̀ ngɑ̌ cɑ̀\\'sì ō lɑ́ ngà\\'njǎm à mɑ̄vǒ zhí làh ndə̄ə̄ wúzɑ̄ ndàhnìnì zʉ̌\\'sīē ŋwɑ̌\\'nǐ pè\\' ndhī lɑ́ və̄h nɑ́ à ǎ púánkhù ǎ mɑ̀ndáh sînǔ fɑ́h ì kə̄b nā ò lā'"
            ],
            "application/vnd.google.colaboratory.intrinsic+json": {
              "type": "string"
            }
          },
          "metadata": {},
          "execution_count": 447
        }
      ]
    },
    {
      "cell_type": "code",
      "source": [],
      "metadata": {
        "id": "pDeBnQDI1woB"
      },
      "execution_count": null,
      "outputs": []
    },
    {
      "cell_type": "markdown",
      "source": [
        "# Build our own Word Completion Model (using pretrained chat Gpt2)"
      ],
      "metadata": {
        "id": "1IHCY77O1ygQ"
      }
    },
    {
      "cell_type": "code",
      "source": [
        "pip install pytorch-transformers"
      ],
      "metadata": {
        "id": "H2H-ZGKXhx18"
      },
      "execution_count": null,
      "outputs": []
    },
    {
      "cell_type": "code",
      "source": [
        "import torch\n",
        "from pytorch_transformers import GPT2Tokenizer, GPT2LMHeadModel\n",
        "\n",
        "# Load pre-trained model tokenizer (vocabulary)\n",
        "tokenizer = GPT2Tokenizer.from_pretrained('gpt2')\n",
        "\n",
        "# Encode a text inputs\n",
        "text = \"He told me that\"\n",
        "indexed_tokens = tokenizer.encode(text)\n",
        "\n",
        "# Convert indexed tokens in a PyTorch tensor\n",
        "tokens_tensor = torch.tensor([indexed_tokens])\n",
        "\n",
        "# Load pre-trained model (weights)\n",
        "model = GPT2LMHeadModel.from_pretrained('gpt2')\n",
        "\n",
        "# Set the model in evaluation mode to deactivate the DropOut modules\n",
        "model.eval()\n",
        "\n",
        "# # If you have a GPU, put everything on cuda\n",
        "# tokens_tensor = tokens_tensor.to('cuda')\n",
        "# model.to('cuda')\n",
        "\n",
        "# Predict all tokens\n",
        "with torch.no_grad():\n",
        "    outputs = model(tokens_tensor)\n",
        "    predictions = outputs[0]\n",
        "\n",
        "# Get the predicted next sub-word\n",
        "predicted_index = torch.argmax(predictions[0, -1, :]).item()\n",
        "predicted_text = tokenizer.decode(indexed_tokens + [predicted_index])\n",
        "\n",
        "# Print the predicted word\n",
        "print(predicted_text)"
      ],
      "metadata": {
        "colab": {
          "base_uri": "https://localhost:8080/"
        },
        "id": "y5WsgxFr1xwF",
        "outputId": "0edcf28c-2e19-41ee-be5a-db5af39063c5"
      },
      "execution_count": null,
      "outputs": [
        {
          "output_type": "stream",
          "name": "stdout",
          "text": [
            " He told me that he\n"
          ]
        }
      ]
    },
    {
      "cell_type": "code",
      "source": [
        "!git clone https://github.com/huggingface/pytorch-transformers.git\n"
      ],
      "metadata": {
        "colab": {
          "base_uri": "https://localhost:8080/"
        },
        "id": "vetuvHY612o3",
        "outputId": "6ac7270d-30de-43ac-9184-357c11c614dd"
      },
      "execution_count": null,
      "outputs": [
        {
          "output_type": "stream",
          "name": "stdout",
          "text": [
            "Cloning into 'pytorch-transformers'...\n",
            "remote: Enumerating objects: 133717, done.\u001b[K\n",
            "remote: Counting objects: 100% (179/179), done.\u001b[K\n",
            "remote: Compressing objects: 100% (61/61), done.\u001b[K\n",
            "remote: Total 133717 (delta 120), reused 163 (delta 112), pack-reused 133538\u001b[K\n",
            "Receiving objects: 100% (133717/133717), 129.15 MiB | 23.43 MiB/s, done.\n",
            "Resolving deltas: 100% (100936/100936), done.\n"
          ]
        }
      ]
    },
    {
      "cell_type": "code",
      "source": [
        "!python pytorch-transformers/examples/run_generation.py \\\n",
        "    --model_type=gpt2 \\\n",
        "    --length=100 \\\n",
        "    --model_name_or_path=gpt2 \\"
      ],
      "metadata": {
        "colab": {
          "base_uri": "https://localhost:8080/"
        },
        "id": "PyZLHEwD6bcO",
        "outputId": "28ab4396-715a-4831-c061-331827623bde"
      },
      "execution_count": null,
      "outputs": [
        {
          "output_type": "stream",
          "name": "stdout",
          "text": [
            "python3: can't open file '/content/pytorch-transformers/examples/run_generation.py': [Errno 2] No such file or directory\n"
          ]
        }
      ]
    },
    {
      "cell_type": "code",
      "source": [
        "parser.add_argument('--gpu', type=str, default=\"1\", help='choose GPU')\n"
      ],
      "metadata": {
        "colab": {
          "base_uri": "https://localhost:8080/",
          "height": 166
        },
        "id": "hH2Odu-F12rw",
        "outputId": "cabf7092-04ea-49d5-9af2-f6d16571e460"
      },
      "execution_count": null,
      "outputs": [
        {
          "output_type": "error",
          "ename": "NameError",
          "evalue": "ignored",
          "traceback": [
            "\u001b[0;31m---------------------------------------------------------------------------\u001b[0m",
            "\u001b[0;31mNameError\u001b[0m                                 Traceback (most recent call last)",
            "\u001b[0;32m<ipython-input-470-4f3ef0568c45>\u001b[0m in \u001b[0;36m<module>\u001b[0;34m\u001b[0m\n\u001b[0;32m----> 1\u001b[0;31m \u001b[0mparser\u001b[0m\u001b[0;34m.\u001b[0m\u001b[0madd_argument\u001b[0m\u001b[0;34m(\u001b[0m\u001b[0;34m'--gpu'\u001b[0m\u001b[0;34m,\u001b[0m \u001b[0mtype\u001b[0m\u001b[0;34m=\u001b[0m\u001b[0mstr\u001b[0m\u001b[0;34m,\u001b[0m \u001b[0mdefault\u001b[0m\u001b[0;34m=\u001b[0m\u001b[0;34m\"1\"\u001b[0m\u001b[0;34m,\u001b[0m \u001b[0mhelp\u001b[0m\u001b[0;34m=\u001b[0m\u001b[0;34m'choose GPU'\u001b[0m\u001b[0;34m)\u001b[0m\u001b[0;34m\u001b[0m\u001b[0;34m\u001b[0m\u001b[0m\n\u001b[0m",
            "\u001b[0;31mNameError\u001b[0m: name 'parser' is not defined"
          ]
        }
      ]
    },
    {
      "cell_type": "code",
      "source": [],
      "metadata": {
        "id": "uz0HhE4V12vO"
      },
      "execution_count": null,
      "outputs": []
    },
    {
      "cell_type": "code",
      "source": [
        "# Download the data:\n",
        "# https://www.kaggle.com/c/jigsaw-toxic-comment-classification-challenge\n",
        "# https://lazyprogrammer.me/course_files/toxic_comment_train.csv\n",
        "# Download the word vectors:\n",
        "# http://nlp.stanford.edu/data/glove.6B.zip\n",
        "\n",
        "\n",
        "# some configuration\n",
        "MAX_SEQUENCE_LENGTH = 100\n",
        "MAX_VOCAB_SIZE = 20000\n",
        "EMBEDDING_DIM = 100\n",
        "VALIDATION_SPLIT = 0.2\n",
        "BATCH_SIZE = 128\n",
        "EPOCHS = 10\n",
        "\n",
        "\n",
        "\n",
        "# load in pre-trained word vectors\n",
        "print('Loading word vectors...')\n",
        "word2vec = {}\n",
        "with open(os.path.join('../large_files/glove.6B/glove.6B.%sd.txt' % EMBEDDING_DIM)) as f:\n",
        "  # is just a space-separated text file in the format:\n",
        "  # word vec[0] vec[1] vec[2] ...\n",
        "  for line in f:\n",
        "    values = line.split()\n",
        "    word = values[0]\n",
        "    vec = np.asarray(values[1:], dtype='float32')\n",
        "    word2vec[word] = vec\n",
        "print('Found %s word vectors.' % len(word2vec))\n",
        "\n"
      ],
      "metadata": {
        "colab": {
          "base_uri": "https://localhost:8080/",
          "height": 288
        },
        "id": "7c_cl0uMtZZL",
        "outputId": "5b2058f6-c4f7-44a6-f5ec-88db5b60441a"
      },
      "execution_count": null,
      "outputs": [
        {
          "output_type": "stream",
          "name": "stdout",
          "text": [
            "Loading word vectors...\n"
          ]
        },
        {
          "output_type": "error",
          "ename": "FileNotFoundError",
          "evalue": "ignored",
          "traceback": [
            "\u001b[0;31m---------------------------------------------------------------------------\u001b[0m",
            "\u001b[0;31mFileNotFoundError\u001b[0m                         Traceback (most recent call last)",
            "\u001b[0;32m<ipython-input-7-c7781323094d>\u001b[0m in \u001b[0;36m<module>\u001b[0;34m\u001b[0m\n\u001b[1;32m     19\u001b[0m \u001b[0mprint\u001b[0m\u001b[0;34m(\u001b[0m\u001b[0;34m'Loading word vectors...'\u001b[0m\u001b[0;34m)\u001b[0m\u001b[0;34m\u001b[0m\u001b[0;34m\u001b[0m\u001b[0m\n\u001b[1;32m     20\u001b[0m \u001b[0mword2vec\u001b[0m \u001b[0;34m=\u001b[0m \u001b[0;34m{\u001b[0m\u001b[0;34m}\u001b[0m\u001b[0;34m\u001b[0m\u001b[0;34m\u001b[0m\u001b[0m\n\u001b[0;32m---> 21\u001b[0;31m \u001b[0;32mwith\u001b[0m \u001b[0mopen\u001b[0m\u001b[0;34m(\u001b[0m\u001b[0mos\u001b[0m\u001b[0;34m.\u001b[0m\u001b[0mpath\u001b[0m\u001b[0;34m.\u001b[0m\u001b[0mjoin\u001b[0m\u001b[0;34m(\u001b[0m\u001b[0;34m'../large_files/glove.6B/glove.6B.%sd.txt'\u001b[0m \u001b[0;34m%\u001b[0m \u001b[0mEMBEDDING_DIM\u001b[0m\u001b[0;34m)\u001b[0m\u001b[0;34m)\u001b[0m \u001b[0;32mas\u001b[0m \u001b[0mf\u001b[0m\u001b[0;34m:\u001b[0m\u001b[0;34m\u001b[0m\u001b[0;34m\u001b[0m\u001b[0m\n\u001b[0m\u001b[1;32m     22\u001b[0m   \u001b[0;31m# is just a space-separated text file in the format:\u001b[0m\u001b[0;34m\u001b[0m\u001b[0;34m\u001b[0m\u001b[0m\n\u001b[1;32m     23\u001b[0m   \u001b[0;31m# word vec[0] vec[1] vec[2] ...\u001b[0m\u001b[0;34m\u001b[0m\u001b[0;34m\u001b[0m\u001b[0m\n",
            "\u001b[0;31mFileNotFoundError\u001b[0m: [Errno 2] No such file or directory: '../large_files/glove.6B/glove.6B.100d.txt'"
          ]
        }
      ]
    },
    {
      "cell_type": "code",
      "source": [],
      "metadata": {
        "id": "TgtbyvnY-iCU"
      },
      "execution_count": null,
      "outputs": []
    },
    {
      "cell_type": "code",
      "source": [],
      "metadata": {
        "id": "OPODFCR4tZcT"
      },
      "execution_count": null,
      "outputs": []
    },
    {
      "cell_type": "code",
      "source": [
        "\n",
        "\n",
        "# prepare text samples and their labels\n",
        "print('Loading in comments...')\n",
        "\n",
        "train = pd.read_csv(\"../large_files/toxic-comment/train.csv\")\n",
        "sentences = train[\"comment_text\"].fillna(\"DUMMY_VALUE\").values\n",
        "possible_labels = [\"toxic\", \"severe_toxic\", \"obscene\", \"threat\", \"insult\", \"identity_hate\"]\n",
        "targets = train[possible_labels].values\n",
        "\n",
        "\n"
      ],
      "metadata": {
        "id": "p-ZCyq4qtZfi"
      },
      "execution_count": null,
      "outputs": []
    },
    {
      "cell_type": "code",
      "source": [
        "\n",
        "# convert the sentences (strings) into integers\n",
        "tokenizer = Tokenizer(num_words=MAX_VOCAB_SIZE)\n",
        "tokenizer.fit_on_texts(sentences)\n",
        "sequences = tokenizer.texts_to_sequences(sentences)\n",
        "# print(\"sequences:\", sequences); exit()\n",
        "\n",
        "\n",
        "print(\"max sequence length:\", max(len(s) for s in sequences))\n",
        "print(\"min sequence length:\", min(len(s) for s in sequences))\n",
        "s = sorted(len(s) for s in sequences)\n",
        "print(\"median sequence length:\", s[len(s) // 2])\n",
        "\n",
        "print(\"max word index:\", max(max(seq) for seq in sequences if len(seq) > 0))\n",
        "\n",
        "\n",
        "# get word -> integer mapping\n",
        "word2idx = tokenizer.word_index\n",
        "print('Found %s unique tokens.' % len(word2idx))\n",
        "\n",
        "# exit()\n",
        "\n",
        "\n",
        "# pad sequences so that we get a N x T matrix\n",
        "data = pad_sequences(sequences, maxlen=MAX_SEQUENCE_LENGTH)\n",
        "print('Shape of data tensor:', data.shape)\n",
        "\n",
        "\n",
        "\n",
        "# prepare embedding matrix\n",
        "print('Filling pre-trained embeddings...')\n",
        "num_words = min(MAX_VOCAB_SIZE, len(word2idx) + 1)\n",
        "embedding_matrix = np.zeros((num_words, EMBEDDING_DIM))\n",
        "for word, i in word2idx.items():\n",
        "  if i < MAX_VOCAB_SIZE:\n",
        "    embedding_vector = word2vec.get(word)\n",
        "    if embedding_vector is not None:\n",
        "      # words not found in embedding index will be all zeros.\n",
        "      embedding_matrix[i] = embedding_vector\n",
        "\n",
        "\n",
        "\n",
        "# load pre-trained word embeddings into an Embedding layer\n",
        "# note that we set trainable = False so as to keep the embeddings fixed\n",
        "embedding_layer = Embedding(\n",
        "  num_words,\n",
        "  EMBEDDING_DIM,\n",
        "  weights=[embedding_matrix],\n",
        "  input_length=MAX_SEQUENCE_LENGTH,\n",
        "  trainable=False\n",
        ")\n",
        "\n",
        "\n",
        "print('Building model...')\n",
        "\n",
        "# train a 1D convnet with global maxpooling\n",
        "input_ = Input(shape=(MAX_SEQUENCE_LENGTH,))\n",
        "x = embedding_layer(input_)\n",
        "x = Conv1D(128, 3, activation='relu')(x)\n",
        "x = MaxPooling1D(3)(x)\n",
        "x = Conv1D(128, 3, activation='relu')(x)\n",
        "x = MaxPooling1D(3)(x)\n",
        "x = Conv1D(128, 3, activation='relu')(x)\n",
        "x = GlobalMaxPooling1D()(x)\n",
        "x = Dense(128, activation='relu')(x)\n",
        "output = Dense(len(possible_labels), activation='sigmoid')(x)\n",
        "\n",
        "model = Model(input_, output)\n",
        "model.compile(\n",
        "  loss='binary_crossentropy',\n",
        "  optimizer='rmsprop',\n",
        "  metrics=['accuracy']\n",
        ")\n",
        "\n",
        "print('Training model...')\n",
        "r = model.fit(\n",
        "  data,\n",
        "  targets,\n",
        "  batch_size=BATCH_SIZE,\n",
        "  epochs=EPOCHS,\n",
        "  validation_split=VALIDATION_SPLIT\n",
        ")\n",
        "\n",
        "\n",
        "# plot some data\n",
        "plt.plot(r.history['loss'], label='loss')\n",
        "plt.plot(r.history['val_loss'], label='val_loss')\n",
        "plt.legend()\n",
        "plt.show()\n",
        "\n",
        "# accuracies\n",
        "plt.plot(r.history['accuracy'], label='acc')\n",
        "plt.plot(r.history['val_accuracy'], label='val_acc')\n",
        "plt.legend()\n",
        "plt.show()\n",
        "\n",
        "# plot the mean AUC over each label\n",
        "p = model.predict(data)\n",
        "aucs = []\n",
        "for j in range(6):\n",
        "    auc = roc_auc_score(targets[:,j], p[:,j])\n",
        "    aucs.append(auc)\n",
        "print(np.mean(aucs))\n"
      ],
      "metadata": {
        "id": "Mb4ttKJetZis"
      },
      "execution_count": null,
      "outputs": []
    },
    {
      "cell_type": "code",
      "source": [],
      "metadata": {
        "id": "ZVbW9bD7tZli"
      },
      "execution_count": null,
      "outputs": []
    },
    {
      "cell_type": "code",
      "source": [],
      "metadata": {
        "id": "VmoqMsx4tZol"
      },
      "execution_count": null,
      "outputs": []
    },
    {
      "cell_type": "code",
      "source": [],
      "metadata": {
        "id": "dimzSh0qtZrJ"
      },
      "execution_count": null,
      "outputs": []
    },
    {
      "cell_type": "code",
      "source": [],
      "metadata": {
        "id": "Xus0iYUrtZuo"
      },
      "execution_count": null,
      "outputs": []
    }
  ]
}