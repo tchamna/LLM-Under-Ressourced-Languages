{
  "nbformat": 4,
  "nbformat_minor": 0,
  "metadata": {
    "colab": {
      "provenance": [],
      "authorship_tag": "ABX9TyMPk7rt4wjNBQ+bqCCA3e31",
      "include_colab_link": true
    },
    "kernelspec": {
      "name": "python3",
      "display_name": "Python 3"
    },
    "language_info": {
      "name": "python"
    }
  },
  "cells": [
    {
      "cell_type": "markdown",
      "metadata": {
        "id": "view-in-github",
        "colab_type": "text"
      },
      "source": [
        "<a href=\"https://colab.research.google.com/github/tchamna/LLM-Under-Ressourced-Languages/blob/main/Python_Word_Document_Processing_Nufi.ipynb\" target=\"_parent\"><img src=\"https://colab.research.google.com/assets/colab-badge.svg\" alt=\"Open In Colab\"/></a>"
      ]
    },
    {
      "cell_type": "code",
      "source": [
        "# pip install python-docx\n"
      ],
      "metadata": {
        "id": "7m1N-rig9ic9"
      },
      "execution_count": null,
      "outputs": []
    },
    {
      "cell_type": "code",
      "execution_count": null,
      "metadata": {
        "id": "mbl5hfjN9YiZ"
      },
      "outputs": [],
      "source": [
        "from docx import Document\n",
        "from docx.shared import Inches\n",
        "import docx\n",
        "\n",
        "zen = [\"Tchamna(Ca᷅mnà')\",\"Ndə̌nkām(Deukam)\",\"Hɑ̄āpìì\"]\n",
        "\n",
        "text = \"guerre, belligérance, conflit, <br> combat, bataille; ex. nkám ncò : déclarer, déclencher la guerre; ex. ndʉ̄ɑ̄'ncò : guerroyer, combattre; ex. ndʉ̄ɑ̀'ncò : un guerrier; ex. nshùncò : front de guerre, front de combat; ex. nîncò : l'épée; ex. pīèncò : la baïonnette; litt., le couteau de guerre; ex. táàmmɑ̀'ncò : Lieutenant, parfois Colonel; litt., le père, le chef des guerriers;\"\n",
        "\n",
        "\n",
        "def thank_you_message(name_):\n",
        "\n",
        "  globals()[f\"document{name}\"] = Document()\n",
        "\n",
        "  document = globals()[f\"document{name}\"]\n",
        "\n",
        "  document.add_heading(\"Zhī'sī ghə̀ə̀ zǒ mbɑ̄ yǒ wènòk!\", 0)\n",
        "  document.add_paragraph(\"Ò sǐ' nzhī ghə̀ə̀ zǒ bɑ̄ ... mɑ̀ pó mfén ō pù'\", style='Intense Quote')\n",
        "  document.add_heading(f\"Tèmvàk mbɑ̄' {name_}\", level=1)\n",
        "\n",
        "\n",
        "  p = document.add_paragraph(\"Resulám mɑ̀mbēn ó nɑ́ mfɑ̀' mǒ\")\n",
        "  p = document.add_paragraph(text)\n",
        "\n",
        "\n",
        "\n",
        "  p.add_run('bold').bold = True\n",
        "  p.add_run(' and some ')\n",
        "  p.add_run('italic.').italic = True\n",
        "\n",
        "  \n",
        "\n",
        "  document.add_paragraph(\n",
        "      'first item in unordered list', style='List Bullet'\n",
        "  )\n",
        "  document.add_paragraph(\n",
        "      'first item in ordered list', style='List Number'\n",
        "  )\n",
        "\n",
        "  docx.shared.RGBColor(0, 100, 200)\n",
        "\n",
        "  document.add_picture('/content/resulam_logo_egg_300_px.png', width=Inches(1.25))\n",
        "\n",
        "  records = (\n",
        "      (3, '101', 'Spam'),\n",
        "      (7, '422', 'Eggs'),\n",
        "      (4, '631', 'Spam, spam, eggs, and spam')\n",
        "  )\n",
        "\n",
        "  # table = document.add_table(rows=1, cols=3)\n",
        "  # hdr_cells = table.rows[0].cells\n",
        "  # hdr_cells[0].text = 'Qty'\n",
        "  # hdr_cells[1].text = 'Id'\n",
        "  # hdr_cells[2].text = 'Desc'\n",
        "  # for qty, id, desc in records:\n",
        "  #     row_cells = table.add_row().cells\n",
        "  #     row_cells[0].text = str(qty)\n",
        "  #     row_cells[1].text = id\n",
        "  #     row_cells[2].text = desc\n",
        "  style = document.styles['Normal']\n",
        "  font = style.font\n",
        "  # document.add_page_break()\n",
        "\n",
        "  document.save(f'thank-you_{name_}.docx')"
      ]
    },
    {
      "cell_type": "code",
      "source": [
        "for name in zen:\n",
        "  print(name)\n",
        "  thank_you_message(name)"
      ],
      "metadata": {
        "colab": {
          "base_uri": "https://localhost:8080/"
        },
        "id": "Bgm_S_gA9Zb5",
        "outputId": "23ab9de7-ee2f-4454-902f-7d0e4f99ccc7"
      },
      "execution_count": null,
      "outputs": [
        {
          "output_type": "stream",
          "name": "stdout",
          "text": [
            "Tchamna(Ca᷅mnà')\n",
            "Ndə̌nkām(Deukam)\n",
            "Hɑ̄āpìì\n"
          ]
        }
      ]
    },
    {
      "cell_type": "code",
      "source": [],
      "metadata": {
        "id": "PmhrIVWqBcIF"
      },
      "execution_count": null,
      "outputs": []
    }
  ]
}